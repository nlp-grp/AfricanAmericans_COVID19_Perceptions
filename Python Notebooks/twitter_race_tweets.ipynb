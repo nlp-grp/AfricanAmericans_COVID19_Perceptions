{
 "cells": [
  {
   "cell_type": "code",
   "execution_count": 1,
   "metadata": {},
   "outputs": [],
   "source": [
    "import gzip\n",
    "import glob\n",
    "import json\n",
    "import pandas as pd\n",
    "import numpy as np"
   ]
  },
  {
   "cell_type": "code",
   "execution_count": 2,
   "metadata": {},
   "outputs": [],
   "source": [
    "path2 = '/Users/Meghna/Desktop/labels_predictions_twitter_test_images.csv'"
   ]
  },
  {
   "cell_type": "code",
   "execution_count": 3,
   "metadata": {},
   "outputs": [],
   "source": [
    "df2 = pd.read_csv(path2)"
   ]
  },
  {
   "cell_type": "code",
   "execution_count": 4,
   "metadata": {},
   "outputs": [
    {
     "data": {
      "text/html": [
       "<div>\n",
       "<style scoped>\n",
       "    .dataframe tbody tr th:only-of-type {\n",
       "        vertical-align: middle;\n",
       "    }\n",
       "\n",
       "    .dataframe tbody tr th {\n",
       "        vertical-align: top;\n",
       "    }\n",
       "\n",
       "    .dataframe thead th {\n",
       "        text-align: right;\n",
       "    }\n",
       "</style>\n",
       "<table border=\"1\" class=\"dataframe\">\n",
       "  <thead>\n",
       "    <tr style=\"text-align: right;\">\n",
       "      <th></th>\n",
       "      <th>label</th>\n",
       "      <th>prediction</th>\n",
       "      <th>Unnamed: 2</th>\n",
       "      <th>Unnamed: 3</th>\n",
       "      <th>Unnamed: 4</th>\n",
       "      <th>Unnamed: 5</th>\n",
       "      <th>Unnamed: 6</th>\n",
       "    </tr>\n",
       "  </thead>\n",
       "  <tbody>\n",
       "    <tr>\n",
       "      <th>0</th>\n",
       "      <td>5.770470e+07</td>\n",
       "      <td>0.106601</td>\n",
       "      <td>NaN</td>\n",
       "      <td>NaN</td>\n",
       "      <td>NaN</td>\n",
       "      <td>NaN</td>\n",
       "      <td>NaN</td>\n",
       "    </tr>\n",
       "    <tr>\n",
       "      <th>1</th>\n",
       "      <td>1.492350e+07</td>\n",
       "      <td>0.009944</td>\n",
       "      <td>NaN</td>\n",
       "      <td>NaN</td>\n",
       "      <td>NaN</td>\n",
       "      <td>NaN</td>\n",
       "      <td>NaN</td>\n",
       "    </tr>\n",
       "    <tr>\n",
       "      <th>2</th>\n",
       "      <td>7.033892e+17</td>\n",
       "      <td>0.144770</td>\n",
       "      <td>NaN</td>\n",
       "      <td>NaN</td>\n",
       "      <td>NaN</td>\n",
       "      <td>NaN</td>\n",
       "      <td>NaN</td>\n",
       "    </tr>\n",
       "    <tr>\n",
       "      <th>3</th>\n",
       "      <td>6.398567e+07</td>\n",
       "      <td>0.008392</td>\n",
       "      <td>NaN</td>\n",
       "      <td>NaN</td>\n",
       "      <td>NaN</td>\n",
       "      <td>NaN</td>\n",
       "      <td>NaN</td>\n",
       "    </tr>\n",
       "    <tr>\n",
       "      <th>4</th>\n",
       "      <td>1.071462e+18</td>\n",
       "      <td>0.613577</td>\n",
       "      <td>NaN</td>\n",
       "      <td>NaN</td>\n",
       "      <td>NaN</td>\n",
       "      <td>NaN</td>\n",
       "      <td>NaN</td>\n",
       "    </tr>\n",
       "  </tbody>\n",
       "</table>\n",
       "</div>"
      ],
      "text/plain": [
       "          label  prediction  Unnamed: 2  Unnamed: 3  Unnamed: 4  Unnamed: 5  \\\n",
       "0  5.770470e+07    0.106601         NaN         NaN         NaN         NaN   \n",
       "1  1.492350e+07    0.009944         NaN         NaN         NaN         NaN   \n",
       "2  7.033892e+17    0.144770         NaN         NaN         NaN         NaN   \n",
       "3  6.398567e+07    0.008392         NaN         NaN         NaN         NaN   \n",
       "4  1.071462e+18    0.613577         NaN         NaN         NaN         NaN   \n",
       "\n",
       "   Unnamed: 6  \n",
       "0         NaN  \n",
       "1         NaN  \n",
       "2         NaN  \n",
       "3         NaN  \n",
       "4         NaN  "
      ]
     },
     "execution_count": 4,
     "metadata": {},
     "output_type": "execute_result"
    }
   ],
   "source": [
    "df2.head()"
   ]
  },
  {
   "cell_type": "code",
   "execution_count": 5,
   "metadata": {},
   "outputs": [],
   "source": [
    "data_df = pd.DataFrame()"
   ]
  },
  {
   "cell_type": "code",
   "execution_count": 6,
   "metadata": {},
   "outputs": [],
   "source": [
    "data_df['label'] = df2['label']\n",
    "data_df['prediction'] = df2['prediction']"
   ]
  },
  {
   "cell_type": "code",
   "execution_count": 7,
   "metadata": {},
   "outputs": [
    {
     "data": {
      "text/html": [
       "<div>\n",
       "<style scoped>\n",
       "    .dataframe tbody tr th:only-of-type {\n",
       "        vertical-align: middle;\n",
       "    }\n",
       "\n",
       "    .dataframe tbody tr th {\n",
       "        vertical-align: top;\n",
       "    }\n",
       "\n",
       "    .dataframe thead th {\n",
       "        text-align: right;\n",
       "    }\n",
       "</style>\n",
       "<table border=\"1\" class=\"dataframe\">\n",
       "  <thead>\n",
       "    <tr style=\"text-align: right;\">\n",
       "      <th></th>\n",
       "      <th>label</th>\n",
       "      <th>prediction</th>\n",
       "    </tr>\n",
       "  </thead>\n",
       "  <tbody>\n",
       "    <tr>\n",
       "      <th>0</th>\n",
       "      <td>5.770470e+07</td>\n",
       "      <td>0.106601</td>\n",
       "    </tr>\n",
       "    <tr>\n",
       "      <th>1</th>\n",
       "      <td>1.492350e+07</td>\n",
       "      <td>0.009944</td>\n",
       "    </tr>\n",
       "    <tr>\n",
       "      <th>2</th>\n",
       "      <td>7.033892e+17</td>\n",
       "      <td>0.144770</td>\n",
       "    </tr>\n",
       "    <tr>\n",
       "      <th>3</th>\n",
       "      <td>6.398567e+07</td>\n",
       "      <td>0.008392</td>\n",
       "    </tr>\n",
       "    <tr>\n",
       "      <th>4</th>\n",
       "      <td>1.071462e+18</td>\n",
       "      <td>0.613577</td>\n",
       "    </tr>\n",
       "  </tbody>\n",
       "</table>\n",
       "</div>"
      ],
      "text/plain": [
       "          label  prediction\n",
       "0  5.770470e+07    0.106601\n",
       "1  1.492350e+07    0.009944\n",
       "2  7.033892e+17    0.144770\n",
       "3  6.398567e+07    0.008392\n",
       "4  1.071462e+18    0.613577"
      ]
     },
     "execution_count": 7,
     "metadata": {},
     "output_type": "execute_result"
    }
   ],
   "source": [
    "data_df.head()"
   ]
  },
  {
   "cell_type": "code",
   "execution_count": 8,
   "metadata": {},
   "outputs": [
    {
     "name": "stdout",
     "output_type": "stream",
     "text": [
      "[0 0 0 ... 0 1 0]\n"
     ]
    }
   ],
   "source": [
    "probas = np.array(data_df['prediction'].to_list())\n",
    "labels = (probas > 0.5).astype(np.int)\n",
    "print(labels)"
   ]
  },
  {
   "cell_type": "code",
   "execution_count": 9,
   "metadata": {},
   "outputs": [
    {
     "data": {
      "text/plain": [
       "16893"
      ]
     },
     "execution_count": 9,
     "metadata": {},
     "output_type": "execute_result"
    }
   ],
   "source": [
    "sum(labels)"
   ]
  },
  {
   "cell_type": "code",
   "execution_count": 10,
   "metadata": {},
   "outputs": [],
   "source": [
    "race_dict = {}\n",
    "races = list(labels)\n",
    "user_ids = data_df['label'].to_list()\n",
    "for i in range(len(user_ids)):\n",
    "    race_dict[int(user_ids[i])] = races[i]\n",
    "#race_dict = df.set_index('user_id').T.to_dict('str')\n",
    "twitter_race_tweets = {}"
   ]
  },
  {
   "cell_type": "code",
   "execution_count": 11,
   "metadata": {},
   "outputs": [],
   "source": [
    "#print(race_dict)"
   ]
  },
  {
   "cell_type": "code",
   "execution_count": 12,
   "metadata": {},
   "outputs": [],
   "source": [
    "path = '/Users/Meghna/Desktop/Twitter_Covid_Data/*.json.gz'\n",
    "files = glob.glob(path)"
   ]
  },
  {
   "cell_type": "code",
   "execution_count": 13,
   "metadata": {},
   "outputs": [],
   "source": [
    "df_race_tweets = pd.DataFrame()"
   ]
  },
  {
   "cell_type": "code",
   "execution_count": 14,
   "metadata": {},
   "outputs": [
    {
     "name": "stdout",
     "output_type": "stream",
     "text": [
      "Error -3 while decompressing data: invalid block type\n",
      "Faulty file  /Users/Meghna/Desktop/Twitter_Covid_Data/covid19-1607015151542.json.gz\n",
      "CRC check failed 0x8088b1f != 0xfb1bf383\n",
      "Faulty file  /Users/Meghna/Desktop/Twitter_Covid_Data/covid19-1607032511977.json.gz\n",
      "Error -3 while decompressing data: invalid block type\n",
      "Faulty file  /Users/Meghna/Desktop/Twitter_Covid_Data/covid19-1607028452380.json.gz\n",
      "CRC check failed 0x8088b1f != 0xcedc3b20\n",
      "Faulty file  /Users/Meghna/Desktop/Twitter_Covid_Data/covid19-1606757032233.json.gz\n",
      "Error -3 while decompressing data: invalid block type\n",
      "Faulty file  /Users/Meghna/Desktop/Twitter_Covid_Data/covid19-1607021468820.json.gz\n",
      "CRC check failed 0x8088b1f != 0x91876296\n",
      "Faulty file  /Users/Meghna/Desktop/Twitter_Covid_Data/covid19-1606770871554.json.gz\n",
      "Error -3 while decompressing data: invalid block type\n",
      "Faulty file  /Users/Meghna/Desktop/Twitter_Covid_Data/covid19-1606777826793.json.gz\n",
      "Error -3 while decompressing data: invalid block type\n",
      "Faulty file  /Users/Meghna/Desktop/Twitter_Covid_Data/covid19-1607028021920.json.gz\n",
      "CRC check failed 0x8088b1f != 0x1858102e\n",
      "Faulty file  /Users/Meghna/Desktop/Twitter_Covid_Data/covid19-1606787456658.json.gz\n",
      "CRC check failed 0x8088b1f != 0xd7a68856\n",
      "Faulty file  /Users/Meghna/Desktop/Twitter_Covid_Data/covid19-1607027174093.json.gz\n",
      "Error -3 while decompressing data: invalid block type\n",
      "Faulty file  /Users/Meghna/Desktop/Twitter_Covid_Data/covid19-1607269440929.json.gz\n",
      "Error -3 while decompressing data: invalid block type\n",
      "Faulty file  /Users/Meghna/Desktop/Twitter_Covid_Data/covid19-1606763403783.json.gz\n"
     ]
    }
   ],
   "source": [
    "for i in range(len(files)):\n",
    "    try:\n",
    "        with gzip.open(files[i], 'rb') as f:\n",
    "            for line in f:\n",
    "                data = json.loads(line)\n",
    "                try:\n",
    "                    uid = data['user']['id']\n",
    "                except:\n",
    "                    continue\n",
    "                if uid in race_dict.keys():\n",
    "                    twitter_race_tweets['user_id'] = uid\n",
    "                    twitter_race_tweets['race'] = race_dict[uid]\n",
    "                    if data['truncated'] == True:\n",
    "                        twitter_race_tweets['tweet'] = data['extended_tweet']['full_text']\n",
    "                    else:\n",
    "                        twitter_race_tweets['tweet'] = data['text']\n",
    "                    #json.dump(twitter_race_tweets,n)\n",
    "                    #n.write('\\n')\n",
    "                    df_race_tweets = df_race_tweets.append(twitter_race_tweets, ignore_index=True)\n",
    "                    df_race_tweets['race'] = df_race_tweets['race'].astype('int')\n",
    "                    df_race_tweets['user_id'] = df_race_tweets['user_id'].astype('int')\n",
    "                    twitter_race_tweets.clear()\n",
    "    except Exception as e:\n",
    "        print(e)\n",
    "        print(\"Faulty file \", files[i]) #some files are faulty in the retrieved dataset and do not open\n",
    "\n"
   ]
  },
  {
   "cell_type": "code",
   "execution_count": 15,
   "metadata": {},
   "outputs": [
    {
     "data": {
      "text/html": [
       "<div>\n",
       "<style scoped>\n",
       "    .dataframe tbody tr th:only-of-type {\n",
       "        vertical-align: middle;\n",
       "    }\n",
       "\n",
       "    .dataframe tbody tr th {\n",
       "        vertical-align: top;\n",
       "    }\n",
       "\n",
       "    .dataframe thead th {\n",
       "        text-align: right;\n",
       "    }\n",
       "</style>\n",
       "<table border=\"1\" class=\"dataframe\">\n",
       "  <thead>\n",
       "    <tr style=\"text-align: right;\">\n",
       "      <th></th>\n",
       "      <th>race</th>\n",
       "      <th>tweet</th>\n",
       "      <th>user_id</th>\n",
       "    </tr>\n",
       "  </thead>\n",
       "  <tbody>\n",
       "    <tr>\n",
       "      <th>0</th>\n",
       "      <td>0</td>\n",
       "      <td>And on the first day of the Colorado legislatu...</td>\n",
       "      <td>195850342</td>\n",
       "    </tr>\n",
       "    <tr>\n",
       "      <th>1</th>\n",
       "      <td>1</td>\n",
       "      <td>Everyone needs to read this. Dr. Nichols and h...</td>\n",
       "      <td>15584648</td>\n",
       "    </tr>\n",
       "    <tr>\n",
       "      <th>2</th>\n",
       "      <td>1</td>\n",
       "      <td>RT @dannygonzalez: streamys did something righ...</td>\n",
       "      <td>4908500380</td>\n",
       "    </tr>\n",
       "    <tr>\n",
       "      <th>3</th>\n",
       "      <td>0</td>\n",
       "      <td>RT @marginalmarisa: everyone who’s like “nobod...</td>\n",
       "      <td>1071998764876029952</td>\n",
       "    </tr>\n",
       "    <tr>\n",
       "      <th>4</th>\n",
       "      <td>0</td>\n",
       "      <td>“He would make outrageous claims like he inven...</td>\n",
       "      <td>50961846</td>\n",
       "    </tr>\n",
       "    <tr>\n",
       "      <th>...</th>\n",
       "      <td>...</td>\n",
       "      <td>...</td>\n",
       "      <td>...</td>\n",
       "    </tr>\n",
       "    <tr>\n",
       "      <th>146193</th>\n",
       "      <td>0</td>\n",
       "      <td>RT @deeksj: Mass testing in Liverpool MISSED ~...</td>\n",
       "      <td>262178588</td>\n",
       "    </tr>\n",
       "    <tr>\n",
       "      <th>146194</th>\n",
       "      <td>0</td>\n",
       "      <td>God Bless you Mike! 😔</td>\n",
       "      <td>1011686593</td>\n",
       "    </tr>\n",
       "    <tr>\n",
       "      <th>146195</th>\n",
       "      <td>1</td>\n",
       "      <td>RT @103blinddog: Prince Harry says, Pandemic i...</td>\n",
       "      <td>1395038046</td>\n",
       "    </tr>\n",
       "    <tr>\n",
       "      <th>146196</th>\n",
       "      <td>0</td>\n",
       "      <td>@gwenmoritz Wear a mask. Social distance. Wash...</td>\n",
       "      <td>5409072</td>\n",
       "    </tr>\n",
       "    <tr>\n",
       "      <th>146197</th>\n",
       "      <td>0</td>\n",
       "      <td>@MarkFriesen08 @Jhutch43945987 Liberal corrupt...</td>\n",
       "      <td>2762850722</td>\n",
       "    </tr>\n",
       "  </tbody>\n",
       "</table>\n",
       "<p>146198 rows × 3 columns</p>\n",
       "</div>"
      ],
      "text/plain": [
       "        race                                              tweet  \\\n",
       "0          0  And on the first day of the Colorado legislatu...   \n",
       "1          1  Everyone needs to read this. Dr. Nichols and h...   \n",
       "2          1  RT @dannygonzalez: streamys did something righ...   \n",
       "3          0  RT @marginalmarisa: everyone who’s like “nobod...   \n",
       "4          0  “He would make outrageous claims like he inven...   \n",
       "...      ...                                                ...   \n",
       "146193     0  RT @deeksj: Mass testing in Liverpool MISSED ~...   \n",
       "146194     0                              God Bless you Mike! 😔   \n",
       "146195     1  RT @103blinddog: Prince Harry says, Pandemic i...   \n",
       "146196     0  @gwenmoritz Wear a mask. Social distance. Wash...   \n",
       "146197     0  @MarkFriesen08 @Jhutch43945987 Liberal corrupt...   \n",
       "\n",
       "                    user_id  \n",
       "0                 195850342  \n",
       "1                  15584648  \n",
       "2                4908500380  \n",
       "3       1071998764876029952  \n",
       "4                  50961846  \n",
       "...                     ...  \n",
       "146193            262178588  \n",
       "146194           1011686593  \n",
       "146195           1395038046  \n",
       "146196              5409072  \n",
       "146197           2762850722  \n",
       "\n",
       "[146198 rows x 3 columns]"
      ]
     },
     "execution_count": 15,
     "metadata": {},
     "output_type": "execute_result"
    }
   ],
   "source": [
    "df_race_tweets"
   ]
  },
  {
   "cell_type": "code",
   "execution_count": 16,
   "metadata": {},
   "outputs": [],
   "source": [
    "df_race_tweets.to_csv('/Users/Meghna/Desktop/twitter_race_tweets.csv')"
   ]
  },
  {
   "cell_type": "code",
   "execution_count": null,
   "metadata": {},
   "outputs": [],
   "source": []
  }
 ],
 "metadata": {
  "kernelspec": {
   "display_name": "Python 3",
   "language": "python",
   "name": "python3"
  },
  "language_info": {
   "codemirror_mode": {
    "name": "ipython",
    "version": 3
   },
   "file_extension": ".py",
   "mimetype": "text/x-python",
   "name": "python",
   "nbconvert_exporter": "python",
   "pygments_lexer": "ipython3",
   "version": "3.7.4"
  }
 },
 "nbformat": 4,
 "nbformat_minor": 2
}
