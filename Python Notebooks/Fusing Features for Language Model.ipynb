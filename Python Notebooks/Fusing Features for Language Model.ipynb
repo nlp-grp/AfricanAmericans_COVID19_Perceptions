{
 "cells": [
  {
   "cell_type": "code",
   "execution_count": 241,
   "metadata": {},
   "outputs": [
    {
     "name": "stderr",
     "output_type": "stream",
     "text": [
      "[nltk_data] Downloading package stopwords to\n",
      "[nltk_data]     /Users/Meghna/nltk_data...\n",
      "[nltk_data]   Package stopwords is already up-to-date!\n"
     ]
    }
   ],
   "source": [
    "import string\n",
    "import re\n",
    "import os\n",
    "import nltk\n",
    "import pandas as pd\n",
    "import numpy as np\n",
    "import json\n",
    "import glob\n",
    "import gzip\n",
    "import tensorflow as tf\n",
    "from tensorflow import keras\n",
    "import time\n",
    "\n",
    "import matplotlib.pyplot as plt\n",
    "\n",
    "SEED = 1013\n",
    "np.random.seed(SEED)\n",
    "\n",
    "from sklearn.metrics import classification_report\n",
    "from sklearn.model_selection import train_test_split\n",
    "from tensorflow.keras import Model\n",
    "from sklearn.model_selection import StratifiedKFold\n",
    "from sklearn.feature_extraction.text import CountVectorizer\n",
    "from sklearn.feature_extraction.text import TfidfVectorizer\n",
    "\n",
    "\n",
    "import pandas as pd \n",
    "import numpy as np \n",
    "from keras.preprocessing.sequence import pad_sequences\n",
    "from sklearn.metrics import classification_report\n",
    "\n",
    "from sklearn.model_selection import train_test_split\n",
    "from sklearn.model_selection import GridSearchCV\n",
    "from sklearn.metrics import classification_report\n",
    "from sklearn.svm import SVC\n",
    "from sklearn.metrics import confusion_matrix\n",
    "from sklearn.metrics import accuracy_score\n",
    "from scipy import sparse\n",
    "import os\n",
    "import pickle\n",
    "import emoji\n",
    "from wordcloud import WordCloud\n",
    "\n",
    "from nltk.corpus import stopwords\n",
    "from nltk.stem import PorterStemmer\n",
    "from nltk.tokenize import TweetTokenizer\n",
    "#nltk.download('stopwords')\n",
    "#nltk.download('punkt')\n",
    "from nltk.util import ngrams\n",
    "\n",
    "nltk.download('stopwords')\n",
    "from nltk.corpus import stopwords\n",
    "from nltk.tokenize import TweetTokenizer\n",
    "from nltk.tokenize import word_tokenize, sent_tokenize\n",
    "stop_words = set(stopwords.words('english'))"
   ]
  },
  {
   "cell_type": "code",
   "execution_count": 242,
   "metadata": {},
   "outputs": [],
   "source": [
    "import collections\n",
    "df = pd.read_csv('/Users/Meghna/Desktop/human_annotated_black_tweets.csv')\n",
    "dff = pd.read_csv('/Users/Meghna/Desktop/human_annotated_black_tweets2.csv')\n",
    "dfff = pd.read_csv('/Users/Meghna/Desktop/human_annotated_nonblack_tweets.csv')"
   ]
  },
  {
   "cell_type": "code",
   "execution_count": 243,
   "metadata": {},
   "outputs": [],
   "source": [
    "races = df['race'].to_list() + dff['race'].to_list() + dfff['race'].to_list()\n",
    "tweets = df['tweet'].to_list() + dff['tweet'].to_list() + dfff['tweet'].to_list()"
   ]
  },
  {
   "cell_type": "code",
   "execution_count": 244,
   "metadata": {},
   "outputs": [],
   "source": [
    "train_corpus,test_corpus,train_labels,test_labels = train_test_split(tweets,races,stratify=races,test_size=0.25,random_state=1)"
   ]
  },
  {
   "cell_type": "code",
   "execution_count": 245,
   "metadata": {},
   "outputs": [],
   "source": [
    "# races_for_fasttext = []\n",
    "# for race in new_races:\n",
    "#     if race == str(0):\n",
    "#         races_for_fasttext.append('__label__others')\n",
    "#     else:\n",
    "#         races_for_fasttext.append('__label__aa')"
   ]
  },
  {
   "cell_type": "code",
   "execution_count": 246,
   "metadata": {},
   "outputs": [],
   "source": [
    "plt.style.use('fivethirtyeight')\n",
    "\n",
    "%matplotlib inline\n",
    "%config InlineBackend.figure_format = 'retina'\n",
    "\n",
    "import re\n",
    "from bs4 import BeautifulSoup\n",
    "from nltk.tokenize import WordPunctTokenizer\n",
    "tok = WordPunctTokenizer()\n",
    "\n",
    "pat1 = r'@[A-Za-z0-9_]+' #remove mentions\n",
    "pat2 = r'https?://[^ ]+' #remove hyperlinks\n",
    "combined_pat = r'|'.join((pat1, pat2))\n",
    "www_pat = r'www.[^ ]+'\n",
    "negations_dic = {\"isn't\":\"is not\", \"aren't\":\"are not\", \"wasn't\":\"was not\", \"weren't\":\"were not\",\n",
    "                \"haven't\":\"have not\",\"hasn't\":\"has not\",\"hadn't\":\"had not\",\"won't\":\"will not\",\n",
    "                \"wouldn't\":\"would not\", \"don't\":\"do not\", \"doesn't\":\"does not\",\"didn't\":\"did not\",\n",
    "                \"can't\":\"can not\",\"couldn't\":\"could not\",\"shouldn't\":\"should not\",\"mightn't\":\"might not\",\n",
    "                \"mustn't\":\"must not\"}\n",
    "neg_pattern = re.compile(r'\\b(' + '|'.join(negations_dic.keys()) + r')\\b')\n",
    "\n",
    "def tweet_cleaner_updated(text):\n",
    "    soup = BeautifulSoup(text, 'lxml') # remove html tags\n",
    "    souped = soup.get_text()\n",
    "    try:\n",
    "        bom_removed = souped.decode(\"utf-8-sig\").replace(u\"\\ufffd\", \"?\") #remove byte order marks\n",
    "    except:\n",
    "        bom_removed = souped\n",
    "    stripped = re.sub(combined_pat, '', bom_removed)\n",
    "    stripped = re.sub(www_pat, '', stripped)\n",
    "    stripped = re.sub(r'\\@w+','',stripped)\n",
    "    lower_case = stripped.lower()\n",
    "    lower_case = emoji.demojize(lower_case, language='en')\n",
    "    neg_handled = neg_pattern.sub(lambda x: negations_dic[x.group()], lower_case)\n",
    "    letters_only = re.sub(\"[^a-zA-Z]\", \" \", neg_handled) #remove hashtag\n",
    "    # During the letters_only process two lines above, it has created unnecessay white spaces,\n",
    "    # I will tokenize and join together to remove unneccessary white spaces\n",
    "    words = [x for x  in tok.tokenize(letters_only) if len(x) > 1]\n",
    "    return (\" \".join(words)).strip()"
   ]
  },
  {
   "cell_type": "code",
   "execution_count": 247,
   "metadata": {},
   "outputs": [],
   "source": [
    "cleaned_tweets = []\n",
    "for tweet in train_corpus:\n",
    "    cleaned_tweets.append(tweet_cleaner_updated(tweet))"
   ]
  },
  {
   "cell_type": "code",
   "execution_count": 49,
   "metadata": {},
   "outputs": [],
   "source": [
    "uncleaned_tweets_test = test_corpus"
   ]
  },
  {
   "cell_type": "code",
   "execution_count": 249,
   "metadata": {},
   "outputs": [],
   "source": [
    "# use it when using data augmentation - EDA\n",
    "with open('/Users/Meghna/Desktop/train_for_eda_human_annotated.txt','a') as file:\n",
    "    for i in range(len(cleaned_tweets)):\n",
    "        line = str(train_labels[i]) + '\\t' + cleaned_tweets[i]\n",
    "        file.write(line)\n",
    "        file.write('\\n')"
   ]
  },
  {
   "cell_type": "code",
   "execution_count": 251,
   "metadata": {},
   "outputs": [],
   "source": [
    "# use it when using data augmentation - EDA\n",
    "new_races = []\n",
    "train_tweets = []\n",
    "\n",
    "with open(r'/Users/Meghna/Desktop/eda_train_for_eda_human_annotated.txt', 'r') as f:\n",
    "    lines = f.readlines()\n",
    "    for line in lines:\n",
    "        race, tweet = line.split('\\t')\n",
    "        new_races.append(race)\n",
    "        train_tweets.append(tweet.rstrip())"
   ]
  },
  {
   "cell_type": "code",
   "execution_count": 252,
   "metadata": {},
   "outputs": [],
   "source": [
    "cleaned_tweets_test = []\n",
    "for tweet in test_corpus:\n",
    "    cleaned_tweets_test.append(tweet_cleaner_updated(tweet))"
   ]
  },
  {
   "cell_type": "code",
   "execution_count": 51,
   "metadata": {},
   "outputs": [],
   "source": [
    "def tweet_cleaner_updated2(text):\n",
    "    soup = BeautifulSoup(text, 'lxml') # remove html tags\n",
    "    souped = soup.get_text()\n",
    "    try:\n",
    "        bom_removed = souped.decode(\"utf-8-sig\").replace(u\"\\ufffd\", \"?\") #remove byte order marks\n",
    "    except:\n",
    "        bom_removed = souped\n",
    "    stripped = re.sub(combined_pat, '', bom_removed)\n",
    "    stripped = re.sub(www_pat, '', stripped)\n",
    "    stripped = re.sub(r'\\@w+','',stripped)\n",
    "    return stripped"
   ]
  },
  {
   "cell_type": "code",
   "execution_count": 52,
   "metadata": {},
   "outputs": [],
   "source": [
    "uncleaned_tweets = []\n",
    "for tweet in train_corpus:\n",
    "    uncleaned_tweets.append(tweet_cleaner_updated2(tweet))"
   ]
  },
  {
   "cell_type": "code",
   "execution_count": 53,
   "metadata": {},
   "outputs": [],
   "source": [
    "uncleaned_tweets_test = []\n",
    "for tweet in test_corpus:\n",
    "    uncleaned_tweets_test.append(tweet_cleaner_updated2(tweet))"
   ]
  },
  {
   "cell_type": "code",
   "execution_count": 54,
   "metadata": {},
   "outputs": [],
   "source": [
    "from advertools.emoji import extract_emoji\n",
    "uncleaned_count_emoji = []\n",
    "for tweet in uncleaned_tweets:\n",
    "    count = 0\n",
    "    for i in range(len(extract_emoji(tweet)['emoji_flat_text'])):\n",
    "        count += 1\n",
    "    uncleaned_count_emoji.append(count)"
   ]
  },
  {
   "cell_type": "code",
   "execution_count": 64,
   "metadata": {},
   "outputs": [],
   "source": [
    "uncleaned_count_emoji_test = []\n",
    "for tweet in uncleaned_tweets_test:\n",
    "    count = 0\n",
    "    for i in range(len(extract_emoji(tweet)['emoji_flat_text'])):\n",
    "        count += 1\n",
    "    uncleaned_count_emoji_test.append(count)"
   ]
  },
  {
   "cell_type": "code",
   "execution_count": 55,
   "metadata": {},
   "outputs": [],
   "source": [
    "count_punctuation = lambda l1,l2: sum([1 for x in l1 if x in l2])\n",
    "uncleaned_count_puncts = []\n",
    "for tweet in uncleaned_tweets:\n",
    "    uncleaned_count_puncts.append(count_punctuation(tweet,set(string.punctuation)))"
   ]
  },
  {
   "cell_type": "code",
   "execution_count": 65,
   "metadata": {},
   "outputs": [],
   "source": [
    "uncleaned_count_puncts_test = []\n",
    "for tweet in uncleaned_tweets_test:\n",
    "    uncleaned_count_puncts_test.append(count_punctuation(tweet,set(string.punctuation)))"
   ]
  },
  {
   "cell_type": "code",
   "execution_count": 253,
   "metadata": {},
   "outputs": [],
   "source": [
    "pos_code_map={'CC':'A','CD':'B','DT':'C','EX':'D','FW':'E','IN':'F','JJ':'G','JJR':'H','JJS':'I','LS':'J','MD':'K','NN':'L','NNS':'M',\n",
    "'NNP':'N','NNPS':'O','PDT':'P','POS':'Q','PRP':'R','PRP$':'S','RB':'T','RBR':'U','RBS':'V','RP':'W','SYM':'X','TO':'Y','UH':'Z',\n",
    "'VB':'1','VBD':'2','VBG':'3','VBN':'4','VBP':'5','VBZ':'6','WDT':'7','WP':'8','WP$':'9','WRB':'@'}\n",
    "\n",
    "code_pos_map = {v: k for k, v in  pos_code_map.items()}"
   ]
  },
  {
   "cell_type": "code",
   "execution_count": 254,
   "metadata": {},
   "outputs": [],
   "source": [
    "#abbrivation converters\n",
    "def convert(tag):\n",
    "    try:\n",
    "        code=pos_code_map[tag]\n",
    "    except:\n",
    "        code='?'\n",
    "    return code\n",
    "def inv_convert(code):\n",
    "    try:\n",
    "        tag=code_pos_map[code]\n",
    "    except:\n",
    "        tag='?'\n",
    "    return tag"
   ]
  },
  {
   "cell_type": "code",
   "execution_count": 255,
   "metadata": {},
   "outputs": [],
   "source": [
    "#POS tag converting\n",
    "import nltk\n",
    "from nltk.tokenize import RegexpTokenizer\n",
    "from nltk import pos_tag, word_tokenize\n",
    "def pos_tags(text):\n",
    "    tokenizer = RegexpTokenizer(r'\\w+')\n",
    "    text_processed=tokenizer.tokenize(text)\n",
    "    return \"\".join(convert(tag) for (word, tag) in nltk.pos_tag(text_processed))\n",
    "def text_pos_inv_convert(text):\n",
    "    return \"-\".join(inv_convert(c.upper()) for c in text)"
   ]
  },
  {
   "cell_type": "code",
   "execution_count": 59,
   "metadata": {},
   "outputs": [],
   "source": [
    "pos_for_tweets = []\n",
    "for tweet in cleaned_tweets:\n",
    "    text_pos = lambda x: pos_tags(tweet)\n",
    "    pos_for_tweets.append(text_pos(tweet))"
   ]
  },
  {
   "cell_type": "code",
   "execution_count": 257,
   "metadata": {},
   "outputs": [],
   "source": [
    "# use it when using data augmentation - EDA\n",
    "pos_for_tweets = []\n",
    "for tweet in train_tweets:\n",
    "    text_pos = lambda x: pos_tags(tweet)\n",
    "    pos_for_tweets.append(text_pos(tweet))"
   ]
  },
  {
   "cell_type": "code",
   "execution_count": 258,
   "metadata": {},
   "outputs": [],
   "source": [
    "pos_for_tweets_test = []\n",
    "for tweet in cleaned_tweets_test:\n",
    "    text_pos = lambda x: pos_tags(tweet)\n",
    "    pos_for_tweets_test.append(text_pos(tweet))"
   ]
  },
  {
   "cell_type": "code",
   "execution_count": 259,
   "metadata": {},
   "outputs": [],
   "source": [
    "from sklearn.feature_extraction.text import CountVectorizer\n",
    "#v = CountVectorizer(analyzer='char',ngram_range=(1, 3))\n",
    "\n",
    "v = TfidfVectorizer(stop_words = 'english', analyzer='char',ngram_range=(1, 1))\n",
    "ngrams = v.fit_transform(pos_for_tweets)\n",
    "ngrams_val = v.transform(pos_for_tweets_test)"
   ]
  },
  {
   "cell_type": "code",
   "execution_count": 261,
   "metadata": {},
   "outputs": [],
   "source": [
    "t = TfidfVectorizer(stop_words = 'english',max_features=10000,ngram_range=(1, 1))\n",
    "tfidf_train = t.fit_transform(cleaned_tweets)\n",
    "\n",
    "\n",
    "# use it when using data augmentation - EDA\n",
    "#tfidf_train = t.fit_transform(train_tweets)\n",
    "\n",
    "tfidf_val = t.transform(cleaned_tweets_test)\n",
    "\n",
    "\n"
   ]
  },
  {
   "cell_type": "code",
   "execution_count": 63,
   "metadata": {},
   "outputs": [
    {
     "name": "stdout",
     "output_type": "stream",
     "text": [
      "<class 'scipy.sparse.csr.csr_matrix'>\n"
     ]
    }
   ],
   "source": [
    "print(type(tfidf_train))"
   ]
  },
  {
   "cell_type": "code",
   "execution_count": 66,
   "metadata": {},
   "outputs": [],
   "source": [
    "from scipy import sparse"
   ]
  },
  {
   "cell_type": "code",
   "execution_count": 67,
   "metadata": {},
   "outputs": [],
   "source": [
    "uncleaned_count_emoji_arr = np.array(uncleaned_count_emoji)\n",
    "uncleaned_count_emoji_test_arr = np.array(uncleaned_count_emoji_test)\n",
    "uncleaned_count_puncts_arr = np.array(uncleaned_count_puncts)\n",
    "uncleaned_count_puncts_test_arr = np.array(uncleaned_count_puncts_test)"
   ]
  },
  {
   "cell_type": "code",
   "execution_count": 94,
   "metadata": {},
   "outputs": [],
   "source": [
    "uncleaned_count_emoji_arr = uncleaned_count_emoji_arr.reshape(5116,1)"
   ]
  },
  {
   "cell_type": "code",
   "execution_count": 95,
   "metadata": {},
   "outputs": [],
   "source": [
    "uncleaned_count_puncts_arr = uncleaned_count_puncts_arr.reshape(5116,1)"
   ]
  },
  {
   "cell_type": "code",
   "execution_count": 96,
   "metadata": {},
   "outputs": [],
   "source": [
    "uncleaned_count_emoji_test_arr = uncleaned_count_emoji_test_arr.reshape(1706,1)\n",
    "uncleaned_count_puncts_test_arr = uncleaned_count_puncts_test_arr.reshape(1706,1)"
   ]
  },
  {
   "cell_type": "code",
   "execution_count": 97,
   "metadata": {},
   "outputs": [],
   "source": [
    "uncleaned_count_emoji_matrix = sparse.csr_matrix(uncleaned_count_emoji_arr)\n",
    "uncleaned_count_emoji_test_matrix = sparse.csr_matrix(uncleaned_count_emoji_test_arr)\n",
    "uncleaned_count_puncts_matrix = sparse.csr_matrix(uncleaned_count_puncts_arr)\n",
    "uncleaned_count_puncts_test_matrix = sparse.csr_matrix(uncleaned_count_puncts_test_arr)"
   ]
  },
  {
   "cell_type": "code",
   "execution_count": 98,
   "metadata": {},
   "outputs": [
    {
     "data": {
      "text/plain": [
       "(5116, 10000)"
      ]
     },
     "execution_count": 98,
     "metadata": {},
     "output_type": "execute_result"
    }
   ],
   "source": [
    "tfidf_train.shape"
   ]
  },
  {
   "cell_type": "code",
   "execution_count": 99,
   "metadata": {},
   "outputs": [
    {
     "data": {
      "text/plain": [
       "(5116, 1)"
      ]
     },
     "execution_count": 99,
     "metadata": {},
     "output_type": "execute_result"
    }
   ],
   "source": [
    "uncleaned_count_emoji_matrix.shape"
   ]
  },
  {
   "cell_type": "code",
   "execution_count": 262,
   "metadata": {},
   "outputs": [],
   "source": [
    "from scipy.sparse import hstack\n",
    "train_train = hstack((tfidf_train,ngrams))\n",
    "test_test = hstack((tfidf_val,ngrams_val))"
   ]
  },
  {
   "cell_type": "code",
   "execution_count": 266,
   "metadata": {},
   "outputs": [],
   "source": [
    "new_racess= []\n",
    "for race in new_races:\n",
    "    new_racess.append(int(race))\n",
    "    "
   ]
  },
  {
   "cell_type": "code",
   "execution_count": 268,
   "metadata": {},
   "outputs": [
    {
     "data": {
      "text/plain": [
       "0.6424384525205158"
      ]
     },
     "execution_count": 268,
     "metadata": {},
     "output_type": "execute_result"
    }
   ],
   "source": [
    "from sklearn.svm import SVC\n",
    "\n",
    "#clf2 = SVC(random_state=0).fit(train_train, train_labels)\n",
    "\n",
    "# use it when using data augmentation - EDA\n",
    "clf2 = SVC(random_state=0).fit(train_train, new_racess)\n",
    "\n",
    "y_pred = clf2.predict(test_test)\n",
    "accuracy = accuracy_score(test_labels, y_pred)\n",
    "accuracy"
   ]
  },
  {
   "cell_type": "code",
   "execution_count": 145,
   "metadata": {},
   "outputs": [],
   "source": [
    "from tqdm import tqdm\n",
    "tqdm.pandas(desc=\"progress-bar\")\n",
    "from gensim.models import Doc2Vec\n",
    "from gensim.models.doc2vec import TaggedDocument\n",
    "import multiprocessing\n",
    "from sklearn import utils\n",
    "\n",
    "# train_array = train_train.toarray()\n",
    "# test_array = test_test.toarray()\n",
    "\n",
    "\n",
    "x_train1 = pd.Series(cleaned_tweets)\n",
    "x_val1 = pd.Series(cleaned_tweets_test)\n",
    "# x_test_s1 = pd.Series(x_test)\n",
    "# x_test_s2 = pd.Series(x_test2)\n",
    "indexes = [i for i in range(5116)]\n",
    "def labelize_tweets_ug(tweets,label):\n",
    "    result = []\n",
    "    prefix = label\n",
    "    for i, t in zip(indexes, tweets):\n",
    "        result.append(TaggedDocument(t.split(), [prefix + '_%s' % i]))\n",
    "    return result\n",
    "all_x = pd.concat([x_train1,x_val1])\n",
    "all_x_w2v = labelize_tweets_ug(all_x, 'all')"
   ]
  },
  {
   "cell_type": "code",
   "execution_count": 146,
   "metadata": {},
   "outputs": [
    {
     "data": {
      "text/plain": [
       "5116"
      ]
     },
     "execution_count": 146,
     "metadata": {},
     "output_type": "execute_result"
    }
   ],
   "source": [
    "len(all_x_w2v)"
   ]
  },
  {
   "cell_type": "code",
   "execution_count": 147,
   "metadata": {},
   "outputs": [
    {
     "name": "stderr",
     "output_type": "stream",
     "text": [
      "2021-08-15 13:59:01,013 | INFO | utils.py:448 | add_lifecycle_event | Doc2Vec lifecycle event {'params': 'Doc2Vec(dbow,d100,n5,mc2,s0.001,t3)', 'datetime': '2021-08-15T13:59:01.012928', 'gensim': '4.0.1', 'python': '3.7.4 (default, Aug 13 2019, 15:17:50) \\n[Clang 4.0.1 (tags/RELEASE_401/final)]', 'platform': 'Darwin-19.6.0-x86_64-i386-64bit', 'event': 'created'}\n",
      "100%|██████████| 5116/5116 [00:00<00:00, 2616836.50it/s]\n",
      "2021-08-15 13:59:01,023 | INFO | doc2vec.py:1032 | scan_vocab | collecting all words and their counts\n",
      "2021-08-15 13:59:01,024 | INFO | doc2vec.py:951 | _scan_vocab | PROGRESS: at example #0, processed 0 words (0/s), 0 word types, 0 tags\n",
      "2021-08-15 13:59:01,082 | INFO | doc2vec.py:1040 | scan_vocab | collected 11564 word types and 5116 unique tags from a corpus of 5116 examples and 118319 words\n",
      "2021-08-15 13:59:01,083 | INFO | word2vec.py:626 | prepare_vocab | Creating a fresh vocabulary\n",
      "2021-08-15 13:59:01,106 | INFO | utils.py:448 | add_lifecycle_event | Doc2Vec lifecycle event {'msg': 'effective_min_count=2 retains 5702 unique words (49.308197855413354%% of original 11564, drops 5862)', 'datetime': '2021-08-15T13:59:01.106373', 'gensim': '4.0.1', 'python': '3.7.4 (default, Aug 13 2019, 15:17:50) \\n[Clang 4.0.1 (tags/RELEASE_401/final)]', 'platform': 'Darwin-19.6.0-x86_64-i386-64bit', 'event': 'prepare_vocab'}\n",
      "2021-08-15 13:59:01,107 | INFO | utils.py:448 | add_lifecycle_event | Doc2Vec lifecycle event {'msg': 'effective_min_count=2 leaves 112457 word corpus (95.04559707232144%% of original 118319, drops 5862)', 'datetime': '2021-08-15T13:59:01.107446', 'gensim': '4.0.1', 'python': '3.7.4 (default, Aug 13 2019, 15:17:50) \\n[Clang 4.0.1 (tags/RELEASE_401/final)]', 'platform': 'Darwin-19.6.0-x86_64-i386-64bit', 'event': 'prepare_vocab'}\n",
      "2021-08-15 13:59:01,153 | INFO | word2vec.py:734 | prepare_vocab | deleting the raw counts dictionary of 11564 items\n",
      "2021-08-15 13:59:01,154 | INFO | word2vec.py:737 | prepare_vocab | sample=0.001 downsamples 53 most-common words\n",
      "2021-08-15 13:59:01,155 | INFO | utils.py:448 | add_lifecycle_event | Doc2Vec lifecycle event {'msg': 'downsampling leaves estimated 87992.56376216558 word corpus (78.2%% of prior 112457)', 'datetime': '2021-08-15T13:59:01.155389', 'gensim': '4.0.1', 'python': '3.7.4 (default, Aug 13 2019, 15:17:50) \\n[Clang 4.0.1 (tags/RELEASE_401/final)]', 'platform': 'Darwin-19.6.0-x86_64-i386-64bit', 'event': 'prepare_vocab'}\n",
      "2021-08-15 13:59:01,227 | INFO | word2vec.py:796 | estimate_memory | estimated required memory for 5702 words and 100 dimensions: 10482200 bytes\n",
      "2021-08-15 13:59:01,228 | INFO | word2vec.py:852 | init_weights | resetting layer weights\n"
     ]
    }
   ],
   "source": [
    "model_ug_dbow = Doc2Vec(dm=0, vector_size=100, negative=5, min_count=2, alpha=0.065, min_alpha=0.065)\n",
    "model_ug_dbow.build_vocab([x for x in tqdm(all_x_w2v)])"
   ]
  },
  {
   "cell_type": "code",
   "execution_count": 148,
   "metadata": {},
   "outputs": [
    {
     "name": "stderr",
     "output_type": "stream",
     "text": [
      "100%|██████████| 5116/5116 [00:00<00:00, 3308875.75it/s]\n",
      "2021-08-15 13:59:02,172 | INFO | utils.py:448 | add_lifecycle_event | Doc2Vec lifecycle event {'msg': 'training model with 3 workers on 5702 vocabulary and 100 features, using sg=1 hs=0 sample=0.001 negative=5 window=5', 'datetime': '2021-08-15T13:59:02.172869', 'gensim': '4.0.1', 'python': '3.7.4 (default, Aug 13 2019, 15:17:50) \\n[Clang 4.0.1 (tags/RELEASE_401/final)]', 'platform': 'Darwin-19.6.0-x86_64-i386-64bit', 'event': 'train'}\n",
      "2021-08-15 13:59:02,329 | INFO | word2vec.py:1281 | _log_epoch_progress | worker thread finished; awaiting finish of 2 more threads\n",
      "2021-08-15 13:59:02,330 | INFO | word2vec.py:1281 | _log_epoch_progress | worker thread finished; awaiting finish of 1 more threads\n",
      "2021-08-15 13:59:02,332 | INFO | word2vec.py:1281 | _log_epoch_progress | worker thread finished; awaiting finish of 0 more threads\n",
      "2021-08-15 13:59:02,333 | INFO | word2vec.py:1624 | _log_epoch_end | EPOCH - 1 : training on 118319 raw words (93040 effective words) took 0.2s, 600249 effective words/s\n",
      "2021-08-15 13:59:02,333 | INFO | utils.py:448 | add_lifecycle_event | Doc2Vec lifecycle event {'msg': 'training on 118319 raw words (93040 effective words) took 0.2s, 581880 effective words/s', 'datetime': '2021-08-15T13:59:02.333510', 'gensim': '4.0.1', 'python': '3.7.4 (default, Aug 13 2019, 15:17:50) \\n[Clang 4.0.1 (tags/RELEASE_401/final)]', 'platform': 'Darwin-19.6.0-x86_64-i386-64bit', 'event': 'train'}\n",
      "100%|██████████| 5116/5116 [00:00<00:00, 3428900.49it/s]\n",
      "2021-08-15 13:59:02,338 | INFO | utils.py:448 | add_lifecycle_event | Doc2Vec lifecycle event {'msg': 'training model with 3 workers on 5702 vocabulary and 100 features, using sg=1 hs=0 sample=0.001 negative=5 window=5', 'datetime': '2021-08-15T13:59:02.338399', 'gensim': '4.0.1', 'python': '3.7.4 (default, Aug 13 2019, 15:17:50) \\n[Clang 4.0.1 (tags/RELEASE_401/final)]', 'platform': 'Darwin-19.6.0-x86_64-i386-64bit', 'event': 'train'}\n",
      "2021-08-15 13:59:02,473 | INFO | word2vec.py:1281 | _log_epoch_progress | worker thread finished; awaiting finish of 2 more threads\n",
      "2021-08-15 13:59:02,477 | INFO | word2vec.py:1281 | _log_epoch_progress | worker thread finished; awaiting finish of 1 more threads\n",
      "2021-08-15 13:59:02,479 | INFO | word2vec.py:1281 | _log_epoch_progress | worker thread finished; awaiting finish of 0 more threads\n",
      "2021-08-15 13:59:02,480 | INFO | word2vec.py:1624 | _log_epoch_end | EPOCH - 1 : training on 118319 raw words (93058 effective words) took 0.1s, 679219 effective words/s\n",
      "2021-08-15 13:59:02,480 | INFO | utils.py:448 | add_lifecycle_event | Doc2Vec lifecycle event {'msg': 'training on 118319 raw words (93058 effective words) took 0.1s, 656021 effective words/s', 'datetime': '2021-08-15T13:59:02.480899', 'gensim': '4.0.1', 'python': '3.7.4 (default, Aug 13 2019, 15:17:50) \\n[Clang 4.0.1 (tags/RELEASE_401/final)]', 'platform': 'Darwin-19.6.0-x86_64-i386-64bit', 'event': 'train'}\n",
      "100%|██████████| 5116/5116 [00:00<00:00, 3610036.89it/s]\n",
      "2021-08-15 13:59:02,485 | INFO | utils.py:448 | add_lifecycle_event | Doc2Vec lifecycle event {'msg': 'training model with 3 workers on 5702 vocabulary and 100 features, using sg=1 hs=0 sample=0.001 negative=5 window=5', 'datetime': '2021-08-15T13:59:02.485785', 'gensim': '4.0.1', 'python': '3.7.4 (default, Aug 13 2019, 15:17:50) \\n[Clang 4.0.1 (tags/RELEASE_401/final)]', 'platform': 'Darwin-19.6.0-x86_64-i386-64bit', 'event': 'train'}\n",
      "2021-08-15 13:59:02,620 | INFO | word2vec.py:1281 | _log_epoch_progress | worker thread finished; awaiting finish of 2 more threads\n",
      "2021-08-15 13:59:02,625 | INFO | word2vec.py:1281 | _log_epoch_progress | worker thread finished; awaiting finish of 1 more threads\n",
      "2021-08-15 13:59:02,626 | INFO | word2vec.py:1281 | _log_epoch_progress | worker thread finished; awaiting finish of 0 more threads\n",
      "2021-08-15 13:59:02,626 | INFO | word2vec.py:1624 | _log_epoch_end | EPOCH - 1 : training on 118319 raw words (93017 effective words) took 0.1s, 682246 effective words/s\n",
      "2021-08-15 13:59:02,627 | INFO | utils.py:448 | add_lifecycle_event | Doc2Vec lifecycle event {'msg': 'training on 118319 raw words (93017 effective words) took 0.1s, 659946 effective words/s', 'datetime': '2021-08-15T13:59:02.627433', 'gensim': '4.0.1', 'python': '3.7.4 (default, Aug 13 2019, 15:17:50) \\n[Clang 4.0.1 (tags/RELEASE_401/final)]', 'platform': 'Darwin-19.6.0-x86_64-i386-64bit', 'event': 'train'}\n",
      "100%|██████████| 5116/5116 [00:00<00:00, 3590706.03it/s]\n",
      "2021-08-15 13:59:02,632 | INFO | utils.py:448 | add_lifecycle_event | Doc2Vec lifecycle event {'msg': 'training model with 3 workers on 5702 vocabulary and 100 features, using sg=1 hs=0 sample=0.001 negative=5 window=5', 'datetime': '2021-08-15T13:59:02.632360', 'gensim': '4.0.1', 'python': '3.7.4 (default, Aug 13 2019, 15:17:50) \\n[Clang 4.0.1 (tags/RELEASE_401/final)]', 'platform': 'Darwin-19.6.0-x86_64-i386-64bit', 'event': 'train'}\n",
      "2021-08-15 13:59:02,774 | INFO | word2vec.py:1281 | _log_epoch_progress | worker thread finished; awaiting finish of 2 more threads\n",
      "2021-08-15 13:59:02,777 | INFO | word2vec.py:1281 | _log_epoch_progress | worker thread finished; awaiting finish of 1 more threads\n",
      "2021-08-15 13:59:02,779 | INFO | word2vec.py:1281 | _log_epoch_progress | worker thread finished; awaiting finish of 0 more threads\n",
      "2021-08-15 13:59:02,779 | INFO | word2vec.py:1624 | _log_epoch_end | EPOCH - 1 : training on 118319 raw words (93104 effective words) took 0.1s, 661784 effective words/s\n",
      "2021-08-15 13:59:02,780 | INFO | utils.py:448 | add_lifecycle_event | Doc2Vec lifecycle event {'msg': 'training on 118319 raw words (93104 effective words) took 0.1s, 633225 effective words/s', 'datetime': '2021-08-15T13:59:02.780102', 'gensim': '4.0.1', 'python': '3.7.4 (default, Aug 13 2019, 15:17:50) \\n[Clang 4.0.1 (tags/RELEASE_401/final)]', 'platform': 'Darwin-19.6.0-x86_64-i386-64bit', 'event': 'train'}\n",
      "100%|██████████| 5116/5116 [00:00<00:00, 3522912.37it/s]\n",
      "2021-08-15 13:59:02,784 | INFO | utils.py:448 | add_lifecycle_event | Doc2Vec lifecycle event {'msg': 'training model with 3 workers on 5702 vocabulary and 100 features, using sg=1 hs=0 sample=0.001 negative=5 window=5', 'datetime': '2021-08-15T13:59:02.784787', 'gensim': '4.0.1', 'python': '3.7.4 (default, Aug 13 2019, 15:17:50) \\n[Clang 4.0.1 (tags/RELEASE_401/final)]', 'platform': 'Darwin-19.6.0-x86_64-i386-64bit', 'event': 'train'}\n",
      "2021-08-15 13:59:02,926 | INFO | word2vec.py:1281 | _log_epoch_progress | worker thread finished; awaiting finish of 2 more threads\n",
      "2021-08-15 13:59:02,929 | INFO | word2vec.py:1281 | _log_epoch_progress | worker thread finished; awaiting finish of 1 more threads\n",
      "2021-08-15 13:59:02,931 | INFO | word2vec.py:1281 | _log_epoch_progress | worker thread finished; awaiting finish of 0 more threads\n",
      "2021-08-15 13:59:02,932 | INFO | word2vec.py:1624 | _log_epoch_end | EPOCH - 1 : training on 118319 raw words (93064 effective words) took 0.1s, 655046 effective words/s\n",
      "2021-08-15 13:59:02,932 | INFO | utils.py:448 | add_lifecycle_event | Doc2Vec lifecycle event {'msg': 'training on 118319 raw words (93064 effective words) took 0.1s, 632153 effective words/s', 'datetime': '2021-08-15T13:59:02.932761', 'gensim': '4.0.1', 'python': '3.7.4 (default, Aug 13 2019, 15:17:50) \\n[Clang 4.0.1 (tags/RELEASE_401/final)]', 'platform': 'Darwin-19.6.0-x86_64-i386-64bit', 'event': 'train'}\n",
      "100%|██████████| 5116/5116 [00:00<00:00, 3572175.67it/s]\n",
      "2021-08-15 13:59:02,937 | INFO | utils.py:448 | add_lifecycle_event | Doc2Vec lifecycle event {'msg': 'training model with 3 workers on 5702 vocabulary and 100 features, using sg=1 hs=0 sample=0.001 negative=5 window=5', 'datetime': '2021-08-15T13:59:02.937418', 'gensim': '4.0.1', 'python': '3.7.4 (default, Aug 13 2019, 15:17:50) \\n[Clang 4.0.1 (tags/RELEASE_401/final)]', 'platform': 'Darwin-19.6.0-x86_64-i386-64bit', 'event': 'train'}\n",
      "2021-08-15 13:59:03,074 | INFO | word2vec.py:1281 | _log_epoch_progress | worker thread finished; awaiting finish of 2 more threads\n",
      "2021-08-15 13:59:03,080 | INFO | word2vec.py:1281 | _log_epoch_progress | worker thread finished; awaiting finish of 1 more threads\n",
      "2021-08-15 13:59:03,082 | INFO | word2vec.py:1281 | _log_epoch_progress | worker thread finished; awaiting finish of 0 more threads\n"
     ]
    },
    {
     "name": "stderr",
     "output_type": "stream",
     "text": [
      "2021-08-15 13:59:03,083 | INFO | word2vec.py:1624 | _log_epoch_end | EPOCH - 1 : training on 118319 raw words (93202 effective words) took 0.1s, 659984 effective words/s\n",
      "2021-08-15 13:59:03,083 | INFO | utils.py:448 | add_lifecycle_event | Doc2Vec lifecycle event {'msg': 'training on 118319 raw words (93202 effective words) took 0.1s, 641154 effective words/s', 'datetime': '2021-08-15T13:59:03.083503', 'gensim': '4.0.1', 'python': '3.7.4 (default, Aug 13 2019, 15:17:50) \\n[Clang 4.0.1 (tags/RELEASE_401/final)]', 'platform': 'Darwin-19.6.0-x86_64-i386-64bit', 'event': 'train'}\n",
      "100%|██████████| 5116/5116 [00:00<00:00, 3394725.40it/s]\n",
      "2021-08-15 13:59:03,088 | INFO | utils.py:448 | add_lifecycle_event | Doc2Vec lifecycle event {'msg': 'training model with 3 workers on 5702 vocabulary and 100 features, using sg=1 hs=0 sample=0.001 negative=5 window=5', 'datetime': '2021-08-15T13:59:03.088197', 'gensim': '4.0.1', 'python': '3.7.4 (default, Aug 13 2019, 15:17:50) \\n[Clang 4.0.1 (tags/RELEASE_401/final)]', 'platform': 'Darwin-19.6.0-x86_64-i386-64bit', 'event': 'train'}\n",
      "2021-08-15 13:59:03,243 | INFO | word2vec.py:1281 | _log_epoch_progress | worker thread finished; awaiting finish of 2 more threads\n",
      "2021-08-15 13:59:03,245 | INFO | word2vec.py:1281 | _log_epoch_progress | worker thread finished; awaiting finish of 1 more threads\n",
      "2021-08-15 13:59:03,248 | INFO | word2vec.py:1281 | _log_epoch_progress | worker thread finished; awaiting finish of 0 more threads\n",
      "2021-08-15 13:59:03,248 | INFO | word2vec.py:1624 | _log_epoch_end | EPOCH - 1 : training on 118319 raw words (93153 effective words) took 0.2s, 607426 effective words/s\n",
      "2021-08-15 13:59:03,249 | INFO | utils.py:448 | add_lifecycle_event | Doc2Vec lifecycle event {'msg': 'training on 118319 raw words (93153 effective words) took 0.2s, 581331 effective words/s', 'datetime': '2021-08-15T13:59:03.249125', 'gensim': '4.0.1', 'python': '3.7.4 (default, Aug 13 2019, 15:17:50) \\n[Clang 4.0.1 (tags/RELEASE_401/final)]', 'platform': 'Darwin-19.6.0-x86_64-i386-64bit', 'event': 'train'}\n",
      "100%|██████████| 5116/5116 [00:00<00:00, 3550307.62it/s]\n",
      "2021-08-15 13:59:03,254 | INFO | utils.py:448 | add_lifecycle_event | Doc2Vec lifecycle event {'msg': 'training model with 3 workers on 5702 vocabulary and 100 features, using sg=1 hs=0 sample=0.001 negative=5 window=5', 'datetime': '2021-08-15T13:59:03.254073', 'gensim': '4.0.1', 'python': '3.7.4 (default, Aug 13 2019, 15:17:50) \\n[Clang 4.0.1 (tags/RELEASE_401/final)]', 'platform': 'Darwin-19.6.0-x86_64-i386-64bit', 'event': 'train'}\n",
      "2021-08-15 13:59:03,388 | INFO | word2vec.py:1281 | _log_epoch_progress | worker thread finished; awaiting finish of 2 more threads\n",
      "2021-08-15 13:59:03,389 | INFO | word2vec.py:1281 | _log_epoch_progress | worker thread finished; awaiting finish of 1 more threads\n",
      "2021-08-15 13:59:03,391 | INFO | word2vec.py:1281 | _log_epoch_progress | worker thread finished; awaiting finish of 0 more threads\n",
      "2021-08-15 13:59:03,392 | INFO | word2vec.py:1624 | _log_epoch_end | EPOCH - 1 : training on 118319 raw words (92905 effective words) took 0.1s, 693735 effective words/s\n",
      "2021-08-15 13:59:03,392 | INFO | utils.py:448 | add_lifecycle_event | Doc2Vec lifecycle event {'msg': 'training on 118319 raw words (92905 effective words) took 0.1s, 672329 effective words/s', 'datetime': '2021-08-15T13:59:03.392885', 'gensim': '4.0.1', 'python': '3.7.4 (default, Aug 13 2019, 15:17:50) \\n[Clang 4.0.1 (tags/RELEASE_401/final)]', 'platform': 'Darwin-19.6.0-x86_64-i386-64bit', 'event': 'train'}\n",
      "100%|██████████| 5116/5116 [00:00<00:00, 3560321.76it/s]\n",
      "2021-08-15 13:59:03,397 | INFO | utils.py:448 | add_lifecycle_event | Doc2Vec lifecycle event {'msg': 'training model with 3 workers on 5702 vocabulary and 100 features, using sg=1 hs=0 sample=0.001 negative=5 window=5', 'datetime': '2021-08-15T13:59:03.397718', 'gensim': '4.0.1', 'python': '3.7.4 (default, Aug 13 2019, 15:17:50) \\n[Clang 4.0.1 (tags/RELEASE_401/final)]', 'platform': 'Darwin-19.6.0-x86_64-i386-64bit', 'event': 'train'}\n",
      "2021-08-15 13:59:03,542 | INFO | word2vec.py:1281 | _log_epoch_progress | worker thread finished; awaiting finish of 2 more threads\n",
      "2021-08-15 13:59:03,545 | INFO | word2vec.py:1281 | _log_epoch_progress | worker thread finished; awaiting finish of 1 more threads\n",
      "2021-08-15 13:59:03,547 | INFO | word2vec.py:1281 | _log_epoch_progress | worker thread finished; awaiting finish of 0 more threads\n",
      "2021-08-15 13:59:03,547 | INFO | word2vec.py:1624 | _log_epoch_end | EPOCH - 1 : training on 118319 raw words (92986 effective words) took 0.1s, 640015 effective words/s\n",
      "2021-08-15 13:59:03,548 | INFO | utils.py:448 | add_lifecycle_event | Doc2Vec lifecycle event {'msg': 'training on 118319 raw words (92986 effective words) took 0.1s, 621567 effective words/s', 'datetime': '2021-08-15T13:59:03.548092', 'gensim': '4.0.1', 'python': '3.7.4 (default, Aug 13 2019, 15:17:50) \\n[Clang 4.0.1 (tags/RELEASE_401/final)]', 'platform': 'Darwin-19.6.0-x86_64-i386-64bit', 'event': 'train'}\n",
      "100%|██████████| 5116/5116 [00:00<00:00, 3617339.73it/s]\n",
      "2021-08-15 13:59:03,552 | INFO | utils.py:448 | add_lifecycle_event | Doc2Vec lifecycle event {'msg': 'training model with 3 workers on 5702 vocabulary and 100 features, using sg=1 hs=0 sample=0.001 negative=5 window=5', 'datetime': '2021-08-15T13:59:03.552661', 'gensim': '4.0.1', 'python': '3.7.4 (default, Aug 13 2019, 15:17:50) \\n[Clang 4.0.1 (tags/RELEASE_401/final)]', 'platform': 'Darwin-19.6.0-x86_64-i386-64bit', 'event': 'train'}\n",
      "2021-08-15 13:59:03,694 | INFO | word2vec.py:1281 | _log_epoch_progress | worker thread finished; awaiting finish of 2 more threads\n",
      "2021-08-15 13:59:03,699 | INFO | word2vec.py:1281 | _log_epoch_progress | worker thread finished; awaiting finish of 1 more threads\n",
      "2021-08-15 13:59:03,701 | INFO | word2vec.py:1281 | _log_epoch_progress | worker thread finished; awaiting finish of 0 more threads\n",
      "2021-08-15 13:59:03,701 | INFO | word2vec.py:1624 | _log_epoch_end | EPOCH - 1 : training on 118319 raw words (93174 effective words) took 0.1s, 651021 effective words/s\n",
      "2021-08-15 13:59:03,702 | INFO | utils.py:448 | add_lifecycle_event | Doc2Vec lifecycle event {'msg': 'training on 118319 raw words (93174 effective words) took 0.1s, 626356 effective words/s', 'datetime': '2021-08-15T13:59:03.702229', 'gensim': '4.0.1', 'python': '3.7.4 (default, Aug 13 2019, 15:17:50) \\n[Clang 4.0.1 (tags/RELEASE_401/final)]', 'platform': 'Darwin-19.6.0-x86_64-i386-64bit', 'event': 'train'}\n",
      "100%|██████████| 5116/5116 [00:00<00:00, 3535100.37it/s]\n",
      "2021-08-15 13:59:03,707 | INFO | utils.py:448 | add_lifecycle_event | Doc2Vec lifecycle event {'msg': 'training model with 3 workers on 5702 vocabulary and 100 features, using sg=1 hs=0 sample=0.001 negative=5 window=5', 'datetime': '2021-08-15T13:59:03.707291', 'gensim': '4.0.1', 'python': '3.7.4 (default, Aug 13 2019, 15:17:50) \\n[Clang 4.0.1 (tags/RELEASE_401/final)]', 'platform': 'Darwin-19.6.0-x86_64-i386-64bit', 'event': 'train'}\n",
      "2021-08-15 13:59:03,853 | INFO | word2vec.py:1281 | _log_epoch_progress | worker thread finished; awaiting finish of 2 more threads\n",
      "2021-08-15 13:59:03,855 | INFO | word2vec.py:1281 | _log_epoch_progress | worker thread finished; awaiting finish of 1 more threads\n",
      "2021-08-15 13:59:03,858 | INFO | word2vec.py:1281 | _log_epoch_progress | worker thread finished; awaiting finish of 0 more threads\n",
      "2021-08-15 13:59:03,858 | INFO | word2vec.py:1624 | _log_epoch_end | EPOCH - 1 : training on 118319 raw words (93149 effective words) took 0.1s, 636298 effective words/s\n",
      "2021-08-15 13:59:03,859 | INFO | utils.py:448 | add_lifecycle_event | Doc2Vec lifecycle event {'msg': 'training on 118319 raw words (93149 effective words) took 0.2s, 616579 effective words/s', 'datetime': '2021-08-15T13:59:03.859209', 'gensim': '4.0.1', 'python': '3.7.4 (default, Aug 13 2019, 15:17:50) \\n[Clang 4.0.1 (tags/RELEASE_401/final)]', 'platform': 'Darwin-19.6.0-x86_64-i386-64bit', 'event': 'train'}\n",
      "100%|██████████| 5116/5116 [00:00<00:00, 3431093.58it/s]\n",
      "2021-08-15 13:59:03,863 | INFO | utils.py:448 | add_lifecycle_event | Doc2Vec lifecycle event {'msg': 'training model with 3 workers on 5702 vocabulary and 100 features, using sg=1 hs=0 sample=0.001 negative=5 window=5', 'datetime': '2021-08-15T13:59:03.863950', 'gensim': '4.0.1', 'python': '3.7.4 (default, Aug 13 2019, 15:17:50) \\n[Clang 4.0.1 (tags/RELEASE_401/final)]', 'platform': 'Darwin-19.6.0-x86_64-i386-64bit', 'event': 'train'}\n"
     ]
    },
    {
     "name": "stderr",
     "output_type": "stream",
     "text": [
      "2021-08-15 13:59:04,006 | INFO | word2vec.py:1281 | _log_epoch_progress | worker thread finished; awaiting finish of 2 more threads\n",
      "2021-08-15 13:59:04,008 | INFO | word2vec.py:1281 | _log_epoch_progress | worker thread finished; awaiting finish of 1 more threads\n",
      "2021-08-15 13:59:04,010 | INFO | word2vec.py:1281 | _log_epoch_progress | worker thread finished; awaiting finish of 0 more threads\n",
      "2021-08-15 13:59:04,011 | INFO | word2vec.py:1624 | _log_epoch_end | EPOCH - 1 : training on 118319 raw words (92946 effective words) took 0.1s, 652798 effective words/s\n",
      "2021-08-15 13:59:04,011 | INFO | utils.py:448 | add_lifecycle_event | Doc2Vec lifecycle event {'msg': 'training on 118319 raw words (92946 effective words) took 0.1s, 631176 effective words/s', 'datetime': '2021-08-15T13:59:04.011847', 'gensim': '4.0.1', 'python': '3.7.4 (default, Aug 13 2019, 15:17:50) \\n[Clang 4.0.1 (tags/RELEASE_401/final)]', 'platform': 'Darwin-19.6.0-x86_64-i386-64bit', 'event': 'train'}\n",
      "100%|██████████| 5116/5116 [00:00<00:00, 3350204.41it/s]\n",
      "2021-08-15 13:59:04,017 | INFO | utils.py:448 | add_lifecycle_event | Doc2Vec lifecycle event {'msg': 'training model with 3 workers on 5702 vocabulary and 100 features, using sg=1 hs=0 sample=0.001 negative=5 window=5', 'datetime': '2021-08-15T13:59:04.017327', 'gensim': '4.0.1', 'python': '3.7.4 (default, Aug 13 2019, 15:17:50) \\n[Clang 4.0.1 (tags/RELEASE_401/final)]', 'platform': 'Darwin-19.6.0-x86_64-i386-64bit', 'event': 'train'}\n",
      "2021-08-15 13:59:04,173 | INFO | word2vec.py:1281 | _log_epoch_progress | worker thread finished; awaiting finish of 2 more threads\n",
      "2021-08-15 13:59:04,177 | INFO | word2vec.py:1281 | _log_epoch_progress | worker thread finished; awaiting finish of 1 more threads\n",
      "2021-08-15 13:59:04,181 | INFO | word2vec.py:1281 | _log_epoch_progress | worker thread finished; awaiting finish of 0 more threads\n",
      "2021-08-15 13:59:04,182 | INFO | word2vec.py:1624 | _log_epoch_end | EPOCH - 1 : training on 118319 raw words (93111 effective words) took 0.2s, 582139 effective words/s\n",
      "2021-08-15 13:59:04,182 | INFO | utils.py:448 | add_lifecycle_event | Doc2Vec lifecycle event {'msg': 'training on 118319 raw words (93111 effective words) took 0.2s, 564641 effective words/s', 'datetime': '2021-08-15T13:59:04.182973', 'gensim': '4.0.1', 'python': '3.7.4 (default, Aug 13 2019, 15:17:50) \\n[Clang 4.0.1 (tags/RELEASE_401/final)]', 'platform': 'Darwin-19.6.0-x86_64-i386-64bit', 'event': 'train'}\n",
      "100%|██████████| 5116/5116 [00:00<00:00, 3269052.29it/s]\n",
      "2021-08-15 13:59:04,193 | INFO | utils.py:448 | add_lifecycle_event | Doc2Vec lifecycle event {'msg': 'training model with 3 workers on 5702 vocabulary and 100 features, using sg=1 hs=0 sample=0.001 negative=5 window=5', 'datetime': '2021-08-15T13:59:04.193101', 'gensim': '4.0.1', 'python': '3.7.4 (default, Aug 13 2019, 15:17:50) \\n[Clang 4.0.1 (tags/RELEASE_401/final)]', 'platform': 'Darwin-19.6.0-x86_64-i386-64bit', 'event': 'train'}\n",
      "2021-08-15 13:59:04,357 | INFO | word2vec.py:1281 | _log_epoch_progress | worker thread finished; awaiting finish of 2 more threads\n",
      "2021-08-15 13:59:04,361 | INFO | word2vec.py:1281 | _log_epoch_progress | worker thread finished; awaiting finish of 1 more threads\n",
      "2021-08-15 13:59:04,363 | INFO | word2vec.py:1281 | _log_epoch_progress | worker thread finished; awaiting finish of 0 more threads\n",
      "2021-08-15 13:59:04,363 | INFO | word2vec.py:1624 | _log_epoch_end | EPOCH - 1 : training on 118319 raw words (93055 effective words) took 0.2s, 569254 effective words/s\n",
      "2021-08-15 13:59:04,364 | INFO | utils.py:448 | add_lifecycle_event | Doc2Vec lifecycle event {'msg': 'training on 118319 raw words (93055 effective words) took 0.2s, 551243 effective words/s', 'datetime': '2021-08-15T13:59:04.364126', 'gensim': '4.0.1', 'python': '3.7.4 (default, Aug 13 2019, 15:17:50) \\n[Clang 4.0.1 (tags/RELEASE_401/final)]', 'platform': 'Darwin-19.6.0-x86_64-i386-64bit', 'event': 'train'}\n",
      "100%|██████████| 5116/5116 [00:00<00:00, 3419611.04it/s]\n",
      "2021-08-15 13:59:04,368 | INFO | utils.py:448 | add_lifecycle_event | Doc2Vec lifecycle event {'msg': 'training model with 3 workers on 5702 vocabulary and 100 features, using sg=1 hs=0 sample=0.001 negative=5 window=5', 'datetime': '2021-08-15T13:59:04.368817', 'gensim': '4.0.1', 'python': '3.7.4 (default, Aug 13 2019, 15:17:50) \\n[Clang 4.0.1 (tags/RELEASE_401/final)]', 'platform': 'Darwin-19.6.0-x86_64-i386-64bit', 'event': 'train'}\n",
      "2021-08-15 13:59:04,517 | INFO | word2vec.py:1281 | _log_epoch_progress | worker thread finished; awaiting finish of 2 more threads\n",
      "2021-08-15 13:59:04,519 | INFO | word2vec.py:1281 | _log_epoch_progress | worker thread finished; awaiting finish of 1 more threads\n",
      "2021-08-15 13:59:04,520 | INFO | word2vec.py:1281 | _log_epoch_progress | worker thread finished; awaiting finish of 0 more threads\n",
      "2021-08-15 13:59:04,521 | INFO | word2vec.py:1624 | _log_epoch_end | EPOCH - 1 : training on 118319 raw words (93122 effective words) took 0.1s, 637790 effective words/s\n",
      "2021-08-15 13:59:04,521 | INFO | utils.py:448 | add_lifecycle_event | Doc2Vec lifecycle event {'msg': 'training on 118319 raw words (93122 effective words) took 0.2s, 616070 effective words/s', 'datetime': '2021-08-15T13:59:04.521885', 'gensim': '4.0.1', 'python': '3.7.4 (default, Aug 13 2019, 15:17:50) \\n[Clang 4.0.1 (tags/RELEASE_401/final)]', 'platform': 'Darwin-19.6.0-x86_64-i386-64bit', 'event': 'train'}\n",
      "100%|██████████| 5116/5116 [00:00<00:00, 3494228.83it/s]\n",
      "2021-08-15 13:59:04,526 | INFO | utils.py:448 | add_lifecycle_event | Doc2Vec lifecycle event {'msg': 'training model with 3 workers on 5702 vocabulary and 100 features, using sg=1 hs=0 sample=0.001 negative=5 window=5', 'datetime': '2021-08-15T13:59:04.526619', 'gensim': '4.0.1', 'python': '3.7.4 (default, Aug 13 2019, 15:17:50) \\n[Clang 4.0.1 (tags/RELEASE_401/final)]', 'platform': 'Darwin-19.6.0-x86_64-i386-64bit', 'event': 'train'}\n",
      "2021-08-15 13:59:04,673 | INFO | word2vec.py:1281 | _log_epoch_progress | worker thread finished; awaiting finish of 2 more threads\n",
      "2021-08-15 13:59:04,676 | INFO | word2vec.py:1281 | _log_epoch_progress | worker thread finished; awaiting finish of 1 more threads\n",
      "2021-08-15 13:59:04,678 | INFO | word2vec.py:1281 | _log_epoch_progress | worker thread finished; awaiting finish of 0 more threads\n",
      "2021-08-15 13:59:04,678 | INFO | word2vec.py:1624 | _log_epoch_end | EPOCH - 1 : training on 118319 raw words (93204 effective words) took 0.1s, 633996 effective words/s\n",
      "2021-08-15 13:59:04,679 | INFO | utils.py:448 | add_lifecycle_event | Doc2Vec lifecycle event {'msg': 'training on 118319 raw words (93204 effective words) took 0.2s, 614165 effective words/s', 'datetime': '2021-08-15T13:59:04.679226', 'gensim': '4.0.1', 'python': '3.7.4 (default, Aug 13 2019, 15:17:50) \\n[Clang 4.0.1 (tags/RELEASE_401/final)]', 'platform': 'Darwin-19.6.0-x86_64-i386-64bit', 'event': 'train'}\n",
      "100%|██████████| 5116/5116 [00:00<00:00, 3363859.42it/s]\n",
      "2021-08-15 13:59:04,684 | INFO | utils.py:448 | add_lifecycle_event | Doc2Vec lifecycle event {'msg': 'training model with 3 workers on 5702 vocabulary and 100 features, using sg=1 hs=0 sample=0.001 negative=5 window=5', 'datetime': '2021-08-15T13:59:04.684746', 'gensim': '4.0.1', 'python': '3.7.4 (default, Aug 13 2019, 15:17:50) \\n[Clang 4.0.1 (tags/RELEASE_401/final)]', 'platform': 'Darwin-19.6.0-x86_64-i386-64bit', 'event': 'train'}\n",
      "2021-08-15 13:59:04,828 | INFO | word2vec.py:1281 | _log_epoch_progress | worker thread finished; awaiting finish of 2 more threads\n",
      "2021-08-15 13:59:04,833 | INFO | word2vec.py:1281 | _log_epoch_progress | worker thread finished; awaiting finish of 1 more threads\n",
      "2021-08-15 13:59:04,835 | INFO | word2vec.py:1281 | _log_epoch_progress | worker thread finished; awaiting finish of 0 more threads\n",
      "2021-08-15 13:59:04,836 | INFO | word2vec.py:1624 | _log_epoch_end | EPOCH - 1 : training on 118319 raw words (93190 effective words) took 0.1s, 641346 effective words/s\n",
      "2021-08-15 13:59:04,836 | INFO | utils.py:448 | add_lifecycle_event | Doc2Vec lifecycle event {'msg': 'training on 118319 raw words (93190 effective words) took 0.2s, 616681 effective words/s', 'datetime': '2021-08-15T13:59:04.836539', 'gensim': '4.0.1', 'python': '3.7.4 (default, Aug 13 2019, 15:17:50) \\n[Clang 4.0.1 (tags/RELEASE_401/final)]', 'platform': 'Darwin-19.6.0-x86_64-i386-64bit', 'event': 'train'}\n"
     ]
    },
    {
     "name": "stderr",
     "output_type": "stream",
     "text": [
      "100%|██████████| 5116/5116 [00:00<00:00, 3518291.40it/s]\n",
      "2021-08-15 13:59:04,841 | INFO | utils.py:448 | add_lifecycle_event | Doc2Vec lifecycle event {'msg': 'training model with 3 workers on 5702 vocabulary and 100 features, using sg=1 hs=0 sample=0.001 negative=5 window=5', 'datetime': '2021-08-15T13:59:04.841199', 'gensim': '4.0.1', 'python': '3.7.4 (default, Aug 13 2019, 15:17:50) \\n[Clang 4.0.1 (tags/RELEASE_401/final)]', 'platform': 'Darwin-19.6.0-x86_64-i386-64bit', 'event': 'train'}\n",
      "2021-08-15 13:59:04,978 | INFO | word2vec.py:1281 | _log_epoch_progress | worker thread finished; awaiting finish of 2 more threads\n",
      "2021-08-15 13:59:04,981 | INFO | word2vec.py:1281 | _log_epoch_progress | worker thread finished; awaiting finish of 1 more threads\n",
      "2021-08-15 13:59:04,983 | INFO | word2vec.py:1281 | _log_epoch_progress | worker thread finished; awaiting finish of 0 more threads\n",
      "2021-08-15 13:59:04,984 | INFO | word2vec.py:1624 | _log_epoch_end | EPOCH - 1 : training on 118319 raw words (92999 effective words) took 0.1s, 672554 effective words/s\n",
      "2021-08-15 13:59:04,984 | INFO | utils.py:448 | add_lifecycle_event | Doc2Vec lifecycle event {'msg': 'training on 118319 raw words (92999 effective words) took 0.1s, 651402 effective words/s', 'datetime': '2021-08-15T13:59:04.984744', 'gensim': '4.0.1', 'python': '3.7.4 (default, Aug 13 2019, 15:17:50) \\n[Clang 4.0.1 (tags/RELEASE_401/final)]', 'platform': 'Darwin-19.6.0-x86_64-i386-64bit', 'event': 'train'}\n",
      "100%|██████████| 5116/5116 [00:00<00:00, 3281550.58it/s]\n",
      "2021-08-15 13:59:04,989 | INFO | utils.py:448 | add_lifecycle_event | Doc2Vec lifecycle event {'msg': 'training model with 3 workers on 5702 vocabulary and 100 features, using sg=1 hs=0 sample=0.001 negative=5 window=5', 'datetime': '2021-08-15T13:59:04.989535', 'gensim': '4.0.1', 'python': '3.7.4 (default, Aug 13 2019, 15:17:50) \\n[Clang 4.0.1 (tags/RELEASE_401/final)]', 'platform': 'Darwin-19.6.0-x86_64-i386-64bit', 'event': 'train'}\n",
      "2021-08-15 13:59:05,130 | INFO | word2vec.py:1281 | _log_epoch_progress | worker thread finished; awaiting finish of 2 more threads\n",
      "2021-08-15 13:59:05,136 | INFO | word2vec.py:1281 | _log_epoch_progress | worker thread finished; awaiting finish of 1 more threads\n",
      "2021-08-15 13:59:05,137 | INFO | word2vec.py:1281 | _log_epoch_progress | worker thread finished; awaiting finish of 0 more threads\n",
      "2021-08-15 13:59:05,137 | INFO | word2vec.py:1624 | _log_epoch_end | EPOCH - 1 : training on 118319 raw words (93152 effective words) took 0.1s, 657779 effective words/s\n",
      "2021-08-15 13:59:05,138 | INFO | utils.py:448 | add_lifecycle_event | Doc2Vec lifecycle event {'msg': 'training on 118319 raw words (93152 effective words) took 0.1s, 629398 effective words/s', 'datetime': '2021-08-15T13:59:05.138291', 'gensim': '4.0.1', 'python': '3.7.4 (default, Aug 13 2019, 15:17:50) \\n[Clang 4.0.1 (tags/RELEASE_401/final)]', 'platform': 'Darwin-19.6.0-x86_64-i386-64bit', 'event': 'train'}\n",
      "100%|██████████| 5116/5116 [00:00<00:00, 3296168.86it/s]\n",
      "2021-08-15 13:59:05,143 | INFO | utils.py:448 | add_lifecycle_event | Doc2Vec lifecycle event {'msg': 'training model with 3 workers on 5702 vocabulary and 100 features, using sg=1 hs=0 sample=0.001 negative=5 window=5', 'datetime': '2021-08-15T13:59:05.143396', 'gensim': '4.0.1', 'python': '3.7.4 (default, Aug 13 2019, 15:17:50) \\n[Clang 4.0.1 (tags/RELEASE_401/final)]', 'platform': 'Darwin-19.6.0-x86_64-i386-64bit', 'event': 'train'}\n",
      "2021-08-15 13:59:05,293 | INFO | word2vec.py:1281 | _log_epoch_progress | worker thread finished; awaiting finish of 2 more threads\n",
      "2021-08-15 13:59:05,294 | INFO | word2vec.py:1281 | _log_epoch_progress | worker thread finished; awaiting finish of 1 more threads\n",
      "2021-08-15 13:59:05,295 | INFO | word2vec.py:1281 | _log_epoch_progress | worker thread finished; awaiting finish of 0 more threads\n",
      "2021-08-15 13:59:05,296 | INFO | word2vec.py:1624 | _log_epoch_end | EPOCH - 1 : training on 118319 raw words (93198 effective words) took 0.1s, 627943 effective words/s\n",
      "2021-08-15 13:59:05,297 | INFO | utils.py:448 | add_lifecycle_event | Doc2Vec lifecycle event {'msg': 'training on 118319 raw words (93198 effective words) took 0.2s, 606635 effective words/s', 'datetime': '2021-08-15T13:59:05.297685', 'gensim': '4.0.1', 'python': '3.7.4 (default, Aug 13 2019, 15:17:50) \\n[Clang 4.0.1 (tags/RELEASE_401/final)]', 'platform': 'Darwin-19.6.0-x86_64-i386-64bit', 'event': 'train'}\n",
      "100%|██████████| 5116/5116 [00:00<00:00, 3528125.50it/s]\n",
      "2021-08-15 13:59:05,302 | INFO | utils.py:448 | add_lifecycle_event | Doc2Vec lifecycle event {'msg': 'training model with 3 workers on 5702 vocabulary and 100 features, using sg=1 hs=0 sample=0.001 negative=5 window=5', 'datetime': '2021-08-15T13:59:05.302315', 'gensim': '4.0.1', 'python': '3.7.4 (default, Aug 13 2019, 15:17:50) \\n[Clang 4.0.1 (tags/RELEASE_401/final)]', 'platform': 'Darwin-19.6.0-x86_64-i386-64bit', 'event': 'train'}\n",
      "2021-08-15 13:59:05,442 | INFO | word2vec.py:1281 | _log_epoch_progress | worker thread finished; awaiting finish of 2 more threads\n",
      "2021-08-15 13:59:05,445 | INFO | word2vec.py:1281 | _log_epoch_progress | worker thread finished; awaiting finish of 1 more threads\n",
      "2021-08-15 13:59:05,448 | INFO | word2vec.py:1281 | _log_epoch_progress | worker thread finished; awaiting finish of 0 more threads\n",
      "2021-08-15 13:59:05,448 | INFO | word2vec.py:1624 | _log_epoch_end | EPOCH - 1 : training on 118319 raw words (93184 effective words) took 0.1s, 653605 effective words/s\n",
      "2021-08-15 13:59:05,449 | INFO | utils.py:448 | add_lifecycle_event | Doc2Vec lifecycle event {'msg': 'training on 118319 raw words (93184 effective words) took 0.1s, 636292 effective words/s', 'datetime': '2021-08-15T13:59:05.449408', 'gensim': '4.0.1', 'python': '3.7.4 (default, Aug 13 2019, 15:17:50) \\n[Clang 4.0.1 (tags/RELEASE_401/final)]', 'platform': 'Darwin-19.6.0-x86_64-i386-64bit', 'event': 'train'}\n",
      "100%|██████████| 5116/5116 [00:00<00:00, 3547959.53it/s]\n",
      "2021-08-15 13:59:05,454 | INFO | utils.py:448 | add_lifecycle_event | Doc2Vec lifecycle event {'msg': 'training model with 3 workers on 5702 vocabulary and 100 features, using sg=1 hs=0 sample=0.001 negative=5 window=5', 'datetime': '2021-08-15T13:59:05.454153', 'gensim': '4.0.1', 'python': '3.7.4 (default, Aug 13 2019, 15:17:50) \\n[Clang 4.0.1 (tags/RELEASE_401/final)]', 'platform': 'Darwin-19.6.0-x86_64-i386-64bit', 'event': 'train'}\n",
      "2021-08-15 13:59:05,597 | INFO | word2vec.py:1281 | _log_epoch_progress | worker thread finished; awaiting finish of 2 more threads\n",
      "2021-08-15 13:59:05,599 | INFO | word2vec.py:1281 | _log_epoch_progress | worker thread finished; awaiting finish of 1 more threads\n",
      "2021-08-15 13:59:05,602 | INFO | word2vec.py:1281 | _log_epoch_progress | worker thread finished; awaiting finish of 0 more threads\n",
      "2021-08-15 13:59:05,603 | INFO | word2vec.py:1624 | _log_epoch_end | EPOCH - 1 : training on 118319 raw words (93186 effective words) took 0.1s, 645279 effective words/s\n",
      "2021-08-15 13:59:05,604 | INFO | utils.py:448 | add_lifecycle_event | Doc2Vec lifecycle event {'msg': 'training on 118319 raw words (93186 effective words) took 0.1s, 624351 effective words/s', 'datetime': '2021-08-15T13:59:05.604075', 'gensim': '4.0.1', 'python': '3.7.4 (default, Aug 13 2019, 15:17:50) \\n[Clang 4.0.1 (tags/RELEASE_401/final)]', 'platform': 'Darwin-19.6.0-x86_64-i386-64bit', 'event': 'train'}\n",
      "100%|██████████| 5116/5116 [00:00<00:00, 3626509.93it/s]\n",
      "2021-08-15 13:59:05,609 | INFO | utils.py:448 | add_lifecycle_event | Doc2Vec lifecycle event {'msg': 'training model with 3 workers on 5702 vocabulary and 100 features, using sg=1 hs=0 sample=0.001 negative=5 window=5', 'datetime': '2021-08-15T13:59:05.609170', 'gensim': '4.0.1', 'python': '3.7.4 (default, Aug 13 2019, 15:17:50) \\n[Clang 4.0.1 (tags/RELEASE_401/final)]', 'platform': 'Darwin-19.6.0-x86_64-i386-64bit', 'event': 'train'}\n",
      "2021-08-15 13:59:05,755 | INFO | word2vec.py:1281 | _log_epoch_progress | worker thread finished; awaiting finish of 2 more threads\n",
      "2021-08-15 13:59:05,757 | INFO | word2vec.py:1281 | _log_epoch_progress | worker thread finished; awaiting finish of 1 more threads\n",
      "2021-08-15 13:59:05,759 | INFO | word2vec.py:1281 | _log_epoch_progress | worker thread finished; awaiting finish of 0 more threads\n"
     ]
    },
    {
     "name": "stderr",
     "output_type": "stream",
     "text": [
      "2021-08-15 13:59:05,760 | INFO | word2vec.py:1624 | _log_epoch_end | EPOCH - 1 : training on 118319 raw words (93089 effective words) took 0.1s, 636300 effective words/s\n",
      "2021-08-15 13:59:05,761 | INFO | utils.py:448 | add_lifecycle_event | Doc2Vec lifecycle event {'msg': 'training on 118319 raw words (93089 effective words) took 0.2s, 614471 effective words/s', 'datetime': '2021-08-15T13:59:05.761541', 'gensim': '4.0.1', 'python': '3.7.4 (default, Aug 13 2019, 15:17:50) \\n[Clang 4.0.1 (tags/RELEASE_401/final)]', 'platform': 'Darwin-19.6.0-x86_64-i386-64bit', 'event': 'train'}\n",
      "100%|██████████| 5116/5116 [00:00<00:00, 3605184.69it/s]\n",
      "2021-08-15 13:59:05,766 | INFO | utils.py:448 | add_lifecycle_event | Doc2Vec lifecycle event {'msg': 'training model with 3 workers on 5702 vocabulary and 100 features, using sg=1 hs=0 sample=0.001 negative=5 window=5', 'datetime': '2021-08-15T13:59:05.766061', 'gensim': '4.0.1', 'python': '3.7.4 (default, Aug 13 2019, 15:17:50) \\n[Clang 4.0.1 (tags/RELEASE_401/final)]', 'platform': 'Darwin-19.6.0-x86_64-i386-64bit', 'event': 'train'}\n",
      "2021-08-15 13:59:05,912 | INFO | word2vec.py:1281 | _log_epoch_progress | worker thread finished; awaiting finish of 2 more threads\n",
      "2021-08-15 13:59:05,914 | INFO | word2vec.py:1281 | _log_epoch_progress | worker thread finished; awaiting finish of 1 more threads\n",
      "2021-08-15 13:59:05,915 | INFO | word2vec.py:1281 | _log_epoch_progress | worker thread finished; awaiting finish of 0 more threads\n",
      "2021-08-15 13:59:05,915 | INFO | word2vec.py:1624 | _log_epoch_end | EPOCH - 1 : training on 118319 raw words (92951 effective words) took 0.1s, 642180 effective words/s\n",
      "2021-08-15 13:59:05,916 | INFO | utils.py:448 | add_lifecycle_event | Doc2Vec lifecycle event {'msg': 'training on 118319 raw words (92951 effective words) took 0.1s, 621510 effective words/s', 'datetime': '2021-08-15T13:59:05.916243', 'gensim': '4.0.1', 'python': '3.7.4 (default, Aug 13 2019, 15:17:50) \\n[Clang 4.0.1 (tags/RELEASE_401/final)]', 'platform': 'Darwin-19.6.0-x86_64-i386-64bit', 'event': 'train'}\n",
      "100%|██████████| 5116/5116 [00:00<00:00, 3472739.81it/s]\n",
      "2021-08-15 13:59:05,921 | INFO | utils.py:448 | add_lifecycle_event | Doc2Vec lifecycle event {'msg': 'training model with 3 workers on 5702 vocabulary and 100 features, using sg=1 hs=0 sample=0.001 negative=5 window=5', 'datetime': '2021-08-15T13:59:05.921431', 'gensim': '4.0.1', 'python': '3.7.4 (default, Aug 13 2019, 15:17:50) \\n[Clang 4.0.1 (tags/RELEASE_401/final)]', 'platform': 'Darwin-19.6.0-x86_64-i386-64bit', 'event': 'train'}\n",
      "2021-08-15 13:59:06,070 | INFO | word2vec.py:1281 | _log_epoch_progress | worker thread finished; awaiting finish of 2 more threads\n",
      "2021-08-15 13:59:06,071 | INFO | word2vec.py:1281 | _log_epoch_progress | worker thread finished; awaiting finish of 1 more threads\n",
      "2021-08-15 13:59:06,075 | INFO | word2vec.py:1281 | _log_epoch_progress | worker thread finished; awaiting finish of 0 more threads\n",
      "2021-08-15 13:59:06,076 | INFO | word2vec.py:1624 | _log_epoch_end | EPOCH - 1 : training on 118319 raw words (93185 effective words) took 0.1s, 622523 effective words/s\n",
      "2021-08-15 13:59:06,076 | INFO | utils.py:448 | add_lifecycle_event | Doc2Vec lifecycle event {'msg': 'training on 118319 raw words (93185 effective words) took 0.2s, 605896 effective words/s', 'datetime': '2021-08-15T13:59:06.076637', 'gensim': '4.0.1', 'python': '3.7.4 (default, Aug 13 2019, 15:17:50) \\n[Clang 4.0.1 (tags/RELEASE_401/final)]', 'platform': 'Darwin-19.6.0-x86_64-i386-64bit', 'event': 'train'}\n",
      "100%|██████████| 5116/5116 [00:00<00:00, 3610644.33it/s]\n",
      "2021-08-15 13:59:06,081 | INFO | utils.py:448 | add_lifecycle_event | Doc2Vec lifecycle event {'msg': 'training model with 3 workers on 5702 vocabulary and 100 features, using sg=1 hs=0 sample=0.001 negative=5 window=5', 'datetime': '2021-08-15T13:59:06.081886', 'gensim': '4.0.1', 'python': '3.7.4 (default, Aug 13 2019, 15:17:50) \\n[Clang 4.0.1 (tags/RELEASE_401/final)]', 'platform': 'Darwin-19.6.0-x86_64-i386-64bit', 'event': 'train'}\n",
      "2021-08-15 13:59:06,226 | INFO | word2vec.py:1281 | _log_epoch_progress | worker thread finished; awaiting finish of 2 more threads\n",
      "2021-08-15 13:59:06,230 | INFO | word2vec.py:1281 | _log_epoch_progress | worker thread finished; awaiting finish of 1 more threads\n",
      "2021-08-15 13:59:06,231 | INFO | word2vec.py:1281 | _log_epoch_progress | worker thread finished; awaiting finish of 0 more threads\n",
      "2021-08-15 13:59:06,231 | INFO | word2vec.py:1624 | _log_epoch_end | EPOCH - 1 : training on 118319 raw words (93051 effective words) took 0.1s, 640038 effective words/s\n",
      "2021-08-15 13:59:06,232 | INFO | utils.py:448 | add_lifecycle_event | Doc2Vec lifecycle event {'msg': 'training on 118319 raw words (93051 effective words) took 0.1s, 622105 effective words/s', 'datetime': '2021-08-15T13:59:06.232132', 'gensim': '4.0.1', 'python': '3.7.4 (default, Aug 13 2019, 15:17:50) \\n[Clang 4.0.1 (tags/RELEASE_401/final)]', 'platform': 'Darwin-19.6.0-x86_64-i386-64bit', 'event': 'train'}\n",
      "100%|██████████| 5116/5116 [00:00<00:00, 3552658.82it/s]\n",
      "2021-08-15 13:59:06,237 | INFO | utils.py:448 | add_lifecycle_event | Doc2Vec lifecycle event {'msg': 'training model with 3 workers on 5702 vocabulary and 100 features, using sg=1 hs=0 sample=0.001 negative=5 window=5', 'datetime': '2021-08-15T13:59:06.237767', 'gensim': '4.0.1', 'python': '3.7.4 (default, Aug 13 2019, 15:17:50) \\n[Clang 4.0.1 (tags/RELEASE_401/final)]', 'platform': 'Darwin-19.6.0-x86_64-i386-64bit', 'event': 'train'}\n",
      "2021-08-15 13:59:06,372 | INFO | word2vec.py:1281 | _log_epoch_progress | worker thread finished; awaiting finish of 2 more threads\n",
      "2021-08-15 13:59:06,375 | INFO | word2vec.py:1281 | _log_epoch_progress | worker thread finished; awaiting finish of 1 more threads\n",
      "2021-08-15 13:59:06,376 | INFO | word2vec.py:1281 | _log_epoch_progress | worker thread finished; awaiting finish of 0 more threads\n",
      "2021-08-15 13:59:06,376 | INFO | word2vec.py:1624 | _log_epoch_end | EPOCH - 1 : training on 118319 raw words (93135 effective words) took 0.1s, 696054 effective words/s\n",
      "2021-08-15 13:59:06,377 | INFO | utils.py:448 | add_lifecycle_event | Doc2Vec lifecycle event {'msg': 'training on 118319 raw words (93135 effective words) took 0.1s, 670780 effective words/s', 'datetime': '2021-08-15T13:59:06.377304', 'gensim': '4.0.1', 'python': '3.7.4 (default, Aug 13 2019, 15:17:50) \\n[Clang 4.0.1 (tags/RELEASE_401/final)]', 'platform': 'Darwin-19.6.0-x86_64-i386-64bit', 'event': 'train'}\n",
      "100%|██████████| 5116/5116 [00:00<00:00, 3605184.69it/s]\n",
      "2021-08-15 13:59:06,381 | INFO | utils.py:448 | add_lifecycle_event | Doc2Vec lifecycle event {'msg': 'training model with 3 workers on 5702 vocabulary and 100 features, using sg=1 hs=0 sample=0.001 negative=5 window=5', 'datetime': '2021-08-15T13:59:06.381902', 'gensim': '4.0.1', 'python': '3.7.4 (default, Aug 13 2019, 15:17:50) \\n[Clang 4.0.1 (tags/RELEASE_401/final)]', 'platform': 'Darwin-19.6.0-x86_64-i386-64bit', 'event': 'train'}\n",
      "2021-08-15 13:59:06,517 | INFO | word2vec.py:1281 | _log_epoch_progress | worker thread finished; awaiting finish of 2 more threads\n",
      "2021-08-15 13:59:06,520 | INFO | word2vec.py:1281 | _log_epoch_progress | worker thread finished; awaiting finish of 1 more threads\n",
      "2021-08-15 13:59:06,522 | INFO | word2vec.py:1281 | _log_epoch_progress | worker thread finished; awaiting finish of 0 more threads\n",
      "2021-08-15 13:59:06,523 | INFO | word2vec.py:1624 | _log_epoch_end | EPOCH - 1 : training on 118319 raw words (93080 effective words) took 0.1s, 683741 effective words/s\n",
      "2021-08-15 13:59:06,523 | INFO | utils.py:448 | add_lifecycle_event | Doc2Vec lifecycle event {'msg': 'training on 118319 raw words (93080 effective words) took 0.1s, 659131 effective words/s', 'datetime': '2021-08-15T13:59:06.523767', 'gensim': '4.0.1', 'python': '3.7.4 (default, Aug 13 2019, 15:17:50) \\n[Clang 4.0.1 (tags/RELEASE_401/final)]', 'platform': 'Darwin-19.6.0-x86_64-i386-64bit', 'event': 'train'}\n",
      "100%|██████████| 5116/5116 [00:00<00:00, 3607609.16it/s]\n",
      "2021-08-15 13:59:06,528 | INFO | utils.py:448 | add_lifecycle_event | Doc2Vec lifecycle event {'msg': 'training model with 3 workers on 5702 vocabulary and 100 features, using sg=1 hs=0 sample=0.001 negative=5 window=5', 'datetime': '2021-08-15T13:59:06.528336', 'gensim': '4.0.1', 'python': '3.7.4 (default, Aug 13 2019, 15:17:50) \\n[Clang 4.0.1 (tags/RELEASE_401/final)]', 'platform': 'Darwin-19.6.0-x86_64-i386-64bit', 'event': 'train'}\n"
     ]
    },
    {
     "name": "stderr",
     "output_type": "stream",
     "text": [
      "2021-08-15 13:59:06,666 | INFO | word2vec.py:1281 | _log_epoch_progress | worker thread finished; awaiting finish of 2 more threads\n",
      "2021-08-15 13:59:06,667 | INFO | word2vec.py:1281 | _log_epoch_progress | worker thread finished; awaiting finish of 1 more threads\n",
      "2021-08-15 13:59:06,668 | INFO | word2vec.py:1281 | _log_epoch_progress | worker thread finished; awaiting finish of 0 more threads\n",
      "2021-08-15 13:59:06,668 | INFO | word2vec.py:1624 | _log_epoch_end | EPOCH - 1 : training on 118319 raw words (93192 effective words) took 0.1s, 685285 effective words/s\n",
      "2021-08-15 13:59:06,669 | INFO | utils.py:448 | add_lifecycle_event | Doc2Vec lifecycle event {'msg': 'training on 118319 raw words (93192 effective words) took 0.1s, 664483 effective words/s', 'datetime': '2021-08-15T13:59:06.669187', 'gensim': '4.0.1', 'python': '3.7.4 (default, Aug 13 2019, 15:17:50) \\n[Clang 4.0.1 (tags/RELEASE_401/final)]', 'platform': 'Darwin-19.6.0-x86_64-i386-64bit', 'event': 'train'}\n",
      "100%|██████████| 5116/5116 [00:00<00:00, 3459303.44it/s]\n",
      "2021-08-15 13:59:06,673 | INFO | utils.py:448 | add_lifecycle_event | Doc2Vec lifecycle event {'msg': 'training model with 3 workers on 5702 vocabulary and 100 features, using sg=1 hs=0 sample=0.001 negative=5 window=5', 'datetime': '2021-08-15T13:59:06.673893', 'gensim': '4.0.1', 'python': '3.7.4 (default, Aug 13 2019, 15:17:50) \\n[Clang 4.0.1 (tags/RELEASE_401/final)]', 'platform': 'Darwin-19.6.0-x86_64-i386-64bit', 'event': 'train'}\n",
      "2021-08-15 13:59:06,815 | INFO | word2vec.py:1281 | _log_epoch_progress | worker thread finished; awaiting finish of 2 more threads\n",
      "2021-08-15 13:59:06,820 | INFO | word2vec.py:1281 | _log_epoch_progress | worker thread finished; awaiting finish of 1 more threads\n",
      "2021-08-15 13:59:06,821 | INFO | word2vec.py:1281 | _log_epoch_progress | worker thread finished; awaiting finish of 0 more threads\n",
      "2021-08-15 13:59:06,822 | INFO | word2vec.py:1624 | _log_epoch_end | EPOCH - 1 : training on 118319 raw words (93097 effective words) took 0.1s, 646924 effective words/s\n",
      "2021-08-15 13:59:06,822 | INFO | utils.py:448 | add_lifecycle_event | Doc2Vec lifecycle event {'msg': 'training on 118319 raw words (93097 effective words) took 0.1s, 627800 effective words/s', 'datetime': '2021-08-15T13:59:06.822852', 'gensim': '4.0.1', 'python': '3.7.4 (default, Aug 13 2019, 15:17:50) \\n[Clang 4.0.1 (tags/RELEASE_401/final)]', 'platform': 'Darwin-19.6.0-x86_64-i386-64bit', 'event': 'train'}\n"
     ]
    },
    {
     "name": "stdout",
     "output_type": "stream",
     "text": [
      "CPU times: user 6.59 s, sys: 709 ms, total: 7.3 s\n",
      "Wall time: 4.66 s\n"
     ]
    }
   ],
   "source": [
    "%%time\n",
    "for epoch in range(30):\n",
    "    model_ug_dbow.train(utils.shuffle([x for x in tqdm(all_x_w2v)]), total_examples=len(all_x_w2v), epochs=1)\n",
    "    model_ug_dbow.alpha -= 0.002\n",
    "    model_ug_dbow.min_alpha = model_ug_dbow.alpha"
   ]
  },
  {
   "cell_type": "code",
   "execution_count": 149,
   "metadata": {},
   "outputs": [],
   "source": [
    "def get_vectors(model, corpus, size):\n",
    "    vecs = np.zeros((len(corpus), size))\n",
    "    n = 0\n",
    "    for i in corpus.index:\n",
    "        prefix = 'all_' + str(i)\n",
    "        vecs[n] = model.dv[prefix]\n",
    "        n += 1\n",
    "    return vecs"
   ]
  },
  {
   "cell_type": "code",
   "execution_count": 150,
   "metadata": {},
   "outputs": [],
   "source": [
    "train_vecs_dbow = get_vectors(model_ug_dbow, x_train1, 100)\n",
    "validation_vecs_dbow = get_vectors(model_ug_dbow, x_val1, 100)"
   ]
  },
  {
   "cell_type": "code",
   "execution_count": 151,
   "metadata": {},
   "outputs": [
    {
     "data": {
      "text/plain": [
       "LogisticRegression()"
      ]
     },
     "execution_count": 151,
     "metadata": {},
     "output_type": "execute_result"
    }
   ],
   "source": [
    "clf = LogisticRegression()\n",
    "clf.fit(train_vecs_dbow, train_labels)"
   ]
  },
  {
   "cell_type": "code",
   "execution_count": 152,
   "metadata": {},
   "outputs": [
    {
     "data": {
      "text/plain": [
       "0.4683470105509965"
      ]
     },
     "execution_count": 152,
     "metadata": {},
     "output_type": "execute_result"
    }
   ],
   "source": [
    "clf.score(validation_vecs_dbow, test_labels)"
   ]
  },
  {
   "cell_type": "code",
   "execution_count": 153,
   "metadata": {},
   "outputs": [
    {
     "name": "stderr",
     "output_type": "stream",
     "text": [
      "2021-08-15 13:59:30,583 | INFO | doc2vec.py:279 | __init__ | using concatenative 500-dimensional layer1\n",
      "2021-08-15 13:59:30,584 | INFO | utils.py:448 | add_lifecycle_event | Doc2Vec lifecycle event {'params': 'Doc2Vec(dm/c,d100,n5,w2,mc2,s0.001,t4)', 'datetime': '2021-08-15T13:59:30.584624', 'gensim': '4.0.1', 'python': '3.7.4 (default, Aug 13 2019, 15:17:50) \\n[Clang 4.0.1 (tags/RELEASE_401/final)]', 'platform': 'Darwin-19.6.0-x86_64-i386-64bit', 'event': 'created'}\n",
      "100%|██████████| 5116/5116 [00:00<00:00, 3501070.20it/s]\n",
      "2021-08-15 13:59:30,588 | INFO | doc2vec.py:1032 | scan_vocab | collecting all words and their counts\n",
      "2021-08-15 13:59:30,589 | INFO | doc2vec.py:951 | _scan_vocab | PROGRESS: at example #0, processed 0 words (0/s), 0 word types, 0 tags\n",
      "2021-08-15 13:59:30,646 | INFO | doc2vec.py:1040 | scan_vocab | collected 11564 word types and 5116 unique tags from a corpus of 5116 examples and 118319 words\n",
      "2021-08-15 13:59:30,646 | INFO | word2vec.py:626 | prepare_vocab | Creating a fresh vocabulary\n",
      "2021-08-15 13:59:30,667 | INFO | utils.py:448 | add_lifecycle_event | Doc2Vec lifecycle event {'msg': 'effective_min_count=2 retains 5702 unique words (49.308197855413354%% of original 11564, drops 5862)', 'datetime': '2021-08-15T13:59:30.667189', 'gensim': '4.0.1', 'python': '3.7.4 (default, Aug 13 2019, 15:17:50) \\n[Clang 4.0.1 (tags/RELEASE_401/final)]', 'platform': 'Darwin-19.6.0-x86_64-i386-64bit', 'event': 'prepare_vocab'}\n",
      "2021-08-15 13:59:30,667 | INFO | utils.py:448 | add_lifecycle_event | Doc2Vec lifecycle event {'msg': 'effective_min_count=2 leaves 112457 word corpus (95.04559707232144%% of original 118319, drops 5862)', 'datetime': '2021-08-15T13:59:30.667967', 'gensim': '4.0.1', 'python': '3.7.4 (default, Aug 13 2019, 15:17:50) \\n[Clang 4.0.1 (tags/RELEASE_401/final)]', 'platform': 'Darwin-19.6.0-x86_64-i386-64bit', 'event': 'prepare_vocab'}\n",
      "2021-08-15 13:59:30,700 | INFO | word2vec.py:734 | prepare_vocab | deleting the raw counts dictionary of 11564 items\n",
      "2021-08-15 13:59:30,702 | INFO | word2vec.py:737 | prepare_vocab | sample=0.001 downsamples 53 most-common words\n",
      "2021-08-15 13:59:30,702 | INFO | utils.py:448 | add_lifecycle_event | Doc2Vec lifecycle event {'msg': 'downsampling leaves estimated 87992.56376216558 word corpus (78.2%% of prior 112457)', 'datetime': '2021-08-15T13:59:30.702700', 'gensim': '4.0.1', 'python': '3.7.4 (default, Aug 13 2019, 15:17:50) \\n[Clang 4.0.1 (tags/RELEASE_401/final)]', 'platform': 'Darwin-19.6.0-x86_64-i386-64bit', 'event': 'prepare_vocab'}\n",
      "2021-08-15 13:59:30,779 | INFO | word2vec.py:796 | estimate_memory | estimated required memory for 5702 words and 100 dimensions: 19605400 bytes\n",
      "2021-08-15 13:59:30,780 | INFO | word2vec.py:852 | init_weights | resetting layer weights\n"
     ]
    }
   ],
   "source": [
    "cores = multiprocessing.cpu_count()\n",
    "model_ug_dmc = Doc2Vec(dm=1, dm_concat=1, vector_size=100, window=2, negative=5, min_count=2, workers=cores, alpha=0.065, min_alpha=0.065)\n",
    "model_ug_dmc.build_vocab([x for x in tqdm(all_x_w2v)])"
   ]
  },
  {
   "cell_type": "code",
   "execution_count": 154,
   "metadata": {},
   "outputs": [
    {
     "name": "stderr",
     "output_type": "stream",
     "text": [
      "100%|██████████| 5116/5116 [00:00<00:00, 3370199.35it/s]\n",
      "2021-08-15 13:59:42,440 | INFO | utils.py:448 | add_lifecycle_event | Doc2Vec lifecycle event {'msg': 'training model with 4 workers on 5703 vocabulary and 500 features, using sg=0 hs=0 sample=0.001 negative=5 window=2', 'datetime': '2021-08-15T13:59:42.440008', 'gensim': '4.0.1', 'python': '3.7.4 (default, Aug 13 2019, 15:17:50) \\n[Clang 4.0.1 (tags/RELEASE_401/final)]', 'platform': 'Darwin-19.6.0-x86_64-i386-64bit', 'event': 'train'}\n",
      "2021-08-15 13:59:42,611 | INFO | word2vec.py:1281 | _log_epoch_progress | worker thread finished; awaiting finish of 3 more threads\n",
      "2021-08-15 13:59:42,616 | INFO | word2vec.py:1281 | _log_epoch_progress | worker thread finished; awaiting finish of 2 more threads\n",
      "2021-08-15 13:59:42,622 | INFO | word2vec.py:1281 | _log_epoch_progress | worker thread finished; awaiting finish of 1 more threads\n",
      "2021-08-15 13:59:42,623 | INFO | word2vec.py:1281 | _log_epoch_progress | worker thread finished; awaiting finish of 0 more threads\n",
      "2021-08-15 13:59:42,624 | INFO | word2vec.py:1624 | _log_epoch_end | EPOCH - 1 : training on 118319 raw words (92868 effective words) took 0.2s, 523622 effective words/s\n",
      "2021-08-15 13:59:42,625 | INFO | utils.py:448 | add_lifecycle_event | Doc2Vec lifecycle event {'msg': 'training on 118319 raw words (92868 effective words) took 0.2s, 503083 effective words/s', 'datetime': '2021-08-15T13:59:42.625286', 'gensim': '4.0.1', 'python': '3.7.4 (default, Aug 13 2019, 15:17:50) \\n[Clang 4.0.1 (tags/RELEASE_401/final)]', 'platform': 'Darwin-19.6.0-x86_64-i386-64bit', 'event': 'train'}\n",
      "100%|██████████| 5116/5116 [00:00<00:00, 3368083.39it/s]\n",
      "2021-08-15 13:59:42,632 | INFO | utils.py:448 | add_lifecycle_event | Doc2Vec lifecycle event {'msg': 'training model with 4 workers on 5703 vocabulary and 500 features, using sg=0 hs=0 sample=0.001 negative=5 window=2', 'datetime': '2021-08-15T13:59:42.632734', 'gensim': '4.0.1', 'python': '3.7.4 (default, Aug 13 2019, 15:17:50) \\n[Clang 4.0.1 (tags/RELEASE_401/final)]', 'platform': 'Darwin-19.6.0-x86_64-i386-64bit', 'event': 'train'}\n",
      "2021-08-15 13:59:42,780 | INFO | word2vec.py:1281 | _log_epoch_progress | worker thread finished; awaiting finish of 3 more threads\n",
      "2021-08-15 13:59:42,785 | INFO | word2vec.py:1281 | _log_epoch_progress | worker thread finished; awaiting finish of 2 more threads\n",
      "2021-08-15 13:59:42,786 | INFO | word2vec.py:1281 | _log_epoch_progress | worker thread finished; awaiting finish of 1 more threads\n",
      "2021-08-15 13:59:42,788 | INFO | word2vec.py:1281 | _log_epoch_progress | worker thread finished; awaiting finish of 0 more threads\n",
      "2021-08-15 13:59:42,789 | INFO | word2vec.py:1624 | _log_epoch_end | EPOCH - 1 : training on 118319 raw words (93189 effective words) took 0.1s, 627718 effective words/s\n",
      "2021-08-15 13:59:42,789 | INFO | utils.py:448 | add_lifecycle_event | Doc2Vec lifecycle event {'msg': 'training on 118319 raw words (93189 effective words) took 0.2s, 601649 effective words/s', 'datetime': '2021-08-15T13:59:42.789659', 'gensim': '4.0.1', 'python': '3.7.4 (default, Aug 13 2019, 15:17:50) \\n[Clang 4.0.1 (tags/RELEASE_401/final)]', 'platform': 'Darwin-19.6.0-x86_64-i386-64bit', 'event': 'train'}\n",
      "100%|██████████| 5116/5116 [00:00<00:00, 3413084.02it/s]\n",
      "2021-08-15 13:59:42,794 | INFO | utils.py:448 | add_lifecycle_event | Doc2Vec lifecycle event {'msg': 'training model with 4 workers on 5703 vocabulary and 500 features, using sg=0 hs=0 sample=0.001 negative=5 window=2', 'datetime': '2021-08-15T13:59:42.794792', 'gensim': '4.0.1', 'python': '3.7.4 (default, Aug 13 2019, 15:17:50) \\n[Clang 4.0.1 (tags/RELEASE_401/final)]', 'platform': 'Darwin-19.6.0-x86_64-i386-64bit', 'event': 'train'}\n",
      "2021-08-15 13:59:42,948 | INFO | word2vec.py:1281 | _log_epoch_progress | worker thread finished; awaiting finish of 3 more threads\n",
      "2021-08-15 13:59:42,949 | INFO | word2vec.py:1281 | _log_epoch_progress | worker thread finished; awaiting finish of 2 more threads\n",
      "2021-08-15 13:59:42,950 | INFO | word2vec.py:1281 | _log_epoch_progress | worker thread finished; awaiting finish of 1 more threads\n",
      "2021-08-15 13:59:42,953 | INFO | word2vec.py:1281 | _log_epoch_progress | worker thread finished; awaiting finish of 0 more threads\n",
      "2021-08-15 13:59:42,953 | INFO | word2vec.py:1624 | _log_epoch_end | EPOCH - 1 : training on 118319 raw words (92964 effective words) took 0.2s, 610112 effective words/s\n",
      "2021-08-15 13:59:42,954 | INFO | utils.py:448 | add_lifecycle_event | Doc2Vec lifecycle event {'msg': 'training on 118319 raw words (92964 effective words) took 0.2s, 585269 effective words/s', 'datetime': '2021-08-15T13:59:42.954255', 'gensim': '4.0.1', 'python': '3.7.4 (default, Aug 13 2019, 15:17:50) \\n[Clang 4.0.1 (tags/RELEASE_401/final)]', 'platform': 'Darwin-19.6.0-x86_64-i386-64bit', 'event': 'train'}\n",
      "100%|██████████| 5116/5116 [00:00<00:00, 3470493.17it/s]\n",
      "2021-08-15 13:59:42,959 | INFO | utils.py:448 | add_lifecycle_event | Doc2Vec lifecycle event {'msg': 'training model with 4 workers on 5703 vocabulary and 500 features, using sg=0 hs=0 sample=0.001 negative=5 window=2', 'datetime': '2021-08-15T13:59:42.959451', 'gensim': '4.0.1', 'python': '3.7.4 (default, Aug 13 2019, 15:17:50) \\n[Clang 4.0.1 (tags/RELEASE_401/final)]', 'platform': 'Darwin-19.6.0-x86_64-i386-64bit', 'event': 'train'}\n",
      "2021-08-15 13:59:43,115 | INFO | word2vec.py:1281 | _log_epoch_progress | worker thread finished; awaiting finish of 3 more threads\n",
      "2021-08-15 13:59:43,119 | INFO | word2vec.py:1281 | _log_epoch_progress | worker thread finished; awaiting finish of 2 more threads\n",
      "2021-08-15 13:59:43,121 | INFO | word2vec.py:1281 | _log_epoch_progress | worker thread finished; awaiting finish of 1 more threads\n",
      "2021-08-15 13:59:43,123 | INFO | word2vec.py:1281 | _log_epoch_progress | worker thread finished; awaiting finish of 0 more threads\n",
      "2021-08-15 13:59:43,123 | INFO | word2vec.py:1624 | _log_epoch_end | EPOCH - 1 : training on 118319 raw words (93018 effective words) took 0.2s, 589670 effective words/s\n",
      "2021-08-15 13:59:43,124 | INFO | utils.py:448 | add_lifecycle_event | Doc2Vec lifecycle event {'msg': 'training on 118319 raw words (93018 effective words) took 0.2s, 566926 effective words/s', 'datetime': '2021-08-15T13:59:43.124174', 'gensim': '4.0.1', 'python': '3.7.4 (default, Aug 13 2019, 15:17:50) \\n[Clang 4.0.1 (tags/RELEASE_401/final)]', 'platform': 'Darwin-19.6.0-x86_64-i386-64bit', 'event': 'train'}\n",
      "100%|██████████| 5116/5116 [00:00<00:00, 3352297.96it/s]\n",
      "2021-08-15 13:59:43,128 | INFO | utils.py:448 | add_lifecycle_event | Doc2Vec lifecycle event {'msg': 'training model with 4 workers on 5703 vocabulary and 500 features, using sg=0 hs=0 sample=0.001 negative=5 window=2', 'datetime': '2021-08-15T13:59:43.128920', 'gensim': '4.0.1', 'python': '3.7.4 (default, Aug 13 2019, 15:17:50) \\n[Clang 4.0.1 (tags/RELEASE_401/final)]', 'platform': 'Darwin-19.6.0-x86_64-i386-64bit', 'event': 'train'}\n",
      "2021-08-15 13:59:43,286 | INFO | word2vec.py:1281 | _log_epoch_progress | worker thread finished; awaiting finish of 3 more threads\n",
      "2021-08-15 13:59:43,290 | INFO | word2vec.py:1281 | _log_epoch_progress | worker thread finished; awaiting finish of 2 more threads\n",
      "2021-08-15 13:59:43,292 | INFO | word2vec.py:1281 | _log_epoch_progress | worker thread finished; awaiting finish of 1 more threads\n",
      "2021-08-15 13:59:43,293 | INFO | word2vec.py:1281 | _log_epoch_progress | worker thread finished; awaiting finish of 0 more threads\n",
      "2021-08-15 13:59:43,293 | INFO | word2vec.py:1624 | _log_epoch_end | EPOCH - 1 : training on 118319 raw words (93051 effective words) took 0.2s, 591610 effective words/s\n",
      "2021-08-15 13:59:43,293 | INFO | utils.py:448 | add_lifecycle_event | Doc2Vec lifecycle event {'msg': 'training on 118319 raw words (93051 effective words) took 0.2s, 566445 effective words/s', 'datetime': '2021-08-15T13:59:43.293965', 'gensim': '4.0.1', 'python': '3.7.4 (default, Aug 13 2019, 15:17:50) \\n[Clang 4.0.1 (tags/RELEASE_401/final)]', 'platform': 'Darwin-19.6.0-x86_64-i386-64bit', 'event': 'train'}\n",
      "100%|██████████| 5116/5116 [00:00<00:00, 3525806.65it/s]\n",
      "2021-08-15 13:59:43,298 | INFO | utils.py:448 | add_lifecycle_event | Doc2Vec lifecycle event {'msg': 'training model with 4 workers on 5703 vocabulary and 500 features, using sg=0 hs=0 sample=0.001 negative=5 window=2', 'datetime': '2021-08-15T13:59:43.298329', 'gensim': '4.0.1', 'python': '3.7.4 (default, Aug 13 2019, 15:17:50) \\n[Clang 4.0.1 (tags/RELEASE_401/final)]', 'platform': 'Darwin-19.6.0-x86_64-i386-64bit', 'event': 'train'}\n"
     ]
    },
    {
     "name": "stderr",
     "output_type": "stream",
     "text": [
      "2021-08-15 13:59:43,450 | INFO | word2vec.py:1281 | _log_epoch_progress | worker thread finished; awaiting finish of 3 more threads\n",
      "2021-08-15 13:59:43,453 | INFO | word2vec.py:1281 | _log_epoch_progress | worker thread finished; awaiting finish of 2 more threads\n",
      "2021-08-15 13:59:43,456 | INFO | word2vec.py:1281 | _log_epoch_progress | worker thread finished; awaiting finish of 1 more threads\n",
      "2021-08-15 13:59:43,457 | INFO | word2vec.py:1281 | _log_epoch_progress | worker thread finished; awaiting finish of 0 more threads\n",
      "2021-08-15 13:59:43,457 | INFO | word2vec.py:1624 | _log_epoch_end | EPOCH - 1 : training on 118319 raw words (93076 effective words) took 0.2s, 606077 effective words/s\n",
      "2021-08-15 13:59:43,458 | INFO | utils.py:448 | add_lifecycle_event | Doc2Vec lifecycle event {'msg': 'training on 118319 raw words (93076 effective words) took 0.2s, 584907 effective words/s', 'datetime': '2021-08-15T13:59:43.458253', 'gensim': '4.0.1', 'python': '3.7.4 (default, Aug 13 2019, 15:17:50) \\n[Clang 4.0.1 (tags/RELEASE_401/final)]', 'platform': 'Darwin-19.6.0-x86_64-i386-64bit', 'event': 'train'}\n",
      "100%|██████████| 5116/5116 [00:00<00:00, 3300732.08it/s]\n",
      "2021-08-15 13:59:43,464 | INFO | utils.py:448 | add_lifecycle_event | Doc2Vec lifecycle event {'msg': 'training model with 4 workers on 5703 vocabulary and 500 features, using sg=0 hs=0 sample=0.001 negative=5 window=2', 'datetime': '2021-08-15T13:59:43.464015', 'gensim': '4.0.1', 'python': '3.7.4 (default, Aug 13 2019, 15:17:50) \\n[Clang 4.0.1 (tags/RELEASE_401/final)]', 'platform': 'Darwin-19.6.0-x86_64-i386-64bit', 'event': 'train'}\n",
      "2021-08-15 13:59:43,639 | INFO | word2vec.py:1281 | _log_epoch_progress | worker thread finished; awaiting finish of 3 more threads\n",
      "2021-08-15 13:59:43,640 | INFO | word2vec.py:1281 | _log_epoch_progress | worker thread finished; awaiting finish of 2 more threads\n",
      "2021-08-15 13:59:43,645 | INFO | word2vec.py:1281 | _log_epoch_progress | worker thread finished; awaiting finish of 1 more threads\n",
      "2021-08-15 13:59:43,646 | INFO | word2vec.py:1281 | _log_epoch_progress | worker thread finished; awaiting finish of 0 more threads\n",
      "2021-08-15 13:59:43,647 | INFO | word2vec.py:1624 | _log_epoch_end | EPOCH - 1 : training on 118319 raw words (93134 effective words) took 0.2s, 537267 effective words/s\n",
      "2021-08-15 13:59:43,648 | INFO | utils.py:448 | add_lifecycle_event | Doc2Vec lifecycle event {'msg': 'training on 118319 raw words (93134 effective words) took 0.2s, 507935 effective words/s', 'datetime': '2021-08-15T13:59:43.648222', 'gensim': '4.0.1', 'python': '3.7.4 (default, Aug 13 2019, 15:17:50) \\n[Clang 4.0.1 (tags/RELEASE_401/final)]', 'platform': 'Darwin-19.6.0-x86_64-i386-64bit', 'event': 'train'}\n",
      "100%|██████████| 5116/5116 [00:00<00:00, 3443205.92it/s]\n",
      "2021-08-15 13:59:43,654 | INFO | utils.py:448 | add_lifecycle_event | Doc2Vec lifecycle event {'msg': 'training model with 4 workers on 5703 vocabulary and 500 features, using sg=0 hs=0 sample=0.001 negative=5 window=2', 'datetime': '2021-08-15T13:59:43.654542', 'gensim': '4.0.1', 'python': '3.7.4 (default, Aug 13 2019, 15:17:50) \\n[Clang 4.0.1 (tags/RELEASE_401/final)]', 'platform': 'Darwin-19.6.0-x86_64-i386-64bit', 'event': 'train'}\n",
      "2021-08-15 13:59:43,826 | INFO | word2vec.py:1281 | _log_epoch_progress | worker thread finished; awaiting finish of 3 more threads\n",
      "2021-08-15 13:59:43,830 | INFO | word2vec.py:1281 | _log_epoch_progress | worker thread finished; awaiting finish of 2 more threads\n",
      "2021-08-15 13:59:43,831 | INFO | word2vec.py:1281 | _log_epoch_progress | worker thread finished; awaiting finish of 1 more threads\n",
      "2021-08-15 13:59:43,834 | INFO | word2vec.py:1281 | _log_epoch_progress | worker thread finished; awaiting finish of 0 more threads\n",
      "2021-08-15 13:59:43,834 | INFO | word2vec.py:1624 | _log_epoch_end | EPOCH - 1 : training on 118319 raw words (92909 effective words) took 0.2s, 532982 effective words/s\n",
      "2021-08-15 13:59:43,835 | INFO | utils.py:448 | add_lifecycle_event | Doc2Vec lifecycle event {'msg': 'training on 118319 raw words (92909 effective words) took 0.2s, 516147 effective words/s', 'datetime': '2021-08-15T13:59:43.835260', 'gensim': '4.0.1', 'python': '3.7.4 (default, Aug 13 2019, 15:17:50) \\n[Clang 4.0.1 (tags/RELEASE_401/final)]', 'platform': 'Darwin-19.6.0-x86_64-i386-64bit', 'event': 'train'}\n",
      "100%|██████████| 5116/5116 [00:00<00:00, 3577535.72it/s]\n",
      "2021-08-15 13:59:43,840 | INFO | utils.py:448 | add_lifecycle_event | Doc2Vec lifecycle event {'msg': 'training model with 4 workers on 5703 vocabulary and 500 features, using sg=0 hs=0 sample=0.001 negative=5 window=2', 'datetime': '2021-08-15T13:59:43.840567', 'gensim': '4.0.1', 'python': '3.7.4 (default, Aug 13 2019, 15:17:50) \\n[Clang 4.0.1 (tags/RELEASE_401/final)]', 'platform': 'Darwin-19.6.0-x86_64-i386-64bit', 'event': 'train'}\n",
      "2021-08-15 13:59:43,990 | INFO | word2vec.py:1281 | _log_epoch_progress | worker thread finished; awaiting finish of 3 more threads\n",
      "2021-08-15 13:59:43,991 | INFO | word2vec.py:1281 | _log_epoch_progress | worker thread finished; awaiting finish of 2 more threads\n",
      "2021-08-15 13:59:43,992 | INFO | word2vec.py:1281 | _log_epoch_progress | worker thread finished; awaiting finish of 1 more threads\n",
      "2021-08-15 13:59:43,992 | INFO | word2vec.py:1281 | _log_epoch_progress | worker thread finished; awaiting finish of 0 more threads\n",
      "2021-08-15 13:59:43,993 | INFO | word2vec.py:1624 | _log_epoch_end | EPOCH - 1 : training on 118319 raw words (93102 effective words) took 0.1s, 631613 effective words/s\n",
      "2021-08-15 13:59:43,994 | INFO | utils.py:448 | add_lifecycle_event | Doc2Vec lifecycle event {'msg': 'training on 118319 raw words (93102 effective words) took 0.2s, 609274 effective words/s', 'datetime': '2021-08-15T13:59:43.994111', 'gensim': '4.0.1', 'python': '3.7.4 (default, Aug 13 2019, 15:17:50) \\n[Clang 4.0.1 (tags/RELEASE_401/final)]', 'platform': 'Darwin-19.6.0-x86_64-i386-64bit', 'event': 'train'}\n",
      "100%|██████████| 5116/5116 [00:00<00:00, 3540349.66it/s]\n",
      "2021-08-15 13:59:43,998 | INFO | utils.py:448 | add_lifecycle_event | Doc2Vec lifecycle event {'msg': 'training model with 4 workers on 5703 vocabulary and 500 features, using sg=0 hs=0 sample=0.001 negative=5 window=2', 'datetime': '2021-08-15T13:59:43.998669', 'gensim': '4.0.1', 'python': '3.7.4 (default, Aug 13 2019, 15:17:50) \\n[Clang 4.0.1 (tags/RELEASE_401/final)]', 'platform': 'Darwin-19.6.0-x86_64-i386-64bit', 'event': 'train'}\n",
      "2021-08-15 13:59:44,140 | INFO | word2vec.py:1281 | _log_epoch_progress | worker thread finished; awaiting finish of 3 more threads\n",
      "2021-08-15 13:59:44,143 | INFO | word2vec.py:1281 | _log_epoch_progress | worker thread finished; awaiting finish of 2 more threads\n",
      "2021-08-15 13:59:44,144 | INFO | word2vec.py:1281 | _log_epoch_progress | worker thread finished; awaiting finish of 1 more threads\n",
      "2021-08-15 13:59:44,146 | INFO | word2vec.py:1281 | _log_epoch_progress | worker thread finished; awaiting finish of 0 more threads\n",
      "2021-08-15 13:59:44,147 | INFO | word2vec.py:1624 | _log_epoch_end | EPOCH - 1 : training on 118319 raw words (93128 effective words) took 0.1s, 651207 effective words/s\n",
      "2021-08-15 13:59:44,147 | INFO | utils.py:448 | add_lifecycle_event | Doc2Vec lifecycle event {'msg': 'training on 118319 raw words (93128 effective words) took 0.1s, 626582 effective words/s', 'datetime': '2021-08-15T13:59:44.147964', 'gensim': '4.0.1', 'python': '3.7.4 (default, Aug 13 2019, 15:17:50) \\n[Clang 4.0.1 (tags/RELEASE_401/final)]', 'platform': 'Darwin-19.6.0-x86_64-i386-64bit', 'event': 'train'}\n",
      "100%|██████████| 5116/5116 [00:00<00:00, 3480061.51it/s]\n",
      "2021-08-15 13:59:44,153 | INFO | utils.py:448 | add_lifecycle_event | Doc2Vec lifecycle event {'msg': 'training model with 4 workers on 5703 vocabulary and 500 features, using sg=0 hs=0 sample=0.001 negative=5 window=2', 'datetime': '2021-08-15T13:59:44.153455', 'gensim': '4.0.1', 'python': '3.7.4 (default, Aug 13 2019, 15:17:50) \\n[Clang 4.0.1 (tags/RELEASE_401/final)]', 'platform': 'Darwin-19.6.0-x86_64-i386-64bit', 'event': 'train'}\n",
      "2021-08-15 13:59:44,350 | INFO | word2vec.py:1281 | _log_epoch_progress | worker thread finished; awaiting finish of 3 more threads\n",
      "2021-08-15 13:59:44,351 | INFO | word2vec.py:1281 | _log_epoch_progress | worker thread finished; awaiting finish of 2 more threads\n"
     ]
    },
    {
     "name": "stderr",
     "output_type": "stream",
     "text": [
      "2021-08-15 13:59:44,353 | INFO | word2vec.py:1281 | _log_epoch_progress | worker thread finished; awaiting finish of 1 more threads\n",
      "2021-08-15 13:59:44,356 | INFO | word2vec.py:1281 | _log_epoch_progress | worker thread finished; awaiting finish of 0 more threads\n",
      "2021-08-15 13:59:44,356 | INFO | word2vec.py:1624 | _log_epoch_end | EPOCH - 1 : training on 118319 raw words (93102 effective words) took 0.2s, 491395 effective words/s\n",
      "2021-08-15 13:59:44,357 | INFO | utils.py:448 | add_lifecycle_event | Doc2Vec lifecycle event {'msg': 'training on 118319 raw words (93102 effective words) took 0.2s, 458235 effective words/s', 'datetime': '2021-08-15T13:59:44.357294', 'gensim': '4.0.1', 'python': '3.7.4 (default, Aug 13 2019, 15:17:50) \\n[Clang 4.0.1 (tags/RELEASE_401/final)]', 'platform': 'Darwin-19.6.0-x86_64-i386-64bit', 'event': 'train'}\n",
      "100%|██████████| 5116/5116 [00:00<00:00, 3535100.37it/s]\n",
      "2021-08-15 13:59:44,361 | INFO | utils.py:448 | add_lifecycle_event | Doc2Vec lifecycle event {'msg': 'training model with 4 workers on 5703 vocabulary and 500 features, using sg=0 hs=0 sample=0.001 negative=5 window=2', 'datetime': '2021-08-15T13:59:44.361727', 'gensim': '4.0.1', 'python': '3.7.4 (default, Aug 13 2019, 15:17:50) \\n[Clang 4.0.1 (tags/RELEASE_401/final)]', 'platform': 'Darwin-19.6.0-x86_64-i386-64bit', 'event': 'train'}\n",
      "2021-08-15 13:59:44,523 | INFO | word2vec.py:1281 | _log_epoch_progress | worker thread finished; awaiting finish of 3 more threads\n",
      "2021-08-15 13:59:44,526 | INFO | word2vec.py:1281 | _log_epoch_progress | worker thread finished; awaiting finish of 2 more threads\n",
      "2021-08-15 13:59:44,528 | INFO | word2vec.py:1281 | _log_epoch_progress | worker thread finished; awaiting finish of 1 more threads\n",
      "2021-08-15 13:59:44,530 | INFO | word2vec.py:1281 | _log_epoch_progress | worker thread finished; awaiting finish of 0 more threads\n",
      "2021-08-15 13:59:44,530 | INFO | word2vec.py:1624 | _log_epoch_end | EPOCH - 1 : training on 118319 raw words (93091 effective words) took 0.2s, 573261 effective words/s\n",
      "2021-08-15 13:59:44,531 | INFO | utils.py:448 | add_lifecycle_event | Doc2Vec lifecycle event {'msg': 'training on 118319 raw words (93091 effective words) took 0.2s, 551491 effective words/s', 'datetime': '2021-08-15T13:59:44.531141', 'gensim': '4.0.1', 'python': '3.7.4 (default, Aug 13 2019, 15:17:50) \\n[Clang 4.0.1 (tags/RELEASE_401/final)]', 'platform': 'Darwin-19.6.0-x86_64-i386-64bit', 'event': 'train'}\n",
      "100%|██████████| 5116/5116 [00:00<00:00, 3506791.84it/s]\n",
      "2021-08-15 13:59:44,536 | INFO | utils.py:448 | add_lifecycle_event | Doc2Vec lifecycle event {'msg': 'training model with 4 workers on 5703 vocabulary and 500 features, using sg=0 hs=0 sample=0.001 negative=5 window=2', 'datetime': '2021-08-15T13:59:44.536063', 'gensim': '4.0.1', 'python': '3.7.4 (default, Aug 13 2019, 15:17:50) \\n[Clang 4.0.1 (tags/RELEASE_401/final)]', 'platform': 'Darwin-19.6.0-x86_64-i386-64bit', 'event': 'train'}\n",
      "2021-08-15 13:59:44,676 | INFO | word2vec.py:1281 | _log_epoch_progress | worker thread finished; awaiting finish of 3 more threads\n",
      "2021-08-15 13:59:44,683 | INFO | word2vec.py:1281 | _log_epoch_progress | worker thread finished; awaiting finish of 2 more threads\n",
      "2021-08-15 13:59:44,685 | INFO | word2vec.py:1281 | _log_epoch_progress | worker thread finished; awaiting finish of 1 more threads\n",
      "2021-08-15 13:59:44,686 | INFO | word2vec.py:1281 | _log_epoch_progress | worker thread finished; awaiting finish of 0 more threads\n",
      "2021-08-15 13:59:44,686 | INFO | word2vec.py:1624 | _log_epoch_end | EPOCH - 1 : training on 118319 raw words (92967 effective words) took 0.1s, 642956 effective words/s\n",
      "2021-08-15 13:59:44,687 | INFO | utils.py:448 | add_lifecycle_event | Doc2Vec lifecycle event {'msg': 'training on 118319 raw words (92967 effective words) took 0.2s, 617103 effective words/s', 'datetime': '2021-08-15T13:59:44.687337', 'gensim': '4.0.1', 'python': '3.7.4 (default, Aug 13 2019, 15:17:50) \\n[Clang 4.0.1 (tags/RELEASE_401/final)]', 'platform': 'Darwin-19.6.0-x86_64-i386-64bit', 'event': 'train'}\n",
      "100%|██████████| 5116/5116 [00:00<00:00, 3309386.07it/s]\n",
      "2021-08-15 13:59:44,692 | INFO | utils.py:448 | add_lifecycle_event | Doc2Vec lifecycle event {'msg': 'training model with 4 workers on 5703 vocabulary and 500 features, using sg=0 hs=0 sample=0.001 negative=5 window=2', 'datetime': '2021-08-15T13:59:44.692217', 'gensim': '4.0.1', 'python': '3.7.4 (default, Aug 13 2019, 15:17:50) \\n[Clang 4.0.1 (tags/RELEASE_401/final)]', 'platform': 'Darwin-19.6.0-x86_64-i386-64bit', 'event': 'train'}\n",
      "2021-08-15 13:59:44,838 | INFO | word2vec.py:1281 | _log_epoch_progress | worker thread finished; awaiting finish of 3 more threads\n",
      "2021-08-15 13:59:44,841 | INFO | word2vec.py:1281 | _log_epoch_progress | worker thread finished; awaiting finish of 2 more threads\n",
      "2021-08-15 13:59:44,842 | INFO | word2vec.py:1281 | _log_epoch_progress | worker thread finished; awaiting finish of 1 more threads\n",
      "2021-08-15 13:59:44,844 | INFO | word2vec.py:1281 | _log_epoch_progress | worker thread finished; awaiting finish of 0 more threads\n",
      "2021-08-15 13:59:44,845 | INFO | word2vec.py:1624 | _log_epoch_end | EPOCH - 1 : training on 118319 raw words (93071 effective words) took 0.1s, 630531 effective words/s\n",
      "2021-08-15 13:59:44,846 | INFO | utils.py:448 | add_lifecycle_event | Doc2Vec lifecycle event {'msg': 'training on 118319 raw words (93071 effective words) took 0.2s, 607983 effective words/s', 'datetime': '2021-08-15T13:59:44.846034', 'gensim': '4.0.1', 'python': '3.7.4 (default, Aug 13 2019, 15:17:50) \\n[Clang 4.0.1 (tags/RELEASE_401/final)]', 'platform': 'Darwin-19.6.0-x86_64-i386-64bit', 'event': 'train'}\n",
      "100%|██████████| 5116/5116 [00:00<00:00, 3271544.33it/s]\n",
      "2021-08-15 13:59:44,851 | INFO | utils.py:448 | add_lifecycle_event | Doc2Vec lifecycle event {'msg': 'training model with 4 workers on 5703 vocabulary and 500 features, using sg=0 hs=0 sample=0.001 negative=5 window=2', 'datetime': '2021-08-15T13:59:44.851431', 'gensim': '4.0.1', 'python': '3.7.4 (default, Aug 13 2019, 15:17:50) \\n[Clang 4.0.1 (tags/RELEASE_401/final)]', 'platform': 'Darwin-19.6.0-x86_64-i386-64bit', 'event': 'train'}\n",
      "2021-08-15 13:59:45,027 | INFO | word2vec.py:1281 | _log_epoch_progress | worker thread finished; awaiting finish of 3 more threads\n",
      "2021-08-15 13:59:45,028 | INFO | word2vec.py:1281 | _log_epoch_progress | worker thread finished; awaiting finish of 2 more threads\n",
      "2021-08-15 13:59:45,029 | INFO | word2vec.py:1281 | _log_epoch_progress | worker thread finished; awaiting finish of 1 more threads\n",
      "2021-08-15 13:59:45,030 | INFO | word2vec.py:1281 | _log_epoch_progress | worker thread finished; awaiting finish of 0 more threads\n",
      "2021-08-15 13:59:45,031 | INFO | word2vec.py:1624 | _log_epoch_end | EPOCH - 1 : training on 118319 raw words (93150 effective words) took 0.2s, 543882 effective words/s\n",
      "2021-08-15 13:59:45,031 | INFO | utils.py:448 | add_lifecycle_event | Doc2Vec lifecycle event {'msg': 'training on 118319 raw words (93150 effective words) took 0.2s, 519109 effective words/s', 'datetime': '2021-08-15T13:59:45.031734', 'gensim': '4.0.1', 'python': '3.7.4 (default, Aug 13 2019, 15:17:50) \\n[Clang 4.0.1 (tags/RELEASE_401/final)]', 'platform': 'Darwin-19.6.0-x86_64-i386-64bit', 'event': 'train'}\n",
      "100%|██████████| 5116/5116 [00:00<00:00, 3630805.29it/s]\n",
      "2021-08-15 13:59:45,036 | INFO | utils.py:448 | add_lifecycle_event | Doc2Vec lifecycle event {'msg': 'training model with 4 workers on 5703 vocabulary and 500 features, using sg=0 hs=0 sample=0.001 negative=5 window=2', 'datetime': '2021-08-15T13:59:45.036242', 'gensim': '4.0.1', 'python': '3.7.4 (default, Aug 13 2019, 15:17:50) \\n[Clang 4.0.1 (tags/RELEASE_401/final)]', 'platform': 'Darwin-19.6.0-x86_64-i386-64bit', 'event': 'train'}\n",
      "2021-08-15 13:59:45,186 | INFO | word2vec.py:1281 | _log_epoch_progress | worker thread finished; awaiting finish of 3 more threads\n",
      "2021-08-15 13:59:45,190 | INFO | word2vec.py:1281 | _log_epoch_progress | worker thread finished; awaiting finish of 2 more threads\n",
      "2021-08-15 13:59:45,194 | INFO | word2vec.py:1281 | _log_epoch_progress | worker thread finished; awaiting finish of 1 more threads\n",
      "2021-08-15 13:59:45,196 | INFO | word2vec.py:1281 | _log_epoch_progress | worker thread finished; awaiting finish of 0 more threads\n"
     ]
    },
    {
     "name": "stderr",
     "output_type": "stream",
     "text": [
      "2021-08-15 13:59:45,197 | INFO | word2vec.py:1624 | _log_epoch_end | EPOCH - 1 : training on 118319 raw words (93040 effective words) took 0.2s, 598966 effective words/s\n",
      "2021-08-15 13:59:45,197 | INFO | utils.py:448 | add_lifecycle_event | Doc2Vec lifecycle event {'msg': 'training on 118319 raw words (93040 effective words) took 0.2s, 578296 effective words/s', 'datetime': '2021-08-15T13:59:45.197780', 'gensim': '4.0.1', 'python': '3.7.4 (default, Aug 13 2019, 15:17:50) \\n[Clang 4.0.1 (tags/RELEASE_401/final)]', 'platform': 'Darwin-19.6.0-x86_64-i386-64bit', 'event': 'train'}\n",
      "100%|██████████| 5116/5116 [00:00<00:00, 3365442.17it/s]\n",
      "2021-08-15 13:59:45,202 | INFO | utils.py:448 | add_lifecycle_event | Doc2Vec lifecycle event {'msg': 'training model with 4 workers on 5703 vocabulary and 500 features, using sg=0 hs=0 sample=0.001 negative=5 window=2', 'datetime': '2021-08-15T13:59:45.202345', 'gensim': '4.0.1', 'python': '3.7.4 (default, Aug 13 2019, 15:17:50) \\n[Clang 4.0.1 (tags/RELEASE_401/final)]', 'platform': 'Darwin-19.6.0-x86_64-i386-64bit', 'event': 'train'}\n",
      "2021-08-15 13:59:45,360 | INFO | word2vec.py:1281 | _log_epoch_progress | worker thread finished; awaiting finish of 3 more threads\n",
      "2021-08-15 13:59:45,364 | INFO | word2vec.py:1281 | _log_epoch_progress | worker thread finished; awaiting finish of 2 more threads\n",
      "2021-08-15 13:59:45,365 | INFO | word2vec.py:1281 | _log_epoch_progress | worker thread finished; awaiting finish of 1 more threads\n",
      "2021-08-15 13:59:45,366 | INFO | word2vec.py:1281 | _log_epoch_progress | worker thread finished; awaiting finish of 0 more threads\n",
      "2021-08-15 13:59:45,366 | INFO | word2vec.py:1624 | _log_epoch_end | EPOCH - 1 : training on 118319 raw words (93105 effective words) took 0.2s, 587097 effective words/s\n",
      "2021-08-15 13:59:45,367 | INFO | utils.py:448 | add_lifecycle_event | Doc2Vec lifecycle event {'msg': 'training on 118319 raw words (93105 effective words) took 0.2s, 567781 effective words/s', 'datetime': '2021-08-15T13:59:45.367315', 'gensim': '4.0.1', 'python': '3.7.4 (default, Aug 13 2019, 15:17:50) \\n[Clang 4.0.1 (tags/RELEASE_401/final)]', 'platform': 'Darwin-19.6.0-x86_64-i386-64bit', 'event': 'train'}\n",
      "100%|██████████| 5116/5116 [00:00<00:00, 3525806.65it/s]\n",
      "2021-08-15 13:59:45,372 | INFO | utils.py:448 | add_lifecycle_event | Doc2Vec lifecycle event {'msg': 'training model with 4 workers on 5703 vocabulary and 500 features, using sg=0 hs=0 sample=0.001 negative=5 window=2', 'datetime': '2021-08-15T13:59:45.372109', 'gensim': '4.0.1', 'python': '3.7.4 (default, Aug 13 2019, 15:17:50) \\n[Clang 4.0.1 (tags/RELEASE_401/final)]', 'platform': 'Darwin-19.6.0-x86_64-i386-64bit', 'event': 'train'}\n",
      "2021-08-15 13:59:45,526 | INFO | word2vec.py:1281 | _log_epoch_progress | worker thread finished; awaiting finish of 3 more threads\n",
      "2021-08-15 13:59:45,529 | INFO | word2vec.py:1281 | _log_epoch_progress | worker thread finished; awaiting finish of 2 more threads\n",
      "2021-08-15 13:59:45,530 | INFO | word2vec.py:1281 | _log_epoch_progress | worker thread finished; awaiting finish of 1 more threads\n",
      "2021-08-15 13:59:45,535 | INFO | word2vec.py:1281 | _log_epoch_progress | worker thread finished; awaiting finish of 0 more threads\n",
      "2021-08-15 13:59:45,536 | INFO | word2vec.py:1624 | _log_epoch_end | EPOCH - 1 : training on 118319 raw words (93216 effective words) took 0.2s, 591631 effective words/s\n",
      "2021-08-15 13:59:45,536 | INFO | utils.py:448 | add_lifecycle_event | Doc2Vec lifecycle event {'msg': 'training on 118319 raw words (93216 effective words) took 0.2s, 569286 effective words/s', 'datetime': '2021-08-15T13:59:45.536658', 'gensim': '4.0.1', 'python': '3.7.4 (default, Aug 13 2019, 15:17:50) \\n[Clang 4.0.1 (tags/RELEASE_401/final)]', 'platform': 'Darwin-19.6.0-x86_64-i386-64bit', 'event': 'train'}\n",
      "100%|██████████| 5116/5116 [00:00<00:00, 3124808.40it/s]\n",
      "2021-08-15 13:59:45,541 | INFO | utils.py:448 | add_lifecycle_event | Doc2Vec lifecycle event {'msg': 'training model with 4 workers on 5703 vocabulary and 500 features, using sg=0 hs=0 sample=0.001 negative=5 window=2', 'datetime': '2021-08-15T13:59:45.541764', 'gensim': '4.0.1', 'python': '3.7.4 (default, Aug 13 2019, 15:17:50) \\n[Clang 4.0.1 (tags/RELEASE_401/final)]', 'platform': 'Darwin-19.6.0-x86_64-i386-64bit', 'event': 'train'}\n",
      "2021-08-15 13:59:45,692 | INFO | word2vec.py:1281 | _log_epoch_progress | worker thread finished; awaiting finish of 3 more threads\n",
      "2021-08-15 13:59:45,696 | INFO | word2vec.py:1281 | _log_epoch_progress | worker thread finished; awaiting finish of 2 more threads\n",
      "2021-08-15 13:59:45,697 | INFO | word2vec.py:1281 | _log_epoch_progress | worker thread finished; awaiting finish of 1 more threads\n",
      "2021-08-15 13:59:45,700 | INFO | word2vec.py:1281 | _log_epoch_progress | worker thread finished; awaiting finish of 0 more threads\n",
      "2021-08-15 13:59:45,700 | INFO | word2vec.py:1624 | _log_epoch_end | EPOCH - 1 : training on 118319 raw words (93038 effective words) took 0.2s, 613561 effective words/s\n",
      "2021-08-15 13:59:45,701 | INFO | utils.py:448 | add_lifecycle_event | Doc2Vec lifecycle event {'msg': 'training on 118319 raw words (93038 effective words) took 0.2s, 586447 effective words/s', 'datetime': '2021-08-15T13:59:45.701062', 'gensim': '4.0.1', 'python': '3.7.4 (default, Aug 13 2019, 15:17:50) \\n[Clang 4.0.1 (tags/RELEASE_401/final)]', 'platform': 'Darwin-19.6.0-x86_64-i386-64bit', 'event': 'train'}\n",
      "100%|██████████| 5116/5116 [00:00<00:00, 3308875.75it/s]\n",
      "2021-08-15 13:59:45,705 | INFO | utils.py:448 | add_lifecycle_event | Doc2Vec lifecycle event {'msg': 'training model with 4 workers on 5703 vocabulary and 500 features, using sg=0 hs=0 sample=0.001 negative=5 window=2', 'datetime': '2021-08-15T13:59:45.705890', 'gensim': '4.0.1', 'python': '3.7.4 (default, Aug 13 2019, 15:17:50) \\n[Clang 4.0.1 (tags/RELEASE_401/final)]', 'platform': 'Darwin-19.6.0-x86_64-i386-64bit', 'event': 'train'}\n",
      "2021-08-15 13:59:45,850 | INFO | word2vec.py:1281 | _log_epoch_progress | worker thread finished; awaiting finish of 3 more threads\n",
      "2021-08-15 13:59:45,854 | INFO | word2vec.py:1281 | _log_epoch_progress | worker thread finished; awaiting finish of 2 more threads\n",
      "2021-08-15 13:59:45,857 | INFO | word2vec.py:1281 | _log_epoch_progress | worker thread finished; awaiting finish of 1 more threads\n",
      "2021-08-15 13:59:45,857 | INFO | word2vec.py:1281 | _log_epoch_progress | worker thread finished; awaiting finish of 0 more threads\n",
      "2021-08-15 13:59:45,858 | INFO | word2vec.py:1624 | _log_epoch_end | EPOCH - 1 : training on 118319 raw words (93269 effective words) took 0.1s, 635631 effective words/s\n",
      "2021-08-15 13:59:45,859 | INFO | utils.py:448 | add_lifecycle_event | Doc2Vec lifecycle event {'msg': 'training on 118319 raw words (93269 effective words) took 0.2s, 610059 effective words/s', 'datetime': '2021-08-15T13:59:45.859370', 'gensim': '4.0.1', 'python': '3.7.4 (default, Aug 13 2019, 15:17:50) \\n[Clang 4.0.1 (tags/RELEASE_401/final)]', 'platform': 'Darwin-19.6.0-x86_64-i386-64bit', 'event': 'train'}\n",
      "100%|██████████| 5116/5116 [00:00<00:00, 3137143.17it/s]\n",
      "2021-08-15 13:59:45,865 | INFO | utils.py:448 | add_lifecycle_event | Doc2Vec lifecycle event {'msg': 'training model with 4 workers on 5703 vocabulary and 500 features, using sg=0 hs=0 sample=0.001 negative=5 window=2', 'datetime': '2021-08-15T13:59:45.864982', 'gensim': '4.0.1', 'python': '3.7.4 (default, Aug 13 2019, 15:17:50) \\n[Clang 4.0.1 (tags/RELEASE_401/final)]', 'platform': 'Darwin-19.6.0-x86_64-i386-64bit', 'event': 'train'}\n",
      "2021-08-15 13:59:46,021 | INFO | word2vec.py:1281 | _log_epoch_progress | worker thread finished; awaiting finish of 3 more threads\n",
      "2021-08-15 13:59:46,024 | INFO | word2vec.py:1281 | _log_epoch_progress | worker thread finished; awaiting finish of 2 more threads\n",
      "2021-08-15 13:59:46,026 | INFO | word2vec.py:1281 | _log_epoch_progress | worker thread finished; awaiting finish of 1 more threads\n",
      "2021-08-15 13:59:46,027 | INFO | word2vec.py:1281 | _log_epoch_progress | worker thread finished; awaiting finish of 0 more threads\n",
      "2021-08-15 13:59:46,028 | INFO | word2vec.py:1624 | _log_epoch_end | EPOCH - 1 : training on 118319 raw words (93030 effective words) took 0.2s, 595598 effective words/s\n"
     ]
    },
    {
     "name": "stderr",
     "output_type": "stream",
     "text": [
      "2021-08-15 13:59:46,028 | INFO | utils.py:448 | add_lifecycle_event | Doc2Vec lifecycle event {'msg': 'training on 118319 raw words (93030 effective words) took 0.2s, 570009 effective words/s', 'datetime': '2021-08-15T13:59:46.028893', 'gensim': '4.0.1', 'python': '3.7.4 (default, Aug 13 2019, 15:17:50) \\n[Clang 4.0.1 (tags/RELEASE_401/final)]', 'platform': 'Darwin-19.6.0-x86_64-i386-64bit', 'event': 'train'}\n",
      "100%|██████████| 5116/5116 [00:00<00:00, 3590706.03it/s]\n",
      "2021-08-15 13:59:46,033 | INFO | utils.py:448 | add_lifecycle_event | Doc2Vec lifecycle event {'msg': 'training model with 4 workers on 5703 vocabulary and 500 features, using sg=0 hs=0 sample=0.001 negative=5 window=2', 'datetime': '2021-08-15T13:59:46.033599', 'gensim': '4.0.1', 'python': '3.7.4 (default, Aug 13 2019, 15:17:50) \\n[Clang 4.0.1 (tags/RELEASE_401/final)]', 'platform': 'Darwin-19.6.0-x86_64-i386-64bit', 'event': 'train'}\n",
      "2021-08-15 13:59:46,171 | INFO | word2vec.py:1281 | _log_epoch_progress | worker thread finished; awaiting finish of 3 more threads\n",
      "2021-08-15 13:59:46,173 | INFO | word2vec.py:1281 | _log_epoch_progress | worker thread finished; awaiting finish of 2 more threads\n",
      "2021-08-15 13:59:46,175 | INFO | word2vec.py:1281 | _log_epoch_progress | worker thread finished; awaiting finish of 1 more threads\n",
      "2021-08-15 13:59:46,177 | INFO | word2vec.py:1281 | _log_epoch_progress | worker thread finished; awaiting finish of 0 more threads\n",
      "2021-08-15 13:59:46,178 | INFO | word2vec.py:1624 | _log_epoch_end | EPOCH - 1 : training on 118319 raw words (93148 effective words) took 0.1s, 672035 effective words/s\n",
      "2021-08-15 13:59:46,178 | INFO | utils.py:448 | add_lifecycle_event | Doc2Vec lifecycle event {'msg': 'training on 118319 raw words (93148 effective words) took 0.1s, 645271 effective words/s', 'datetime': '2021-08-15T13:59:46.178593', 'gensim': '4.0.1', 'python': '3.7.4 (default, Aug 13 2019, 15:17:50) \\n[Clang 4.0.1 (tags/RELEASE_401/final)]', 'platform': 'Darwin-19.6.0-x86_64-i386-64bit', 'event': 'train'}\n",
      "100%|██████████| 5116/5116 [00:00<00:00, 3421792.26it/s]\n",
      "2021-08-15 13:59:46,183 | INFO | utils.py:448 | add_lifecycle_event | Doc2Vec lifecycle event {'msg': 'training model with 4 workers on 5703 vocabulary and 500 features, using sg=0 hs=0 sample=0.001 negative=5 window=2', 'datetime': '2021-08-15T13:59:46.183387', 'gensim': '4.0.1', 'python': '3.7.4 (default, Aug 13 2019, 15:17:50) \\n[Clang 4.0.1 (tags/RELEASE_401/final)]', 'platform': 'Darwin-19.6.0-x86_64-i386-64bit', 'event': 'train'}\n",
      "2021-08-15 13:59:46,318 | INFO | word2vec.py:1281 | _log_epoch_progress | worker thread finished; awaiting finish of 3 more threads\n",
      "2021-08-15 13:59:46,322 | INFO | word2vec.py:1281 | _log_epoch_progress | worker thread finished; awaiting finish of 2 more threads\n",
      "2021-08-15 13:59:46,323 | INFO | word2vec.py:1281 | _log_epoch_progress | worker thread finished; awaiting finish of 1 more threads\n",
      "2021-08-15 13:59:46,325 | INFO | word2vec.py:1281 | _log_epoch_progress | worker thread finished; awaiting finish of 0 more threads\n",
      "2021-08-15 13:59:46,326 | INFO | word2vec.py:1624 | _log_epoch_end | EPOCH - 1 : training on 118319 raw words (93214 effective words) took 0.1s, 679048 effective words/s\n",
      "2021-08-15 13:59:46,326 | INFO | utils.py:448 | add_lifecycle_event | Doc2Vec lifecycle event {'msg': 'training on 118319 raw words (93214 effective words) took 0.1s, 653420 effective words/s', 'datetime': '2021-08-15T13:59:46.326662', 'gensim': '4.0.1', 'python': '3.7.4 (default, Aug 13 2019, 15:17:50) \\n[Clang 4.0.1 (tags/RELEASE_401/final)]', 'platform': 'Darwin-19.6.0-x86_64-i386-64bit', 'event': 'train'}\n",
      "100%|██████████| 5116/5116 [00:00<00:00, 3207482.70it/s]\n",
      "2021-08-15 13:59:46,331 | INFO | utils.py:448 | add_lifecycle_event | Doc2Vec lifecycle event {'msg': 'training model with 4 workers on 5703 vocabulary and 500 features, using sg=0 hs=0 sample=0.001 negative=5 window=2', 'datetime': '2021-08-15T13:59:46.331421', 'gensim': '4.0.1', 'python': '3.7.4 (default, Aug 13 2019, 15:17:50) \\n[Clang 4.0.1 (tags/RELEASE_401/final)]', 'platform': 'Darwin-19.6.0-x86_64-i386-64bit', 'event': 'train'}\n",
      "2021-08-15 13:59:46,465 | INFO | word2vec.py:1281 | _log_epoch_progress | worker thread finished; awaiting finish of 3 more threads\n",
      "2021-08-15 13:59:46,468 | INFO | word2vec.py:1281 | _log_epoch_progress | worker thread finished; awaiting finish of 2 more threads\n",
      "2021-08-15 13:59:46,469 | INFO | word2vec.py:1281 | _log_epoch_progress | worker thread finished; awaiting finish of 1 more threads\n",
      "2021-08-15 13:59:46,472 | INFO | word2vec.py:1281 | _log_epoch_progress | worker thread finished; awaiting finish of 0 more threads\n",
      "2021-08-15 13:59:46,473 | INFO | word2vec.py:1624 | _log_epoch_end | EPOCH - 1 : training on 118319 raw words (93267 effective words) took 0.1s, 684045 effective words/s\n",
      "2021-08-15 13:59:46,473 | INFO | utils.py:448 | add_lifecycle_event | Doc2Vec lifecycle event {'msg': 'training on 118319 raw words (93267 effective words) took 0.1s, 657884 effective words/s', 'datetime': '2021-08-15T13:59:46.473820', 'gensim': '4.0.1', 'python': '3.7.4 (default, Aug 13 2019, 15:17:50) \\n[Clang 4.0.1 (tags/RELEASE_401/final)]', 'platform': 'Darwin-19.6.0-x86_64-i386-64bit', 'event': 'train'}\n",
      "100%|██████████| 5116/5116 [00:00<00:00, 3288087.54it/s]\n",
      "2021-08-15 13:59:46,479 | INFO | utils.py:448 | add_lifecycle_event | Doc2Vec lifecycle event {'msg': 'training model with 4 workers on 5703 vocabulary and 500 features, using sg=0 hs=0 sample=0.001 negative=5 window=2', 'datetime': '2021-08-15T13:59:46.479089', 'gensim': '4.0.1', 'python': '3.7.4 (default, Aug 13 2019, 15:17:50) \\n[Clang 4.0.1 (tags/RELEASE_401/final)]', 'platform': 'Darwin-19.6.0-x86_64-i386-64bit', 'event': 'train'}\n",
      "2021-08-15 13:59:46,637 | INFO | word2vec.py:1281 | _log_epoch_progress | worker thread finished; awaiting finish of 3 more threads\n",
      "2021-08-15 13:59:46,639 | INFO | word2vec.py:1281 | _log_epoch_progress | worker thread finished; awaiting finish of 2 more threads\n",
      "2021-08-15 13:59:46,643 | INFO | word2vec.py:1281 | _log_epoch_progress | worker thread finished; awaiting finish of 1 more threads\n",
      "2021-08-15 13:59:46,645 | INFO | word2vec.py:1281 | _log_epoch_progress | worker thread finished; awaiting finish of 0 more threads\n",
      "2021-08-15 13:59:46,645 | INFO | word2vec.py:1624 | _log_epoch_end | EPOCH - 1 : training on 118319 raw words (93056 effective words) took 0.2s, 581983 effective words/s\n",
      "2021-08-15 13:59:46,646 | INFO | utils.py:448 | add_lifecycle_event | Doc2Vec lifecycle event {'msg': 'training on 118319 raw words (93056 effective words) took 0.2s, 559494 effective words/s', 'datetime': '2021-08-15T13:59:46.646413', 'gensim': '4.0.1', 'python': '3.7.4 (default, Aug 13 2019, 15:17:50) \\n[Clang 4.0.1 (tags/RELEASE_401/final)]', 'platform': 'Darwin-19.6.0-x86_64-i386-64bit', 'event': 'train'}\n",
      "100%|██████████| 5116/5116 [00:00<00:00, 3306836.07it/s]\n",
      "2021-08-15 13:59:46,651 | INFO | utils.py:448 | add_lifecycle_event | Doc2Vec lifecycle event {'msg': 'training model with 4 workers on 5703 vocabulary and 500 features, using sg=0 hs=0 sample=0.001 negative=5 window=2', 'datetime': '2021-08-15T13:59:46.651468', 'gensim': '4.0.1', 'python': '3.7.4 (default, Aug 13 2019, 15:17:50) \\n[Clang 4.0.1 (tags/RELEASE_401/final)]', 'platform': 'Darwin-19.6.0-x86_64-i386-64bit', 'event': 'train'}\n",
      "2021-08-15 13:59:46,786 | INFO | word2vec.py:1281 | _log_epoch_progress | worker thread finished; awaiting finish of 3 more threads\n",
      "2021-08-15 13:59:46,789 | INFO | word2vec.py:1281 | _log_epoch_progress | worker thread finished; awaiting finish of 2 more threads\n",
      "2021-08-15 13:59:46,791 | INFO | word2vec.py:1281 | _log_epoch_progress | worker thread finished; awaiting finish of 1 more threads\n",
      "2021-08-15 13:59:46,793 | INFO | word2vec.py:1281 | _log_epoch_progress | worker thread finished; awaiting finish of 0 more threads\n",
      "2021-08-15 13:59:46,794 | INFO | word2vec.py:1624 | _log_epoch_end | EPOCH - 1 : training on 118319 raw words (93234 effective words) took 0.1s, 679364 effective words/s\n",
      "2021-08-15 13:59:46,794 | INFO | utils.py:448 | add_lifecycle_event | Doc2Vec lifecycle event {'msg': 'training on 118319 raw words (93234 effective words) took 0.1s, 654043 effective words/s', 'datetime': '2021-08-15T13:59:46.794689', 'gensim': '4.0.1', 'python': '3.7.4 (default, Aug 13 2019, 15:17:50) \\n[Clang 4.0.1 (tags/RELEASE_401/final)]', 'platform': 'Darwin-19.6.0-x86_64-i386-64bit', 'event': 'train'}\n"
     ]
    },
    {
     "name": "stderr",
     "output_type": "stream",
     "text": [
      "100%|██████████| 5116/5116 [00:00<00:00, 3547959.53it/s]\n",
      "2021-08-15 13:59:46,799 | INFO | utils.py:448 | add_lifecycle_event | Doc2Vec lifecycle event {'msg': 'training model with 4 workers on 5703 vocabulary and 500 features, using sg=0 hs=0 sample=0.001 negative=5 window=2', 'datetime': '2021-08-15T13:59:46.799169', 'gensim': '4.0.1', 'python': '3.7.4 (default, Aug 13 2019, 15:17:50) \\n[Clang 4.0.1 (tags/RELEASE_401/final)]', 'platform': 'Darwin-19.6.0-x86_64-i386-64bit', 'event': 'train'}\n",
      "2021-08-15 13:59:46,946 | INFO | word2vec.py:1281 | _log_epoch_progress | worker thread finished; awaiting finish of 3 more threads\n",
      "2021-08-15 13:59:46,948 | INFO | word2vec.py:1281 | _log_epoch_progress | worker thread finished; awaiting finish of 2 more threads\n",
      "2021-08-15 13:59:46,950 | INFO | word2vec.py:1281 | _log_epoch_progress | worker thread finished; awaiting finish of 1 more threads\n",
      "2021-08-15 13:59:46,952 | INFO | word2vec.py:1281 | _log_epoch_progress | worker thread finished; awaiting finish of 0 more threads\n",
      "2021-08-15 13:59:46,952 | INFO | word2vec.py:1624 | _log_epoch_end | EPOCH - 1 : training on 118319 raw words (93145 effective words) took 0.1s, 631110 effective words/s\n",
      "2021-08-15 13:59:46,953 | INFO | utils.py:448 | add_lifecycle_event | Doc2Vec lifecycle event {'msg': 'training on 118319 raw words (93145 effective words) took 0.2s, 608965 effective words/s', 'datetime': '2021-08-15T13:59:46.953074', 'gensim': '4.0.1', 'python': '3.7.4 (default, Aug 13 2019, 15:17:50) \\n[Clang 4.0.1 (tags/RELEASE_401/final)]', 'platform': 'Darwin-19.6.0-x86_64-i386-64bit', 'event': 'train'}\n",
      "100%|██████████| 5116/5116 [00:00<00:00, 2823428.85it/s]\n",
      "2021-08-15 13:59:46,958 | INFO | utils.py:448 | add_lifecycle_event | Doc2Vec lifecycle event {'msg': 'training model with 4 workers on 5703 vocabulary and 500 features, using sg=0 hs=0 sample=0.001 negative=5 window=2', 'datetime': '2021-08-15T13:59:46.958408', 'gensim': '4.0.1', 'python': '3.7.4 (default, Aug 13 2019, 15:17:50) \\n[Clang 4.0.1 (tags/RELEASE_401/final)]', 'platform': 'Darwin-19.6.0-x86_64-i386-64bit', 'event': 'train'}\n",
      "2021-08-15 13:59:47,119 | INFO | word2vec.py:1281 | _log_epoch_progress | worker thread finished; awaiting finish of 3 more threads\n",
      "2021-08-15 13:59:47,121 | INFO | word2vec.py:1281 | _log_epoch_progress | worker thread finished; awaiting finish of 2 more threads\n",
      "2021-08-15 13:59:47,124 | INFO | word2vec.py:1281 | _log_epoch_progress | worker thread finished; awaiting finish of 1 more threads\n",
      "2021-08-15 13:59:47,127 | INFO | word2vec.py:1281 | _log_epoch_progress | worker thread finished; awaiting finish of 0 more threads\n",
      "2021-08-15 13:59:47,128 | INFO | word2vec.py:1624 | _log_epoch_end | EPOCH - 1 : training on 118319 raw words (93166 effective words) took 0.2s, 573407 effective words/s\n",
      "2021-08-15 13:59:47,129 | INFO | utils.py:448 | add_lifecycle_event | Doc2Vec lifecycle event {'msg': 'training on 118319 raw words (93166 effective words) took 0.2s, 548338 effective words/s', 'datetime': '2021-08-15T13:59:47.129113', 'gensim': '4.0.1', 'python': '3.7.4 (default, Aug 13 2019, 15:17:50) \\n[Clang 4.0.1 (tags/RELEASE_401/final)]', 'platform': 'Darwin-19.6.0-x86_64-i386-64bit', 'event': 'train'}\n",
      "100%|██████████| 5116/5116 [00:00<00:00, 3484582.54it/s]\n",
      "2021-08-15 13:59:47,135 | INFO | utils.py:448 | add_lifecycle_event | Doc2Vec lifecycle event {'msg': 'training model with 4 workers on 5703 vocabulary and 500 features, using sg=0 hs=0 sample=0.001 negative=5 window=2', 'datetime': '2021-08-15T13:59:47.135074', 'gensim': '4.0.1', 'python': '3.7.4 (default, Aug 13 2019, 15:17:50) \\n[Clang 4.0.1 (tags/RELEASE_401/final)]', 'platform': 'Darwin-19.6.0-x86_64-i386-64bit', 'event': 'train'}\n",
      "2021-08-15 13:59:47,272 | INFO | word2vec.py:1281 | _log_epoch_progress | worker thread finished; awaiting finish of 3 more threads\n",
      "2021-08-15 13:59:47,274 | INFO | word2vec.py:1281 | _log_epoch_progress | worker thread finished; awaiting finish of 2 more threads\n",
      "2021-08-15 13:59:47,277 | INFO | word2vec.py:1281 | _log_epoch_progress | worker thread finished; awaiting finish of 1 more threads\n",
      "2021-08-15 13:59:47,279 | INFO | word2vec.py:1281 | _log_epoch_progress | worker thread finished; awaiting finish of 0 more threads\n",
      "2021-08-15 13:59:47,280 | INFO | word2vec.py:1624 | _log_epoch_end | EPOCH - 1 : training on 118319 raw words (93129 effective words) took 0.1s, 666105 effective words/s\n",
      "2021-08-15 13:59:47,280 | INFO | utils.py:448 | add_lifecycle_event | Doc2Vec lifecycle event {'msg': 'training on 118319 raw words (93129 effective words) took 0.1s, 641264 effective words/s', 'datetime': '2021-08-15T13:59:47.280933', 'gensim': '4.0.1', 'python': '3.7.4 (default, Aug 13 2019, 15:17:50) \\n[Clang 4.0.1 (tags/RELEASE_401/final)]', 'platform': 'Darwin-19.6.0-x86_64-i386-64bit', 'event': 'train'}\n",
      "100%|██████████| 5116/5116 [00:00<00:00, 2348993.90it/s]\n",
      "2021-08-15 13:59:47,286 | INFO | utils.py:448 | add_lifecycle_event | Doc2Vec lifecycle event {'msg': 'training model with 4 workers on 5703 vocabulary and 500 features, using sg=0 hs=0 sample=0.001 negative=5 window=2', 'datetime': '2021-08-15T13:59:47.286368', 'gensim': '4.0.1', 'python': '3.7.4 (default, Aug 13 2019, 15:17:50) \\n[Clang 4.0.1 (tags/RELEASE_401/final)]', 'platform': 'Darwin-19.6.0-x86_64-i386-64bit', 'event': 'train'}\n",
      "2021-08-15 13:59:47,448 | INFO | word2vec.py:1281 | _log_epoch_progress | worker thread finished; awaiting finish of 3 more threads\n",
      "2021-08-15 13:59:47,452 | INFO | word2vec.py:1281 | _log_epoch_progress | worker thread finished; awaiting finish of 2 more threads\n",
      "2021-08-15 13:59:47,455 | INFO | word2vec.py:1281 | _log_epoch_progress | worker thread finished; awaiting finish of 1 more threads\n",
      "2021-08-15 13:59:47,457 | INFO | word2vec.py:1281 | _log_epoch_progress | worker thread finished; awaiting finish of 0 more threads\n",
      "2021-08-15 13:59:47,457 | INFO | word2vec.py:1624 | _log_epoch_end | EPOCH - 1 : training on 118319 raw words (93076 effective words) took 0.2s, 562509 effective words/s\n",
      "2021-08-15 13:59:47,458 | INFO | utils.py:448 | add_lifecycle_event | Doc2Vec lifecycle event {'msg': 'training on 118319 raw words (93076 effective words) took 0.2s, 542571 effective words/s', 'datetime': '2021-08-15T13:59:47.458525', 'gensim': '4.0.1', 'python': '3.7.4 (default, Aug 13 2019, 15:17:50) \\n[Clang 4.0.1 (tags/RELEASE_401/final)]', 'platform': 'Darwin-19.6.0-x86_64-i386-64bit', 'event': 'train'}\n"
     ]
    },
    {
     "name": "stdout",
     "output_type": "stream",
     "text": [
      "CPU times: user 9.96 s, sys: 756 ms, total: 10.7 s\n",
      "Wall time: 5.02 s\n"
     ]
    }
   ],
   "source": [
    "%%time\n",
    "for epoch in range(30):\n",
    "    model_ug_dmc.train(utils.shuffle([x for x in tqdm(all_x_w2v)]), total_examples=len(all_x_w2v), epochs=1)\n",
    "    model_ug_dmc.alpha -= 0.002\n",
    "    model_ug_dmc.min_alpha = model_ug_dmc.alpha\n",
    "    "
   ]
  },
  {
   "cell_type": "code",
   "execution_count": 155,
   "metadata": {},
   "outputs": [],
   "source": [
    "train_vecs_dmc = get_vectors(model_ug_dmc, x_train1, 100)\n",
    "validation_vecs_dmc = get_vectors(model_ug_dmc, x_val1, 100)"
   ]
  },
  {
   "cell_type": "code",
   "execution_count": 156,
   "metadata": {},
   "outputs": [
    {
     "data": {
      "text/plain": [
       "LogisticRegression()"
      ]
     },
     "execution_count": 156,
     "metadata": {},
     "output_type": "execute_result"
    }
   ],
   "source": [
    "clf = LogisticRegression()\n",
    "clf.fit(train_vecs_dmc, train_labels)"
   ]
  },
  {
   "cell_type": "code",
   "execution_count": 157,
   "metadata": {},
   "outputs": [
    {
     "data": {
      "text/plain": [
       "0.47010550996483"
      ]
     },
     "execution_count": 157,
     "metadata": {},
     "output_type": "execute_result"
    }
   ],
   "source": [
    "clf.score(validation_vecs_dmc,test_labels)"
   ]
  },
  {
   "cell_type": "code",
   "execution_count": 158,
   "metadata": {},
   "outputs": [
    {
     "name": "stderr",
     "output_type": "stream",
     "text": [
      "2021-08-15 14:02:07,227 | INFO | utils.py:448 | add_lifecycle_event | Doc2Vec lifecycle event {'params': 'Doc2Vec(dm/m,d100,n5,w4,mc2,s0.001,t4)', 'datetime': '2021-08-15T14:02:07.227848', 'gensim': '4.0.1', 'python': '3.7.4 (default, Aug 13 2019, 15:17:50) \\n[Clang 4.0.1 (tags/RELEASE_401/final)]', 'platform': 'Darwin-19.6.0-x86_64-i386-64bit', 'event': 'created'}\n",
      "100%|██████████| 5116/5116 [00:00<00:00, 3543272.67it/s]\n",
      "2021-08-15 14:02:07,233 | INFO | doc2vec.py:1032 | scan_vocab | collecting all words and their counts\n",
      "2021-08-15 14:02:07,233 | INFO | doc2vec.py:951 | _scan_vocab | PROGRESS: at example #0, processed 0 words (0/s), 0 word types, 0 tags\n",
      "2021-08-15 14:02:07,288 | INFO | doc2vec.py:1040 | scan_vocab | collected 11564 word types and 5116 unique tags from a corpus of 5116 examples and 118319 words\n",
      "2021-08-15 14:02:07,289 | INFO | word2vec.py:626 | prepare_vocab | Creating a fresh vocabulary\n",
      "2021-08-15 14:02:07,311 | INFO | utils.py:448 | add_lifecycle_event | Doc2Vec lifecycle event {'msg': 'effective_min_count=2 retains 5702 unique words (49.308197855413354%% of original 11564, drops 5862)', 'datetime': '2021-08-15T14:02:07.311816', 'gensim': '4.0.1', 'python': '3.7.4 (default, Aug 13 2019, 15:17:50) \\n[Clang 4.0.1 (tags/RELEASE_401/final)]', 'platform': 'Darwin-19.6.0-x86_64-i386-64bit', 'event': 'prepare_vocab'}\n",
      "2021-08-15 14:02:07,312 | INFO | utils.py:448 | add_lifecycle_event | Doc2Vec lifecycle event {'msg': 'effective_min_count=2 leaves 112457 word corpus (95.04559707232144%% of original 118319, drops 5862)', 'datetime': '2021-08-15T14:02:07.312590', 'gensim': '4.0.1', 'python': '3.7.4 (default, Aug 13 2019, 15:17:50) \\n[Clang 4.0.1 (tags/RELEASE_401/final)]', 'platform': 'Darwin-19.6.0-x86_64-i386-64bit', 'event': 'prepare_vocab'}\n",
      "2021-08-15 14:02:07,347 | INFO | word2vec.py:734 | prepare_vocab | deleting the raw counts dictionary of 11564 items\n",
      "2021-08-15 14:02:07,348 | INFO | word2vec.py:737 | prepare_vocab | sample=0.001 downsamples 53 most-common words\n",
      "2021-08-15 14:02:07,348 | INFO | utils.py:448 | add_lifecycle_event | Doc2Vec lifecycle event {'msg': 'downsampling leaves estimated 87992.56376216558 word corpus (78.2%% of prior 112457)', 'datetime': '2021-08-15T14:02:07.348873', 'gensim': '4.0.1', 'python': '3.7.4 (default, Aug 13 2019, 15:17:50) \\n[Clang 4.0.1 (tags/RELEASE_401/final)]', 'platform': 'Darwin-19.6.0-x86_64-i386-64bit', 'event': 'prepare_vocab'}\n",
      "2021-08-15 14:02:07,423 | INFO | word2vec.py:796 | estimate_memory | estimated required memory for 5702 words and 100 dimensions: 10482200 bytes\n",
      "2021-08-15 14:02:07,423 | INFO | word2vec.py:852 | init_weights | resetting layer weights\n"
     ]
    }
   ],
   "source": [
    "cores = multiprocessing.cpu_count()\n",
    "model_ug_dmm = Doc2Vec(dm=1, dm_mean=1, vector_size=100, window=4, negative=5, min_count=2, workers=cores, alpha=0.065, min_alpha=0.065)\n",
    "model_ug_dmm.build_vocab([x for x in tqdm(all_x_w2v)])"
   ]
  },
  {
   "cell_type": "code",
   "execution_count": 159,
   "metadata": {},
   "outputs": [
    {
     "name": "stderr",
     "output_type": "stream",
     "text": [
      "100%|██████████| 5116/5116 [00:00<00:00, 3403879.96it/s]\n",
      "2021-08-15 14:02:16,560 | INFO | utils.py:448 | add_lifecycle_event | Doc2Vec lifecycle event {'msg': 'training model with 4 workers on 5702 vocabulary and 100 features, using sg=0 hs=0 sample=0.001 negative=5 window=4', 'datetime': '2021-08-15T14:02:16.560089', 'gensim': '4.0.1', 'python': '3.7.4 (default, Aug 13 2019, 15:17:50) \\n[Clang 4.0.1 (tags/RELEASE_401/final)]', 'platform': 'Darwin-19.6.0-x86_64-i386-64bit', 'event': 'train'}\n",
      "2021-08-15 14:02:16,852 | INFO | word2vec.py:1281 | _log_epoch_progress | worker thread finished; awaiting finish of 3 more threads\n",
      "2021-08-15 14:02:16,863 | INFO | word2vec.py:1281 | _log_epoch_progress | worker thread finished; awaiting finish of 2 more threads\n",
      "2021-08-15 14:02:16,864 | INFO | word2vec.py:1281 | _log_epoch_progress | worker thread finished; awaiting finish of 1 more threads\n",
      "2021-08-15 14:02:16,866 | INFO | word2vec.py:1281 | _log_epoch_progress | worker thread finished; awaiting finish of 0 more threads\n",
      "2021-08-15 14:02:16,866 | INFO | word2vec.py:1624 | _log_epoch_end | EPOCH - 1 : training on 118319 raw words (93344 effective words) took 0.3s, 311015 effective words/s\n",
      "2021-08-15 14:02:16,867 | INFO | utils.py:448 | add_lifecycle_event | Doc2Vec lifecycle event {'msg': 'training on 118319 raw words (93344 effective words) took 0.3s, 304551 effective words/s', 'datetime': '2021-08-15T14:02:16.867248', 'gensim': '4.0.1', 'python': '3.7.4 (default, Aug 13 2019, 15:17:50) \\n[Clang 4.0.1 (tags/RELEASE_401/final)]', 'platform': 'Darwin-19.6.0-x86_64-i386-64bit', 'event': 'train'}\n",
      "100%|██████████| 5116/5116 [00:00<00:00, 3506218.83it/s]\n",
      "2021-08-15 14:02:16,872 | INFO | utils.py:448 | add_lifecycle_event | Doc2Vec lifecycle event {'msg': 'training model with 4 workers on 5702 vocabulary and 100 features, using sg=0 hs=0 sample=0.001 negative=5 window=4', 'datetime': '2021-08-15T14:02:16.872039', 'gensim': '4.0.1', 'python': '3.7.4 (default, Aug 13 2019, 15:17:50) \\n[Clang 4.0.1 (tags/RELEASE_401/final)]', 'platform': 'Darwin-19.6.0-x86_64-i386-64bit', 'event': 'train'}\n",
      "2021-08-15 14:02:17,156 | INFO | word2vec.py:1281 | _log_epoch_progress | worker thread finished; awaiting finish of 3 more threads\n",
      "2021-08-15 14:02:17,160 | INFO | word2vec.py:1281 | _log_epoch_progress | worker thread finished; awaiting finish of 2 more threads\n",
      "2021-08-15 14:02:17,161 | INFO | word2vec.py:1281 | _log_epoch_progress | worker thread finished; awaiting finish of 1 more threads\n",
      "2021-08-15 14:02:17,162 | INFO | word2vec.py:1281 | _log_epoch_progress | worker thread finished; awaiting finish of 0 more threads\n",
      "2021-08-15 14:02:17,162 | INFO | word2vec.py:1624 | _log_epoch_end | EPOCH - 1 : training on 118319 raw words (93097 effective words) took 0.3s, 326521 effective words/s\n",
      "2021-08-15 14:02:17,163 | INFO | utils.py:448 | add_lifecycle_event | Doc2Vec lifecycle event {'msg': 'training on 118319 raw words (93097 effective words) took 0.3s, 320205 effective words/s', 'datetime': '2021-08-15T14:02:17.163540', 'gensim': '4.0.1', 'python': '3.7.4 (default, Aug 13 2019, 15:17:50) \\n[Clang 4.0.1 (tags/RELEASE_401/final)]', 'platform': 'Darwin-19.6.0-x86_64-i386-64bit', 'event': 'train'}\n",
      "100%|██████████| 5116/5116 [00:00<00:00, 3300732.08it/s]\n",
      "2021-08-15 14:02:17,169 | INFO | utils.py:448 | add_lifecycle_event | Doc2Vec lifecycle event {'msg': 'training model with 4 workers on 5702 vocabulary and 100 features, using sg=0 hs=0 sample=0.001 negative=5 window=4', 'datetime': '2021-08-15T14:02:17.169692', 'gensim': '4.0.1', 'python': '3.7.4 (default, Aug 13 2019, 15:17:50) \\n[Clang 4.0.1 (tags/RELEASE_401/final)]', 'platform': 'Darwin-19.6.0-x86_64-i386-64bit', 'event': 'train'}\n",
      "2021-08-15 14:02:17,465 | INFO | word2vec.py:1281 | _log_epoch_progress | worker thread finished; awaiting finish of 3 more threads\n",
      "2021-08-15 14:02:17,473 | INFO | word2vec.py:1281 | _log_epoch_progress | worker thread finished; awaiting finish of 2 more threads\n",
      "2021-08-15 14:02:17,476 | INFO | word2vec.py:1281 | _log_epoch_progress | worker thread finished; awaiting finish of 1 more threads\n",
      "2021-08-15 14:02:17,478 | INFO | word2vec.py:1281 | _log_epoch_progress | worker thread finished; awaiting finish of 0 more threads\n",
      "2021-08-15 14:02:17,478 | INFO | word2vec.py:1624 | _log_epoch_end | EPOCH - 1 : training on 118319 raw words (93251 effective words) took 0.3s, 307994 effective words/s\n",
      "2021-08-15 14:02:17,479 | INFO | utils.py:448 | add_lifecycle_event | Doc2Vec lifecycle event {'msg': 'training on 118319 raw words (93251 effective words) took 0.3s, 302039 effective words/s', 'datetime': '2021-08-15T14:02:17.479093', 'gensim': '4.0.1', 'python': '3.7.4 (default, Aug 13 2019, 15:17:50) \\n[Clang 4.0.1 (tags/RELEASE_401/final)]', 'platform': 'Darwin-19.6.0-x86_64-i386-64bit', 'event': 'train'}\n",
      "100%|██████████| 5116/5116 [00:00<00:00, 3438791.55it/s]\n",
      "2021-08-15 14:02:17,483 | INFO | utils.py:448 | add_lifecycle_event | Doc2Vec lifecycle event {'msg': 'training model with 4 workers on 5702 vocabulary and 100 features, using sg=0 hs=0 sample=0.001 negative=5 window=4', 'datetime': '2021-08-15T14:02:17.483771', 'gensim': '4.0.1', 'python': '3.7.4 (default, Aug 13 2019, 15:17:50) \\n[Clang 4.0.1 (tags/RELEASE_401/final)]', 'platform': 'Darwin-19.6.0-x86_64-i386-64bit', 'event': 'train'}\n",
      "2021-08-15 14:02:17,772 | INFO | word2vec.py:1281 | _log_epoch_progress | worker thread finished; awaiting finish of 3 more threads\n",
      "2021-08-15 14:02:17,786 | INFO | word2vec.py:1281 | _log_epoch_progress | worker thread finished; awaiting finish of 2 more threads\n",
      "2021-08-15 14:02:17,799 | INFO | word2vec.py:1281 | _log_epoch_progress | worker thread finished; awaiting finish of 1 more threads\n",
      "2021-08-15 14:02:17,801 | INFO | word2vec.py:1281 | _log_epoch_progress | worker thread finished; awaiting finish of 0 more threads\n",
      "2021-08-15 14:02:17,807 | INFO | word2vec.py:1624 | _log_epoch_end | EPOCH - 1 : training on 118319 raw words (93178 effective words) took 0.3s, 293714 effective words/s\n",
      "2021-08-15 14:02:17,811 | INFO | utils.py:448 | add_lifecycle_event | Doc2Vec lifecycle event {'msg': 'training on 118319 raw words (93178 effective words) took 0.3s, 284980 effective words/s', 'datetime': '2021-08-15T14:02:17.811460', 'gensim': '4.0.1', 'python': '3.7.4 (default, Aug 13 2019, 15:17:50) \\n[Clang 4.0.1 (tags/RELEASE_401/final)]', 'platform': 'Darwin-19.6.0-x86_64-i386-64bit', 'event': 'train'}\n",
      "100%|██████████| 5116/5116 [00:00<00:00, 3018011.15it/s]\n",
      "2021-08-15 14:02:17,817 | INFO | utils.py:448 | add_lifecycle_event | Doc2Vec lifecycle event {'msg': 'training model with 4 workers on 5702 vocabulary and 100 features, using sg=0 hs=0 sample=0.001 negative=5 window=4', 'datetime': '2021-08-15T14:02:17.817315', 'gensim': '4.0.1', 'python': '3.7.4 (default, Aug 13 2019, 15:17:50) \\n[Clang 4.0.1 (tags/RELEASE_401/final)]', 'platform': 'Darwin-19.6.0-x86_64-i386-64bit', 'event': 'train'}\n",
      "2021-08-15 14:02:18,125 | INFO | word2vec.py:1281 | _log_epoch_progress | worker thread finished; awaiting finish of 3 more threads\n",
      "2021-08-15 14:02:18,128 | INFO | word2vec.py:1281 | _log_epoch_progress | worker thread finished; awaiting finish of 2 more threads\n",
      "2021-08-15 14:02:18,131 | INFO | word2vec.py:1281 | _log_epoch_progress | worker thread finished; awaiting finish of 1 more threads\n",
      "2021-08-15 14:02:18,133 | INFO | word2vec.py:1281 | _log_epoch_progress | worker thread finished; awaiting finish of 0 more threads\n",
      "2021-08-15 14:02:18,133 | INFO | word2vec.py:1624 | _log_epoch_end | EPOCH - 1 : training on 118319 raw words (93080 effective words) took 0.3s, 302672 effective words/s\n",
      "2021-08-15 14:02:18,134 | INFO | utils.py:448 | add_lifecycle_event | Doc2Vec lifecycle event {'msg': 'training on 118319 raw words (93080 effective words) took 0.3s, 294341 effective words/s', 'datetime': '2021-08-15T14:02:18.134289', 'gensim': '4.0.1', 'python': '3.7.4 (default, Aug 13 2019, 15:17:50) \\n[Clang 4.0.1 (tags/RELEASE_401/final)]', 'platform': 'Darwin-19.6.0-x86_64-i386-64bit', 'event': 'train'}\n",
      "100%|██████████| 5116/5116 [00:00<00:00, 3394725.40it/s]\n",
      "2021-08-15 14:02:18,139 | INFO | utils.py:448 | add_lifecycle_event | Doc2Vec lifecycle event {'msg': 'training model with 4 workers on 5702 vocabulary and 100 features, using sg=0 hs=0 sample=0.001 negative=5 window=4', 'datetime': '2021-08-15T14:02:18.139838', 'gensim': '4.0.1', 'python': '3.7.4 (default, Aug 13 2019, 15:17:50) \\n[Clang 4.0.1 (tags/RELEASE_401/final)]', 'platform': 'Darwin-19.6.0-x86_64-i386-64bit', 'event': 'train'}\n"
     ]
    },
    {
     "name": "stderr",
     "output_type": "stream",
     "text": [
      "2021-08-15 14:02:18,437 | INFO | word2vec.py:1281 | _log_epoch_progress | worker thread finished; awaiting finish of 3 more threads\n",
      "2021-08-15 14:02:18,444 | INFO | word2vec.py:1281 | _log_epoch_progress | worker thread finished; awaiting finish of 2 more threads\n",
      "2021-08-15 14:02:18,446 | INFO | word2vec.py:1281 | _log_epoch_progress | worker thread finished; awaiting finish of 1 more threads\n",
      "2021-08-15 14:02:18,450 | INFO | word2vec.py:1281 | _log_epoch_progress | worker thread finished; awaiting finish of 0 more threads\n",
      "2021-08-15 14:02:18,450 | INFO | word2vec.py:1624 | _log_epoch_end | EPOCH - 1 : training on 118319 raw words (92950 effective words) took 0.3s, 304322 effective words/s\n",
      "2021-08-15 14:02:18,451 | INFO | utils.py:448 | add_lifecycle_event | Doc2Vec lifecycle event {'msg': 'training on 118319 raw words (92950 effective words) took 0.3s, 299059 effective words/s', 'datetime': '2021-08-15T14:02:18.451292', 'gensim': '4.0.1', 'python': '3.7.4 (default, Aug 13 2019, 15:17:50) \\n[Clang 4.0.1 (tags/RELEASE_401/final)]', 'platform': 'Darwin-19.6.0-x86_64-i386-64bit', 'event': 'train'}\n",
      "100%|██████████| 5116/5116 [00:00<00:00, 2539715.86it/s]\n",
      "2021-08-15 14:02:18,456 | INFO | utils.py:448 | add_lifecycle_event | Doc2Vec lifecycle event {'msg': 'training model with 4 workers on 5702 vocabulary and 100 features, using sg=0 hs=0 sample=0.001 negative=5 window=4', 'datetime': '2021-08-15T14:02:18.456593', 'gensim': '4.0.1', 'python': '3.7.4 (default, Aug 13 2019, 15:17:50) \\n[Clang 4.0.1 (tags/RELEASE_401/final)]', 'platform': 'Darwin-19.6.0-x86_64-i386-64bit', 'event': 'train'}\n",
      "2021-08-15 14:02:18,753 | INFO | word2vec.py:1281 | _log_epoch_progress | worker thread finished; awaiting finish of 3 more threads\n",
      "2021-08-15 14:02:18,792 | INFO | word2vec.py:1281 | _log_epoch_progress | worker thread finished; awaiting finish of 2 more threads\n",
      "2021-08-15 14:02:18,793 | INFO | word2vec.py:1281 | _log_epoch_progress | worker thread finished; awaiting finish of 1 more threads\n",
      "2021-08-15 14:02:18,808 | INFO | word2vec.py:1281 | _log_epoch_progress | worker thread finished; awaiting finish of 0 more threads\n",
      "2021-08-15 14:02:18,808 | INFO | word2vec.py:1624 | _log_epoch_end | EPOCH - 1 : training on 118319 raw words (92905 effective words) took 0.3s, 268295 effective words/s\n",
      "2021-08-15 14:02:18,811 | INFO | utils.py:448 | add_lifecycle_event | Doc2Vec lifecycle event {'msg': 'training on 118319 raw words (92905 effective words) took 0.4s, 262728 effective words/s', 'datetime': '2021-08-15T14:02:18.810976', 'gensim': '4.0.1', 'python': '3.7.4 (default, Aug 13 2019, 15:17:50) \\n[Clang 4.0.1 (tags/RELEASE_401/final)]', 'platform': 'Darwin-19.6.0-x86_64-i386-64bit', 'event': 'train'}\n",
      "100%|██████████| 5116/5116 [00:00<00:00, 3388292.95it/s]\n",
      "2021-08-15 14:02:18,821 | INFO | utils.py:448 | add_lifecycle_event | Doc2Vec lifecycle event {'msg': 'training model with 4 workers on 5702 vocabulary and 100 features, using sg=0 hs=0 sample=0.001 negative=5 window=4', 'datetime': '2021-08-15T14:02:18.821498', 'gensim': '4.0.1', 'python': '3.7.4 (default, Aug 13 2019, 15:17:50) \\n[Clang 4.0.1 (tags/RELEASE_401/final)]', 'platform': 'Darwin-19.6.0-x86_64-i386-64bit', 'event': 'train'}\n",
      "2021-08-15 14:02:19,177 | INFO | word2vec.py:1281 | _log_epoch_progress | worker thread finished; awaiting finish of 3 more threads\n",
      "2021-08-15 14:02:19,183 | INFO | word2vec.py:1281 | _log_epoch_progress | worker thread finished; awaiting finish of 2 more threads\n",
      "2021-08-15 14:02:19,190 | INFO | word2vec.py:1281 | _log_epoch_progress | worker thread finished; awaiting finish of 1 more threads\n",
      "2021-08-15 14:02:19,196 | INFO | word2vec.py:1281 | _log_epoch_progress | worker thread finished; awaiting finish of 0 more threads\n",
      "2021-08-15 14:02:19,197 | INFO | word2vec.py:1624 | _log_epoch_end | EPOCH - 1 : training on 118319 raw words (93174 effective words) took 0.4s, 252706 effective words/s\n",
      "2021-08-15 14:02:19,197 | INFO | utils.py:448 | add_lifecycle_event | Doc2Vec lifecycle event {'msg': 'training on 118319 raw words (93174 effective words) took 0.4s, 248408 effective words/s', 'datetime': '2021-08-15T14:02:19.197812', 'gensim': '4.0.1', 'python': '3.7.4 (default, Aug 13 2019, 15:17:50) \\n[Clang 4.0.1 (tags/RELEASE_401/final)]', 'platform': 'Darwin-19.6.0-x86_64-i386-64bit', 'event': 'train'}\n",
      "100%|██████████| 5116/5116 [00:00<00:00, 3234558.22it/s]\n",
      "2021-08-15 14:02:19,203 | INFO | utils.py:448 | add_lifecycle_event | Doc2Vec lifecycle event {'msg': 'training model with 4 workers on 5702 vocabulary and 100 features, using sg=0 hs=0 sample=0.001 negative=5 window=4', 'datetime': '2021-08-15T14:02:19.203339', 'gensim': '4.0.1', 'python': '3.7.4 (default, Aug 13 2019, 15:17:50) \\n[Clang 4.0.1 (tags/RELEASE_401/final)]', 'platform': 'Darwin-19.6.0-x86_64-i386-64bit', 'event': 'train'}\n",
      "2021-08-15 14:02:19,528 | INFO | word2vec.py:1281 | _log_epoch_progress | worker thread finished; awaiting finish of 3 more threads\n",
      "2021-08-15 14:02:19,538 | INFO | word2vec.py:1281 | _log_epoch_progress | worker thread finished; awaiting finish of 2 more threads\n",
      "2021-08-15 14:02:19,540 | INFO | word2vec.py:1281 | _log_epoch_progress | worker thread finished; awaiting finish of 1 more threads\n",
      "2021-08-15 14:02:19,543 | INFO | word2vec.py:1281 | _log_epoch_progress | worker thread finished; awaiting finish of 0 more threads\n",
      "2021-08-15 14:02:19,544 | INFO | word2vec.py:1624 | _log_epoch_end | EPOCH - 1 : training on 118319 raw words (93183 effective words) took 0.3s, 278438 effective words/s\n",
      "2021-08-15 14:02:19,545 | INFO | utils.py:448 | add_lifecycle_event | Doc2Vec lifecycle event {'msg': 'training on 118319 raw words (93183 effective words) took 0.3s, 273224 effective words/s', 'datetime': '2021-08-15T14:02:19.545089', 'gensim': '4.0.1', 'python': '3.7.4 (default, Aug 13 2019, 15:17:50) \\n[Clang 4.0.1 (tags/RELEASE_401/final)]', 'platform': 'Darwin-19.6.0-x86_64-i386-64bit', 'event': 'train'}\n",
      "100%|██████████| 5116/5116 [00:00<00:00, 3036374.60it/s]\n",
      "2021-08-15 14:02:19,550 | INFO | utils.py:448 | add_lifecycle_event | Doc2Vec lifecycle event {'msg': 'training model with 4 workers on 5702 vocabulary and 100 features, using sg=0 hs=0 sample=0.001 negative=5 window=4', 'datetime': '2021-08-15T14:02:19.550697', 'gensim': '4.0.1', 'python': '3.7.4 (default, Aug 13 2019, 15:17:50) \\n[Clang 4.0.1 (tags/RELEASE_401/final)]', 'platform': 'Darwin-19.6.0-x86_64-i386-64bit', 'event': 'train'}\n",
      "2021-08-15 14:02:19,862 | INFO | word2vec.py:1281 | _log_epoch_progress | worker thread finished; awaiting finish of 3 more threads\n",
      "2021-08-15 14:02:19,867 | INFO | word2vec.py:1281 | _log_epoch_progress | worker thread finished; awaiting finish of 2 more threads\n",
      "2021-08-15 14:02:19,868 | INFO | word2vec.py:1281 | _log_epoch_progress | worker thread finished; awaiting finish of 1 more threads\n",
      "2021-08-15 14:02:19,872 | INFO | word2vec.py:1281 | _log_epoch_progress | worker thread finished; awaiting finish of 0 more threads\n",
      "2021-08-15 14:02:19,872 | INFO | word2vec.py:1624 | _log_epoch_end | EPOCH - 1 : training on 118319 raw words (93127 effective words) took 0.3s, 294085 effective words/s\n",
      "2021-08-15 14:02:19,873 | INFO | utils.py:448 | add_lifecycle_event | Doc2Vec lifecycle event {'msg': 'training on 118319 raw words (93127 effective words) took 0.3s, 289180 effective words/s', 'datetime': '2021-08-15T14:02:19.873515', 'gensim': '4.0.1', 'python': '3.7.4 (default, Aug 13 2019, 15:17:50) \\n[Clang 4.0.1 (tags/RELEASE_401/final)]', 'platform': 'Darwin-19.6.0-x86_64-i386-64bit', 'event': 'train'}\n",
      "100%|██████████| 5116/5116 [00:00<00:00, 3361751.41it/s]\n",
      "2021-08-15 14:02:19,879 | INFO | utils.py:448 | add_lifecycle_event | Doc2Vec lifecycle event {'msg': 'training model with 4 workers on 5702 vocabulary and 100 features, using sg=0 hs=0 sample=0.001 negative=5 window=4', 'datetime': '2021-08-15T14:02:19.879942', 'gensim': '4.0.1', 'python': '3.7.4 (default, Aug 13 2019, 15:17:50) \\n[Clang 4.0.1 (tags/RELEASE_401/final)]', 'platform': 'Darwin-19.6.0-x86_64-i386-64bit', 'event': 'train'}\n",
      "2021-08-15 14:02:20,177 | INFO | word2vec.py:1281 | _log_epoch_progress | worker thread finished; awaiting finish of 3 more threads\n",
      "2021-08-15 14:02:20,180 | INFO | word2vec.py:1281 | _log_epoch_progress | worker thread finished; awaiting finish of 2 more threads\n"
     ]
    },
    {
     "name": "stderr",
     "output_type": "stream",
     "text": [
      "2021-08-15 14:02:20,185 | INFO | word2vec.py:1281 | _log_epoch_progress | worker thread finished; awaiting finish of 1 more threads\n",
      "2021-08-15 14:02:20,187 | INFO | word2vec.py:1281 | _log_epoch_progress | worker thread finished; awaiting finish of 0 more threads\n",
      "2021-08-15 14:02:20,187 | INFO | word2vec.py:1624 | _log_epoch_end | EPOCH - 1 : training on 118319 raw words (93009 effective words) took 0.3s, 309909 effective words/s\n",
      "2021-08-15 14:02:20,188 | INFO | utils.py:448 | add_lifecycle_event | Doc2Vec lifecycle event {'msg': 'training on 118319 raw words (93009 effective words) took 0.3s, 302046 effective words/s', 'datetime': '2021-08-15T14:02:20.188818', 'gensim': '4.0.1', 'python': '3.7.4 (default, Aug 13 2019, 15:17:50) \\n[Clang 4.0.1 (tags/RELEASE_401/final)]', 'platform': 'Darwin-19.6.0-x86_64-i386-64bit', 'event': 'train'}\n",
      "100%|██████████| 5116/5116 [00:00<00:00, 3281550.58it/s]\n",
      "2021-08-15 14:02:20,195 | INFO | utils.py:448 | add_lifecycle_event | Doc2Vec lifecycle event {'msg': 'training model with 4 workers on 5702 vocabulary and 100 features, using sg=0 hs=0 sample=0.001 negative=5 window=4', 'datetime': '2021-08-15T14:02:20.195307', 'gensim': '4.0.1', 'python': '3.7.4 (default, Aug 13 2019, 15:17:50) \\n[Clang 4.0.1 (tags/RELEASE_401/final)]', 'platform': 'Darwin-19.6.0-x86_64-i386-64bit', 'event': 'train'}\n",
      "2021-08-15 14:02:20,485 | INFO | word2vec.py:1281 | _log_epoch_progress | worker thread finished; awaiting finish of 3 more threads\n",
      "2021-08-15 14:02:20,521 | INFO | word2vec.py:1281 | _log_epoch_progress | worker thread finished; awaiting finish of 2 more threads\n",
      "2021-08-15 14:02:20,532 | INFO | word2vec.py:1281 | _log_epoch_progress | worker thread finished; awaiting finish of 1 more threads\n",
      "2021-08-15 14:02:20,533 | INFO | word2vec.py:1281 | _log_epoch_progress | worker thread finished; awaiting finish of 0 more threads\n",
      "2021-08-15 14:02:20,534 | INFO | word2vec.py:1624 | _log_epoch_end | EPOCH - 1 : training on 118319 raw words (93054 effective words) took 0.3s, 281338 effective words/s\n",
      "2021-08-15 14:02:20,534 | INFO | utils.py:448 | add_lifecycle_event | Doc2Vec lifecycle event {'msg': 'training on 118319 raw words (93054 effective words) took 0.3s, 274792 effective words/s', 'datetime': '2021-08-15T14:02:20.534900', 'gensim': '4.0.1', 'python': '3.7.4 (default, Aug 13 2019, 15:17:50) \\n[Clang 4.0.1 (tags/RELEASE_401/final)]', 'platform': 'Darwin-19.6.0-x86_64-i386-64bit', 'event': 'train'}\n",
      "100%|██████████| 5116/5116 [00:00<00:00, 3352821.76it/s]\n",
      "2021-08-15 14:02:20,540 | INFO | utils.py:448 | add_lifecycle_event | Doc2Vec lifecycle event {'msg': 'training model with 4 workers on 5702 vocabulary and 100 features, using sg=0 hs=0 sample=0.001 negative=5 window=4', 'datetime': '2021-08-15T14:02:20.540890', 'gensim': '4.0.1', 'python': '3.7.4 (default, Aug 13 2019, 15:17:50) \\n[Clang 4.0.1 (tags/RELEASE_401/final)]', 'platform': 'Darwin-19.6.0-x86_64-i386-64bit', 'event': 'train'}\n",
      "2021-08-15 14:02:20,830 | INFO | word2vec.py:1281 | _log_epoch_progress | worker thread finished; awaiting finish of 3 more threads\n",
      "2021-08-15 14:02:20,834 | INFO | word2vec.py:1281 | _log_epoch_progress | worker thread finished; awaiting finish of 2 more threads\n",
      "2021-08-15 14:02:20,837 | INFO | word2vec.py:1281 | _log_epoch_progress | worker thread finished; awaiting finish of 1 more threads\n",
      "2021-08-15 14:02:20,839 | INFO | word2vec.py:1281 | _log_epoch_progress | worker thread finished; awaiting finish of 0 more threads\n",
      "2021-08-15 14:02:20,840 | INFO | word2vec.py:1624 | _log_epoch_end | EPOCH - 1 : training on 118319 raw words (93127 effective words) took 0.3s, 317686 effective words/s\n",
      "2021-08-15 14:02:20,841 | INFO | utils.py:448 | add_lifecycle_event | Doc2Vec lifecycle event {'msg': 'training on 118319 raw words (93127 effective words) took 0.3s, 311035 effective words/s', 'datetime': '2021-08-15T14:02:20.841067', 'gensim': '4.0.1', 'python': '3.7.4 (default, Aug 13 2019, 15:17:50) \\n[Clang 4.0.1 (tags/RELEASE_401/final)]', 'platform': 'Darwin-19.6.0-x86_64-i386-64bit', 'event': 'train'}\n",
      "100%|██████████| 5116/5116 [00:00<00:00, 3226290.67it/s]\n",
      "2021-08-15 14:02:20,846 | INFO | utils.py:448 | add_lifecycle_event | Doc2Vec lifecycle event {'msg': 'training model with 4 workers on 5702 vocabulary and 100 features, using sg=0 hs=0 sample=0.001 negative=5 window=4', 'datetime': '2021-08-15T14:02:20.846622', 'gensim': '4.0.1', 'python': '3.7.4 (default, Aug 13 2019, 15:17:50) \\n[Clang 4.0.1 (tags/RELEASE_401/final)]', 'platform': 'Darwin-19.6.0-x86_64-i386-64bit', 'event': 'train'}\n",
      "2021-08-15 14:02:21,141 | INFO | word2vec.py:1281 | _log_epoch_progress | worker thread finished; awaiting finish of 3 more threads\n",
      "2021-08-15 14:02:21,148 | INFO | word2vec.py:1281 | _log_epoch_progress | worker thread finished; awaiting finish of 2 more threads\n",
      "2021-08-15 14:02:21,154 | INFO | word2vec.py:1281 | _log_epoch_progress | worker thread finished; awaiting finish of 1 more threads\n",
      "2021-08-15 14:02:21,159 | INFO | word2vec.py:1281 | _log_epoch_progress | worker thread finished; awaiting finish of 0 more threads\n",
      "2021-08-15 14:02:21,160 | INFO | word2vec.py:1624 | _log_epoch_end | EPOCH - 1 : training on 118319 raw words (93186 effective words) took 0.3s, 303960 effective words/s\n",
      "2021-08-15 14:02:21,160 | INFO | utils.py:448 | add_lifecycle_event | Doc2Vec lifecycle event {'msg': 'training on 118319 raw words (93186 effective words) took 0.3s, 297496 effective words/s', 'datetime': '2021-08-15T14:02:21.160613', 'gensim': '4.0.1', 'python': '3.7.4 (default, Aug 13 2019, 15:17:50) \\n[Clang 4.0.1 (tags/RELEASE_401/final)]', 'platform': 'Darwin-19.6.0-x86_64-i386-64bit', 'event': 'train'}\n",
      "100%|██████████| 5116/5116 [00:00<00:00, 3267061.40it/s]\n",
      "2021-08-15 14:02:21,166 | INFO | utils.py:448 | add_lifecycle_event | Doc2Vec lifecycle event {'msg': 'training model with 4 workers on 5702 vocabulary and 100 features, using sg=0 hs=0 sample=0.001 negative=5 window=4', 'datetime': '2021-08-15T14:02:21.166597', 'gensim': '4.0.1', 'python': '3.7.4 (default, Aug 13 2019, 15:17:50) \\n[Clang 4.0.1 (tags/RELEASE_401/final)]', 'platform': 'Darwin-19.6.0-x86_64-i386-64bit', 'event': 'train'}\n",
      "2021-08-15 14:02:21,478 | INFO | word2vec.py:1281 | _log_epoch_progress | worker thread finished; awaiting finish of 3 more threads\n",
      "2021-08-15 14:02:21,484 | INFO | word2vec.py:1281 | _log_epoch_progress | worker thread finished; awaiting finish of 2 more threads\n",
      "2021-08-15 14:02:21,486 | INFO | word2vec.py:1281 | _log_epoch_progress | worker thread finished; awaiting finish of 1 more threads\n",
      "2021-08-15 14:02:21,488 | INFO | word2vec.py:1281 | _log_epoch_progress | worker thread finished; awaiting finish of 0 more threads\n",
      "2021-08-15 14:02:21,489 | INFO | word2vec.py:1624 | _log_epoch_end | EPOCH - 1 : training on 118319 raw words (92950 effective words) took 0.3s, 297629 effective words/s\n",
      "2021-08-15 14:02:21,489 | INFO | utils.py:448 | add_lifecycle_event | Doc2Vec lifecycle event {'msg': 'training on 118319 raw words (92950 effective words) took 0.3s, 288924 effective words/s', 'datetime': '2021-08-15T14:02:21.489833', 'gensim': '4.0.1', 'python': '3.7.4 (default, Aug 13 2019, 15:17:50) \\n[Clang 4.0.1 (tags/RELEASE_401/final)]', 'platform': 'Darwin-19.6.0-x86_64-i386-64bit', 'event': 'train'}\n",
      "100%|██████████| 5116/5116 [00:00<00:00, 3475552.20it/s]\n",
      "2021-08-15 14:02:21,495 | INFO | utils.py:448 | add_lifecycle_event | Doc2Vec lifecycle event {'msg': 'training model with 4 workers on 5702 vocabulary and 100 features, using sg=0 hs=0 sample=0.001 negative=5 window=4', 'datetime': '2021-08-15T14:02:21.495497', 'gensim': '4.0.1', 'python': '3.7.4 (default, Aug 13 2019, 15:17:50) \\n[Clang 4.0.1 (tags/RELEASE_401/final)]', 'platform': 'Darwin-19.6.0-x86_64-i386-64bit', 'event': 'train'}\n",
      "2021-08-15 14:02:21,877 | INFO | word2vec.py:1281 | _log_epoch_progress | worker thread finished; awaiting finish of 3 more threads\n",
      "2021-08-15 14:02:21,882 | INFO | word2vec.py:1281 | _log_epoch_progress | worker thread finished; awaiting finish of 2 more threads\n",
      "2021-08-15 14:02:21,890 | INFO | word2vec.py:1281 | _log_epoch_progress | worker thread finished; awaiting finish of 1 more threads\n",
      "2021-08-15 14:02:21,895 | INFO | word2vec.py:1281 | _log_epoch_progress | worker thread finished; awaiting finish of 0 more threads\n"
     ]
    },
    {
     "name": "stderr",
     "output_type": "stream",
     "text": [
      "2021-08-15 14:02:21,896 | INFO | word2vec.py:1624 | _log_epoch_end | EPOCH - 1 : training on 118319 raw words (93107 effective words) took 0.4s, 236059 effective words/s\n",
      "2021-08-15 14:02:21,896 | INFO | utils.py:448 | add_lifecycle_event | Doc2Vec lifecycle event {'msg': 'training on 118319 raw words (93107 effective words) took 0.4s, 232430 effective words/s', 'datetime': '2021-08-15T14:02:21.896870', 'gensim': '4.0.1', 'python': '3.7.4 (default, Aug 13 2019, 15:17:50) \\n[Clang 4.0.1 (tags/RELEASE_401/final)]', 'platform': 'Darwin-19.6.0-x86_64-i386-64bit', 'event': 'train'}\n",
      "100%|██████████| 5116/5116 [00:00<00:00, 1852067.95it/s]\n",
      "2021-08-15 14:02:21,914 | INFO | utils.py:448 | add_lifecycle_event | Doc2Vec lifecycle event {'msg': 'training model with 4 workers on 5702 vocabulary and 100 features, using sg=0 hs=0 sample=0.001 negative=5 window=4', 'datetime': '2021-08-15T14:02:21.914624', 'gensim': '4.0.1', 'python': '3.7.4 (default, Aug 13 2019, 15:17:50) \\n[Clang 4.0.1 (tags/RELEASE_401/final)]', 'platform': 'Darwin-19.6.0-x86_64-i386-64bit', 'event': 'train'}\n",
      "2021-08-15 14:02:22,262 | INFO | word2vec.py:1281 | _log_epoch_progress | worker thread finished; awaiting finish of 3 more threads\n",
      "2021-08-15 14:02:22,270 | INFO | word2vec.py:1281 | _log_epoch_progress | worker thread finished; awaiting finish of 2 more threads\n",
      "2021-08-15 14:02:22,276 | INFO | word2vec.py:1281 | _log_epoch_progress | worker thread finished; awaiting finish of 1 more threads\n",
      "2021-08-15 14:02:22,277 | INFO | word2vec.py:1281 | _log_epoch_progress | worker thread finished; awaiting finish of 0 more threads\n",
      "2021-08-15 14:02:22,278 | INFO | word2vec.py:1624 | _log_epoch_end | EPOCH - 1 : training on 118319 raw words (93111 effective words) took 0.3s, 272133 effective words/s\n",
      "2021-08-15 14:02:22,279 | INFO | utils.py:448 | add_lifecycle_event | Doc2Vec lifecycle event {'msg': 'training on 118319 raw words (93111 effective words) took 0.4s, 257897 effective words/s', 'datetime': '2021-08-15T14:02:22.279350', 'gensim': '4.0.1', 'python': '3.7.4 (default, Aug 13 2019, 15:17:50) \\n[Clang 4.0.1 (tags/RELEASE_401/final)]', 'platform': 'Darwin-19.6.0-x86_64-i386-64bit', 'event': 'train'}\n",
      "100%|██████████| 5116/5116 [00:00<00:00, 3357018.03it/s]\n",
      "2021-08-15 14:02:22,285 | INFO | utils.py:448 | add_lifecycle_event | Doc2Vec lifecycle event {'msg': 'training model with 4 workers on 5702 vocabulary and 100 features, using sg=0 hs=0 sample=0.001 negative=5 window=4', 'datetime': '2021-08-15T14:02:22.285018', 'gensim': '4.0.1', 'python': '3.7.4 (default, Aug 13 2019, 15:17:50) \\n[Clang 4.0.1 (tags/RELEASE_401/final)]', 'platform': 'Darwin-19.6.0-x86_64-i386-64bit', 'event': 'train'}\n",
      "2021-08-15 14:02:22,594 | INFO | word2vec.py:1281 | _log_epoch_progress | worker thread finished; awaiting finish of 3 more threads\n",
      "2021-08-15 14:02:22,601 | INFO | word2vec.py:1281 | _log_epoch_progress | worker thread finished; awaiting finish of 2 more threads\n",
      "2021-08-15 14:02:22,608 | INFO | word2vec.py:1281 | _log_epoch_progress | worker thread finished; awaiting finish of 1 more threads\n",
      "2021-08-15 14:02:22,612 | INFO | word2vec.py:1281 | _log_epoch_progress | worker thread finished; awaiting finish of 0 more threads\n",
      "2021-08-15 14:02:22,613 | INFO | word2vec.py:1624 | _log_epoch_end | EPOCH - 1 : training on 118319 raw words (93214 effective words) took 0.3s, 290615 effective words/s\n",
      "2021-08-15 14:02:22,613 | INFO | utils.py:448 | add_lifecycle_event | Doc2Vec lifecycle event {'msg': 'training on 118319 raw words (93214 effective words) took 0.3s, 284946 effective words/s', 'datetime': '2021-08-15T14:02:22.613741', 'gensim': '4.0.1', 'python': '3.7.4 (default, Aug 13 2019, 15:17:50) \\n[Clang 4.0.1 (tags/RELEASE_401/final)]', 'platform': 'Darwin-19.6.0-x86_64-i386-64bit', 'event': 'train'}\n",
      "100%|██████████| 5116/5116 [00:00<00:00, 3252206.62it/s]\n",
      "2021-08-15 14:02:22,619 | INFO | utils.py:448 | add_lifecycle_event | Doc2Vec lifecycle event {'msg': 'training model with 4 workers on 5702 vocabulary and 100 features, using sg=0 hs=0 sample=0.001 negative=5 window=4', 'datetime': '2021-08-15T14:02:22.619220', 'gensim': '4.0.1', 'python': '3.7.4 (default, Aug 13 2019, 15:17:50) \\n[Clang 4.0.1 (tags/RELEASE_401/final)]', 'platform': 'Darwin-19.6.0-x86_64-i386-64bit', 'event': 'train'}\n",
      "2021-08-15 14:02:22,931 | INFO | word2vec.py:1281 | _log_epoch_progress | worker thread finished; awaiting finish of 3 more threads\n",
      "2021-08-15 14:02:22,968 | INFO | word2vec.py:1281 | _log_epoch_progress | worker thread finished; awaiting finish of 2 more threads\n",
      "2021-08-15 14:02:22,986 | INFO | word2vec.py:1281 | _log_epoch_progress | worker thread finished; awaiting finish of 1 more threads\n",
      "2021-08-15 14:02:22,989 | INFO | word2vec.py:1281 | _log_epoch_progress | worker thread finished; awaiting finish of 0 more threads\n",
      "2021-08-15 14:02:22,990 | INFO | word2vec.py:1624 | _log_epoch_end | EPOCH - 1 : training on 118319 raw words (93149 effective words) took 0.4s, 255759 effective words/s\n",
      "2021-08-15 14:02:22,990 | INFO | utils.py:448 | add_lifecycle_event | Doc2Vec lifecycle event {'msg': 'training on 118319 raw words (93149 effective words) took 0.4s, 251387 effective words/s', 'datetime': '2021-08-15T14:02:22.990659', 'gensim': '4.0.1', 'python': '3.7.4 (default, Aug 13 2019, 15:17:50) \\n[Clang 4.0.1 (tags/RELEASE_401/final)]', 'platform': 'Darwin-19.6.0-x86_64-i386-64bit', 'event': 'train'}\n",
      "100%|██████████| 5116/5116 [00:00<00:00, 3482320.56it/s]\n",
      "2021-08-15 14:02:22,996 | INFO | utils.py:448 | add_lifecycle_event | Doc2Vec lifecycle event {'msg': 'training model with 4 workers on 5702 vocabulary and 100 features, using sg=0 hs=0 sample=0.001 negative=5 window=4', 'datetime': '2021-08-15T14:02:22.996733', 'gensim': '4.0.1', 'python': '3.7.4 (default, Aug 13 2019, 15:17:50) \\n[Clang 4.0.1 (tags/RELEASE_401/final)]', 'platform': 'Darwin-19.6.0-x86_64-i386-64bit', 'event': 'train'}\n",
      "2021-08-15 14:02:23,311 | INFO | word2vec.py:1281 | _log_epoch_progress | worker thread finished; awaiting finish of 3 more threads\n",
      "2021-08-15 14:02:23,319 | INFO | word2vec.py:1281 | _log_epoch_progress | worker thread finished; awaiting finish of 2 more threads\n",
      "2021-08-15 14:02:23,323 | INFO | word2vec.py:1281 | _log_epoch_progress | worker thread finished; awaiting finish of 1 more threads\n",
      "2021-08-15 14:02:23,328 | INFO | word2vec.py:1281 | _log_epoch_progress | worker thread finished; awaiting finish of 0 more threads\n",
      "2021-08-15 14:02:23,329 | INFO | word2vec.py:1624 | _log_epoch_end | EPOCH - 1 : training on 118319 raw words (93120 effective words) took 0.3s, 287980 effective words/s\n",
      "2021-08-15 14:02:23,330 | INFO | utils.py:448 | add_lifecycle_event | Doc2Vec lifecycle event {'msg': 'training on 118319 raw words (93120 effective words) took 0.3s, 279557 effective words/s', 'datetime': '2021-08-15T14:02:23.330643', 'gensim': '4.0.1', 'python': '3.7.4 (default, Aug 13 2019, 15:17:50) \\n[Clang 4.0.1 (tags/RELEASE_401/final)]', 'platform': 'Darwin-19.6.0-x86_64-i386-64bit', 'event': 'train'}\n",
      "100%|██████████| 5116/5116 [00:00<00:00, 3452068.74it/s]\n",
      "2021-08-15 14:02:23,341 | INFO | utils.py:448 | add_lifecycle_event | Doc2Vec lifecycle event {'msg': 'training model with 4 workers on 5702 vocabulary and 100 features, using sg=0 hs=0 sample=0.001 negative=5 window=4', 'datetime': '2021-08-15T14:02:23.341963', 'gensim': '4.0.1', 'python': '3.7.4 (default, Aug 13 2019, 15:17:50) \\n[Clang 4.0.1 (tags/RELEASE_401/final)]', 'platform': 'Darwin-19.6.0-x86_64-i386-64bit', 'event': 'train'}\n",
      "2021-08-15 14:02:23,662 | INFO | word2vec.py:1281 | _log_epoch_progress | worker thread finished; awaiting finish of 3 more threads\n",
      "2021-08-15 14:02:23,669 | INFO | word2vec.py:1281 | _log_epoch_progress | worker thread finished; awaiting finish of 2 more threads\n",
      "2021-08-15 14:02:23,671 | INFO | word2vec.py:1281 | _log_epoch_progress | worker thread finished; awaiting finish of 1 more threads\n",
      "2021-08-15 14:02:23,671 | INFO | word2vec.py:1281 | _log_epoch_progress | worker thread finished; awaiting finish of 0 more threads\n",
      "2021-08-15 14:02:23,672 | INFO | word2vec.py:1624 | _log_epoch_end | EPOCH - 1 : training on 118319 raw words (93034 effective words) took 0.3s, 302367 effective words/s\n"
     ]
    },
    {
     "name": "stderr",
     "output_type": "stream",
     "text": [
      "2021-08-15 14:02:23,673 | INFO | utils.py:448 | add_lifecycle_event | Doc2Vec lifecycle event {'msg': 'training on 118319 raw words (93034 effective words) took 0.3s, 284483 effective words/s', 'datetime': '2021-08-15T14:02:23.673172', 'gensim': '4.0.1', 'python': '3.7.4 (default, Aug 13 2019, 15:17:50) \\n[Clang 4.0.1 (tags/RELEASE_401/final)]', 'platform': 'Darwin-19.6.0-x86_64-i386-64bit', 'event': 'train'}\n",
      "100%|██████████| 5116/5116 [00:00<00:00, 3005751.40it/s]\n",
      "2021-08-15 14:02:23,678 | INFO | utils.py:448 | add_lifecycle_event | Doc2Vec lifecycle event {'msg': 'training model with 4 workers on 5702 vocabulary and 100 features, using sg=0 hs=0 sample=0.001 negative=5 window=4', 'datetime': '2021-08-15T14:02:23.678785', 'gensim': '4.0.1', 'python': '3.7.4 (default, Aug 13 2019, 15:17:50) \\n[Clang 4.0.1 (tags/RELEASE_401/final)]', 'platform': 'Darwin-19.6.0-x86_64-i386-64bit', 'event': 'train'}\n",
      "2021-08-15 14:02:23,968 | INFO | word2vec.py:1281 | _log_epoch_progress | worker thread finished; awaiting finish of 3 more threads\n",
      "2021-08-15 14:02:23,974 | INFO | word2vec.py:1281 | _log_epoch_progress | worker thread finished; awaiting finish of 2 more threads\n",
      "2021-08-15 14:02:23,977 | INFO | word2vec.py:1281 | _log_epoch_progress | worker thread finished; awaiting finish of 1 more threads\n",
      "2021-08-15 14:02:23,980 | INFO | word2vec.py:1281 | _log_epoch_progress | worker thread finished; awaiting finish of 0 more threads\n",
      "2021-08-15 14:02:23,981 | INFO | word2vec.py:1624 | _log_epoch_end | EPOCH - 1 : training on 118319 raw words (92920 effective words) took 0.3s, 316928 effective words/s\n",
      "2021-08-15 14:02:23,981 | INFO | utils.py:448 | add_lifecycle_event | Doc2Vec lifecycle event {'msg': 'training on 118319 raw words (92920 effective words) took 0.3s, 307770 effective words/s', 'datetime': '2021-08-15T14:02:23.981724', 'gensim': '4.0.1', 'python': '3.7.4 (default, Aug 13 2019, 15:17:50) \\n[Clang 4.0.1 (tags/RELEASE_401/final)]', 'platform': 'Darwin-19.6.0-x86_64-i386-64bit', 'event': 'train'}\n",
      "100%|██████████| 5116/5116 [00:00<00:00, 3421792.26it/s]\n",
      "2021-08-15 14:02:23,988 | INFO | utils.py:448 | add_lifecycle_event | Doc2Vec lifecycle event {'msg': 'training model with 4 workers on 5702 vocabulary and 100 features, using sg=0 hs=0 sample=0.001 negative=5 window=4', 'datetime': '2021-08-15T14:02:23.988234', 'gensim': '4.0.1', 'python': '3.7.4 (default, Aug 13 2019, 15:17:50) \\n[Clang 4.0.1 (tags/RELEASE_401/final)]', 'platform': 'Darwin-19.6.0-x86_64-i386-64bit', 'event': 'train'}\n",
      "2021-08-15 14:02:24,289 | INFO | word2vec.py:1281 | _log_epoch_progress | worker thread finished; awaiting finish of 3 more threads\n",
      "2021-08-15 14:02:24,320 | INFO | word2vec.py:1281 | _log_epoch_progress | worker thread finished; awaiting finish of 2 more threads\n",
      "2021-08-15 14:02:24,332 | INFO | word2vec.py:1281 | _log_epoch_progress | worker thread finished; awaiting finish of 1 more threads\n",
      "2021-08-15 14:02:24,333 | INFO | word2vec.py:1281 | _log_epoch_progress | worker thread finished; awaiting finish of 0 more threads\n",
      "2021-08-15 14:02:24,334 | INFO | word2vec.py:1624 | _log_epoch_end | EPOCH - 1 : training on 118319 raw words (92948 effective words) took 0.3s, 276385 effective words/s\n",
      "2021-08-15 14:02:24,335 | INFO | utils.py:448 | add_lifecycle_event | Doc2Vec lifecycle event {'msg': 'training on 118319 raw words (92948 effective words) took 0.3s, 268881 effective words/s', 'datetime': '2021-08-15T14:02:24.335224', 'gensim': '4.0.1', 'python': '3.7.4 (default, Aug 13 2019, 15:17:50) \\n[Clang 4.0.1 (tags/RELEASE_401/final)]', 'platform': 'Darwin-19.6.0-x86_64-i386-64bit', 'event': 'train'}\n",
      "100%|██████████| 5116/5116 [00:00<00:00, 3260607.70it/s]\n",
      "2021-08-15 14:02:24,341 | INFO | utils.py:448 | add_lifecycle_event | Doc2Vec lifecycle event {'msg': 'training model with 4 workers on 5702 vocabulary and 100 features, using sg=0 hs=0 sample=0.001 negative=5 window=4', 'datetime': '2021-08-15T14:02:24.341117', 'gensim': '4.0.1', 'python': '3.7.4 (default, Aug 13 2019, 15:17:50) \\n[Clang 4.0.1 (tags/RELEASE_401/final)]', 'platform': 'Darwin-19.6.0-x86_64-i386-64bit', 'event': 'train'}\n",
      "2021-08-15 14:02:24,688 | INFO | word2vec.py:1281 | _log_epoch_progress | worker thread finished; awaiting finish of 3 more threads\n",
      "2021-08-15 14:02:24,701 | INFO | word2vec.py:1281 | _log_epoch_progress | worker thread finished; awaiting finish of 2 more threads\n",
      "2021-08-15 14:02:24,703 | INFO | word2vec.py:1281 | _log_epoch_progress | worker thread finished; awaiting finish of 1 more threads\n",
      "2021-08-15 14:02:24,710 | INFO | word2vec.py:1281 | _log_epoch_progress | worker thread finished; awaiting finish of 0 more threads\n",
      "2021-08-15 14:02:24,712 | INFO | word2vec.py:1624 | _log_epoch_end | EPOCH - 1 : training on 118319 raw words (93160 effective words) took 0.4s, 261034 effective words/s\n",
      "2021-08-15 14:02:24,714 | INFO | utils.py:448 | add_lifecycle_event | Doc2Vec lifecycle event {'msg': 'training on 118319 raw words (93160 effective words) took 0.4s, 250838 effective words/s', 'datetime': '2021-08-15T14:02:24.714624', 'gensim': '4.0.1', 'python': '3.7.4 (default, Aug 13 2019, 15:17:50) \\n[Clang 4.0.1 (tags/RELEASE_401/final)]', 'platform': 'Darwin-19.6.0-x86_64-i386-64bit', 'event': 'train'}\n",
      "100%|██████████| 5116/5116 [00:00<00:00, 3318085.55it/s]\n",
      "2021-08-15 14:02:24,720 | INFO | utils.py:448 | add_lifecycle_event | Doc2Vec lifecycle event {'msg': 'training model with 4 workers on 5702 vocabulary and 100 features, using sg=0 hs=0 sample=0.001 negative=5 window=4', 'datetime': '2021-08-15T14:02:24.720826', 'gensim': '4.0.1', 'python': '3.7.4 (default, Aug 13 2019, 15:17:50) \\n[Clang 4.0.1 (tags/RELEASE_401/final)]', 'platform': 'Darwin-19.6.0-x86_64-i386-64bit', 'event': 'train'}\n",
      "2021-08-15 14:02:25,084 | INFO | word2vec.py:1281 | _log_epoch_progress | worker thread finished; awaiting finish of 3 more threads\n",
      "2021-08-15 14:02:25,087 | INFO | word2vec.py:1281 | _log_epoch_progress | worker thread finished; awaiting finish of 2 more threads\n",
      "2021-08-15 14:02:25,094 | INFO | word2vec.py:1281 | _log_epoch_progress | worker thread finished; awaiting finish of 1 more threads\n",
      "2021-08-15 14:02:25,095 | INFO | word2vec.py:1281 | _log_epoch_progress | worker thread finished; awaiting finish of 0 more threads\n",
      "2021-08-15 14:02:25,096 | INFO | word2vec.py:1624 | _log_epoch_end | EPOCH - 1 : training on 118319 raw words (92950 effective words) took 0.4s, 258920 effective words/s\n",
      "2021-08-15 14:02:25,096 | INFO | utils.py:448 | add_lifecycle_event | Doc2Vec lifecycle event {'msg': 'training on 118319 raw words (92950 effective words) took 0.4s, 249796 effective words/s', 'datetime': '2021-08-15T14:02:25.096809', 'gensim': '4.0.1', 'python': '3.7.4 (default, Aug 13 2019, 15:17:50) \\n[Clang 4.0.1 (tags/RELEASE_401/final)]', 'platform': 'Darwin-19.6.0-x86_64-i386-64bit', 'event': 'train'}\n",
      "100%|██████████| 5116/5116 [00:00<00:00, 3167708.78it/s]\n",
      "2021-08-15 14:02:25,102 | INFO | utils.py:448 | add_lifecycle_event | Doc2Vec lifecycle event {'msg': 'training model with 4 workers on 5702 vocabulary and 100 features, using sg=0 hs=0 sample=0.001 negative=5 window=4', 'datetime': '2021-08-15T14:02:25.102889', 'gensim': '4.0.1', 'python': '3.7.4 (default, Aug 13 2019, 15:17:50) \\n[Clang 4.0.1 (tags/RELEASE_401/final)]', 'platform': 'Darwin-19.6.0-x86_64-i386-64bit', 'event': 'train'}\n",
      "2021-08-15 14:02:25,412 | INFO | word2vec.py:1281 | _log_epoch_progress | worker thread finished; awaiting finish of 3 more threads\n",
      "2021-08-15 14:02:25,421 | INFO | word2vec.py:1281 | _log_epoch_progress | worker thread finished; awaiting finish of 2 more threads\n",
      "2021-08-15 14:02:25,422 | INFO | word2vec.py:1281 | _log_epoch_progress | worker thread finished; awaiting finish of 1 more threads\n",
      "2021-08-15 14:02:25,428 | INFO | word2vec.py:1281 | _log_epoch_progress | worker thread finished; awaiting finish of 0 more threads\n",
      "2021-08-15 14:02:25,429 | INFO | word2vec.py:1624 | _log_epoch_end | EPOCH - 1 : training on 118319 raw words (93189 effective words) took 0.3s, 291033 effective words/s\n",
      "2021-08-15 14:02:25,430 | INFO | utils.py:448 | add_lifecycle_event | Doc2Vec lifecycle event {'msg': 'training on 118319 raw words (93189 effective words) took 0.3s, 284832 effective words/s', 'datetime': '2021-08-15T14:02:25.430776', 'gensim': '4.0.1', 'python': '3.7.4 (default, Aug 13 2019, 15:17:50) \\n[Clang 4.0.1 (tags/RELEASE_401/final)]', 'platform': 'Darwin-19.6.0-x86_64-i386-64bit', 'event': 'train'}\n"
     ]
    },
    {
     "name": "stderr",
     "output_type": "stream",
     "text": [
      "100%|██████████| 5116/5116 [00:00<00:00, 3482885.78it/s]\n",
      "2021-08-15 14:02:25,436 | INFO | utils.py:448 | add_lifecycle_event | Doc2Vec lifecycle event {'msg': 'training model with 4 workers on 5702 vocabulary and 100 features, using sg=0 hs=0 sample=0.001 negative=5 window=4', 'datetime': '2021-08-15T14:02:25.436967', 'gensim': '4.0.1', 'python': '3.7.4 (default, Aug 13 2019, 15:17:50) \\n[Clang 4.0.1 (tags/RELEASE_401/final)]', 'platform': 'Darwin-19.6.0-x86_64-i386-64bit', 'event': 'train'}\n",
      "2021-08-15 14:02:25,783 | INFO | word2vec.py:1281 | _log_epoch_progress | worker thread finished; awaiting finish of 3 more threads\n",
      "2021-08-15 14:02:25,792 | INFO | word2vec.py:1281 | _log_epoch_progress | worker thread finished; awaiting finish of 2 more threads\n",
      "2021-08-15 14:02:25,798 | INFO | word2vec.py:1281 | _log_epoch_progress | worker thread finished; awaiting finish of 1 more threads\n",
      "2021-08-15 14:02:25,802 | INFO | word2vec.py:1281 | _log_epoch_progress | worker thread finished; awaiting finish of 0 more threads\n",
      "2021-08-15 14:02:25,802 | INFO | word2vec.py:1624 | _log_epoch_end | EPOCH - 1 : training on 118319 raw words (93246 effective words) took 0.4s, 258971 effective words/s\n",
      "2021-08-15 14:02:25,803 | INFO | utils.py:448 | add_lifecycle_event | Doc2Vec lifecycle event {'msg': 'training on 118319 raw words (93246 effective words) took 0.4s, 255042 effective words/s', 'datetime': '2021-08-15T14:02:25.803285', 'gensim': '4.0.1', 'python': '3.7.4 (default, Aug 13 2019, 15:17:50) \\n[Clang 4.0.1 (tags/RELEASE_401/final)]', 'platform': 'Darwin-19.6.0-x86_64-i386-64bit', 'event': 'train'}\n",
      "100%|██████████| 5116/5116 [00:00<00:00, 2842503.55it/s]\n",
      "2021-08-15 14:02:25,809 | INFO | utils.py:448 | add_lifecycle_event | Doc2Vec lifecycle event {'msg': 'training model with 4 workers on 5702 vocabulary and 100 features, using sg=0 hs=0 sample=0.001 negative=5 window=4', 'datetime': '2021-08-15T14:02:25.809606', 'gensim': '4.0.1', 'python': '3.7.4 (default, Aug 13 2019, 15:17:50) \\n[Clang 4.0.1 (tags/RELEASE_401/final)]', 'platform': 'Darwin-19.6.0-x86_64-i386-64bit', 'event': 'train'}\n",
      "2021-08-15 14:02:26,102 | INFO | word2vec.py:1281 | _log_epoch_progress | worker thread finished; awaiting finish of 3 more threads\n",
      "2021-08-15 14:02:26,106 | INFO | word2vec.py:1281 | _log_epoch_progress | worker thread finished; awaiting finish of 2 more threads\n",
      "2021-08-15 14:02:26,110 | INFO | word2vec.py:1281 | _log_epoch_progress | worker thread finished; awaiting finish of 1 more threads\n",
      "2021-08-15 14:02:26,116 | INFO | word2vec.py:1281 | _log_epoch_progress | worker thread finished; awaiting finish of 0 more threads\n",
      "2021-08-15 14:02:26,117 | INFO | word2vec.py:1624 | _log_epoch_end | EPOCH - 1 : training on 118319 raw words (93121 effective words) took 0.3s, 311792 effective words/s\n",
      "2021-08-15 14:02:26,117 | INFO | utils.py:448 | add_lifecycle_event | Doc2Vec lifecycle event {'msg': 'training on 118319 raw words (93121 effective words) took 0.3s, 303005 effective words/s', 'datetime': '2021-08-15T14:02:26.117971', 'gensim': '4.0.1', 'python': '3.7.4 (default, Aug 13 2019, 15:17:50) \\n[Clang 4.0.1 (tags/RELEASE_401/final)]', 'platform': 'Darwin-19.6.0-x86_64-i386-64bit', 'event': 'train'}\n",
      "100%|██████████| 5116/5116 [00:00<00:00, 1781934.83it/s]\n",
      "2021-08-15 14:02:26,124 | INFO | utils.py:448 | add_lifecycle_event | Doc2Vec lifecycle event {'msg': 'training model with 4 workers on 5702 vocabulary and 100 features, using sg=0 hs=0 sample=0.001 negative=5 window=4', 'datetime': '2021-08-15T14:02:26.124696', 'gensim': '4.0.1', 'python': '3.7.4 (default, Aug 13 2019, 15:17:50) \\n[Clang 4.0.1 (tags/RELEASE_401/final)]', 'platform': 'Darwin-19.6.0-x86_64-i386-64bit', 'event': 'train'}\n",
      "2021-08-15 14:02:26,431 | INFO | word2vec.py:1281 | _log_epoch_progress | worker thread finished; awaiting finish of 3 more threads\n",
      "2021-08-15 14:02:26,448 | INFO | word2vec.py:1281 | _log_epoch_progress | worker thread finished; awaiting finish of 2 more threads\n",
      "2021-08-15 14:02:26,450 | INFO | word2vec.py:1281 | _log_epoch_progress | worker thread finished; awaiting finish of 1 more threads\n",
      "2021-08-15 14:02:26,452 | INFO | word2vec.py:1281 | _log_epoch_progress | worker thread finished; awaiting finish of 0 more threads\n",
      "2021-08-15 14:02:26,453 | INFO | word2vec.py:1624 | _log_epoch_end | EPOCH - 1 : training on 118319 raw words (92909 effective words) took 0.3s, 291999 effective words/s\n",
      "2021-08-15 14:02:26,454 | INFO | utils.py:448 | add_lifecycle_event | Doc2Vec lifecycle event {'msg': 'training on 118319 raw words (92909 effective words) took 0.3s, 283847 effective words/s', 'datetime': '2021-08-15T14:02:26.454663', 'gensim': '4.0.1', 'python': '3.7.4 (default, Aug 13 2019, 15:17:50) \\n[Clang 4.0.1 (tags/RELEASE_401/final)]', 'platform': 'Darwin-19.6.0-x86_64-i386-64bit', 'event': 'train'}\n",
      "100%|██████████| 5116/5116 [00:00<00:00, 3419611.04it/s]\n",
      "2021-08-15 14:02:26,459 | INFO | utils.py:448 | add_lifecycle_event | Doc2Vec lifecycle event {'msg': 'training model with 4 workers on 5702 vocabulary and 100 features, using sg=0 hs=0 sample=0.001 negative=5 window=4', 'datetime': '2021-08-15T14:02:26.459878', 'gensim': '4.0.1', 'python': '3.7.4 (default, Aug 13 2019, 15:17:50) \\n[Clang 4.0.1 (tags/RELEASE_401/final)]', 'platform': 'Darwin-19.6.0-x86_64-i386-64bit', 'event': 'train'}\n",
      "2021-08-15 14:02:26,735 | INFO | word2vec.py:1281 | _log_epoch_progress | worker thread finished; awaiting finish of 3 more threads\n",
      "2021-08-15 14:02:26,752 | INFO | word2vec.py:1281 | _log_epoch_progress | worker thread finished; awaiting finish of 2 more threads\n",
      "2021-08-15 14:02:26,757 | INFO | word2vec.py:1281 | _log_epoch_progress | worker thread finished; awaiting finish of 1 more threads\n",
      "2021-08-15 14:02:26,758 | INFO | word2vec.py:1281 | _log_epoch_progress | worker thread finished; awaiting finish of 0 more threads\n",
      "2021-08-15 14:02:26,759 | INFO | word2vec.py:1624 | _log_epoch_end | EPOCH - 1 : training on 118319 raw words (93342 effective words) took 0.3s, 323132 effective words/s\n",
      "2021-08-15 14:02:26,760 | INFO | utils.py:448 | add_lifecycle_event | Doc2Vec lifecycle event {'msg': 'training on 118319 raw words (93342 effective words) took 0.3s, 311357 effective words/s', 'datetime': '2021-08-15T14:02:26.760497', 'gensim': '4.0.1', 'python': '3.7.4 (default, Aug 13 2019, 15:17:50) \\n[Clang 4.0.1 (tags/RELEASE_401/final)]', 'platform': 'Darwin-19.6.0-x86_64-i386-64bit', 'event': 'train'}\n"
     ]
    },
    {
     "name": "stdout",
     "output_type": "stream",
     "text": [
      "CPU times: user 11.7 s, sys: 2.13 s, total: 13.9 s\n",
      "Wall time: 10.2 s\n"
     ]
    }
   ],
   "source": [
    "%%time\n",
    "for epoch in range(30):\n",
    "    model_ug_dmm.train(utils.shuffle([x for x in tqdm(all_x_w2v)]), total_examples=len(all_x_w2v), epochs=1)\n",
    "    model_ug_dmm.alpha -= 0.002\n",
    "    model_ug_dmm.min_alpha = model_ug_dmm.alpha"
   ]
  },
  {
   "cell_type": "code",
   "execution_count": 160,
   "metadata": {},
   "outputs": [],
   "source": [
    "train_vecs_dmm = get_vectors(model_ug_dmm, x_train1, 100)\n",
    "validation_vecs_dmm = get_vectors(model_ug_dmm, x_val1, 100)"
   ]
  },
  {
   "cell_type": "code",
   "execution_count": 161,
   "metadata": {},
   "outputs": [
    {
     "data": {
      "text/plain": [
       "LogisticRegression()"
      ]
     },
     "execution_count": 161,
     "metadata": {},
     "output_type": "execute_result"
    }
   ],
   "source": [
    "y_train = train_labels\n",
    "y_validation = test_labels\n",
    "clf = LogisticRegression()\n",
    "clf.fit(train_vecs_dmm, y_train)"
   ]
  },
  {
   "cell_type": "code",
   "execution_count": 162,
   "metadata": {},
   "outputs": [
    {
     "data": {
      "text/plain": [
       "0.49824150058616645"
      ]
     },
     "execution_count": 162,
     "metadata": {},
     "output_type": "execute_result"
    }
   ],
   "source": [
    "clf.score(validation_vecs_dmm, y_validation)"
   ]
  },
  {
   "cell_type": "code",
   "execution_count": 163,
   "metadata": {},
   "outputs": [],
   "source": [
    "def get_concat_vectors(model1,model2, corpus, size):\n",
    "    vecs = np.zeros((len(corpus), size))\n",
    "    n = 0\n",
    "    for i in corpus.index:\n",
    "        prefix = 'all_' + str(i)\n",
    "        vecs[n] = np.append(model1.docvecs[prefix],model2.docvecs[prefix])\n",
    "        n += 1\n",
    "    return vecs"
   ]
  },
  {
   "cell_type": "code",
   "execution_count": 164,
   "metadata": {},
   "outputs": [
    {
     "name": "stderr",
     "output_type": "stream",
     "text": [
      "/opt/anaconda3/lib/python3.7/site-packages/ipykernel_launcher.py:6: DeprecationWarning: Call to deprecated `docvecs` (The `docvecs` property has been renamed `dv`.).\n",
      "  \n"
     ]
    }
   ],
   "source": [
    "train_vecs_dbow_dmc = get_concat_vectors(model_ug_dbow,model_ug_dmc, x_train1, 200)\n",
    "validation_vecs_dbow_dmc = get_concat_vectors(model_ug_dbow,model_ug_dmc, x_val1, 200)"
   ]
  },
  {
   "cell_type": "code",
   "execution_count": 165,
   "metadata": {},
   "outputs": [
    {
     "name": "stdout",
     "output_type": "stream",
     "text": [
      "CPU times: user 305 ms, sys: 134 ms, total: 438 ms\n",
      "Wall time: 161 ms\n"
     ]
    },
    {
     "name": "stderr",
     "output_type": "stream",
     "text": [
      "/opt/anaconda3/lib/python3.7/site-packages/sklearn/linear_model/_logistic.py:765: ConvergenceWarning: lbfgs failed to converge (status=1):\n",
      "STOP: TOTAL NO. of ITERATIONS REACHED LIMIT.\n",
      "\n",
      "Increase the number of iterations (max_iter) or scale the data as shown in:\n",
      "    https://scikit-learn.org/stable/modules/preprocessing.html\n",
      "Please also refer to the documentation for alternative solver options:\n",
      "    https://scikit-learn.org/stable/modules/linear_model.html#logistic-regression\n",
      "  extra_warning_msg=_LOGISTIC_SOLVER_CONVERGENCE_MSG)\n"
     ]
    },
    {
     "data": {
      "text/plain": [
       "LogisticRegression()"
      ]
     },
     "execution_count": 165,
     "metadata": {},
     "output_type": "execute_result"
    }
   ],
   "source": [
    "%%time\n",
    "clf = LogisticRegression()\n",
    "clf.fit(train_vecs_dbow_dmc, y_train)"
   ]
  },
  {
   "cell_type": "code",
   "execution_count": 166,
   "metadata": {},
   "outputs": [
    {
     "data": {
      "text/plain": [
       "0.46893317702227433"
      ]
     },
     "execution_count": 166,
     "metadata": {},
     "output_type": "execute_result"
    }
   ],
   "source": [
    "clf.score(validation_vecs_dbow_dmc, y_validation)"
   ]
  },
  {
   "cell_type": "code",
   "execution_count": 167,
   "metadata": {},
   "outputs": [
    {
     "name": "stderr",
     "output_type": "stream",
     "text": [
      "/opt/anaconda3/lib/python3.7/site-packages/ipykernel_launcher.py:6: DeprecationWarning: Call to deprecated `docvecs` (The `docvecs` property has been renamed `dv`.).\n",
      "  \n"
     ]
    }
   ],
   "source": [
    "train_vecs_dbow_dmm = get_concat_vectors(model_ug_dbow,model_ug_dmm, x_train1, 200)\n",
    "validation_vecs_dbow_dmm = get_concat_vectors(model_ug_dbow,model_ug_dmm, x_val1, 200)"
   ]
  },
  {
   "cell_type": "code",
   "execution_count": 168,
   "metadata": {},
   "outputs": [
    {
     "name": "stdout",
     "output_type": "stream",
     "text": [
      "CPU times: user 218 ms, sys: 95.5 ms, total: 313 ms\n",
      "Wall time: 110 ms\n"
     ]
    },
    {
     "data": {
      "text/plain": [
       "LogisticRegression()"
      ]
     },
     "execution_count": 168,
     "metadata": {},
     "output_type": "execute_result"
    }
   ],
   "source": [
    "%%time\n",
    "clf = LogisticRegression()\n",
    "clf.fit(train_vecs_dbow_dmm, y_train)"
   ]
  },
  {
   "cell_type": "code",
   "execution_count": 169,
   "metadata": {},
   "outputs": [
    {
     "data": {
      "text/plain": [
       "0.48417350527549824"
      ]
     },
     "execution_count": 169,
     "metadata": {},
     "output_type": "execute_result"
    }
   ],
   "source": [
    "clf.score(validation_vecs_dbow_dmm, y_validation)"
   ]
  },
  {
   "cell_type": "code",
   "execution_count": 170,
   "metadata": {},
   "outputs": [],
   "source": [
    "from gensim.models.phrases import Phrases\n",
    "from gensim.models.phrases import Phraser"
   ]
  },
  {
   "cell_type": "code",
   "execution_count": 171,
   "metadata": {},
   "outputs": [],
   "source": [
    "tokenized_train = [t.split() for t in cleaned_tweets]"
   ]
  },
  {
   "cell_type": "code",
   "execution_count": 172,
   "metadata": {},
   "outputs": [
    {
     "name": "stderr",
     "output_type": "stream",
     "text": [
      "2021-08-15 14:04:36,354 | INFO | phrases.py:585 | _learn_vocab | collecting all words and their counts\n",
      "2021-08-15 14:04:36,355 | INFO | phrases.py:590 | _learn_vocab | PROGRESS: at sentence #0, processed 0 words and 0 word types\n",
      "2021-08-15 14:04:36,494 | INFO | phrases.py:611 | _learn_vocab | collected 73645 token types (unigram + bigrams) from a corpus of 118319 words and 5116 sentences\n",
      "2021-08-15 14:04:36,496 | INFO | phrases.py:668 | add_vocab | merged Phrases<73645 vocab, min_count=5, threshold=10.0, max_vocab_size=40000000>\n",
      "2021-08-15 14:04:36,538 | INFO | utils.py:448 | add_lifecycle_event | Phrases lifecycle event {'msg': 'built Phrases<73645 vocab, min_count=5, threshold=10.0, max_vocab_size=40000000> in 0.18s', 'datetime': '2021-08-15T14:04:36.538085', 'gensim': '4.0.1', 'python': '3.7.4 (default, Aug 13 2019, 15:17:50) \\n[Clang 4.0.1 (tags/RELEASE_401/final)]', 'platform': 'Darwin-19.6.0-x86_64-i386-64bit', 'event': 'created'}\n",
      "2021-08-15 14:04:36,539 | INFO | phrases.py:777 | __init__ | exporting phrases from Phrases<73645 vocab, min_count=5, threshold=10.0, max_vocab_size=40000000>\n",
      "2021-08-15 14:04:36,675 | INFO | utils.py:448 | add_lifecycle_event | FrozenPhrases lifecycle event {'msg': 'exported FrozenPhrases<705 phrases, min_count=5, threshold=10.0> from Phrases<73645 vocab, min_count=5, threshold=10.0, max_vocab_size=40000000> in 0.14s', 'datetime': '2021-08-15T14:04:36.675718', 'gensim': '4.0.1', 'python': '3.7.4 (default, Aug 13 2019, 15:17:50) \\n[Clang 4.0.1 (tags/RELEASE_401/final)]', 'platform': 'Darwin-19.6.0-x86_64-i386-64bit', 'event': 'created'}\n"
     ]
    },
    {
     "name": "stdout",
     "output_type": "stream",
     "text": [
      "CPU times: user 272 ms, sys: 29.1 ms, total: 301 ms\n",
      "Wall time: 339 ms\n"
     ]
    }
   ],
   "source": [
    "%%time\n",
    "phrases = Phrases(tokenized_train)\n",
    "bigram = Phraser(phrases)"
   ]
  },
  {
   "cell_type": "code",
   "execution_count": 191,
   "metadata": {},
   "outputs": [],
   "source": [
    "def labelize_tweets_bg(tweets,label):\n",
    "    result = []\n",
    "    prefix = label\n",
    "    for i, t in zip(tweets.index, tweets):\n",
    "        result.append(TaggedDocument(bigram[t.split()], [prefix + '_%s' % i]))\n",
    "    return result"
   ]
  },
  {
   "cell_type": "code",
   "execution_count": 192,
   "metadata": {},
   "outputs": [],
   "source": [
    "all_x_w2v_bg = labelize_tweets_bg(all_x, 'all')"
   ]
  },
  {
   "cell_type": "code",
   "execution_count": 193,
   "metadata": {},
   "outputs": [
    {
     "name": "stderr",
     "output_type": "stream",
     "text": [
      "2021-08-15 14:07:34,126 | INFO | utils.py:448 | add_lifecycle_event | Doc2Vec lifecycle event {'params': 'Doc2Vec(dbow,d100,n5,mc2,s0.001,t4)', 'datetime': '2021-08-15T14:07:34.125992', 'gensim': '4.0.1', 'python': '3.7.4 (default, Aug 13 2019, 15:17:50) \\n[Clang 4.0.1 (tags/RELEASE_401/final)]', 'platform': 'Darwin-19.6.0-x86_64-i386-64bit', 'event': 'created'}\n",
      "100%|██████████| 6822/6822 [00:00<00:00, 3707377.80it/s]\n",
      "2021-08-15 14:07:34,132 | INFO | doc2vec.py:1032 | scan_vocab | collecting all words and their counts\n",
      "2021-08-15 14:07:34,132 | INFO | doc2vec.py:951 | _scan_vocab | PROGRESS: at example #0, processed 0 words (0/s), 0 word types, 0 tags\n",
      "2021-08-15 14:07:34,199 | INFO | doc2vec.py:1040 | scan_vocab | collected 13902 word types and 5116 unique tags from a corpus of 6822 examples and 144381 words\n",
      "2021-08-15 14:07:34,200 | INFO | word2vec.py:626 | prepare_vocab | Creating a fresh vocabulary\n",
      "2021-08-15 14:07:34,231 | INFO | utils.py:448 | add_lifecycle_event | Doc2Vec lifecycle event {'msg': 'effective_min_count=2 retains 7224 unique words (51.963746223564954%% of original 13902, drops 6678)', 'datetime': '2021-08-15T14:07:34.231877', 'gensim': '4.0.1', 'python': '3.7.4 (default, Aug 13 2019, 15:17:50) \\n[Clang 4.0.1 (tags/RELEASE_401/final)]', 'platform': 'Darwin-19.6.0-x86_64-i386-64bit', 'event': 'prepare_vocab'}\n",
      "2021-08-15 14:07:34,235 | INFO | utils.py:448 | add_lifecycle_event | Doc2Vec lifecycle event {'msg': 'effective_min_count=2 leaves 137703 word corpus (95.37473767323955%% of original 144381, drops 6678)', 'datetime': '2021-08-15T14:07:34.235462', 'gensim': '4.0.1', 'python': '3.7.4 (default, Aug 13 2019, 15:17:50) \\n[Clang 4.0.1 (tags/RELEASE_401/final)]', 'platform': 'Darwin-19.6.0-x86_64-i386-64bit', 'event': 'prepare_vocab'}\n",
      "2021-08-15 14:07:34,288 | INFO | word2vec.py:734 | prepare_vocab | deleting the raw counts dictionary of 13902 items\n",
      "2021-08-15 14:07:34,289 | INFO | word2vec.py:737 | prepare_vocab | sample=0.001 downsamples 45 most-common words\n",
      "2021-08-15 14:07:34,292 | INFO | utils.py:448 | add_lifecycle_event | Doc2Vec lifecycle event {'msg': 'downsampling leaves estimated 110749.37196720994 word corpus (80.4%% of prior 137703)', 'datetime': '2021-08-15T14:07:34.292039', 'gensim': '4.0.1', 'python': '3.7.4 (default, Aug 13 2019, 15:17:50) \\n[Clang 4.0.1 (tags/RELEASE_401/final)]', 'platform': 'Darwin-19.6.0-x86_64-i386-64bit', 'event': 'prepare_vocab'}\n",
      "2021-08-15 14:07:34,374 | INFO | word2vec.py:796 | estimate_memory | estimated required memory for 7224 words and 100 dimensions: 12460800 bytes\n",
      "2021-08-15 14:07:34,375 | INFO | word2vec.py:852 | init_weights | resetting layer weights\n"
     ]
    }
   ],
   "source": [
    "cores = multiprocessing.cpu_count()\n",
    "model_bg_dbow = Doc2Vec(dm=0, vector_size=100, negative=5, min_count=2, workers=cores, alpha=0.065, min_alpha=0.065)\n",
    "model_bg_dbow.build_vocab([x for x in tqdm(all_x_w2v_bg)])"
   ]
  },
  {
   "cell_type": "code",
   "execution_count": 194,
   "metadata": {},
   "outputs": [
    {
     "name": "stderr",
     "output_type": "stream",
     "text": [
      "100%|██████████| 6822/6822 [00:00<00:00, 2521016.91it/s]\n",
      "2021-08-15 14:07:34,393 | INFO | utils.py:448 | add_lifecycle_event | Doc2Vec lifecycle event {'msg': 'training model with 4 workers on 7224 vocabulary and 100 features, using sg=1 hs=0 sample=0.001 negative=5 window=5', 'datetime': '2021-08-15T14:07:34.393686', 'gensim': '4.0.1', 'python': '3.7.4 (default, Aug 13 2019, 15:17:50) \\n[Clang 4.0.1 (tags/RELEASE_401/final)]', 'platform': 'Darwin-19.6.0-x86_64-i386-64bit', 'event': 'train'}\n",
      "2021-08-15 14:07:34,566 | INFO | word2vec.py:1281 | _log_epoch_progress | worker thread finished; awaiting finish of 3 more threads\n",
      "2021-08-15 14:07:34,582 | INFO | word2vec.py:1281 | _log_epoch_progress | worker thread finished; awaiting finish of 2 more threads\n",
      "2021-08-15 14:07:34,595 | INFO | word2vec.py:1281 | _log_epoch_progress | worker thread finished; awaiting finish of 1 more threads\n",
      "2021-08-15 14:07:34,596 | INFO | word2vec.py:1281 | _log_epoch_progress | worker thread finished; awaiting finish of 0 more threads\n",
      "2021-08-15 14:07:34,596 | INFO | word2vec.py:1624 | _log_epoch_end | EPOCH - 1 : training on 144381 raw words (117544 effective words) took 0.2s, 609957 effective words/s\n",
      "2021-08-15 14:07:34,597 | INFO | utils.py:448 | add_lifecycle_event | Doc2Vec lifecycle event {'msg': 'training on 144381 raw words (117544 effective words) took 0.2s, 579975 effective words/s', 'datetime': '2021-08-15T14:07:34.597297', 'gensim': '4.0.1', 'python': '3.7.4 (default, Aug 13 2019, 15:17:50) \\n[Clang 4.0.1 (tags/RELEASE_401/final)]', 'platform': 'Darwin-19.6.0-x86_64-i386-64bit', 'event': 'train'}\n",
      "100%|██████████| 6822/6822 [00:00<00:00, 3149536.81it/s]\n",
      "2021-08-15 14:07:34,605 | INFO | utils.py:448 | add_lifecycle_event | Doc2Vec lifecycle event {'msg': 'training model with 4 workers on 7224 vocabulary and 100 features, using sg=1 hs=0 sample=0.001 negative=5 window=5', 'datetime': '2021-08-15T14:07:34.605409', 'gensim': '4.0.1', 'python': '3.7.4 (default, Aug 13 2019, 15:17:50) \\n[Clang 4.0.1 (tags/RELEASE_401/final)]', 'platform': 'Darwin-19.6.0-x86_64-i386-64bit', 'event': 'train'}\n",
      "2021-08-15 14:07:34,770 | INFO | word2vec.py:1281 | _log_epoch_progress | worker thread finished; awaiting finish of 3 more threads\n",
      "2021-08-15 14:07:34,785 | INFO | word2vec.py:1281 | _log_epoch_progress | worker thread finished; awaiting finish of 2 more threads\n",
      "2021-08-15 14:07:34,797 | INFO | word2vec.py:1281 | _log_epoch_progress | worker thread finished; awaiting finish of 1 more threads\n",
      "2021-08-15 14:07:34,799 | INFO | word2vec.py:1281 | _log_epoch_progress | worker thread finished; awaiting finish of 0 more threads\n",
      "2021-08-15 14:07:34,800 | INFO | word2vec.py:1624 | _log_epoch_end | EPOCH - 1 : training on 144381 raw words (117517 effective words) took 0.2s, 625598 effective words/s\n",
      "2021-08-15 14:07:34,800 | INFO | utils.py:448 | add_lifecycle_event | Doc2Vec lifecycle event {'msg': 'training on 144381 raw words (117517 effective words) took 0.2s, 604947 effective words/s', 'datetime': '2021-08-15T14:07:34.800908', 'gensim': '4.0.1', 'python': '3.7.4 (default, Aug 13 2019, 15:17:50) \\n[Clang 4.0.1 (tags/RELEASE_401/final)]', 'platform': 'Darwin-19.6.0-x86_64-i386-64bit', 'event': 'train'}\n",
      "100%|██████████| 6822/6822 [00:00<00:00, 1955812.84it/s]\n",
      "2021-08-15 14:07:34,809 | INFO | utils.py:448 | add_lifecycle_event | Doc2Vec lifecycle event {'msg': 'training model with 4 workers on 7224 vocabulary and 100 features, using sg=1 hs=0 sample=0.001 negative=5 window=5', 'datetime': '2021-08-15T14:07:34.809030', 'gensim': '4.0.1', 'python': '3.7.4 (default, Aug 13 2019, 15:17:50) \\n[Clang 4.0.1 (tags/RELEASE_401/final)]', 'platform': 'Darwin-19.6.0-x86_64-i386-64bit', 'event': 'train'}\n",
      "2021-08-15 14:07:34,980 | INFO | word2vec.py:1281 | _log_epoch_progress | worker thread finished; awaiting finish of 3 more threads\n",
      "2021-08-15 14:07:34,992 | INFO | word2vec.py:1281 | _log_epoch_progress | worker thread finished; awaiting finish of 2 more threads\n",
      "2021-08-15 14:07:35,007 | INFO | word2vec.py:1281 | _log_epoch_progress | worker thread finished; awaiting finish of 1 more threads\n",
      "2021-08-15 14:07:35,009 | INFO | word2vec.py:1281 | _log_epoch_progress | worker thread finished; awaiting finish of 0 more threads\n",
      "2021-08-15 14:07:35,010 | INFO | word2vec.py:1624 | _log_epoch_end | EPOCH - 1 : training on 144381 raw words (117568 effective words) took 0.2s, 606057 effective words/s\n",
      "2021-08-15 14:07:35,010 | INFO | utils.py:448 | add_lifecycle_event | Doc2Vec lifecycle event {'msg': 'training on 144381 raw words (117568 effective words) took 0.2s, 585344 effective words/s', 'datetime': '2021-08-15T14:07:35.010616', 'gensim': '4.0.1', 'python': '3.7.4 (default, Aug 13 2019, 15:17:50) \\n[Clang 4.0.1 (tags/RELEASE_401/final)]', 'platform': 'Darwin-19.6.0-x86_64-i386-64bit', 'event': 'train'}\n",
      "100%|██████████| 6822/6822 [00:00<00:00, 3620592.42it/s]\n",
      "2021-08-15 14:07:35,016 | INFO | utils.py:448 | add_lifecycle_event | Doc2Vec lifecycle event {'msg': 'training model with 4 workers on 7224 vocabulary and 100 features, using sg=1 hs=0 sample=0.001 negative=5 window=5', 'datetime': '2021-08-15T14:07:35.016594', 'gensim': '4.0.1', 'python': '3.7.4 (default, Aug 13 2019, 15:17:50) \\n[Clang 4.0.1 (tags/RELEASE_401/final)]', 'platform': 'Darwin-19.6.0-x86_64-i386-64bit', 'event': 'train'}\n",
      "2021-08-15 14:07:35,202 | INFO | word2vec.py:1281 | _log_epoch_progress | worker thread finished; awaiting finish of 3 more threads\n",
      "2021-08-15 14:07:35,218 | INFO | word2vec.py:1281 | _log_epoch_progress | worker thread finished; awaiting finish of 2 more threads\n",
      "2021-08-15 14:07:35,234 | INFO | word2vec.py:1281 | _log_epoch_progress | worker thread finished; awaiting finish of 1 more threads\n",
      "2021-08-15 14:07:35,235 | INFO | word2vec.py:1281 | _log_epoch_progress | worker thread finished; awaiting finish of 0 more threads\n",
      "2021-08-15 14:07:35,236 | INFO | word2vec.py:1624 | _log_epoch_end | EPOCH - 1 : training on 144381 raw words (117401 effective words) took 0.2s, 577831 effective words/s\n",
      "2021-08-15 14:07:35,236 | INFO | utils.py:448 | add_lifecycle_event | Doc2Vec lifecycle event {'msg': 'training on 144381 raw words (117401 effective words) took 0.2s, 535508 effective words/s', 'datetime': '2021-08-15T14:07:35.236711', 'gensim': '4.0.1', 'python': '3.7.4 (default, Aug 13 2019, 15:17:50) \\n[Clang 4.0.1 (tags/RELEASE_401/final)]', 'platform': 'Darwin-19.6.0-x86_64-i386-64bit', 'event': 'train'}\n",
      "100%|██████████| 6822/6822 [00:00<00:00, 3527310.39it/s]\n",
      "2021-08-15 14:07:35,242 | INFO | utils.py:448 | add_lifecycle_event | Doc2Vec lifecycle event {'msg': 'training model with 4 workers on 7224 vocabulary and 100 features, using sg=1 hs=0 sample=0.001 negative=5 window=5', 'datetime': '2021-08-15T14:07:35.242474', 'gensim': '4.0.1', 'python': '3.7.4 (default, Aug 13 2019, 15:17:50) \\n[Clang 4.0.1 (tags/RELEASE_401/final)]', 'platform': 'Darwin-19.6.0-x86_64-i386-64bit', 'event': 'train'}\n",
      "2021-08-15 14:07:35,426 | INFO | word2vec.py:1281 | _log_epoch_progress | worker thread finished; awaiting finish of 3 more threads\n",
      "2021-08-15 14:07:35,442 | INFO | word2vec.py:1281 | _log_epoch_progress | worker thread finished; awaiting finish of 2 more threads\n",
      "2021-08-15 14:07:35,455 | INFO | word2vec.py:1281 | _log_epoch_progress | worker thread finished; awaiting finish of 1 more threads\n",
      "2021-08-15 14:07:35,458 | INFO | word2vec.py:1281 | _log_epoch_progress | worker thread finished; awaiting finish of 0 more threads\n",
      "2021-08-15 14:07:35,458 | INFO | word2vec.py:1624 | _log_epoch_end | EPOCH - 1 : training on 144381 raw words (117556 effective words) took 0.2s, 561773 effective words/s\n",
      "2021-08-15 14:07:35,459 | INFO | utils.py:448 | add_lifecycle_event | Doc2Vec lifecycle event {'msg': 'training on 144381 raw words (117556 effective words) took 0.2s, 543683 effective words/s', 'datetime': '2021-08-15T14:07:35.459316', 'gensim': '4.0.1', 'python': '3.7.4 (default, Aug 13 2019, 15:17:50) \\n[Clang 4.0.1 (tags/RELEASE_401/final)]', 'platform': 'Darwin-19.6.0-x86_64-i386-64bit', 'event': 'train'}\n",
      "100%|██████████| 6822/6822 [00:00<00:00, 2369651.50it/s]\n",
      "2021-08-15 14:07:35,465 | INFO | utils.py:448 | add_lifecycle_event | Doc2Vec lifecycle event {'msg': 'training model with 4 workers on 7224 vocabulary and 100 features, using sg=1 hs=0 sample=0.001 negative=5 window=5', 'datetime': '2021-08-15T14:07:35.465823', 'gensim': '4.0.1', 'python': '3.7.4 (default, Aug 13 2019, 15:17:50) \\n[Clang 4.0.1 (tags/RELEASE_401/final)]', 'platform': 'Darwin-19.6.0-x86_64-i386-64bit', 'event': 'train'}\n"
     ]
    },
    {
     "name": "stderr",
     "output_type": "stream",
     "text": [
      "2021-08-15 14:07:35,637 | INFO | word2vec.py:1281 | _log_epoch_progress | worker thread finished; awaiting finish of 3 more threads\n",
      "2021-08-15 14:07:35,654 | INFO | word2vec.py:1281 | _log_epoch_progress | worker thread finished; awaiting finish of 2 more threads\n",
      "2021-08-15 14:07:35,667 | INFO | word2vec.py:1281 | _log_epoch_progress | worker thread finished; awaiting finish of 1 more threads\n",
      "2021-08-15 14:07:35,671 | INFO | word2vec.py:1281 | _log_epoch_progress | worker thread finished; awaiting finish of 0 more threads\n",
      "2021-08-15 14:07:35,672 | INFO | word2vec.py:1624 | _log_epoch_end | EPOCH - 1 : training on 144381 raw words (117555 effective words) took 0.2s, 608762 effective words/s\n",
      "2021-08-15 14:07:35,673 | INFO | utils.py:448 | add_lifecycle_event | Doc2Vec lifecycle event {'msg': 'training on 144381 raw words (117555 effective words) took 0.2s, 569382 effective words/s', 'datetime': '2021-08-15T14:07:35.673005', 'gensim': '4.0.1', 'python': '3.7.4 (default, Aug 13 2019, 15:17:50) \\n[Clang 4.0.1 (tags/RELEASE_401/final)]', 'platform': 'Darwin-19.6.0-x86_64-i386-64bit', 'event': 'train'}\n",
      "100%|██████████| 6822/6822 [00:00<00:00, 3727663.09it/s]\n",
      "2021-08-15 14:07:35,678 | INFO | utils.py:448 | add_lifecycle_event | Doc2Vec lifecycle event {'msg': 'training model with 4 workers on 7224 vocabulary and 100 features, using sg=1 hs=0 sample=0.001 negative=5 window=5', 'datetime': '2021-08-15T14:07:35.678428', 'gensim': '4.0.1', 'python': '3.7.4 (default, Aug 13 2019, 15:17:50) \\n[Clang 4.0.1 (tags/RELEASE_401/final)]', 'platform': 'Darwin-19.6.0-x86_64-i386-64bit', 'event': 'train'}\n",
      "2021-08-15 14:07:35,843 | INFO | word2vec.py:1281 | _log_epoch_progress | worker thread finished; awaiting finish of 3 more threads\n",
      "2021-08-15 14:07:35,860 | INFO | word2vec.py:1281 | _log_epoch_progress | worker thread finished; awaiting finish of 2 more threads\n",
      "2021-08-15 14:07:35,873 | INFO | word2vec.py:1281 | _log_epoch_progress | worker thread finished; awaiting finish of 1 more threads\n",
      "2021-08-15 14:07:35,876 | INFO | word2vec.py:1281 | _log_epoch_progress | worker thread finished; awaiting finish of 0 more threads\n",
      "2021-08-15 14:07:35,876 | INFO | word2vec.py:1624 | _log_epoch_end | EPOCH - 1 : training on 144381 raw words (117497 effective words) took 0.2s, 611235 effective words/s\n",
      "2021-08-15 14:07:35,877 | INFO | utils.py:448 | add_lifecycle_event | Doc2Vec lifecycle event {'msg': 'training on 144381 raw words (117497 effective words) took 0.2s, 593566 effective words/s', 'datetime': '2021-08-15T14:07:35.877055', 'gensim': '4.0.1', 'python': '3.7.4 (default, Aug 13 2019, 15:17:50) \\n[Clang 4.0.1 (tags/RELEASE_401/final)]', 'platform': 'Darwin-19.6.0-x86_64-i386-64bit', 'event': 'train'}\n",
      "100%|██████████| 6822/6822 [00:00<00:00, 3609630.62it/s]\n",
      "2021-08-15 14:07:35,882 | INFO | utils.py:448 | add_lifecycle_event | Doc2Vec lifecycle event {'msg': 'training model with 4 workers on 7224 vocabulary and 100 features, using sg=1 hs=0 sample=0.001 negative=5 window=5', 'datetime': '2021-08-15T14:07:35.882327', 'gensim': '4.0.1', 'python': '3.7.4 (default, Aug 13 2019, 15:17:50) \\n[Clang 4.0.1 (tags/RELEASE_401/final)]', 'platform': 'Darwin-19.6.0-x86_64-i386-64bit', 'event': 'train'}\n",
      "2021-08-15 14:07:36,052 | INFO | word2vec.py:1281 | _log_epoch_progress | worker thread finished; awaiting finish of 3 more threads\n",
      "2021-08-15 14:07:36,068 | INFO | word2vec.py:1281 | _log_epoch_progress | worker thread finished; awaiting finish of 2 more threads\n",
      "2021-08-15 14:07:36,081 | INFO | word2vec.py:1281 | _log_epoch_progress | worker thread finished; awaiting finish of 1 more threads\n",
      "2021-08-15 14:07:36,082 | INFO | word2vec.py:1281 | _log_epoch_progress | worker thread finished; awaiting finish of 0 more threads\n",
      "2021-08-15 14:07:36,084 | INFO | word2vec.py:1624 | _log_epoch_end | EPOCH - 1 : training on 144381 raw words (117469 effective words) took 0.2s, 597426 effective words/s\n",
      "2021-08-15 14:07:36,085 | INFO | utils.py:448 | add_lifecycle_event | Doc2Vec lifecycle event {'msg': 'training on 144381 raw words (117469 effective words) took 0.2s, 580991 effective words/s', 'datetime': '2021-08-15T14:07:36.085273', 'gensim': '4.0.1', 'python': '3.7.4 (default, Aug 13 2019, 15:17:50) \\n[Clang 4.0.1 (tags/RELEASE_401/final)]', 'platform': 'Darwin-19.6.0-x86_64-i386-64bit', 'event': 'train'}\n",
      "100%|██████████| 6822/6822 [00:00<00:00, 3117962.50it/s]\n",
      "2021-08-15 14:07:36,091 | INFO | utils.py:448 | add_lifecycle_event | Doc2Vec lifecycle event {'msg': 'training model with 4 workers on 7224 vocabulary and 100 features, using sg=1 hs=0 sample=0.001 negative=5 window=5', 'datetime': '2021-08-15T14:07:36.091678', 'gensim': '4.0.1', 'python': '3.7.4 (default, Aug 13 2019, 15:17:50) \\n[Clang 4.0.1 (tags/RELEASE_401/final)]', 'platform': 'Darwin-19.6.0-x86_64-i386-64bit', 'event': 'train'}\n",
      "2021-08-15 14:07:36,245 | INFO | word2vec.py:1281 | _log_epoch_progress | worker thread finished; awaiting finish of 3 more threads\n",
      "2021-08-15 14:07:36,263 | INFO | word2vec.py:1281 | _log_epoch_progress | worker thread finished; awaiting finish of 2 more threads\n",
      "2021-08-15 14:07:36,275 | INFO | word2vec.py:1281 | _log_epoch_progress | worker thread finished; awaiting finish of 1 more threads\n",
      "2021-08-15 14:07:36,276 | INFO | word2vec.py:1281 | _log_epoch_progress | worker thread finished; awaiting finish of 0 more threads\n",
      "2021-08-15 14:07:36,277 | INFO | word2vec.py:1624 | _log_epoch_end | EPOCH - 1 : training on 144381 raw words (117586 effective words) took 0.2s, 655430 effective words/s\n",
      "2021-08-15 14:07:36,277 | INFO | utils.py:448 | add_lifecycle_event | Doc2Vec lifecycle event {'msg': 'training on 144381 raw words (117586 effective words) took 0.2s, 633813 effective words/s', 'datetime': '2021-08-15T14:07:36.277939', 'gensim': '4.0.1', 'python': '3.7.4 (default, Aug 13 2019, 15:17:50) \\n[Clang 4.0.1 (tags/RELEASE_401/final)]', 'platform': 'Darwin-19.6.0-x86_64-i386-64bit', 'event': 'train'}\n",
      "100%|██████████| 6822/6822 [00:00<00:00, 3526006.39it/s]\n",
      "2021-08-15 14:07:36,284 | INFO | utils.py:448 | add_lifecycle_event | Doc2Vec lifecycle event {'msg': 'training model with 4 workers on 7224 vocabulary and 100 features, using sg=1 hs=0 sample=0.001 negative=5 window=5', 'datetime': '2021-08-15T14:07:36.284280', 'gensim': '4.0.1', 'python': '3.7.4 (default, Aug 13 2019, 15:17:50) \\n[Clang 4.0.1 (tags/RELEASE_401/final)]', 'platform': 'Darwin-19.6.0-x86_64-i386-64bit', 'event': 'train'}\n",
      "2021-08-15 14:07:36,438 | INFO | word2vec.py:1281 | _log_epoch_progress | worker thread finished; awaiting finish of 3 more threads\n",
      "2021-08-15 14:07:36,453 | INFO | word2vec.py:1281 | _log_epoch_progress | worker thread finished; awaiting finish of 2 more threads\n",
      "2021-08-15 14:07:36,465 | INFO | word2vec.py:1281 | _log_epoch_progress | worker thread finished; awaiting finish of 1 more threads\n",
      "2021-08-15 14:07:36,467 | INFO | word2vec.py:1281 | _log_epoch_progress | worker thread finished; awaiting finish of 0 more threads\n",
      "2021-08-15 14:07:36,468 | INFO | word2vec.py:1624 | _log_epoch_end | EPOCH - 1 : training on 144381 raw words (117636 effective words) took 0.2s, 674210 effective words/s\n",
      "2021-08-15 14:07:36,468 | INFO | utils.py:448 | add_lifecycle_event | Doc2Vec lifecycle event {'msg': 'training on 144381 raw words (117636 effective words) took 0.2s, 641259 effective words/s', 'datetime': '2021-08-15T14:07:36.468697', 'gensim': '4.0.1', 'python': '3.7.4 (default, Aug 13 2019, 15:17:50) \\n[Clang 4.0.1 (tags/RELEASE_401/final)]', 'platform': 'Darwin-19.6.0-x86_64-i386-64bit', 'event': 'train'}\n",
      "100%|██████████| 6822/6822 [00:00<00:00, 2032644.87it/s]\n",
      "2021-08-15 14:07:36,475 | INFO | utils.py:448 | add_lifecycle_event | Doc2Vec lifecycle event {'msg': 'training model with 4 workers on 7224 vocabulary and 100 features, using sg=1 hs=0 sample=0.001 negative=5 window=5', 'datetime': '2021-08-15T14:07:36.475961', 'gensim': '4.0.1', 'python': '3.7.4 (default, Aug 13 2019, 15:17:50) \\n[Clang 4.0.1 (tags/RELEASE_401/final)]', 'platform': 'Darwin-19.6.0-x86_64-i386-64bit', 'event': 'train'}\n",
      "2021-08-15 14:07:36,630 | INFO | word2vec.py:1281 | _log_epoch_progress | worker thread finished; awaiting finish of 3 more threads\n",
      "2021-08-15 14:07:36,647 | INFO | word2vec.py:1281 | _log_epoch_progress | worker thread finished; awaiting finish of 2 more threads\n"
     ]
    },
    {
     "name": "stderr",
     "output_type": "stream",
     "text": [
      "2021-08-15 14:07:36,658 | INFO | word2vec.py:1281 | _log_epoch_progress | worker thread finished; awaiting finish of 1 more threads\n",
      "2021-08-15 14:07:36,661 | INFO | word2vec.py:1281 | _log_epoch_progress | worker thread finished; awaiting finish of 0 more threads\n",
      "2021-08-15 14:07:36,661 | INFO | word2vec.py:1624 | _log_epoch_end | EPOCH - 1 : training on 144381 raw words (117643 effective words) took 0.2s, 655062 effective words/s\n",
      "2021-08-15 14:07:36,662 | INFO | utils.py:448 | add_lifecycle_event | Doc2Vec lifecycle event {'msg': 'training on 144381 raw words (117643 effective words) took 0.2s, 634395 effective words/s', 'datetime': '2021-08-15T14:07:36.662180', 'gensim': '4.0.1', 'python': '3.7.4 (default, Aug 13 2019, 15:17:50) \\n[Clang 4.0.1 (tags/RELEASE_401/final)]', 'platform': 'Darwin-19.6.0-x86_64-i386-64bit', 'event': 'train'}\n",
      "100%|██████████| 6822/6822 [00:00<00:00, 2731863.84it/s]\n",
      "2021-08-15 14:07:36,669 | INFO | utils.py:448 | add_lifecycle_event | Doc2Vec lifecycle event {'msg': 'training model with 4 workers on 7224 vocabulary and 100 features, using sg=1 hs=0 sample=0.001 negative=5 window=5', 'datetime': '2021-08-15T14:07:36.669068', 'gensim': '4.0.1', 'python': '3.7.4 (default, Aug 13 2019, 15:17:50) \\n[Clang 4.0.1 (tags/RELEASE_401/final)]', 'platform': 'Darwin-19.6.0-x86_64-i386-64bit', 'event': 'train'}\n",
      "2021-08-15 14:07:36,821 | INFO | word2vec.py:1281 | _log_epoch_progress | worker thread finished; awaiting finish of 3 more threads\n",
      "2021-08-15 14:07:36,837 | INFO | word2vec.py:1281 | _log_epoch_progress | worker thread finished; awaiting finish of 2 more threads\n",
      "2021-08-15 14:07:36,851 | INFO | word2vec.py:1281 | _log_epoch_progress | worker thread finished; awaiting finish of 1 more threads\n",
      "2021-08-15 14:07:36,853 | INFO | word2vec.py:1281 | _log_epoch_progress | worker thread finished; awaiting finish of 0 more threads\n",
      "2021-08-15 14:07:36,854 | INFO | word2vec.py:1624 | _log_epoch_end | EPOCH - 1 : training on 144381 raw words (117550 effective words) took 0.2s, 658508 effective words/s\n",
      "2021-08-15 14:07:36,854 | INFO | utils.py:448 | add_lifecycle_event | Doc2Vec lifecycle event {'msg': 'training on 144381 raw words (117550 effective words) took 0.2s, 636193 effective words/s', 'datetime': '2021-08-15T14:07:36.854745', 'gensim': '4.0.1', 'python': '3.7.4 (default, Aug 13 2019, 15:17:50) \\n[Clang 4.0.1 (tags/RELEASE_401/final)]', 'platform': 'Darwin-19.6.0-x86_64-i386-64bit', 'event': 'train'}\n",
      "100%|██████████| 6822/6822 [00:00<00:00, 3638548.05it/s]\n",
      "2021-08-15 14:07:36,860 | INFO | utils.py:448 | add_lifecycle_event | Doc2Vec lifecycle event {'msg': 'training model with 4 workers on 7224 vocabulary and 100 features, using sg=1 hs=0 sample=0.001 negative=5 window=5', 'datetime': '2021-08-15T14:07:36.860060', 'gensim': '4.0.1', 'python': '3.7.4 (default, Aug 13 2019, 15:17:50) \\n[Clang 4.0.1 (tags/RELEASE_401/final)]', 'platform': 'Darwin-19.6.0-x86_64-i386-64bit', 'event': 'train'}\n",
      "2021-08-15 14:07:37,013 | INFO | word2vec.py:1281 | _log_epoch_progress | worker thread finished; awaiting finish of 3 more threads\n",
      "2021-08-15 14:07:37,031 | INFO | word2vec.py:1281 | _log_epoch_progress | worker thread finished; awaiting finish of 2 more threads\n",
      "2021-08-15 14:07:37,043 | INFO | word2vec.py:1281 | _log_epoch_progress | worker thread finished; awaiting finish of 1 more threads\n",
      "2021-08-15 14:07:37,043 | INFO | word2vec.py:1281 | _log_epoch_progress | worker thread finished; awaiting finish of 0 more threads\n",
      "2021-08-15 14:07:37,044 | INFO | word2vec.py:1624 | _log_epoch_end | EPOCH - 1 : training on 144381 raw words (117805 effective words) took 0.2s, 661290 effective words/s\n",
      "2021-08-15 14:07:37,044 | INFO | utils.py:448 | add_lifecycle_event | Doc2Vec lifecycle event {'msg': 'training on 144381 raw words (117805 effective words) took 0.2s, 639981 effective words/s', 'datetime': '2021-08-15T14:07:37.044830', 'gensim': '4.0.1', 'python': '3.7.4 (default, Aug 13 2019, 15:17:50) \\n[Clang 4.0.1 (tags/RELEASE_401/final)]', 'platform': 'Darwin-19.6.0-x86_64-i386-64bit', 'event': 'train'}\n",
      "100%|██████████| 6822/6822 [00:00<00:00, 3410434.07it/s]\n",
      "2021-08-15 14:07:37,051 | INFO | utils.py:448 | add_lifecycle_event | Doc2Vec lifecycle event {'msg': 'training model with 4 workers on 7224 vocabulary and 100 features, using sg=1 hs=0 sample=0.001 negative=5 window=5', 'datetime': '2021-08-15T14:07:37.051443', 'gensim': '4.0.1', 'python': '3.7.4 (default, Aug 13 2019, 15:17:50) \\n[Clang 4.0.1 (tags/RELEASE_401/final)]', 'platform': 'Darwin-19.6.0-x86_64-i386-64bit', 'event': 'train'}\n",
      "2021-08-15 14:07:37,203 | INFO | word2vec.py:1281 | _log_epoch_progress | worker thread finished; awaiting finish of 3 more threads\n",
      "2021-08-15 14:07:37,220 | INFO | word2vec.py:1281 | _log_epoch_progress | worker thread finished; awaiting finish of 2 more threads\n",
      "2021-08-15 14:07:37,232 | INFO | word2vec.py:1281 | _log_epoch_progress | worker thread finished; awaiting finish of 1 more threads\n",
      "2021-08-15 14:07:37,234 | INFO | word2vec.py:1281 | _log_epoch_progress | worker thread finished; awaiting finish of 0 more threads\n",
      "2021-08-15 14:07:37,235 | INFO | word2vec.py:1624 | _log_epoch_end | EPOCH - 1 : training on 144381 raw words (117667 effective words) took 0.2s, 673101 effective words/s\n",
      "2021-08-15 14:07:37,235 | INFO | utils.py:448 | add_lifecycle_event | Doc2Vec lifecycle event {'msg': 'training on 144381 raw words (117667 effective words) took 0.2s, 641201 effective words/s', 'datetime': '2021-08-15T14:07:37.235926', 'gensim': '4.0.1', 'python': '3.7.4 (default, Aug 13 2019, 15:17:50) \\n[Clang 4.0.1 (tags/RELEASE_401/final)]', 'platform': 'Darwin-19.6.0-x86_64-i386-64bit', 'event': 'train'}\n",
      "100%|██████████| 6822/6822 [00:00<00:00, 3665583.13it/s]\n",
      "2021-08-15 14:07:37,241 | INFO | utils.py:448 | add_lifecycle_event | Doc2Vec lifecycle event {'msg': 'training model with 4 workers on 7224 vocabulary and 100 features, using sg=1 hs=0 sample=0.001 negative=5 window=5', 'datetime': '2021-08-15T14:07:37.241808', 'gensim': '4.0.1', 'python': '3.7.4 (default, Aug 13 2019, 15:17:50) \\n[Clang 4.0.1 (tags/RELEASE_401/final)]', 'platform': 'Darwin-19.6.0-x86_64-i386-64bit', 'event': 'train'}\n",
      "2021-08-15 14:07:37,397 | INFO | word2vec.py:1281 | _log_epoch_progress | worker thread finished; awaiting finish of 3 more threads\n",
      "2021-08-15 14:07:37,414 | INFO | word2vec.py:1281 | _log_epoch_progress | worker thread finished; awaiting finish of 2 more threads\n",
      "2021-08-15 14:07:37,429 | INFO | word2vec.py:1281 | _log_epoch_progress | worker thread finished; awaiting finish of 1 more threads\n",
      "2021-08-15 14:07:37,431 | INFO | word2vec.py:1281 | _log_epoch_progress | worker thread finished; awaiting finish of 0 more threads\n",
      "2021-08-15 14:07:37,432 | INFO | word2vec.py:1624 | _log_epoch_end | EPOCH - 1 : training on 144381 raw words (117574 effective words) took 0.2s, 637120 effective words/s\n",
      "2021-08-15 14:07:37,433 | INFO | utils.py:448 | add_lifecycle_event | Doc2Vec lifecycle event {'msg': 'training on 144381 raw words (117574 effective words) took 0.2s, 615874 effective words/s', 'datetime': '2021-08-15T14:07:37.433480', 'gensim': '4.0.1', 'python': '3.7.4 (default, Aug 13 2019, 15:17:50) \\n[Clang 4.0.1 (tags/RELEASE_401/final)]', 'platform': 'Darwin-19.6.0-x86_64-i386-64bit', 'event': 'train'}\n",
      "100%|██████████| 6822/6822 [00:00<00:00, 3558898.24it/s]\n",
      "2021-08-15 14:07:37,439 | INFO | utils.py:448 | add_lifecycle_event | Doc2Vec lifecycle event {'msg': 'training model with 4 workers on 7224 vocabulary and 100 features, using sg=1 hs=0 sample=0.001 negative=5 window=5', 'datetime': '2021-08-15T14:07:37.439561', 'gensim': '4.0.1', 'python': '3.7.4 (default, Aug 13 2019, 15:17:50) \\n[Clang 4.0.1 (tags/RELEASE_401/final)]', 'platform': 'Darwin-19.6.0-x86_64-i386-64bit', 'event': 'train'}\n",
      "2021-08-15 14:07:37,601 | INFO | word2vec.py:1281 | _log_epoch_progress | worker thread finished; awaiting finish of 3 more threads\n",
      "2021-08-15 14:07:37,617 | INFO | word2vec.py:1281 | _log_epoch_progress | worker thread finished; awaiting finish of 2 more threads\n",
      "2021-08-15 14:07:37,630 | INFO | word2vec.py:1281 | _log_epoch_progress | worker thread finished; awaiting finish of 1 more threads\n",
      "2021-08-15 14:07:37,631 | INFO | word2vec.py:1281 | _log_epoch_progress | worker thread finished; awaiting finish of 0 more threads\n"
     ]
    },
    {
     "name": "stderr",
     "output_type": "stream",
     "text": [
      "2021-08-15 14:07:37,631 | INFO | word2vec.py:1624 | _log_epoch_end | EPOCH - 1 : training on 144381 raw words (117579 effective words) took 0.2s, 632144 effective words/s\n",
      "2021-08-15 14:07:37,632 | INFO | utils.py:448 | add_lifecycle_event | Doc2Vec lifecycle event {'msg': 'training on 144381 raw words (117579 effective words) took 0.2s, 610990 effective words/s', 'datetime': '2021-08-15T14:07:37.632723', 'gensim': '4.0.1', 'python': '3.7.4 (default, Aug 13 2019, 15:17:50) \\n[Clang 4.0.1 (tags/RELEASE_401/final)]', 'platform': 'Darwin-19.6.0-x86_64-i386-64bit', 'event': 'train'}\n",
      "100%|██████████| 6822/6822 [00:00<00:00, 3027888.03it/s]\n",
      "2021-08-15 14:07:37,639 | INFO | utils.py:448 | add_lifecycle_event | Doc2Vec lifecycle event {'msg': 'training model with 4 workers on 7224 vocabulary and 100 features, using sg=1 hs=0 sample=0.001 negative=5 window=5', 'datetime': '2021-08-15T14:07:37.639596', 'gensim': '4.0.1', 'python': '3.7.4 (default, Aug 13 2019, 15:17:50) \\n[Clang 4.0.1 (tags/RELEASE_401/final)]', 'platform': 'Darwin-19.6.0-x86_64-i386-64bit', 'event': 'train'}\n",
      "2021-08-15 14:07:37,793 | INFO | word2vec.py:1281 | _log_epoch_progress | worker thread finished; awaiting finish of 3 more threads\n",
      "2021-08-15 14:07:37,812 | INFO | word2vec.py:1281 | _log_epoch_progress | worker thread finished; awaiting finish of 2 more threads\n",
      "2021-08-15 14:07:37,826 | INFO | word2vec.py:1281 | _log_epoch_progress | worker thread finished; awaiting finish of 1 more threads\n",
      "2021-08-15 14:07:37,828 | INFO | word2vec.py:1281 | _log_epoch_progress | worker thread finished; awaiting finish of 0 more threads\n",
      "2021-08-15 14:07:37,828 | INFO | word2vec.py:1624 | _log_epoch_end | EPOCH - 1 : training on 144381 raw words (117673 effective words) took 0.2s, 642796 effective words/s\n",
      "2021-08-15 14:07:37,829 | INFO | utils.py:448 | add_lifecycle_event | Doc2Vec lifecycle event {'msg': 'training on 144381 raw words (117673 effective words) took 0.2s, 623044 effective words/s', 'datetime': '2021-08-15T14:07:37.829238', 'gensim': '4.0.1', 'python': '3.7.4 (default, Aug 13 2019, 15:17:50) \\n[Clang 4.0.1 (tags/RELEASE_401/final)]', 'platform': 'Darwin-19.6.0-x86_64-i386-64bit', 'event': 'train'}\n",
      "100%|██████████| 6822/6822 [00:00<00:00, 3251908.39it/s]\n",
      "2021-08-15 14:07:37,835 | INFO | utils.py:448 | add_lifecycle_event | Doc2Vec lifecycle event {'msg': 'training model with 4 workers on 7224 vocabulary and 100 features, using sg=1 hs=0 sample=0.001 negative=5 window=5', 'datetime': '2021-08-15T14:07:37.835186', 'gensim': '4.0.1', 'python': '3.7.4 (default, Aug 13 2019, 15:17:50) \\n[Clang 4.0.1 (tags/RELEASE_401/final)]', 'platform': 'Darwin-19.6.0-x86_64-i386-64bit', 'event': 'train'}\n",
      "2021-08-15 14:07:37,988 | INFO | word2vec.py:1281 | _log_epoch_progress | worker thread finished; awaiting finish of 3 more threads\n",
      "2021-08-15 14:07:38,002 | INFO | word2vec.py:1281 | _log_epoch_progress | worker thread finished; awaiting finish of 2 more threads\n",
      "2021-08-15 14:07:38,016 | INFO | word2vec.py:1281 | _log_epoch_progress | worker thread finished; awaiting finish of 1 more threads\n",
      "2021-08-15 14:07:38,018 | INFO | word2vec.py:1281 | _log_epoch_progress | worker thread finished; awaiting finish of 0 more threads\n",
      "2021-08-15 14:07:38,018 | INFO | word2vec.py:1624 | _log_epoch_end | EPOCH - 1 : training on 144381 raw words (117738 effective words) took 0.2s, 674487 effective words/s\n",
      "2021-08-15 14:07:38,019 | INFO | utils.py:448 | add_lifecycle_event | Doc2Vec lifecycle event {'msg': 'training on 144381 raw words (117738 effective words) took 0.2s, 642661 effective words/s', 'datetime': '2021-08-15T14:07:38.019255', 'gensim': '4.0.1', 'python': '3.7.4 (default, Aug 13 2019, 15:17:50) \\n[Clang 4.0.1 (tags/RELEASE_401/final)]', 'platform': 'Darwin-19.6.0-x86_64-i386-64bit', 'event': 'train'}\n",
      "100%|██████████| 6822/6822 [00:00<00:00, 3703538.94it/s]\n",
      "2021-08-15 14:07:38,024 | INFO | utils.py:448 | add_lifecycle_event | Doc2Vec lifecycle event {'msg': 'training model with 4 workers on 7224 vocabulary and 100 features, using sg=1 hs=0 sample=0.001 negative=5 window=5', 'datetime': '2021-08-15T14:07:38.024589', 'gensim': '4.0.1', 'python': '3.7.4 (default, Aug 13 2019, 15:17:50) \\n[Clang 4.0.1 (tags/RELEASE_401/final)]', 'platform': 'Darwin-19.6.0-x86_64-i386-64bit', 'event': 'train'}\n",
      "2021-08-15 14:07:38,179 | INFO | word2vec.py:1281 | _log_epoch_progress | worker thread finished; awaiting finish of 3 more threads\n",
      "2021-08-15 14:07:38,190 | INFO | word2vec.py:1281 | _log_epoch_progress | worker thread finished; awaiting finish of 2 more threads\n",
      "2021-08-15 14:07:38,207 | INFO | word2vec.py:1281 | _log_epoch_progress | worker thread finished; awaiting finish of 1 more threads\n",
      "2021-08-15 14:07:38,207 | INFO | word2vec.py:1281 | _log_epoch_progress | worker thread finished; awaiting finish of 0 more threads\n",
      "2021-08-15 14:07:38,208 | INFO | word2vec.py:1624 | _log_epoch_end | EPOCH - 1 : training on 144381 raw words (117421 effective words) took 0.2s, 658579 effective words/s\n",
      "2021-08-15 14:07:38,209 | INFO | utils.py:448 | add_lifecycle_event | Doc2Vec lifecycle event {'msg': 'training on 144381 raw words (117421 effective words) took 0.2s, 638321 effective words/s', 'datetime': '2021-08-15T14:07:38.209272', 'gensim': '4.0.1', 'python': '3.7.4 (default, Aug 13 2019, 15:17:50) \\n[Clang 4.0.1 (tags/RELEASE_401/final)]', 'platform': 'Darwin-19.6.0-x86_64-i386-64bit', 'event': 'train'}\n",
      "100%|██████████| 6822/6822 [00:00<00:00, 3677833.15it/s]\n",
      "2021-08-15 14:07:38,214 | INFO | utils.py:448 | add_lifecycle_event | Doc2Vec lifecycle event {'msg': 'training model with 4 workers on 7224 vocabulary and 100 features, using sg=1 hs=0 sample=0.001 negative=5 window=5', 'datetime': '2021-08-15T14:07:38.214631', 'gensim': '4.0.1', 'python': '3.7.4 (default, Aug 13 2019, 15:17:50) \\n[Clang 4.0.1 (tags/RELEASE_401/final)]', 'platform': 'Darwin-19.6.0-x86_64-i386-64bit', 'event': 'train'}\n",
      "2021-08-15 14:07:38,378 | INFO | word2vec.py:1281 | _log_epoch_progress | worker thread finished; awaiting finish of 3 more threads\n",
      "2021-08-15 14:07:38,393 | INFO | word2vec.py:1281 | _log_epoch_progress | worker thread finished; awaiting finish of 2 more threads\n",
      "2021-08-15 14:07:38,410 | INFO | word2vec.py:1281 | _log_epoch_progress | worker thread finished; awaiting finish of 1 more threads\n",
      "2021-08-15 14:07:38,413 | INFO | word2vec.py:1281 | _log_epoch_progress | worker thread finished; awaiting finish of 0 more threads\n",
      "2021-08-15 14:07:38,414 | INFO | word2vec.py:1624 | _log_epoch_end | EPOCH - 1 : training on 144381 raw words (117574 effective words) took 0.2s, 610908 effective words/s\n",
      "2021-08-15 14:07:38,415 | INFO | utils.py:448 | add_lifecycle_event | Doc2Vec lifecycle event {'msg': 'training on 144381 raw words (117574 effective words) took 0.2s, 588829 effective words/s', 'datetime': '2021-08-15T14:07:38.415165', 'gensim': '4.0.1', 'python': '3.7.4 (default, Aug 13 2019, 15:17:50) \\n[Clang 4.0.1 (tags/RELEASE_401/final)]', 'platform': 'Darwin-19.6.0-x86_64-i386-64bit', 'event': 'train'}\n",
      "100%|██████████| 6822/6822 [00:00<00:00, 3423081.93it/s]\n",
      "2021-08-15 14:07:38,421 | INFO | utils.py:448 | add_lifecycle_event | Doc2Vec lifecycle event {'msg': 'training model with 4 workers on 7224 vocabulary and 100 features, using sg=1 hs=0 sample=0.001 negative=5 window=5', 'datetime': '2021-08-15T14:07:38.421560', 'gensim': '4.0.1', 'python': '3.7.4 (default, Aug 13 2019, 15:17:50) \\n[Clang 4.0.1 (tags/RELEASE_401/final)]', 'platform': 'Darwin-19.6.0-x86_64-i386-64bit', 'event': 'train'}\n",
      "2021-08-15 14:07:38,588 | INFO | word2vec.py:1281 | _log_epoch_progress | worker thread finished; awaiting finish of 3 more threads\n",
      "2021-08-15 14:07:38,605 | INFO | word2vec.py:1281 | _log_epoch_progress | worker thread finished; awaiting finish of 2 more threads\n",
      "2021-08-15 14:07:38,617 | INFO | word2vec.py:1281 | _log_epoch_progress | worker thread finished; awaiting finish of 1 more threads\n",
      "2021-08-15 14:07:38,621 | INFO | word2vec.py:1281 | _log_epoch_progress | worker thread finished; awaiting finish of 0 more threads\n",
      "2021-08-15 14:07:38,622 | INFO | word2vec.py:1624 | _log_epoch_end | EPOCH - 1 : training on 144381 raw words (117420 effective words) took 0.2s, 603716 effective words/s\n"
     ]
    },
    {
     "name": "stderr",
     "output_type": "stream",
     "text": [
      "2021-08-15 14:07:38,623 | INFO | utils.py:448 | add_lifecycle_event | Doc2Vec lifecycle event {'msg': 'training on 144381 raw words (117420 effective words) took 0.2s, 583685 effective words/s', 'datetime': '2021-08-15T14:07:38.623525', 'gensim': '4.0.1', 'python': '3.7.4 (default, Aug 13 2019, 15:17:50) \\n[Clang 4.0.1 (tags/RELEASE_401/final)]', 'platform': 'Darwin-19.6.0-x86_64-i386-64bit', 'event': 'train'}\n",
      "100%|██████████| 6822/6822 [00:00<00:00, 3740332.27it/s]\n",
      "2021-08-15 14:07:38,629 | INFO | utils.py:448 | add_lifecycle_event | Doc2Vec lifecycle event {'msg': 'training model with 4 workers on 7224 vocabulary and 100 features, using sg=1 hs=0 sample=0.001 negative=5 window=5', 'datetime': '2021-08-15T14:07:38.629080', 'gensim': '4.0.1', 'python': '3.7.4 (default, Aug 13 2019, 15:17:50) \\n[Clang 4.0.1 (tags/RELEASE_401/final)]', 'platform': 'Darwin-19.6.0-x86_64-i386-64bit', 'event': 'train'}\n",
      "2021-08-15 14:07:38,791 | INFO | word2vec.py:1281 | _log_epoch_progress | worker thread finished; awaiting finish of 3 more threads\n",
      "2021-08-15 14:07:38,810 | INFO | word2vec.py:1281 | _log_epoch_progress | worker thread finished; awaiting finish of 2 more threads\n",
      "2021-08-15 14:07:38,826 | INFO | word2vec.py:1281 | _log_epoch_progress | worker thread finished; awaiting finish of 1 more threads\n",
      "2021-08-15 14:07:38,828 | INFO | word2vec.py:1281 | _log_epoch_progress | worker thread finished; awaiting finish of 0 more threads\n",
      "2021-08-15 14:07:38,829 | INFO | word2vec.py:1624 | _log_epoch_end | EPOCH - 1 : training on 144381 raw words (117635 effective words) took 0.2s, 607604 effective words/s\n",
      "2021-08-15 14:07:38,830 | INFO | utils.py:448 | add_lifecycle_event | Doc2Vec lifecycle event {'msg': 'training on 144381 raw words (117635 effective words) took 0.2s, 587448 effective words/s', 'datetime': '2021-08-15T14:07:38.830049', 'gensim': '4.0.1', 'python': '3.7.4 (default, Aug 13 2019, 15:17:50) \\n[Clang 4.0.1 (tags/RELEASE_401/final)]', 'platform': 'Darwin-19.6.0-x86_64-i386-64bit', 'event': 'train'}\n",
      "100%|██████████| 6822/6822 [00:00<00:00, 3573565.87it/s]\n",
      "2021-08-15 14:07:38,836 | INFO | utils.py:448 | add_lifecycle_event | Doc2Vec lifecycle event {'msg': 'training model with 4 workers on 7224 vocabulary and 100 features, using sg=1 hs=0 sample=0.001 negative=5 window=5', 'datetime': '2021-08-15T14:07:38.836788', 'gensim': '4.0.1', 'python': '3.7.4 (default, Aug 13 2019, 15:17:50) \\n[Clang 4.0.1 (tags/RELEASE_401/final)]', 'platform': 'Darwin-19.6.0-x86_64-i386-64bit', 'event': 'train'}\n",
      "2021-08-15 14:07:39,003 | INFO | word2vec.py:1281 | _log_epoch_progress | worker thread finished; awaiting finish of 3 more threads\n",
      "2021-08-15 14:07:39,025 | INFO | word2vec.py:1281 | _log_epoch_progress | worker thread finished; awaiting finish of 2 more threads\n",
      "2021-08-15 14:07:39,036 | INFO | word2vec.py:1281 | _log_epoch_progress | worker thread finished; awaiting finish of 1 more threads\n",
      "2021-08-15 14:07:39,041 | INFO | word2vec.py:1281 | _log_epoch_progress | worker thread finished; awaiting finish of 0 more threads\n",
      "2021-08-15 14:07:39,042 | INFO | word2vec.py:1624 | _log_epoch_end | EPOCH - 1 : training on 144381 raw words (117694 effective words) took 0.2s, 593676 effective words/s\n",
      "2021-08-15 14:07:39,042 | INFO | utils.py:448 | add_lifecycle_event | Doc2Vec lifecycle event {'msg': 'training on 144381 raw words (117694 effective words) took 0.2s, 573364 effective words/s', 'datetime': '2021-08-15T14:07:39.042923', 'gensim': '4.0.1', 'python': '3.7.4 (default, Aug 13 2019, 15:17:50) \\n[Clang 4.0.1 (tags/RELEASE_401/final)]', 'platform': 'Darwin-19.6.0-x86_64-i386-64bit', 'event': 'train'}\n",
      "100%|██████████| 6822/6822 [00:00<00:00, 3450740.70it/s]\n",
      "2021-08-15 14:07:39,050 | INFO | utils.py:448 | add_lifecycle_event | Doc2Vec lifecycle event {'msg': 'training model with 4 workers on 7224 vocabulary and 100 features, using sg=1 hs=0 sample=0.001 negative=5 window=5', 'datetime': '2021-08-15T14:07:39.050536', 'gensim': '4.0.1', 'python': '3.7.4 (default, Aug 13 2019, 15:17:50) \\n[Clang 4.0.1 (tags/RELEASE_401/final)]', 'platform': 'Darwin-19.6.0-x86_64-i386-64bit', 'event': 'train'}\n",
      "2021-08-15 14:07:39,216 | INFO | word2vec.py:1281 | _log_epoch_progress | worker thread finished; awaiting finish of 3 more threads\n",
      "2021-08-15 14:07:39,232 | INFO | word2vec.py:1281 | _log_epoch_progress | worker thread finished; awaiting finish of 2 more threads\n",
      "2021-08-15 14:07:39,246 | INFO | word2vec.py:1281 | _log_epoch_progress | worker thread finished; awaiting finish of 1 more threads\n",
      "2021-08-15 14:07:39,248 | INFO | word2vec.py:1281 | _log_epoch_progress | worker thread finished; awaiting finish of 0 more threads\n",
      "2021-08-15 14:07:39,249 | INFO | word2vec.py:1624 | _log_epoch_end | EPOCH - 1 : training on 144381 raw words (117620 effective words) took 0.2s, 625648 effective words/s\n",
      "2021-08-15 14:07:39,250 | INFO | utils.py:448 | add_lifecycle_event | Doc2Vec lifecycle event {'msg': 'training on 144381 raw words (117620 effective words) took 0.2s, 593014 effective words/s', 'datetime': '2021-08-15T14:07:39.250053', 'gensim': '4.0.1', 'python': '3.7.4 (default, Aug 13 2019, 15:17:50) \\n[Clang 4.0.1 (tags/RELEASE_401/final)]', 'platform': 'Darwin-19.6.0-x86_64-i386-64bit', 'event': 'train'}\n",
      "100%|██████████| 6822/6822 [00:00<00:00, 3392239.70it/s]\n",
      "2021-08-15 14:07:39,256 | INFO | utils.py:448 | add_lifecycle_event | Doc2Vec lifecycle event {'msg': 'training model with 4 workers on 7224 vocabulary and 100 features, using sg=1 hs=0 sample=0.001 negative=5 window=5', 'datetime': '2021-08-15T14:07:39.256047', 'gensim': '4.0.1', 'python': '3.7.4 (default, Aug 13 2019, 15:17:50) \\n[Clang 4.0.1 (tags/RELEASE_401/final)]', 'platform': 'Darwin-19.6.0-x86_64-i386-64bit', 'event': 'train'}\n",
      "2021-08-15 14:07:39,409 | INFO | word2vec.py:1281 | _log_epoch_progress | worker thread finished; awaiting finish of 3 more threads\n",
      "2021-08-15 14:07:39,427 | INFO | word2vec.py:1281 | _log_epoch_progress | worker thread finished; awaiting finish of 2 more threads\n",
      "2021-08-15 14:07:39,440 | INFO | word2vec.py:1281 | _log_epoch_progress | worker thread finished; awaiting finish of 1 more threads\n",
      "2021-08-15 14:07:39,442 | INFO | word2vec.py:1281 | _log_epoch_progress | worker thread finished; awaiting finish of 0 more threads\n",
      "2021-08-15 14:07:39,442 | INFO | word2vec.py:1624 | _log_epoch_end | EPOCH - 1 : training on 144381 raw words (117459 effective words) took 0.2s, 653879 effective words/s\n",
      "2021-08-15 14:07:39,443 | INFO | utils.py:448 | add_lifecycle_event | Doc2Vec lifecycle event {'msg': 'training on 144381 raw words (117459 effective words) took 0.2s, 630070 effective words/s', 'datetime': '2021-08-15T14:07:39.443307', 'gensim': '4.0.1', 'python': '3.7.4 (default, Aug 13 2019, 15:17:50) \\n[Clang 4.0.1 (tags/RELEASE_401/final)]', 'platform': 'Darwin-19.6.0-x86_64-i386-64bit', 'event': 'train'}\n",
      "100%|██████████| 6822/6822 [00:00<00:00, 3562442.96it/s]\n",
      "2021-08-15 14:07:39,449 | INFO | utils.py:448 | add_lifecycle_event | Doc2Vec lifecycle event {'msg': 'training model with 4 workers on 7224 vocabulary and 100 features, using sg=1 hs=0 sample=0.001 negative=5 window=5', 'datetime': '2021-08-15T14:07:39.449522', 'gensim': '4.0.1', 'python': '3.7.4 (default, Aug 13 2019, 15:17:50) \\n[Clang 4.0.1 (tags/RELEASE_401/final)]', 'platform': 'Darwin-19.6.0-x86_64-i386-64bit', 'event': 'train'}\n",
      "2021-08-15 14:07:39,599 | INFO | word2vec.py:1281 | _log_epoch_progress | worker thread finished; awaiting finish of 3 more threads\n",
      "2021-08-15 14:07:39,618 | INFO | word2vec.py:1281 | _log_epoch_progress | worker thread finished; awaiting finish of 2 more threads\n",
      "2021-08-15 14:07:39,629 | INFO | word2vec.py:1281 | _log_epoch_progress | worker thread finished; awaiting finish of 1 more threads\n",
      "2021-08-15 14:07:39,631 | INFO | word2vec.py:1281 | _log_epoch_progress | worker thread finished; awaiting finish of 0 more threads\n",
      "2021-08-15 14:07:39,631 | INFO | word2vec.py:1624 | _log_epoch_end | EPOCH - 1 : training on 144381 raw words (117549 effective words) took 0.2s, 669662 effective words/s\n",
      "2021-08-15 14:07:39,632 | INFO | utils.py:448 | add_lifecycle_event | Doc2Vec lifecycle event {'msg': 'training on 144381 raw words (117549 effective words) took 0.2s, 645292 effective words/s', 'datetime': '2021-08-15T14:07:39.632621', 'gensim': '4.0.1', 'python': '3.7.4 (default, Aug 13 2019, 15:17:50) \\n[Clang 4.0.1 (tags/RELEASE_401/final)]', 'platform': 'Darwin-19.6.0-x86_64-i386-64bit', 'event': 'train'}\n"
     ]
    },
    {
     "name": "stderr",
     "output_type": "stream",
     "text": [
      "100%|██████████| 6822/6822 [00:00<00:00, 2635007.08it/s]\n",
      "2021-08-15 14:07:39,639 | INFO | utils.py:448 | add_lifecycle_event | Doc2Vec lifecycle event {'msg': 'training model with 4 workers on 7224 vocabulary and 100 features, using sg=1 hs=0 sample=0.001 negative=5 window=5', 'datetime': '2021-08-15T14:07:39.639774', 'gensim': '4.0.1', 'python': '3.7.4 (default, Aug 13 2019, 15:17:50) \\n[Clang 4.0.1 (tags/RELEASE_401/final)]', 'platform': 'Darwin-19.6.0-x86_64-i386-64bit', 'event': 'train'}\n",
      "2021-08-15 14:07:39,792 | INFO | word2vec.py:1281 | _log_epoch_progress | worker thread finished; awaiting finish of 3 more threads\n",
      "2021-08-15 14:07:39,810 | INFO | word2vec.py:1281 | _log_epoch_progress | worker thread finished; awaiting finish of 2 more threads\n",
      "2021-08-15 14:07:39,823 | INFO | word2vec.py:1281 | _log_epoch_progress | worker thread finished; awaiting finish of 1 more threads\n",
      "2021-08-15 14:07:39,825 | INFO | word2vec.py:1281 | _log_epoch_progress | worker thread finished; awaiting finish of 0 more threads\n",
      "2021-08-15 14:07:39,826 | INFO | word2vec.py:1624 | _log_epoch_end | EPOCH - 1 : training on 144381 raw words (117510 effective words) took 0.2s, 655152 effective words/s\n",
      "2021-08-15 14:07:39,827 | INFO | utils.py:448 | add_lifecycle_event | Doc2Vec lifecycle event {'msg': 'training on 144381 raw words (117510 effective words) took 0.2s, 629438 effective words/s', 'datetime': '2021-08-15T14:07:39.827059', 'gensim': '4.0.1', 'python': '3.7.4 (default, Aug 13 2019, 15:17:50) \\n[Clang 4.0.1 (tags/RELEASE_401/final)]', 'platform': 'Darwin-19.6.0-x86_64-i386-64bit', 'event': 'train'}\n",
      "100%|██████████| 6822/6822 [00:00<00:00, 3616931.09it/s]\n",
      "2021-08-15 14:07:39,832 | INFO | utils.py:448 | add_lifecycle_event | Doc2Vec lifecycle event {'msg': 'training model with 4 workers on 7224 vocabulary and 100 features, using sg=1 hs=0 sample=0.001 negative=5 window=5', 'datetime': '2021-08-15T14:07:39.832502', 'gensim': '4.0.1', 'python': '3.7.4 (default, Aug 13 2019, 15:17:50) \\n[Clang 4.0.1 (tags/RELEASE_401/final)]', 'platform': 'Darwin-19.6.0-x86_64-i386-64bit', 'event': 'train'}\n",
      "2021-08-15 14:07:39,985 | INFO | word2vec.py:1281 | _log_epoch_progress | worker thread finished; awaiting finish of 3 more threads\n",
      "2021-08-15 14:07:40,003 | INFO | word2vec.py:1281 | _log_epoch_progress | worker thread finished; awaiting finish of 2 more threads\n",
      "2021-08-15 14:07:40,013 | INFO | word2vec.py:1281 | _log_epoch_progress | worker thread finished; awaiting finish of 1 more threads\n",
      "2021-08-15 14:07:40,016 | INFO | word2vec.py:1281 | _log_epoch_progress | worker thread finished; awaiting finish of 0 more threads\n",
      "2021-08-15 14:07:40,016 | INFO | word2vec.py:1624 | _log_epoch_end | EPOCH - 1 : training on 144381 raw words (117533 effective words) took 0.2s, 667045 effective words/s\n",
      "2021-08-15 14:07:40,017 | INFO | utils.py:448 | add_lifecycle_event | Doc2Vec lifecycle event {'msg': 'training on 144381 raw words (117533 effective words) took 0.2s, 639126 effective words/s', 'datetime': '2021-08-15T14:07:40.017300', 'gensim': '4.0.1', 'python': '3.7.4 (default, Aug 13 2019, 15:17:50) \\n[Clang 4.0.1 (tags/RELEASE_401/final)]', 'platform': 'Darwin-19.6.0-x86_64-i386-64bit', 'event': 'train'}\n",
      "100%|██████████| 6822/6822 [00:00<00:00, 3407185.27it/s]\n",
      "2021-08-15 14:07:40,023 | INFO | utils.py:448 | add_lifecycle_event | Doc2Vec lifecycle event {'msg': 'training model with 4 workers on 7224 vocabulary and 100 features, using sg=1 hs=0 sample=0.001 negative=5 window=5', 'datetime': '2021-08-15T14:07:40.023119', 'gensim': '4.0.1', 'python': '3.7.4 (default, Aug 13 2019, 15:17:50) \\n[Clang 4.0.1 (tags/RELEASE_401/final)]', 'platform': 'Darwin-19.6.0-x86_64-i386-64bit', 'event': 'train'}\n",
      "2021-08-15 14:07:40,176 | INFO | word2vec.py:1281 | _log_epoch_progress | worker thread finished; awaiting finish of 3 more threads\n",
      "2021-08-15 14:07:40,192 | INFO | word2vec.py:1281 | _log_epoch_progress | worker thread finished; awaiting finish of 2 more threads\n",
      "2021-08-15 14:07:40,205 | INFO | word2vec.py:1281 | _log_epoch_progress | worker thread finished; awaiting finish of 1 more threads\n",
      "2021-08-15 14:07:40,206 | INFO | word2vec.py:1281 | _log_epoch_progress | worker thread finished; awaiting finish of 0 more threads\n",
      "2021-08-15 14:07:40,206 | INFO | word2vec.py:1624 | _log_epoch_end | EPOCH - 1 : training on 144381 raw words (117642 effective words) took 0.2s, 663216 effective words/s\n",
      "2021-08-15 14:07:40,207 | INFO | utils.py:448 | add_lifecycle_event | Doc2Vec lifecycle event {'msg': 'training on 144381 raw words (117642 effective words) took 0.2s, 640743 effective words/s', 'datetime': '2021-08-15T14:07:40.207466', 'gensim': '4.0.1', 'python': '3.7.4 (default, Aug 13 2019, 15:17:50) \\n[Clang 4.0.1 (tags/RELEASE_401/final)]', 'platform': 'Darwin-19.6.0-x86_64-i386-64bit', 'event': 'train'}\n",
      "100%|██████████| 6822/6822 [00:00<00:00, 3707377.80it/s]\n",
      "2021-08-15 14:07:40,213 | INFO | utils.py:448 | add_lifecycle_event | Doc2Vec lifecycle event {'msg': 'training model with 4 workers on 7224 vocabulary and 100 features, using sg=1 hs=0 sample=0.001 negative=5 window=5', 'datetime': '2021-08-15T14:07:40.213761', 'gensim': '4.0.1', 'python': '3.7.4 (default, Aug 13 2019, 15:17:50) \\n[Clang 4.0.1 (tags/RELEASE_401/final)]', 'platform': 'Darwin-19.6.0-x86_64-i386-64bit', 'event': 'train'}\n",
      "2021-08-15 14:07:40,364 | INFO | word2vec.py:1281 | _log_epoch_progress | worker thread finished; awaiting finish of 3 more threads\n",
      "2021-08-15 14:07:40,382 | INFO | word2vec.py:1281 | _log_epoch_progress | worker thread finished; awaiting finish of 2 more threads\n",
      "2021-08-15 14:07:40,395 | INFO | word2vec.py:1281 | _log_epoch_progress | worker thread finished; awaiting finish of 1 more threads\n",
      "2021-08-15 14:07:40,396 | INFO | word2vec.py:1281 | _log_epoch_progress | worker thread finished; awaiting finish of 0 more threads\n",
      "2021-08-15 14:07:40,397 | INFO | word2vec.py:1624 | _log_epoch_end | EPOCH - 1 : training on 144381 raw words (117760 effective words) took 0.2s, 670902 effective words/s\n",
      "2021-08-15 14:07:40,398 | INFO | utils.py:448 | add_lifecycle_event | Doc2Vec lifecycle event {'msg': 'training on 144381 raw words (117760 effective words) took 0.2s, 639012 effective words/s', 'datetime': '2021-08-15T14:07:40.398687', 'gensim': '4.0.1', 'python': '3.7.4 (default, Aug 13 2019, 15:17:50) \\n[Clang 4.0.1 (tags/RELEASE_401/final)]', 'platform': 'Darwin-19.6.0-x86_64-i386-64bit', 'event': 'train'}\n"
     ]
    },
    {
     "name": "stdout",
     "output_type": "stream",
     "text": [
      "CPU times: user 8.55 s, sys: 895 ms, total: 9.45 s\n",
      "Wall time: 6.01 s\n"
     ]
    }
   ],
   "source": [
    "%%time\n",
    "for epoch in range(30):\n",
    "    model_bg_dbow.train(utils.shuffle([x for x in tqdm(all_x_w2v_bg)]), total_examples=len(all_x_w2v_bg), epochs=1)\n",
    "    model_bg_dbow.alpha -= 0.002\n",
    "    model_bg_dbow.min_alpha = model_bg_dbow.alpha"
   ]
  },
  {
   "cell_type": "code",
   "execution_count": 195,
   "metadata": {},
   "outputs": [],
   "source": [
    "train_vecs_dbow_bg = get_vectors(model_bg_dbow, x_train1, 100)\n",
    "validation_vecs_dbow_bg = get_vectors(model_bg_dbow, x_val1, 100)"
   ]
  },
  {
   "cell_type": "code",
   "execution_count": 196,
   "metadata": {},
   "outputs": [
    {
     "name": "stdout",
     "output_type": "stream",
     "text": [
      "CPU times: user 46 ms, sys: 22 ms, total: 68 ms\n",
      "Wall time: 27.6 ms\n"
     ]
    },
    {
     "data": {
      "text/plain": [
       "LogisticRegression()"
      ]
     },
     "execution_count": 196,
     "metadata": {},
     "output_type": "execute_result"
    }
   ],
   "source": [
    "%%time\n",
    "clf = LogisticRegression()\n",
    "clf.fit(train_vecs_dbow_bg, y_train)"
   ]
  },
  {
   "cell_type": "code",
   "execution_count": 197,
   "metadata": {},
   "outputs": [
    {
     "data": {
      "text/plain": [
       "0.552168815943728"
      ]
     },
     "execution_count": 197,
     "metadata": {},
     "output_type": "execute_result"
    }
   ],
   "source": [
    "clf.score(validation_vecs_dbow_bg, y_validation)"
   ]
  },
  {
   "cell_type": "code",
   "execution_count": 198,
   "metadata": {},
   "outputs": [
    {
     "name": "stderr",
     "output_type": "stream",
     "text": [
      "2021-08-15 14:07:40,468 | INFO | doc2vec.py:279 | __init__ | using concatenative 500-dimensional layer1\n",
      "2021-08-15 14:07:40,469 | INFO | utils.py:448 | add_lifecycle_event | Doc2Vec lifecycle event {'params': 'Doc2Vec(dm/c,d100,n5,w2,mc2,s0.001,t4)', 'datetime': '2021-08-15T14:07:40.469865', 'gensim': '4.0.1', 'python': '3.7.4 (default, Aug 13 2019, 15:17:50) \\n[Clang 4.0.1 (tags/RELEASE_401/final)]', 'platform': 'Darwin-19.6.0-x86_64-i386-64bit', 'event': 'created'}\n",
      "100%|██████████| 6822/6822 [00:00<00:00, 3423081.93it/s]\n",
      "2021-08-15 14:07:40,478 | INFO | doc2vec.py:1032 | scan_vocab | collecting all words and their counts\n",
      "2021-08-15 14:07:40,478 | INFO | doc2vec.py:951 | _scan_vocab | PROGRESS: at example #0, processed 0 words (0/s), 0 word types, 0 tags\n",
      "2021-08-15 14:07:40,553 | INFO | doc2vec.py:1040 | scan_vocab | collected 13902 word types and 5116 unique tags from a corpus of 6822 examples and 144381 words\n",
      "2021-08-15 14:07:40,553 | INFO | word2vec.py:626 | prepare_vocab | Creating a fresh vocabulary\n",
      "2021-08-15 14:07:40,585 | INFO | utils.py:448 | add_lifecycle_event | Doc2Vec lifecycle event {'msg': 'effective_min_count=2 retains 7224 unique words (51.963746223564954%% of original 13902, drops 6678)', 'datetime': '2021-08-15T14:07:40.585449', 'gensim': '4.0.1', 'python': '3.7.4 (default, Aug 13 2019, 15:17:50) \\n[Clang 4.0.1 (tags/RELEASE_401/final)]', 'platform': 'Darwin-19.6.0-x86_64-i386-64bit', 'event': 'prepare_vocab'}\n",
      "2021-08-15 14:07:40,586 | INFO | utils.py:448 | add_lifecycle_event | Doc2Vec lifecycle event {'msg': 'effective_min_count=2 leaves 137703 word corpus (95.37473767323955%% of original 144381, drops 6678)', 'datetime': '2021-08-15T14:07:40.586260', 'gensim': '4.0.1', 'python': '3.7.4 (default, Aug 13 2019, 15:17:50) \\n[Clang 4.0.1 (tags/RELEASE_401/final)]', 'platform': 'Darwin-19.6.0-x86_64-i386-64bit', 'event': 'prepare_vocab'}\n",
      "2021-08-15 14:07:40,631 | INFO | word2vec.py:734 | prepare_vocab | deleting the raw counts dictionary of 13902 items\n",
      "2021-08-15 14:07:40,632 | INFO | word2vec.py:737 | prepare_vocab | sample=0.001 downsamples 45 most-common words\n",
      "2021-08-15 14:07:40,634 | INFO | utils.py:448 | add_lifecycle_event | Doc2Vec lifecycle event {'msg': 'downsampling leaves estimated 110749.37196720994 word corpus (80.4%% of prior 137703)', 'datetime': '2021-08-15T14:07:40.634574', 'gensim': '4.0.1', 'python': '3.7.4 (default, Aug 13 2019, 15:17:50) \\n[Clang 4.0.1 (tags/RELEASE_401/final)]', 'platform': 'Darwin-19.6.0-x86_64-i386-64bit', 'event': 'prepare_vocab'}\n",
      "2021-08-15 14:07:40,714 | INFO | word2vec.py:796 | estimate_memory | estimated required memory for 7224 words and 100 dimensions: 24019200 bytes\n",
      "2021-08-15 14:07:40,715 | INFO | word2vec.py:852 | init_weights | resetting layer weights\n"
     ]
    }
   ],
   "source": [
    "cores = multiprocessing.cpu_count()\n",
    "model_bg_dmc = Doc2Vec(dm=1, dm_concat=1, vector_size=100, window=2, negative=5, min_count=2, workers=cores, alpha=0.065, min_alpha=0.065)\n",
    "model_bg_dmc.build_vocab([x for x in tqdm(all_x_w2v_bg)])"
   ]
  },
  {
   "cell_type": "code",
   "execution_count": 199,
   "metadata": {},
   "outputs": [
    {
     "name": "stderr",
     "output_type": "stream",
     "text": [
      "100%|██████████| 6822/6822 [00:00<00:00, 3599640.44it/s]\n",
      "2021-08-15 14:07:43,354 | INFO | utils.py:448 | add_lifecycle_event | Doc2Vec lifecycle event {'msg': 'training model with 4 workers on 7225 vocabulary and 500 features, using sg=0 hs=0 sample=0.001 negative=5 window=2', 'datetime': '2021-08-15T14:07:43.354201', 'gensim': '4.0.1', 'python': '3.7.4 (default, Aug 13 2019, 15:17:50) \\n[Clang 4.0.1 (tags/RELEASE_401/final)]', 'platform': 'Darwin-19.6.0-x86_64-i386-64bit', 'event': 'train'}\n",
      "2021-08-15 14:07:43,547 | INFO | word2vec.py:1281 | _log_epoch_progress | worker thread finished; awaiting finish of 3 more threads\n",
      "2021-08-15 14:07:43,564 | INFO | word2vec.py:1281 | _log_epoch_progress | worker thread finished; awaiting finish of 2 more threads\n",
      "2021-08-15 14:07:43,579 | INFO | word2vec.py:1281 | _log_epoch_progress | worker thread finished; awaiting finish of 1 more threads\n",
      "2021-08-15 14:07:43,582 | INFO | word2vec.py:1281 | _log_epoch_progress | worker thread finished; awaiting finish of 0 more threads\n",
      "2021-08-15 14:07:43,583 | INFO | word2vec.py:1624 | _log_epoch_end | EPOCH - 1 : training on 144381 raw words (117480 effective words) took 0.2s, 527642 effective words/s\n",
      "2021-08-15 14:07:43,583 | INFO | utils.py:448 | add_lifecycle_event | Doc2Vec lifecycle event {'msg': 'training on 144381 raw words (117480 effective words) took 0.2s, 513727 effective words/s', 'datetime': '2021-08-15T14:07:43.583551', 'gensim': '4.0.1', 'python': '3.7.4 (default, Aug 13 2019, 15:17:50) \\n[Clang 4.0.1 (tags/RELEASE_401/final)]', 'platform': 'Darwin-19.6.0-x86_64-i386-64bit', 'event': 'train'}\n",
      "100%|██████████| 6822/6822 [00:00<00:00, 3711706.04it/s]\n",
      "2021-08-15 14:07:43,588 | INFO | utils.py:448 | add_lifecycle_event | Doc2Vec lifecycle event {'msg': 'training model with 4 workers on 7225 vocabulary and 500 features, using sg=0 hs=0 sample=0.001 negative=5 window=2', 'datetime': '2021-08-15T14:07:43.588887', 'gensim': '4.0.1', 'python': '3.7.4 (default, Aug 13 2019, 15:17:50) \\n[Clang 4.0.1 (tags/RELEASE_401/final)]', 'platform': 'Darwin-19.6.0-x86_64-i386-64bit', 'event': 'train'}\n",
      "2021-08-15 14:07:43,769 | INFO | word2vec.py:1281 | _log_epoch_progress | worker thread finished; awaiting finish of 3 more threads\n",
      "2021-08-15 14:07:43,786 | INFO | word2vec.py:1281 | _log_epoch_progress | worker thread finished; awaiting finish of 2 more threads\n",
      "2021-08-15 14:07:43,807 | INFO | word2vec.py:1281 | _log_epoch_progress | worker thread finished; awaiting finish of 1 more threads\n",
      "2021-08-15 14:07:43,809 | INFO | word2vec.py:1281 | _log_epoch_progress | worker thread finished; awaiting finish of 0 more threads\n",
      "2021-08-15 14:07:43,810 | INFO | word2vec.py:1624 | _log_epoch_end | EPOCH - 1 : training on 144381 raw words (117794 effective words) took 0.2s, 550419 effective words/s\n",
      "2021-08-15 14:07:43,810 | INFO | utils.py:448 | add_lifecycle_event | Doc2Vec lifecycle event {'msg': 'training on 144381 raw words (117794 effective words) took 0.2s, 533305 effective words/s', 'datetime': '2021-08-15T14:07:43.810510', 'gensim': '4.0.1', 'python': '3.7.4 (default, Aug 13 2019, 15:17:50) \\n[Clang 4.0.1 (tags/RELEASE_401/final)]', 'platform': 'Darwin-19.6.0-x86_64-i386-64bit', 'event': 'train'}\n",
      "100%|██████████| 6822/6822 [00:00<00:00, 3652015.56it/s]\n",
      "2021-08-15 14:07:43,816 | INFO | utils.py:448 | add_lifecycle_event | Doc2Vec lifecycle event {'msg': 'training model with 4 workers on 7225 vocabulary and 500 features, using sg=0 hs=0 sample=0.001 negative=5 window=2', 'datetime': '2021-08-15T14:07:43.816105', 'gensim': '4.0.1', 'python': '3.7.4 (default, Aug 13 2019, 15:17:50) \\n[Clang 4.0.1 (tags/RELEASE_401/final)]', 'platform': 'Darwin-19.6.0-x86_64-i386-64bit', 'event': 'train'}\n",
      "2021-08-15 14:07:43,993 | INFO | word2vec.py:1281 | _log_epoch_progress | worker thread finished; awaiting finish of 3 more threads\n",
      "2021-08-15 14:07:44,017 | INFO | word2vec.py:1281 | _log_epoch_progress | worker thread finished; awaiting finish of 2 more threads\n",
      "2021-08-15 14:07:44,050 | INFO | word2vec.py:1281 | _log_epoch_progress | worker thread finished; awaiting finish of 1 more threads\n",
      "2021-08-15 14:07:44,053 | INFO | word2vec.py:1281 | _log_epoch_progress | worker thread finished; awaiting finish of 0 more threads\n",
      "2021-08-15 14:07:44,054 | INFO | word2vec.py:1624 | _log_epoch_end | EPOCH - 1 : training on 144381 raw words (117586 effective words) took 0.2s, 511207 effective words/s\n",
      "2021-08-15 14:07:44,055 | INFO | utils.py:448 | add_lifecycle_event | Doc2Vec lifecycle event {'msg': 'training on 144381 raw words (117586 effective words) took 0.2s, 494127 effective words/s', 'datetime': '2021-08-15T14:07:44.055113', 'gensim': '4.0.1', 'python': '3.7.4 (default, Aug 13 2019, 15:17:50) \\n[Clang 4.0.1 (tags/RELEASE_401/final)]', 'platform': 'Darwin-19.6.0-x86_64-i386-64bit', 'event': 'train'}\n",
      "100%|██████████| 6822/6822 [00:00<00:00, 3721360.63it/s]\n",
      "2021-08-15 14:07:44,061 | INFO | utils.py:448 | add_lifecycle_event | Doc2Vec lifecycle event {'msg': 'training model with 4 workers on 7225 vocabulary and 500 features, using sg=0 hs=0 sample=0.001 negative=5 window=2', 'datetime': '2021-08-15T14:07:44.061431', 'gensim': '4.0.1', 'python': '3.7.4 (default, Aug 13 2019, 15:17:50) \\n[Clang 4.0.1 (tags/RELEASE_401/final)]', 'platform': 'Darwin-19.6.0-x86_64-i386-64bit', 'event': 'train'}\n",
      "2021-08-15 14:07:44,270 | INFO | word2vec.py:1281 | _log_epoch_progress | worker thread finished; awaiting finish of 3 more threads\n",
      "2021-08-15 14:07:44,291 | INFO | word2vec.py:1281 | _log_epoch_progress | worker thread finished; awaiting finish of 2 more threads\n",
      "2021-08-15 14:07:44,309 | INFO | word2vec.py:1281 | _log_epoch_progress | worker thread finished; awaiting finish of 1 more threads\n",
      "2021-08-15 14:07:44,311 | INFO | word2vec.py:1281 | _log_epoch_progress | worker thread finished; awaiting finish of 0 more threads\n",
      "2021-08-15 14:07:44,312 | INFO | word2vec.py:1624 | _log_epoch_end | EPOCH - 1 : training on 144381 raw words (117571 effective words) took 0.2s, 500775 effective words/s\n",
      "2021-08-15 14:07:44,312 | INFO | utils.py:448 | add_lifecycle_event | Doc2Vec lifecycle event {'msg': 'training on 144381 raw words (117571 effective words) took 0.3s, 469313 effective words/s', 'datetime': '2021-08-15T14:07:44.312609', 'gensim': '4.0.1', 'python': '3.7.4 (default, Aug 13 2019, 15:17:50) \\n[Clang 4.0.1 (tags/RELEASE_401/final)]', 'platform': 'Darwin-19.6.0-x86_64-i386-64bit', 'event': 'train'}\n",
      "100%|██████████| 6822/6822 [00:00<00:00, 2682435.73it/s]\n",
      "2021-08-15 14:07:44,319 | INFO | utils.py:448 | add_lifecycle_event | Doc2Vec lifecycle event {'msg': 'training model with 4 workers on 7225 vocabulary and 500 features, using sg=0 hs=0 sample=0.001 negative=5 window=2', 'datetime': '2021-08-15T14:07:44.319342', 'gensim': '4.0.1', 'python': '3.7.4 (default, Aug 13 2019, 15:17:50) \\n[Clang 4.0.1 (tags/RELEASE_401/final)]', 'platform': 'Darwin-19.6.0-x86_64-i386-64bit', 'event': 'train'}\n",
      "2021-08-15 14:07:44,519 | INFO | word2vec.py:1281 | _log_epoch_progress | worker thread finished; awaiting finish of 3 more threads\n",
      "2021-08-15 14:07:44,537 | INFO | word2vec.py:1281 | _log_epoch_progress | worker thread finished; awaiting finish of 2 more threads\n",
      "2021-08-15 14:07:44,552 | INFO | word2vec.py:1281 | _log_epoch_progress | worker thread finished; awaiting finish of 1 more threads\n",
      "2021-08-15 14:07:44,554 | INFO | word2vec.py:1281 | _log_epoch_progress | worker thread finished; awaiting finish of 0 more threads\n",
      "2021-08-15 14:07:44,555 | INFO | word2vec.py:1624 | _log_epoch_end | EPOCH - 1 : training on 144381 raw words (117648 effective words) took 0.2s, 534700 effective words/s\n",
      "2021-08-15 14:07:44,556 | INFO | utils.py:448 | add_lifecycle_event | Doc2Vec lifecycle event {'msg': 'training on 144381 raw words (117648 effective words) took 0.2s, 498909 effective words/s', 'datetime': '2021-08-15T14:07:44.556015', 'gensim': '4.0.1', 'python': '3.7.4 (default, Aug 13 2019, 15:17:50) \\n[Clang 4.0.1 (tags/RELEASE_401/final)]', 'platform': 'Darwin-19.6.0-x86_64-i386-64bit', 'event': 'train'}\n",
      "100%|██████████| 6822/6822 [00:00<00:00, 3648290.44it/s]\n",
      "2021-08-15 14:07:44,561 | INFO | utils.py:448 | add_lifecycle_event | Doc2Vec lifecycle event {'msg': 'training model with 4 workers on 7225 vocabulary and 500 features, using sg=0 hs=0 sample=0.001 negative=5 window=2', 'datetime': '2021-08-15T14:07:44.561721', 'gensim': '4.0.1', 'python': '3.7.4 (default, Aug 13 2019, 15:17:50) \\n[Clang 4.0.1 (tags/RELEASE_401/final)]', 'platform': 'Darwin-19.6.0-x86_64-i386-64bit', 'event': 'train'}\n"
     ]
    },
    {
     "name": "stderr",
     "output_type": "stream",
     "text": [
      "2021-08-15 14:07:44,764 | INFO | word2vec.py:1281 | _log_epoch_progress | worker thread finished; awaiting finish of 3 more threads\n",
      "2021-08-15 14:07:44,782 | INFO | word2vec.py:1281 | _log_epoch_progress | worker thread finished; awaiting finish of 2 more threads\n",
      "2021-08-15 14:07:44,798 | INFO | word2vec.py:1281 | _log_epoch_progress | worker thread finished; awaiting finish of 1 more threads\n",
      "2021-08-15 14:07:44,800 | INFO | word2vec.py:1281 | _log_epoch_progress | worker thread finished; awaiting finish of 0 more threads\n",
      "2021-08-15 14:07:44,801 | INFO | word2vec.py:1624 | _log_epoch_end | EPOCH - 1 : training on 144381 raw words (117612 effective words) took 0.2s, 502519 effective words/s\n",
      "2021-08-15 14:07:44,802 | INFO | utils.py:448 | add_lifecycle_event | Doc2Vec lifecycle event {'msg': 'training on 144381 raw words (117612 effective words) took 0.2s, 490802 effective words/s', 'datetime': '2021-08-15T14:07:44.802001', 'gensim': '4.0.1', 'python': '3.7.4 (default, Aug 13 2019, 15:17:50) \\n[Clang 4.0.1 (tags/RELEASE_401/final)]', 'platform': 'Darwin-19.6.0-x86_64-i386-64bit', 'event': 'train'}\n",
      "100%|██████████| 6822/6822 [00:00<00:00, 3477159.06it/s]\n",
      "2021-08-15 14:07:44,807 | INFO | utils.py:448 | add_lifecycle_event | Doc2Vec lifecycle event {'msg': 'training model with 4 workers on 7225 vocabulary and 500 features, using sg=0 hs=0 sample=0.001 negative=5 window=2', 'datetime': '2021-08-15T14:07:44.807356', 'gensim': '4.0.1', 'python': '3.7.4 (default, Aug 13 2019, 15:17:50) \\n[Clang 4.0.1 (tags/RELEASE_401/final)]', 'platform': 'Darwin-19.6.0-x86_64-i386-64bit', 'event': 'train'}\n",
      "2021-08-15 14:07:45,014 | INFO | word2vec.py:1281 | _log_epoch_progress | worker thread finished; awaiting finish of 3 more threads\n",
      "2021-08-15 14:07:45,043 | INFO | word2vec.py:1281 | _log_epoch_progress | worker thread finished; awaiting finish of 2 more threads\n",
      "2021-08-15 14:07:45,062 | INFO | word2vec.py:1281 | _log_epoch_progress | worker thread finished; awaiting finish of 1 more threads\n",
      "2021-08-15 14:07:45,063 | INFO | word2vec.py:1281 | _log_epoch_progress | worker thread finished; awaiting finish of 0 more threads\n",
      "2021-08-15 14:07:45,064 | INFO | word2vec.py:1624 | _log_epoch_end | EPOCH - 1 : training on 144381 raw words (117585 effective words) took 0.3s, 467419 effective words/s\n",
      "2021-08-15 14:07:45,065 | INFO | utils.py:448 | add_lifecycle_event | Doc2Vec lifecycle event {'msg': 'training on 144381 raw words (117585 effective words) took 0.3s, 456102 effective words/s', 'datetime': '2021-08-15T14:07:45.065861', 'gensim': '4.0.1', 'python': '3.7.4 (default, Aug 13 2019, 15:17:50) \\n[Clang 4.0.1 (tags/RELEASE_401/final)]', 'platform': 'Darwin-19.6.0-x86_64-i386-64bit', 'event': 'train'}\n",
      "100%|██████████| 6822/6822 [00:00<00:00, 3574012.23it/s]\n",
      "2021-08-15 14:07:45,071 | INFO | utils.py:448 | add_lifecycle_event | Doc2Vec lifecycle event {'msg': 'training model with 4 workers on 7225 vocabulary and 500 features, using sg=0 hs=0 sample=0.001 negative=5 window=2', 'datetime': '2021-08-15T14:07:45.071623', 'gensim': '4.0.1', 'python': '3.7.4 (default, Aug 13 2019, 15:17:50) \\n[Clang 4.0.1 (tags/RELEASE_401/final)]', 'platform': 'Darwin-19.6.0-x86_64-i386-64bit', 'event': 'train'}\n",
      "2021-08-15 14:07:45,255 | INFO | word2vec.py:1281 | _log_epoch_progress | worker thread finished; awaiting finish of 3 more threads\n",
      "2021-08-15 14:07:45,274 | INFO | word2vec.py:1281 | _log_epoch_progress | worker thread finished; awaiting finish of 2 more threads\n",
      "2021-08-15 14:07:45,300 | INFO | word2vec.py:1281 | _log_epoch_progress | worker thread finished; awaiting finish of 1 more threads\n",
      "2021-08-15 14:07:45,302 | INFO | word2vec.py:1281 | _log_epoch_progress | worker thread finished; awaiting finish of 0 more threads\n",
      "2021-08-15 14:07:45,303 | INFO | word2vec.py:1624 | _log_epoch_end | EPOCH - 1 : training on 144381 raw words (117619 effective words) took 0.2s, 521502 effective words/s\n",
      "2021-08-15 14:07:45,304 | INFO | utils.py:448 | add_lifecycle_event | Doc2Vec lifecycle event {'msg': 'training on 144381 raw words (117619 effective words) took 0.2s, 507758 effective words/s', 'datetime': '2021-08-15T14:07:45.303995', 'gensim': '4.0.1', 'python': '3.7.4 (default, Aug 13 2019, 15:17:50) \\n[Clang 4.0.1 (tags/RELEASE_401/final)]', 'platform': 'Darwin-19.6.0-x86_64-i386-64bit', 'event': 'train'}\n",
      "100%|██████████| 6822/6822 [00:00<00:00, 3717975.82it/s]\n",
      "2021-08-15 14:07:45,309 | INFO | utils.py:448 | add_lifecycle_event | Doc2Vec lifecycle event {'msg': 'training model with 4 workers on 7225 vocabulary and 500 features, using sg=0 hs=0 sample=0.001 negative=5 window=2', 'datetime': '2021-08-15T14:07:45.309594', 'gensim': '4.0.1', 'python': '3.7.4 (default, Aug 13 2019, 15:17:50) \\n[Clang 4.0.1 (tags/RELEASE_401/final)]', 'platform': 'Darwin-19.6.0-x86_64-i386-64bit', 'event': 'train'}\n",
      "2021-08-15 14:07:45,479 | INFO | word2vec.py:1281 | _log_epoch_progress | worker thread finished; awaiting finish of 3 more threads\n",
      "2021-08-15 14:07:45,500 | INFO | word2vec.py:1281 | _log_epoch_progress | worker thread finished; awaiting finish of 2 more threads\n",
      "2021-08-15 14:07:45,514 | INFO | word2vec.py:1281 | _log_epoch_progress | worker thread finished; awaiting finish of 1 more threads\n",
      "2021-08-15 14:07:45,522 | INFO | word2vec.py:1281 | _log_epoch_progress | worker thread finished; awaiting finish of 0 more threads\n",
      "2021-08-15 14:07:45,522 | INFO | word2vec.py:1624 | _log_epoch_end | EPOCH - 1 : training on 144381 raw words (117682 effective words) took 0.2s, 577274 effective words/s\n",
      "2021-08-15 14:07:45,523 | INFO | utils.py:448 | add_lifecycle_event | Doc2Vec lifecycle event {'msg': 'training on 144381 raw words (117682 effective words) took 0.2s, 552493 effective words/s', 'datetime': '2021-08-15T14:07:45.523235', 'gensim': '4.0.1', 'python': '3.7.4 (default, Aug 13 2019, 15:17:50) \\n[Clang 4.0.1 (tags/RELEASE_401/final)]', 'platform': 'Darwin-19.6.0-x86_64-i386-64bit', 'event': 'train'}\n",
      "100%|██████████| 6822/6822 [00:00<00:00, 3671697.92it/s]\n",
      "2021-08-15 14:07:45,528 | INFO | utils.py:448 | add_lifecycle_event | Doc2Vec lifecycle event {'msg': 'training model with 4 workers on 7225 vocabulary and 500 features, using sg=0 hs=0 sample=0.001 negative=5 window=2', 'datetime': '2021-08-15T14:07:45.528394', 'gensim': '4.0.1', 'python': '3.7.4 (default, Aug 13 2019, 15:17:50) \\n[Clang 4.0.1 (tags/RELEASE_401/final)]', 'platform': 'Darwin-19.6.0-x86_64-i386-64bit', 'event': 'train'}\n",
      "2021-08-15 14:07:45,707 | INFO | word2vec.py:1281 | _log_epoch_progress | worker thread finished; awaiting finish of 3 more threads\n",
      "2021-08-15 14:07:45,731 | INFO | word2vec.py:1281 | _log_epoch_progress | worker thread finished; awaiting finish of 2 more threads\n",
      "2021-08-15 14:07:45,746 | INFO | word2vec.py:1281 | _log_epoch_progress | worker thread finished; awaiting finish of 1 more threads\n",
      "2021-08-15 14:07:45,749 | INFO | word2vec.py:1281 | _log_epoch_progress | worker thread finished; awaiting finish of 0 more threads\n",
      "2021-08-15 14:07:45,750 | INFO | word2vec.py:1624 | _log_epoch_end | EPOCH - 1 : training on 144381 raw words (117589 effective words) took 0.2s, 556221 effective words/s\n",
      "2021-08-15 14:07:45,752 | INFO | utils.py:448 | add_lifecycle_event | Doc2Vec lifecycle event {'msg': 'training on 144381 raw words (117589 effective words) took 0.2s, 527168 effective words/s', 'datetime': '2021-08-15T14:07:45.752141', 'gensim': '4.0.1', 'python': '3.7.4 (default, Aug 13 2019, 15:17:50) \\n[Clang 4.0.1 (tags/RELEASE_401/final)]', 'platform': 'Darwin-19.6.0-x86_64-i386-64bit', 'event': 'train'}\n",
      "100%|██████████| 6822/6822 [00:00<00:00, 2849386.76it/s]\n",
      "2021-08-15 14:07:45,761 | INFO | utils.py:448 | add_lifecycle_event | Doc2Vec lifecycle event {'msg': 'training model with 4 workers on 7225 vocabulary and 500 features, using sg=0 hs=0 sample=0.001 negative=5 window=2', 'datetime': '2021-08-15T14:07:45.761292', 'gensim': '4.0.1', 'python': '3.7.4 (default, Aug 13 2019, 15:17:50) \\n[Clang 4.0.1 (tags/RELEASE_401/final)]', 'platform': 'Darwin-19.6.0-x86_64-i386-64bit', 'event': 'train'}\n",
      "2021-08-15 14:07:45,949 | INFO | word2vec.py:1281 | _log_epoch_progress | worker thread finished; awaiting finish of 3 more threads\n",
      "2021-08-15 14:07:45,969 | INFO | word2vec.py:1281 | _log_epoch_progress | worker thread finished; awaiting finish of 2 more threads\n"
     ]
    },
    {
     "name": "stderr",
     "output_type": "stream",
     "text": [
      "2021-08-15 14:07:45,982 | INFO | word2vec.py:1281 | _log_epoch_progress | worker thread finished; awaiting finish of 1 more threads\n",
      "2021-08-15 14:07:45,987 | INFO | word2vec.py:1281 | _log_epoch_progress | worker thread finished; awaiting finish of 0 more threads\n",
      "2021-08-15 14:07:45,988 | INFO | word2vec.py:1624 | _log_epoch_end | EPOCH - 1 : training on 144381 raw words (117583 effective words) took 0.2s, 533475 effective words/s\n",
      "2021-08-15 14:07:45,989 | INFO | utils.py:448 | add_lifecycle_event | Doc2Vec lifecycle event {'msg': 'training on 144381 raw words (117583 effective words) took 0.2s, 517435 effective words/s', 'datetime': '2021-08-15T14:07:45.989244', 'gensim': '4.0.1', 'python': '3.7.4 (default, Aug 13 2019, 15:17:50) \\n[Clang 4.0.1 (tags/RELEASE_401/final)]', 'platform': 'Darwin-19.6.0-x86_64-i386-64bit', 'event': 'train'}\n",
      "100%|██████████| 6822/6822 [00:00<00:00, 3586555.76it/s]\n",
      "2021-08-15 14:07:45,994 | INFO | utils.py:448 | add_lifecycle_event | Doc2Vec lifecycle event {'msg': 'training model with 4 workers on 7225 vocabulary and 500 features, using sg=0 hs=0 sample=0.001 negative=5 window=2', 'datetime': '2021-08-15T14:07:45.994823', 'gensim': '4.0.1', 'python': '3.7.4 (default, Aug 13 2019, 15:17:50) \\n[Clang 4.0.1 (tags/RELEASE_401/final)]', 'platform': 'Darwin-19.6.0-x86_64-i386-64bit', 'event': 'train'}\n",
      "2021-08-15 14:07:46,189 | INFO | word2vec.py:1281 | _log_epoch_progress | worker thread finished; awaiting finish of 3 more threads\n",
      "2021-08-15 14:07:46,218 | INFO | word2vec.py:1281 | _log_epoch_progress | worker thread finished; awaiting finish of 2 more threads\n",
      "2021-08-15 14:07:46,248 | INFO | word2vec.py:1281 | _log_epoch_progress | worker thread finished; awaiting finish of 1 more threads\n",
      "2021-08-15 14:07:46,251 | INFO | word2vec.py:1281 | _log_epoch_progress | worker thread finished; awaiting finish of 0 more threads\n",
      "2021-08-15 14:07:46,251 | INFO | word2vec.py:1624 | _log_epoch_end | EPOCH - 1 : training on 144381 raw words (117479 effective words) took 0.3s, 467073 effective words/s\n",
      "2021-08-15 14:07:46,252 | INFO | utils.py:448 | add_lifecycle_event | Doc2Vec lifecycle event {'msg': 'training on 144381 raw words (117479 effective words) took 0.3s, 457567 effective words/s', 'datetime': '2021-08-15T14:07:46.252398', 'gensim': '4.0.1', 'python': '3.7.4 (default, Aug 13 2019, 15:17:50) \\n[Clang 4.0.1 (tags/RELEASE_401/final)]', 'platform': 'Darwin-19.6.0-x86_64-i386-64bit', 'event': 'train'}\n",
      "100%|██████████| 6822/6822 [00:00<00:00, 3558898.24it/s]\n",
      "2021-08-15 14:07:46,259 | INFO | utils.py:448 | add_lifecycle_event | Doc2Vec lifecycle event {'msg': 'training model with 4 workers on 7225 vocabulary and 500 features, using sg=0 hs=0 sample=0.001 negative=5 window=2', 'datetime': '2021-08-15T14:07:46.259236', 'gensim': '4.0.1', 'python': '3.7.4 (default, Aug 13 2019, 15:17:50) \\n[Clang 4.0.1 (tags/RELEASE_401/final)]', 'platform': 'Darwin-19.6.0-x86_64-i386-64bit', 'event': 'train'}\n",
      "2021-08-15 14:07:46,437 | INFO | word2vec.py:1281 | _log_epoch_progress | worker thread finished; awaiting finish of 3 more threads\n",
      "2021-08-15 14:07:46,460 | INFO | word2vec.py:1281 | _log_epoch_progress | worker thread finished; awaiting finish of 2 more threads\n",
      "2021-08-15 14:07:46,487 | INFO | word2vec.py:1281 | _log_epoch_progress | worker thread finished; awaiting finish of 1 more threads\n",
      "2021-08-15 14:07:46,489 | INFO | word2vec.py:1281 | _log_epoch_progress | worker thread finished; awaiting finish of 0 more threads\n",
      "2021-08-15 14:07:46,490 | INFO | word2vec.py:1624 | _log_epoch_end | EPOCH - 1 : training on 144381 raw words (117718 effective words) took 0.2s, 523593 effective words/s\n",
      "2021-08-15 14:07:46,490 | INFO | utils.py:448 | add_lifecycle_event | Doc2Vec lifecycle event {'msg': 'training on 144381 raw words (117718 effective words) took 0.2s, 510702 effective words/s', 'datetime': '2021-08-15T14:07:46.490617', 'gensim': '4.0.1', 'python': '3.7.4 (default, Aug 13 2019, 15:17:50) \\n[Clang 4.0.1 (tags/RELEASE_401/final)]', 'platform': 'Darwin-19.6.0-x86_64-i386-64bit', 'event': 'train'}\n",
      "100%|██████████| 6822/6822 [00:00<00:00, 3656215.42it/s]\n",
      "2021-08-15 14:07:46,495 | INFO | utils.py:448 | add_lifecycle_event | Doc2Vec lifecycle event {'msg': 'training model with 4 workers on 7225 vocabulary and 500 features, using sg=0 hs=0 sample=0.001 negative=5 window=2', 'datetime': '2021-08-15T14:07:46.495966', 'gensim': '4.0.1', 'python': '3.7.4 (default, Aug 13 2019, 15:17:50) \\n[Clang 4.0.1 (tags/RELEASE_401/final)]', 'platform': 'Darwin-19.6.0-x86_64-i386-64bit', 'event': 'train'}\n",
      "2021-08-15 14:07:46,656 | INFO | word2vec.py:1281 | _log_epoch_progress | worker thread finished; awaiting finish of 3 more threads\n",
      "2021-08-15 14:07:46,673 | INFO | word2vec.py:1281 | _log_epoch_progress | worker thread finished; awaiting finish of 2 more threads\n",
      "2021-08-15 14:07:46,689 | INFO | word2vec.py:1281 | _log_epoch_progress | worker thread finished; awaiting finish of 1 more threads\n",
      "2021-08-15 14:07:46,692 | INFO | word2vec.py:1281 | _log_epoch_progress | worker thread finished; awaiting finish of 0 more threads\n",
      "2021-08-15 14:07:46,692 | INFO | word2vec.py:1624 | _log_epoch_end | EPOCH - 1 : training on 144381 raw words (117426 effective words) took 0.2s, 618707 effective words/s\n",
      "2021-08-15 14:07:46,693 | INFO | utils.py:448 | add_lifecycle_event | Doc2Vec lifecycle event {'msg': 'training on 144381 raw words (117426 effective words) took 0.2s, 596998 effective words/s', 'datetime': '2021-08-15T14:07:46.693310', 'gensim': '4.0.1', 'python': '3.7.4 (default, Aug 13 2019, 15:17:50) \\n[Clang 4.0.1 (tags/RELEASE_401/final)]', 'platform': 'Darwin-19.6.0-x86_64-i386-64bit', 'event': 'train'}\n",
      "100%|██████████| 6822/6822 [00:00<00:00, 3632543.09it/s]\n",
      "2021-08-15 14:07:46,698 | INFO | utils.py:448 | add_lifecycle_event | Doc2Vec lifecycle event {'msg': 'training model with 4 workers on 7225 vocabulary and 500 features, using sg=0 hs=0 sample=0.001 negative=5 window=2', 'datetime': '2021-08-15T14:07:46.698800', 'gensim': '4.0.1', 'python': '3.7.4 (default, Aug 13 2019, 15:17:50) \\n[Clang 4.0.1 (tags/RELEASE_401/final)]', 'platform': 'Darwin-19.6.0-x86_64-i386-64bit', 'event': 'train'}\n",
      "2021-08-15 14:07:46,869 | INFO | word2vec.py:1281 | _log_epoch_progress | worker thread finished; awaiting finish of 3 more threads\n",
      "2021-08-15 14:07:46,885 | INFO | word2vec.py:1281 | _log_epoch_progress | worker thread finished; awaiting finish of 2 more threads\n",
      "2021-08-15 14:07:46,900 | INFO | word2vec.py:1281 | _log_epoch_progress | worker thread finished; awaiting finish of 1 more threads\n",
      "2021-08-15 14:07:46,903 | INFO | word2vec.py:1281 | _log_epoch_progress | worker thread finished; awaiting finish of 0 more threads\n",
      "2021-08-15 14:07:46,904 | INFO | word2vec.py:1624 | _log_epoch_end | EPOCH - 1 : training on 144381 raw words (117647 effective words) took 0.2s, 589865 effective words/s\n",
      "2021-08-15 14:07:46,904 | INFO | utils.py:448 | add_lifecycle_event | Doc2Vec lifecycle event {'msg': 'training on 144381 raw words (117647 effective words) took 0.2s, 573697 effective words/s', 'datetime': '2021-08-15T14:07:46.904543', 'gensim': '4.0.1', 'python': '3.7.4 (default, Aug 13 2019, 15:17:50) \\n[Clang 4.0.1 (tags/RELEASE_401/final)]', 'platform': 'Darwin-19.6.0-x86_64-i386-64bit', 'event': 'train'}\n",
      "100%|██████████| 6822/6822 [00:00<00:00, 3522100.18it/s]\n",
      "2021-08-15 14:07:46,909 | INFO | utils.py:448 | add_lifecycle_event | Doc2Vec lifecycle event {'msg': 'training model with 4 workers on 7225 vocabulary and 500 features, using sg=0 hs=0 sample=0.001 negative=5 window=2', 'datetime': '2021-08-15T14:07:46.909951', 'gensim': '4.0.1', 'python': '3.7.4 (default, Aug 13 2019, 15:17:50) \\n[Clang 4.0.1 (tags/RELEASE_401/final)]', 'platform': 'Darwin-19.6.0-x86_64-i386-64bit', 'event': 'train'}\n",
      "2021-08-15 14:07:47,085 | INFO | word2vec.py:1281 | _log_epoch_progress | worker thread finished; awaiting finish of 3 more threads\n",
      "2021-08-15 14:07:47,106 | INFO | word2vec.py:1281 | _log_epoch_progress | worker thread finished; awaiting finish of 2 more threads\n",
      "2021-08-15 14:07:47,125 | INFO | word2vec.py:1281 | _log_epoch_progress | worker thread finished; awaiting finish of 1 more threads\n",
      "2021-08-15 14:07:47,128 | INFO | word2vec.py:1281 | _log_epoch_progress | worker thread finished; awaiting finish of 0 more threads\n"
     ]
    },
    {
     "name": "stderr",
     "output_type": "stream",
     "text": [
      "2021-08-15 14:07:47,129 | INFO | word2vec.py:1624 | _log_epoch_end | EPOCH - 1 : training on 144381 raw words (117374 effective words) took 0.2s, 551759 effective words/s\n",
      "2021-08-15 14:07:47,130 | INFO | utils.py:448 | add_lifecycle_event | Doc2Vec lifecycle event {'msg': 'training on 144381 raw words (117374 effective words) took 0.2s, 534621 effective words/s', 'datetime': '2021-08-15T14:07:47.130232', 'gensim': '4.0.1', 'python': '3.7.4 (default, Aug 13 2019, 15:17:50) \\n[Clang 4.0.1 (tags/RELEASE_401/final)]', 'platform': 'Darwin-19.6.0-x86_64-i386-64bit', 'event': 'train'}\n",
      "100%|██████████| 6822/6822 [00:00<00:00, 3116943.56it/s]\n",
      "2021-08-15 14:07:47,137 | INFO | utils.py:448 | add_lifecycle_event | Doc2Vec lifecycle event {'msg': 'training model with 4 workers on 7225 vocabulary and 500 features, using sg=0 hs=0 sample=0.001 negative=5 window=2', 'datetime': '2021-08-15T14:07:47.137918', 'gensim': '4.0.1', 'python': '3.7.4 (default, Aug 13 2019, 15:17:50) \\n[Clang 4.0.1 (tags/RELEASE_401/final)]', 'platform': 'Darwin-19.6.0-x86_64-i386-64bit', 'event': 'train'}\n",
      "2021-08-15 14:07:47,335 | INFO | word2vec.py:1281 | _log_epoch_progress | worker thread finished; awaiting finish of 3 more threads\n",
      "2021-08-15 14:07:47,350 | INFO | word2vec.py:1281 | _log_epoch_progress | worker thread finished; awaiting finish of 2 more threads\n",
      "2021-08-15 14:07:47,368 | INFO | word2vec.py:1281 | _log_epoch_progress | worker thread finished; awaiting finish of 1 more threads\n",
      "2021-08-15 14:07:47,369 | INFO | word2vec.py:1281 | _log_epoch_progress | worker thread finished; awaiting finish of 0 more threads\n",
      "2021-08-15 14:07:47,370 | INFO | word2vec.py:1624 | _log_epoch_end | EPOCH - 1 : training on 144381 raw words (117606 effective words) took 0.2s, 519928 effective words/s\n",
      "2021-08-15 14:07:47,370 | INFO | utils.py:448 | add_lifecycle_event | Doc2Vec lifecycle event {'msg': 'training on 144381 raw words (117606 effective words) took 0.2s, 506810 effective words/s', 'datetime': '2021-08-15T14:07:47.370802', 'gensim': '4.0.1', 'python': '3.7.4 (default, Aug 13 2019, 15:17:50) \\n[Clang 4.0.1 (tags/RELEASE_401/final)]', 'platform': 'Darwin-19.6.0-x86_64-i386-64bit', 'event': 'train'}\n",
      "100%|██████████| 6822/6822 [00:00<00:00, 3617388.35it/s]\n",
      "2021-08-15 14:07:47,376 | INFO | utils.py:448 | add_lifecycle_event | Doc2Vec lifecycle event {'msg': 'training model with 4 workers on 7225 vocabulary and 500 features, using sg=0 hs=0 sample=0.001 negative=5 window=2', 'datetime': '2021-08-15T14:07:47.376231', 'gensim': '4.0.1', 'python': '3.7.4 (default, Aug 13 2019, 15:17:50) \\n[Clang 4.0.1 (tags/RELEASE_401/final)]', 'platform': 'Darwin-19.6.0-x86_64-i386-64bit', 'event': 'train'}\n",
      "2021-08-15 14:07:47,536 | INFO | word2vec.py:1281 | _log_epoch_progress | worker thread finished; awaiting finish of 3 more threads\n",
      "2021-08-15 14:07:47,555 | INFO | word2vec.py:1281 | _log_epoch_progress | worker thread finished; awaiting finish of 2 more threads\n",
      "2021-08-15 14:07:47,575 | INFO | word2vec.py:1281 | _log_epoch_progress | worker thread finished; awaiting finish of 1 more threads\n",
      "2021-08-15 14:07:47,580 | INFO | word2vec.py:1281 | _log_epoch_progress | worker thread finished; awaiting finish of 0 more threads\n",
      "2021-08-15 14:07:47,581 | INFO | word2vec.py:1624 | _log_epoch_end | EPOCH - 1 : training on 144381 raw words (117519 effective words) took 0.2s, 591083 effective words/s\n",
      "2021-08-15 14:07:47,581 | INFO | utils.py:448 | add_lifecycle_event | Doc2Vec lifecycle event {'msg': 'training on 144381 raw words (117519 effective words) took 0.2s, 573858 effective words/s', 'datetime': '2021-08-15T14:07:47.581669', 'gensim': '4.0.1', 'python': '3.7.4 (default, Aug 13 2019, 15:17:50) \\n[Clang 4.0.1 (tags/RELEASE_401/final)]', 'platform': 'Darwin-19.6.0-x86_64-i386-64bit', 'event': 'train'}\n",
      "100%|██████████| 6822/6822 [00:00<00:00, 2359685.13it/s]\n",
      "2021-08-15 14:07:47,589 | INFO | utils.py:448 | add_lifecycle_event | Doc2Vec lifecycle event {'msg': 'training model with 4 workers on 7225 vocabulary and 500 features, using sg=0 hs=0 sample=0.001 negative=5 window=2', 'datetime': '2021-08-15T14:07:47.589166', 'gensim': '4.0.1', 'python': '3.7.4 (default, Aug 13 2019, 15:17:50) \\n[Clang 4.0.1 (tags/RELEASE_401/final)]', 'platform': 'Darwin-19.6.0-x86_64-i386-64bit', 'event': 'train'}\n",
      "2021-08-15 14:07:47,765 | INFO | word2vec.py:1281 | _log_epoch_progress | worker thread finished; awaiting finish of 3 more threads\n",
      "2021-08-15 14:07:47,781 | INFO | word2vec.py:1281 | _log_epoch_progress | worker thread finished; awaiting finish of 2 more threads\n",
      "2021-08-15 14:07:47,800 | INFO | word2vec.py:1281 | _log_epoch_progress | worker thread finished; awaiting finish of 1 more threads\n",
      "2021-08-15 14:07:47,802 | INFO | word2vec.py:1281 | _log_epoch_progress | worker thread finished; awaiting finish of 0 more threads\n",
      "2021-08-15 14:07:47,803 | INFO | word2vec.py:1624 | _log_epoch_end | EPOCH - 1 : training on 144381 raw words (117662 effective words) took 0.2s, 568290 effective words/s\n",
      "2021-08-15 14:07:47,803 | INFO | utils.py:448 | add_lifecycle_event | Doc2Vec lifecycle event {'msg': 'training on 144381 raw words (117662 effective words) took 0.2s, 550608 effective words/s', 'datetime': '2021-08-15T14:07:47.803554', 'gensim': '4.0.1', 'python': '3.7.4 (default, Aug 13 2019, 15:17:50) \\n[Clang 4.0.1 (tags/RELEASE_401/final)]', 'platform': 'Darwin-19.6.0-x86_64-i386-64bit', 'event': 'train'}\n",
      "100%|██████████| 6822/6822 [00:00<00:00, 3666052.77it/s]\n",
      "2021-08-15 14:07:47,809 | INFO | utils.py:448 | add_lifecycle_event | Doc2Vec lifecycle event {'msg': 'training model with 4 workers on 7225 vocabulary and 500 features, using sg=0 hs=0 sample=0.001 negative=5 window=2', 'datetime': '2021-08-15T14:07:47.809739', 'gensim': '4.0.1', 'python': '3.7.4 (default, Aug 13 2019, 15:17:50) \\n[Clang 4.0.1 (tags/RELEASE_401/final)]', 'platform': 'Darwin-19.6.0-x86_64-i386-64bit', 'event': 'train'}\n",
      "2021-08-15 14:07:48,007 | INFO | word2vec.py:1281 | _log_epoch_progress | worker thread finished; awaiting finish of 3 more threads\n",
      "2021-08-15 14:07:48,026 | INFO | word2vec.py:1281 | _log_epoch_progress | worker thread finished; awaiting finish of 2 more threads\n",
      "2021-08-15 14:07:48,045 | INFO | word2vec.py:1281 | _log_epoch_progress | worker thread finished; awaiting finish of 1 more threads\n",
      "2021-08-15 14:07:48,049 | INFO | word2vec.py:1281 | _log_epoch_progress | worker thread finished; awaiting finish of 0 more threads\n",
      "2021-08-15 14:07:48,050 | INFO | word2vec.py:1624 | _log_epoch_end | EPOCH - 1 : training on 144381 raw words (117679 effective words) took 0.2s, 510977 effective words/s\n",
      "2021-08-15 14:07:48,051 | INFO | utils.py:448 | add_lifecycle_event | Doc2Vec lifecycle event {'msg': 'training on 144381 raw words (117679 effective words) took 0.2s, 487959 effective words/s', 'datetime': '2021-08-15T14:07:48.051703', 'gensim': '4.0.1', 'python': '3.7.4 (default, Aug 13 2019, 15:17:50) \\n[Clang 4.0.1 (tags/RELEASE_401/final)]', 'platform': 'Darwin-19.6.0-x86_64-i386-64bit', 'event': 'train'}\n",
      "100%|██████████| 6822/6822 [00:00<00:00, 3166966.45it/s]\n",
      "2021-08-15 14:07:48,060 | INFO | utils.py:448 | add_lifecycle_event | Doc2Vec lifecycle event {'msg': 'training model with 4 workers on 7225 vocabulary and 500 features, using sg=0 hs=0 sample=0.001 negative=5 window=2', 'datetime': '2021-08-15T14:07:48.060372', 'gensim': '4.0.1', 'python': '3.7.4 (default, Aug 13 2019, 15:17:50) \\n[Clang 4.0.1 (tags/RELEASE_401/final)]', 'platform': 'Darwin-19.6.0-x86_64-i386-64bit', 'event': 'train'}\n",
      "2021-08-15 14:07:48,261 | INFO | word2vec.py:1281 | _log_epoch_progress | worker thread finished; awaiting finish of 3 more threads\n",
      "2021-08-15 14:07:48,279 | INFO | word2vec.py:1281 | _log_epoch_progress | worker thread finished; awaiting finish of 2 more threads\n",
      "2021-08-15 14:07:48,295 | INFO | word2vec.py:1281 | _log_epoch_progress | worker thread finished; awaiting finish of 1 more threads\n",
      "2021-08-15 14:07:48,300 | INFO | word2vec.py:1281 | _log_epoch_progress | worker thread finished; awaiting finish of 0 more threads\n",
      "2021-08-15 14:07:48,301 | INFO | word2vec.py:1624 | _log_epoch_end | EPOCH - 1 : training on 144381 raw words (117578 effective words) took 0.2s, 504706 effective words/s\n"
     ]
    },
    {
     "name": "stderr",
     "output_type": "stream",
     "text": [
      "2021-08-15 14:07:48,302 | INFO | utils.py:448 | add_lifecycle_event | Doc2Vec lifecycle event {'msg': 'training on 144381 raw words (117578 effective words) took 0.2s, 488134 effective words/s', 'datetime': '2021-08-15T14:07:48.301987', 'gensim': '4.0.1', 'python': '3.7.4 (default, Aug 13 2019, 15:17:50) \\n[Clang 4.0.1 (tags/RELEASE_401/final)]', 'platform': 'Darwin-19.6.0-x86_64-i386-64bit', 'event': 'train'}\n",
      "100%|██████████| 6822/6822 [00:00<00:00, 3253017.50it/s]\n",
      "2021-08-15 14:07:48,309 | INFO | utils.py:448 | add_lifecycle_event | Doc2Vec lifecycle event {'msg': 'training model with 4 workers on 7225 vocabulary and 500 features, using sg=0 hs=0 sample=0.001 negative=5 window=2', 'datetime': '2021-08-15T14:07:48.309710', 'gensim': '4.0.1', 'python': '3.7.4 (default, Aug 13 2019, 15:17:50) \\n[Clang 4.0.1 (tags/RELEASE_401/final)]', 'platform': 'Darwin-19.6.0-x86_64-i386-64bit', 'event': 'train'}\n",
      "2021-08-15 14:07:48,502 | INFO | word2vec.py:1281 | _log_epoch_progress | worker thread finished; awaiting finish of 3 more threads\n",
      "2021-08-15 14:07:48,521 | INFO | word2vec.py:1281 | _log_epoch_progress | worker thread finished; awaiting finish of 2 more threads\n",
      "2021-08-15 14:07:48,539 | INFO | word2vec.py:1281 | _log_epoch_progress | worker thread finished; awaiting finish of 1 more threads\n",
      "2021-08-15 14:07:48,542 | INFO | word2vec.py:1281 | _log_epoch_progress | worker thread finished; awaiting finish of 0 more threads\n",
      "2021-08-15 14:07:48,543 | INFO | word2vec.py:1624 | _log_epoch_end | EPOCH - 1 : training on 144381 raw words (117728 effective words) took 0.2s, 514928 effective words/s\n",
      "2021-08-15 14:07:48,544 | INFO | utils.py:448 | add_lifecycle_event | Doc2Vec lifecycle event {'msg': 'training on 144381 raw words (117728 effective words) took 0.2s, 503503 effective words/s', 'datetime': '2021-08-15T14:07:48.544181', 'gensim': '4.0.1', 'python': '3.7.4 (default, Aug 13 2019, 15:17:50) \\n[Clang 4.0.1 (tags/RELEASE_401/final)]', 'platform': 'Darwin-19.6.0-x86_64-i386-64bit', 'event': 'train'}\n",
      "100%|██████████| 6822/6822 [00:00<00:00, 2940754.56it/s]\n",
      "2021-08-15 14:07:48,551 | INFO | utils.py:448 | add_lifecycle_event | Doc2Vec lifecycle event {'msg': 'training model with 4 workers on 7225 vocabulary and 500 features, using sg=0 hs=0 sample=0.001 negative=5 window=2', 'datetime': '2021-08-15T14:07:48.551472', 'gensim': '4.0.1', 'python': '3.7.4 (default, Aug 13 2019, 15:17:50) \\n[Clang 4.0.1 (tags/RELEASE_401/final)]', 'platform': 'Darwin-19.6.0-x86_64-i386-64bit', 'event': 'train'}\n",
      "2021-08-15 14:07:48,721 | INFO | word2vec.py:1281 | _log_epoch_progress | worker thread finished; awaiting finish of 3 more threads\n",
      "2021-08-15 14:07:48,734 | INFO | word2vec.py:1281 | _log_epoch_progress | worker thread finished; awaiting finish of 2 more threads\n",
      "2021-08-15 14:07:48,750 | INFO | word2vec.py:1281 | _log_epoch_progress | worker thread finished; awaiting finish of 1 more threads\n",
      "2021-08-15 14:07:48,753 | INFO | word2vec.py:1281 | _log_epoch_progress | worker thread finished; awaiting finish of 0 more threads\n",
      "2021-08-15 14:07:48,753 | INFO | word2vec.py:1624 | _log_epoch_end | EPOCH - 1 : training on 144381 raw words (117557 effective words) took 0.2s, 598451 effective words/s\n",
      "2021-08-15 14:07:48,754 | INFO | utils.py:448 | add_lifecycle_event | Doc2Vec lifecycle event {'msg': 'training on 144381 raw words (117557 effective words) took 0.2s, 581289 effective words/s', 'datetime': '2021-08-15T14:07:48.754353', 'gensim': '4.0.1', 'python': '3.7.4 (default, Aug 13 2019, 15:17:50) \\n[Clang 4.0.1 (tags/RELEASE_401/final)]', 'platform': 'Darwin-19.6.0-x86_64-i386-64bit', 'event': 'train'}\n",
      "100%|██████████| 6822/6822 [00:00<00:00, 3716044.40it/s]\n",
      "2021-08-15 14:07:48,759 | INFO | utils.py:448 | add_lifecycle_event | Doc2Vec lifecycle event {'msg': 'training model with 4 workers on 7225 vocabulary and 500 features, using sg=0 hs=0 sample=0.001 negative=5 window=2', 'datetime': '2021-08-15T14:07:48.759829', 'gensim': '4.0.1', 'python': '3.7.4 (default, Aug 13 2019, 15:17:50) \\n[Clang 4.0.1 (tags/RELEASE_401/final)]', 'platform': 'Darwin-19.6.0-x86_64-i386-64bit', 'event': 'train'}\n",
      "2021-08-15 14:07:48,931 | INFO | word2vec.py:1281 | _log_epoch_progress | worker thread finished; awaiting finish of 3 more threads\n",
      "2021-08-15 14:07:48,949 | INFO | word2vec.py:1281 | _log_epoch_progress | worker thread finished; awaiting finish of 2 more threads\n",
      "2021-08-15 14:07:48,966 | INFO | word2vec.py:1281 | _log_epoch_progress | worker thread finished; awaiting finish of 1 more threads\n",
      "2021-08-15 14:07:48,968 | INFO | word2vec.py:1281 | _log_epoch_progress | worker thread finished; awaiting finish of 0 more threads\n",
      "2021-08-15 14:07:48,968 | INFO | word2vec.py:1624 | _log_epoch_end | EPOCH - 1 : training on 144381 raw words (117529 effective words) took 0.2s, 582328 effective words/s\n",
      "2021-08-15 14:07:48,969 | INFO | utils.py:448 | add_lifecycle_event | Doc2Vec lifecycle event {'msg': 'training on 144381 raw words (117529 effective words) took 0.2s, 563091 effective words/s', 'datetime': '2021-08-15T14:07:48.969211', 'gensim': '4.0.1', 'python': '3.7.4 (default, Aug 13 2019, 15:17:50) \\n[Clang 4.0.1 (tags/RELEASE_401/final)]', 'platform': 'Darwin-19.6.0-x86_64-i386-64bit', 'event': 'train'}\n",
      "100%|██████████| 6822/6822 [00:00<00:00, 3510864.04it/s]\n",
      "2021-08-15 14:07:48,974 | INFO | utils.py:448 | add_lifecycle_event | Doc2Vec lifecycle event {'msg': 'training model with 4 workers on 7225 vocabulary and 500 features, using sg=0 hs=0 sample=0.001 negative=5 window=2', 'datetime': '2021-08-15T14:07:48.974846', 'gensim': '4.0.1', 'python': '3.7.4 (default, Aug 13 2019, 15:17:50) \\n[Clang 4.0.1 (tags/RELEASE_401/final)]', 'platform': 'Darwin-19.6.0-x86_64-i386-64bit', 'event': 'train'}\n",
      "2021-08-15 14:07:49,214 | INFO | word2vec.py:1281 | _log_epoch_progress | worker thread finished; awaiting finish of 3 more threads\n",
      "2021-08-15 14:07:49,238 | INFO | word2vec.py:1281 | _log_epoch_progress | worker thread finished; awaiting finish of 2 more threads\n",
      "2021-08-15 14:07:49,250 | INFO | word2vec.py:1281 | _log_epoch_progress | worker thread finished; awaiting finish of 1 more threads\n",
      "2021-08-15 14:07:49,257 | INFO | word2vec.py:1281 | _log_epoch_progress | worker thread finished; awaiting finish of 0 more threads\n",
      "2021-08-15 14:07:49,257 | INFO | word2vec.py:1624 | _log_epoch_end | EPOCH - 1 : training on 144381 raw words (117468 effective words) took 0.3s, 423666 effective words/s\n",
      "2021-08-15 14:07:49,258 | INFO | utils.py:448 | add_lifecycle_event | Doc2Vec lifecycle event {'msg': 'training on 144381 raw words (117468 effective words) took 0.3s, 415369 effective words/s', 'datetime': '2021-08-15T14:07:49.258283', 'gensim': '4.0.1', 'python': '3.7.4 (default, Aug 13 2019, 15:17:50) \\n[Clang 4.0.1 (tags/RELEASE_401/final)]', 'platform': 'Darwin-19.6.0-x86_64-i386-64bit', 'event': 'train'}\n",
      "100%|██████████| 6822/6822 [00:00<00:00, 3592409.53it/s]\n",
      "2021-08-15 14:07:49,264 | INFO | utils.py:448 | add_lifecycle_event | Doc2Vec lifecycle event {'msg': 'training model with 4 workers on 7225 vocabulary and 500 features, using sg=0 hs=0 sample=0.001 negative=5 window=2', 'datetime': '2021-08-15T14:07:49.264929', 'gensim': '4.0.1', 'python': '3.7.4 (default, Aug 13 2019, 15:17:50) \\n[Clang 4.0.1 (tags/RELEASE_401/final)]', 'platform': 'Darwin-19.6.0-x86_64-i386-64bit', 'event': 'train'}\n",
      "2021-08-15 14:07:49,452 | INFO | word2vec.py:1281 | _log_epoch_progress | worker thread finished; awaiting finish of 3 more threads\n",
      "2021-08-15 14:07:49,472 | INFO | word2vec.py:1281 | _log_epoch_progress | worker thread finished; awaiting finish of 2 more threads\n",
      "2021-08-15 14:07:49,489 | INFO | word2vec.py:1281 | _log_epoch_progress | worker thread finished; awaiting finish of 1 more threads\n",
      "2021-08-15 14:07:49,489 | INFO | word2vec.py:1281 | _log_epoch_progress | worker thread finished; awaiting finish of 0 more threads\n",
      "2021-08-15 14:07:49,490 | INFO | word2vec.py:1624 | _log_epoch_end | EPOCH - 1 : training on 144381 raw words (117408 effective words) took 0.2s, 545955 effective words/s\n",
      "2021-08-15 14:07:49,490 | INFO | utils.py:448 | add_lifecycle_event | Doc2Vec lifecycle event {'msg': 'training on 144381 raw words (117408 effective words) took 0.2s, 522723 effective words/s', 'datetime': '2021-08-15T14:07:49.490930', 'gensim': '4.0.1', 'python': '3.7.4 (default, Aug 13 2019, 15:17:50) \\n[Clang 4.0.1 (tags/RELEASE_401/final)]', 'platform': 'Darwin-19.6.0-x86_64-i386-64bit', 'event': 'train'}\n"
     ]
    },
    {
     "name": "stderr",
     "output_type": "stream",
     "text": [
      "100%|██████████| 6822/6822 [00:00<00:00, 3498843.47it/s]\n",
      "2021-08-15 14:07:49,496 | INFO | utils.py:448 | add_lifecycle_event | Doc2Vec lifecycle event {'msg': 'training model with 4 workers on 7225 vocabulary and 500 features, using sg=0 hs=0 sample=0.001 negative=5 window=2', 'datetime': '2021-08-15T14:07:49.496885', 'gensim': '4.0.1', 'python': '3.7.4 (default, Aug 13 2019, 15:17:50) \\n[Clang 4.0.1 (tags/RELEASE_401/final)]', 'platform': 'Darwin-19.6.0-x86_64-i386-64bit', 'event': 'train'}\n",
      "2021-08-15 14:07:49,690 | INFO | word2vec.py:1281 | _log_epoch_progress | worker thread finished; awaiting finish of 3 more threads\n",
      "2021-08-15 14:07:49,709 | INFO | word2vec.py:1281 | _log_epoch_progress | worker thread finished; awaiting finish of 2 more threads\n",
      "2021-08-15 14:07:49,724 | INFO | word2vec.py:1281 | _log_epoch_progress | worker thread finished; awaiting finish of 1 more threads\n",
      "2021-08-15 14:07:49,728 | INFO | word2vec.py:1281 | _log_epoch_progress | worker thread finished; awaiting finish of 0 more threads\n",
      "2021-08-15 14:07:49,728 | INFO | word2vec.py:1624 | _log_epoch_end | EPOCH - 1 : training on 144381 raw words (117638 effective words) took 0.2s, 526667 effective words/s\n",
      "2021-08-15 14:07:49,729 | INFO | utils.py:448 | add_lifecycle_event | Doc2Vec lifecycle event {'msg': 'training on 144381 raw words (117638 effective words) took 0.2s, 508935 effective words/s', 'datetime': '2021-08-15T14:07:49.729489', 'gensim': '4.0.1', 'python': '3.7.4 (default, Aug 13 2019, 15:17:50) \\n[Clang 4.0.1 (tags/RELEASE_401/final)]', 'platform': 'Darwin-19.6.0-x86_64-i386-64bit', 'event': 'train'}\n",
      "100%|██████████| 6822/6822 [00:00<00:00, 3313286.46it/s]\n",
      "2021-08-15 14:07:49,736 | INFO | utils.py:448 | add_lifecycle_event | Doc2Vec lifecycle event {'msg': 'training model with 4 workers on 7225 vocabulary and 500 features, using sg=0 hs=0 sample=0.001 negative=5 window=2', 'datetime': '2021-08-15T14:07:49.736208', 'gensim': '4.0.1', 'python': '3.7.4 (default, Aug 13 2019, 15:17:50) \\n[Clang 4.0.1 (tags/RELEASE_401/final)]', 'platform': 'Darwin-19.6.0-x86_64-i386-64bit', 'event': 'train'}\n",
      "2021-08-15 14:07:49,930 | INFO | word2vec.py:1281 | _log_epoch_progress | worker thread finished; awaiting finish of 3 more threads\n",
      "2021-08-15 14:07:49,953 | INFO | word2vec.py:1281 | _log_epoch_progress | worker thread finished; awaiting finish of 2 more threads\n",
      "2021-08-15 14:07:49,966 | INFO | word2vec.py:1281 | _log_epoch_progress | worker thread finished; awaiting finish of 1 more threads\n",
      "2021-08-15 14:07:49,971 | INFO | word2vec.py:1281 | _log_epoch_progress | worker thread finished; awaiting finish of 0 more threads\n",
      "2021-08-15 14:07:49,972 | INFO | word2vec.py:1624 | _log_epoch_end | EPOCH - 1 : training on 144381 raw words (117727 effective words) took 0.2s, 514133 effective words/s\n",
      "2021-08-15 14:07:49,973 | INFO | utils.py:448 | add_lifecycle_event | Doc2Vec lifecycle event {'msg': 'training on 144381 raw words (117727 effective words) took 0.2s, 498647 effective words/s', 'datetime': '2021-08-15T14:07:49.973052', 'gensim': '4.0.1', 'python': '3.7.4 (default, Aug 13 2019, 15:17:50) \\n[Clang 4.0.1 (tags/RELEASE_401/final)]', 'platform': 'Darwin-19.6.0-x86_64-i386-64bit', 'event': 'train'}\n",
      "100%|██████████| 6822/6822 [00:00<00:00, 2817957.64it/s]\n",
      "2021-08-15 14:07:49,979 | INFO | utils.py:448 | add_lifecycle_event | Doc2Vec lifecycle event {'msg': 'training model with 4 workers on 7225 vocabulary and 500 features, using sg=0 hs=0 sample=0.001 negative=5 window=2', 'datetime': '2021-08-15T14:07:49.979098', 'gensim': '4.0.1', 'python': '3.7.4 (default, Aug 13 2019, 15:17:50) \\n[Clang 4.0.1 (tags/RELEASE_401/final)]', 'platform': 'Darwin-19.6.0-x86_64-i386-64bit', 'event': 'train'}\n",
      "2021-08-15 14:07:50,162 | INFO | word2vec.py:1281 | _log_epoch_progress | worker thread finished; awaiting finish of 3 more threads\n",
      "2021-08-15 14:07:50,179 | INFO | word2vec.py:1281 | _log_epoch_progress | worker thread finished; awaiting finish of 2 more threads\n",
      "2021-08-15 14:07:50,194 | INFO | word2vec.py:1281 | _log_epoch_progress | worker thread finished; awaiting finish of 1 more threads\n",
      "2021-08-15 14:07:50,197 | INFO | word2vec.py:1281 | _log_epoch_progress | worker thread finished; awaiting finish of 0 more threads\n",
      "2021-08-15 14:07:50,198 | INFO | word2vec.py:1624 | _log_epoch_end | EPOCH - 1 : training on 144381 raw words (117648 effective words) took 0.2s, 552498 effective words/s\n",
      "2021-08-15 14:07:50,198 | INFO | utils.py:448 | add_lifecycle_event | Doc2Vec lifecycle event {'msg': 'training on 144381 raw words (117648 effective words) took 0.2s, 537015 effective words/s', 'datetime': '2021-08-15T14:07:50.198894', 'gensim': '4.0.1', 'python': '3.7.4 (default, Aug 13 2019, 15:17:50) \\n[Clang 4.0.1 (tags/RELEASE_401/final)]', 'platform': 'Darwin-19.6.0-x86_64-i386-64bit', 'event': 'train'}\n",
      "100%|██████████| 6822/6822 [00:00<00:00, 3371852.69it/s]\n",
      "2021-08-15 14:07:50,205 | INFO | utils.py:448 | add_lifecycle_event | Doc2Vec lifecycle event {'msg': 'training model with 4 workers on 7225 vocabulary and 500 features, using sg=0 hs=0 sample=0.001 negative=5 window=2', 'datetime': '2021-08-15T14:07:50.205555', 'gensim': '4.0.1', 'python': '3.7.4 (default, Aug 13 2019, 15:17:50) \\n[Clang 4.0.1 (tags/RELEASE_401/final)]', 'platform': 'Darwin-19.6.0-x86_64-i386-64bit', 'event': 'train'}\n",
      "2021-08-15 14:07:50,376 | INFO | word2vec.py:1281 | _log_epoch_progress | worker thread finished; awaiting finish of 3 more threads\n",
      "2021-08-15 14:07:50,396 | INFO | word2vec.py:1281 | _log_epoch_progress | worker thread finished; awaiting finish of 2 more threads\n",
      "2021-08-15 14:07:50,410 | INFO | word2vec.py:1281 | _log_epoch_progress | worker thread finished; awaiting finish of 1 more threads\n",
      "2021-08-15 14:07:50,413 | INFO | word2vec.py:1281 | _log_epoch_progress | worker thread finished; awaiting finish of 0 more threads\n",
      "2021-08-15 14:07:50,414 | INFO | word2vec.py:1624 | _log_epoch_end | EPOCH - 1 : training on 144381 raw words (117613 effective words) took 0.2s, 580397 effective words/s\n",
      "2021-08-15 14:07:50,414 | INFO | utils.py:448 | add_lifecycle_event | Doc2Vec lifecycle event {'msg': 'training on 144381 raw words (117613 effective words) took 0.2s, 563750 effective words/s', 'datetime': '2021-08-15T14:07:50.414823', 'gensim': '4.0.1', 'python': '3.7.4 (default, Aug 13 2019, 15:17:50) \\n[Clang 4.0.1 (tags/RELEASE_401/final)]', 'platform': 'Darwin-19.6.0-x86_64-i386-64bit', 'event': 'train'}\n"
     ]
    },
    {
     "name": "stdout",
     "output_type": "stream",
     "text": [
      "CPU times: user 13.4 s, sys: 953 ms, total: 14.3 s\n",
      "Wall time: 7.07 s\n"
     ]
    }
   ],
   "source": [
    "%%time\n",
    "for epoch in range(30):\n",
    "    model_bg_dmc.train(utils.shuffle([x for x in tqdm(all_x_w2v_bg)]), total_examples=len(all_x_w2v_bg), epochs=1)\n",
    "    model_bg_dmc.alpha -= 0.002\n",
    "    model_bg_dmc.min_alpha = model_bg_dmc.alpha"
   ]
  },
  {
   "cell_type": "code",
   "execution_count": 200,
   "metadata": {},
   "outputs": [],
   "source": [
    "train_vecs_dmc_bg = get_vectors(model_bg_dmc, x_train1, 100)\n",
    "validation_vecs_dmc_bg = get_vectors(model_bg_dmc, x_val1, 100)"
   ]
  },
  {
   "cell_type": "code",
   "execution_count": 201,
   "metadata": {},
   "outputs": [
    {
     "name": "stdout",
     "output_type": "stream",
     "text": [
      "CPU times: user 79.1 ms, sys: 37.4 ms, total: 116 ms\n",
      "Wall time: 47 ms\n"
     ]
    },
    {
     "data": {
      "text/plain": [
       "LogisticRegression()"
      ]
     },
     "execution_count": 201,
     "metadata": {},
     "output_type": "execute_result"
    }
   ],
   "source": [
    "%%time\n",
    "clf = LogisticRegression()\n",
    "clf.fit(train_vecs_dmc_bg, y_train)"
   ]
  },
  {
   "cell_type": "code",
   "execution_count": 202,
   "metadata": {},
   "outputs": [
    {
     "data": {
      "text/plain": [
       "0.5134818288393904"
      ]
     },
     "execution_count": 202,
     "metadata": {},
     "output_type": "execute_result"
    }
   ],
   "source": [
    "clf.score(validation_vecs_dmc_bg, y_validation)"
   ]
  },
  {
   "cell_type": "code",
   "execution_count": 203,
   "metadata": {},
   "outputs": [
    {
     "name": "stderr",
     "output_type": "stream",
     "text": [
      "2021-08-15 14:07:50,506 | INFO | utils.py:448 | add_lifecycle_event | Doc2Vec lifecycle event {'params': 'Doc2Vec(dm/m,d100,n5,w4,mc2,s0.001,t4)', 'datetime': '2021-08-15T14:07:50.506436', 'gensim': '4.0.1', 'python': '3.7.4 (default, Aug 13 2019, 15:17:50) \\n[Clang 4.0.1 (tags/RELEASE_401/final)]', 'platform': 'Darwin-19.6.0-x86_64-i386-64bit', 'event': 'created'}\n",
      "100%|██████████| 6822/6822 [00:00<00:00, 2846268.96it/s]\n",
      "2021-08-15 14:07:50,514 | INFO | doc2vec.py:1032 | scan_vocab | collecting all words and their counts\n",
      "2021-08-15 14:07:50,515 | INFO | doc2vec.py:951 | _scan_vocab | PROGRESS: at example #0, processed 0 words (0/s), 0 word types, 0 tags\n",
      "2021-08-15 14:07:50,578 | INFO | doc2vec.py:1040 | scan_vocab | collected 13902 word types and 5116 unique tags from a corpus of 6822 examples and 144381 words\n",
      "2021-08-15 14:07:50,579 | INFO | word2vec.py:626 | prepare_vocab | Creating a fresh vocabulary\n",
      "2021-08-15 14:07:50,606 | INFO | utils.py:448 | add_lifecycle_event | Doc2Vec lifecycle event {'msg': 'effective_min_count=2 retains 7224 unique words (51.963746223564954%% of original 13902, drops 6678)', 'datetime': '2021-08-15T14:07:50.606481', 'gensim': '4.0.1', 'python': '3.7.4 (default, Aug 13 2019, 15:17:50) \\n[Clang 4.0.1 (tags/RELEASE_401/final)]', 'platform': 'Darwin-19.6.0-x86_64-i386-64bit', 'event': 'prepare_vocab'}\n",
      "2021-08-15 14:07:50,607 | INFO | utils.py:448 | add_lifecycle_event | Doc2Vec lifecycle event {'msg': 'effective_min_count=2 leaves 137703 word corpus (95.37473767323955%% of original 144381, drops 6678)', 'datetime': '2021-08-15T14:07:50.607188', 'gensim': '4.0.1', 'python': '3.7.4 (default, Aug 13 2019, 15:17:50) \\n[Clang 4.0.1 (tags/RELEASE_401/final)]', 'platform': 'Darwin-19.6.0-x86_64-i386-64bit', 'event': 'prepare_vocab'}\n",
      "2021-08-15 14:07:50,650 | INFO | word2vec.py:734 | prepare_vocab | deleting the raw counts dictionary of 13902 items\n",
      "2021-08-15 14:07:50,651 | INFO | word2vec.py:737 | prepare_vocab | sample=0.001 downsamples 45 most-common words\n",
      "2021-08-15 14:07:50,651 | INFO | utils.py:448 | add_lifecycle_event | Doc2Vec lifecycle event {'msg': 'downsampling leaves estimated 110749.37196720994 word corpus (80.4%% of prior 137703)', 'datetime': '2021-08-15T14:07:50.651963', 'gensim': '4.0.1', 'python': '3.7.4 (default, Aug 13 2019, 15:17:50) \\n[Clang 4.0.1 (tags/RELEASE_401/final)]', 'platform': 'Darwin-19.6.0-x86_64-i386-64bit', 'event': 'prepare_vocab'}\n",
      "2021-08-15 14:07:50,732 | INFO | word2vec.py:796 | estimate_memory | estimated required memory for 7224 words and 100 dimensions: 12460800 bytes\n",
      "2021-08-15 14:07:50,732 | INFO | word2vec.py:852 | init_weights | resetting layer weights\n"
     ]
    }
   ],
   "source": [
    "cores = multiprocessing.cpu_count()\n",
    "model_bg_dmm = Doc2Vec(dm=1, dm_mean=1, vector_size=100, window=4, negative=5, min_count=2, workers=cores, alpha=0.065, min_alpha=0.065)\n",
    "model_bg_dmm.build_vocab([x for x in tqdm(all_x_w2v_bg)])"
   ]
  },
  {
   "cell_type": "code",
   "execution_count": 204,
   "metadata": {},
   "outputs": [
    {
     "name": "stderr",
     "output_type": "stream",
     "text": [
      "100%|██████████| 6822/6822 [00:00<00:00, 3496705.60it/s]\n",
      "2021-08-15 14:07:55,204 | INFO | utils.py:448 | add_lifecycle_event | Doc2Vec lifecycle event {'msg': 'training model with 4 workers on 7224 vocabulary and 100 features, using sg=0 hs=0 sample=0.001 negative=5 window=4', 'datetime': '2021-08-15T14:07:55.204459', 'gensim': '4.0.1', 'python': '3.7.4 (default, Aug 13 2019, 15:17:50) \\n[Clang 4.0.1 (tags/RELEASE_401/final)]', 'platform': 'Darwin-19.6.0-x86_64-i386-64bit', 'event': 'train'}\n",
      "2021-08-15 14:07:55,523 | INFO | word2vec.py:1281 | _log_epoch_progress | worker thread finished; awaiting finish of 3 more threads\n",
      "2021-08-15 14:07:55,555 | INFO | word2vec.py:1281 | _log_epoch_progress | worker thread finished; awaiting finish of 2 more threads\n",
      "2021-08-15 14:07:55,582 | INFO | word2vec.py:1281 | _log_epoch_progress | worker thread finished; awaiting finish of 1 more threads\n",
      "2021-08-15 14:07:55,591 | INFO | word2vec.py:1281 | _log_epoch_progress | worker thread finished; awaiting finish of 0 more threads\n",
      "2021-08-15 14:07:55,591 | INFO | word2vec.py:1624 | _log_epoch_end | EPOCH - 1 : training on 144381 raw words (117635 effective words) took 0.4s, 308988 effective words/s\n",
      "2021-08-15 14:07:55,592 | INFO | utils.py:448 | add_lifecycle_event | Doc2Vec lifecycle event {'msg': 'training on 144381 raw words (117635 effective words) took 0.4s, 303886 effective words/s', 'datetime': '2021-08-15T14:07:55.592331', 'gensim': '4.0.1', 'python': '3.7.4 (default, Aug 13 2019, 15:17:50) \\n[Clang 4.0.1 (tags/RELEASE_401/final)]', 'platform': 'Darwin-19.6.0-x86_64-i386-64bit', 'event': 'train'}\n",
      "100%|██████████| 6822/6822 [00:00<00:00, 3519933.80it/s]\n",
      "2021-08-15 14:07:55,598 | INFO | utils.py:448 | add_lifecycle_event | Doc2Vec lifecycle event {'msg': 'training model with 4 workers on 7224 vocabulary and 100 features, using sg=0 hs=0 sample=0.001 negative=5 window=4', 'datetime': '2021-08-15T14:07:55.598152', 'gensim': '4.0.1', 'python': '3.7.4 (default, Aug 13 2019, 15:17:50) \\n[Clang 4.0.1 (tags/RELEASE_401/final)]', 'platform': 'Darwin-19.6.0-x86_64-i386-64bit', 'event': 'train'}\n",
      "2021-08-15 14:07:55,939 | INFO | word2vec.py:1281 | _log_epoch_progress | worker thread finished; awaiting finish of 3 more threads\n",
      "2021-08-15 14:07:55,960 | INFO | word2vec.py:1281 | _log_epoch_progress | worker thread finished; awaiting finish of 2 more threads\n",
      "2021-08-15 14:07:55,994 | INFO | word2vec.py:1281 | _log_epoch_progress | worker thread finished; awaiting finish of 1 more threads\n",
      "2021-08-15 14:07:55,997 | INFO | word2vec.py:1281 | _log_epoch_progress | worker thread finished; awaiting finish of 0 more threads\n",
      "2021-08-15 14:07:55,998 | INFO | word2vec.py:1624 | _log_epoch_end | EPOCH - 1 : training on 144381 raw words (117576 effective words) took 0.4s, 302205 effective words/s\n",
      "2021-08-15 14:07:55,998 | INFO | utils.py:448 | add_lifecycle_event | Doc2Vec lifecycle event {'msg': 'training on 144381 raw words (117576 effective words) took 0.4s, 295078 effective words/s', 'datetime': '2021-08-15T14:07:55.998767', 'gensim': '4.0.1', 'python': '3.7.4 (default, Aug 13 2019, 15:17:50) \\n[Clang 4.0.1 (tags/RELEASE_401/final)]', 'platform': 'Darwin-19.6.0-x86_64-i386-64bit', 'event': 'train'}\n",
      "100%|██████████| 6822/6822 [00:00<00:00, 3158576.21it/s]\n",
      "2021-08-15 14:07:56,008 | INFO | utils.py:448 | add_lifecycle_event | Doc2Vec lifecycle event {'msg': 'training model with 4 workers on 7224 vocabulary and 100 features, using sg=0 hs=0 sample=0.001 negative=5 window=4', 'datetime': '2021-08-15T14:07:56.008545', 'gensim': '4.0.1', 'python': '3.7.4 (default, Aug 13 2019, 15:17:50) \\n[Clang 4.0.1 (tags/RELEASE_401/final)]', 'platform': 'Darwin-19.6.0-x86_64-i386-64bit', 'event': 'train'}\n",
      "2021-08-15 14:07:56,346 | INFO | word2vec.py:1281 | _log_epoch_progress | worker thread finished; awaiting finish of 3 more threads\n",
      "2021-08-15 14:07:56,376 | INFO | word2vec.py:1281 | _log_epoch_progress | worker thread finished; awaiting finish of 2 more threads\n",
      "2021-08-15 14:07:56,407 | INFO | word2vec.py:1281 | _log_epoch_progress | worker thread finished; awaiting finish of 1 more threads\n",
      "2021-08-15 14:07:56,418 | INFO | word2vec.py:1281 | _log_epoch_progress | worker thread finished; awaiting finish of 0 more threads\n",
      "2021-08-15 14:07:56,419 | INFO | word2vec.py:1624 | _log_epoch_end | EPOCH - 1 : training on 144381 raw words (117700 effective words) took 0.4s, 291271 effective words/s\n",
      "2021-08-15 14:07:56,420 | INFO | utils.py:448 | add_lifecycle_event | Doc2Vec lifecycle event {'msg': 'training on 144381 raw words (117700 effective words) took 0.4s, 286309 effective words/s', 'datetime': '2021-08-15T14:07:56.420658', 'gensim': '4.0.1', 'python': '3.7.4 (default, Aug 13 2019, 15:17:50) \\n[Clang 4.0.1 (tags/RELEASE_401/final)]', 'platform': 'Darwin-19.6.0-x86_64-i386-64bit', 'event': 'train'}\n",
      "100%|██████████| 6822/6822 [00:00<00:00, 3545668.14it/s]\n",
      "2021-08-15 14:07:56,428 | INFO | utils.py:448 | add_lifecycle_event | Doc2Vec lifecycle event {'msg': 'training model with 4 workers on 7224 vocabulary and 100 features, using sg=0 hs=0 sample=0.001 negative=5 window=4', 'datetime': '2021-08-15T14:07:56.428374', 'gensim': '4.0.1', 'python': '3.7.4 (default, Aug 13 2019, 15:17:50) \\n[Clang 4.0.1 (tags/RELEASE_401/final)]', 'platform': 'Darwin-19.6.0-x86_64-i386-64bit', 'event': 'train'}\n",
      "2021-08-15 14:07:56,751 | INFO | word2vec.py:1281 | _log_epoch_progress | worker thread finished; awaiting finish of 3 more threads\n",
      "2021-08-15 14:07:56,794 | INFO | word2vec.py:1281 | _log_epoch_progress | worker thread finished; awaiting finish of 2 more threads\n",
      "2021-08-15 14:07:56,810 | INFO | word2vec.py:1281 | _log_epoch_progress | worker thread finished; awaiting finish of 1 more threads\n",
      "2021-08-15 14:07:56,822 | INFO | word2vec.py:1281 | _log_epoch_progress | worker thread finished; awaiting finish of 0 more threads\n",
      "2021-08-15 14:07:56,823 | INFO | word2vec.py:1624 | _log_epoch_end | EPOCH - 1 : training on 144381 raw words (117647 effective words) took 0.4s, 306040 effective words/s\n",
      "2021-08-15 14:07:56,824 | INFO | utils.py:448 | add_lifecycle_event | Doc2Vec lifecycle event {'msg': 'training on 144381 raw words (117647 effective words) took 0.4s, 298152 effective words/s', 'datetime': '2021-08-15T14:07:56.824173', 'gensim': '4.0.1', 'python': '3.7.4 (default, Aug 13 2019, 15:17:50) \\n[Clang 4.0.1 (tags/RELEASE_401/final)]', 'platform': 'Darwin-19.6.0-x86_64-i386-64bit', 'event': 'train'}\n",
      "100%|██████████| 6822/6822 [00:00<00:00, 3409621.29it/s]\n",
      "2021-08-15 14:07:56,832 | INFO | utils.py:448 | add_lifecycle_event | Doc2Vec lifecycle event {'msg': 'training model with 4 workers on 7224 vocabulary and 100 features, using sg=0 hs=0 sample=0.001 negative=5 window=4', 'datetime': '2021-08-15T14:07:56.832174', 'gensim': '4.0.1', 'python': '3.7.4 (default, Aug 13 2019, 15:17:50) \\n[Clang 4.0.1 (tags/RELEASE_401/final)]', 'platform': 'Darwin-19.6.0-x86_64-i386-64bit', 'event': 'train'}\n",
      "2021-08-15 14:07:57,154 | INFO | word2vec.py:1281 | _log_epoch_progress | worker thread finished; awaiting finish of 3 more threads\n",
      "2021-08-15 14:07:57,184 | INFO | word2vec.py:1281 | _log_epoch_progress | worker thread finished; awaiting finish of 2 more threads\n",
      "2021-08-15 14:07:57,202 | INFO | word2vec.py:1281 | _log_epoch_progress | worker thread finished; awaiting finish of 1 more threads\n",
      "2021-08-15 14:07:57,206 | INFO | word2vec.py:1281 | _log_epoch_progress | worker thread finished; awaiting finish of 0 more threads\n",
      "2021-08-15 14:07:57,207 | INFO | word2vec.py:1624 | _log_epoch_end | EPOCH - 1 : training on 144381 raw words (117717 effective words) took 0.4s, 321022 effective words/s\n",
      "2021-08-15 14:07:57,207 | INFO | utils.py:448 | add_lifecycle_event | Doc2Vec lifecycle event {'msg': 'training on 144381 raw words (117717 effective words) took 0.4s, 313872 effective words/s', 'datetime': '2021-08-15T14:07:57.207979', 'gensim': '4.0.1', 'python': '3.7.4 (default, Aug 13 2019, 15:17:50) \\n[Clang 4.0.1 (tags/RELEASE_401/final)]', 'platform': 'Darwin-19.6.0-x86_64-i386-64bit', 'event': 'train'}\n",
      "100%|██████████| 6822/6822 [00:00<00:00, 2367103.07it/s]\n",
      "2021-08-15 14:07:57,216 | INFO | utils.py:448 | add_lifecycle_event | Doc2Vec lifecycle event {'msg': 'training model with 4 workers on 7224 vocabulary and 100 features, using sg=0 hs=0 sample=0.001 negative=5 window=4', 'datetime': '2021-08-15T14:07:57.216860', 'gensim': '4.0.1', 'python': '3.7.4 (default, Aug 13 2019, 15:17:50) \\n[Clang 4.0.1 (tags/RELEASE_401/final)]', 'platform': 'Darwin-19.6.0-x86_64-i386-64bit', 'event': 'train'}\n"
     ]
    },
    {
     "name": "stderr",
     "output_type": "stream",
     "text": [
      "2021-08-15 14:07:57,563 | INFO | word2vec.py:1281 | _log_epoch_progress | worker thread finished; awaiting finish of 3 more threads\n",
      "2021-08-15 14:07:57,588 | INFO | word2vec.py:1281 | _log_epoch_progress | worker thread finished; awaiting finish of 2 more threads\n",
      "2021-08-15 14:07:57,610 | INFO | word2vec.py:1281 | _log_epoch_progress | worker thread finished; awaiting finish of 1 more threads\n",
      "2021-08-15 14:07:57,616 | INFO | word2vec.py:1281 | _log_epoch_progress | worker thread finished; awaiting finish of 0 more threads\n",
      "2021-08-15 14:07:57,616 | INFO | word2vec.py:1624 | _log_epoch_end | EPOCH - 1 : training on 144381 raw words (117759 effective words) took 0.4s, 301764 effective words/s\n",
      "2021-08-15 14:07:57,618 | INFO | utils.py:448 | add_lifecycle_event | Doc2Vec lifecycle event {'msg': 'training on 144381 raw words (117759 effective words) took 0.4s, 294414 effective words/s', 'datetime': '2021-08-15T14:07:57.618029', 'gensim': '4.0.1', 'python': '3.7.4 (default, Aug 13 2019, 15:17:50) \\n[Clang 4.0.1 (tags/RELEASE_401/final)]', 'platform': 'Darwin-19.6.0-x86_64-i386-64bit', 'event': 'train'}\n",
      "100%|██████████| 6822/6822 [00:00<00:00, 3414096.40it/s]\n",
      "2021-08-15 14:07:57,625 | INFO | utils.py:448 | add_lifecycle_event | Doc2Vec lifecycle event {'msg': 'training model with 4 workers on 7224 vocabulary and 100 features, using sg=0 hs=0 sample=0.001 negative=5 window=4', 'datetime': '2021-08-15T14:07:57.625062', 'gensim': '4.0.1', 'python': '3.7.4 (default, Aug 13 2019, 15:17:50) \\n[Clang 4.0.1 (tags/RELEASE_401/final)]', 'platform': 'Darwin-19.6.0-x86_64-i386-64bit', 'event': 'train'}\n",
      "2021-08-15 14:07:57,957 | INFO | word2vec.py:1281 | _log_epoch_progress | worker thread finished; awaiting finish of 3 more threads\n",
      "2021-08-15 14:07:57,990 | INFO | word2vec.py:1281 | _log_epoch_progress | worker thread finished; awaiting finish of 2 more threads\n",
      "2021-08-15 14:07:58,011 | INFO | word2vec.py:1281 | _log_epoch_progress | worker thread finished; awaiting finish of 1 more threads\n",
      "2021-08-15 14:07:58,015 | INFO | word2vec.py:1281 | _log_epoch_progress | worker thread finished; awaiting finish of 0 more threads\n",
      "2021-08-15 14:07:58,016 | INFO | word2vec.py:1624 | _log_epoch_end | EPOCH - 1 : training on 144381 raw words (117605 effective words) took 0.4s, 305557 effective words/s\n",
      "2021-08-15 14:07:58,017 | INFO | utils.py:448 | add_lifecycle_event | Doc2Vec lifecycle event {'msg': 'training on 144381 raw words (117605 effective words) took 0.4s, 300603 effective words/s', 'datetime': '2021-08-15T14:07:58.017107', 'gensim': '4.0.1', 'python': '3.7.4 (default, Aug 13 2019, 15:17:50) \\n[Clang 4.0.1 (tags/RELEASE_401/final)]', 'platform': 'Darwin-19.6.0-x86_64-i386-64bit', 'event': 'train'}\n",
      "100%|██████████| 6822/6822 [00:00<00:00, 3532972.20it/s]\n",
      "2021-08-15 14:07:58,024 | INFO | utils.py:448 | add_lifecycle_event | Doc2Vec lifecycle event {'msg': 'training model with 4 workers on 7224 vocabulary and 100 features, using sg=0 hs=0 sample=0.001 negative=5 window=4', 'datetime': '2021-08-15T14:07:58.024387', 'gensim': '4.0.1', 'python': '3.7.4 (default, Aug 13 2019, 15:17:50) \\n[Clang 4.0.1 (tags/RELEASE_401/final)]', 'platform': 'Darwin-19.6.0-x86_64-i386-64bit', 'event': 'train'}\n",
      "2021-08-15 14:07:58,336 | INFO | word2vec.py:1281 | _log_epoch_progress | worker thread finished; awaiting finish of 3 more threads\n",
      "2021-08-15 14:07:58,371 | INFO | word2vec.py:1281 | _log_epoch_progress | worker thread finished; awaiting finish of 2 more threads\n",
      "2021-08-15 14:07:58,395 | INFO | word2vec.py:1281 | _log_epoch_progress | worker thread finished; awaiting finish of 1 more threads\n",
      "2021-08-15 14:07:58,397 | INFO | word2vec.py:1281 | _log_epoch_progress | worker thread finished; awaiting finish of 0 more threads\n",
      "2021-08-15 14:07:58,398 | INFO | word2vec.py:1624 | _log_epoch_end | EPOCH - 1 : training on 144381 raw words (117549 effective words) took 0.4s, 319763 effective words/s\n",
      "2021-08-15 14:07:58,398 | INFO | utils.py:448 | add_lifecycle_event | Doc2Vec lifecycle event {'msg': 'training on 144381 raw words (117549 effective words) took 0.4s, 314545 effective words/s', 'datetime': '2021-08-15T14:07:58.398813', 'gensim': '4.0.1', 'python': '3.7.4 (default, Aug 13 2019, 15:17:50) \\n[Clang 4.0.1 (tags/RELEASE_401/final)]', 'platform': 'Darwin-19.6.0-x86_64-i386-64bit', 'event': 'train'}\n",
      "100%|██████████| 6822/6822 [00:00<00:00, 2626541.39it/s]\n",
      "2021-08-15 14:07:58,405 | INFO | utils.py:448 | add_lifecycle_event | Doc2Vec lifecycle event {'msg': 'training model with 4 workers on 7224 vocabulary and 100 features, using sg=0 hs=0 sample=0.001 negative=5 window=4', 'datetime': '2021-08-15T14:07:58.405790', 'gensim': '4.0.1', 'python': '3.7.4 (default, Aug 13 2019, 15:17:50) \\n[Clang 4.0.1 (tags/RELEASE_401/final)]', 'platform': 'Darwin-19.6.0-x86_64-i386-64bit', 'event': 'train'}\n",
      "2021-08-15 14:07:58,730 | INFO | word2vec.py:1281 | _log_epoch_progress | worker thread finished; awaiting finish of 3 more threads\n",
      "2021-08-15 14:07:58,772 | INFO | word2vec.py:1281 | _log_epoch_progress | worker thread finished; awaiting finish of 2 more threads\n",
      "2021-08-15 14:07:58,797 | INFO | word2vec.py:1281 | _log_epoch_progress | worker thread finished; awaiting finish of 1 more threads\n",
      "2021-08-15 14:07:58,799 | INFO | word2vec.py:1281 | _log_epoch_progress | worker thread finished; awaiting finish of 0 more threads\n",
      "2021-08-15 14:07:58,801 | INFO | word2vec.py:1624 | _log_epoch_end | EPOCH - 1 : training on 144381 raw words (117349 effective words) took 0.4s, 302025 effective words/s\n",
      "2021-08-15 14:07:58,804 | INFO | utils.py:448 | add_lifecycle_event | Doc2Vec lifecycle event {'msg': 'training on 144381 raw words (117349 effective words) took 0.4s, 295219 effective words/s', 'datetime': '2021-08-15T14:07:58.804007', 'gensim': '4.0.1', 'python': '3.7.4 (default, Aug 13 2019, 15:17:50) \\n[Clang 4.0.1 (tags/RELEASE_401/final)]', 'platform': 'Darwin-19.6.0-x86_64-i386-64bit', 'event': 'train'}\n",
      "100%|██████████| 6822/6822 [00:00<00:00, 3590155.82it/s]\n",
      "2021-08-15 14:07:58,810 | INFO | utils.py:448 | add_lifecycle_event | Doc2Vec lifecycle event {'msg': 'training model with 4 workers on 7224 vocabulary and 100 features, using sg=0 hs=0 sample=0.001 negative=5 window=4', 'datetime': '2021-08-15T14:07:58.810371', 'gensim': '4.0.1', 'python': '3.7.4 (default, Aug 13 2019, 15:17:50) \\n[Clang 4.0.1 (tags/RELEASE_401/final)]', 'platform': 'Darwin-19.6.0-x86_64-i386-64bit', 'event': 'train'}\n",
      "2021-08-15 14:07:59,112 | INFO | word2vec.py:1281 | _log_epoch_progress | worker thread finished; awaiting finish of 3 more threads\n",
      "2021-08-15 14:07:59,139 | INFO | word2vec.py:1281 | _log_epoch_progress | worker thread finished; awaiting finish of 2 more threads\n",
      "2021-08-15 14:07:59,168 | INFO | word2vec.py:1281 | _log_epoch_progress | worker thread finished; awaiting finish of 1 more threads\n",
      "2021-08-15 14:07:59,170 | INFO | word2vec.py:1281 | _log_epoch_progress | worker thread finished; awaiting finish of 0 more threads\n",
      "2021-08-15 14:07:59,171 | INFO | word2vec.py:1624 | _log_epoch_end | EPOCH - 1 : training on 144381 raw words (117369 effective words) took 0.3s, 338641 effective words/s\n",
      "2021-08-15 14:07:59,172 | INFO | utils.py:448 | add_lifecycle_event | Doc2Vec lifecycle event {'msg': 'training on 144381 raw words (117369 effective words) took 0.4s, 325328 effective words/s', 'datetime': '2021-08-15T14:07:59.172025', 'gensim': '4.0.1', 'python': '3.7.4 (default, Aug 13 2019, 15:17:50) \\n[Clang 4.0.1 (tags/RELEASE_401/final)]', 'platform': 'Darwin-19.6.0-x86_64-i386-64bit', 'event': 'train'}\n",
      "100%|██████████| 6822/6822 [00:00<00:00, 3368676.94it/s]\n",
      "2021-08-15 14:07:59,178 | INFO | utils.py:448 | add_lifecycle_event | Doc2Vec lifecycle event {'msg': 'training model with 4 workers on 7224 vocabulary and 100 features, using sg=0 hs=0 sample=0.001 negative=5 window=4', 'datetime': '2021-08-15T14:07:59.178056', 'gensim': '4.0.1', 'python': '3.7.4 (default, Aug 13 2019, 15:17:50) \\n[Clang 4.0.1 (tags/RELEASE_401/final)]', 'platform': 'Darwin-19.6.0-x86_64-i386-64bit', 'event': 'train'}\n",
      "2021-08-15 14:07:59,496 | INFO | word2vec.py:1281 | _log_epoch_progress | worker thread finished; awaiting finish of 3 more threads\n",
      "2021-08-15 14:07:59,532 | INFO | word2vec.py:1281 | _log_epoch_progress | worker thread finished; awaiting finish of 2 more threads\n"
     ]
    },
    {
     "name": "stderr",
     "output_type": "stream",
     "text": [
      "2021-08-15 14:07:59,551 | INFO | word2vec.py:1281 | _log_epoch_progress | worker thread finished; awaiting finish of 1 more threads\n",
      "2021-08-15 14:07:59,556 | INFO | word2vec.py:1281 | _log_epoch_progress | worker thread finished; awaiting finish of 0 more threads\n",
      "2021-08-15 14:07:59,557 | INFO | word2vec.py:1624 | _log_epoch_end | EPOCH - 1 : training on 144381 raw words (117334 effective words) took 0.4s, 316882 effective words/s\n",
      "2021-08-15 14:07:59,557 | INFO | utils.py:448 | add_lifecycle_event | Doc2Vec lifecycle event {'msg': 'training on 144381 raw words (117334 effective words) took 0.4s, 309682 effective words/s', 'datetime': '2021-08-15T14:07:59.557791', 'gensim': '4.0.1', 'python': '3.7.4 (default, Aug 13 2019, 15:17:50) \\n[Clang 4.0.1 (tags/RELEASE_401/final)]', 'platform': 'Darwin-19.6.0-x86_64-i386-64bit', 'event': 'train'}\n",
      "100%|██████████| 6822/6822 [00:00<00:00, 3285891.35it/s]\n",
      "2021-08-15 14:07:59,564 | INFO | utils.py:448 | add_lifecycle_event | Doc2Vec lifecycle event {'msg': 'training model with 4 workers on 7224 vocabulary and 100 features, using sg=0 hs=0 sample=0.001 negative=5 window=4', 'datetime': '2021-08-15T14:07:59.564422', 'gensim': '4.0.1', 'python': '3.7.4 (default, Aug 13 2019, 15:17:50) \\n[Clang 4.0.1 (tags/RELEASE_401/final)]', 'platform': 'Darwin-19.6.0-x86_64-i386-64bit', 'event': 'train'}\n",
      "2021-08-15 14:07:59,883 | INFO | word2vec.py:1281 | _log_epoch_progress | worker thread finished; awaiting finish of 3 more threads\n",
      "2021-08-15 14:07:59,914 | INFO | word2vec.py:1281 | _log_epoch_progress | worker thread finished; awaiting finish of 2 more threads\n",
      "2021-08-15 14:07:59,941 | INFO | word2vec.py:1281 | _log_epoch_progress | worker thread finished; awaiting finish of 1 more threads\n",
      "2021-08-15 14:07:59,942 | INFO | word2vec.py:1281 | _log_epoch_progress | worker thread finished; awaiting finish of 0 more threads\n",
      "2021-08-15 14:07:59,942 | INFO | word2vec.py:1624 | _log_epoch_end | EPOCH - 1 : training on 144381 raw words (117569 effective words) took 0.4s, 318991 effective words/s\n",
      "2021-08-15 14:07:59,943 | INFO | utils.py:448 | add_lifecycle_event | Doc2Vec lifecycle event {'msg': 'training on 144381 raw words (117569 effective words) took 0.4s, 311155 effective words/s', 'datetime': '2021-08-15T14:07:59.943052', 'gensim': '4.0.1', 'python': '3.7.4 (default, Aug 13 2019, 15:17:50) \\n[Clang 4.0.1 (tags/RELEASE_401/final)]', 'platform': 'Darwin-19.6.0-x86_64-i386-64bit', 'event': 'train'}\n",
      "100%|██████████| 6822/6822 [00:00<00:00, 3463270.62it/s]\n",
      "2021-08-15 14:07:59,950 | INFO | utils.py:448 | add_lifecycle_event | Doc2Vec lifecycle event {'msg': 'training model with 4 workers on 7224 vocabulary and 100 features, using sg=0 hs=0 sample=0.001 negative=5 window=4', 'datetime': '2021-08-15T14:07:59.950469', 'gensim': '4.0.1', 'python': '3.7.4 (default, Aug 13 2019, 15:17:50) \\n[Clang 4.0.1 (tags/RELEASE_401/final)]', 'platform': 'Darwin-19.6.0-x86_64-i386-64bit', 'event': 'train'}\n",
      "2021-08-15 14:08:00,304 | INFO | word2vec.py:1281 | _log_epoch_progress | worker thread finished; awaiting finish of 3 more threads\n",
      "2021-08-15 14:08:00,323 | INFO | word2vec.py:1281 | _log_epoch_progress | worker thread finished; awaiting finish of 2 more threads\n",
      "2021-08-15 14:08:00,342 | INFO | word2vec.py:1281 | _log_epoch_progress | worker thread finished; awaiting finish of 1 more threads\n",
      "2021-08-15 14:08:00,351 | INFO | word2vec.py:1281 | _log_epoch_progress | worker thread finished; awaiting finish of 0 more threads\n",
      "2021-08-15 14:08:00,352 | INFO | word2vec.py:1624 | _log_epoch_end | EPOCH - 1 : training on 144381 raw words (117455 effective words) took 0.4s, 298501 effective words/s\n",
      "2021-08-15 14:08:00,352 | INFO | utils.py:448 | add_lifecycle_event | Doc2Vec lifecycle event {'msg': 'training on 144381 raw words (117455 effective words) took 0.4s, 292458 effective words/s', 'datetime': '2021-08-15T14:08:00.352900', 'gensim': '4.0.1', 'python': '3.7.4 (default, Aug 13 2019, 15:17:50) \\n[Clang 4.0.1 (tags/RELEASE_401/final)]', 'platform': 'Darwin-19.6.0-x86_64-i386-64bit', 'event': 'train'}\n",
      "100%|██████████| 6822/6822 [00:00<00:00, 3623343.28it/s]\n",
      "2021-08-15 14:08:00,358 | INFO | utils.py:448 | add_lifecycle_event | Doc2Vec lifecycle event {'msg': 'training model with 4 workers on 7224 vocabulary and 100 features, using sg=0 hs=0 sample=0.001 negative=5 window=4', 'datetime': '2021-08-15T14:08:00.358301', 'gensim': '4.0.1', 'python': '3.7.4 (default, Aug 13 2019, 15:17:50) \\n[Clang 4.0.1 (tags/RELEASE_401/final)]', 'platform': 'Darwin-19.6.0-x86_64-i386-64bit', 'event': 'train'}\n",
      "2021-08-15 14:08:00,708 | INFO | word2vec.py:1281 | _log_epoch_progress | worker thread finished; awaiting finish of 3 more threads\n",
      "2021-08-15 14:08:00,736 | INFO | word2vec.py:1281 | _log_epoch_progress | worker thread finished; awaiting finish of 2 more threads\n",
      "2021-08-15 14:08:00,761 | INFO | word2vec.py:1281 | _log_epoch_progress | worker thread finished; awaiting finish of 1 more threads\n",
      "2021-08-15 14:08:00,765 | INFO | word2vec.py:1281 | _log_epoch_progress | worker thread finished; awaiting finish of 0 more threads\n",
      "2021-08-15 14:08:00,766 | INFO | word2vec.py:1624 | _log_epoch_end | EPOCH - 1 : training on 144381 raw words (117637 effective words) took 0.4s, 297360 effective words/s\n",
      "2021-08-15 14:08:00,767 | INFO | utils.py:448 | add_lifecycle_event | Doc2Vec lifecycle event {'msg': 'training on 144381 raw words (117637 effective words) took 0.4s, 288149 effective words/s', 'datetime': '2021-08-15T14:08:00.767457', 'gensim': '4.0.1', 'python': '3.7.4 (default, Aug 13 2019, 15:17:50) \\n[Clang 4.0.1 (tags/RELEASE_401/final)]', 'platform': 'Darwin-19.6.0-x86_64-i386-64bit', 'event': 'train'}\n",
      "100%|██████████| 6822/6822 [00:00<00:00, 3636698.26it/s]\n",
      "2021-08-15 14:08:00,774 | INFO | utils.py:448 | add_lifecycle_event | Doc2Vec lifecycle event {'msg': 'training model with 4 workers on 7224 vocabulary and 100 features, using sg=0 hs=0 sample=0.001 negative=5 window=4', 'datetime': '2021-08-15T14:08:00.774232', 'gensim': '4.0.1', 'python': '3.7.4 (default, Aug 13 2019, 15:17:50) \\n[Clang 4.0.1 (tags/RELEASE_401/final)]', 'platform': 'Darwin-19.6.0-x86_64-i386-64bit', 'event': 'train'}\n",
      "2021-08-15 14:08:01,130 | INFO | word2vec.py:1281 | _log_epoch_progress | worker thread finished; awaiting finish of 3 more threads\n",
      "2021-08-15 14:08:01,169 | INFO | word2vec.py:1281 | _log_epoch_progress | worker thread finished; awaiting finish of 2 more threads\n",
      "2021-08-15 14:08:01,192 | INFO | word2vec.py:1281 | _log_epoch_progress | worker thread finished; awaiting finish of 1 more threads\n",
      "2021-08-15 14:08:01,195 | INFO | word2vec.py:1281 | _log_epoch_progress | worker thread finished; awaiting finish of 0 more threads\n",
      "2021-08-15 14:08:01,196 | INFO | word2vec.py:1624 | _log_epoch_end | EPOCH - 1 : training on 144381 raw words (117624 effective words) took 0.4s, 285077 effective words/s\n",
      "2021-08-15 14:08:01,196 | INFO | utils.py:448 | add_lifecycle_event | Doc2Vec lifecycle event {'msg': 'training on 144381 raw words (117624 effective words) took 0.4s, 278882 effective words/s', 'datetime': '2021-08-15T14:08:01.196812', 'gensim': '4.0.1', 'python': '3.7.4 (default, Aug 13 2019, 15:17:50) \\n[Clang 4.0.1 (tags/RELEASE_401/final)]', 'platform': 'Darwin-19.6.0-x86_64-i386-64bit', 'event': 'train'}\n",
      "100%|██████████| 6822/6822 [00:00<00:00, 3036241.71it/s]\n",
      "2021-08-15 14:08:01,202 | INFO | utils.py:448 | add_lifecycle_event | Doc2Vec lifecycle event {'msg': 'training model with 4 workers on 7224 vocabulary and 100 features, using sg=0 hs=0 sample=0.001 negative=5 window=4', 'datetime': '2021-08-15T14:08:01.202689', 'gensim': '4.0.1', 'python': '3.7.4 (default, Aug 13 2019, 15:17:50) \\n[Clang 4.0.1 (tags/RELEASE_401/final)]', 'platform': 'Darwin-19.6.0-x86_64-i386-64bit', 'event': 'train'}\n",
      "2021-08-15 14:08:01,522 | INFO | word2vec.py:1281 | _log_epoch_progress | worker thread finished; awaiting finish of 3 more threads\n",
      "2021-08-15 14:08:01,549 | INFO | word2vec.py:1281 | _log_epoch_progress | worker thread finished; awaiting finish of 2 more threads\n",
      "2021-08-15 14:08:01,567 | INFO | word2vec.py:1281 | _log_epoch_progress | worker thread finished; awaiting finish of 1 more threads\n",
      "2021-08-15 14:08:01,572 | INFO | word2vec.py:1281 | _log_epoch_progress | worker thread finished; awaiting finish of 0 more threads\n"
     ]
    },
    {
     "name": "stderr",
     "output_type": "stream",
     "text": [
      "2021-08-15 14:08:01,572 | INFO | word2vec.py:1624 | _log_epoch_end | EPOCH - 1 : training on 144381 raw words (117569 effective words) took 0.4s, 323212 effective words/s\n",
      "2021-08-15 14:08:01,573 | INFO | utils.py:448 | add_lifecycle_event | Doc2Vec lifecycle event {'msg': 'training on 144381 raw words (117569 effective words) took 0.4s, 317970 effective words/s', 'datetime': '2021-08-15T14:08:01.573259', 'gensim': '4.0.1', 'python': '3.7.4 (default, Aug 13 2019, 15:17:50) \\n[Clang 4.0.1 (tags/RELEASE_401/final)]', 'platform': 'Darwin-19.6.0-x86_64-i386-64bit', 'event': 'train'}\n",
      "100%|██████████| 6822/6822 [00:00<00:00, 3607810.10it/s]\n",
      "2021-08-15 14:08:01,579 | INFO | utils.py:448 | add_lifecycle_event | Doc2Vec lifecycle event {'msg': 'training model with 4 workers on 7224 vocabulary and 100 features, using sg=0 hs=0 sample=0.001 negative=5 window=4', 'datetime': '2021-08-15T14:08:01.579001', 'gensim': '4.0.1', 'python': '3.7.4 (default, Aug 13 2019, 15:17:50) \\n[Clang 4.0.1 (tags/RELEASE_401/final)]', 'platform': 'Darwin-19.6.0-x86_64-i386-64bit', 'event': 'train'}\n",
      "2021-08-15 14:08:01,913 | INFO | word2vec.py:1281 | _log_epoch_progress | worker thread finished; awaiting finish of 3 more threads\n",
      "2021-08-15 14:08:01,938 | INFO | word2vec.py:1281 | _log_epoch_progress | worker thread finished; awaiting finish of 2 more threads\n",
      "2021-08-15 14:08:01,960 | INFO | word2vec.py:1281 | _log_epoch_progress | worker thread finished; awaiting finish of 1 more threads\n",
      "2021-08-15 14:08:01,962 | INFO | word2vec.py:1281 | _log_epoch_progress | worker thread finished; awaiting finish of 0 more threads\n",
      "2021-08-15 14:08:01,962 | INFO | word2vec.py:1624 | _log_epoch_end | EPOCH - 1 : training on 144381 raw words (117753 effective words) took 0.4s, 315069 effective words/s\n",
      "2021-08-15 14:08:01,963 | INFO | utils.py:448 | add_lifecycle_event | Doc2Vec lifecycle event {'msg': 'training on 144381 raw words (117753 effective words) took 0.4s, 308023 effective words/s', 'datetime': '2021-08-15T14:08:01.963353', 'gensim': '4.0.1', 'python': '3.7.4 (default, Aug 13 2019, 15:17:50) \\n[Clang 4.0.1 (tags/RELEASE_401/final)]', 'platform': 'Darwin-19.6.0-x86_64-i386-64bit', 'event': 'train'}\n",
      "100%|██████████| 6822/6822 [00:00<00:00, 3724266.81it/s]\n",
      "2021-08-15 14:08:01,969 | INFO | utils.py:448 | add_lifecycle_event | Doc2Vec lifecycle event {'msg': 'training model with 4 workers on 7224 vocabulary and 100 features, using sg=0 hs=0 sample=0.001 negative=5 window=4', 'datetime': '2021-08-15T14:08:01.969469', 'gensim': '4.0.1', 'python': '3.7.4 (default, Aug 13 2019, 15:17:50) \\n[Clang 4.0.1 (tags/RELEASE_401/final)]', 'platform': 'Darwin-19.6.0-x86_64-i386-64bit', 'event': 'train'}\n",
      "2021-08-15 14:08:02,292 | INFO | word2vec.py:1281 | _log_epoch_progress | worker thread finished; awaiting finish of 3 more threads\n",
      "2021-08-15 14:08:02,317 | INFO | word2vec.py:1281 | _log_epoch_progress | worker thread finished; awaiting finish of 2 more threads\n",
      "2021-08-15 14:08:02,341 | INFO | word2vec.py:1281 | _log_epoch_progress | worker thread finished; awaiting finish of 1 more threads\n",
      "2021-08-15 14:08:02,342 | INFO | word2vec.py:1281 | _log_epoch_progress | worker thread finished; awaiting finish of 0 more threads\n",
      "2021-08-15 14:08:02,343 | INFO | word2vec.py:1624 | _log_epoch_end | EPOCH - 1 : training on 144381 raw words (117771 effective words) took 0.4s, 319910 effective words/s\n",
      "2021-08-15 14:08:02,344 | INFO | utils.py:448 | add_lifecycle_event | Doc2Vec lifecycle event {'msg': 'training on 144381 raw words (117771 effective words) took 0.4s, 314753 effective words/s', 'datetime': '2021-08-15T14:08:02.344426', 'gensim': '4.0.1', 'python': '3.7.4 (default, Aug 13 2019, 15:17:50) \\n[Clang 4.0.1 (tags/RELEASE_401/final)]', 'platform': 'Darwin-19.6.0-x86_64-i386-64bit', 'event': 'train'}\n",
      "100%|██████████| 6822/6822 [00:00<00:00, 3480119.42it/s]\n",
      "2021-08-15 14:08:02,349 | INFO | utils.py:448 | add_lifecycle_event | Doc2Vec lifecycle event {'msg': 'training model with 4 workers on 7224 vocabulary and 100 features, using sg=0 hs=0 sample=0.001 negative=5 window=4', 'datetime': '2021-08-15T14:08:02.349949', 'gensim': '4.0.1', 'python': '3.7.4 (default, Aug 13 2019, 15:17:50) \\n[Clang 4.0.1 (tags/RELEASE_401/final)]', 'platform': 'Darwin-19.6.0-x86_64-i386-64bit', 'event': 'train'}\n",
      "2021-08-15 14:08:02,671 | INFO | word2vec.py:1281 | _log_epoch_progress | worker thread finished; awaiting finish of 3 more threads\n",
      "2021-08-15 14:08:02,695 | INFO | word2vec.py:1281 | _log_epoch_progress | worker thread finished; awaiting finish of 2 more threads\n",
      "2021-08-15 14:08:02,715 | INFO | word2vec.py:1281 | _log_epoch_progress | worker thread finished; awaiting finish of 1 more threads\n",
      "2021-08-15 14:08:02,718 | INFO | word2vec.py:1281 | _log_epoch_progress | worker thread finished; awaiting finish of 0 more threads\n",
      "2021-08-15 14:08:02,719 | INFO | word2vec.py:1624 | _log_epoch_end | EPOCH - 1 : training on 144381 raw words (117644 effective words) took 0.4s, 323924 effective words/s\n",
      "2021-08-15 14:08:02,720 | INFO | utils.py:448 | add_lifecycle_event | Doc2Vec lifecycle event {'msg': 'training on 144381 raw words (117644 effective words) took 0.4s, 317994 effective words/s', 'datetime': '2021-08-15T14:08:02.720509', 'gensim': '4.0.1', 'python': '3.7.4 (default, Aug 13 2019, 15:17:50) \\n[Clang 4.0.1 (tags/RELEASE_401/final)]', 'platform': 'Darwin-19.6.0-x86_64-i386-64bit', 'event': 'train'}\n",
      "100%|██████████| 6822/6822 [00:00<00:00, 3621050.61it/s]\n",
      "2021-08-15 14:08:02,726 | INFO | utils.py:448 | add_lifecycle_event | Doc2Vec lifecycle event {'msg': 'training model with 4 workers on 7224 vocabulary and 100 features, using sg=0 hs=0 sample=0.001 negative=5 window=4', 'datetime': '2021-08-15T14:08:02.726156', 'gensim': '4.0.1', 'python': '3.7.4 (default, Aug 13 2019, 15:17:50) \\n[Clang 4.0.1 (tags/RELEASE_401/final)]', 'platform': 'Darwin-19.6.0-x86_64-i386-64bit', 'event': 'train'}\n",
      "2021-08-15 14:08:03,067 | INFO | word2vec.py:1281 | _log_epoch_progress | worker thread finished; awaiting finish of 3 more threads\n",
      "2021-08-15 14:08:03,091 | INFO | word2vec.py:1281 | _log_epoch_progress | worker thread finished; awaiting finish of 2 more threads\n",
      "2021-08-15 14:08:03,114 | INFO | word2vec.py:1281 | _log_epoch_progress | worker thread finished; awaiting finish of 1 more threads\n",
      "2021-08-15 14:08:03,117 | INFO | word2vec.py:1281 | _log_epoch_progress | worker thread finished; awaiting finish of 0 more threads\n",
      "2021-08-15 14:08:03,117 | INFO | word2vec.py:1624 | _log_epoch_end | EPOCH - 1 : training on 144381 raw words (117495 effective words) took 0.4s, 305150 effective words/s\n",
      "2021-08-15 14:08:03,118 | INFO | utils.py:448 | add_lifecycle_event | Doc2Vec lifecycle event {'msg': 'training on 144381 raw words (117495 effective words) took 0.4s, 300232 effective words/s', 'datetime': '2021-08-15T14:08:03.118186', 'gensim': '4.0.1', 'python': '3.7.4 (default, Aug 13 2019, 15:17:50) \\n[Clang 4.0.1 (tags/RELEASE_401/final)]', 'platform': 'Darwin-19.6.0-x86_64-i386-64bit', 'event': 'train'}\n",
      "100%|██████████| 6822/6822 [00:00<00:00, 3685887.14it/s]\n",
      "2021-08-15 14:08:03,123 | INFO | utils.py:448 | add_lifecycle_event | Doc2Vec lifecycle event {'msg': 'training model with 4 workers on 7224 vocabulary and 100 features, using sg=0 hs=0 sample=0.001 negative=5 window=4', 'datetime': '2021-08-15T14:08:03.123432', 'gensim': '4.0.1', 'python': '3.7.4 (default, Aug 13 2019, 15:17:50) \\n[Clang 4.0.1 (tags/RELEASE_401/final)]', 'platform': 'Darwin-19.6.0-x86_64-i386-64bit', 'event': 'train'}\n",
      "2021-08-15 14:08:03,437 | INFO | word2vec.py:1281 | _log_epoch_progress | worker thread finished; awaiting finish of 3 more threads\n",
      "2021-08-15 14:08:03,460 | INFO | word2vec.py:1281 | _log_epoch_progress | worker thread finished; awaiting finish of 2 more threads\n",
      "2021-08-15 14:08:03,478 | INFO | word2vec.py:1281 | _log_epoch_progress | worker thread finished; awaiting finish of 1 more threads\n",
      "2021-08-15 14:08:03,483 | INFO | word2vec.py:1281 | _log_epoch_progress | worker thread finished; awaiting finish of 0 more threads\n",
      "2021-08-15 14:08:03,484 | INFO | word2vec.py:1624 | _log_epoch_end | EPOCH - 1 : training on 144381 raw words (117619 effective words) took 0.4s, 331526 effective words/s\n"
     ]
    },
    {
     "name": "stderr",
     "output_type": "stream",
     "text": [
      "2021-08-15 14:08:03,485 | INFO | utils.py:448 | add_lifecycle_event | Doc2Vec lifecycle event {'msg': 'training on 144381 raw words (117619 effective words) took 0.4s, 325855 effective words/s', 'datetime': '2021-08-15T14:08:03.485052', 'gensim': '4.0.1', 'python': '3.7.4 (default, Aug 13 2019, 15:17:50) \\n[Clang 4.0.1 (tags/RELEASE_401/final)]', 'platform': 'Darwin-19.6.0-x86_64-i386-64bit', 'event': 'train'}\n",
      "100%|██████████| 6822/6822 [00:00<00:00, 3611908.85it/s]\n",
      "2021-08-15 14:08:03,490 | INFO | utils.py:448 | add_lifecycle_event | Doc2Vec lifecycle event {'msg': 'training model with 4 workers on 7224 vocabulary and 100 features, using sg=0 hs=0 sample=0.001 negative=5 window=4', 'datetime': '2021-08-15T14:08:03.490673', 'gensim': '4.0.1', 'python': '3.7.4 (default, Aug 13 2019, 15:17:50) \\n[Clang 4.0.1 (tags/RELEASE_401/final)]', 'platform': 'Darwin-19.6.0-x86_64-i386-64bit', 'event': 'train'}\n",
      "2021-08-15 14:08:03,808 | INFO | word2vec.py:1281 | _log_epoch_progress | worker thread finished; awaiting finish of 3 more threads\n",
      "2021-08-15 14:08:03,832 | INFO | word2vec.py:1281 | _log_epoch_progress | worker thread finished; awaiting finish of 2 more threads\n",
      "2021-08-15 14:08:03,853 | INFO | word2vec.py:1281 | _log_epoch_progress | worker thread finished; awaiting finish of 1 more threads\n",
      "2021-08-15 14:08:03,854 | INFO | word2vec.py:1281 | _log_epoch_progress | worker thread finished; awaiting finish of 0 more threads\n",
      "2021-08-15 14:08:03,855 | INFO | word2vec.py:1624 | _log_epoch_end | EPOCH - 1 : training on 144381 raw words (117556 effective words) took 0.4s, 327909 effective words/s\n",
      "2021-08-15 14:08:03,855 | INFO | utils.py:448 | add_lifecycle_event | Doc2Vec lifecycle event {'msg': 'training on 144381 raw words (117556 effective words) took 0.4s, 322762 effective words/s', 'datetime': '2021-08-15T14:08:03.855604', 'gensim': '4.0.1', 'python': '3.7.4 (default, Aug 13 2019, 15:17:50) \\n[Clang 4.0.1 (tags/RELEASE_401/final)]', 'platform': 'Darwin-19.6.0-x86_64-i386-64bit', 'event': 'train'}\n",
      "100%|██████████| 6822/6822 [00:00<00:00, 3687312.10it/s]\n",
      "2021-08-15 14:08:03,860 | INFO | utils.py:448 | add_lifecycle_event | Doc2Vec lifecycle event {'msg': 'training model with 4 workers on 7224 vocabulary and 100 features, using sg=0 hs=0 sample=0.001 negative=5 window=4', 'datetime': '2021-08-15T14:08:03.860956', 'gensim': '4.0.1', 'python': '3.7.4 (default, Aug 13 2019, 15:17:50) \\n[Clang 4.0.1 (tags/RELEASE_401/final)]', 'platform': 'Darwin-19.6.0-x86_64-i386-64bit', 'event': 'train'}\n",
      "2021-08-15 14:08:04,167 | INFO | word2vec.py:1281 | _log_epoch_progress | worker thread finished; awaiting finish of 3 more threads\n",
      "2021-08-15 14:08:04,191 | INFO | word2vec.py:1281 | _log_epoch_progress | worker thread finished; awaiting finish of 2 more threads\n",
      "2021-08-15 14:08:04,213 | INFO | word2vec.py:1281 | _log_epoch_progress | worker thread finished; awaiting finish of 1 more threads\n",
      "2021-08-15 14:08:04,215 | INFO | word2vec.py:1281 | _log_epoch_progress | worker thread finished; awaiting finish of 0 more threads\n",
      "2021-08-15 14:08:04,216 | INFO | word2vec.py:1624 | _log_epoch_end | EPOCH - 1 : training on 144381 raw words (117775 effective words) took 0.3s, 336778 effective words/s\n",
      "2021-08-15 14:08:04,216 | INFO | utils.py:448 | add_lifecycle_event | Doc2Vec lifecycle event {'msg': 'training on 144381 raw words (117775 effective words) took 0.4s, 331636 effective words/s', 'datetime': '2021-08-15T14:08:04.216681', 'gensim': '4.0.1', 'python': '3.7.4 (default, Aug 13 2019, 15:17:50) \\n[Clang 4.0.1 (tags/RELEASE_401/final)]', 'platform': 'Darwin-19.6.0-x86_64-i386-64bit', 'event': 'train'}\n",
      "100%|██████████| 6822/6822 [00:00<00:00, 3377026.07it/s]\n",
      "2021-08-15 14:08:04,222 | INFO | utils.py:448 | add_lifecycle_event | Doc2Vec lifecycle event {'msg': 'training model with 4 workers on 7224 vocabulary and 100 features, using sg=0 hs=0 sample=0.001 negative=5 window=4', 'datetime': '2021-08-15T14:08:04.222549', 'gensim': '4.0.1', 'python': '3.7.4 (default, Aug 13 2019, 15:17:50) \\n[Clang 4.0.1 (tags/RELEASE_401/final)]', 'platform': 'Darwin-19.6.0-x86_64-i386-64bit', 'event': 'train'}\n",
      "2021-08-15 14:08:04,548 | INFO | word2vec.py:1281 | _log_epoch_progress | worker thread finished; awaiting finish of 3 more threads\n",
      "2021-08-15 14:08:04,577 | INFO | word2vec.py:1281 | _log_epoch_progress | worker thread finished; awaiting finish of 2 more threads\n",
      "2021-08-15 14:08:04,599 | INFO | word2vec.py:1281 | _log_epoch_progress | worker thread finished; awaiting finish of 1 more threads\n",
      "2021-08-15 14:08:04,605 | INFO | word2vec.py:1281 | _log_epoch_progress | worker thread finished; awaiting finish of 0 more threads\n",
      "2021-08-15 14:08:04,606 | INFO | word2vec.py:1624 | _log_epoch_end | EPOCH - 1 : training on 144381 raw words (117602 effective words) took 0.4s, 311149 effective words/s\n",
      "2021-08-15 14:08:04,607 | INFO | utils.py:448 | add_lifecycle_event | Doc2Vec lifecycle event {'msg': 'training on 144381 raw words (117602 effective words) took 0.4s, 306218 effective words/s', 'datetime': '2021-08-15T14:08:04.607300', 'gensim': '4.0.1', 'python': '3.7.4 (default, Aug 13 2019, 15:17:50) \\n[Clang 4.0.1 (tags/RELEASE_401/final)]', 'platform': 'Darwin-19.6.0-x86_64-i386-64bit', 'event': 'train'}\n",
      "100%|██████████| 6822/6822 [00:00<00:00, 3496705.60it/s]\n",
      "2021-08-15 14:08:04,613 | INFO | utils.py:448 | add_lifecycle_event | Doc2Vec lifecycle event {'msg': 'training model with 4 workers on 7224 vocabulary and 100 features, using sg=0 hs=0 sample=0.001 negative=5 window=4', 'datetime': '2021-08-15T14:08:04.613557', 'gensim': '4.0.1', 'python': '3.7.4 (default, Aug 13 2019, 15:17:50) \\n[Clang 4.0.1 (tags/RELEASE_401/final)]', 'platform': 'Darwin-19.6.0-x86_64-i386-64bit', 'event': 'train'}\n",
      "2021-08-15 14:08:04,920 | INFO | word2vec.py:1281 | _log_epoch_progress | worker thread finished; awaiting finish of 3 more threads\n",
      "2021-08-15 14:08:04,949 | INFO | word2vec.py:1281 | _log_epoch_progress | worker thread finished; awaiting finish of 2 more threads\n",
      "2021-08-15 14:08:04,970 | INFO | word2vec.py:1281 | _log_epoch_progress | worker thread finished; awaiting finish of 1 more threads\n",
      "2021-08-15 14:08:04,971 | INFO | word2vec.py:1281 | _log_epoch_progress | worker thread finished; awaiting finish of 0 more threads\n",
      "2021-08-15 14:08:04,971 | INFO | word2vec.py:1624 | _log_epoch_end | EPOCH - 1 : training on 144381 raw words (117590 effective words) took 0.4s, 335442 effective words/s\n",
      "2021-08-15 14:08:04,972 | INFO | utils.py:448 | add_lifecycle_event | Doc2Vec lifecycle event {'msg': 'training on 144381 raw words (117590 effective words) took 0.4s, 328349 effective words/s', 'datetime': '2021-08-15T14:08:04.972327', 'gensim': '4.0.1', 'python': '3.7.4 (default, Aug 13 2019, 15:17:50) \\n[Clang 4.0.1 (tags/RELEASE_401/final)]', 'platform': 'Darwin-19.6.0-x86_64-i386-64bit', 'event': 'train'}\n",
      "100%|██████████| 6822/6822 [00:00<00:00, 3578481.98it/s]\n",
      "2021-08-15 14:08:04,977 | INFO | utils.py:448 | add_lifecycle_event | Doc2Vec lifecycle event {'msg': 'training model with 4 workers on 7224 vocabulary and 100 features, using sg=0 hs=0 sample=0.001 negative=5 window=4', 'datetime': '2021-08-15T14:08:04.977488', 'gensim': '4.0.1', 'python': '3.7.4 (default, Aug 13 2019, 15:17:50) \\n[Clang 4.0.1 (tags/RELEASE_401/final)]', 'platform': 'Darwin-19.6.0-x86_64-i386-64bit', 'event': 'train'}\n",
      "2021-08-15 14:08:05,296 | INFO | word2vec.py:1281 | _log_epoch_progress | worker thread finished; awaiting finish of 3 more threads\n",
      "2021-08-15 14:08:05,325 | INFO | word2vec.py:1281 | _log_epoch_progress | worker thread finished; awaiting finish of 2 more threads\n",
      "2021-08-15 14:08:05,349 | INFO | word2vec.py:1281 | _log_epoch_progress | worker thread finished; awaiting finish of 1 more threads\n",
      "2021-08-15 14:08:05,351 | INFO | word2vec.py:1281 | _log_epoch_progress | worker thread finished; awaiting finish of 0 more threads\n",
      "2021-08-15 14:08:05,352 | INFO | word2vec.py:1624 | _log_epoch_end | EPOCH - 1 : training on 144381 raw words (117514 effective words) took 0.4s, 318342 effective words/s\n",
      "2021-08-15 14:08:05,353 | INFO | utils.py:448 | add_lifecycle_event | Doc2Vec lifecycle event {'msg': 'training on 144381 raw words (117514 effective words) took 0.4s, 313447 effective words/s', 'datetime': '2021-08-15T14:08:05.353056', 'gensim': '4.0.1', 'python': '3.7.4 (default, Aug 13 2019, 15:17:50) \\n[Clang 4.0.1 (tags/RELEASE_401/final)]', 'platform': 'Darwin-19.6.0-x86_64-i386-64bit', 'event': 'train'}\n"
     ]
    },
    {
     "name": "stderr",
     "output_type": "stream",
     "text": [
      "100%|██████████| 6822/6822 [00:00<00:00, 3350924.22it/s]\n",
      "2021-08-15 14:08:05,360 | INFO | utils.py:448 | add_lifecycle_event | Doc2Vec lifecycle event {'msg': 'training model with 4 workers on 7224 vocabulary and 100 features, using sg=0 hs=0 sample=0.001 negative=5 window=4', 'datetime': '2021-08-15T14:08:05.360196', 'gensim': '4.0.1', 'python': '3.7.4 (default, Aug 13 2019, 15:17:50) \\n[Clang 4.0.1 (tags/RELEASE_401/final)]', 'platform': 'Darwin-19.6.0-x86_64-i386-64bit', 'event': 'train'}\n",
      "2021-08-15 14:08:05,702 | INFO | word2vec.py:1281 | _log_epoch_progress | worker thread finished; awaiting finish of 3 more threads\n",
      "2021-08-15 14:08:05,731 | INFO | word2vec.py:1281 | _log_epoch_progress | worker thread finished; awaiting finish of 2 more threads\n",
      "2021-08-15 14:08:05,748 | INFO | word2vec.py:1281 | _log_epoch_progress | worker thread finished; awaiting finish of 1 more threads\n",
      "2021-08-15 14:08:05,754 | INFO | word2vec.py:1281 | _log_epoch_progress | worker thread finished; awaiting finish of 0 more threads\n",
      "2021-08-15 14:08:05,754 | INFO | word2vec.py:1624 | _log_epoch_end | EPOCH - 1 : training on 144381 raw words (117711 effective words) took 0.4s, 304556 effective words/s\n",
      "2021-08-15 14:08:05,755 | INFO | utils.py:448 | add_lifecycle_event | Doc2Vec lifecycle event {'msg': 'training on 144381 raw words (117711 effective words) took 0.4s, 298693 effective words/s', 'datetime': '2021-08-15T14:08:05.755191', 'gensim': '4.0.1', 'python': '3.7.4 (default, Aug 13 2019, 15:17:50) \\n[Clang 4.0.1 (tags/RELEASE_401/final)]', 'platform': 'Darwin-19.6.0-x86_64-i386-64bit', 'event': 'train'}\n",
      "100%|██████████| 6822/6822 [00:00<00:00, 3609175.31it/s]\n",
      "2021-08-15 14:08:05,761 | INFO | utils.py:448 | add_lifecycle_event | Doc2Vec lifecycle event {'msg': 'training model with 4 workers on 7224 vocabulary and 100 features, using sg=0 hs=0 sample=0.001 negative=5 window=4', 'datetime': '2021-08-15T14:08:05.761063', 'gensim': '4.0.1', 'python': '3.7.4 (default, Aug 13 2019, 15:17:50) \\n[Clang 4.0.1 (tags/RELEASE_401/final)]', 'platform': 'Darwin-19.6.0-x86_64-i386-64bit', 'event': 'train'}\n",
      "2021-08-15 14:08:06,133 | INFO | word2vec.py:1281 | _log_epoch_progress | worker thread finished; awaiting finish of 3 more threads\n",
      "2021-08-15 14:08:06,154 | INFO | word2vec.py:1281 | _log_epoch_progress | worker thread finished; awaiting finish of 2 more threads\n",
      "2021-08-15 14:08:06,156 | INFO | word2vec.py:1281 | _log_epoch_progress | worker thread finished; awaiting finish of 1 more threads\n",
      "2021-08-15 14:08:06,171 | INFO | word2vec.py:1281 | _log_epoch_progress | worker thread finished; awaiting finish of 0 more threads\n",
      "2021-08-15 14:08:06,171 | INFO | word2vec.py:1624 | _log_epoch_end | EPOCH - 1 : training on 144381 raw words (117477 effective words) took 0.4s, 293105 effective words/s\n",
      "2021-08-15 14:08:06,172 | INFO | utils.py:448 | add_lifecycle_event | Doc2Vec lifecycle event {'msg': 'training on 144381 raw words (117477 effective words) took 0.4s, 286550 effective words/s', 'datetime': '2021-08-15T14:08:06.172436', 'gensim': '4.0.1', 'python': '3.7.4 (default, Aug 13 2019, 15:17:50) \\n[Clang 4.0.1 (tags/RELEASE_401/final)]', 'platform': 'Darwin-19.6.0-x86_64-i386-64bit', 'event': 'train'}\n",
      "100%|██████████| 6822/6822 [00:00<00:00, 3652015.56it/s]\n",
      "2021-08-15 14:08:06,178 | INFO | utils.py:448 | add_lifecycle_event | Doc2Vec lifecycle event {'msg': 'training model with 4 workers on 7224 vocabulary and 100 features, using sg=0 hs=0 sample=0.001 negative=5 window=4', 'datetime': '2021-08-15T14:08:06.178031', 'gensim': '4.0.1', 'python': '3.7.4 (default, Aug 13 2019, 15:17:50) \\n[Clang 4.0.1 (tags/RELEASE_401/final)]', 'platform': 'Darwin-19.6.0-x86_64-i386-64bit', 'event': 'train'}\n",
      "2021-08-15 14:08:06,534 | INFO | word2vec.py:1281 | _log_epoch_progress | worker thread finished; awaiting finish of 3 more threads\n",
      "2021-08-15 14:08:06,565 | INFO | word2vec.py:1281 | _log_epoch_progress | worker thread finished; awaiting finish of 2 more threads\n",
      "2021-08-15 14:08:06,594 | INFO | word2vec.py:1281 | _log_epoch_progress | worker thread finished; awaiting finish of 1 more threads\n",
      "2021-08-15 14:08:06,596 | INFO | word2vec.py:1281 | _log_epoch_progress | worker thread finished; awaiting finish of 0 more threads\n",
      "2021-08-15 14:08:06,597 | INFO | word2vec.py:1624 | _log_epoch_end | EPOCH - 1 : training on 144381 raw words (117649 effective words) took 0.4s, 284959 effective words/s\n",
      "2021-08-15 14:08:06,597 | INFO | utils.py:448 | add_lifecycle_event | Doc2Vec lifecycle event {'msg': 'training on 144381 raw words (117649 effective words) took 0.4s, 280928 effective words/s', 'datetime': '2021-08-15T14:08:06.597666', 'gensim': '4.0.1', 'python': '3.7.4 (default, Aug 13 2019, 15:17:50) \\n[Clang 4.0.1 (tags/RELEASE_401/final)]', 'platform': 'Darwin-19.6.0-x86_64-i386-64bit', 'event': 'train'}\n",
      "100%|██████████| 6822/6822 [00:00<00:00, 2403691.35it/s]\n",
      "2021-08-15 14:08:06,604 | INFO | utils.py:448 | add_lifecycle_event | Doc2Vec lifecycle event {'msg': 'training model with 4 workers on 7224 vocabulary and 100 features, using sg=0 hs=0 sample=0.001 negative=5 window=4', 'datetime': '2021-08-15T14:08:06.604609', 'gensim': '4.0.1', 'python': '3.7.4 (default, Aug 13 2019, 15:17:50) \\n[Clang 4.0.1 (tags/RELEASE_401/final)]', 'platform': 'Darwin-19.6.0-x86_64-i386-64bit', 'event': 'train'}\n",
      "2021-08-15 14:08:06,934 | INFO | word2vec.py:1281 | _log_epoch_progress | worker thread finished; awaiting finish of 3 more threads\n",
      "2021-08-15 14:08:06,970 | INFO | word2vec.py:1281 | _log_epoch_progress | worker thread finished; awaiting finish of 2 more threads\n",
      "2021-08-15 14:08:06,988 | INFO | word2vec.py:1281 | _log_epoch_progress | worker thread finished; awaiting finish of 1 more threads\n",
      "2021-08-15 14:08:06,992 | INFO | word2vec.py:1281 | _log_epoch_progress | worker thread finished; awaiting finish of 0 more threads\n",
      "2021-08-15 14:08:06,992 | INFO | word2vec.py:1624 | _log_epoch_end | EPOCH - 1 : training on 144381 raw words (117467 effective words) took 0.4s, 310080 effective words/s\n",
      "2021-08-15 14:08:06,993 | INFO | utils.py:448 | add_lifecycle_event | Doc2Vec lifecycle event {'msg': 'training on 144381 raw words (117467 effective words) took 0.4s, 302599 effective words/s', 'datetime': '2021-08-15T14:08:06.993453', 'gensim': '4.0.1', 'python': '3.7.4 (default, Aug 13 2019, 15:17:50) \\n[Clang 4.0.1 (tags/RELEASE_401/final)]', 'platform': 'Darwin-19.6.0-x86_64-i386-64bit', 'event': 'train'}\n"
     ]
    },
    {
     "name": "stdout",
     "output_type": "stream",
     "text": [
      "CPU times: user 14.7 s, sys: 2.76 s, total: 17.5 s\n",
      "Wall time: 11.8 s\n"
     ]
    }
   ],
   "source": [
    "%%time\n",
    "for epoch in range(30):\n",
    "    model_bg_dmm.train(utils.shuffle([x for x in tqdm(all_x_w2v_bg)]), total_examples=len(all_x_w2v_bg), epochs=1)\n",
    "    model_bg_dmm.alpha -= 0.002\n",
    "    model_bg_dmm.min_alpha = model_bg_dmm.alpha"
   ]
  },
  {
   "cell_type": "code",
   "execution_count": 205,
   "metadata": {},
   "outputs": [],
   "source": [
    "train_vecs_dmm_bg = get_vectors(model_bg_dmm, x_train1, 100)\n",
    "validation_vecs_dmm_bg = get_vectors(model_bg_dmm, x_val1, 100)"
   ]
  },
  {
   "cell_type": "code",
   "execution_count": 206,
   "metadata": {},
   "outputs": [
    {
     "name": "stdout",
     "output_type": "stream",
     "text": [
      "CPU times: user 55.1 ms, sys: 35.5 ms, total: 90.6 ms\n",
      "Wall time: 38.8 ms\n"
     ]
    },
    {
     "data": {
      "text/plain": [
       "LogisticRegression()"
      ]
     },
     "execution_count": 206,
     "metadata": {},
     "output_type": "execute_result"
    }
   ],
   "source": [
    "%%time\n",
    "clf = LogisticRegression()\n",
    "clf.fit(train_vecs_dmm_bg, y_train)"
   ]
  },
  {
   "cell_type": "code",
   "execution_count": 207,
   "metadata": {},
   "outputs": [
    {
     "data": {
      "text/plain": [
       "0.5193434935521688"
      ]
     },
     "execution_count": 207,
     "metadata": {},
     "output_type": "execute_result"
    }
   ],
   "source": [
    "clf.score(validation_vecs_dmm_bg, y_validation)"
   ]
  },
  {
   "cell_type": "code",
   "execution_count": 208,
   "metadata": {},
   "outputs": [
    {
     "name": "stderr",
     "output_type": "stream",
     "text": [
      "/opt/anaconda3/lib/python3.7/site-packages/ipykernel_launcher.py:6: DeprecationWarning: Call to deprecated `docvecs` (The `docvecs` property has been renamed `dv`.).\n",
      "  \n"
     ]
    }
   ],
   "source": [
    "train_vecs_dbow_dmc_bg = get_concat_vectors(model_bg_dbow,model_bg_dmc, x_train1, 200)\n",
    "validation_vecs_dbow_dmc_bg = get_concat_vectors(model_bg_dbow,model_bg_dmc, x_val1, 200)"
   ]
  },
  {
   "cell_type": "code",
   "execution_count": 209,
   "metadata": {},
   "outputs": [
    {
     "name": "stdout",
     "output_type": "stream",
     "text": [
      "CPU times: user 315 ms, sys: 142 ms, total: 457 ms\n",
      "Wall time: 163 ms\n"
     ]
    },
    {
     "name": "stderr",
     "output_type": "stream",
     "text": [
      "/opt/anaconda3/lib/python3.7/site-packages/sklearn/linear_model/_logistic.py:765: ConvergenceWarning: lbfgs failed to converge (status=1):\n",
      "STOP: TOTAL NO. of ITERATIONS REACHED LIMIT.\n",
      "\n",
      "Increase the number of iterations (max_iter) or scale the data as shown in:\n",
      "    https://scikit-learn.org/stable/modules/preprocessing.html\n",
      "Please also refer to the documentation for alternative solver options:\n",
      "    https://scikit-learn.org/stable/modules/linear_model.html#logistic-regression\n",
      "  extra_warning_msg=_LOGISTIC_SOLVER_CONVERGENCE_MSG)\n"
     ]
    },
    {
     "data": {
      "text/plain": [
       "LogisticRegression()"
      ]
     },
     "execution_count": 209,
     "metadata": {},
     "output_type": "execute_result"
    }
   ],
   "source": [
    "%%time\n",
    "clf = LogisticRegression()\n",
    "clf.fit(train_vecs_dbow_dmc_bg, y_train)"
   ]
  },
  {
   "cell_type": "code",
   "execution_count": 210,
   "metadata": {},
   "outputs": [
    {
     "data": {
      "text/plain": [
       "0.5398593200468933"
      ]
     },
     "execution_count": 210,
     "metadata": {},
     "output_type": "execute_result"
    }
   ],
   "source": [
    "clf.score(validation_vecs_dbow_dmc_bg, y_validation)"
   ]
  },
  {
   "cell_type": "code",
   "execution_count": 211,
   "metadata": {},
   "outputs": [
    {
     "name": "stderr",
     "output_type": "stream",
     "text": [
      "/opt/anaconda3/lib/python3.7/site-packages/ipykernel_launcher.py:6: DeprecationWarning: Call to deprecated `docvecs` (The `docvecs` property has been renamed `dv`.).\n",
      "  \n"
     ]
    }
   ],
   "source": [
    "train_vecs_dbow_dmm_bg = get_concat_vectors(model_bg_dbow,model_bg_dmm, x_train1, 200)\n",
    "validation_vecs_dbow_dmm_bg = get_concat_vectors(model_bg_dbow,model_bg_dmm, x_val1, 200)"
   ]
  },
  {
   "cell_type": "code",
   "execution_count": 212,
   "metadata": {},
   "outputs": [
    {
     "name": "stdout",
     "output_type": "stream",
     "text": [
      "CPU times: user 190 ms, sys: 87.8 ms, total: 278 ms\n",
      "Wall time: 96.1 ms\n"
     ]
    },
    {
     "data": {
      "text/plain": [
       "LogisticRegression()"
      ]
     },
     "execution_count": 212,
     "metadata": {},
     "output_type": "execute_result"
    }
   ],
   "source": [
    "%%time\n",
    "clf = LogisticRegression()\n",
    "clf.fit(train_vecs_dbow_dmm_bg, y_train)"
   ]
  },
  {
   "cell_type": "code",
   "execution_count": 213,
   "metadata": {},
   "outputs": [
    {
     "data": {
      "text/plain": [
       "0.5451348182883939"
      ]
     },
     "execution_count": 213,
     "metadata": {},
     "output_type": "execute_result"
    }
   ],
   "source": [
    "clf.score(validation_vecs_dbow_dmm_bg, y_validation)"
   ]
  },
  {
   "cell_type": "code",
   "execution_count": 214,
   "metadata": {},
   "outputs": [
    {
     "name": "stderr",
     "output_type": "stream",
     "text": [
      "2021-08-15 14:09:29,808 | INFO | phrases.py:585 | _learn_vocab | collecting all words and their counts\n",
      "2021-08-15 14:09:29,809 | INFO | phrases.py:590 | _learn_vocab | PROGRESS: at sentence #0, processed 0 words and 0 word types\n",
      "2021-08-15 14:09:30,045 | INFO | phrases.py:611 | _learn_vocab | collected 76187 token types (unigram + bigrams) from a corpus of 108386 words and 5116 sentences\n",
      "2021-08-15 14:09:30,046 | INFO | phrases.py:668 | add_vocab | merged Phrases<76187 vocab, min_count=5, threshold=10.0, max_vocab_size=40000000>\n",
      "2021-08-15 14:09:30,046 | INFO | utils.py:448 | add_lifecycle_event | Phrases lifecycle event {'msg': 'built Phrases<76187 vocab, min_count=5, threshold=10.0, max_vocab_size=40000000> in 0.24s', 'datetime': '2021-08-15T14:09:30.046743', 'gensim': '4.0.1', 'python': '3.7.4 (default, Aug 13 2019, 15:17:50) \\n[Clang 4.0.1 (tags/RELEASE_401/final)]', 'platform': 'Darwin-19.6.0-x86_64-i386-64bit', 'event': 'created'}\n",
      "2021-08-15 14:09:30,047 | INFO | phrases.py:777 | __init__ | exporting phrases from Phrases<76187 vocab, min_count=5, threshold=10.0, max_vocab_size=40000000>\n",
      "2021-08-15 14:09:30,197 | INFO | utils.py:448 | add_lifecycle_event | FrozenPhrases lifecycle event {'msg': 'exported FrozenPhrases<776 phrases, min_count=5, threshold=10.0> from Phrases<76187 vocab, min_count=5, threshold=10.0, max_vocab_size=40000000> in 0.15s', 'datetime': '2021-08-15T14:09:30.197105', 'gensim': '4.0.1', 'python': '3.7.4 (default, Aug 13 2019, 15:17:50) \\n[Clang 4.0.1 (tags/RELEASE_401/final)]', 'platform': 'Darwin-19.6.0-x86_64-i386-64bit', 'event': 'created'}\n"
     ]
    },
    {
     "name": "stdout",
     "output_type": "stream",
     "text": [
      "CPU times: user 373 ms, sys: 9.87 ms, total: 383 ms\n",
      "Wall time: 392 ms\n"
     ]
    }
   ],
   "source": [
    "%%time\n",
    "tg_phrases = Phrases(bigram[tokenized_train])\n",
    "trigram = Phraser(tg_phrases)"
   ]
  },
  {
   "cell_type": "code",
   "execution_count": 215,
   "metadata": {},
   "outputs": [],
   "source": [
    "def labelize_tweets_tg(tweets,label):\n",
    "    result = []\n",
    "    prefix = label\n",
    "    for i, t in zip(tweets.index, tweets):\n",
    "        result.append(TaggedDocument(trigram[bigram[t.split()]], [prefix + '_%s' % i]))\n",
    "    return result"
   ]
  },
  {
   "cell_type": "code",
   "execution_count": 216,
   "metadata": {},
   "outputs": [],
   "source": [
    "all_x_w2v_tg = labelize_tweets_tg(all_x, 'all')"
   ]
  },
  {
   "cell_type": "code",
   "execution_count": 217,
   "metadata": {},
   "outputs": [
    {
     "name": "stderr",
     "output_type": "stream",
     "text": [
      "2021-08-15 14:09:55,054 | INFO | utils.py:448 | add_lifecycle_event | Doc2Vec lifecycle event {'params': 'Doc2Vec(dbow,d100,n5,mc2,s0.001,t4)', 'datetime': '2021-08-15T14:09:55.054099', 'gensim': '4.0.1', 'python': '3.7.4 (default, Aug 13 2019, 15:17:50) \\n[Clang 4.0.1 (tags/RELEASE_401/final)]', 'platform': 'Darwin-19.6.0-x86_64-i386-64bit', 'event': 'created'}\n",
      "100%|██████████| 6822/6822 [00:00<00:00, 2238931.29it/s]\n",
      "2021-08-15 14:09:55,059 | INFO | doc2vec.py:1032 | scan_vocab | collecting all words and their counts\n",
      "2021-08-15 14:09:55,060 | INFO | doc2vec.py:951 | _scan_vocab | PROGRESS: at example #0, processed 0 words (0/s), 0 word types, 0 tags\n",
      "2021-08-15 14:09:55,122 | INFO | doc2vec.py:1040 | scan_vocab | collected 14016 word types and 5116 unique tags from a corpus of 6822 examples and 139352 words\n",
      "2021-08-15 14:09:55,123 | INFO | word2vec.py:626 | prepare_vocab | Creating a fresh vocabulary\n",
      "2021-08-15 14:09:55,151 | INFO | utils.py:448 | add_lifecycle_event | Doc2Vec lifecycle event {'msg': 'effective_min_count=2 retains 7309 unique words (52.147545662100455%% of original 14016, drops 6707)', 'datetime': '2021-08-15T14:09:55.151493', 'gensim': '4.0.1', 'python': '3.7.4 (default, Aug 13 2019, 15:17:50) \\n[Clang 4.0.1 (tags/RELEASE_401/final)]', 'platform': 'Darwin-19.6.0-x86_64-i386-64bit', 'event': 'prepare_vocab'}\n",
      "2021-08-15 14:09:55,152 | INFO | utils.py:448 | add_lifecycle_event | Doc2Vec lifecycle event {'msg': 'effective_min_count=2 leaves 132645 word corpus (95.18700843906079%% of original 139352, drops 6707)', 'datetime': '2021-08-15T14:09:55.152333', 'gensim': '4.0.1', 'python': '3.7.4 (default, Aug 13 2019, 15:17:50) \\n[Clang 4.0.1 (tags/RELEASE_401/final)]', 'platform': 'Darwin-19.6.0-x86_64-i386-64bit', 'event': 'prepare_vocab'}\n",
      "2021-08-15 14:09:55,192 | INFO | word2vec.py:734 | prepare_vocab | deleting the raw counts dictionary of 14016 items\n",
      "2021-08-15 14:09:55,194 | INFO | word2vec.py:737 | prepare_vocab | sample=0.001 downsamples 44 most-common words\n",
      "2021-08-15 14:09:55,195 | INFO | utils.py:448 | add_lifecycle_event | Doc2Vec lifecycle event {'msg': 'downsampling leaves estimated 107352.78086141165 word corpus (80.9%% of prior 132645)', 'datetime': '2021-08-15T14:09:55.195126', 'gensim': '4.0.1', 'python': '3.7.4 (default, Aug 13 2019, 15:17:50) \\n[Clang 4.0.1 (tags/RELEASE_401/final)]', 'platform': 'Darwin-19.6.0-x86_64-i386-64bit', 'event': 'prepare_vocab'}\n",
      "2021-08-15 14:09:55,281 | INFO | word2vec.py:796 | estimate_memory | estimated required memory for 7309 words and 100 dimensions: 12571300 bytes\n",
      "2021-08-15 14:09:55,282 | INFO | word2vec.py:852 | init_weights | resetting layer weights\n"
     ]
    }
   ],
   "source": [
    "model_tg_dbow = Doc2Vec(dm=0, vector_size=100, negative=5, min_count=2, workers=cores, alpha=0.065, min_alpha=0.065)\n",
    "model_tg_dbow.build_vocab([x for x in tqdm(all_x_w2v_tg)])"
   ]
  },
  {
   "cell_type": "code",
   "execution_count": 218,
   "metadata": {},
   "outputs": [
    {
     "name": "stderr",
     "output_type": "stream",
     "text": [
      "100%|██████████| 6822/6822 [00:00<00:00, 2997437.87it/s]\n",
      "2021-08-15 14:10:03,560 | INFO | utils.py:448 | add_lifecycle_event | Doc2Vec lifecycle event {'msg': 'training model with 4 workers on 7309 vocabulary and 100 features, using sg=1 hs=0 sample=0.001 negative=5 window=5', 'datetime': '2021-08-15T14:10:03.560687', 'gensim': '4.0.1', 'python': '3.7.4 (default, Aug 13 2019, 15:17:50) \\n[Clang 4.0.1 (tags/RELEASE_401/final)]', 'platform': 'Darwin-19.6.0-x86_64-i386-64bit', 'event': 'train'}\n",
      "2021-08-15 14:10:03,720 | INFO | word2vec.py:1281 | _log_epoch_progress | worker thread finished; awaiting finish of 3 more threads\n",
      "2021-08-15 14:10:03,724 | INFO | word2vec.py:1281 | _log_epoch_progress | worker thread finished; awaiting finish of 2 more threads\n",
      "2021-08-15 14:10:03,746 | INFO | word2vec.py:1281 | _log_epoch_progress | worker thread finished; awaiting finish of 1 more threads\n",
      "2021-08-15 14:10:03,747 | INFO | word2vec.py:1281 | _log_epoch_progress | worker thread finished; awaiting finish of 0 more threads\n",
      "2021-08-15 14:10:03,748 | INFO | word2vec.py:1624 | _log_epoch_end | EPOCH - 1 : training on 139352 raw words (114150 effective words) took 0.2s, 629222 effective words/s\n",
      "2021-08-15 14:10:03,748 | INFO | utils.py:448 | add_lifecycle_event | Doc2Vec lifecycle event {'msg': 'training on 139352 raw words (114150 effective words) took 0.2s, 609122 effective words/s', 'datetime': '2021-08-15T14:10:03.748778', 'gensim': '4.0.1', 'python': '3.7.4 (default, Aug 13 2019, 15:17:50) \\n[Clang 4.0.1 (tags/RELEASE_401/final)]', 'platform': 'Darwin-19.6.0-x86_64-i386-64bit', 'event': 'train'}\n",
      "100%|██████████| 6822/6822 [00:00<00:00, 3192406.77it/s]\n",
      "2021-08-15 14:10:03,755 | INFO | utils.py:448 | add_lifecycle_event | Doc2Vec lifecycle event {'msg': 'training model with 4 workers on 7309 vocabulary and 100 features, using sg=1 hs=0 sample=0.001 negative=5 window=5', 'datetime': '2021-08-15T14:10:03.754993', 'gensim': '4.0.1', 'python': '3.7.4 (default, Aug 13 2019, 15:17:50) \\n[Clang 4.0.1 (tags/RELEASE_401/final)]', 'platform': 'Darwin-19.6.0-x86_64-i386-64bit', 'event': 'train'}\n",
      "2021-08-15 14:10:03,929 | INFO | word2vec.py:1281 | _log_epoch_progress | worker thread finished; awaiting finish of 3 more threads\n",
      "2021-08-15 14:10:03,931 | INFO | word2vec.py:1281 | _log_epoch_progress | worker thread finished; awaiting finish of 2 more threads\n",
      "2021-08-15 14:10:03,953 | INFO | word2vec.py:1281 | _log_epoch_progress | worker thread finished; awaiting finish of 1 more threads\n",
      "2021-08-15 14:10:03,954 | INFO | word2vec.py:1281 | _log_epoch_progress | worker thread finished; awaiting finish of 0 more threads\n",
      "2021-08-15 14:10:03,955 | INFO | word2vec.py:1624 | _log_epoch_end | EPOCH - 1 : training on 139352 raw words (114141 effective words) took 0.2s, 595335 effective words/s\n",
      "2021-08-15 14:10:03,955 | INFO | utils.py:448 | add_lifecycle_event | Doc2Vec lifecycle event {'msg': 'training on 139352 raw words (114141 effective words) took 0.2s, 571817 effective words/s', 'datetime': '2021-08-15T14:10:03.955655', 'gensim': '4.0.1', 'python': '3.7.4 (default, Aug 13 2019, 15:17:50) \\n[Clang 4.0.1 (tags/RELEASE_401/final)]', 'platform': 'Darwin-19.6.0-x86_64-i386-64bit', 'event': 'train'}\n",
      "100%|██████████| 6822/6822 [00:00<00:00, 3667932.56it/s]\n",
      "2021-08-15 14:10:03,961 | INFO | utils.py:448 | add_lifecycle_event | Doc2Vec lifecycle event {'msg': 'training model with 4 workers on 7309 vocabulary and 100 features, using sg=1 hs=0 sample=0.001 negative=5 window=5', 'datetime': '2021-08-15T14:10:03.961538', 'gensim': '4.0.1', 'python': '3.7.4 (default, Aug 13 2019, 15:17:50) \\n[Clang 4.0.1 (tags/RELEASE_401/final)]', 'platform': 'Darwin-19.6.0-x86_64-i386-64bit', 'event': 'train'}\n",
      "2021-08-15 14:10:04,129 | INFO | word2vec.py:1281 | _log_epoch_progress | worker thread finished; awaiting finish of 3 more threads\n",
      "2021-08-15 14:10:04,131 | INFO | word2vec.py:1281 | _log_epoch_progress | worker thread finished; awaiting finish of 2 more threads\n",
      "2021-08-15 14:10:04,152 | INFO | word2vec.py:1281 | _log_epoch_progress | worker thread finished; awaiting finish of 1 more threads\n",
      "2021-08-15 14:10:04,154 | INFO | word2vec.py:1281 | _log_epoch_progress | worker thread finished; awaiting finish of 0 more threads\n",
      "2021-08-15 14:10:04,154 | INFO | word2vec.py:1624 | _log_epoch_end | EPOCH - 1 : training on 139352 raw words (114335 effective words) took 0.2s, 617785 effective words/s\n",
      "2021-08-15 14:10:04,155 | INFO | utils.py:448 | add_lifecycle_event | Doc2Vec lifecycle event {'msg': 'training on 139352 raw words (114335 effective words) took 0.2s, 594679 effective words/s', 'datetime': '2021-08-15T14:10:04.155135', 'gensim': '4.0.1', 'python': '3.7.4 (default, Aug 13 2019, 15:17:50) \\n[Clang 4.0.1 (tags/RELEASE_401/final)]', 'platform': 'Darwin-19.6.0-x86_64-i386-64bit', 'event': 'train'}\n",
      "100%|██████████| 6822/6822 [00:00<00:00, 2914099.39it/s]\n",
      "2021-08-15 14:10:04,161 | INFO | utils.py:448 | add_lifecycle_event | Doc2Vec lifecycle event {'msg': 'training model with 4 workers on 7309 vocabulary and 100 features, using sg=1 hs=0 sample=0.001 negative=5 window=5', 'datetime': '2021-08-15T14:10:04.161355', 'gensim': '4.0.1', 'python': '3.7.4 (default, Aug 13 2019, 15:17:50) \\n[Clang 4.0.1 (tags/RELEASE_401/final)]', 'platform': 'Darwin-19.6.0-x86_64-i386-64bit', 'event': 'train'}\n",
      "2021-08-15 14:10:04,365 | INFO | word2vec.py:1281 | _log_epoch_progress | worker thread finished; awaiting finish of 3 more threads\n",
      "2021-08-15 14:10:04,366 | INFO | word2vec.py:1281 | _log_epoch_progress | worker thread finished; awaiting finish of 2 more threads\n",
      "2021-08-15 14:10:04,390 | INFO | word2vec.py:1281 | _log_epoch_progress | worker thread finished; awaiting finish of 1 more threads\n",
      "2021-08-15 14:10:04,391 | INFO | word2vec.py:1281 | _log_epoch_progress | worker thread finished; awaiting finish of 0 more threads\n",
      "2021-08-15 14:10:04,391 | INFO | word2vec.py:1624 | _log_epoch_end | EPOCH - 1 : training on 139352 raw words (114183 effective words) took 0.2s, 531835 effective words/s\n",
      "2021-08-15 14:10:04,392 | INFO | utils.py:448 | add_lifecycle_event | Doc2Vec lifecycle event {'msg': 'training on 139352 raw words (114183 effective words) took 0.2s, 500777 effective words/s', 'datetime': '2021-08-15T14:10:04.392162', 'gensim': '4.0.1', 'python': '3.7.4 (default, Aug 13 2019, 15:17:50) \\n[Clang 4.0.1 (tags/RELEASE_401/final)]', 'platform': 'Darwin-19.6.0-x86_64-i386-64bit', 'event': 'train'}\n",
      "100%|██████████| 6822/6822 [00:00<00:00, 3462851.49it/s]\n",
      "2021-08-15 14:10:04,398 | INFO | utils.py:448 | add_lifecycle_event | Doc2Vec lifecycle event {'msg': 'training model with 4 workers on 7309 vocabulary and 100 features, using sg=1 hs=0 sample=0.001 negative=5 window=5', 'datetime': '2021-08-15T14:10:04.398702', 'gensim': '4.0.1', 'python': '3.7.4 (default, Aug 13 2019, 15:17:50) \\n[Clang 4.0.1 (tags/RELEASE_401/final)]', 'platform': 'Darwin-19.6.0-x86_64-i386-64bit', 'event': 'train'}\n",
      "2021-08-15 14:10:04,596 | INFO | word2vec.py:1281 | _log_epoch_progress | worker thread finished; awaiting finish of 3 more threads\n",
      "2021-08-15 14:10:04,599 | INFO | word2vec.py:1281 | _log_epoch_progress | worker thread finished; awaiting finish of 2 more threads\n",
      "2021-08-15 14:10:04,626 | INFO | word2vec.py:1281 | _log_epoch_progress | worker thread finished; awaiting finish of 1 more threads\n",
      "2021-08-15 14:10:04,628 | INFO | word2vec.py:1281 | _log_epoch_progress | worker thread finished; awaiting finish of 0 more threads\n",
      "2021-08-15 14:10:04,628 | INFO | word2vec.py:1624 | _log_epoch_end | EPOCH - 1 : training on 139352 raw words (114101 effective words) took 0.2s, 521252 effective words/s\n",
      "2021-08-15 14:10:04,629 | INFO | utils.py:448 | add_lifecycle_event | Doc2Vec lifecycle event {'msg': 'training on 139352 raw words (114101 effective words) took 0.2s, 496089 effective words/s', 'datetime': '2021-08-15T14:10:04.629488', 'gensim': '4.0.1', 'python': '3.7.4 (default, Aug 13 2019, 15:17:50) \\n[Clang 4.0.1 (tags/RELEASE_401/final)]', 'platform': 'Darwin-19.6.0-x86_64-i386-64bit', 'event': 'train'}\n",
      "100%|██████████| 6822/6822 [00:00<00:00, 3684937.78it/s]\n",
      "2021-08-15 14:10:04,635 | INFO | utils.py:448 | add_lifecycle_event | Doc2Vec lifecycle event {'msg': 'training model with 4 workers on 7309 vocabulary and 100 features, using sg=1 hs=0 sample=0.001 negative=5 window=5', 'datetime': '2021-08-15T14:10:04.635477', 'gensim': '4.0.1', 'python': '3.7.4 (default, Aug 13 2019, 15:17:50) \\n[Clang 4.0.1 (tags/RELEASE_401/final)]', 'platform': 'Darwin-19.6.0-x86_64-i386-64bit', 'event': 'train'}\n"
     ]
    },
    {
     "name": "stderr",
     "output_type": "stream",
     "text": [
      "2021-08-15 14:10:04,833 | INFO | word2vec.py:1281 | _log_epoch_progress | worker thread finished; awaiting finish of 3 more threads\n",
      "2021-08-15 14:10:04,836 | INFO | word2vec.py:1281 | _log_epoch_progress | worker thread finished; awaiting finish of 2 more threads\n",
      "2021-08-15 14:10:04,858 | INFO | word2vec.py:1281 | _log_epoch_progress | worker thread finished; awaiting finish of 1 more threads\n",
      "2021-08-15 14:10:04,860 | INFO | word2vec.py:1281 | _log_epoch_progress | worker thread finished; awaiting finish of 0 more threads\n",
      "2021-08-15 14:10:04,860 | INFO | word2vec.py:1624 | _log_epoch_end | EPOCH - 1 : training on 139352 raw words (114107 effective words) took 0.2s, 520254 effective words/s\n",
      "2021-08-15 14:10:04,861 | INFO | utils.py:448 | add_lifecycle_event | Doc2Vec lifecycle event {'msg': 'training on 139352 raw words (114107 effective words) took 0.2s, 507094 effective words/s', 'datetime': '2021-08-15T14:10:04.861100', 'gensim': '4.0.1', 'python': '3.7.4 (default, Aug 13 2019, 15:17:50) \\n[Clang 4.0.1 (tags/RELEASE_401/final)]', 'platform': 'Darwin-19.6.0-x86_64-i386-64bit', 'event': 'train'}\n",
      "100%|██████████| 6822/6822 [00:00<00:00, 3473360.27it/s]\n",
      "2021-08-15 14:10:04,869 | INFO | utils.py:448 | add_lifecycle_event | Doc2Vec lifecycle event {'msg': 'training model with 4 workers on 7309 vocabulary and 100 features, using sg=1 hs=0 sample=0.001 negative=5 window=5', 'datetime': '2021-08-15T14:10:04.869717', 'gensim': '4.0.1', 'python': '3.7.4 (default, Aug 13 2019, 15:17:50) \\n[Clang 4.0.1 (tags/RELEASE_401/final)]', 'platform': 'Darwin-19.6.0-x86_64-i386-64bit', 'event': 'train'}\n",
      "2021-08-15 14:10:05,054 | INFO | word2vec.py:1281 | _log_epoch_progress | worker thread finished; awaiting finish of 3 more threads\n",
      "2021-08-15 14:10:05,059 | INFO | word2vec.py:1281 | _log_epoch_progress | worker thread finished; awaiting finish of 2 more threads\n",
      "2021-08-15 14:10:05,089 | INFO | word2vec.py:1281 | _log_epoch_progress | worker thread finished; awaiting finish of 1 more threads\n",
      "2021-08-15 14:10:05,096 | INFO | word2vec.py:1281 | _log_epoch_progress | worker thread finished; awaiting finish of 0 more threads\n",
      "2021-08-15 14:10:05,096 | INFO | word2vec.py:1624 | _log_epoch_end | EPOCH - 1 : training on 139352 raw words (114173 effective words) took 0.2s, 524623 effective words/s\n",
      "2021-08-15 14:10:05,097 | INFO | utils.py:448 | add_lifecycle_event | Doc2Vec lifecycle event {'msg': 'training on 139352 raw words (114173 effective words) took 0.2s, 504491 effective words/s', 'datetime': '2021-08-15T14:10:05.097466', 'gensim': '4.0.1', 'python': '3.7.4 (default, Aug 13 2019, 15:17:50) \\n[Clang 4.0.1 (tags/RELEASE_401/final)]', 'platform': 'Darwin-19.6.0-x86_64-i386-64bit', 'event': 'train'}\n",
      "100%|██████████| 6822/6822 [00:00<00:00, 2940452.36it/s]\n",
      "2021-08-15 14:10:05,105 | INFO | utils.py:448 | add_lifecycle_event | Doc2Vec lifecycle event {'msg': 'training model with 4 workers on 7309 vocabulary and 100 features, using sg=1 hs=0 sample=0.001 negative=5 window=5', 'datetime': '2021-08-15T14:10:05.105660', 'gensim': '4.0.1', 'python': '3.7.4 (default, Aug 13 2019, 15:17:50) \\n[Clang 4.0.1 (tags/RELEASE_401/final)]', 'platform': 'Darwin-19.6.0-x86_64-i386-64bit', 'event': 'train'}\n",
      "2021-08-15 14:10:05,273 | INFO | word2vec.py:1281 | _log_epoch_progress | worker thread finished; awaiting finish of 3 more threads\n",
      "2021-08-15 14:10:05,277 | INFO | word2vec.py:1281 | _log_epoch_progress | worker thread finished; awaiting finish of 2 more threads\n",
      "2021-08-15 14:10:05,299 | INFO | word2vec.py:1281 | _log_epoch_progress | worker thread finished; awaiting finish of 1 more threads\n",
      "2021-08-15 14:10:05,301 | INFO | word2vec.py:1281 | _log_epoch_progress | worker thread finished; awaiting finish of 0 more threads\n",
      "2021-08-15 14:10:05,302 | INFO | word2vec.py:1624 | _log_epoch_end | EPOCH - 1 : training on 139352 raw words (114237 effective words) took 0.2s, 604416 effective words/s\n",
      "2021-08-15 14:10:05,302 | INFO | utils.py:448 | add_lifecycle_event | Doc2Vec lifecycle event {'msg': 'training on 139352 raw words (114237 effective words) took 0.2s, 581700 effective words/s', 'datetime': '2021-08-15T14:10:05.302835', 'gensim': '4.0.1', 'python': '3.7.4 (default, Aug 13 2019, 15:17:50) \\n[Clang 4.0.1 (tags/RELEASE_401/final)]', 'platform': 'Darwin-19.6.0-x86_64-i386-64bit', 'event': 'train'}\n",
      "100%|██████████| 6822/6822 [00:00<00:00, 3103757.66it/s]\n",
      "2021-08-15 14:10:05,309 | INFO | utils.py:448 | add_lifecycle_event | Doc2Vec lifecycle event {'msg': 'training model with 4 workers on 7309 vocabulary and 100 features, using sg=1 hs=0 sample=0.001 negative=5 window=5', 'datetime': '2021-08-15T14:10:05.309493', 'gensim': '4.0.1', 'python': '3.7.4 (default, Aug 13 2019, 15:17:50) \\n[Clang 4.0.1 (tags/RELEASE_401/final)]', 'platform': 'Darwin-19.6.0-x86_64-i386-64bit', 'event': 'train'}\n",
      "2021-08-15 14:10:05,471 | INFO | word2vec.py:1281 | _log_epoch_progress | worker thread finished; awaiting finish of 3 more threads\n",
      "2021-08-15 14:10:05,472 | INFO | word2vec.py:1281 | _log_epoch_progress | worker thread finished; awaiting finish of 2 more threads\n",
      "2021-08-15 14:10:05,496 | INFO | word2vec.py:1281 | _log_epoch_progress | worker thread finished; awaiting finish of 1 more threads\n",
      "2021-08-15 14:10:05,497 | INFO | word2vec.py:1281 | _log_epoch_progress | worker thread finished; awaiting finish of 0 more threads\n",
      "2021-08-15 14:10:05,498 | INFO | word2vec.py:1624 | _log_epoch_end | EPOCH - 1 : training on 139352 raw words (114254 effective words) took 0.2s, 650046 effective words/s\n",
      "2021-08-15 14:10:05,499 | INFO | utils.py:448 | add_lifecycle_event | Doc2Vec lifecycle event {'msg': 'training on 139352 raw words (114254 effective words) took 0.2s, 605896 effective words/s', 'datetime': '2021-08-15T14:10:05.499012', 'gensim': '4.0.1', 'python': '3.7.4 (default, Aug 13 2019, 15:17:50) \\n[Clang 4.0.1 (tags/RELEASE_401/final)]', 'platform': 'Darwin-19.6.0-x86_64-i386-64bit', 'event': 'train'}\n",
      "100%|██████████| 6822/6822 [00:00<00:00, 3295731.62it/s]\n",
      "2021-08-15 14:10:05,506 | INFO | utils.py:448 | add_lifecycle_event | Doc2Vec lifecycle event {'msg': 'training model with 4 workers on 7309 vocabulary and 100 features, using sg=1 hs=0 sample=0.001 negative=5 window=5', 'datetime': '2021-08-15T14:10:05.506159', 'gensim': '4.0.1', 'python': '3.7.4 (default, Aug 13 2019, 15:17:50) \\n[Clang 4.0.1 (tags/RELEASE_401/final)]', 'platform': 'Darwin-19.6.0-x86_64-i386-64bit', 'event': 'train'}\n",
      "2021-08-15 14:10:05,685 | INFO | word2vec.py:1281 | _log_epoch_progress | worker thread finished; awaiting finish of 3 more threads\n",
      "2021-08-15 14:10:05,687 | INFO | word2vec.py:1281 | _log_epoch_progress | worker thread finished; awaiting finish of 2 more threads\n",
      "2021-08-15 14:10:05,708 | INFO | word2vec.py:1281 | _log_epoch_progress | worker thread finished; awaiting finish of 1 more threads\n",
      "2021-08-15 14:10:05,709 | INFO | word2vec.py:1281 | _log_epoch_progress | worker thread finished; awaiting finish of 0 more threads\n",
      "2021-08-15 14:10:05,710 | INFO | word2vec.py:1624 | _log_epoch_end | EPOCH - 1 : training on 139352 raw words (114133 effective words) took 0.2s, 577970 effective words/s\n",
      "2021-08-15 14:10:05,710 | INFO | utils.py:448 | add_lifecycle_event | Doc2Vec lifecycle event {'msg': 'training on 139352 raw words (114133 effective words) took 0.2s, 560059 effective words/s', 'datetime': '2021-08-15T14:10:05.710793', 'gensim': '4.0.1', 'python': '3.7.4 (default, Aug 13 2019, 15:17:50) \\n[Clang 4.0.1 (tags/RELEASE_401/final)]', 'platform': 'Darwin-19.6.0-x86_64-i386-64bit', 'event': 'train'}\n",
      "100%|██████████| 6822/6822 [00:00<00:00, 3530792.43it/s]\n",
      "2021-08-15 14:10:05,716 | INFO | utils.py:448 | add_lifecycle_event | Doc2Vec lifecycle event {'msg': 'training model with 4 workers on 7309 vocabulary and 100 features, using sg=1 hs=0 sample=0.001 negative=5 window=5', 'datetime': '2021-08-15T14:10:05.716744', 'gensim': '4.0.1', 'python': '3.7.4 (default, Aug 13 2019, 15:17:50) \\n[Clang 4.0.1 (tags/RELEASE_401/final)]', 'platform': 'Darwin-19.6.0-x86_64-i386-64bit', 'event': 'train'}\n",
      "2021-08-15 14:10:05,880 | INFO | word2vec.py:1281 | _log_epoch_progress | worker thread finished; awaiting finish of 3 more threads\n",
      "2021-08-15 14:10:05,882 | INFO | word2vec.py:1281 | _log_epoch_progress | worker thread finished; awaiting finish of 2 more threads\n"
     ]
    },
    {
     "name": "stderr",
     "output_type": "stream",
     "text": [
      "2021-08-15 14:10:05,906 | INFO | word2vec.py:1281 | _log_epoch_progress | worker thread finished; awaiting finish of 1 more threads\n",
      "2021-08-15 14:10:05,907 | INFO | word2vec.py:1281 | _log_epoch_progress | worker thread finished; awaiting finish of 0 more threads\n",
      "2021-08-15 14:10:05,908 | INFO | word2vec.py:1624 | _log_epoch_end | EPOCH - 1 : training on 139352 raw words (114119 effective words) took 0.2s, 618168 effective words/s\n",
      "2021-08-15 14:10:05,909 | INFO | utils.py:448 | add_lifecycle_event | Doc2Vec lifecycle event {'msg': 'training on 139352 raw words (114119 effective words) took 0.2s, 596340 effective words/s', 'datetime': '2021-08-15T14:10:05.908983', 'gensim': '4.0.1', 'python': '3.7.4 (default, Aug 13 2019, 15:17:50) \\n[Clang 4.0.1 (tags/RELEASE_401/final)]', 'platform': 'Darwin-19.6.0-x86_64-i386-64bit', 'event': 'train'}\n",
      "100%|██████████| 6822/6822 [00:00<00:00, 3516473.13it/s]\n",
      "2021-08-15 14:10:05,914 | INFO | utils.py:448 | add_lifecycle_event | Doc2Vec lifecycle event {'msg': 'training model with 4 workers on 7309 vocabulary and 100 features, using sg=1 hs=0 sample=0.001 negative=5 window=5', 'datetime': '2021-08-15T14:10:05.914732', 'gensim': '4.0.1', 'python': '3.7.4 (default, Aug 13 2019, 15:17:50) \\n[Clang 4.0.1 (tags/RELEASE_401/final)]', 'platform': 'Darwin-19.6.0-x86_64-i386-64bit', 'event': 'train'}\n",
      "2021-08-15 14:10:06,089 | INFO | word2vec.py:1281 | _log_epoch_progress | worker thread finished; awaiting finish of 3 more threads\n",
      "2021-08-15 14:10:06,092 | INFO | word2vec.py:1281 | _log_epoch_progress | worker thread finished; awaiting finish of 2 more threads\n",
      "2021-08-15 14:10:06,116 | INFO | word2vec.py:1281 | _log_epoch_progress | worker thread finished; awaiting finish of 1 more threads\n",
      "2021-08-15 14:10:06,117 | INFO | word2vec.py:1281 | _log_epoch_progress | worker thread finished; awaiting finish of 0 more threads\n",
      "2021-08-15 14:10:06,118 | INFO | word2vec.py:1624 | _log_epoch_end | EPOCH - 1 : training on 139352 raw words (114027 effective words) took 0.2s, 580210 effective words/s\n",
      "2021-08-15 14:10:06,118 | INFO | utils.py:448 | add_lifecycle_event | Doc2Vec lifecycle event {'msg': 'training on 139352 raw words (114027 effective words) took 0.2s, 560719 effective words/s', 'datetime': '2021-08-15T14:10:06.118964', 'gensim': '4.0.1', 'python': '3.7.4 (default, Aug 13 2019, 15:17:50) \\n[Clang 4.0.1 (tags/RELEASE_401/final)]', 'platform': 'Darwin-19.6.0-x86_64-i386-64bit', 'event': 'train'}\n",
      "100%|██████████| 6822/6822 [00:00<00:00, 3323291.74it/s]\n",
      "2021-08-15 14:10:06,124 | INFO | utils.py:448 | add_lifecycle_event | Doc2Vec lifecycle event {'msg': 'training model with 4 workers on 7309 vocabulary and 100 features, using sg=1 hs=0 sample=0.001 negative=5 window=5', 'datetime': '2021-08-15T14:10:06.124931', 'gensim': '4.0.1', 'python': '3.7.4 (default, Aug 13 2019, 15:17:50) \\n[Clang 4.0.1 (tags/RELEASE_401/final)]', 'platform': 'Darwin-19.6.0-x86_64-i386-64bit', 'event': 'train'}\n",
      "2021-08-15 14:10:06,286 | INFO | word2vec.py:1281 | _log_epoch_progress | worker thread finished; awaiting finish of 3 more threads\n",
      "2021-08-15 14:10:06,289 | INFO | word2vec.py:1281 | _log_epoch_progress | worker thread finished; awaiting finish of 2 more threads\n",
      "2021-08-15 14:10:06,311 | INFO | word2vec.py:1281 | _log_epoch_progress | worker thread finished; awaiting finish of 1 more threads\n",
      "2021-08-15 14:10:06,315 | INFO | word2vec.py:1281 | _log_epoch_progress | worker thread finished; awaiting finish of 0 more threads\n",
      "2021-08-15 14:10:06,316 | INFO | word2vec.py:1624 | _log_epoch_end | EPOCH - 1 : training on 139352 raw words (114169 effective words) took 0.2s, 620968 effective words/s\n",
      "2021-08-15 14:10:06,316 | INFO | utils.py:448 | add_lifecycle_event | Doc2Vec lifecycle event {'msg': 'training on 139352 raw words (114169 effective words) took 0.2s, 597821 effective words/s', 'datetime': '2021-08-15T14:10:06.316708', 'gensim': '4.0.1', 'python': '3.7.4 (default, Aug 13 2019, 15:17:50) \\n[Clang 4.0.1 (tags/RELEASE_401/final)]', 'platform': 'Darwin-19.6.0-x86_64-i386-64bit', 'event': 'train'}\n",
      "100%|██████████| 6822/6822 [00:00<00:00, 3561999.49it/s]\n",
      "2021-08-15 14:10:06,323 | INFO | utils.py:448 | add_lifecycle_event | Doc2Vec lifecycle event {'msg': 'training model with 4 workers on 7309 vocabulary and 100 features, using sg=1 hs=0 sample=0.001 negative=5 window=5', 'datetime': '2021-08-15T14:10:06.323800', 'gensim': '4.0.1', 'python': '3.7.4 (default, Aug 13 2019, 15:17:50) \\n[Clang 4.0.1 (tags/RELEASE_401/final)]', 'platform': 'Darwin-19.6.0-x86_64-i386-64bit', 'event': 'train'}\n",
      "2021-08-15 14:10:06,496 | INFO | word2vec.py:1281 | _log_epoch_progress | worker thread finished; awaiting finish of 3 more threads\n",
      "2021-08-15 14:10:06,497 | INFO | word2vec.py:1281 | _log_epoch_progress | worker thread finished; awaiting finish of 2 more threads\n",
      "2021-08-15 14:10:06,523 | INFO | word2vec.py:1281 | _log_epoch_progress | worker thread finished; awaiting finish of 1 more threads\n",
      "2021-08-15 14:10:06,525 | INFO | word2vec.py:1281 | _log_epoch_progress | worker thread finished; awaiting finish of 0 more threads\n",
      "2021-08-15 14:10:06,526 | INFO | word2vec.py:1624 | _log_epoch_end | EPOCH - 1 : training on 139352 raw words (114184 effective words) took 0.2s, 598171 effective words/s\n",
      "2021-08-15 14:10:06,527 | INFO | utils.py:448 | add_lifecycle_event | Doc2Vec lifecycle event {'msg': 'training on 139352 raw words (114184 effective words) took 0.2s, 562950 effective words/s', 'datetime': '2021-08-15T14:10:06.527415', 'gensim': '4.0.1', 'python': '3.7.4 (default, Aug 13 2019, 15:17:50) \\n[Clang 4.0.1 (tags/RELEASE_401/final)]', 'platform': 'Darwin-19.6.0-x86_64-i386-64bit', 'event': 'train'}\n",
      "100%|██████████| 6822/6822 [00:00<00:00, 3619218.55it/s]\n",
      "2021-08-15 14:10:06,532 | INFO | utils.py:448 | add_lifecycle_event | Doc2Vec lifecycle event {'msg': 'training model with 4 workers on 7309 vocabulary and 100 features, using sg=1 hs=0 sample=0.001 negative=5 window=5', 'datetime': '2021-08-15T14:10:06.532936', 'gensim': '4.0.1', 'python': '3.7.4 (default, Aug 13 2019, 15:17:50) \\n[Clang 4.0.1 (tags/RELEASE_401/final)]', 'platform': 'Darwin-19.6.0-x86_64-i386-64bit', 'event': 'train'}\n",
      "2021-08-15 14:10:06,705 | INFO | word2vec.py:1281 | _log_epoch_progress | worker thread finished; awaiting finish of 3 more threads\n",
      "2021-08-15 14:10:06,708 | INFO | word2vec.py:1281 | _log_epoch_progress | worker thread finished; awaiting finish of 2 more threads\n",
      "2021-08-15 14:10:06,730 | INFO | word2vec.py:1281 | _log_epoch_progress | worker thread finished; awaiting finish of 1 more threads\n",
      "2021-08-15 14:10:06,733 | INFO | word2vec.py:1281 | _log_epoch_progress | worker thread finished; awaiting finish of 0 more threads\n",
      "2021-08-15 14:10:06,734 | INFO | word2vec.py:1624 | _log_epoch_end | EPOCH - 1 : training on 139352 raw words (114135 effective words) took 0.2s, 583801 effective words/s\n",
      "2021-08-15 14:10:06,735 | INFO | utils.py:448 | add_lifecycle_event | Doc2Vec lifecycle event {'msg': 'training on 139352 raw words (114135 effective words) took 0.2s, 566006 effective words/s', 'datetime': '2021-08-15T14:10:06.735217', 'gensim': '4.0.1', 'python': '3.7.4 (default, Aug 13 2019, 15:17:50) \\n[Clang 4.0.1 (tags/RELEASE_401/final)]', 'platform': 'Darwin-19.6.0-x86_64-i386-64bit', 'event': 'train'}\n",
      "100%|██████████| 6822/6822 [00:00<00:00, 3634850.34it/s]\n",
      "2021-08-15 14:10:06,742 | INFO | utils.py:448 | add_lifecycle_event | Doc2Vec lifecycle event {'msg': 'training model with 4 workers on 7309 vocabulary and 100 features, using sg=1 hs=0 sample=0.001 negative=5 window=5', 'datetime': '2021-08-15T14:10:06.742505', 'gensim': '4.0.1', 'python': '3.7.4 (default, Aug 13 2019, 15:17:50) \\n[Clang 4.0.1 (tags/RELEASE_401/final)]', 'platform': 'Darwin-19.6.0-x86_64-i386-64bit', 'event': 'train'}\n",
      "2021-08-15 14:10:06,922 | INFO | word2vec.py:1281 | _log_epoch_progress | worker thread finished; awaiting finish of 3 more threads\n",
      "2021-08-15 14:10:06,923 | INFO | word2vec.py:1281 | _log_epoch_progress | worker thread finished; awaiting finish of 2 more threads\n",
      "2021-08-15 14:10:06,950 | INFO | word2vec.py:1281 | _log_epoch_progress | worker thread finished; awaiting finish of 1 more threads\n",
      "2021-08-15 14:10:06,952 | INFO | word2vec.py:1281 | _log_epoch_progress | worker thread finished; awaiting finish of 0 more threads\n"
     ]
    },
    {
     "name": "stderr",
     "output_type": "stream",
     "text": [
      "2021-08-15 14:10:06,952 | INFO | word2vec.py:1624 | _log_epoch_end | EPOCH - 1 : training on 139352 raw words (114190 effective words) took 0.2s, 559439 effective words/s\n",
      "2021-08-15 14:10:06,953 | INFO | utils.py:448 | add_lifecycle_event | Doc2Vec lifecycle event {'msg': 'training on 139352 raw words (114190 effective words) took 0.2s, 543299 effective words/s', 'datetime': '2021-08-15T14:10:06.953471', 'gensim': '4.0.1', 'python': '3.7.4 (default, Aug 13 2019, 15:17:50) \\n[Clang 4.0.1 (tags/RELEASE_401/final)]', 'platform': 'Darwin-19.6.0-x86_64-i386-64bit', 'event': 'train'}\n",
      "100%|██████████| 6822/6822 [00:00<00:00, 3015761.16it/s]\n",
      "2021-08-15 14:10:06,960 | INFO | utils.py:448 | add_lifecycle_event | Doc2Vec lifecycle event {'msg': 'training model with 4 workers on 7309 vocabulary and 100 features, using sg=1 hs=0 sample=0.001 negative=5 window=5', 'datetime': '2021-08-15T14:10:06.960649', 'gensim': '4.0.1', 'python': '3.7.4 (default, Aug 13 2019, 15:17:50) \\n[Clang 4.0.1 (tags/RELEASE_401/final)]', 'platform': 'Darwin-19.6.0-x86_64-i386-64bit', 'event': 'train'}\n",
      "2021-08-15 14:10:07,124 | INFO | word2vec.py:1281 | _log_epoch_progress | worker thread finished; awaiting finish of 3 more threads\n",
      "2021-08-15 14:10:07,127 | INFO | word2vec.py:1281 | _log_epoch_progress | worker thread finished; awaiting finish of 2 more threads\n",
      "2021-08-15 14:10:07,155 | INFO | word2vec.py:1281 | _log_epoch_progress | worker thread finished; awaiting finish of 1 more threads\n",
      "2021-08-15 14:10:07,157 | INFO | word2vec.py:1281 | _log_epoch_progress | worker thread finished; awaiting finish of 0 more threads\n",
      "2021-08-15 14:10:07,157 | INFO | word2vec.py:1624 | _log_epoch_end | EPOCH - 1 : training on 139352 raw words (114065 effective words) took 0.2s, 599425 effective words/s\n",
      "2021-08-15 14:10:07,158 | INFO | utils.py:448 | add_lifecycle_event | Doc2Vec lifecycle event {'msg': 'training on 139352 raw words (114065 effective words) took 0.2s, 579364 effective words/s', 'datetime': '2021-08-15T14:10:07.158355', 'gensim': '4.0.1', 'python': '3.7.4 (default, Aug 13 2019, 15:17:50) \\n[Clang 4.0.1 (tags/RELEASE_401/final)]', 'platform': 'Darwin-19.6.0-x86_64-i386-64bit', 'event': 'train'}\n",
      "100%|██████████| 6822/6822 [00:00<00:00, 3192050.63it/s]\n",
      "2021-08-15 14:10:07,165 | INFO | utils.py:448 | add_lifecycle_event | Doc2Vec lifecycle event {'msg': 'training model with 4 workers on 7309 vocabulary and 100 features, using sg=1 hs=0 sample=0.001 negative=5 window=5', 'datetime': '2021-08-15T14:10:07.165828', 'gensim': '4.0.1', 'python': '3.7.4 (default, Aug 13 2019, 15:17:50) \\n[Clang 4.0.1 (tags/RELEASE_401/final)]', 'platform': 'Darwin-19.6.0-x86_64-i386-64bit', 'event': 'train'}\n",
      "2021-08-15 14:10:07,330 | INFO | word2vec.py:1281 | _log_epoch_progress | worker thread finished; awaiting finish of 3 more threads\n",
      "2021-08-15 14:10:07,334 | INFO | word2vec.py:1281 | _log_epoch_progress | worker thread finished; awaiting finish of 2 more threads\n",
      "2021-08-15 14:10:07,361 | INFO | word2vec.py:1281 | _log_epoch_progress | worker thread finished; awaiting finish of 1 more threads\n",
      "2021-08-15 14:10:07,363 | INFO | word2vec.py:1281 | _log_epoch_progress | worker thread finished; awaiting finish of 0 more threads\n",
      "2021-08-15 14:10:07,363 | INFO | word2vec.py:1624 | _log_epoch_end | EPOCH - 1 : training on 139352 raw words (114263 effective words) took 0.2s, 604250 effective words/s\n",
      "2021-08-15 14:10:07,364 | INFO | utils.py:448 | add_lifecycle_event | Doc2Vec lifecycle event {'msg': 'training on 139352 raw words (114263 effective words) took 0.2s, 581615 effective words/s', 'datetime': '2021-08-15T14:10:07.364356', 'gensim': '4.0.1', 'python': '3.7.4 (default, Aug 13 2019, 15:17:50) \\n[Clang 4.0.1 (tags/RELEASE_401/final)]', 'platform': 'Darwin-19.6.0-x86_64-i386-64bit', 'event': 'train'}\n",
      "100%|██████████| 6822/6822 [00:00<00:00, 3534281.36it/s]\n",
      "2021-08-15 14:10:07,370 | INFO | utils.py:448 | add_lifecycle_event | Doc2Vec lifecycle event {'msg': 'training model with 4 workers on 7309 vocabulary and 100 features, using sg=1 hs=0 sample=0.001 negative=5 window=5', 'datetime': '2021-08-15T14:10:07.370300', 'gensim': '4.0.1', 'python': '3.7.4 (default, Aug 13 2019, 15:17:50) \\n[Clang 4.0.1 (tags/RELEASE_401/final)]', 'platform': 'Darwin-19.6.0-x86_64-i386-64bit', 'event': 'train'}\n",
      "2021-08-15 14:10:07,539 | INFO | word2vec.py:1281 | _log_epoch_progress | worker thread finished; awaiting finish of 3 more threads\n",
      "2021-08-15 14:10:07,543 | INFO | word2vec.py:1281 | _log_epoch_progress | worker thread finished; awaiting finish of 2 more threads\n",
      "2021-08-15 14:10:07,572 | INFO | word2vec.py:1281 | _log_epoch_progress | worker thread finished; awaiting finish of 1 more threads\n",
      "2021-08-15 14:10:07,574 | INFO | word2vec.py:1281 | _log_epoch_progress | worker thread finished; awaiting finish of 0 more threads\n",
      "2021-08-15 14:10:07,575 | INFO | word2vec.py:1624 | _log_epoch_end | EPOCH - 1 : training on 139352 raw words (114175 effective words) took 0.2s, 581428 effective words/s\n",
      "2021-08-15 14:10:07,576 | INFO | utils.py:448 | add_lifecycle_event | Doc2Vec lifecycle event {'msg': 'training on 139352 raw words (114175 effective words) took 0.2s, 557116 effective words/s', 'datetime': '2021-08-15T14:10:07.576037', 'gensim': '4.0.1', 'python': '3.7.4 (default, Aug 13 2019, 15:17:50) \\n[Clang 4.0.1 (tags/RELEASE_401/final)]', 'platform': 'Darwin-19.6.0-x86_64-i386-64bit', 'event': 'train'}\n",
      "100%|██████████| 6822/6822 [00:00<00:00, 3442023.56it/s]\n",
      "2021-08-15 14:10:07,587 | INFO | utils.py:448 | add_lifecycle_event | Doc2Vec lifecycle event {'msg': 'training model with 4 workers on 7309 vocabulary and 100 features, using sg=1 hs=0 sample=0.001 negative=5 window=5', 'datetime': '2021-08-15T14:10:07.587255', 'gensim': '4.0.1', 'python': '3.7.4 (default, Aug 13 2019, 15:17:50) \\n[Clang 4.0.1 (tags/RELEASE_401/final)]', 'platform': 'Darwin-19.6.0-x86_64-i386-64bit', 'event': 'train'}\n",
      "2021-08-15 14:10:07,787 | INFO | word2vec.py:1281 | _log_epoch_progress | worker thread finished; awaiting finish of 3 more threads\n",
      "2021-08-15 14:10:07,794 | INFO | word2vec.py:1281 | _log_epoch_progress | worker thread finished; awaiting finish of 2 more threads\n",
      "2021-08-15 14:10:07,820 | INFO | word2vec.py:1281 | _log_epoch_progress | worker thread finished; awaiting finish of 1 more threads\n",
      "2021-08-15 14:10:07,824 | INFO | word2vec.py:1281 | _log_epoch_progress | worker thread finished; awaiting finish of 0 more threads\n",
      "2021-08-15 14:10:07,824 | INFO | word2vec.py:1624 | _log_epoch_end | EPOCH - 1 : training on 139352 raw words (114093 effective words) took 0.2s, 506149 effective words/s\n",
      "2021-08-15 14:10:07,825 | INFO | utils.py:448 | add_lifecycle_event | Doc2Vec lifecycle event {'msg': 'training on 139352 raw words (114093 effective words) took 0.2s, 480113 effective words/s', 'datetime': '2021-08-15T14:10:07.825919', 'gensim': '4.0.1', 'python': '3.7.4 (default, Aug 13 2019, 15:17:50) \\n[Clang 4.0.1 (tags/RELEASE_401/final)]', 'platform': 'Darwin-19.6.0-x86_64-i386-64bit', 'event': 'train'}\n",
      "100%|██████████| 6822/6822 [00:00<00:00, 3163115.40it/s]\n",
      "2021-08-15 14:10:07,831 | INFO | utils.py:448 | add_lifecycle_event | Doc2Vec lifecycle event {'msg': 'training model with 4 workers on 7309 vocabulary and 100 features, using sg=1 hs=0 sample=0.001 negative=5 window=5', 'datetime': '2021-08-15T14:10:07.831893', 'gensim': '4.0.1', 'python': '3.7.4 (default, Aug 13 2019, 15:17:50) \\n[Clang 4.0.1 (tags/RELEASE_401/final)]', 'platform': 'Darwin-19.6.0-x86_64-i386-64bit', 'event': 'train'}\n",
      "2021-08-15 14:10:08,012 | INFO | word2vec.py:1281 | _log_epoch_progress | worker thread finished; awaiting finish of 3 more threads\n",
      "2021-08-15 14:10:08,015 | INFO | word2vec.py:1281 | _log_epoch_progress | worker thread finished; awaiting finish of 2 more threads\n",
      "2021-08-15 14:10:08,040 | INFO | word2vec.py:1281 | _log_epoch_progress | worker thread finished; awaiting finish of 1 more threads\n",
      "2021-08-15 14:10:08,041 | INFO | word2vec.py:1281 | _log_epoch_progress | worker thread finished; awaiting finish of 0 more threads\n",
      "2021-08-15 14:10:08,042 | INFO | word2vec.py:1624 | _log_epoch_end | EPOCH - 1 : training on 139352 raw words (114130 effective words) took 0.2s, 558686 effective words/s\n"
     ]
    },
    {
     "name": "stderr",
     "output_type": "stream",
     "text": [
      "2021-08-15 14:10:08,042 | INFO | utils.py:448 | add_lifecycle_event | Doc2Vec lifecycle event {'msg': 'training on 139352 raw words (114130 effective words) took 0.2s, 542566 effective words/s', 'datetime': '2021-08-15T14:10:08.042896', 'gensim': '4.0.1', 'python': '3.7.4 (default, Aug 13 2019, 15:17:50) \\n[Clang 4.0.1 (tags/RELEASE_401/final)]', 'platform': 'Darwin-19.6.0-x86_64-i386-64bit', 'event': 'train'}\n",
      "100%|██████████| 6822/6822 [00:00<00:00, 2845136.91it/s]\n",
      "2021-08-15 14:10:08,049 | INFO | utils.py:448 | add_lifecycle_event | Doc2Vec lifecycle event {'msg': 'training model with 4 workers on 7309 vocabulary and 100 features, using sg=1 hs=0 sample=0.001 negative=5 window=5', 'datetime': '2021-08-15T14:10:08.049082', 'gensim': '4.0.1', 'python': '3.7.4 (default, Aug 13 2019, 15:17:50) \\n[Clang 4.0.1 (tags/RELEASE_401/final)]', 'platform': 'Darwin-19.6.0-x86_64-i386-64bit', 'event': 'train'}\n",
      "2021-08-15 14:10:08,219 | INFO | word2vec.py:1281 | _log_epoch_progress | worker thread finished; awaiting finish of 3 more threads\n",
      "2021-08-15 14:10:08,221 | INFO | word2vec.py:1281 | _log_epoch_progress | worker thread finished; awaiting finish of 2 more threads\n",
      "2021-08-15 14:10:08,248 | INFO | word2vec.py:1281 | _log_epoch_progress | worker thread finished; awaiting finish of 1 more threads\n",
      "2021-08-15 14:10:08,250 | INFO | word2vec.py:1281 | _log_epoch_progress | worker thread finished; awaiting finish of 0 more threads\n",
      "2021-08-15 14:10:08,250 | INFO | word2vec.py:1624 | _log_epoch_end | EPOCH - 1 : training on 139352 raw words (114219 effective words) took 0.2s, 588570 effective words/s\n",
      "2021-08-15 14:10:08,251 | INFO | utils.py:448 | add_lifecycle_event | Doc2Vec lifecycle event {'msg': 'training on 139352 raw words (114219 effective words) took 0.2s, 566666 effective words/s', 'datetime': '2021-08-15T14:10:08.251338', 'gensim': '4.0.1', 'python': '3.7.4 (default, Aug 13 2019, 15:17:50) \\n[Clang 4.0.1 (tags/RELEASE_401/final)]', 'platform': 'Darwin-19.6.0-x86_64-i386-64bit', 'event': 'train'}\n",
      "100%|██████████| 6822/6822 [00:00<00:00, 2415664.15it/s]\n",
      "2021-08-15 14:10:08,257 | INFO | utils.py:448 | add_lifecycle_event | Doc2Vec lifecycle event {'msg': 'training model with 4 workers on 7309 vocabulary and 100 features, using sg=1 hs=0 sample=0.001 negative=5 window=5', 'datetime': '2021-08-15T14:10:08.257918', 'gensim': '4.0.1', 'python': '3.7.4 (default, Aug 13 2019, 15:17:50) \\n[Clang 4.0.1 (tags/RELEASE_401/final)]', 'platform': 'Darwin-19.6.0-x86_64-i386-64bit', 'event': 'train'}\n",
      "2021-08-15 14:10:08,430 | INFO | word2vec.py:1281 | _log_epoch_progress | worker thread finished; awaiting finish of 3 more threads\n",
      "2021-08-15 14:10:08,434 | INFO | word2vec.py:1281 | _log_epoch_progress | worker thread finished; awaiting finish of 2 more threads\n",
      "2021-08-15 14:10:08,458 | INFO | word2vec.py:1281 | _log_epoch_progress | worker thread finished; awaiting finish of 1 more threads\n",
      "2021-08-15 14:10:08,461 | INFO | word2vec.py:1281 | _log_epoch_progress | worker thread finished; awaiting finish of 0 more threads\n",
      "2021-08-15 14:10:08,461 | INFO | word2vec.py:1624 | _log_epoch_end | EPOCH - 1 : training on 139352 raw words (114307 effective words) took 0.2s, 577787 effective words/s\n",
      "2021-08-15 14:10:08,462 | INFO | utils.py:448 | add_lifecycle_event | Doc2Vec lifecycle event {'msg': 'training on 139352 raw words (114307 effective words) took 0.2s, 561419 effective words/s', 'datetime': '2021-08-15T14:10:08.462177', 'gensim': '4.0.1', 'python': '3.7.4 (default, Aug 13 2019, 15:17:50) \\n[Clang 4.0.1 (tags/RELEASE_401/final)]', 'platform': 'Darwin-19.6.0-x86_64-i386-64bit', 'event': 'train'}\n",
      "100%|██████████| 6822/6822 [00:00<00:00, 3480542.74it/s]\n",
      "2021-08-15 14:10:08,467 | INFO | utils.py:448 | add_lifecycle_event | Doc2Vec lifecycle event {'msg': 'training model with 4 workers on 7309 vocabulary and 100 features, using sg=1 hs=0 sample=0.001 negative=5 window=5', 'datetime': '2021-08-15T14:10:08.467476', 'gensim': '4.0.1', 'python': '3.7.4 (default, Aug 13 2019, 15:17:50) \\n[Clang 4.0.1 (tags/RELEASE_401/final)]', 'platform': 'Darwin-19.6.0-x86_64-i386-64bit', 'event': 'train'}\n",
      "2021-08-15 14:10:08,646 | INFO | word2vec.py:1281 | _log_epoch_progress | worker thread finished; awaiting finish of 3 more threads\n",
      "2021-08-15 14:10:08,648 | INFO | word2vec.py:1281 | _log_epoch_progress | worker thread finished; awaiting finish of 2 more threads\n",
      "2021-08-15 14:10:08,671 | INFO | word2vec.py:1281 | _log_epoch_progress | worker thread finished; awaiting finish of 1 more threads\n",
      "2021-08-15 14:10:08,672 | INFO | word2vec.py:1281 | _log_epoch_progress | worker thread finished; awaiting finish of 0 more threads\n",
      "2021-08-15 14:10:08,673 | INFO | word2vec.py:1624 | _log_epoch_end | EPOCH - 1 : training on 139352 raw words (114138 effective words) took 0.2s, 570553 effective words/s\n",
      "2021-08-15 14:10:08,673 | INFO | utils.py:448 | add_lifecycle_event | Doc2Vec lifecycle event {'msg': 'training on 139352 raw words (114138 effective words) took 0.2s, 554543 effective words/s', 'datetime': '2021-08-15T14:10:08.673951', 'gensim': '4.0.1', 'python': '3.7.4 (default, Aug 13 2019, 15:17:50) \\n[Clang 4.0.1 (tags/RELEASE_401/final)]', 'platform': 'Darwin-19.6.0-x86_64-i386-64bit', 'event': 'train'}\n",
      "100%|██████████| 6822/6822 [00:00<00:00, 3611452.97it/s]\n",
      "2021-08-15 14:10:08,679 | INFO | utils.py:448 | add_lifecycle_event | Doc2Vec lifecycle event {'msg': 'training model with 4 workers on 7309 vocabulary and 100 features, using sg=1 hs=0 sample=0.001 negative=5 window=5', 'datetime': '2021-08-15T14:10:08.679234', 'gensim': '4.0.1', 'python': '3.7.4 (default, Aug 13 2019, 15:17:50) \\n[Clang 4.0.1 (tags/RELEASE_401/final)]', 'platform': 'Darwin-19.6.0-x86_64-i386-64bit', 'event': 'train'}\n",
      "2021-08-15 14:10:08,846 | INFO | word2vec.py:1281 | _log_epoch_progress | worker thread finished; awaiting finish of 3 more threads\n",
      "2021-08-15 14:10:08,854 | INFO | word2vec.py:1281 | _log_epoch_progress | worker thread finished; awaiting finish of 2 more threads\n",
      "2021-08-15 14:10:08,872 | INFO | word2vec.py:1281 | _log_epoch_progress | worker thread finished; awaiting finish of 1 more threads\n",
      "2021-08-15 14:10:08,875 | INFO | word2vec.py:1281 | _log_epoch_progress | worker thread finished; awaiting finish of 0 more threads\n",
      "2021-08-15 14:10:08,875 | INFO | word2vec.py:1624 | _log_epoch_end | EPOCH - 1 : training on 139352 raw words (114138 effective words) took 0.2s, 598708 effective words/s\n",
      "2021-08-15 14:10:08,876 | INFO | utils.py:448 | add_lifecycle_event | Doc2Vec lifecycle event {'msg': 'training on 139352 raw words (114138 effective words) took 0.2s, 580820 effective words/s', 'datetime': '2021-08-15T14:10:08.876386', 'gensim': '4.0.1', 'python': '3.7.4 (default, Aug 13 2019, 15:17:50) \\n[Clang 4.0.1 (tags/RELEASE_401/final)]', 'platform': 'Darwin-19.6.0-x86_64-i386-64bit', 'event': 'train'}\n",
      "100%|██████████| 6822/6822 [00:00<00:00, 3161368.01it/s]\n",
      "2021-08-15 14:10:08,883 | INFO | utils.py:448 | add_lifecycle_event | Doc2Vec lifecycle event {'msg': 'training model with 4 workers on 7309 vocabulary and 100 features, using sg=1 hs=0 sample=0.001 negative=5 window=5', 'datetime': '2021-08-15T14:10:08.883120', 'gensim': '4.0.1', 'python': '3.7.4 (default, Aug 13 2019, 15:17:50) \\n[Clang 4.0.1 (tags/RELEASE_401/final)]', 'platform': 'Darwin-19.6.0-x86_64-i386-64bit', 'event': 'train'}\n",
      "2021-08-15 14:10:09,036 | INFO | word2vec.py:1281 | _log_epoch_progress | worker thread finished; awaiting finish of 3 more threads\n",
      "2021-08-15 14:10:09,037 | INFO | word2vec.py:1281 | _log_epoch_progress | worker thread finished; awaiting finish of 2 more threads\n",
      "2021-08-15 14:10:09,060 | INFO | word2vec.py:1281 | _log_epoch_progress | worker thread finished; awaiting finish of 1 more threads\n",
      "2021-08-15 14:10:09,062 | INFO | word2vec.py:1281 | _log_epoch_progress | worker thread finished; awaiting finish of 0 more threads\n",
      "2021-08-15 14:10:09,062 | INFO | word2vec.py:1624 | _log_epoch_end | EPOCH - 1 : training on 139352 raw words (114251 effective words) took 0.2s, 671249 effective words/s\n",
      "2021-08-15 14:10:09,063 | INFO | utils.py:448 | add_lifecycle_event | Doc2Vec lifecycle event {'msg': 'training on 139352 raw words (114251 effective words) took 0.2s, 636026 effective words/s', 'datetime': '2021-08-15T14:10:09.063490', 'gensim': '4.0.1', 'python': '3.7.4 (default, Aug 13 2019, 15:17:50) \\n[Clang 4.0.1 (tags/RELEASE_401/final)]', 'platform': 'Darwin-19.6.0-x86_64-i386-64bit', 'event': 'train'}\n"
     ]
    },
    {
     "name": "stderr",
     "output_type": "stream",
     "text": [
      "100%|██████████| 6822/6822 [00:00<00:00, 3529050.55it/s]\n",
      "2021-08-15 14:10:09,069 | INFO | utils.py:448 | add_lifecycle_event | Doc2Vec lifecycle event {'msg': 'training model with 4 workers on 7309 vocabulary and 100 features, using sg=1 hs=0 sample=0.001 negative=5 window=5', 'datetime': '2021-08-15T14:10:09.069073', 'gensim': '4.0.1', 'python': '3.7.4 (default, Aug 13 2019, 15:17:50) \\n[Clang 4.0.1 (tags/RELEASE_401/final)]', 'platform': 'Darwin-19.6.0-x86_64-i386-64bit', 'event': 'train'}\n",
      "2021-08-15 14:10:09,233 | INFO | word2vec.py:1281 | _log_epoch_progress | worker thread finished; awaiting finish of 3 more threads\n",
      "2021-08-15 14:10:09,235 | INFO | word2vec.py:1281 | _log_epoch_progress | worker thread finished; awaiting finish of 2 more threads\n",
      "2021-08-15 14:10:09,261 | INFO | word2vec.py:1281 | _log_epoch_progress | worker thread finished; awaiting finish of 1 more threads\n",
      "2021-08-15 14:10:09,262 | INFO | word2vec.py:1281 | _log_epoch_progress | worker thread finished; awaiting finish of 0 more threads\n",
      "2021-08-15 14:10:09,262 | INFO | word2vec.py:1624 | _log_epoch_end | EPOCH - 1 : training on 139352 raw words (114299 effective words) took 0.2s, 609422 effective words/s\n",
      "2021-08-15 14:10:09,263 | INFO | utils.py:448 | add_lifecycle_event | Doc2Vec lifecycle event {'msg': 'training on 139352 raw words (114299 effective words) took 0.2s, 591186 effective words/s', 'datetime': '2021-08-15T14:10:09.263141', 'gensim': '4.0.1', 'python': '3.7.4 (default, Aug 13 2019, 15:17:50) \\n[Clang 4.0.1 (tags/RELEASE_401/final)]', 'platform': 'Darwin-19.6.0-x86_64-i386-64bit', 'event': 'train'}\n",
      "100%|██████████| 6822/6822 [00:00<00:00, 3597829.99it/s]\n",
      "2021-08-15 14:10:09,268 | INFO | utils.py:448 | add_lifecycle_event | Doc2Vec lifecycle event {'msg': 'training model with 4 workers on 7309 vocabulary and 100 features, using sg=1 hs=0 sample=0.001 negative=5 window=5', 'datetime': '2021-08-15T14:10:09.268907', 'gensim': '4.0.1', 'python': '3.7.4 (default, Aug 13 2019, 15:17:50) \\n[Clang 4.0.1 (tags/RELEASE_401/final)]', 'platform': 'Darwin-19.6.0-x86_64-i386-64bit', 'event': 'train'}\n",
      "2021-08-15 14:10:09,422 | INFO | word2vec.py:1281 | _log_epoch_progress | worker thread finished; awaiting finish of 3 more threads\n",
      "2021-08-15 14:10:09,427 | INFO | word2vec.py:1281 | _log_epoch_progress | worker thread finished; awaiting finish of 2 more threads\n",
      "2021-08-15 14:10:09,450 | INFO | word2vec.py:1281 | _log_epoch_progress | worker thread finished; awaiting finish of 1 more threads\n",
      "2021-08-15 14:10:09,452 | INFO | word2vec.py:1281 | _log_epoch_progress | worker thread finished; awaiting finish of 0 more threads\n",
      "2021-08-15 14:10:09,452 | INFO | word2vec.py:1624 | _log_epoch_end | EPOCH - 1 : training on 139352 raw words (114163 effective words) took 0.2s, 643864 effective words/s\n",
      "2021-08-15 14:10:09,453 | INFO | utils.py:448 | add_lifecycle_event | Doc2Vec lifecycle event {'msg': 'training on 139352 raw words (114163 effective words) took 0.2s, 621273 effective words/s', 'datetime': '2021-08-15T14:10:09.453492', 'gensim': '4.0.1', 'python': '3.7.4 (default, Aug 13 2019, 15:17:50) \\n[Clang 4.0.1 (tags/RELEASE_401/final)]', 'platform': 'Darwin-19.6.0-x86_64-i386-64bit', 'event': 'train'}\n",
      "100%|██████████| 6822/6822 [00:00<00:00, 3066174.66it/s]\n",
      "2021-08-15 14:10:09,459 | INFO | utils.py:448 | add_lifecycle_event | Doc2Vec lifecycle event {'msg': 'training model with 4 workers on 7309 vocabulary and 100 features, using sg=1 hs=0 sample=0.001 negative=5 window=5', 'datetime': '2021-08-15T14:10:09.459143', 'gensim': '4.0.1', 'python': '3.7.4 (default, Aug 13 2019, 15:17:50) \\n[Clang 4.0.1 (tags/RELEASE_401/final)]', 'platform': 'Darwin-19.6.0-x86_64-i386-64bit', 'event': 'train'}\n",
      "2021-08-15 14:10:09,618 | INFO | word2vec.py:1281 | _log_epoch_progress | worker thread finished; awaiting finish of 3 more threads\n",
      "2021-08-15 14:10:09,622 | INFO | word2vec.py:1281 | _log_epoch_progress | worker thread finished; awaiting finish of 2 more threads\n",
      "2021-08-15 14:10:09,645 | INFO | word2vec.py:1281 | _log_epoch_progress | worker thread finished; awaiting finish of 1 more threads\n",
      "2021-08-15 14:10:09,647 | INFO | word2vec.py:1281 | _log_epoch_progress | worker thread finished; awaiting finish of 0 more threads\n",
      "2021-08-15 14:10:09,647 | INFO | word2vec.py:1624 | _log_epoch_end | EPOCH - 1 : training on 139352 raw words (114274 effective words) took 0.2s, 628628 effective words/s\n",
      "2021-08-15 14:10:09,648 | INFO | utils.py:448 | add_lifecycle_event | Doc2Vec lifecycle event {'msg': 'training on 139352 raw words (114274 effective words) took 0.2s, 606479 effective words/s', 'datetime': '2021-08-15T14:10:09.648294', 'gensim': '4.0.1', 'python': '3.7.4 (default, Aug 13 2019, 15:17:50) \\n[Clang 4.0.1 (tags/RELEASE_401/final)]', 'platform': 'Darwin-19.6.0-x86_64-i386-64bit', 'event': 'train'}\n",
      "100%|██████████| 6822/6822 [00:00<00:00, 2991796.52it/s]\n",
      "2021-08-15 14:10:09,654 | INFO | utils.py:448 | add_lifecycle_event | Doc2Vec lifecycle event {'msg': 'training model with 4 workers on 7309 vocabulary and 100 features, using sg=1 hs=0 sample=0.001 negative=5 window=5', 'datetime': '2021-08-15T14:10:09.654367', 'gensim': '4.0.1', 'python': '3.7.4 (default, Aug 13 2019, 15:17:50) \\n[Clang 4.0.1 (tags/RELEASE_401/final)]', 'platform': 'Darwin-19.6.0-x86_64-i386-64bit', 'event': 'train'}\n",
      "2021-08-15 14:10:09,807 | INFO | word2vec.py:1281 | _log_epoch_progress | worker thread finished; awaiting finish of 3 more threads\n",
      "2021-08-15 14:10:09,810 | INFO | word2vec.py:1281 | _log_epoch_progress | worker thread finished; awaiting finish of 2 more threads\n",
      "2021-08-15 14:10:09,833 | INFO | word2vec.py:1281 | _log_epoch_progress | worker thread finished; awaiting finish of 1 more threads\n",
      "2021-08-15 14:10:09,836 | INFO | word2vec.py:1281 | _log_epoch_progress | worker thread finished; awaiting finish of 0 more threads\n",
      "2021-08-15 14:10:09,836 | INFO | word2vec.py:1624 | _log_epoch_end | EPOCH - 1 : training on 139352 raw words (114055 effective words) took 0.2s, 644436 effective words/s\n",
      "2021-08-15 14:10:09,837 | INFO | utils.py:448 | add_lifecycle_event | Doc2Vec lifecycle event {'msg': 'training on 139352 raw words (114055 effective words) took 0.2s, 625993 effective words/s', 'datetime': '2021-08-15T14:10:09.837368', 'gensim': '4.0.1', 'python': '3.7.4 (default, Aug 13 2019, 15:17:50) \\n[Clang 4.0.1 (tags/RELEASE_401/final)]', 'platform': 'Darwin-19.6.0-x86_64-i386-64bit', 'event': 'train'}\n"
     ]
    },
    {
     "name": "stdout",
     "output_type": "stream",
     "text": [
      "CPU times: user 8.69 s, sys: 891 ms, total: 9.58 s\n",
      "Wall time: 6.28 s\n"
     ]
    }
   ],
   "source": [
    "%%time\n",
    "for epoch in range(30):\n",
    "    model_tg_dbow.train(utils.shuffle([x for x in tqdm(all_x_w2v_tg)]), total_examples=len(all_x_w2v_tg), epochs=1)\n",
    "    model_tg_dbow.alpha -= 0.002\n",
    "    model_tg_dbow.min_alpha = model_tg_dbow.alpha"
   ]
  },
  {
   "cell_type": "code",
   "execution_count": 219,
   "metadata": {},
   "outputs": [],
   "source": [
    "train_vecs_dbow_tg = get_vectors(model_tg_dbow, x_train1, 100)\n",
    "validation_vecs_dbow_tg = get_vectors(model_tg_dbow, x_val1, 100)"
   ]
  },
  {
   "cell_type": "code",
   "execution_count": 220,
   "metadata": {},
   "outputs": [
    {
     "name": "stdout",
     "output_type": "stream",
     "text": [
      "CPU times: user 33.3 ms, sys: 20 ms, total: 53.4 ms\n",
      "Wall time: 19.6 ms\n"
     ]
    },
    {
     "data": {
      "text/plain": [
       "LogisticRegression()"
      ]
     },
     "execution_count": 220,
     "metadata": {},
     "output_type": "execute_result"
    }
   ],
   "source": [
    "%%time\n",
    "clf = LogisticRegression()\n",
    "clf.fit(train_vecs_dbow_tg, y_train)"
   ]
  },
  {
   "cell_type": "code",
   "execution_count": 221,
   "metadata": {},
   "outputs": [
    {
     "data": {
      "text/plain": [
       "0.5539273153575616"
      ]
     },
     "execution_count": 221,
     "metadata": {},
     "output_type": "execute_result"
    }
   ],
   "source": [
    "clf.score(validation_vecs_dbow_tg, y_validation)"
   ]
  },
  {
   "cell_type": "code",
   "execution_count": 222,
   "metadata": {},
   "outputs": [
    {
     "name": "stderr",
     "output_type": "stream",
     "text": [
      "2021-08-15 14:10:46,981 | INFO | doc2vec.py:279 | __init__ | using concatenative 500-dimensional layer1\n",
      "2021-08-15 14:10:46,982 | INFO | utils.py:448 | add_lifecycle_event | Doc2Vec lifecycle event {'params': 'Doc2Vec(dm/c,d100,n5,w2,mc2,s0.001,t4)', 'datetime': '2021-08-15T14:10:46.982437', 'gensim': '4.0.1', 'python': '3.7.4 (default, Aug 13 2019, 15:17:50) \\n[Clang 4.0.1 (tags/RELEASE_401/final)]', 'platform': 'Darwin-19.6.0-x86_64-i386-64bit', 'event': 'created'}\n",
      "100%|██████████| 6822/6822 [00:00<00:00, 3523401.29it/s]\n",
      "2021-08-15 14:10:46,986 | INFO | doc2vec.py:1032 | scan_vocab | collecting all words and their counts\n",
      "2021-08-15 14:10:46,987 | INFO | doc2vec.py:951 | _scan_vocab | PROGRESS: at example #0, processed 0 words (0/s), 0 word types, 0 tags\n",
      "2021-08-15 14:10:47,050 | INFO | doc2vec.py:1040 | scan_vocab | collected 14016 word types and 5116 unique tags from a corpus of 6822 examples and 139352 words\n",
      "2021-08-15 14:10:47,050 | INFO | word2vec.py:626 | prepare_vocab | Creating a fresh vocabulary\n",
      "2021-08-15 14:10:47,077 | INFO | utils.py:448 | add_lifecycle_event | Doc2Vec lifecycle event {'msg': 'effective_min_count=2 retains 7309 unique words (52.147545662100455%% of original 14016, drops 6707)', 'datetime': '2021-08-15T14:10:47.077072', 'gensim': '4.0.1', 'python': '3.7.4 (default, Aug 13 2019, 15:17:50) \\n[Clang 4.0.1 (tags/RELEASE_401/final)]', 'platform': 'Darwin-19.6.0-x86_64-i386-64bit', 'event': 'prepare_vocab'}\n",
      "2021-08-15 14:10:47,077 | INFO | utils.py:448 | add_lifecycle_event | Doc2Vec lifecycle event {'msg': 'effective_min_count=2 leaves 132645 word corpus (95.18700843906079%% of original 139352, drops 6707)', 'datetime': '2021-08-15T14:10:47.077820', 'gensim': '4.0.1', 'python': '3.7.4 (default, Aug 13 2019, 15:17:50) \\n[Clang 4.0.1 (tags/RELEASE_401/final)]', 'platform': 'Darwin-19.6.0-x86_64-i386-64bit', 'event': 'prepare_vocab'}\n",
      "2021-08-15 14:10:47,119 | INFO | word2vec.py:734 | prepare_vocab | deleting the raw counts dictionary of 14016 items\n",
      "2021-08-15 14:10:47,120 | INFO | word2vec.py:737 | prepare_vocab | sample=0.001 downsamples 44 most-common words\n",
      "2021-08-15 14:10:47,121 | INFO | utils.py:448 | add_lifecycle_event | Doc2Vec lifecycle event {'msg': 'downsampling leaves estimated 107352.78086141165 word corpus (80.9%% of prior 132645)', 'datetime': '2021-08-15T14:10:47.121333', 'gensim': '4.0.1', 'python': '3.7.4 (default, Aug 13 2019, 15:17:50) \\n[Clang 4.0.1 (tags/RELEASE_401/final)]', 'platform': 'Darwin-19.6.0-x86_64-i386-64bit', 'event': 'prepare_vocab'}\n",
      "2021-08-15 14:10:47,204 | INFO | word2vec.py:796 | estimate_memory | estimated required memory for 7309 words and 100 dimensions: 24265700 bytes\n",
      "2021-08-15 14:10:47,205 | INFO | word2vec.py:852 | init_weights | resetting layer weights\n"
     ]
    }
   ],
   "source": [
    "cores = multiprocessing.cpu_count()\n",
    "model_tg_dmc = Doc2Vec(dm=1, dm_concat=1, vector_size=100, window=2, negative=5, min_count=2, workers=cores, alpha=0.065, min_alpha=0.065)\n",
    "model_tg_dmc.build_vocab([x for x in tqdm(all_x_w2v_tg)])"
   ]
  },
  {
   "cell_type": "code",
   "execution_count": 223,
   "metadata": {},
   "outputs": [
    {
     "name": "stderr",
     "output_type": "stream",
     "text": [
      "100%|██████████| 6822/6822 [00:00<00:00, 3477159.06it/s]\n",
      "2021-08-15 14:10:56,214 | INFO | utils.py:448 | add_lifecycle_event | Doc2Vec lifecycle event {'msg': 'training model with 4 workers on 7310 vocabulary and 500 features, using sg=0 hs=0 sample=0.001 negative=5 window=2', 'datetime': '2021-08-15T14:10:56.214526', 'gensim': '4.0.1', 'python': '3.7.4 (default, Aug 13 2019, 15:17:50) \\n[Clang 4.0.1 (tags/RELEASE_401/final)]', 'platform': 'Darwin-19.6.0-x86_64-i386-64bit', 'event': 'train'}\n",
      "2021-08-15 14:10:56,395 | INFO | word2vec.py:1281 | _log_epoch_progress | worker thread finished; awaiting finish of 3 more threads\n",
      "2021-08-15 14:10:56,397 | INFO | word2vec.py:1281 | _log_epoch_progress | worker thread finished; awaiting finish of 2 more threads\n",
      "2021-08-15 14:10:56,426 | INFO | word2vec.py:1281 | _log_epoch_progress | worker thread finished; awaiting finish of 1 more threads\n",
      "2021-08-15 14:10:56,427 | INFO | word2vec.py:1281 | _log_epoch_progress | worker thread finished; awaiting finish of 0 more threads\n",
      "2021-08-15 14:10:56,427 | INFO | word2vec.py:1624 | _log_epoch_end | EPOCH - 1 : training on 139352 raw words (114220 effective words) took 0.2s, 551863 effective words/s\n",
      "2021-08-15 14:10:56,428 | INFO | utils.py:448 | add_lifecycle_event | Doc2Vec lifecycle event {'msg': 'training on 139352 raw words (114220 effective words) took 0.2s, 535752 effective words/s', 'datetime': '2021-08-15T14:10:56.428471', 'gensim': '4.0.1', 'python': '3.7.4 (default, Aug 13 2019, 15:17:50) \\n[Clang 4.0.1 (tags/RELEASE_401/final)]', 'platform': 'Darwin-19.6.0-x86_64-i386-64bit', 'event': 'train'}\n",
      "100%|██████████| 6822/6822 [00:00<00:00, 3607810.10it/s]\n",
      "2021-08-15 14:10:56,433 | INFO | utils.py:448 | add_lifecycle_event | Doc2Vec lifecycle event {'msg': 'training model with 4 workers on 7310 vocabulary and 500 features, using sg=0 hs=0 sample=0.001 negative=5 window=2', 'datetime': '2021-08-15T14:10:56.433700', 'gensim': '4.0.1', 'python': '3.7.4 (default, Aug 13 2019, 15:17:50) \\n[Clang 4.0.1 (tags/RELEASE_401/final)]', 'platform': 'Darwin-19.6.0-x86_64-i386-64bit', 'event': 'train'}\n",
      "2021-08-15 14:10:56,623 | INFO | word2vec.py:1281 | _log_epoch_progress | worker thread finished; awaiting finish of 3 more threads\n",
      "2021-08-15 14:10:56,625 | INFO | word2vec.py:1281 | _log_epoch_progress | worker thread finished; awaiting finish of 2 more threads\n",
      "2021-08-15 14:10:56,663 | INFO | word2vec.py:1281 | _log_epoch_progress | worker thread finished; awaiting finish of 1 more threads\n",
      "2021-08-15 14:10:56,670 | INFO | word2vec.py:1281 | _log_epoch_progress | worker thread finished; awaiting finish of 0 more threads\n",
      "2021-08-15 14:10:56,671 | INFO | word2vec.py:1624 | _log_epoch_end | EPOCH - 1 : training on 139352 raw words (114172 effective words) took 0.2s, 492575 effective words/s\n",
      "2021-08-15 14:10:56,676 | INFO | utils.py:448 | add_lifecycle_event | Doc2Vec lifecycle event {'msg': 'training on 139352 raw words (114172 effective words) took 0.2s, 472147 effective words/s', 'datetime': '2021-08-15T14:10:56.676170', 'gensim': '4.0.1', 'python': '3.7.4 (default, Aug 13 2019, 15:17:50) \\n[Clang 4.0.1 (tags/RELEASE_401/final)]', 'platform': 'Darwin-19.6.0-x86_64-i386-64bit', 'event': 'train'}\n",
      "100%|██████████| 6822/6822 [00:00<00:00, 3679725.04it/s]\n",
      "2021-08-15 14:10:56,684 | INFO | utils.py:448 | add_lifecycle_event | Doc2Vec lifecycle event {'msg': 'training model with 4 workers on 7310 vocabulary and 500 features, using sg=0 hs=0 sample=0.001 negative=5 window=2', 'datetime': '2021-08-15T14:10:56.684134', 'gensim': '4.0.1', 'python': '3.7.4 (default, Aug 13 2019, 15:17:50) \\n[Clang 4.0.1 (tags/RELEASE_401/final)]', 'platform': 'Darwin-19.6.0-x86_64-i386-64bit', 'event': 'train'}\n",
      "2021-08-15 14:10:56,869 | INFO | word2vec.py:1281 | _log_epoch_progress | worker thread finished; awaiting finish of 3 more threads\n",
      "2021-08-15 14:10:56,875 | INFO | word2vec.py:1281 | _log_epoch_progress | worker thread finished; awaiting finish of 2 more threads\n",
      "2021-08-15 14:10:56,903 | INFO | word2vec.py:1281 | _log_epoch_progress | worker thread finished; awaiting finish of 1 more threads\n",
      "2021-08-15 14:10:56,908 | INFO | word2vec.py:1281 | _log_epoch_progress | worker thread finished; awaiting finish of 0 more threads\n",
      "2021-08-15 14:10:56,909 | INFO | word2vec.py:1624 | _log_epoch_end | EPOCH - 1 : training on 139352 raw words (114132 effective words) took 0.2s, 523243 effective words/s\n",
      "2021-08-15 14:10:56,911 | INFO | utils.py:448 | add_lifecycle_event | Doc2Vec lifecycle event {'msg': 'training on 139352 raw words (114132 effective words) took 0.2s, 504528 effective words/s', 'datetime': '2021-08-15T14:10:56.911903', 'gensim': '4.0.1', 'python': '3.7.4 (default, Aug 13 2019, 15:17:50) \\n[Clang 4.0.1 (tags/RELEASE_401/final)]', 'platform': 'Darwin-19.6.0-x86_64-i386-64bit', 'event': 'train'}\n",
      "100%|██████████| 6822/6822 [00:00<00:00, 3616473.95it/s]\n",
      "2021-08-15 14:10:56,918 | INFO | utils.py:448 | add_lifecycle_event | Doc2Vec lifecycle event {'msg': 'training model with 4 workers on 7310 vocabulary and 500 features, using sg=0 hs=0 sample=0.001 negative=5 window=2', 'datetime': '2021-08-15T14:10:56.918279', 'gensim': '4.0.1', 'python': '3.7.4 (default, Aug 13 2019, 15:17:50) \\n[Clang 4.0.1 (tags/RELEASE_401/final)]', 'platform': 'Darwin-19.6.0-x86_64-i386-64bit', 'event': 'train'}\n",
      "2021-08-15 14:10:57,119 | INFO | word2vec.py:1281 | _log_epoch_progress | worker thread finished; awaiting finish of 3 more threads\n",
      "2021-08-15 14:10:57,126 | INFO | word2vec.py:1281 | _log_epoch_progress | worker thread finished; awaiting finish of 2 more threads\n",
      "2021-08-15 14:10:57,160 | INFO | word2vec.py:1281 | _log_epoch_progress | worker thread finished; awaiting finish of 1 more threads\n",
      "2021-08-15 14:10:57,162 | INFO | word2vec.py:1281 | _log_epoch_progress | worker thread finished; awaiting finish of 0 more threads\n",
      "2021-08-15 14:10:57,163 | INFO | word2vec.py:1624 | _log_epoch_end | EPOCH - 1 : training on 139352 raw words (113994 effective words) took 0.2s, 486177 effective words/s\n",
      "2021-08-15 14:10:57,164 | INFO | utils.py:448 | add_lifecycle_event | Doc2Vec lifecycle event {'msg': 'training on 139352 raw words (113994 effective words) took 0.2s, 465418 effective words/s', 'datetime': '2021-08-15T14:10:57.164214', 'gensim': '4.0.1', 'python': '3.7.4 (default, Aug 13 2019, 15:17:50) \\n[Clang 4.0.1 (tags/RELEASE_401/final)]', 'platform': 'Darwin-19.6.0-x86_64-i386-64bit', 'event': 'train'}\n",
      "100%|██████████| 6822/6822 [00:00<00:00, 3157182.16it/s]\n",
      "2021-08-15 14:10:57,170 | INFO | utils.py:448 | add_lifecycle_event | Doc2Vec lifecycle event {'msg': 'training model with 4 workers on 7310 vocabulary and 500 features, using sg=0 hs=0 sample=0.001 negative=5 window=2', 'datetime': '2021-08-15T14:10:57.170753', 'gensim': '4.0.1', 'python': '3.7.4 (default, Aug 13 2019, 15:17:50) \\n[Clang 4.0.1 (tags/RELEASE_401/final)]', 'platform': 'Darwin-19.6.0-x86_64-i386-64bit', 'event': 'train'}\n",
      "2021-08-15 14:10:57,407 | INFO | word2vec.py:1281 | _log_epoch_progress | worker thread finished; awaiting finish of 3 more threads\n",
      "2021-08-15 14:10:57,411 | INFO | word2vec.py:1281 | _log_epoch_progress | worker thread finished; awaiting finish of 2 more threads\n",
      "2021-08-15 14:10:57,441 | INFO | word2vec.py:1281 | _log_epoch_progress | worker thread finished; awaiting finish of 1 more threads\n",
      "2021-08-15 14:10:57,442 | INFO | word2vec.py:1281 | _log_epoch_progress | worker thread finished; awaiting finish of 0 more threads\n",
      "2021-08-15 14:10:57,443 | INFO | word2vec.py:1624 | _log_epoch_end | EPOCH - 1 : training on 139352 raw words (114168 effective words) took 0.3s, 434841 effective words/s\n",
      "2021-08-15 14:10:57,443 | INFO | utils.py:448 | add_lifecycle_event | Doc2Vec lifecycle event {'msg': 'training on 139352 raw words (114168 effective words) took 0.3s, 420603 effective words/s', 'datetime': '2021-08-15T14:10:57.443525', 'gensim': '4.0.1', 'python': '3.7.4 (default, Aug 13 2019, 15:17:50) \\n[Clang 4.0.1 (tags/RELEASE_401/final)]', 'platform': 'Darwin-19.6.0-x86_64-i386-64bit', 'event': 'train'}\n",
      "100%|██████████| 6822/6822 [00:00<00:00, 3525571.94it/s]\n",
      "2021-08-15 14:10:57,450 | INFO | utils.py:448 | add_lifecycle_event | Doc2Vec lifecycle event {'msg': 'training model with 4 workers on 7310 vocabulary and 500 features, using sg=0 hs=0 sample=0.001 negative=5 window=2', 'datetime': '2021-08-15T14:10:57.450402', 'gensim': '4.0.1', 'python': '3.7.4 (default, Aug 13 2019, 15:17:50) \\n[Clang 4.0.1 (tags/RELEASE_401/final)]', 'platform': 'Darwin-19.6.0-x86_64-i386-64bit', 'event': 'train'}\n"
     ]
    },
    {
     "name": "stderr",
     "output_type": "stream",
     "text": [
      "2021-08-15 14:10:57,713 | INFO | word2vec.py:1281 | _log_epoch_progress | worker thread finished; awaiting finish of 3 more threads\n",
      "2021-08-15 14:10:57,713 | INFO | word2vec.py:1281 | _log_epoch_progress | worker thread finished; awaiting finish of 2 more threads\n",
      "2021-08-15 14:10:57,717 | INFO | word2vec.py:1281 | _log_epoch_progress | worker thread finished; awaiting finish of 1 more threads\n",
      "2021-08-15 14:10:57,742 | INFO | word2vec.py:1281 | _log_epoch_progress | worker thread finished; awaiting finish of 0 more threads\n",
      "2021-08-15 14:10:57,742 | INFO | word2vec.py:1624 | _log_epoch_end | EPOCH - 1 : training on 139352 raw words (114122 effective words) took 0.3s, 403937 effective words/s\n",
      "2021-08-15 14:10:57,743 | INFO | utils.py:448 | add_lifecycle_event | Doc2Vec lifecycle event {'msg': 'training on 139352 raw words (114122 effective words) took 0.3s, 392423 effective words/s', 'datetime': '2021-08-15T14:10:57.743148', 'gensim': '4.0.1', 'python': '3.7.4 (default, Aug 13 2019, 15:17:50) \\n[Clang 4.0.1 (tags/RELEASE_401/final)]', 'platform': 'Darwin-19.6.0-x86_64-i386-64bit', 'event': 'train'}\n",
      "100%|██████████| 6822/6822 [00:00<00:00, 2392036.61it/s]\n",
      "2021-08-15 14:10:57,752 | INFO | utils.py:448 | add_lifecycle_event | Doc2Vec lifecycle event {'msg': 'training model with 4 workers on 7310 vocabulary and 500 features, using sg=0 hs=0 sample=0.001 negative=5 window=2', 'datetime': '2021-08-15T14:10:57.752091', 'gensim': '4.0.1', 'python': '3.7.4 (default, Aug 13 2019, 15:17:50) \\n[Clang 4.0.1 (tags/RELEASE_401/final)]', 'platform': 'Darwin-19.6.0-x86_64-i386-64bit', 'event': 'train'}\n",
      "2021-08-15 14:10:57,949 | INFO | word2vec.py:1281 | _log_epoch_progress | worker thread finished; awaiting finish of 3 more threads\n",
      "2021-08-15 14:10:57,950 | INFO | word2vec.py:1281 | _log_epoch_progress | worker thread finished; awaiting finish of 2 more threads\n",
      "2021-08-15 14:10:57,982 | INFO | word2vec.py:1281 | _log_epoch_progress | worker thread finished; awaiting finish of 1 more threads\n",
      "2021-08-15 14:10:57,984 | INFO | word2vec.py:1281 | _log_epoch_progress | worker thread finished; awaiting finish of 0 more threads\n",
      "2021-08-15 14:10:57,985 | INFO | word2vec.py:1624 | _log_epoch_end | EPOCH - 1 : training on 139352 raw words (114087 effective words) took 0.2s, 504871 effective words/s\n",
      "2021-08-15 14:10:57,985 | INFO | utils.py:448 | add_lifecycle_event | Doc2Vec lifecycle event {'msg': 'training on 139352 raw words (114087 effective words) took 0.2s, 491198 effective words/s', 'datetime': '2021-08-15T14:10:57.985653', 'gensim': '4.0.1', 'python': '3.7.4 (default, Aug 13 2019, 15:17:50) \\n[Clang 4.0.1 (tags/RELEASE_401/final)]', 'platform': 'Darwin-19.6.0-x86_64-i386-64bit', 'event': 'train'}\n",
      "100%|██████████| 6822/6822 [00:00<00:00, 3308688.93it/s]\n",
      "2021-08-15 14:10:57,991 | INFO | utils.py:448 | add_lifecycle_event | Doc2Vec lifecycle event {'msg': 'training model with 4 workers on 7310 vocabulary and 500 features, using sg=0 hs=0 sample=0.001 negative=5 window=2', 'datetime': '2021-08-15T14:10:57.991195', 'gensim': '4.0.1', 'python': '3.7.4 (default, Aug 13 2019, 15:17:50) \\n[Clang 4.0.1 (tags/RELEASE_401/final)]', 'platform': 'Darwin-19.6.0-x86_64-i386-64bit', 'event': 'train'}\n",
      "2021-08-15 14:10:58,170 | INFO | word2vec.py:1281 | _log_epoch_progress | worker thread finished; awaiting finish of 3 more threads\n",
      "2021-08-15 14:10:58,173 | INFO | word2vec.py:1281 | _log_epoch_progress | worker thread finished; awaiting finish of 2 more threads\n",
      "2021-08-15 14:10:58,202 | INFO | word2vec.py:1281 | _log_epoch_progress | worker thread finished; awaiting finish of 1 more threads\n",
      "2021-08-15 14:10:58,203 | INFO | word2vec.py:1281 | _log_epoch_progress | worker thread finished; awaiting finish of 0 more threads\n",
      "2021-08-15 14:10:58,203 | INFO | word2vec.py:1624 | _log_epoch_end | EPOCH - 1 : training on 139352 raw words (114380 effective words) took 0.2s, 554588 effective words/s\n",
      "2021-08-15 14:10:58,204 | INFO | utils.py:448 | add_lifecycle_event | Doc2Vec lifecycle event {'msg': 'training on 139352 raw words (114380 effective words) took 0.2s, 538185 effective words/s', 'datetime': '2021-08-15T14:10:58.204385', 'gensim': '4.0.1', 'python': '3.7.4 (default, Aug 13 2019, 15:17:50) \\n[Clang 4.0.1 (tags/RELEASE_401/final)]', 'platform': 'Darwin-19.6.0-x86_64-i386-64bit', 'event': 'train'}\n",
      "100%|██████████| 6822/6822 [00:00<00:00, 3605991.42it/s]\n",
      "2021-08-15 14:10:58,209 | INFO | utils.py:448 | add_lifecycle_event | Doc2Vec lifecycle event {'msg': 'training model with 4 workers on 7310 vocabulary and 500 features, using sg=0 hs=0 sample=0.001 negative=5 window=2', 'datetime': '2021-08-15T14:10:58.209793', 'gensim': '4.0.1', 'python': '3.7.4 (default, Aug 13 2019, 15:17:50) \\n[Clang 4.0.1 (tags/RELEASE_401/final)]', 'platform': 'Darwin-19.6.0-x86_64-i386-64bit', 'event': 'train'}\n",
      "2021-08-15 14:10:58,393 | INFO | word2vec.py:1281 | _log_epoch_progress | worker thread finished; awaiting finish of 3 more threads\n",
      "2021-08-15 14:10:58,396 | INFO | word2vec.py:1281 | _log_epoch_progress | worker thread finished; awaiting finish of 2 more threads\n",
      "2021-08-15 14:10:58,426 | INFO | word2vec.py:1281 | _log_epoch_progress | worker thread finished; awaiting finish of 1 more threads\n",
      "2021-08-15 14:10:58,427 | INFO | word2vec.py:1281 | _log_epoch_progress | worker thread finished; awaiting finish of 0 more threads\n",
      "2021-08-15 14:10:58,428 | INFO | word2vec.py:1624 | _log_epoch_end | EPOCH - 1 : training on 139352 raw words (114215 effective words) took 0.2s, 538163 effective words/s\n",
      "2021-08-15 14:10:58,429 | INFO | utils.py:448 | add_lifecycle_event | Doc2Vec lifecycle event {'msg': 'training on 139352 raw words (114215 effective words) took 0.2s, 522350 effective words/s', 'datetime': '2021-08-15T14:10:58.429082', 'gensim': '4.0.1', 'python': '3.7.4 (default, Aug 13 2019, 15:17:50) \\n[Clang 4.0.1 (tags/RELEASE_401/final)]', 'platform': 'Darwin-19.6.0-x86_64-i386-64bit', 'event': 'train'}\n",
      "100%|██████████| 6822/6822 [00:00<00:00, 3464948.16it/s]\n",
      "2021-08-15 14:10:58,434 | INFO | utils.py:448 | add_lifecycle_event | Doc2Vec lifecycle event {'msg': 'training model with 4 workers on 7310 vocabulary and 500 features, using sg=0 hs=0 sample=0.001 negative=5 window=2', 'datetime': '2021-08-15T14:10:58.434866', 'gensim': '4.0.1', 'python': '3.7.4 (default, Aug 13 2019, 15:17:50) \\n[Clang 4.0.1 (tags/RELEASE_401/final)]', 'platform': 'Darwin-19.6.0-x86_64-i386-64bit', 'event': 'train'}\n",
      "2021-08-15 14:10:58,603 | INFO | word2vec.py:1281 | _log_epoch_progress | worker thread finished; awaiting finish of 3 more threads\n",
      "2021-08-15 14:10:58,607 | INFO | word2vec.py:1281 | _log_epoch_progress | worker thread finished; awaiting finish of 2 more threads\n",
      "2021-08-15 14:10:58,634 | INFO | word2vec.py:1281 | _log_epoch_progress | worker thread finished; awaiting finish of 1 more threads\n",
      "2021-08-15 14:10:58,636 | INFO | word2vec.py:1281 | _log_epoch_progress | worker thread finished; awaiting finish of 0 more threads\n",
      "2021-08-15 14:10:58,637 | INFO | word2vec.py:1624 | _log_epoch_end | EPOCH - 1 : training on 139352 raw words (114230 effective words) took 0.2s, 587550 effective words/s\n",
      "2021-08-15 14:10:58,637 | INFO | utils.py:448 | add_lifecycle_event | Doc2Vec lifecycle event {'msg': 'training on 139352 raw words (114230 effective words) took 0.2s, 565222 effective words/s', 'datetime': '2021-08-15T14:10:58.637734', 'gensim': '4.0.1', 'python': '3.7.4 (default, Aug 13 2019, 15:17:50) \\n[Clang 4.0.1 (tags/RELEASE_401/final)]', 'platform': 'Darwin-19.6.0-x86_64-i386-64bit', 'event': 'train'}\n",
      "100%|██████████| 6822/6822 [00:00<00:00, 3057982.46it/s]\n",
      "2021-08-15 14:10:58,644 | INFO | utils.py:448 | add_lifecycle_event | Doc2Vec lifecycle event {'msg': 'training model with 4 workers on 7310 vocabulary and 500 features, using sg=0 hs=0 sample=0.001 negative=5 window=2', 'datetime': '2021-08-15T14:10:58.644286', 'gensim': '4.0.1', 'python': '3.7.4 (default, Aug 13 2019, 15:17:50) \\n[Clang 4.0.1 (tags/RELEASE_401/final)]', 'platform': 'Darwin-19.6.0-x86_64-i386-64bit', 'event': 'train'}\n",
      "2021-08-15 14:10:58,825 | INFO | word2vec.py:1281 | _log_epoch_progress | worker thread finished; awaiting finish of 3 more threads\n",
      "2021-08-15 14:10:58,829 | INFO | word2vec.py:1281 | _log_epoch_progress | worker thread finished; awaiting finish of 2 more threads\n"
     ]
    },
    {
     "name": "stderr",
     "output_type": "stream",
     "text": [
      "2021-08-15 14:10:58,859 | INFO | word2vec.py:1281 | _log_epoch_progress | worker thread finished; awaiting finish of 1 more threads\n",
      "2021-08-15 14:10:58,859 | INFO | word2vec.py:1281 | _log_epoch_progress | worker thread finished; awaiting finish of 0 more threads\n",
      "2021-08-15 14:10:58,860 | INFO | word2vec.py:1624 | _log_epoch_end | EPOCH - 1 : training on 139352 raw words (114117 effective words) took 0.2s, 542272 effective words/s\n",
      "2021-08-15 14:10:58,861 | INFO | utils.py:448 | add_lifecycle_event | Doc2Vec lifecycle event {'msg': 'training on 139352 raw words (114117 effective words) took 0.2s, 526054 effective words/s', 'datetime': '2021-08-15T14:10:58.861899', 'gensim': '4.0.1', 'python': '3.7.4 (default, Aug 13 2019, 15:17:50) \\n[Clang 4.0.1 (tags/RELEASE_401/final)]', 'platform': 'Darwin-19.6.0-x86_64-i386-64bit', 'event': 'train'}\n",
      "100%|██████████| 6822/6822 [00:00<00:00, 3471674.58it/s]\n",
      "2021-08-15 14:10:58,868 | INFO | utils.py:448 | add_lifecycle_event | Doc2Vec lifecycle event {'msg': 'training model with 4 workers on 7310 vocabulary and 500 features, using sg=0 hs=0 sample=0.001 negative=5 window=2', 'datetime': '2021-08-15T14:10:58.868747', 'gensim': '4.0.1', 'python': '3.7.4 (default, Aug 13 2019, 15:17:50) \\n[Clang 4.0.1 (tags/RELEASE_401/final)]', 'platform': 'Darwin-19.6.0-x86_64-i386-64bit', 'event': 'train'}\n",
      "2021-08-15 14:10:59,065 | INFO | word2vec.py:1281 | _log_epoch_progress | worker thread finished; awaiting finish of 3 more threads\n",
      "2021-08-15 14:10:59,066 | INFO | word2vec.py:1281 | _log_epoch_progress | worker thread finished; awaiting finish of 2 more threads\n",
      "2021-08-15 14:10:59,098 | INFO | word2vec.py:1281 | _log_epoch_progress | worker thread finished; awaiting finish of 1 more threads\n",
      "2021-08-15 14:10:59,099 | INFO | word2vec.py:1281 | _log_epoch_progress | worker thread finished; awaiting finish of 0 more threads\n",
      "2021-08-15 14:10:59,100 | INFO | word2vec.py:1624 | _log_epoch_end | EPOCH - 1 : training on 139352 raw words (114191 effective words) took 0.2s, 512190 effective words/s\n",
      "2021-08-15 14:10:59,101 | INFO | utils.py:448 | add_lifecycle_event | Doc2Vec lifecycle event {'msg': 'training on 139352 raw words (114191 effective words) took 0.2s, 493068 effective words/s', 'datetime': '2021-08-15T14:10:59.101090', 'gensim': '4.0.1', 'python': '3.7.4 (default, Aug 13 2019, 15:17:50) \\n[Clang 4.0.1 (tags/RELEASE_401/final)]', 'platform': 'Darwin-19.6.0-x86_64-i386-64bit', 'event': 'train'}\n",
      "100%|██████████| 6822/6822 [00:00<00:00, 3677833.15it/s]\n",
      "2021-08-15 14:10:59,106 | INFO | utils.py:448 | add_lifecycle_event | Doc2Vec lifecycle event {'msg': 'training model with 4 workers on 7310 vocabulary and 500 features, using sg=0 hs=0 sample=0.001 negative=5 window=2', 'datetime': '2021-08-15T14:10:59.106540', 'gensim': '4.0.1', 'python': '3.7.4 (default, Aug 13 2019, 15:17:50) \\n[Clang 4.0.1 (tags/RELEASE_401/final)]', 'platform': 'Darwin-19.6.0-x86_64-i386-64bit', 'event': 'train'}\n",
      "2021-08-15 14:10:59,276 | INFO | word2vec.py:1281 | _log_epoch_progress | worker thread finished; awaiting finish of 3 more threads\n",
      "2021-08-15 14:10:59,280 | INFO | word2vec.py:1281 | _log_epoch_progress | worker thread finished; awaiting finish of 2 more threads\n",
      "2021-08-15 14:10:59,309 | INFO | word2vec.py:1281 | _log_epoch_progress | worker thread finished; awaiting finish of 1 more threads\n",
      "2021-08-15 14:10:59,310 | INFO | word2vec.py:1281 | _log_epoch_progress | worker thread finished; awaiting finish of 0 more threads\n",
      "2021-08-15 14:10:59,311 | INFO | word2vec.py:1624 | _log_epoch_end | EPOCH - 1 : training on 139352 raw words (114157 effective words) took 0.2s, 577711 effective words/s\n",
      "2021-08-15 14:10:59,311 | INFO | utils.py:448 | add_lifecycle_event | Doc2Vec lifecycle event {'msg': 'training on 139352 raw words (114157 effective words) took 0.2s, 558747 effective words/s', 'datetime': '2021-08-15T14:10:59.311554', 'gensim': '4.0.1', 'python': '3.7.4 (default, Aug 13 2019, 15:17:50) \\n[Clang 4.0.1 (tags/RELEASE_401/final)]', 'platform': 'Darwin-19.6.0-x86_64-i386-64bit', 'event': 'train'}\n",
      "100%|██████████| 6822/6822 [00:00<00:00, 3432938.44it/s]\n",
      "2021-08-15 14:10:59,317 | INFO | utils.py:448 | add_lifecycle_event | Doc2Vec lifecycle event {'msg': 'training model with 4 workers on 7310 vocabulary and 500 features, using sg=0 hs=0 sample=0.001 negative=5 window=2', 'datetime': '2021-08-15T14:10:59.317444', 'gensim': '4.0.1', 'python': '3.7.4 (default, Aug 13 2019, 15:17:50) \\n[Clang 4.0.1 (tags/RELEASE_401/final)]', 'platform': 'Darwin-19.6.0-x86_64-i386-64bit', 'event': 'train'}\n",
      "2021-08-15 14:10:59,480 | INFO | word2vec.py:1281 | _log_epoch_progress | worker thread finished; awaiting finish of 3 more threads\n",
      "2021-08-15 14:10:59,483 | INFO | word2vec.py:1281 | _log_epoch_progress | worker thread finished; awaiting finish of 2 more threads\n",
      "2021-08-15 14:10:59,526 | INFO | word2vec.py:1281 | _log_epoch_progress | worker thread finished; awaiting finish of 1 more threads\n",
      "2021-08-15 14:10:59,529 | INFO | word2vec.py:1281 | _log_epoch_progress | worker thread finished; awaiting finish of 0 more threads\n",
      "2021-08-15 14:10:59,531 | INFO | word2vec.py:1624 | _log_epoch_end | EPOCH - 1 : training on 139352 raw words (114234 effective words) took 0.2s, 556098 effective words/s\n",
      "2021-08-15 14:10:59,532 | INFO | utils.py:448 | add_lifecycle_event | Doc2Vec lifecycle event {'msg': 'training on 139352 raw words (114234 effective words) took 0.2s, 533457 effective words/s', 'datetime': '2021-08-15T14:10:59.532381', 'gensim': '4.0.1', 'python': '3.7.4 (default, Aug 13 2019, 15:17:50) \\n[Clang 4.0.1 (tags/RELEASE_401/final)]', 'platform': 'Darwin-19.6.0-x86_64-i386-64bit', 'event': 'train'}\n",
      "100%|██████████| 6822/6822 [00:00<00:00, 3471674.58it/s]\n",
      "2021-08-15 14:10:59,540 | INFO | utils.py:448 | add_lifecycle_event | Doc2Vec lifecycle event {'msg': 'training model with 4 workers on 7310 vocabulary and 500 features, using sg=0 hs=0 sample=0.001 negative=5 window=2', 'datetime': '2021-08-15T14:10:59.540613', 'gensim': '4.0.1', 'python': '3.7.4 (default, Aug 13 2019, 15:17:50) \\n[Clang 4.0.1 (tags/RELEASE_401/final)]', 'platform': 'Darwin-19.6.0-x86_64-i386-64bit', 'event': 'train'}\n",
      "2021-08-15 14:10:59,716 | INFO | word2vec.py:1281 | _log_epoch_progress | worker thread finished; awaiting finish of 3 more threads\n",
      "2021-08-15 14:10:59,720 | INFO | word2vec.py:1281 | _log_epoch_progress | worker thread finished; awaiting finish of 2 more threads\n",
      "2021-08-15 14:10:59,754 | INFO | word2vec.py:1281 | _log_epoch_progress | worker thread finished; awaiting finish of 1 more threads\n",
      "2021-08-15 14:10:59,755 | INFO | word2vec.py:1281 | _log_epoch_progress | worker thread finished; awaiting finish of 0 more threads\n",
      "2021-08-15 14:10:59,756 | INFO | word2vec.py:1624 | _log_epoch_end | EPOCH - 1 : training on 139352 raw words (114165 effective words) took 0.2s, 545711 effective words/s\n",
      "2021-08-15 14:10:59,757 | INFO | utils.py:448 | add_lifecycle_event | Doc2Vec lifecycle event {'msg': 'training on 139352 raw words (114165 effective words) took 0.2s, 528977 effective words/s', 'datetime': '2021-08-15T14:10:59.757176', 'gensim': '4.0.1', 'python': '3.7.4 (default, Aug 13 2019, 15:17:50) \\n[Clang 4.0.1 (tags/RELEASE_401/final)]', 'platform': 'Darwin-19.6.0-x86_64-i386-64bit', 'event': 'train'}\n",
      "100%|██████████| 6822/6822 [00:00<00:00, 2949545.60it/s]\n",
      "2021-08-15 14:10:59,765 | INFO | utils.py:448 | add_lifecycle_event | Doc2Vec lifecycle event {'msg': 'training model with 4 workers on 7310 vocabulary and 500 features, using sg=0 hs=0 sample=0.001 negative=5 window=2', 'datetime': '2021-08-15T14:10:59.765614', 'gensim': '4.0.1', 'python': '3.7.4 (default, Aug 13 2019, 15:17:50) \\n[Clang 4.0.1 (tags/RELEASE_401/final)]', 'platform': 'Darwin-19.6.0-x86_64-i386-64bit', 'event': 'train'}\n",
      "2021-08-15 14:10:59,965 | INFO | word2vec.py:1281 | _log_epoch_progress | worker thread finished; awaiting finish of 3 more threads\n",
      "2021-08-15 14:10:59,969 | INFO | word2vec.py:1281 | _log_epoch_progress | worker thread finished; awaiting finish of 2 more threads\n",
      "2021-08-15 14:10:59,995 | INFO | word2vec.py:1281 | _log_epoch_progress | worker thread finished; awaiting finish of 1 more threads\n",
      "2021-08-15 14:10:59,996 | INFO | word2vec.py:1281 | _log_epoch_progress | worker thread finished; awaiting finish of 0 more threads\n"
     ]
    },
    {
     "name": "stderr",
     "output_type": "stream",
     "text": [
      "2021-08-15 14:10:59,997 | INFO | word2vec.py:1624 | _log_epoch_end | EPOCH - 1 : training on 139352 raw words (114054 effective words) took 0.2s, 511297 effective words/s\n",
      "2021-08-15 14:10:59,998 | INFO | utils.py:448 | add_lifecycle_event | Doc2Vec lifecycle event {'msg': 'training on 139352 raw words (114054 effective words) took 0.2s, 493105 effective words/s', 'datetime': '2021-08-15T14:10:59.998550', 'gensim': '4.0.1', 'python': '3.7.4 (default, Aug 13 2019, 15:17:50) \\n[Clang 4.0.1 (tags/RELEASE_401/final)]', 'platform': 'Darwin-19.6.0-x86_64-i386-64bit', 'event': 'train'}\n",
      "100%|██████████| 6822/6822 [00:00<00:00, 2738662.13it/s]\n",
      "2021-08-15 14:11:00,007 | INFO | utils.py:448 | add_lifecycle_event | Doc2Vec lifecycle event {'msg': 'training model with 4 workers on 7310 vocabulary and 500 features, using sg=0 hs=0 sample=0.001 negative=5 window=2', 'datetime': '2021-08-15T14:11:00.007090', 'gensim': '4.0.1', 'python': '3.7.4 (default, Aug 13 2019, 15:17:50) \\n[Clang 4.0.1 (tags/RELEASE_401/final)]', 'platform': 'Darwin-19.6.0-x86_64-i386-64bit', 'event': 'train'}\n",
      "2021-08-15 14:11:00,198 | INFO | word2vec.py:1281 | _log_epoch_progress | worker thread finished; awaiting finish of 3 more threads\n",
      "2021-08-15 14:11:00,199 | INFO | word2vec.py:1281 | _log_epoch_progress | worker thread finished; awaiting finish of 2 more threads\n",
      "2021-08-15 14:11:00,234 | INFO | word2vec.py:1281 | _log_epoch_progress | worker thread finished; awaiting finish of 1 more threads\n",
      "2021-08-15 14:11:00,237 | INFO | word2vec.py:1281 | _log_epoch_progress | worker thread finished; awaiting finish of 0 more threads\n",
      "2021-08-15 14:11:00,239 | INFO | word2vec.py:1624 | _log_epoch_end | EPOCH - 1 : training on 139352 raw words (114181 effective words) took 0.2s, 510023 effective words/s\n",
      "2021-08-15 14:11:00,240 | INFO | utils.py:448 | add_lifecycle_event | Doc2Vec lifecycle event {'msg': 'training on 139352 raw words (114181 effective words) took 0.2s, 490734 effective words/s', 'datetime': '2021-08-15T14:11:00.240769', 'gensim': '4.0.1', 'python': '3.7.4 (default, Aug 13 2019, 15:17:50) \\n[Clang 4.0.1 (tags/RELEASE_401/final)]', 'platform': 'Darwin-19.6.0-x86_64-i386-64bit', 'event': 'train'}\n",
      "100%|██████████| 6822/6822 [00:00<00:00, 3634388.66it/s]\n",
      "2021-08-15 14:11:00,246 | INFO | utils.py:448 | add_lifecycle_event | Doc2Vec lifecycle event {'msg': 'training model with 4 workers on 7310 vocabulary and 500 features, using sg=0 hs=0 sample=0.001 negative=5 window=2', 'datetime': '2021-08-15T14:11:00.246257', 'gensim': '4.0.1', 'python': '3.7.4 (default, Aug 13 2019, 15:17:50) \\n[Clang 4.0.1 (tags/RELEASE_401/final)]', 'platform': 'Darwin-19.6.0-x86_64-i386-64bit', 'event': 'train'}\n",
      "2021-08-15 14:11:00,432 | INFO | word2vec.py:1281 | _log_epoch_progress | worker thread finished; awaiting finish of 3 more threads\n",
      "2021-08-15 14:11:00,436 | INFO | word2vec.py:1281 | _log_epoch_progress | worker thread finished; awaiting finish of 2 more threads\n",
      "2021-08-15 14:11:00,461 | INFO | word2vec.py:1281 | _log_epoch_progress | worker thread finished; awaiting finish of 1 more threads\n",
      "2021-08-15 14:11:00,468 | INFO | word2vec.py:1281 | _log_epoch_progress | worker thread finished; awaiting finish of 0 more threads\n",
      "2021-08-15 14:11:00,469 | INFO | word2vec.py:1624 | _log_epoch_end | EPOCH - 1 : training on 139352 raw words (114385 effective words) took 0.2s, 531693 effective words/s\n",
      "2021-08-15 14:11:00,473 | INFO | utils.py:448 | add_lifecycle_event | Doc2Vec lifecycle event {'msg': 'training on 139352 raw words (114385 effective words) took 0.2s, 507028 effective words/s', 'datetime': '2021-08-15T14:11:00.473217', 'gensim': '4.0.1', 'python': '3.7.4 (default, Aug 13 2019, 15:17:50) \\n[Clang 4.0.1 (tags/RELEASE_401/final)]', 'platform': 'Darwin-19.6.0-x86_64-i386-64bit', 'event': 'train'}\n",
      "100%|██████████| 6822/6822 [00:00<00:00, 3653880.97it/s]\n",
      "2021-08-15 14:11:00,479 | INFO | utils.py:448 | add_lifecycle_event | Doc2Vec lifecycle event {'msg': 'training model with 4 workers on 7310 vocabulary and 500 features, using sg=0 hs=0 sample=0.001 negative=5 window=2', 'datetime': '2021-08-15T14:11:00.479600', 'gensim': '4.0.1', 'python': '3.7.4 (default, Aug 13 2019, 15:17:50) \\n[Clang 4.0.1 (tags/RELEASE_401/final)]', 'platform': 'Darwin-19.6.0-x86_64-i386-64bit', 'event': 'train'}\n",
      "2021-08-15 14:11:00,651 | INFO | word2vec.py:1281 | _log_epoch_progress | worker thread finished; awaiting finish of 3 more threads\n",
      "2021-08-15 14:11:00,654 | INFO | word2vec.py:1281 | _log_epoch_progress | worker thread finished; awaiting finish of 2 more threads\n",
      "2021-08-15 14:11:00,691 | INFO | word2vec.py:1281 | _log_epoch_progress | worker thread finished; awaiting finish of 1 more threads\n",
      "2021-08-15 14:11:00,694 | INFO | word2vec.py:1281 | _log_epoch_progress | worker thread finished; awaiting finish of 0 more threads\n",
      "2021-08-15 14:11:00,694 | INFO | word2vec.py:1624 | _log_epoch_end | EPOCH - 1 : training on 139352 raw words (114244 effective words) took 0.2s, 554885 effective words/s\n",
      "2021-08-15 14:11:00,695 | INFO | utils.py:448 | add_lifecycle_event | Doc2Vec lifecycle event {'msg': 'training on 139352 raw words (114244 effective words) took 0.2s, 530648 effective words/s', 'datetime': '2021-08-15T14:11:00.695754', 'gensim': '4.0.1', 'python': '3.7.4 (default, Aug 13 2019, 15:17:50) \\n[Clang 4.0.1 (tags/RELEASE_401/final)]', 'platform': 'Darwin-19.6.0-x86_64-i386-64bit', 'event': 'train'}\n",
      "100%|██████████| 6822/6822 [00:00<00:00, 3596473.34it/s]\n",
      "2021-08-15 14:11:00,701 | INFO | utils.py:448 | add_lifecycle_event | Doc2Vec lifecycle event {'msg': 'training model with 4 workers on 7310 vocabulary and 500 features, using sg=0 hs=0 sample=0.001 negative=5 window=2', 'datetime': '2021-08-15T14:11:00.701700', 'gensim': '4.0.1', 'python': '3.7.4 (default, Aug 13 2019, 15:17:50) \\n[Clang 4.0.1 (tags/RELEASE_401/final)]', 'platform': 'Darwin-19.6.0-x86_64-i386-64bit', 'event': 'train'}\n",
      "2021-08-15 14:11:00,886 | INFO | word2vec.py:1281 | _log_epoch_progress | worker thread finished; awaiting finish of 3 more threads\n",
      "2021-08-15 14:11:00,897 | INFO | word2vec.py:1281 | _log_epoch_progress | worker thread finished; awaiting finish of 2 more threads\n",
      "2021-08-15 14:11:00,944 | INFO | word2vec.py:1281 | _log_epoch_progress | worker thread finished; awaiting finish of 1 more threads\n",
      "2021-08-15 14:11:00,947 | INFO | word2vec.py:1281 | _log_epoch_progress | worker thread finished; awaiting finish of 0 more threads\n",
      "2021-08-15 14:11:00,948 | INFO | word2vec.py:1624 | _log_epoch_end | EPOCH - 1 : training on 139352 raw words (114213 effective words) took 0.2s, 475088 effective words/s\n",
      "2021-08-15 14:11:00,948 | INFO | utils.py:448 | add_lifecycle_event | Doc2Vec lifecycle event {'msg': 'training on 139352 raw words (114213 effective words) took 0.2s, 463971 effective words/s', 'datetime': '2021-08-15T14:11:00.948625', 'gensim': '4.0.1', 'python': '3.7.4 (default, Aug 13 2019, 15:17:50) \\n[Clang 4.0.1 (tags/RELEASE_401/final)]', 'platform': 'Darwin-19.6.0-x86_64-i386-64bit', 'event': 'train'}\n",
      "100%|██████████| 6822/6822 [00:00<00:00, 3360763.67it/s]\n",
      "2021-08-15 14:11:00,955 | INFO | utils.py:448 | add_lifecycle_event | Doc2Vec lifecycle event {'msg': 'training model with 4 workers on 7310 vocabulary and 500 features, using sg=0 hs=0 sample=0.001 negative=5 window=2', 'datetime': '2021-08-15T14:11:00.955849', 'gensim': '4.0.1', 'python': '3.7.4 (default, Aug 13 2019, 15:17:50) \\n[Clang 4.0.1 (tags/RELEASE_401/final)]', 'platform': 'Darwin-19.6.0-x86_64-i386-64bit', 'event': 'train'}\n",
      "2021-08-15 14:11:01,178 | INFO | word2vec.py:1281 | _log_epoch_progress | worker thread finished; awaiting finish of 3 more threads\n",
      "2021-08-15 14:11:01,187 | INFO | word2vec.py:1281 | _log_epoch_progress | worker thread finished; awaiting finish of 2 more threads\n",
      "2021-08-15 14:11:01,218 | INFO | word2vec.py:1281 | _log_epoch_progress | worker thread finished; awaiting finish of 1 more threads\n",
      "2021-08-15 14:11:01,219 | INFO | word2vec.py:1281 | _log_epoch_progress | worker thread finished; awaiting finish of 0 more threads\n",
      "2021-08-15 14:11:01,220 | INFO | word2vec.py:1624 | _log_epoch_end | EPOCH - 1 : training on 139352 raw words (114104 effective words) took 0.3s, 447426 effective words/s\n"
     ]
    },
    {
     "name": "stderr",
     "output_type": "stream",
     "text": [
      "2021-08-15 14:11:01,220 | INFO | utils.py:448 | add_lifecycle_event | Doc2Vec lifecycle event {'msg': 'training on 139352 raw words (114104 effective words) took 0.3s, 432011 effective words/s', 'datetime': '2021-08-15T14:11:01.220761', 'gensim': '4.0.1', 'python': '3.7.4 (default, Aug 13 2019, 15:17:50) \\n[Clang 4.0.1 (tags/RELEASE_401/final)]', 'platform': 'Darwin-19.6.0-x86_64-i386-64bit', 'event': 'train'}\n",
      "100%|██████████| 6822/6822 [00:00<00:00, 2816847.99it/s]\n",
      "2021-08-15 14:11:01,227 | INFO | utils.py:448 | add_lifecycle_event | Doc2Vec lifecycle event {'msg': 'training model with 4 workers on 7310 vocabulary and 500 features, using sg=0 hs=0 sample=0.001 negative=5 window=2', 'datetime': '2021-08-15T14:11:01.227209', 'gensim': '4.0.1', 'python': '3.7.4 (default, Aug 13 2019, 15:17:50) \\n[Clang 4.0.1 (tags/RELEASE_401/final)]', 'platform': 'Darwin-19.6.0-x86_64-i386-64bit', 'event': 'train'}\n",
      "2021-08-15 14:11:01,421 | INFO | word2vec.py:1281 | _log_epoch_progress | worker thread finished; awaiting finish of 3 more threads\n",
      "2021-08-15 14:11:01,423 | INFO | word2vec.py:1281 | _log_epoch_progress | worker thread finished; awaiting finish of 2 more threads\n",
      "2021-08-15 14:11:01,450 | INFO | word2vec.py:1281 | _log_epoch_progress | worker thread finished; awaiting finish of 1 more threads\n",
      "2021-08-15 14:11:01,453 | INFO | word2vec.py:1281 | _log_epoch_progress | worker thread finished; awaiting finish of 0 more threads\n",
      "2021-08-15 14:11:01,454 | INFO | word2vec.py:1624 | _log_epoch_end | EPOCH - 1 : training on 139352 raw words (114169 effective words) took 0.2s, 517726 effective words/s\n",
      "2021-08-15 14:11:01,454 | INFO | utils.py:448 | add_lifecycle_event | Doc2Vec lifecycle event {'msg': 'training on 139352 raw words (114169 effective words) took 0.2s, 503241 effective words/s', 'datetime': '2021-08-15T14:11:01.454780', 'gensim': '4.0.1', 'python': '3.7.4 (default, Aug 13 2019, 15:17:50) \\n[Clang 4.0.1 (tags/RELEASE_401/final)]', 'platform': 'Darwin-19.6.0-x86_64-i386-64bit', 'event': 'train'}\n",
      "100%|██████████| 6822/6822 [00:00<00:00, 3669814.27it/s]\n",
      "2021-08-15 14:11:01,460 | INFO | utils.py:448 | add_lifecycle_event | Doc2Vec lifecycle event {'msg': 'training model with 4 workers on 7310 vocabulary and 500 features, using sg=0 hs=0 sample=0.001 negative=5 window=2', 'datetime': '2021-08-15T14:11:01.460124', 'gensim': '4.0.1', 'python': '3.7.4 (default, Aug 13 2019, 15:17:50) \\n[Clang 4.0.1 (tags/RELEASE_401/final)]', 'platform': 'Darwin-19.6.0-x86_64-i386-64bit', 'event': 'train'}\n",
      "2021-08-15 14:11:01,618 | INFO | word2vec.py:1281 | _log_epoch_progress | worker thread finished; awaiting finish of 3 more threads\n",
      "2021-08-15 14:11:01,620 | INFO | word2vec.py:1281 | _log_epoch_progress | worker thread finished; awaiting finish of 2 more threads\n",
      "2021-08-15 14:11:01,649 | INFO | word2vec.py:1281 | _log_epoch_progress | worker thread finished; awaiting finish of 1 more threads\n",
      "2021-08-15 14:11:01,650 | INFO | word2vec.py:1281 | _log_epoch_progress | worker thread finished; awaiting finish of 0 more threads\n",
      "2021-08-15 14:11:01,650 | INFO | word2vec.py:1624 | _log_epoch_end | EPOCH - 1 : training on 139352 raw words (114136 effective words) took 0.2s, 618740 effective words/s\n",
      "2021-08-15 14:11:01,651 | INFO | utils.py:448 | add_lifecycle_event | Doc2Vec lifecycle event {'msg': 'training on 139352 raw words (114136 effective words) took 0.2s, 599185 effective words/s', 'datetime': '2021-08-15T14:11:01.651301', 'gensim': '4.0.1', 'python': '3.7.4 (default, Aug 13 2019, 15:17:50) \\n[Clang 4.0.1 (tags/RELEASE_401/final)]', 'platform': 'Darwin-19.6.0-x86_64-i386-64bit', 'event': 'train'}\n",
      "100%|██████████| 6822/6822 [00:00<00:00, 3664174.91it/s]\n",
      "2021-08-15 14:11:01,656 | INFO | utils.py:448 | add_lifecycle_event | Doc2Vec lifecycle event {'msg': 'training model with 4 workers on 7310 vocabulary and 500 features, using sg=0 hs=0 sample=0.001 negative=5 window=2', 'datetime': '2021-08-15T14:11:01.656785', 'gensim': '4.0.1', 'python': '3.7.4 (default, Aug 13 2019, 15:17:50) \\n[Clang 4.0.1 (tags/RELEASE_401/final)]', 'platform': 'Darwin-19.6.0-x86_64-i386-64bit', 'event': 'train'}\n",
      "2021-08-15 14:11:01,816 | INFO | word2vec.py:1281 | _log_epoch_progress | worker thread finished; awaiting finish of 3 more threads\n",
      "2021-08-15 14:11:01,818 | INFO | word2vec.py:1281 | _log_epoch_progress | worker thread finished; awaiting finish of 2 more threads\n",
      "2021-08-15 14:11:01,846 | INFO | word2vec.py:1281 | _log_epoch_progress | worker thread finished; awaiting finish of 1 more threads\n",
      "2021-08-15 14:11:01,849 | INFO | word2vec.py:1281 | _log_epoch_progress | worker thread finished; awaiting finish of 0 more threads\n",
      "2021-08-15 14:11:01,850 | INFO | word2vec.py:1624 | _log_epoch_end | EPOCH - 1 : training on 139352 raw words (114093 effective words) took 0.2s, 607016 effective words/s\n",
      "2021-08-15 14:11:01,850 | INFO | utils.py:448 | add_lifecycle_event | Doc2Vec lifecycle event {'msg': 'training on 139352 raw words (114093 effective words) took 0.2s, 589998 effective words/s', 'datetime': '2021-08-15T14:11:01.850944', 'gensim': '4.0.1', 'python': '3.7.4 (default, Aug 13 2019, 15:17:50) \\n[Clang 4.0.1 (tags/RELEASE_401/final)]', 'platform': 'Darwin-19.6.0-x86_64-i386-64bit', 'event': 'train'}\n",
      "100%|██████████| 6822/6822 [00:00<00:00, 2385654.65it/s]\n",
      "2021-08-15 14:11:01,857 | INFO | utils.py:448 | add_lifecycle_event | Doc2Vec lifecycle event {'msg': 'training model with 4 workers on 7310 vocabulary and 500 features, using sg=0 hs=0 sample=0.001 negative=5 window=2', 'datetime': '2021-08-15T14:11:01.857701', 'gensim': '4.0.1', 'python': '3.7.4 (default, Aug 13 2019, 15:17:50) \\n[Clang 4.0.1 (tags/RELEASE_401/final)]', 'platform': 'Darwin-19.6.0-x86_64-i386-64bit', 'event': 'train'}\n",
      "2021-08-15 14:11:02,082 | INFO | word2vec.py:1281 | _log_epoch_progress | worker thread finished; awaiting finish of 3 more threads\n",
      "2021-08-15 14:11:02,094 | INFO | word2vec.py:1281 | _log_epoch_progress | worker thread finished; awaiting finish of 2 more threads\n",
      "2021-08-15 14:11:02,122 | INFO | word2vec.py:1281 | _log_epoch_progress | worker thread finished; awaiting finish of 1 more threads\n",
      "2021-08-15 14:11:02,126 | INFO | word2vec.py:1281 | _log_epoch_progress | worker thread finished; awaiting finish of 0 more threads\n",
      "2021-08-15 14:11:02,126 | INFO | word2vec.py:1624 | _log_epoch_end | EPOCH - 1 : training on 139352 raw words (114098 effective words) took 0.3s, 432962 effective words/s\n",
      "2021-08-15 14:11:02,127 | INFO | utils.py:448 | add_lifecycle_event | Doc2Vec lifecycle event {'msg': 'training on 139352 raw words (114098 effective words) took 0.3s, 423992 effective words/s', 'datetime': '2021-08-15T14:11:02.127459', 'gensim': '4.0.1', 'python': '3.7.4 (default, Aug 13 2019, 15:17:50) \\n[Clang 4.0.1 (tags/RELEASE_401/final)]', 'platform': 'Darwin-19.6.0-x86_64-i386-64bit', 'event': 'train'}\n",
      "100%|██████████| 6822/6822 [00:00<00:00, 3276484.81it/s]\n",
      "2021-08-15 14:11:02,135 | INFO | utils.py:448 | add_lifecycle_event | Doc2Vec lifecycle event {'msg': 'training model with 4 workers on 7310 vocabulary and 500 features, using sg=0 hs=0 sample=0.001 negative=5 window=2', 'datetime': '2021-08-15T14:11:02.135535', 'gensim': '4.0.1', 'python': '3.7.4 (default, Aug 13 2019, 15:17:50) \\n[Clang 4.0.1 (tags/RELEASE_401/final)]', 'platform': 'Darwin-19.6.0-x86_64-i386-64bit', 'event': 'train'}\n",
      "2021-08-15 14:11:02,307 | INFO | word2vec.py:1281 | _log_epoch_progress | worker thread finished; awaiting finish of 3 more threads\n",
      "2021-08-15 14:11:02,308 | INFO | word2vec.py:1281 | _log_epoch_progress | worker thread finished; awaiting finish of 2 more threads\n",
      "2021-08-15 14:11:02,335 | INFO | word2vec.py:1281 | _log_epoch_progress | worker thread finished; awaiting finish of 1 more threads\n",
      "2021-08-15 14:11:02,337 | INFO | word2vec.py:1281 | _log_epoch_progress | worker thread finished; awaiting finish of 0 more threads\n",
      "2021-08-15 14:11:02,337 | INFO | word2vec.py:1624 | _log_epoch_end | EPOCH - 1 : training on 139352 raw words (113992 effective words) took 0.2s, 580718 effective words/s\n",
      "2021-08-15 14:11:02,338 | INFO | utils.py:448 | add_lifecycle_event | Doc2Vec lifecycle event {'msg': 'training on 139352 raw words (113992 effective words) took 0.2s, 563862 effective words/s', 'datetime': '2021-08-15T14:11:02.338373', 'gensim': '4.0.1', 'python': '3.7.4 (default, Aug 13 2019, 15:17:50) \\n[Clang 4.0.1 (tags/RELEASE_401/final)]', 'platform': 'Darwin-19.6.0-x86_64-i386-64bit', 'event': 'train'}\n"
     ]
    },
    {
     "name": "stderr",
     "output_type": "stream",
     "text": [
      "100%|██████████| 6822/6822 [00:00<00:00, 3733986.94it/s]\n",
      "2021-08-15 14:11:02,343 | INFO | utils.py:448 | add_lifecycle_event | Doc2Vec lifecycle event {'msg': 'training model with 4 workers on 7310 vocabulary and 500 features, using sg=0 hs=0 sample=0.001 negative=5 window=2', 'datetime': '2021-08-15T14:11:02.343668', 'gensim': '4.0.1', 'python': '3.7.4 (default, Aug 13 2019, 15:17:50) \\n[Clang 4.0.1 (tags/RELEASE_401/final)]', 'platform': 'Darwin-19.6.0-x86_64-i386-64bit', 'event': 'train'}\n",
      "2021-08-15 14:11:02,506 | INFO | word2vec.py:1281 | _log_epoch_progress | worker thread finished; awaiting finish of 3 more threads\n",
      "2021-08-15 14:11:02,508 | INFO | word2vec.py:1281 | _log_epoch_progress | worker thread finished; awaiting finish of 2 more threads\n",
      "2021-08-15 14:11:02,538 | INFO | word2vec.py:1281 | _log_epoch_progress | worker thread finished; awaiting finish of 1 more threads\n",
      "2021-08-15 14:11:02,541 | INFO | word2vec.py:1281 | _log_epoch_progress | worker thread finished; awaiting finish of 0 more threads\n",
      "2021-08-15 14:11:02,541 | INFO | word2vec.py:1624 | _log_epoch_end | EPOCH - 1 : training on 139352 raw words (114217 effective words) took 0.2s, 594125 effective words/s\n",
      "2021-08-15 14:11:02,542 | INFO | utils.py:448 | add_lifecycle_event | Doc2Vec lifecycle event {'msg': 'training on 139352 raw words (114217 effective words) took 0.2s, 576662 effective words/s', 'datetime': '2021-08-15T14:11:02.542350', 'gensim': '4.0.1', 'python': '3.7.4 (default, Aug 13 2019, 15:17:50) \\n[Clang 4.0.1 (tags/RELEASE_401/final)]', 'platform': 'Darwin-19.6.0-x86_64-i386-64bit', 'event': 'train'}\n",
      "100%|██████████| 6822/6822 [00:00<00:00, 3577587.13it/s]\n",
      "2021-08-15 14:11:02,547 | INFO | utils.py:448 | add_lifecycle_event | Doc2Vec lifecycle event {'msg': 'training model with 4 workers on 7310 vocabulary and 500 features, using sg=0 hs=0 sample=0.001 negative=5 window=2', 'datetime': '2021-08-15T14:11:02.547952', 'gensim': '4.0.1', 'python': '3.7.4 (default, Aug 13 2019, 15:17:50) \\n[Clang 4.0.1 (tags/RELEASE_401/final)]', 'platform': 'Darwin-19.6.0-x86_64-i386-64bit', 'event': 'train'}\n",
      "2021-08-15 14:11:02,730 | INFO | word2vec.py:1281 | _log_epoch_progress | worker thread finished; awaiting finish of 3 more threads\n",
      "2021-08-15 14:11:02,733 | INFO | word2vec.py:1281 | _log_epoch_progress | worker thread finished; awaiting finish of 2 more threads\n",
      "2021-08-15 14:11:02,761 | INFO | word2vec.py:1281 | _log_epoch_progress | worker thread finished; awaiting finish of 1 more threads\n",
      "2021-08-15 14:11:02,762 | INFO | word2vec.py:1281 | _log_epoch_progress | worker thread finished; awaiting finish of 0 more threads\n",
      "2021-08-15 14:11:02,763 | INFO | word2vec.py:1624 | _log_epoch_end | EPOCH - 1 : training on 139352 raw words (114076 effective words) took 0.2s, 546075 effective words/s\n",
      "2021-08-15 14:11:02,764 | INFO | utils.py:448 | add_lifecycle_event | Doc2Vec lifecycle event {'msg': 'training on 139352 raw words (114076 effective words) took 0.2s, 529180 effective words/s', 'datetime': '2021-08-15T14:11:02.764165', 'gensim': '4.0.1', 'python': '3.7.4 (default, Aug 13 2019, 15:17:50) \\n[Clang 4.0.1 (tags/RELEASE_401/final)]', 'platform': 'Darwin-19.6.0-x86_64-i386-64bit', 'event': 'train'}\n",
      "100%|██████████| 6822/6822 [00:00<00:00, 3735937.05it/s]\n",
      "2021-08-15 14:11:02,769 | INFO | utils.py:448 | add_lifecycle_event | Doc2Vec lifecycle event {'msg': 'training model with 4 workers on 7310 vocabulary and 500 features, using sg=0 hs=0 sample=0.001 negative=5 window=2', 'datetime': '2021-08-15T14:11:02.769662', 'gensim': '4.0.1', 'python': '3.7.4 (default, Aug 13 2019, 15:17:50) \\n[Clang 4.0.1 (tags/RELEASE_401/final)]', 'platform': 'Darwin-19.6.0-x86_64-i386-64bit', 'event': 'train'}\n",
      "2021-08-15 14:11:02,937 | INFO | word2vec.py:1281 | _log_epoch_progress | worker thread finished; awaiting finish of 3 more threads\n",
      "2021-08-15 14:11:02,945 | INFO | word2vec.py:1281 | _log_epoch_progress | worker thread finished; awaiting finish of 2 more threads\n",
      "2021-08-15 14:11:02,971 | INFO | word2vec.py:1281 | _log_epoch_progress | worker thread finished; awaiting finish of 1 more threads\n",
      "2021-08-15 14:11:02,972 | INFO | word2vec.py:1281 | _log_epoch_progress | worker thread finished; awaiting finish of 0 more threads\n",
      "2021-08-15 14:11:02,973 | INFO | word2vec.py:1624 | _log_epoch_end | EPOCH - 1 : training on 139352 raw words (114190 effective words) took 0.2s, 577417 effective words/s\n",
      "2021-08-15 14:11:02,973 | INFO | utils.py:448 | add_lifecycle_event | Doc2Vec lifecycle event {'msg': 'training on 139352 raw words (114190 effective words) took 0.2s, 561048 effective words/s', 'datetime': '2021-08-15T14:11:02.973783', 'gensim': '4.0.1', 'python': '3.7.4 (default, Aug 13 2019, 15:17:50) \\n[Clang 4.0.1 (tags/RELEASE_401/final)]', 'platform': 'Darwin-19.6.0-x86_64-i386-64bit', 'event': 'train'}\n",
      "100%|██████████| 6822/6822 [00:00<00:00, 3582514.32it/s]\n",
      "2021-08-15 14:11:02,979 | INFO | utils.py:448 | add_lifecycle_event | Doc2Vec lifecycle event {'msg': 'training model with 4 workers on 7310 vocabulary and 500 features, using sg=0 hs=0 sample=0.001 negative=5 window=2', 'datetime': '2021-08-15T14:11:02.979455', 'gensim': '4.0.1', 'python': '3.7.4 (default, Aug 13 2019, 15:17:50) \\n[Clang 4.0.1 (tags/RELEASE_401/final)]', 'platform': 'Darwin-19.6.0-x86_64-i386-64bit', 'event': 'train'}\n",
      "2021-08-15 14:11:03,154 | INFO | word2vec.py:1281 | _log_epoch_progress | worker thread finished; awaiting finish of 3 more threads\n",
      "2021-08-15 14:11:03,158 | INFO | word2vec.py:1281 | _log_epoch_progress | worker thread finished; awaiting finish of 2 more threads\n",
      "2021-08-15 14:11:03,183 | INFO | word2vec.py:1281 | _log_epoch_progress | worker thread finished; awaiting finish of 1 more threads\n",
      "2021-08-15 14:11:03,186 | INFO | word2vec.py:1281 | _log_epoch_progress | worker thread finished; awaiting finish of 0 more threads\n",
      "2021-08-15 14:11:03,187 | INFO | word2vec.py:1624 | _log_epoch_end | EPOCH - 1 : training on 139352 raw words (114074 effective words) took 0.2s, 564421 effective words/s\n",
      "2021-08-15 14:11:03,188 | INFO | utils.py:448 | add_lifecycle_event | Doc2Vec lifecycle event {'msg': 'training on 139352 raw words (114074 effective words) took 0.2s, 548700 effective words/s', 'datetime': '2021-08-15T14:11:03.188031', 'gensim': '4.0.1', 'python': '3.7.4 (default, Aug 13 2019, 15:17:50) \\n[Clang 4.0.1 (tags/RELEASE_401/final)]', 'platform': 'Darwin-19.6.0-x86_64-i386-64bit', 'event': 'train'}\n"
     ]
    },
    {
     "name": "stdout",
     "output_type": "stream",
     "text": [
      "CPU times: user 13.1 s, sys: 914 ms, total: 14 s\n",
      "Wall time: 6.98 s\n"
     ]
    }
   ],
   "source": [
    "%%time\n",
    "for epoch in range(30):\n",
    "    model_tg_dmc.train(utils.shuffle([x for x in tqdm(all_x_w2v_tg)]), total_examples=len(all_x_w2v_tg), epochs=1)\n",
    "    model_tg_dmc.alpha -= 0.002\n",
    "    model_tg_dmc.min_alpha = model_tg_dmc.alpha"
   ]
  },
  {
   "cell_type": "code",
   "execution_count": 224,
   "metadata": {},
   "outputs": [],
   "source": [
    "train_vecs_dmc_tg = get_vectors(model_tg_dmc, x_train1, 100)\n",
    "validation_vecs_dmc_tg = get_vectors(model_tg_dmc, x_val1, 100)"
   ]
  },
  {
   "cell_type": "code",
   "execution_count": 225,
   "metadata": {},
   "outputs": [
    {
     "name": "stdout",
     "output_type": "stream",
     "text": [
      "CPU times: user 80.6 ms, sys: 50 ms, total: 131 ms\n",
      "Wall time: 46.4 ms\n"
     ]
    },
    {
     "data": {
      "text/plain": [
       "LogisticRegression()"
      ]
     },
     "execution_count": 225,
     "metadata": {},
     "output_type": "execute_result"
    }
   ],
   "source": [
    "%%time\n",
    "clf = LogisticRegression()\n",
    "clf.fit(train_vecs_dmc_tg, y_train)"
   ]
  },
  {
   "cell_type": "code",
   "execution_count": 226,
   "metadata": {},
   "outputs": [
    {
     "data": {
      "text/plain": [
       "0.518757327080891"
      ]
     },
     "execution_count": 226,
     "metadata": {},
     "output_type": "execute_result"
    }
   ],
   "source": [
    "clf.score(validation_vecs_dmc_tg, y_validation)"
   ]
  },
  {
   "cell_type": "code",
   "execution_count": 227,
   "metadata": {},
   "outputs": [
    {
     "name": "stderr",
     "output_type": "stream",
     "text": [
      "2021-08-15 14:11:39,563 | INFO | utils.py:448 | add_lifecycle_event | Doc2Vec lifecycle event {'params': 'Doc2Vec(dm/m,d100,n5,w4,mc2,s0.001,t4)', 'datetime': '2021-08-15T14:11:39.563175', 'gensim': '4.0.1', 'python': '3.7.4 (default, Aug 13 2019, 15:17:50) \\n[Clang 4.0.1 (tags/RELEASE_401/final)]', 'platform': 'Darwin-19.6.0-x86_64-i386-64bit', 'event': 'created'}\n",
      "100%|██████████| 6822/6822 [00:00<00:00, 3505702.27it/s]\n",
      "2021-08-15 14:11:39,567 | INFO | doc2vec.py:1032 | scan_vocab | collecting all words and their counts\n",
      "2021-08-15 14:11:39,568 | INFO | doc2vec.py:951 | _scan_vocab | PROGRESS: at example #0, processed 0 words (0/s), 0 word types, 0 tags\n",
      "2021-08-15 14:11:39,629 | INFO | doc2vec.py:1040 | scan_vocab | collected 14016 word types and 5116 unique tags from a corpus of 6822 examples and 139352 words\n",
      "2021-08-15 14:11:39,630 | INFO | word2vec.py:626 | prepare_vocab | Creating a fresh vocabulary\n",
      "2021-08-15 14:11:39,656 | INFO | utils.py:448 | add_lifecycle_event | Doc2Vec lifecycle event {'msg': 'effective_min_count=2 retains 7309 unique words (52.147545662100455%% of original 14016, drops 6707)', 'datetime': '2021-08-15T14:11:39.656102', 'gensim': '4.0.1', 'python': '3.7.4 (default, Aug 13 2019, 15:17:50) \\n[Clang 4.0.1 (tags/RELEASE_401/final)]', 'platform': 'Darwin-19.6.0-x86_64-i386-64bit', 'event': 'prepare_vocab'}\n",
      "2021-08-15 14:11:39,656 | INFO | utils.py:448 | add_lifecycle_event | Doc2Vec lifecycle event {'msg': 'effective_min_count=2 leaves 132645 word corpus (95.18700843906079%% of original 139352, drops 6707)', 'datetime': '2021-08-15T14:11:39.656866', 'gensim': '4.0.1', 'python': '3.7.4 (default, Aug 13 2019, 15:17:50) \\n[Clang 4.0.1 (tags/RELEASE_401/final)]', 'platform': 'Darwin-19.6.0-x86_64-i386-64bit', 'event': 'prepare_vocab'}\n",
      "2021-08-15 14:11:39,697 | INFO | word2vec.py:734 | prepare_vocab | deleting the raw counts dictionary of 14016 items\n",
      "2021-08-15 14:11:39,698 | INFO | word2vec.py:737 | prepare_vocab | sample=0.001 downsamples 44 most-common words\n",
      "2021-08-15 14:11:39,700 | INFO | utils.py:448 | add_lifecycle_event | Doc2Vec lifecycle event {'msg': 'downsampling leaves estimated 107352.78086141165 word corpus (80.9%% of prior 132645)', 'datetime': '2021-08-15T14:11:39.700348', 'gensim': '4.0.1', 'python': '3.7.4 (default, Aug 13 2019, 15:17:50) \\n[Clang 4.0.1 (tags/RELEASE_401/final)]', 'platform': 'Darwin-19.6.0-x86_64-i386-64bit', 'event': 'prepare_vocab'}\n",
      "2021-08-15 14:11:39,781 | INFO | word2vec.py:796 | estimate_memory | estimated required memory for 7309 words and 100 dimensions: 12571300 bytes\n",
      "2021-08-15 14:11:39,781 | INFO | word2vec.py:852 | init_weights | resetting layer weights\n"
     ]
    }
   ],
   "source": [
    "cores = multiprocessing.cpu_count()\n",
    "model_tg_dmm = Doc2Vec(dm=1, dm_mean=1, vector_size=100, window=4, negative=5, min_count=2, workers=cores, alpha=0.065, min_alpha=0.065)\n",
    "model_tg_dmm.build_vocab([x for x in tqdm(all_x_w2v_tg)])"
   ]
  },
  {
   "cell_type": "code",
   "execution_count": 228,
   "metadata": {},
   "outputs": [
    {
     "name": "stderr",
     "output_type": "stream",
     "text": [
      "100%|██████████| 6822/6822 [00:00<00:00, 3542156.71it/s]\n",
      "2021-08-15 14:11:48,468 | INFO | utils.py:448 | add_lifecycle_event | Doc2Vec lifecycle event {'msg': 'training model with 4 workers on 7309 vocabulary and 100 features, using sg=0 hs=0 sample=0.001 negative=5 window=4', 'datetime': '2021-08-15T14:11:48.468731', 'gensim': '4.0.1', 'python': '3.7.4 (default, Aug 13 2019, 15:17:50) \\n[Clang 4.0.1 (tags/RELEASE_401/final)]', 'platform': 'Darwin-19.6.0-x86_64-i386-64bit', 'event': 'train'}\n",
      "2021-08-15 14:11:48,808 | INFO | word2vec.py:1281 | _log_epoch_progress | worker thread finished; awaiting finish of 3 more threads\n",
      "2021-08-15 14:11:48,812 | INFO | word2vec.py:1281 | _log_epoch_progress | worker thread finished; awaiting finish of 2 more threads\n",
      "2021-08-15 14:11:48,849 | INFO | word2vec.py:1281 | _log_epoch_progress | worker thread finished; awaiting finish of 1 more threads\n",
      "2021-08-15 14:11:48,851 | INFO | word2vec.py:1281 | _log_epoch_progress | worker thread finished; awaiting finish of 0 more threads\n",
      "2021-08-15 14:11:48,851 | INFO | word2vec.py:1624 | _log_epoch_end | EPOCH - 1 : training on 139352 raw words (114103 effective words) took 0.4s, 304863 effective words/s\n",
      "2021-08-15 14:11:48,852 | INFO | utils.py:448 | add_lifecycle_event | Doc2Vec lifecycle event {'msg': 'training on 139352 raw words (114103 effective words) took 0.4s, 298002 effective words/s', 'datetime': '2021-08-15T14:11:48.852345', 'gensim': '4.0.1', 'python': '3.7.4 (default, Aug 13 2019, 15:17:50) \\n[Clang 4.0.1 (tags/RELEASE_401/final)]', 'platform': 'Darwin-19.6.0-x86_64-i386-64bit', 'event': 'train'}\n",
      "100%|██████████| 6822/6822 [00:00<00:00, 3667462.43it/s]\n",
      "2021-08-15 14:11:48,858 | INFO | utils.py:448 | add_lifecycle_event | Doc2Vec lifecycle event {'msg': 'training model with 4 workers on 7309 vocabulary and 100 features, using sg=0 hs=0 sample=0.001 negative=5 window=4', 'datetime': '2021-08-15T14:11:48.858094', 'gensim': '4.0.1', 'python': '3.7.4 (default, Aug 13 2019, 15:17:50) \\n[Clang 4.0.1 (tags/RELEASE_401/final)]', 'platform': 'Darwin-19.6.0-x86_64-i386-64bit', 'event': 'train'}\n",
      "2021-08-15 14:11:49,189 | INFO | word2vec.py:1281 | _log_epoch_progress | worker thread finished; awaiting finish of 3 more threads\n",
      "2021-08-15 14:11:49,192 | INFO | word2vec.py:1281 | _log_epoch_progress | worker thread finished; awaiting finish of 2 more threads\n",
      "2021-08-15 14:11:49,233 | INFO | word2vec.py:1281 | _log_epoch_progress | worker thread finished; awaiting finish of 1 more threads\n",
      "2021-08-15 14:11:49,236 | INFO | word2vec.py:1281 | _log_epoch_progress | worker thread finished; awaiting finish of 0 more threads\n",
      "2021-08-15 14:11:49,236 | INFO | word2vec.py:1624 | _log_epoch_end | EPOCH - 1 : training on 139352 raw words (114435 effective words) took 0.4s, 311112 effective words/s\n",
      "2021-08-15 14:11:49,237 | INFO | utils.py:448 | add_lifecycle_event | Doc2Vec lifecycle event {'msg': 'training on 139352 raw words (114435 effective words) took 0.4s, 302286 effective words/s', 'datetime': '2021-08-15T14:11:49.237434', 'gensim': '4.0.1', 'python': '3.7.4 (default, Aug 13 2019, 15:17:50) \\n[Clang 4.0.1 (tags/RELEASE_401/final)]', 'platform': 'Darwin-19.6.0-x86_64-i386-64bit', 'event': 'train'}\n",
      "100%|██████████| 6822/6822 [00:00<00:00, 2723283.70it/s]\n",
      "2021-08-15 14:11:49,243 | INFO | utils.py:448 | add_lifecycle_event | Doc2Vec lifecycle event {'msg': 'training model with 4 workers on 7309 vocabulary and 100 features, using sg=0 hs=0 sample=0.001 negative=5 window=4', 'datetime': '2021-08-15T14:11:49.243603', 'gensim': '4.0.1', 'python': '3.7.4 (default, Aug 13 2019, 15:17:50) \\n[Clang 4.0.1 (tags/RELEASE_401/final)]', 'platform': 'Darwin-19.6.0-x86_64-i386-64bit', 'event': 'train'}\n",
      "2021-08-15 14:11:49,585 | INFO | word2vec.py:1281 | _log_epoch_progress | worker thread finished; awaiting finish of 3 more threads\n",
      "2021-08-15 14:11:49,602 | INFO | word2vec.py:1281 | _log_epoch_progress | worker thread finished; awaiting finish of 2 more threads\n",
      "2021-08-15 14:11:49,642 | INFO | word2vec.py:1281 | _log_epoch_progress | worker thread finished; awaiting finish of 1 more threads\n",
      "2021-08-15 14:11:49,643 | INFO | word2vec.py:1281 | _log_epoch_progress | worker thread finished; awaiting finish of 0 more threads\n",
      "2021-08-15 14:11:49,645 | INFO | word2vec.py:1624 | _log_epoch_end | EPOCH - 1 : training on 139352 raw words (114170 effective words) took 0.4s, 290506 effective words/s\n",
      "2021-08-15 14:11:49,648 | INFO | utils.py:448 | add_lifecycle_event | Doc2Vec lifecycle event {'msg': 'training on 139352 raw words (114170 effective words) took 0.4s, 282500 effective words/s', 'datetime': '2021-08-15T14:11:49.648527', 'gensim': '4.0.1', 'python': '3.7.4 (default, Aug 13 2019, 15:17:50) \\n[Clang 4.0.1 (tags/RELEASE_401/final)]', 'platform': 'Darwin-19.6.0-x86_64-i386-64bit', 'event': 'train'}\n",
      "100%|██████████| 6822/6822 [00:00<00:00, 3368676.94it/s]\n",
      "2021-08-15 14:11:49,659 | INFO | utils.py:448 | add_lifecycle_event | Doc2Vec lifecycle event {'msg': 'training model with 4 workers on 7309 vocabulary and 100 features, using sg=0 hs=0 sample=0.001 negative=5 window=4', 'datetime': '2021-08-15T14:11:49.659793', 'gensim': '4.0.1', 'python': '3.7.4 (default, Aug 13 2019, 15:17:50) \\n[Clang 4.0.1 (tags/RELEASE_401/final)]', 'platform': 'Darwin-19.6.0-x86_64-i386-64bit', 'event': 'train'}\n",
      "2021-08-15 14:11:49,983 | INFO | word2vec.py:1281 | _log_epoch_progress | worker thread finished; awaiting finish of 3 more threads\n",
      "2021-08-15 14:11:49,984 | INFO | word2vec.py:1281 | _log_epoch_progress | worker thread finished; awaiting finish of 2 more threads\n",
      "2021-08-15 14:11:50,024 | INFO | word2vec.py:1281 | _log_epoch_progress | worker thread finished; awaiting finish of 1 more threads\n",
      "2021-08-15 14:11:50,027 | INFO | word2vec.py:1281 | _log_epoch_progress | worker thread finished; awaiting finish of 0 more threads\n",
      "2021-08-15 14:11:50,028 | INFO | word2vec.py:1624 | _log_epoch_end | EPOCH - 1 : training on 139352 raw words (114335 effective words) took 0.4s, 317572 effective words/s\n",
      "2021-08-15 14:11:50,028 | INFO | utils.py:448 | add_lifecycle_event | Doc2Vec lifecycle event {'msg': 'training on 139352 raw words (114335 effective words) took 0.4s, 310608 effective words/s', 'datetime': '2021-08-15T14:11:50.028683', 'gensim': '4.0.1', 'python': '3.7.4 (default, Aug 13 2019, 15:17:50) \\n[Clang 4.0.1 (tags/RELEASE_401/final)]', 'platform': 'Darwin-19.6.0-x86_64-i386-64bit', 'event': 'train'}\n",
      "100%|██████████| 6822/6822 [00:00<00:00, 3662298.97it/s]\n",
      "2021-08-15 14:11:50,034 | INFO | utils.py:448 | add_lifecycle_event | Doc2Vec lifecycle event {'msg': 'training model with 4 workers on 7309 vocabulary and 100 features, using sg=0 hs=0 sample=0.001 negative=5 window=4', 'datetime': '2021-08-15T14:11:50.034135', 'gensim': '4.0.1', 'python': '3.7.4 (default, Aug 13 2019, 15:17:50) \\n[Clang 4.0.1 (tags/RELEASE_401/final)]', 'platform': 'Darwin-19.6.0-x86_64-i386-64bit', 'event': 'train'}\n",
      "2021-08-15 14:11:50,377 | INFO | word2vec.py:1281 | _log_epoch_progress | worker thread finished; awaiting finish of 3 more threads\n",
      "2021-08-15 14:11:50,380 | INFO | word2vec.py:1281 | _log_epoch_progress | worker thread finished; awaiting finish of 2 more threads\n",
      "2021-08-15 14:11:50,420 | INFO | word2vec.py:1281 | _log_epoch_progress | worker thread finished; awaiting finish of 1 more threads\n",
      "2021-08-15 14:11:50,422 | INFO | word2vec.py:1281 | _log_epoch_progress | worker thread finished; awaiting finish of 0 more threads\n",
      "2021-08-15 14:11:50,423 | INFO | word2vec.py:1624 | _log_epoch_end | EPOCH - 1 : training on 139352 raw words (114206 effective words) took 0.4s, 297660 effective words/s\n",
      "2021-08-15 14:11:50,424 | INFO | utils.py:448 | add_lifecycle_event | Doc2Vec lifecycle event {'msg': 'training on 139352 raw words (114206 effective words) took 0.4s, 292985 effective words/s', 'datetime': '2021-08-15T14:11:50.424547', 'gensim': '4.0.1', 'python': '3.7.4 (default, Aug 13 2019, 15:17:50) \\n[Clang 4.0.1 (tags/RELEASE_401/final)]', 'platform': 'Darwin-19.6.0-x86_64-i386-64bit', 'event': 'train'}\n",
      "100%|██████████| 6822/6822 [00:00<00:00, 3471674.58it/s]\n",
      "2021-08-15 14:11:50,432 | INFO | utils.py:448 | add_lifecycle_event | Doc2Vec lifecycle event {'msg': 'training model with 4 workers on 7309 vocabulary and 100 features, using sg=0 hs=0 sample=0.001 negative=5 window=4', 'datetime': '2021-08-15T14:11:50.432450', 'gensim': '4.0.1', 'python': '3.7.4 (default, Aug 13 2019, 15:17:50) \\n[Clang 4.0.1 (tags/RELEASE_401/final)]', 'platform': 'Darwin-19.6.0-x86_64-i386-64bit', 'event': 'train'}\n"
     ]
    },
    {
     "name": "stderr",
     "output_type": "stream",
     "text": [
      "2021-08-15 14:11:50,776 | INFO | word2vec.py:1281 | _log_epoch_progress | worker thread finished; awaiting finish of 3 more threads\n",
      "2021-08-15 14:11:50,779 | INFO | word2vec.py:1281 | _log_epoch_progress | worker thread finished; awaiting finish of 2 more threads\n",
      "2021-08-15 14:11:50,823 | INFO | word2vec.py:1281 | _log_epoch_progress | worker thread finished; awaiting finish of 1 more threads\n",
      "2021-08-15 14:11:50,827 | INFO | word2vec.py:1281 | _log_epoch_progress | worker thread finished; awaiting finish of 0 more threads\n",
      "2021-08-15 14:11:50,828 | INFO | word2vec.py:1624 | _log_epoch_end | EPOCH - 1 : training on 139352 raw words (114075 effective words) took 0.4s, 299733 effective words/s\n",
      "2021-08-15 14:11:50,828 | INFO | utils.py:448 | add_lifecycle_event | Doc2Vec lifecycle event {'msg': 'training on 139352 raw words (114075 effective words) took 0.4s, 289031 effective words/s', 'datetime': '2021-08-15T14:11:50.828701', 'gensim': '4.0.1', 'python': '3.7.4 (default, Aug 13 2019, 15:17:50) \\n[Clang 4.0.1 (tags/RELEASE_401/final)]', 'platform': 'Darwin-19.6.0-x86_64-i386-64bit', 'event': 'train'}\n",
      "100%|██████████| 6822/6822 [00:00<00:00, 2246137.21it/s]\n",
      "2021-08-15 14:11:50,839 | INFO | utils.py:448 | add_lifecycle_event | Doc2Vec lifecycle event {'msg': 'training model with 4 workers on 7309 vocabulary and 100 features, using sg=0 hs=0 sample=0.001 negative=5 window=4', 'datetime': '2021-08-15T14:11:50.839836', 'gensim': '4.0.1', 'python': '3.7.4 (default, Aug 13 2019, 15:17:50) \\n[Clang 4.0.1 (tags/RELEASE_401/final)]', 'platform': 'Darwin-19.6.0-x86_64-i386-64bit', 'event': 'train'}\n",
      "2021-08-15 14:11:51,183 | INFO | word2vec.py:1281 | _log_epoch_progress | worker thread finished; awaiting finish of 3 more threads\n",
      "2021-08-15 14:11:51,190 | INFO | word2vec.py:1281 | _log_epoch_progress | worker thread finished; awaiting finish of 2 more threads\n",
      "2021-08-15 14:11:51,226 | INFO | word2vec.py:1281 | _log_epoch_progress | worker thread finished; awaiting finish of 1 more threads\n",
      "2021-08-15 14:11:51,229 | INFO | word2vec.py:1281 | _log_epoch_progress | worker thread finished; awaiting finish of 0 more threads\n",
      "2021-08-15 14:11:51,230 | INFO | word2vec.py:1624 | _log_epoch_end | EPOCH - 1 : training on 139352 raw words (114097 effective words) took 0.4s, 300419 effective words/s\n",
      "2021-08-15 14:11:51,232 | INFO | utils.py:448 | add_lifecycle_event | Doc2Vec lifecycle event {'msg': 'training on 139352 raw words (114097 effective words) took 0.4s, 292908 effective words/s', 'datetime': '2021-08-15T14:11:51.231923', 'gensim': '4.0.1', 'python': '3.7.4 (default, Aug 13 2019, 15:17:50) \\n[Clang 4.0.1 (tags/RELEASE_401/final)]', 'platform': 'Darwin-19.6.0-x86_64-i386-64bit', 'event': 'train'}\n",
      "100%|██████████| 6822/6822 [00:00<00:00, 3684937.78it/s]\n",
      "2021-08-15 14:11:51,239 | INFO | utils.py:448 | add_lifecycle_event | Doc2Vec lifecycle event {'msg': 'training model with 4 workers on 7309 vocabulary and 100 features, using sg=0 hs=0 sample=0.001 negative=5 window=4', 'datetime': '2021-08-15T14:11:51.239525', 'gensim': '4.0.1', 'python': '3.7.4 (default, Aug 13 2019, 15:17:50) \\n[Clang 4.0.1 (tags/RELEASE_401/final)]', 'platform': 'Darwin-19.6.0-x86_64-i386-64bit', 'event': 'train'}\n",
      "2021-08-15 14:11:51,571 | INFO | word2vec.py:1281 | _log_epoch_progress | worker thread finished; awaiting finish of 3 more threads\n",
      "2021-08-15 14:11:51,577 | INFO | word2vec.py:1281 | _log_epoch_progress | worker thread finished; awaiting finish of 2 more threads\n",
      "2021-08-15 14:11:51,622 | INFO | word2vec.py:1281 | _log_epoch_progress | worker thread finished; awaiting finish of 1 more threads\n",
      "2021-08-15 14:11:51,623 | INFO | word2vec.py:1281 | _log_epoch_progress | worker thread finished; awaiting finish of 0 more threads\n",
      "2021-08-15 14:11:51,623 | INFO | word2vec.py:1624 | _log_epoch_end | EPOCH - 1 : training on 139352 raw words (114178 effective words) took 0.4s, 304018 effective words/s\n",
      "2021-08-15 14:11:51,624 | INFO | utils.py:448 | add_lifecycle_event | Doc2Vec lifecycle event {'msg': 'training on 139352 raw words (114178 effective words) took 0.4s, 297314 effective words/s', 'datetime': '2021-08-15T14:11:51.624405', 'gensim': '4.0.1', 'python': '3.7.4 (default, Aug 13 2019, 15:17:50) \\n[Clang 4.0.1 (tags/RELEASE_401/final)]', 'platform': 'Darwin-19.6.0-x86_64-i386-64bit', 'event': 'train'}\n",
      "100%|██████████| 6822/6822 [00:00<00:00, 3671697.92it/s]\n",
      "2021-08-15 14:11:51,629 | INFO | utils.py:448 | add_lifecycle_event | Doc2Vec lifecycle event {'msg': 'training model with 4 workers on 7309 vocabulary and 100 features, using sg=0 hs=0 sample=0.001 negative=5 window=4', 'datetime': '2021-08-15T14:11:51.629941', 'gensim': '4.0.1', 'python': '3.7.4 (default, Aug 13 2019, 15:17:50) \\n[Clang 4.0.1 (tags/RELEASE_401/final)]', 'platform': 'Darwin-19.6.0-x86_64-i386-64bit', 'event': 'train'}\n",
      "2021-08-15 14:11:51,989 | INFO | word2vec.py:1281 | _log_epoch_progress | worker thread finished; awaiting finish of 3 more threads\n",
      "2021-08-15 14:11:51,995 | INFO | word2vec.py:1281 | _log_epoch_progress | worker thread finished; awaiting finish of 2 more threads\n",
      "2021-08-15 14:11:52,038 | INFO | word2vec.py:1281 | _log_epoch_progress | worker thread finished; awaiting finish of 1 more threads\n",
      "2021-08-15 14:11:52,039 | INFO | word2vec.py:1281 | _log_epoch_progress | worker thread finished; awaiting finish of 0 more threads\n",
      "2021-08-15 14:11:52,039 | INFO | word2vec.py:1624 | _log_epoch_end | EPOCH - 1 : training on 139352 raw words (114307 effective words) took 0.4s, 282720 effective words/s\n",
      "2021-08-15 14:11:52,040 | INFO | utils.py:448 | add_lifecycle_event | Doc2Vec lifecycle event {'msg': 'training on 139352 raw words (114307 effective words) took 0.4s, 278880 effective words/s', 'datetime': '2021-08-15T14:11:52.040441', 'gensim': '4.0.1', 'python': '3.7.4 (default, Aug 13 2019, 15:17:50) \\n[Clang 4.0.1 (tags/RELEASE_401/final)]', 'platform': 'Darwin-19.6.0-x86_64-i386-64bit', 'event': 'train'}\n",
      "100%|██████████| 6822/6822 [00:00<00:00, 2257656.77it/s]\n",
      "2021-08-15 14:11:52,048 | INFO | utils.py:448 | add_lifecycle_event | Doc2Vec lifecycle event {'msg': 'training model with 4 workers on 7309 vocabulary and 100 features, using sg=0 hs=0 sample=0.001 negative=5 window=4', 'datetime': '2021-08-15T14:11:52.048054', 'gensim': '4.0.1', 'python': '3.7.4 (default, Aug 13 2019, 15:17:50) \\n[Clang 4.0.1 (tags/RELEASE_401/final)]', 'platform': 'Darwin-19.6.0-x86_64-i386-64bit', 'event': 'train'}\n",
      "2021-08-15 14:11:52,389 | INFO | word2vec.py:1281 | _log_epoch_progress | worker thread finished; awaiting finish of 3 more threads\n",
      "2021-08-15 14:11:52,400 | INFO | word2vec.py:1281 | _log_epoch_progress | worker thread finished; awaiting finish of 2 more threads\n",
      "2021-08-15 14:11:52,437 | INFO | word2vec.py:1281 | _log_epoch_progress | worker thread finished; awaiting finish of 1 more threads\n",
      "2021-08-15 14:11:52,439 | INFO | word2vec.py:1281 | _log_epoch_progress | worker thread finished; awaiting finish of 0 more threads\n",
      "2021-08-15 14:11:52,440 | INFO | word2vec.py:1624 | _log_epoch_end | EPOCH - 1 : training on 139352 raw words (114102 effective words) took 0.4s, 298297 effective words/s\n",
      "2021-08-15 14:11:52,441 | INFO | utils.py:448 | add_lifecycle_event | Doc2Vec lifecycle event {'msg': 'training on 139352 raw words (114102 effective words) took 0.4s, 290873 effective words/s', 'datetime': '2021-08-15T14:11:52.441078', 'gensim': '4.0.1', 'python': '3.7.4 (default, Aug 13 2019, 15:17:50) \\n[Clang 4.0.1 (tags/RELEASE_401/final)]', 'platform': 'Darwin-19.6.0-x86_64-i386-64bit', 'event': 'train'}\n",
      "100%|██████████| 6822/6822 [00:00<00:00, 2943174.44it/s]\n",
      "2021-08-15 14:11:52,447 | INFO | utils.py:448 | add_lifecycle_event | Doc2Vec lifecycle event {'msg': 'training model with 4 workers on 7309 vocabulary and 100 features, using sg=0 hs=0 sample=0.001 negative=5 window=4', 'datetime': '2021-08-15T14:11:52.447534', 'gensim': '4.0.1', 'python': '3.7.4 (default, Aug 13 2019, 15:17:50) \\n[Clang 4.0.1 (tags/RELEASE_401/final)]', 'platform': 'Darwin-19.6.0-x86_64-i386-64bit', 'event': 'train'}\n",
      "2021-08-15 14:11:52,798 | INFO | word2vec.py:1281 | _log_epoch_progress | worker thread finished; awaiting finish of 3 more threads\n",
      "2021-08-15 14:11:52,811 | INFO | word2vec.py:1281 | _log_epoch_progress | worker thread finished; awaiting finish of 2 more threads\n"
     ]
    },
    {
     "name": "stderr",
     "output_type": "stream",
     "text": [
      "2021-08-15 14:11:52,846 | INFO | word2vec.py:1281 | _log_epoch_progress | worker thread finished; awaiting finish of 1 more threads\n",
      "2021-08-15 14:11:52,850 | INFO | word2vec.py:1281 | _log_epoch_progress | worker thread finished; awaiting finish of 0 more threads\n",
      "2021-08-15 14:11:52,851 | INFO | word2vec.py:1624 | _log_epoch_end | EPOCH - 1 : training on 139352 raw words (113999 effective words) took 0.4s, 286759 effective words/s\n",
      "2021-08-15 14:11:52,851 | INFO | utils.py:448 | add_lifecycle_event | Doc2Vec lifecycle event {'msg': 'training on 139352 raw words (113999 effective words) took 0.4s, 282509 effective words/s', 'datetime': '2021-08-15T14:11:52.851669', 'gensim': '4.0.1', 'python': '3.7.4 (default, Aug 13 2019, 15:17:50) \\n[Clang 4.0.1 (tags/RELEASE_401/final)]', 'platform': 'Darwin-19.6.0-x86_64-i386-64bit', 'event': 'train'}\n",
      "100%|██████████| 6822/6822 [00:00<00:00, 3642716.98it/s]\n",
      "2021-08-15 14:11:52,857 | INFO | utils.py:448 | add_lifecycle_event | Doc2Vec lifecycle event {'msg': 'training model with 4 workers on 7309 vocabulary and 100 features, using sg=0 hs=0 sample=0.001 negative=5 window=4', 'datetime': '2021-08-15T14:11:52.857226', 'gensim': '4.0.1', 'python': '3.7.4 (default, Aug 13 2019, 15:17:50) \\n[Clang 4.0.1 (tags/RELEASE_401/final)]', 'platform': 'Darwin-19.6.0-x86_64-i386-64bit', 'event': 'train'}\n",
      "2021-08-15 14:11:53,166 | INFO | word2vec.py:1281 | _log_epoch_progress | worker thread finished; awaiting finish of 3 more threads\n",
      "2021-08-15 14:11:53,170 | INFO | word2vec.py:1281 | _log_epoch_progress | worker thread finished; awaiting finish of 2 more threads\n",
      "2021-08-15 14:11:53,205 | INFO | word2vec.py:1281 | _log_epoch_progress | worker thread finished; awaiting finish of 1 more threads\n",
      "2021-08-15 14:11:53,207 | INFO | word2vec.py:1281 | _log_epoch_progress | worker thread finished; awaiting finish of 0 more threads\n",
      "2021-08-15 14:11:53,207 | INFO | word2vec.py:1624 | _log_epoch_end | EPOCH - 1 : training on 139352 raw words (114199 effective words) took 0.3s, 333367 effective words/s\n",
      "2021-08-15 14:11:53,207 | INFO | utils.py:448 | add_lifecycle_event | Doc2Vec lifecycle event {'msg': 'training on 139352 raw words (114199 effective words) took 0.4s, 326266 effective words/s', 'datetime': '2021-08-15T14:11:53.207923', 'gensim': '4.0.1', 'python': '3.7.4 (default, Aug 13 2019, 15:17:50) \\n[Clang 4.0.1 (tags/RELEASE_401/final)]', 'platform': 'Darwin-19.6.0-x86_64-i386-64bit', 'event': 'train'}\n",
      "100%|██████████| 6822/6822 [00:00<00:00, 2927815.60it/s]\n",
      "2021-08-15 14:11:53,213 | INFO | utils.py:448 | add_lifecycle_event | Doc2Vec lifecycle event {'msg': 'training model with 4 workers on 7309 vocabulary and 100 features, using sg=0 hs=0 sample=0.001 negative=5 window=4', 'datetime': '2021-08-15T14:11:53.213848', 'gensim': '4.0.1', 'python': '3.7.4 (default, Aug 13 2019, 15:17:50) \\n[Clang 4.0.1 (tags/RELEASE_401/final)]', 'platform': 'Darwin-19.6.0-x86_64-i386-64bit', 'event': 'train'}\n",
      "2021-08-15 14:11:53,540 | INFO | word2vec.py:1281 | _log_epoch_progress | worker thread finished; awaiting finish of 3 more threads\n",
      "2021-08-15 14:11:53,542 | INFO | word2vec.py:1281 | _log_epoch_progress | worker thread finished; awaiting finish of 2 more threads\n",
      "2021-08-15 14:11:53,579 | INFO | word2vec.py:1281 | _log_epoch_progress | worker thread finished; awaiting finish of 1 more threads\n",
      "2021-08-15 14:11:53,580 | INFO | word2vec.py:1281 | _log_epoch_progress | worker thread finished; awaiting finish of 0 more threads\n",
      "2021-08-15 14:11:53,580 | INFO | word2vec.py:1624 | _log_epoch_end | EPOCH - 1 : training on 139352 raw words (114132 effective words) took 0.4s, 316120 effective words/s\n",
      "2021-08-15 14:11:53,581 | INFO | utils.py:448 | add_lifecycle_event | Doc2Vec lifecycle event {'msg': 'training on 139352 raw words (114132 effective words) took 0.4s, 310921 effective words/s', 'datetime': '2021-08-15T14:11:53.581608', 'gensim': '4.0.1', 'python': '3.7.4 (default, Aug 13 2019, 15:17:50) \\n[Clang 4.0.1 (tags/RELEASE_401/final)]', 'platform': 'Darwin-19.6.0-x86_64-i386-64bit', 'event': 'train'}\n",
      "100%|██████████| 6822/6822 [00:00<00:00, 3644108.75it/s]\n",
      "2021-08-15 14:11:53,586 | INFO | utils.py:448 | add_lifecycle_event | Doc2Vec lifecycle event {'msg': 'training model with 4 workers on 7309 vocabulary and 100 features, using sg=0 hs=0 sample=0.001 negative=5 window=4', 'datetime': '2021-08-15T14:11:53.586915', 'gensim': '4.0.1', 'python': '3.7.4 (default, Aug 13 2019, 15:17:50) \\n[Clang 4.0.1 (tags/RELEASE_401/final)]', 'platform': 'Darwin-19.6.0-x86_64-i386-64bit', 'event': 'train'}\n",
      "2021-08-15 14:11:53,912 | INFO | word2vec.py:1281 | _log_epoch_progress | worker thread finished; awaiting finish of 3 more threads\n",
      "2021-08-15 14:11:53,914 | INFO | word2vec.py:1281 | _log_epoch_progress | worker thread finished; awaiting finish of 2 more threads\n",
      "2021-08-15 14:11:53,955 | INFO | word2vec.py:1281 | _log_epoch_progress | worker thread finished; awaiting finish of 1 more threads\n",
      "2021-08-15 14:11:53,956 | INFO | word2vec.py:1281 | _log_epoch_progress | worker thread finished; awaiting finish of 0 more threads\n",
      "2021-08-15 14:11:53,957 | INFO | word2vec.py:1624 | _log_epoch_end | EPOCH - 1 : training on 139352 raw words (114212 effective words) took 0.4s, 315401 effective words/s\n",
      "2021-08-15 14:11:53,957 | INFO | utils.py:448 | add_lifecycle_event | Doc2Vec lifecycle event {'msg': 'training on 139352 raw words (114212 effective words) took 0.4s, 308402 effective words/s', 'datetime': '2021-08-15T14:11:53.957903', 'gensim': '4.0.1', 'python': '3.7.4 (default, Aug 13 2019, 15:17:50) \\n[Clang 4.0.1 (tags/RELEASE_401/final)]', 'platform': 'Darwin-19.6.0-x86_64-i386-64bit', 'event': 'train'}\n",
      "100%|██████████| 6822/6822 [00:00<00:00, 3412467.73it/s]\n",
      "2021-08-15 14:11:53,963 | INFO | utils.py:448 | add_lifecycle_event | Doc2Vec lifecycle event {'msg': 'training model with 4 workers on 7309 vocabulary and 100 features, using sg=0 hs=0 sample=0.001 negative=5 window=4', 'datetime': '2021-08-15T14:11:53.963940', 'gensim': '4.0.1', 'python': '3.7.4 (default, Aug 13 2019, 15:17:50) \\n[Clang 4.0.1 (tags/RELEASE_401/final)]', 'platform': 'Darwin-19.6.0-x86_64-i386-64bit', 'event': 'train'}\n",
      "2021-08-15 14:11:54,312 | INFO | word2vec.py:1281 | _log_epoch_progress | worker thread finished; awaiting finish of 3 more threads\n",
      "2021-08-15 14:11:54,313 | INFO | word2vec.py:1281 | _log_epoch_progress | worker thread finished; awaiting finish of 2 more threads\n",
      "2021-08-15 14:11:54,351 | INFO | word2vec.py:1281 | _log_epoch_progress | worker thread finished; awaiting finish of 1 more threads\n",
      "2021-08-15 14:11:54,354 | INFO | word2vec.py:1281 | _log_epoch_progress | worker thread finished; awaiting finish of 0 more threads\n",
      "2021-08-15 14:11:54,354 | INFO | word2vec.py:1624 | _log_epoch_end | EPOCH - 1 : training on 139352 raw words (113932 effective words) took 0.4s, 298490 effective words/s\n",
      "2021-08-15 14:11:54,355 | INFO | utils.py:448 | add_lifecycle_event | Doc2Vec lifecycle event {'msg': 'training on 139352 raw words (113932 effective words) took 0.4s, 291774 effective words/s', 'datetime': '2021-08-15T14:11:54.355433', 'gensim': '4.0.1', 'python': '3.7.4 (default, Aug 13 2019, 15:17:50) \\n[Clang 4.0.1 (tags/RELEASE_401/final)]', 'platform': 'Darwin-19.6.0-x86_64-i386-64bit', 'event': 'train'}\n",
      "100%|██████████| 6822/6822 [00:00<00:00, 3534717.96it/s]\n",
      "2021-08-15 14:11:54,361 | INFO | utils.py:448 | add_lifecycle_event | Doc2Vec lifecycle event {'msg': 'training model with 4 workers on 7309 vocabulary and 100 features, using sg=0 hs=0 sample=0.001 negative=5 window=4', 'datetime': '2021-08-15T14:11:54.361192', 'gensim': '4.0.1', 'python': '3.7.4 (default, Aug 13 2019, 15:17:50) \\n[Clang 4.0.1 (tags/RELEASE_401/final)]', 'platform': 'Darwin-19.6.0-x86_64-i386-64bit', 'event': 'train'}\n",
      "2021-08-15 14:11:54,688 | INFO | word2vec.py:1281 | _log_epoch_progress | worker thread finished; awaiting finish of 3 more threads\n",
      "2021-08-15 14:11:54,693 | INFO | word2vec.py:1281 | _log_epoch_progress | worker thread finished; awaiting finish of 2 more threads\n",
      "2021-08-15 14:11:54,734 | INFO | word2vec.py:1281 | _log_epoch_progress | worker thread finished; awaiting finish of 1 more threads\n",
      "2021-08-15 14:11:54,738 | INFO | word2vec.py:1281 | _log_epoch_progress | worker thread finished; awaiting finish of 0 more threads\n"
     ]
    },
    {
     "name": "stderr",
     "output_type": "stream",
     "text": [
      "2021-08-15 14:11:54,738 | INFO | word2vec.py:1624 | _log_epoch_end | EPOCH - 1 : training on 139352 raw words (114192 effective words) took 0.4s, 309088 effective words/s\n",
      "2021-08-15 14:11:54,739 | INFO | utils.py:448 | add_lifecycle_event | Doc2Vec lifecycle event {'msg': 'training on 139352 raw words (114192 effective words) took 0.4s, 302423 effective words/s', 'datetime': '2021-08-15T14:11:54.739468', 'gensim': '4.0.1', 'python': '3.7.4 (default, Aug 13 2019, 15:17:50) \\n[Clang 4.0.1 (tags/RELEASE_401/final)]', 'platform': 'Darwin-19.6.0-x86_64-i386-64bit', 'event': 'train'}\n",
      "100%|██████████| 6822/6822 [00:00<00:00, 3522100.18it/s]\n",
      "2021-08-15 14:11:54,745 | INFO | utils.py:448 | add_lifecycle_event | Doc2Vec lifecycle event {'msg': 'training model with 4 workers on 7309 vocabulary and 100 features, using sg=0 hs=0 sample=0.001 negative=5 window=4', 'datetime': '2021-08-15T14:11:54.745223', 'gensim': '4.0.1', 'python': '3.7.4 (default, Aug 13 2019, 15:17:50) \\n[Clang 4.0.1 (tags/RELEASE_401/final)]', 'platform': 'Darwin-19.6.0-x86_64-i386-64bit', 'event': 'train'}\n",
      "2021-08-15 14:11:55,156 | INFO | word2vec.py:1281 | _log_epoch_progress | worker thread finished; awaiting finish of 3 more threads\n",
      "2021-08-15 14:11:55,160 | INFO | word2vec.py:1281 | _log_epoch_progress | worker thread finished; awaiting finish of 2 more threads\n",
      "2021-08-15 14:11:55,190 | INFO | word2vec.py:1281 | _log_epoch_progress | worker thread finished; awaiting finish of 1 more threads\n",
      "2021-08-15 14:11:55,193 | INFO | word2vec.py:1281 | _log_epoch_progress | worker thread finished; awaiting finish of 0 more threads\n",
      "2021-08-15 14:11:55,194 | INFO | word2vec.py:1624 | _log_epoch_end | EPOCH - 1 : training on 139352 raw words (114168 effective words) took 0.4s, 258393 effective words/s\n",
      "2021-08-15 14:11:55,194 | INFO | utils.py:448 | add_lifecycle_event | Doc2Vec lifecycle event {'msg': 'training on 139352 raw words (114168 effective words) took 0.4s, 254374 effective words/s', 'datetime': '2021-08-15T14:11:55.194789', 'gensim': '4.0.1', 'python': '3.7.4 (default, Aug 13 2019, 15:17:50) \\n[Clang 4.0.1 (tags/RELEASE_401/final)]', 'platform': 'Darwin-19.6.0-x86_64-i386-64bit', 'event': 'train'}\n",
      "100%|██████████| 6822/6822 [00:00<00:00, 3648290.44it/s]\n",
      "2021-08-15 14:11:55,200 | INFO | utils.py:448 | add_lifecycle_event | Doc2Vec lifecycle event {'msg': 'training model with 4 workers on 7309 vocabulary and 100 features, using sg=0 hs=0 sample=0.001 negative=5 window=4', 'datetime': '2021-08-15T14:11:55.200101', 'gensim': '4.0.1', 'python': '3.7.4 (default, Aug 13 2019, 15:17:50) \\n[Clang 4.0.1 (tags/RELEASE_401/final)]', 'platform': 'Darwin-19.6.0-x86_64-i386-64bit', 'event': 'train'}\n",
      "2021-08-15 14:11:55,527 | INFO | word2vec.py:1281 | _log_epoch_progress | worker thread finished; awaiting finish of 3 more threads\n",
      "2021-08-15 14:11:55,532 | INFO | word2vec.py:1281 | _log_epoch_progress | worker thread finished; awaiting finish of 2 more threads\n",
      "2021-08-15 14:11:55,572 | INFO | word2vec.py:1281 | _log_epoch_progress | worker thread finished; awaiting finish of 1 more threads\n",
      "2021-08-15 14:11:55,574 | INFO | word2vec.py:1281 | _log_epoch_progress | worker thread finished; awaiting finish of 0 more threads\n",
      "2021-08-15 14:11:55,574 | INFO | word2vec.py:1624 | _log_epoch_end | EPOCH - 1 : training on 139352 raw words (114245 effective words) took 0.4s, 309793 effective words/s\n",
      "2021-08-15 14:11:55,575 | INFO | utils.py:448 | add_lifecycle_event | Doc2Vec lifecycle event {'msg': 'training on 139352 raw words (114245 effective words) took 0.4s, 305034 effective words/s', 'datetime': '2021-08-15T14:11:55.575332', 'gensim': '4.0.1', 'python': '3.7.4 (default, Aug 13 2019, 15:17:50) \\n[Clang 4.0.1 (tags/RELEASE_401/final)]', 'platform': 'Darwin-19.6.0-x86_64-i386-64bit', 'event': 'train'}\n",
      "100%|██████████| 6822/6822 [00:00<00:00, 3368280.39it/s]\n",
      "2021-08-15 14:11:55,581 | INFO | utils.py:448 | add_lifecycle_event | Doc2Vec lifecycle event {'msg': 'training model with 4 workers on 7309 vocabulary and 100 features, using sg=0 hs=0 sample=0.001 negative=5 window=4', 'datetime': '2021-08-15T14:11:55.581051', 'gensim': '4.0.1', 'python': '3.7.4 (default, Aug 13 2019, 15:17:50) \\n[Clang 4.0.1 (tags/RELEASE_401/final)]', 'platform': 'Darwin-19.6.0-x86_64-i386-64bit', 'event': 'train'}\n",
      "2021-08-15 14:11:55,912 | INFO | word2vec.py:1281 | _log_epoch_progress | worker thread finished; awaiting finish of 3 more threads\n",
      "2021-08-15 14:11:55,913 | INFO | word2vec.py:1281 | _log_epoch_progress | worker thread finished; awaiting finish of 2 more threads\n",
      "2021-08-15 14:11:55,953 | INFO | word2vec.py:1281 | _log_epoch_progress | worker thread finished; awaiting finish of 1 more threads\n",
      "2021-08-15 14:11:55,954 | INFO | word2vec.py:1281 | _log_epoch_progress | worker thread finished; awaiting finish of 0 more threads\n",
      "2021-08-15 14:11:55,955 | INFO | word2vec.py:1624 | _log_epoch_end | EPOCH - 1 : training on 139352 raw words (114102 effective words) took 0.4s, 309834 effective words/s\n",
      "2021-08-15 14:11:55,955 | INFO | utils.py:448 | add_lifecycle_event | Doc2Vec lifecycle event {'msg': 'training on 139352 raw words (114102 effective words) took 0.4s, 305082 effective words/s', 'datetime': '2021-08-15T14:11:55.955743', 'gensim': '4.0.1', 'python': '3.7.4 (default, Aug 13 2019, 15:17:50) \\n[Clang 4.0.1 (tags/RELEASE_401/final)]', 'platform': 'Darwin-19.6.0-x86_64-i386-64bit', 'event': 'train'}\n",
      "100%|██████████| 6822/6822 [00:00<00:00, 3665583.13it/s]\n",
      "2021-08-15 14:11:55,961 | INFO | utils.py:448 | add_lifecycle_event | Doc2Vec lifecycle event {'msg': 'training model with 4 workers on 7309 vocabulary and 100 features, using sg=0 hs=0 sample=0.001 negative=5 window=4', 'datetime': '2021-08-15T14:11:55.961016', 'gensim': '4.0.1', 'python': '3.7.4 (default, Aug 13 2019, 15:17:50) \\n[Clang 4.0.1 (tags/RELEASE_401/final)]', 'platform': 'Darwin-19.6.0-x86_64-i386-64bit', 'event': 'train'}\n",
      "2021-08-15 14:11:56,298 | INFO | word2vec.py:1281 | _log_epoch_progress | worker thread finished; awaiting finish of 3 more threads\n",
      "2021-08-15 14:11:56,301 | INFO | word2vec.py:1281 | _log_epoch_progress | worker thread finished; awaiting finish of 2 more threads\n",
      "2021-08-15 14:11:56,348 | INFO | word2vec.py:1281 | _log_epoch_progress | worker thread finished; awaiting finish of 1 more threads\n",
      "2021-08-15 14:11:56,354 | INFO | word2vec.py:1281 | _log_epoch_progress | worker thread finished; awaiting finish of 0 more threads\n",
      "2021-08-15 14:11:56,354 | INFO | word2vec.py:1624 | _log_epoch_end | EPOCH - 1 : training on 139352 raw words (114321 effective words) took 0.4s, 294546 effective words/s\n",
      "2021-08-15 14:11:56,355 | INFO | utils.py:448 | add_lifecycle_event | Doc2Vec lifecycle event {'msg': 'training on 139352 raw words (114321 effective words) took 0.4s, 290168 effective words/s', 'datetime': '2021-08-15T14:11:56.355624', 'gensim': '4.0.1', 'python': '3.7.4 (default, Aug 13 2019, 15:17:50) \\n[Clang 4.0.1 (tags/RELEASE_401/final)]', 'platform': 'Darwin-19.6.0-x86_64-i386-64bit', 'event': 'train'}\n",
      "100%|██████████| 6822/6822 [00:00<00:00, 3477159.06it/s]\n",
      "2021-08-15 14:11:56,362 | INFO | utils.py:448 | add_lifecycle_event | Doc2Vec lifecycle event {'msg': 'training model with 4 workers on 7309 vocabulary and 100 features, using sg=0 hs=0 sample=0.001 negative=5 window=4', 'datetime': '2021-08-15T14:11:56.362092', 'gensim': '4.0.1', 'python': '3.7.4 (default, Aug 13 2019, 15:17:50) \\n[Clang 4.0.1 (tags/RELEASE_401/final)]', 'platform': 'Darwin-19.6.0-x86_64-i386-64bit', 'event': 'train'}\n",
      "2021-08-15 14:11:56,781 | INFO | word2vec.py:1281 | _log_epoch_progress | worker thread finished; awaiting finish of 3 more threads\n",
      "2021-08-15 14:11:56,789 | INFO | word2vec.py:1281 | _log_epoch_progress | worker thread finished; awaiting finish of 2 more threads\n",
      "2021-08-15 14:11:56,824 | INFO | word2vec.py:1281 | _log_epoch_progress | worker thread finished; awaiting finish of 1 more threads\n",
      "2021-08-15 14:11:56,833 | INFO | word2vec.py:1281 | _log_epoch_progress | worker thread finished; awaiting finish of 0 more threads\n",
      "2021-08-15 14:11:56,833 | INFO | word2vec.py:1624 | _log_epoch_end | EPOCH - 1 : training on 139352 raw words (114375 effective words) took 0.5s, 247690 effective words/s\n"
     ]
    },
    {
     "name": "stderr",
     "output_type": "stream",
     "text": [
      "2021-08-15 14:11:56,834 | INFO | utils.py:448 | add_lifecycle_event | Doc2Vec lifecycle event {'msg': 'training on 139352 raw words (114375 effective words) took 0.5s, 242826 effective words/s', 'datetime': '2021-08-15T14:11:56.834645', 'gensim': '4.0.1', 'python': '3.7.4 (default, Aug 13 2019, 15:17:50) \\n[Clang 4.0.1 (tags/RELEASE_401/final)]', 'platform': 'Darwin-19.6.0-x86_64-i386-64bit', 'event': 'train'}\n",
      "100%|██████████| 6822/6822 [00:00<00:00, 2651611.70it/s]\n",
      "2021-08-15 14:11:56,845 | INFO | utils.py:448 | add_lifecycle_event | Doc2Vec lifecycle event {'msg': 'training model with 4 workers on 7309 vocabulary and 100 features, using sg=0 hs=0 sample=0.001 negative=5 window=4', 'datetime': '2021-08-15T14:11:56.845647', 'gensim': '4.0.1', 'python': '3.7.4 (default, Aug 13 2019, 15:17:50) \\n[Clang 4.0.1 (tags/RELEASE_401/final)]', 'platform': 'Darwin-19.6.0-x86_64-i386-64bit', 'event': 'train'}\n",
      "2021-08-15 14:11:57,186 | INFO | word2vec.py:1281 | _log_epoch_progress | worker thread finished; awaiting finish of 3 more threads\n",
      "2021-08-15 14:11:57,189 | INFO | word2vec.py:1281 | _log_epoch_progress | worker thread finished; awaiting finish of 2 more threads\n",
      "2021-08-15 14:11:57,272 | INFO | word2vec.py:1281 | _log_epoch_progress | worker thread finished; awaiting finish of 1 more threads\n",
      "2021-08-15 14:11:57,277 | INFO | word2vec.py:1281 | _log_epoch_progress | worker thread finished; awaiting finish of 0 more threads\n",
      "2021-08-15 14:11:57,277 | INFO | word2vec.py:1624 | _log_epoch_end | EPOCH - 1 : training on 139352 raw words (114090 effective words) took 0.4s, 269410 effective words/s\n",
      "2021-08-15 14:11:57,278 | INFO | utils.py:448 | add_lifecycle_event | Doc2Vec lifecycle event {'msg': 'training on 139352 raw words (114090 effective words) took 0.4s, 264172 effective words/s', 'datetime': '2021-08-15T14:11:57.278482', 'gensim': '4.0.1', 'python': '3.7.4 (default, Aug 13 2019, 15:17:50) \\n[Clang 4.0.1 (tags/RELEASE_401/final)]', 'platform': 'Darwin-19.6.0-x86_64-i386-64bit', 'event': 'train'}\n",
      "100%|██████████| 6822/6822 [00:00<00:00, 3470411.39it/s]\n",
      "2021-08-15 14:11:57,287 | INFO | utils.py:448 | add_lifecycle_event | Doc2Vec lifecycle event {'msg': 'training model with 4 workers on 7309 vocabulary and 100 features, using sg=0 hs=0 sample=0.001 negative=5 window=4', 'datetime': '2021-08-15T14:11:57.287899', 'gensim': '4.0.1', 'python': '3.7.4 (default, Aug 13 2019, 15:17:50) \\n[Clang 4.0.1 (tags/RELEASE_401/final)]', 'platform': 'Darwin-19.6.0-x86_64-i386-64bit', 'event': 'train'}\n",
      "2021-08-15 14:11:57,657 | INFO | word2vec.py:1281 | _log_epoch_progress | worker thread finished; awaiting finish of 3 more threads\n",
      "2021-08-15 14:11:57,660 | INFO | word2vec.py:1281 | _log_epoch_progress | worker thread finished; awaiting finish of 2 more threads\n",
      "2021-08-15 14:11:57,708 | INFO | word2vec.py:1281 | _log_epoch_progress | worker thread finished; awaiting finish of 1 more threads\n",
      "2021-08-15 14:11:57,710 | INFO | word2vec.py:1281 | _log_epoch_progress | worker thread finished; awaiting finish of 0 more threads\n",
      "2021-08-15 14:11:57,710 | INFO | word2vec.py:1624 | _log_epoch_end | EPOCH - 1 : training on 139352 raw words (114131 effective words) took 0.4s, 275947 effective words/s\n",
      "2021-08-15 14:11:57,711 | INFO | utils.py:448 | add_lifecycle_event | Doc2Vec lifecycle event {'msg': 'training on 139352 raw words (114131 effective words) took 0.4s, 269930 effective words/s', 'datetime': '2021-08-15T14:11:57.711503', 'gensim': '4.0.1', 'python': '3.7.4 (default, Aug 13 2019, 15:17:50) \\n[Clang 4.0.1 (tags/RELEASE_401/final)]', 'platform': 'Darwin-19.6.0-x86_64-i386-64bit', 'event': 'train'}\n",
      "100%|██████████| 6822/6822 [00:00<00:00, 1720080.67it/s]\n",
      "2021-08-15 14:11:57,719 | INFO | utils.py:448 | add_lifecycle_event | Doc2Vec lifecycle event {'msg': 'training model with 4 workers on 7309 vocabulary and 100 features, using sg=0 hs=0 sample=0.001 negative=5 window=4', 'datetime': '2021-08-15T14:11:57.719506', 'gensim': '4.0.1', 'python': '3.7.4 (default, Aug 13 2019, 15:17:50) \\n[Clang 4.0.1 (tags/RELEASE_401/final)]', 'platform': 'Darwin-19.6.0-x86_64-i386-64bit', 'event': 'train'}\n",
      "2021-08-15 14:11:58,049 | INFO | word2vec.py:1281 | _log_epoch_progress | worker thread finished; awaiting finish of 3 more threads\n",
      "2021-08-15 14:11:58,053 | INFO | word2vec.py:1281 | _log_epoch_progress | worker thread finished; awaiting finish of 2 more threads\n",
      "2021-08-15 14:11:58,090 | INFO | word2vec.py:1281 | _log_epoch_progress | worker thread finished; awaiting finish of 1 more threads\n",
      "2021-08-15 14:11:58,093 | INFO | word2vec.py:1281 | _log_epoch_progress | worker thread finished; awaiting finish of 0 more threads\n",
      "2021-08-15 14:11:58,094 | INFO | word2vec.py:1624 | _log_epoch_end | EPOCH - 1 : training on 139352 raw words (114135 effective words) took 0.4s, 310683 effective words/s\n",
      "2021-08-15 14:11:58,095 | INFO | utils.py:448 | add_lifecycle_event | Doc2Vec lifecycle event {'msg': 'training on 139352 raw words (114135 effective words) took 0.4s, 304541 effective words/s', 'datetime': '2021-08-15T14:11:58.095042', 'gensim': '4.0.1', 'python': '3.7.4 (default, Aug 13 2019, 15:17:50) \\n[Clang 4.0.1 (tags/RELEASE_401/final)]', 'platform': 'Darwin-19.6.0-x86_64-i386-64bit', 'event': 'train'}\n",
      "100%|██████████| 6822/6822 [00:00<00:00, 3325995.80it/s]\n",
      "2021-08-15 14:11:58,101 | INFO | utils.py:448 | add_lifecycle_event | Doc2Vec lifecycle event {'msg': 'training model with 4 workers on 7309 vocabulary and 100 features, using sg=0 hs=0 sample=0.001 negative=5 window=4', 'datetime': '2021-08-15T14:11:58.101897', 'gensim': '4.0.1', 'python': '3.7.4 (default, Aug 13 2019, 15:17:50) \\n[Clang 4.0.1 (tags/RELEASE_401/final)]', 'platform': 'Darwin-19.6.0-x86_64-i386-64bit', 'event': 'train'}\n",
      "2021-08-15 14:11:58,425 | INFO | word2vec.py:1281 | _log_epoch_progress | worker thread finished; awaiting finish of 3 more threads\n",
      "2021-08-15 14:11:58,427 | INFO | word2vec.py:1281 | _log_epoch_progress | worker thread finished; awaiting finish of 2 more threads\n",
      "2021-08-15 14:11:58,470 | INFO | word2vec.py:1281 | _log_epoch_progress | worker thread finished; awaiting finish of 1 more threads\n",
      "2021-08-15 14:11:58,472 | INFO | word2vec.py:1281 | _log_epoch_progress | worker thread finished; awaiting finish of 0 more threads\n",
      "2021-08-15 14:11:58,473 | INFO | word2vec.py:1624 | _log_epoch_end | EPOCH - 1 : training on 139352 raw words (114266 effective words) took 0.4s, 312795 effective words/s\n",
      "2021-08-15 14:11:58,473 | INFO | utils.py:448 | add_lifecycle_event | Doc2Vec lifecycle event {'msg': 'training on 139352 raw words (114266 effective words) took 0.4s, 307646 effective words/s', 'datetime': '2021-08-15T14:11:58.473961', 'gensim': '4.0.1', 'python': '3.7.4 (default, Aug 13 2019, 15:17:50) \\n[Clang 4.0.1 (tags/RELEASE_401/final)]', 'platform': 'Darwin-19.6.0-x86_64-i386-64bit', 'event': 'train'}\n",
      "100%|██████████| 6822/6822 [00:00<00:00, 3588804.95it/s]\n",
      "2021-08-15 14:11:58,480 | INFO | utils.py:448 | add_lifecycle_event | Doc2Vec lifecycle event {'msg': 'training model with 4 workers on 7309 vocabulary and 100 features, using sg=0 hs=0 sample=0.001 negative=5 window=4', 'datetime': '2021-08-15T14:11:58.480616', 'gensim': '4.0.1', 'python': '3.7.4 (default, Aug 13 2019, 15:17:50) \\n[Clang 4.0.1 (tags/RELEASE_401/final)]', 'platform': 'Darwin-19.6.0-x86_64-i386-64bit', 'event': 'train'}\n",
      "2021-08-15 14:11:58,814 | INFO | word2vec.py:1281 | _log_epoch_progress | worker thread finished; awaiting finish of 3 more threads\n",
      "2021-08-15 14:11:58,825 | INFO | word2vec.py:1281 | _log_epoch_progress | worker thread finished; awaiting finish of 2 more threads\n",
      "2021-08-15 14:11:58,861 | INFO | word2vec.py:1281 | _log_epoch_progress | worker thread finished; awaiting finish of 1 more threads\n",
      "2021-08-15 14:11:58,866 | INFO | word2vec.py:1281 | _log_epoch_progress | worker thread finished; awaiting finish of 0 more threads\n",
      "2021-08-15 14:11:58,867 | INFO | word2vec.py:1624 | _log_epoch_end | EPOCH - 1 : training on 139352 raw words (114179 effective words) took 0.4s, 299930 effective words/s\n",
      "2021-08-15 14:11:58,867 | INFO | utils.py:448 | add_lifecycle_event | Doc2Vec lifecycle event {'msg': 'training on 139352 raw words (114179 effective words) took 0.4s, 295675 effective words/s', 'datetime': '2021-08-15T14:11:58.867869', 'gensim': '4.0.1', 'python': '3.7.4 (default, Aug 13 2019, 15:17:50) \\n[Clang 4.0.1 (tags/RELEASE_401/final)]', 'platform': 'Darwin-19.6.0-x86_64-i386-64bit', 'event': 'train'}\n"
     ]
    },
    {
     "name": "stderr",
     "output_type": "stream",
     "text": [
      "100%|██████████| 6822/6822 [00:00<00:00, 3670285.00it/s]\n",
      "2021-08-15 14:11:58,873 | INFO | utils.py:448 | add_lifecycle_event | Doc2Vec lifecycle event {'msg': 'training model with 4 workers on 7309 vocabulary and 100 features, using sg=0 hs=0 sample=0.001 negative=5 window=4', 'datetime': '2021-08-15T14:11:58.873232', 'gensim': '4.0.1', 'python': '3.7.4 (default, Aug 13 2019, 15:17:50) \\n[Clang 4.0.1 (tags/RELEASE_401/final)]', 'platform': 'Darwin-19.6.0-x86_64-i386-64bit', 'event': 'train'}\n",
      "2021-08-15 14:11:59,190 | INFO | word2vec.py:1281 | _log_epoch_progress | worker thread finished; awaiting finish of 3 more threads\n",
      "2021-08-15 14:11:59,195 | INFO | word2vec.py:1281 | _log_epoch_progress | worker thread finished; awaiting finish of 2 more threads\n",
      "2021-08-15 14:11:59,239 | INFO | word2vec.py:1281 | _log_epoch_progress | worker thread finished; awaiting finish of 1 more threads\n",
      "2021-08-15 14:11:59,241 | INFO | word2vec.py:1281 | _log_epoch_progress | worker thread finished; awaiting finish of 0 more threads\n",
      "2021-08-15 14:11:59,242 | INFO | word2vec.py:1624 | _log_epoch_end | EPOCH - 1 : training on 139352 raw words (114092 effective words) took 0.4s, 322285 effective words/s\n",
      "2021-08-15 14:11:59,242 | INFO | utils.py:448 | add_lifecycle_event | Doc2Vec lifecycle event {'msg': 'training on 139352 raw words (114092 effective words) took 0.4s, 309392 effective words/s', 'datetime': '2021-08-15T14:11:59.242704', 'gensim': '4.0.1', 'python': '3.7.4 (default, Aug 13 2019, 15:17:50) \\n[Clang 4.0.1 (tags/RELEASE_401/final)]', 'platform': 'Darwin-19.6.0-x86_64-i386-64bit', 'event': 'train'}\n",
      "100%|██████████| 6822/6822 [00:00<00:00, 2399659.67it/s]\n",
      "2021-08-15 14:11:59,249 | INFO | utils.py:448 | add_lifecycle_event | Doc2Vec lifecycle event {'msg': 'training model with 4 workers on 7309 vocabulary and 100 features, using sg=0 hs=0 sample=0.001 negative=5 window=4', 'datetime': '2021-08-15T14:11:59.249960', 'gensim': '4.0.1', 'python': '3.7.4 (default, Aug 13 2019, 15:17:50) \\n[Clang 4.0.1 (tags/RELEASE_401/final)]', 'platform': 'Darwin-19.6.0-x86_64-i386-64bit', 'event': 'train'}\n",
      "2021-08-15 14:11:59,584 | INFO | word2vec.py:1281 | _log_epoch_progress | worker thread finished; awaiting finish of 3 more threads\n",
      "2021-08-15 14:11:59,589 | INFO | word2vec.py:1281 | _log_epoch_progress | worker thread finished; awaiting finish of 2 more threads\n",
      "2021-08-15 14:11:59,628 | INFO | word2vec.py:1281 | _log_epoch_progress | worker thread finished; awaiting finish of 1 more threads\n",
      "2021-08-15 14:11:59,629 | INFO | word2vec.py:1281 | _log_epoch_progress | worker thread finished; awaiting finish of 0 more threads\n",
      "2021-08-15 14:11:59,630 | INFO | word2vec.py:1624 | _log_epoch_end | EPOCH - 1 : training on 139352 raw words (114330 effective words) took 0.4s, 306451 effective words/s\n",
      "2021-08-15 14:11:59,630 | INFO | utils.py:448 | add_lifecycle_event | Doc2Vec lifecycle event {'msg': 'training on 139352 raw words (114330 effective words) took 0.4s, 300780 effective words/s', 'datetime': '2021-08-15T14:11:59.630814', 'gensim': '4.0.1', 'python': '3.7.4 (default, Aug 13 2019, 15:17:50) \\n[Clang 4.0.1 (tags/RELEASE_401/final)]', 'platform': 'Darwin-19.6.0-x86_64-i386-64bit', 'event': 'train'}\n",
      "100%|██████████| 6822/6822 [00:00<00:00, 3600546.36it/s]\n",
      "2021-08-15 14:11:59,636 | INFO | utils.py:448 | add_lifecycle_event | Doc2Vec lifecycle event {'msg': 'training model with 4 workers on 7309 vocabulary and 100 features, using sg=0 hs=0 sample=0.001 negative=5 window=4', 'datetime': '2021-08-15T14:11:59.636216', 'gensim': '4.0.1', 'python': '3.7.4 (default, Aug 13 2019, 15:17:50) \\n[Clang 4.0.1 (tags/RELEASE_401/final)]', 'platform': 'Darwin-19.6.0-x86_64-i386-64bit', 'event': 'train'}\n",
      "2021-08-15 14:11:59,949 | INFO | word2vec.py:1281 | _log_epoch_progress | worker thread finished; awaiting finish of 3 more threads\n",
      "2021-08-15 14:11:59,951 | INFO | word2vec.py:1281 | _log_epoch_progress | worker thread finished; awaiting finish of 2 more threads\n",
      "2021-08-15 14:11:59,990 | INFO | word2vec.py:1281 | _log_epoch_progress | worker thread finished; awaiting finish of 1 more threads\n",
      "2021-08-15 14:11:59,991 | INFO | word2vec.py:1281 | _log_epoch_progress | worker thread finished; awaiting finish of 0 more threads\n",
      "2021-08-15 14:11:59,992 | INFO | word2vec.py:1624 | _log_epoch_end | EPOCH - 1 : training on 139352 raw words (114087 effective words) took 0.4s, 325824 effective words/s\n",
      "2021-08-15 14:11:59,992 | INFO | utils.py:448 | add_lifecycle_event | Doc2Vec lifecycle event {'msg': 'training on 139352 raw words (114087 effective words) took 0.4s, 320495 effective words/s', 'datetime': '2021-08-15T14:11:59.992835', 'gensim': '4.0.1', 'python': '3.7.4 (default, Aug 13 2019, 15:17:50) \\n[Clang 4.0.1 (tags/RELEASE_401/final)]', 'platform': 'Darwin-19.6.0-x86_64-i386-64bit', 'event': 'train'}\n",
      "100%|██████████| 6822/6822 [00:00<00:00, 2999951.97it/s]\n",
      "2021-08-15 14:12:00,000 | INFO | utils.py:448 | add_lifecycle_event | Doc2Vec lifecycle event {'msg': 'training model with 4 workers on 7309 vocabulary and 100 features, using sg=0 hs=0 sample=0.001 negative=5 window=4', 'datetime': '2021-08-15T14:12:00.000125', 'gensim': '4.0.1', 'python': '3.7.4 (default, Aug 13 2019, 15:17:50) \\n[Clang 4.0.1 (tags/RELEASE_401/final)]', 'platform': 'Darwin-19.6.0-x86_64-i386-64bit', 'event': 'train'}\n",
      "2021-08-15 14:12:00,319 | INFO | word2vec.py:1281 | _log_epoch_progress | worker thread finished; awaiting finish of 3 more threads\n",
      "2021-08-15 14:12:00,336 | INFO | word2vec.py:1281 | _log_epoch_progress | worker thread finished; awaiting finish of 2 more threads\n",
      "2021-08-15 14:12:00,371 | INFO | word2vec.py:1281 | _log_epoch_progress | worker thread finished; awaiting finish of 1 more threads\n",
      "2021-08-15 14:12:00,373 | INFO | word2vec.py:1281 | _log_epoch_progress | worker thread finished; awaiting finish of 0 more threads\n",
      "2021-08-15 14:12:00,374 | INFO | word2vec.py:1624 | _log_epoch_end | EPOCH - 1 : training on 139352 raw words (113983 effective words) took 0.4s, 310684 effective words/s\n",
      "2021-08-15 14:12:00,374 | INFO | utils.py:448 | add_lifecycle_event | Doc2Vec lifecycle event {'msg': 'training on 139352 raw words (113983 effective words) took 0.4s, 305156 effective words/s', 'datetime': '2021-08-15T14:12:00.374637', 'gensim': '4.0.1', 'python': '3.7.4 (default, Aug 13 2019, 15:17:50) \\n[Clang 4.0.1 (tags/RELEASE_401/final)]', 'platform': 'Darwin-19.6.0-x86_64-i386-64bit', 'event': 'train'}\n"
     ]
    },
    {
     "name": "stdout",
     "output_type": "stream",
     "text": [
      "CPU times: user 14.5 s, sys: 2.67 s, total: 17.2 s\n",
      "Wall time: 11.9 s\n"
     ]
    }
   ],
   "source": [
    "%%time\n",
    "for epoch in range(30):\n",
    "    model_tg_dmm.train(utils.shuffle([x for x in tqdm(all_x_w2v_tg)]), total_examples=len(all_x_w2v_tg), epochs=1)\n",
    "    model_tg_dmm.alpha -= 0.002\n",
    "    model_tg_dmc.min_alpha = model_tg_dmc.alpha"
   ]
  },
  {
   "cell_type": "code",
   "execution_count": 229,
   "metadata": {},
   "outputs": [],
   "source": [
    "train_vecs_dmm_tg = get_vectors(model_tg_dmm, x_train1, 100)\n",
    "validation_vecs_dmm_tg = get_vectors(model_tg_dmm, x_val1, 100)"
   ]
  },
  {
   "cell_type": "code",
   "execution_count": 230,
   "metadata": {},
   "outputs": [
    {
     "name": "stdout",
     "output_type": "stream",
     "text": [
      "CPU times: user 42.3 ms, sys: 27.6 ms, total: 69.8 ms\n",
      "Wall time: 25.5 ms\n"
     ]
    },
    {
     "data": {
      "text/plain": [
       "0.5181711606096131"
      ]
     },
     "execution_count": 230,
     "metadata": {},
     "output_type": "execute_result"
    }
   ],
   "source": [
    "%%time\n",
    "clf = LogisticRegression()\n",
    "clf.fit(train_vecs_dmm_tg, y_train)\n",
    "clf.score(validation_vecs_dmm_tg, y_validation)"
   ]
  },
  {
   "cell_type": "code",
   "execution_count": 232,
   "metadata": {},
   "outputs": [
    {
     "name": "stderr",
     "output_type": "stream",
     "text": [
      "/opt/anaconda3/lib/python3.7/site-packages/ipykernel_launcher.py:6: DeprecationWarning: Call to deprecated `docvecs` (The `docvecs` property has been renamed `dv`.).\n",
      "  \n"
     ]
    }
   ],
   "source": [
    "train_vecs_dbow_dmc_tg = get_concat_vectors(model_tg_dbow,model_tg_dmc, x_train1, 200)\n",
    "validation_vecs_dbow_dmc_tg = get_concat_vectors(model_tg_dbow,model_tg_dmc, x_val1, 200)\n"
   ]
  },
  {
   "cell_type": "code",
   "execution_count": 233,
   "metadata": {},
   "outputs": [
    {
     "data": {
      "text/plain": [
       "0.5486518171160609"
      ]
     },
     "execution_count": 233,
     "metadata": {},
     "output_type": "execute_result"
    }
   ],
   "source": [
    "\n",
    "clf = LogisticRegression()\n",
    "clf.fit(train_vecs_dbow_dmc_tg, y_train)\n",
    "clf.score(validation_vecs_dbow_dmc_tg, y_validation)"
   ]
  },
  {
   "cell_type": "code",
   "execution_count": 234,
   "metadata": {},
   "outputs": [
    {
     "name": "stderr",
     "output_type": "stream",
     "text": [
      "/opt/anaconda3/lib/python3.7/site-packages/ipykernel_launcher.py:6: DeprecationWarning: Call to deprecated `docvecs` (The `docvecs` property has been renamed `dv`.).\n",
      "  \n"
     ]
    }
   ],
   "source": [
    "train_vecs_dbow_dmm_tg = get_concat_vectors(model_tg_dbow,model_tg_dmm, x_train1, 200)\n",
    "validation_vecs_dbow_dmm_tg = get_concat_vectors(model_tg_dbow,model_tg_dmm, x_val1, 200)"
   ]
  },
  {
   "cell_type": "code",
   "execution_count": 235,
   "metadata": {},
   "outputs": [
    {
     "data": {
      "text/plain": [
       "0.5404454865181711"
      ]
     },
     "execution_count": 235,
     "metadata": {},
     "output_type": "execute_result"
    }
   ],
   "source": [
    "clf = LogisticRegression()\n",
    "clf.fit(train_vecs_dbow_dmm_tg, y_train)\n",
    "clf.score(validation_vecs_dbow_dmm_tg, y_validation)"
   ]
  },
  {
   "cell_type": "code",
   "execution_count": 236,
   "metadata": {},
   "outputs": [
    {
     "name": "stderr",
     "output_type": "stream",
     "text": [
      "/opt/anaconda3/lib/python3.7/site-packages/ipykernel_launcher.py:6: DeprecationWarning: Call to deprecated `docvecs` (The `docvecs` property has been renamed `dv`.).\n",
      "  \n"
     ]
    }
   ],
   "source": [
    "train_vecs_ugdbow_tgdmm = get_concat_vectors(model_ug_dbow,model_tg_dmm, x_train1, 200)\n",
    "validation_vecs_ugdbow_tgdmm = get_concat_vectors(model_ug_dbow,model_tg_dmm, x_val1, 200)"
   ]
  },
  {
   "cell_type": "code",
   "execution_count": 237,
   "metadata": {},
   "outputs": [
    {
     "data": {
      "text/plain": [
       "LogisticRegression()"
      ]
     },
     "execution_count": 237,
     "metadata": {},
     "output_type": "execute_result"
    }
   ],
   "source": [
    "clf = LogisticRegression()\n",
    "clf.fit(train_vecs_ugdbow_tgdmm, y_train)"
   ]
  },
  {
   "cell_type": "code",
   "execution_count": 238,
   "metadata": {},
   "outputs": [
    {
     "data": {
      "text/plain": [
       "0.488862837045721"
      ]
     },
     "execution_count": 238,
     "metadata": {},
     "output_type": "execute_result"
    }
   ],
   "source": [
    "clf.score(validation_vecs_ugdbow_tgdmm, y_validation)"
   ]
  },
  {
   "cell_type": "code",
   "execution_count": null,
   "metadata": {},
   "outputs": [],
   "source": []
  }
 ],
 "metadata": {
  "kernelspec": {
   "display_name": "Python 3",
   "language": "python",
   "name": "python3"
  },
  "language_info": {
   "codemirror_mode": {
    "name": "ipython",
    "version": 3
   },
   "file_extension": ".py",
   "mimetype": "text/x-python",
   "name": "python",
   "nbconvert_exporter": "python",
   "pygments_lexer": "ipython3",
   "version": "3.7.4"
  }
 },
 "nbformat": 4,
 "nbformat_minor": 2
}
