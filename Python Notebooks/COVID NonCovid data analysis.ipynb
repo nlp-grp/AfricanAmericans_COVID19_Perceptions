{
 "cells": [
  {
   "cell_type": "code",
   "execution_count": null,
   "metadata": {},
   "outputs": [],
   "source": [
    "import string\n",
    "import re\n",
    "import os\n",
    "import nltk\n",
    "import pandas as pd\n",
    "import numpy as np\n",
    "import json\n",
    "import glob\n",
    "import gzip\n",
    "import tensorflow as tf\n",
    "from tensorflow import keras\n",
    "import time\n",
    "\n",
    "import matplotlib.pyplot as plt\n",
    "\n",
    "SEED = 1013\n",
    "np.random.seed(SEED)\n",
    "\n",
    "from sklearn.metrics import classification_report\n",
    "from sklearn.model_selection import train_test_split\n",
    "from tensorflow.keras import Model\n",
    "from sklearn.model_selection import StratifiedKFold\n",
    "from sklearn.feature_extraction.text import CountVectorizer\n",
    "from sklearn.feature_extraction.text import TfidfVectorizer\n",
    "\n",
    "\n",
    "import pandas as pd \n",
    "import numpy as np \n",
    "from keras.preprocessing.sequence import pad_sequences\n",
    "from sklearn.metrics import classification_report\n",
    "\n",
    "from sklearn.model_selection import train_test_split\n",
    "from sklearn.model_selection import GridSearchCV\n",
    "from sklearn.metrics import classification_report\n",
    "from sklearn.svm import SVC\n",
    "from sklearn.metrics import confusion_matrix\n",
    "from sklearn.metrics import accuracy_score\n",
    "from scipy import sparse\n",
    "import os\n",
    "import pickle\n",
    "import emoji\n",
    "from wordcloud import WordCloud\n",
    "\n",
    "from nltk.corpus import stopwords\n",
    "from nltk.stem import PorterStemmer\n",
    "from nltk.tokenize import TweetTokenizer\n",
    "#nltk.download('stopwords')\n",
    "#nltk.download('punkt')\n",
    "from nltk.util import ngrams\n",
    "\n",
    "nltk.download('stopwords')\n",
    "from nltk.corpus import stopwords\n",
    "from nltk.tokenize import TweetTokenizer"
   ]
  },
  {
   "cell_type": "code",
   "execution_count": null,
   "metadata": {},
   "outputs": [],
   "source": [
    "covid_files_path = r'/Users/Meghna/Desktop/covid_data/covid_tweets.json'\n",
    "\n",
    "covid_train_data = []\n",
    "noncovid_train_data = []\n",
    "covid_train_labels = []\n",
    "noncovid_train_labels = []\n",
    "\n",
    "covid_train_data2 = []\n",
    "noncovid_train_data2 = []\n",
    "\n",
    "\n",
    "try:\n",
    "    with open(covid_files_path,'r') as fin:\n",
    "        for line in fin:\n",
    "            tweet = json.loads(line)\n",
    "            covid_train_data.append(tweet['text'])\n",
    "            covid_train_labels.append(1)\n",
    "except:\n",
    "    print(\"Faulty file \")"
   ]
  },
  {
   "cell_type": "code",
   "execution_count": null,
   "metadata": {},
   "outputs": [],
   "source": [
    "covid_box_plot = [len(t) for t in covid_train_data]"
   ]
  },
  {
   "cell_type": "code",
   "execution_count": null,
   "metadata": {},
   "outputs": [],
   "source": [
    "fig, ax = plt.subplots(figsize=(5, 5))\n",
    "plt.boxplot(covid_box_plot)\n",
    "plt.show()"
   ]
  },
  {
   "cell_type": "code",
   "execution_count": null,
   "metadata": {},
   "outputs": [],
   "source": [
    "noncovid_files_path = r'/Users/Meghna/Desktop/noncovid_data/*'\n",
    "noncovid_files = glob.glob(noncovid_files_path)\n",
    "num_noncovid_tweets = 0\n",
    "\n",
    "for i in range(len(noncovid_files)):\n",
    "    print(\"opening file\", noncovid_files[i])\n",
    "    try:\n",
    "        with gzip.open(noncovid_files[i],'r') as fin:\n",
    "            for line in fin:\n",
    "                if num_noncovid_tweets < 27068:\n",
    "                    tweet = json.loads(line)\n",
    "                    noncovid_train_data.append(tweet['text'])\n",
    "                    noncovid_train_labels.append(0)\n",
    "                    num_noncovid_tweets += 1\n",
    "\n",
    "    except:\n",
    "        print(\"Faulty file \", noncovid_files[i])"
   ]
  },
  {
   "cell_type": "code",
   "execution_count": null,
   "metadata": {},
   "outputs": [],
   "source": [
    "noncovid_box_plot = [len(t) for t in noncovid_train_data]"
   ]
  },
  {
   "cell_type": "code",
   "execution_count": null,
   "metadata": {},
   "outputs": [],
   "source": [
    "pd.set_option('display.max_colwidth', None)\n",
    "df1 = pd.DataFrame(columns=['text','label'])\n",
    "df1['text'] = covid_train_data\n",
    "df1['label'] = covid_train_labels\n",
    "df1['pre_clean_len'] = [len(t) for t in df1.text]\n",
    "df1[df1.pre_clean_len > 200]"
   ]
  },
  {
   "cell_type": "code",
   "execution_count": null,
   "metadata": {},
   "outputs": [],
   "source": [
    "fig, ax = plt.subplots(figsize=(5, 5))\n",
    "plt.boxplot(noncovid_box_plot)\n",
    "plt.show()"
   ]
  },
  {
   "cell_type": "code",
   "execution_count": null,
   "metadata": {},
   "outputs": [],
   "source": [
    "pd.set_option('display.max_colwidth', None)\n",
    "df2 = pd.DataFrame(columns=['text','label'])\n",
    "df2['text'] = noncovid_train_data\n",
    "df2['label'] = noncovid_train_labels\n",
    "df2['pre_clean_len'] = [len(t) for t in df2.text]\n",
    "df2[df2.pre_clean_len > 800]"
   ]
  },
  {
   "cell_type": "code",
   "execution_count": null,
   "metadata": {},
   "outputs": [],
   "source": [
    "plt.style.use('fivethirtyeight')\n",
    "\n",
    "%matplotlib inline\n",
    "%config InlineBackend.figure_format = 'retina'\n",
    "\n",
    "import re\n",
    "from bs4 import BeautifulSoup\n",
    "from nltk.tokenize import WordPunctTokenizer\n",
    "tok = WordPunctTokenizer()\n",
    "\n",
    "pat1 = r'@[A-Za-z0-9_]+'\n",
    "pat2 = r'https?://[^ ]+'\n",
    "combined_pat = r'|'.join((pat1, pat2))\n",
    "www_pat = r'www.[^ ]+'\n",
    "negations_dic = {\"isn't\":\"is not\", \"aren't\":\"are not\", \"wasn't\":\"was not\", \"weren't\":\"were not\",\n",
    "                \"haven't\":\"have not\",\"hasn't\":\"has not\",\"hadn't\":\"had not\",\"won't\":\"will not\",\n",
    "                \"wouldn't\":\"would not\", \"don't\":\"do not\", \"doesn't\":\"does not\",\"didn't\":\"did not\",\n",
    "                \"can't\":\"can not\",\"couldn't\":\"could not\",\"shouldn't\":\"should not\",\"mightn't\":\"might not\",\n",
    "                \"mustn't\":\"must not\"}\n",
    "neg_pattern = re.compile(r'\\b(' + '|'.join(negations_dic.keys()) + r')\\b')\n",
    "\n",
    "def tweet_cleaner_updated(text):\n",
    "    soup = BeautifulSoup(text, 'lxml')\n",
    "    souped = soup.get_text()\n",
    "    try:\n",
    "        bom_removed = souped.decode(\"utf-8-sig\").replace(u\"\\ufffd\", \"?\")\n",
    "    except:\n",
    "        bom_removed = souped\n",
    "    stripped = re.sub(combined_pat, '', bom_removed)\n",
    "    stripped = re.sub(www_pat, '', stripped)\n",
    "    stripped = re.sub(r'\\@w+','',stripped)\n",
    "    lower_case = stripped.lower()\n",
    "    neg_handled = neg_pattern.sub(lambda x: negations_dic[x.group()], lower_case)\n",
    "    letters_only = re.sub(\"[^a-zA-Z]\", \" \", neg_handled)\n",
    "    # During the letters_only process two lines above, it has created unnecessay white spaces,\n",
    "    # I will tokenize and join together to remove unneccessary white spaces\n",
    "    words = [x for x  in tok.tokenize(letters_only) if len(x) > 1]\n",
    "    return (\" \".join(words)).strip()"
   ]
  },
  {
   "cell_type": "code",
   "execution_count": null,
   "metadata": {},
   "outputs": [],
   "source": [
    "# def process_tweet(tweet):\n",
    "#     \"\"\"Process tweet function.\n",
    "#     Input:\n",
    "#         tweet: a string containing a tweet\n",
    "#     Output:\n",
    "#         tweets_clean: a list of words containing the processed tweet\n",
    "#     \"\"\"\n",
    "#     stemmer = PorterStemmer()\n",
    "#     stopwords_english = stopwords.words('english')\n",
    "#     tweet = emoji.demojize(tweet, language='en')\n",
    "#     #remove mention sign and name\n",
    "#     tweet = re.sub(r'\\@w+','',tweet)\n",
    "#     # remove stock market tickers like $GE\n",
    "#     tweet = re.sub(r'\\$\\w*', '', tweet)\n",
    "#     # remove old style retweet text \"RT\"\n",
    "#     tweet = re.sub(r'^RT[\\s]+', '', tweet)\n",
    "#     # remove hyperlinks\n",
    "#     tweet = re.sub(r'https?:\\/\\/.*[\\r\\n]*', '', tweet)\n",
    "#     # remove hashtags\n",
    "#     # only removing the hash # sign from the word\n",
    "#     tweet = re.sub(r'#', '', tweet)\n",
    "#     # tokenize tweets\n",
    "# #     tokenizer = TweetTokenizer(preserve_case=False, strip_handles=True,\n",
    "# #                                reduce_len=True)\n",
    "# #     tweet_tokens = tokenizer.tokenize(tweet)\n",
    "#     tweet_tokens = tweet.split()\n",
    "#     tweets_clean = []\n",
    "#     for word in tweet_tokens:\n",
    "#         if (word not in stopwords_english and  # remove stopwords\n",
    "#                 word not in string.punctuation):  # remove punctuation\n",
    "#             stem_word = stemmer.stem(word)  # stemming word\n",
    "#             tweets_clean.append(stem_word)\n",
    "\n",
    "#     return ''.join(tweets_clean)"
   ]
  },
  {
   "cell_type": "code",
   "execution_count": null,
   "metadata": {},
   "outputs": [],
   "source": [
    "for tweet in covid_train_data:\n",
    "    covid_train_data2.append(tweet_cleaner_updated(tweet))\n",
    "    \n",
    "for ntweet in noncovid_train_data:\n",
    "    noncovid_train_data2.append(tweet_cleaner_updated(ntweet))\n",
    "\n",
    "train_data = covid_train_data2 + noncovid_train_data2\n",
    "train_labels = covid_train_labels + noncovid_train_labels"
   ]
  },
  {
   "cell_type": "code",
   "execution_count": null,
   "metadata": {},
   "outputs": [],
   "source": [
    "covid_box_plot2 = [len(t) for t in covid_train_data2]\n",
    "fig, ax = plt.subplots(figsize=(5, 5))\n",
    "plt.boxplot(covid_box_plot2)\n",
    "plt.show()"
   ]
  },
  {
   "cell_type": "code",
   "execution_count": null,
   "metadata": {},
   "outputs": [],
   "source": [
    "noncovid_box_plot2 = [len(t) for t in noncovid_train_data2]\n",
    "fig, ax = plt.subplots(figsize=(5, 5))\n",
    "plt.boxplot(noncovid_box_plot2)\n",
    "plt.show()"
   ]
  },
  {
   "cell_type": "code",
   "execution_count": null,
   "metadata": {},
   "outputs": [],
   "source": [
    "pd.set_option('display.max_colwidth', None)\n",
    "df3 = pd.DataFrame(columns=['text','label'])\n",
    "df3['text'] = noncovid_train_data2\n",
    "df3['label'] = noncovid_train_labels\n",
    "df3['pre_clean_len'] = [len(t) for t in df3.text]\n",
    "df3[df3.pre_clean_len > 150].head()"
   ]
  },
  {
   "cell_type": "code",
   "execution_count": null,
   "metadata": {},
   "outputs": [],
   "source": [
    "pd.set_option('display.max_colwidth', None)\n",
    "df4 = pd.DataFrame(columns=['text','label'])\n",
    "df4['text'] = covid_train_data2\n",
    "df4['label'] = covid_train_labels\n",
    "df4['pre_clean_len'] = [len(t) for t in df4.text]\n",
    "df4[df4.pre_clean_len > 150].head()"
   ]
  },
  {
   "cell_type": "code",
   "execution_count": null,
   "metadata": {},
   "outputs": [],
   "source": [
    "neg_tweets = df3[df3.label == 0]\n",
    "neg_string = []\n",
    "for t in neg_tweets.text:\n",
    "    neg_string.append(t)\n",
    "neg_string = pd.Series(neg_string).str.cat(sep=' ')\n",
    "\n",
    "wordcloud = WordCloud(width=1600, height=800,max_font_size=200).generate(neg_string)\n",
    "plt.figure(figsize=(12,10))\n",
    "plt.imshow(wordcloud, interpolation=\"bilinear\")\n",
    "plt.axis(\"off\")\n",
    "plt.show()"
   ]
  },
  {
   "cell_type": "code",
   "execution_count": null,
   "metadata": {},
   "outputs": [],
   "source": [
    "pos_tweets = df4[df4.label == 1]\n",
    "pos_string = []\n",
    "for t in pos_tweets.text:\n",
    "    pos_string.append(t)\n",
    "pos_string = pd.Series(pos_string).str.cat(sep=' ')\n",
    "wordcloud = WordCloud(width=1600, height=800,max_font_size=200,colormap='magma').generate(pos_string) \n",
    "plt.figure(figsize=(12,10)) \n",
    "plt.imshow(wordcloud, interpolation=\"bilinear\") \n",
    "plt.axis(\"off\") \n",
    "plt.show()"
   ]
  },
  {
   "cell_type": "code",
   "execution_count": null,
   "metadata": {},
   "outputs": [],
   "source": [
    "for t in neg_tweets.text[:200]:\n",
    "    if 'china' in t:\n",
    "        print(t)"
   ]
  },
  {
   "cell_type": "code",
   "execution_count": null,
   "metadata": {},
   "outputs": [],
   "source": [
    "for t in pos_tweets.text[:800]:\n",
    "    if 'china' in t:\n",
    "        print(t)"
   ]
  },
  {
   "cell_type": "code",
   "execution_count": null,
   "metadata": {},
   "outputs": [],
   "source": [
    "train_data = covid_train_data2 + noncovid_train_data2\n",
    "train_labels = covid_train_labels + noncovid_train_labels"
   ]
  },
  {
   "cell_type": "code",
   "execution_count": null,
   "metadata": {},
   "outputs": [],
   "source": [
    "my_df = pd.DataFrame(columns=['text','target'])\n",
    "my_df['text'] = train_data\n",
    "my_df['target'] = train_labels\n",
    "my_df.head()"
   ]
  },
  {
   "cell_type": "code",
   "execution_count": null,
   "metadata": {},
   "outputs": [],
   "source": [
    "cvec = CountVectorizer()\n",
    "cvec.fit(my_df.text)"
   ]
  },
  {
   "cell_type": "code",
   "execution_count": null,
   "metadata": {},
   "outputs": [],
   "source": [
    "len(cvec.get_feature_names())"
   ]
  },
  {
   "cell_type": "code",
   "execution_count": null,
   "metadata": {},
   "outputs": [],
   "source": [
    "neg_doc_matrix = cvec.transform(my_df[my_df.target == 0].text)\n",
    "pos_doc_matrix = cvec.transform(my_df[my_df.target == 1].text)\n",
    "neg_tf = np.sum(neg_doc_matrix,axis=0)\n",
    "pos_tf = np.sum(pos_doc_matrix,axis=0)\n",
    "neg = np.squeeze(np.asarray(neg_tf))\n",
    "pos = np.squeeze(np.asarray(pos_tf))\n",
    "term_freq_df = pd.DataFrame([neg,pos],columns=cvec.get_feature_names()).transpose()"
   ]
  },
  {
   "cell_type": "code",
   "execution_count": null,
   "metadata": {},
   "outputs": [],
   "source": [
    "print(neg_doc_matrix[1])\n",
    "print(neg[:20])\n",
    "print(neg_doc_matrix.toarray()[10])\n",
    "print(term_freq_df.head())"
   ]
  },
  {
   "cell_type": "code",
   "execution_count": null,
   "metadata": {},
   "outputs": [],
   "source": [
    "term_freq_df.columns = ['negative', 'positive']\n",
    "term_freq_df['total'] = term_freq_df['negative'] + term_freq_df['positive']\n",
    "term_freq_df.sort_values(by='total', ascending=False).iloc[:10]"
   ]
  },
  {
   "cell_type": "code",
   "execution_count": null,
   "metadata": {},
   "outputs": [],
   "source": [
    "from sklearn.feature_extraction.text import CountVectorizer\n",
    "cvec = CountVectorizer(stop_words='english',max_features=10000)\n",
    "cvec.fit(my_df.text)"
   ]
  },
  {
   "cell_type": "code",
   "execution_count": null,
   "metadata": {},
   "outputs": [],
   "source": [
    "document_matrix = cvec.transform(my_df.text)"
   ]
  },
  {
   "cell_type": "code",
   "execution_count": null,
   "metadata": {},
   "outputs": [],
   "source": [
    "neg_doc_matrix2 = cvec.transform(my_df[my_df.target == 0].text)\n",
    "pos_doc_matrix2 = cvec.transform(my_df[my_df.target == 1].text)\n",
    "neg_tf2 = np.sum(neg_doc_matrix2,axis=0)\n",
    "pos_tf2 = np.sum(pos_doc_matrix2,axis=0)\n",
    "neg2 = np.squeeze(np.asarray(neg_tf2))\n",
    "pos2 = np.squeeze(np.asarray(pos_tf2))\n",
    "term_freq_df2 = pd.DataFrame([neg2,pos2],columns=cvec.get_feature_names()).transpose()\n",
    "term_freq_df2.columns = ['negative', 'positive']\n",
    "term_freq_df2['total'] = term_freq_df2['negative'] + term_freq_df2['positive']\n",
    "term_freq_df2.sort_values(by='total', ascending=False).iloc[:30]"
   ]
  },
  {
   "cell_type": "code",
   "execution_count": null,
   "metadata": {},
   "outputs": [],
   "source": [
    "import seaborn as sns\n",
    "plt.figure(figsize=(8,6))\n",
    "ax = sns.regplot(x=\"negative\", y=\"positive\",fit_reg=False, scatter_kws={'alpha':0.5},data=term_freq_df2)\n",
    "plt.ylabel('Positive Frequency')\n",
    "plt.xlabel('Negative Frequency')\n",
    "plt.title('Negative Frequency vs Positive Frequency')"
   ]
  },
  {
   "cell_type": "code",
   "execution_count": null,
   "metadata": {},
   "outputs": [],
   "source": [
    "term_freq_df2['pos_rate'] = term_freq_df2['positive'] * 1./term_freq_df2['total']\n",
    "term_freq_df2.sort_values(by='pos_rate', ascending=False).iloc[:10]"
   ]
  },
  {
   "cell_type": "code",
   "execution_count": null,
   "metadata": {},
   "outputs": [],
   "source": [
    "term_freq_df2['neg_rate'] = term_freq_df2['negative'] * 1./term_freq_df2['total']\n",
    "term_freq_df2.sort_values(by='neg_rate', ascending=False).iloc[:10]"
   ]
  },
  {
   "cell_type": "code",
   "execution_count": null,
   "metadata": {},
   "outputs": [],
   "source": [
    "term_freq_df2['pos_freq_pct'] = term_freq_df2['positive'] * 1./term_freq_df2['positive'].sum()\n",
    "term_freq_df2.sort_values(by='pos_freq_pct', ascending=False).iloc[:10]"
   ]
  },
  {
   "cell_type": "code",
   "execution_count": null,
   "metadata": {},
   "outputs": [],
   "source": [
    "term_freq_df2['neg_freq_pct'] = term_freq_df2['negative'] * 1./term_freq_df2['negative'].sum()\n",
    "term_freq_df2.sort_values(by='neg_freq_pct', ascending=False).iloc[:10]"
   ]
  },
  {
   "cell_type": "code",
   "execution_count": null,
   "metadata": {},
   "outputs": [],
   "source": [
    "from scipy.stats import hmean\n",
    "\n",
    "term_freq_df2['pos_hmean'] = term_freq_df2.apply(lambda x: (hmean([x['pos_rate'], x['pos_freq_pct']])\n",
    "                                                                   if x['pos_rate'] > 0 and x['pos_freq_pct'] > 0 \n",
    "                                                                   else 0), axis=1)                                                        \n",
    "term_freq_df2.sort_values(by='pos_hmean', ascending=False).iloc[:10]"
   ]
  },
  {
   "cell_type": "code",
   "execution_count": null,
   "metadata": {},
   "outputs": [],
   "source": [
    "term_freq_df2['neg_hmean'] = term_freq_df2.apply(lambda x: (hmean([x['neg_rate'], x['neg_freq_pct']])\n",
    "                                                                   if x['neg_rate'] > 0 and x['neg_freq_pct'] > 0 \n",
    "                                                                   else 0), axis=1)                                                        \n",
    "term_freq_df2.sort_values(by='neg_hmean', ascending=False).iloc[:10]"
   ]
  },
  {
   "cell_type": "code",
   "execution_count": null,
   "metadata": {},
   "outputs": [],
   "source": [
    "from scipy.stats import norm\n",
    "def normcdf(x):\n",
    "    return norm.cdf(x, x.mean(), x.std())\n",
    "term_freq_df2['pos_rate_normcdf'] = normcdf(term_freq_df2['pos_rate'])\n",
    "term_freq_df2['pos_freq_pct_normcdf'] = normcdf(term_freq_df2['pos_freq_pct'])\n",
    "term_freq_df2['pos_normcdf_hmean'] = hmean([term_freq_df2['pos_rate_normcdf'], term_freq_df2['pos_freq_pct_normcdf']])\n",
    "term_freq_df2.sort_values(by='pos_normcdf_hmean', ascending=False).iloc[:10]\n"
   ]
  },
  {
   "cell_type": "code",
   "execution_count": null,
   "metadata": {},
   "outputs": [],
   "source": [
    "from scipy.stats import norm\n",
    "def normcdf(x):\n",
    "    return norm.cdf(x, x.mean(), x.std())\n",
    "\n",
    "term_freq_df2['neg_rate_normcdf'] = normcdf(term_freq_df2['neg_rate'])\n",
    "term_freq_df2['neg_freq_pct_normcdf'] = normcdf(term_freq_df2['neg_freq_pct'])\n",
    "term_freq_df2['neg_normcdf_hmean'] = hmean([term_freq_df2['neg_rate_normcdf'], term_freq_df2['neg_freq_pct_normcdf']])\n",
    "term_freq_df2.sort_values(by='neg_normcdf_hmean', ascending=False).iloc[:10]\n"
   ]
  },
  {
   "cell_type": "code",
   "execution_count": null,
   "metadata": {},
   "outputs": [],
   "source": [
    "plt.figure(figsize=(8,6))\n",
    "ax = sns.regplot(x=\"neg_freq_pct\", y=\"pos_freq_pct\",fit_reg=False, scatter_kws={'alpha':0.5},data=term_freq_df2)\n",
    "plt.ylabel('Positive Frequency Rate')\n",
    "plt.xlabel('Negative Frequency Rate')\n",
    "plt.title('neg_freq_pct vs pos_freq_pct')"
   ]
  },
  {
   "cell_type": "code",
   "execution_count": null,
   "metadata": {},
   "outputs": [],
   "source": [
    "plt.figure(figsize=(8,6))\n",
    "ax = sns.regplot(x=\"neg_hmean\", y=\"pos_hmean\",fit_reg=False, scatter_kws={'alpha':0.5},data=term_freq_df2)\n",
    "plt.ylabel('Positive Rate and Frequency Harmonic Mean')\n",
    "plt.xlabel('Negative Rate and Frequency Harmonic Mean')\n",
    "plt.title('neg_hmean vs pos_hmean')"
   ]
  },
  {
   "cell_type": "code",
   "execution_count": null,
   "metadata": {},
   "outputs": [],
   "source": [
    "plt.figure(figsize=(8,6))\n",
    "ax = sns.regplot(x=\"neg_normcdf_hmean\", y=\"pos_normcdf_hmean\",fit_reg=False, scatter_kws={'alpha':0.5},data=term_freq_df2)\n",
    "plt.ylabel('Positive Rate and Frequency CDF Harmonic Mean')\n",
    "plt.xlabel('Negative Rate and Frequency CDF Harmonic Mean')\n",
    "plt.title('neg_normcdf_hmean vs pos_normcdf_hmean')"
   ]
  },
  {
   "cell_type": "code",
   "execution_count": null,
   "metadata": {},
   "outputs": [],
   "source": [
    "from bokeh.plotting import figure\n",
    "from bokeh.io import output_notebook, show\n",
    "from bokeh.models import LinearColorMapper\n",
    "output_notebook()\n",
    "from bokeh.resources import INLINE\n",
    "import bokeh.io\n",
    "\n",
    "\n",
    "color_mapper = LinearColorMapper(palette='Inferno256', low=min(term_freq_df2.pos_normcdf_hmean), high=max(term_freq_df2.pos_normcdf_hmean))\n",
    "p = figure(x_axis_label='neg_normcdf_hmean', y_axis_label='pos_normcdf_hmean')\n",
    "p.circle('neg_normcdf_hmean','pos_normcdf_hmean',size=5,alpha=0.3,source=term_freq_df2,color={'field': 'pos_normcdf_hmean', 'transform': color_mapper})\n",
    "from bokeh.models import HoverTool\n",
    "hover = HoverTool(tooltips=[('token','@index')])\n",
    "p.add_tools(hover)\n",
    "show(p)"
   ]
  },
  {
   "cell_type": "code",
   "execution_count": null,
   "metadata": {},
   "outputs": [],
   "source": [
    "train_corpus,test_corpus,train_labels,test_labels = train_test_split(train_data,train_labels,stratify=train_labels,test_size=0.25,random_state=1)\n",
    "train_texts, train_labels, test_texts, test_labels = train_corpus, train_labels, test_corpus, test_labels\n",
    "x_train, y_train, x_validation, y_validation = train_corpus,train_labels,test_corpus,test_labels"
   ]
  },
  {
   "cell_type": "code",
   "execution_count": null,
   "metadata": {},
   "outputs": [],
   "source": [
    "x_train, y_train, x_validation, y_validation = train_corpus,train_labels,test_corpus,test_labels"
   ]
  },
  {
   "cell_type": "code",
   "execution_count": null,
   "metadata": {},
   "outputs": [],
   "source": [
    "y_train_len0 = 0\n",
    "y_train_len1 = 1\n",
    "for label in y_train:\n",
    "    if label == 1:\n",
    "        y_train_len1 += 1\n",
    "    else:\n",
    "        y_train_len0 += 1\n",
    "        \n",
    "y_val_len0 = 0\n",
    "y_val_len1 = 0\n",
    "for label in y_validation:\n",
    "    if label == 1:\n",
    "        y_val_len1 += 1\n",
    "    else:\n",
    "        y_val_len0 += 1\n",
    "        "
   ]
  },
  {
   "cell_type": "code",
   "execution_count": null,
   "metadata": {},
   "outputs": [],
   "source": [
    "print( \"Train set has total {0} entries with {1:.2f}% negative, {2:.2f}% positive\".format(len(x_train),\n",
    "                                                                             (y_train_len0 / (len(x_train)*1.))*100,\n",
    "                                                                            (y_train_len1 / (len(x_train)*1.))*100))\n",
    "       \n",
    "                                                                            \n",
    "print(\"Validation set has total {0} entries with {1:.2f}% negative, {2:.2f}% positive\".format(len(x_validation),\n",
    "                                                                             (y_val_len0 / (len(x_validation)))*100,\n",
    "                                                                            (y_val_len1 / (len(x_validation)))*100))"
   ]
  },
  {
   "cell_type": "code",
   "execution_count": null,
   "metadata": {},
   "outputs": [],
   "source": [
    "def accuracy_summary(pipeline, x_train, y_train, x_test, y_test):\n",
    "    if y_val_len0 / (len(x_test)*1.) > 0.5:\n",
    "        null_accuracy =  y_val_len1/ (len(x_test)*1.)\n",
    "    else:\n",
    "        null_accuracy = 1. - (y_val_len1 / (len(x_test)*1.))\n",
    "    #t0 = time.time()\n",
    "    sentiment_fit = pipeline.fit(x_train, y_train)\n",
    "    y_pred = sentiment_fit.predict(x_test)\n",
    "    #train_test_time = time() - t0\n",
    "    accuracy = accuracy_score(y_test, y_pred)\n",
    "    print (\"null accuracy: {0:.2f}%\".format(null_accuracy*100))\n",
    "    print (\"accuracy score: {0:.2f}%\".format(accuracy*100))\n",
    "    if accuracy > null_accuracy:\n",
    "        print (\"model is {0:.2f}% more accurate than null accuracy\".format((accuracy-null_accuracy)*100))\n",
    "    elif accuracy == null_accuracy:\n",
    "        print (\"model has the same accuracy with the null accuracy\")\n",
    "    else:\n",
    "        print (\"model is {0:.2f}% less accurate than null accuracy\".format((null_accuracy-accuracy)*100))\n",
    "    #print (\"train and test time: {0:.2f}s\".format(train_test_time))\n",
    "    print (\"-\"*80)\n",
    "    return accuracy"
   ]
  },
  {
   "cell_type": "code",
   "execution_count": null,
   "metadata": {},
   "outputs": [],
   "source": [
    "from sklearn.linear_model import LogisticRegression\n",
    "from sklearn.pipeline import Pipeline\n",
    "cvec = CountVectorizer()\n",
    "lr = LogisticRegression(max_iter=200)\n",
    "n_features = np.arange(10000,48001,10000)\n",
    "\n",
    "def nfeature_accuracy_checker(vectorizer=cvec, n_features=n_features, stop_words=None, ngram_range=(1, 1), classifier=lr):\n",
    "    result = []\n",
    "    print (classifier)\n",
    "    print (\"\\n\")\n",
    "    for n in n_features:\n",
    "        vectorizer.set_params(stop_words=stop_words, max_features=n, ngram_range=ngram_range)\n",
    "        checker_pipeline = Pipeline([\n",
    "            ('vectorizer', vectorizer),\n",
    "            ('classifier', classifier)\n",
    "        ])\n",
    "        print(\"Validation result for {} features\".format(n))\n",
    "        nfeature_accuracy = accuracy_summary(checker_pipeline, x_train, y_train, x_validation, y_validation)\n",
    "        result.append((n,nfeature_accuracy))\n",
    "    return result"
   ]
  },
  {
   "cell_type": "code",
   "execution_count": null,
   "metadata": {},
   "outputs": [],
   "source": [
    "from sklearn.feature_extraction import text\n",
    "z = frozenset(list(term_freq_df.sort_values(by='total', ascending=False).iloc[:3].index))\n",
    "c = frozenset(list(term_freq_df.sort_values(by='total', ascending=False).iloc[4:11].index))\n",
    "listofsets = [z,c]\n",
    "a = frozenset.union(*listofsets)\n",
    "b = text.ENGLISH_STOP_WORDS\n",
    "set(a).issubset(set(b))"
   ]
  },
  {
   "cell_type": "code",
   "execution_count": null,
   "metadata": {},
   "outputs": [],
   "source": [
    "my_stop_words = a"
   ]
  },
  {
   "cell_type": "code",
   "execution_count": null,
   "metadata": {},
   "outputs": [],
   "source": [
    "print(\"RESULT FOR UNIGRAM WITHOUT STOP WORDS\\n\")\n",
    "feature_result_wosw = nfeature_accuracy_checker(stop_words='english')"
   ]
  },
  {
   "cell_type": "code",
   "execution_count": null,
   "metadata": {
    "scrolled": true
   },
   "outputs": [],
   "source": [
    "print(\"RESULT FOR UNIGRAM WITH STOP WORDS\\n\")\n",
    "feature_result_ug = nfeature_accuracy_checker()"
   ]
  },
  {
   "cell_type": "code",
   "execution_count": null,
   "metadata": {
    "scrolled": true
   },
   "outputs": [],
   "source": [
    "print(\"RESULT FOR UNIGRAM WITHOUT CUSTOM STOP WORDS (Top 10 frequent words)\\n\")\n",
    "feature_result_wocsw = nfeature_accuracy_checker(stop_words=my_stop_words)"
   ]
  },
  {
   "cell_type": "code",
   "execution_count": null,
   "metadata": {},
   "outputs": [],
   "source": [
    "nfeatures_plot_ug = pd.DataFrame(feature_result_ug,columns=['nfeatures','validation_accuracy'])\n",
    "nfeatures_plot_ug_wocsw = pd.DataFrame(feature_result_wocsw,columns=['nfeatures','validation_accuracy'])\n",
    "nfeatures_plot_ug_wosw = pd.DataFrame(feature_result_wosw,columns=['nfeatures','validation_accuracy'])\n",
    "plt.figure(figsize=(8,6))\n",
    "plt.plot(nfeatures_plot_ug.nfeatures, nfeatures_plot_ug.validation_accuracy, label='with stop words')\n",
    "plt.plot(nfeatures_plot_ug_wocsw.nfeatures, nfeatures_plot_ug_wocsw.validation_accuracy,label='without custom stop words')\n",
    "plt.plot(nfeatures_plot_ug_wosw.nfeatures, nfeatures_plot_ug_wosw.validation_accuracy,label='without stop words')\n",
    "plt.title(\"Without stop words VS With stop words (Unigram): Accuracy\")\n",
    "plt.xlabel(\"Number of features\")\n",
    "plt.ylabel(\"Validation set accuracy\")\n",
    "plt.legend()"
   ]
  },
  {
   "cell_type": "code",
   "execution_count": null,
   "metadata": {},
   "outputs": [],
   "source": [
    "print (\"RESULT FOR BIGRAM WITH STOP WORDS\\n\")\n",
    "feature_result_bg = nfeature_accuracy_checker(stop_words=my_stop_words,ngram_range=(1, 2))"
   ]
  },
  {
   "cell_type": "code",
   "execution_count": null,
   "metadata": {},
   "outputs": [],
   "source": [
    "print (\"RESULT FOR BIGRAM WITH STOP WORDS\\n\")\n",
    "feature_result_bg2 = nfeature_accuracy_checker(stop_words='english', ngram_range=(1, 2))"
   ]
  },
  {
   "cell_type": "code",
   "execution_count": null,
   "metadata": {},
   "outputs": [],
   "source": [
    "print(\"RESULT FOR TRIGRAM WITH STOP WORDS\\n\")\n",
    "feature_result_tg = nfeature_accuracy_checker(stop_words=my_stop_words, ngram_range=(1, 3))"
   ]
  },
  {
   "cell_type": "code",
   "execution_count": null,
   "metadata": {},
   "outputs": [],
   "source": [
    "print(\"RESULT FOR TRIGRAM WITH STOP WORDS\\n\")\n",
    "feature_result_tg2 = nfeature_accuracy_checker(stop_words='english', ngram_range=(1, 3))"
   ]
  },
  {
   "cell_type": "code",
   "execution_count": null,
   "metadata": {},
   "outputs": [],
   "source": [
    "nfeatures_plot_tg = pd.DataFrame(feature_result_tg,columns=['nfeatures','validation_accuracy'])\n",
    "nfeatures_plot_bg = pd.DataFrame(feature_result_bg,columns=['nfeatures','validation_accuracy'])\n",
    "nfeatures_plot_ug = pd.DataFrame(feature_result_wocsw,columns=['nfeatures','validation_accuracy'])\n",
    "nfeatures_plot_tg2 = pd.DataFrame(feature_result_tg2,columns=['nfeatures','validation_accuracy'])\n",
    "nfeatures_plot_bg2 = pd.DataFrame(feature_result_bg2,columns=['nfeatures','validation_accuracy'])\n",
    "nfeatures_plot_ug2 = pd.DataFrame(feature_result_wosw,columns=['nfeatures','validation_accuracy'])\n",
    "plt.figure(figsize=(8,6))\n",
    "plt.plot(nfeatures_plot_tg.nfeatures, nfeatures_plot_tg.validation_accuracy,label='trigram without custom sw')\n",
    "plt.plot(nfeatures_plot_bg.nfeatures, nfeatures_plot_bg.validation_accuracy,label='bigram without custom sw')\n",
    "plt.plot(nfeatures_plot_ug.nfeatures, nfeatures_plot_ug.validation_accuracy, label='unigram without custom sw')\n",
    "plt.plot(nfeatures_plot_tg2.nfeatures, nfeatures_plot_tg2.validation_accuracy,label='trigram without sw')\n",
    "plt.plot(nfeatures_plot_bg2.nfeatures, nfeatures_plot_bg2.validation_accuracy,label='bigram without sw')\n",
    "plt.plot(nfeatures_plot_ug2.nfeatures, nfeatures_plot_ug2.validation_accuracy, label='unigram without sw')\n",
    "plt.title(\"N-gram(1~3) test result : Accuracy\")\n",
    "plt.xlabel(\"Number of features\")\n",
    "plt.ylabel(\"Validation set accuracy\")\n",
    "plt.legend()"
   ]
  },
  {
   "cell_type": "code",
   "execution_count": null,
   "metadata": {},
   "outputs": [],
   "source": [
    "def train_test_and_evaluate(pipeline, x_train, y_train, x_test, y_test):\n",
    "    if y_val_len0 / (len(x_test)*1.) > 0.5:\n",
    "        null_accuracy =  y_val_len1/ (len(x_test)*1.)\n",
    "    else:\n",
    "        null_accuracy = 1. - (y_val_len1 / (len(x_test)*1.))\n",
    "    sentiment_fit = pipeline.fit(x_train, y_train)\n",
    "    y_pred = sentiment_fit.predict(x_test)\n",
    "    accuracy = accuracy_score(y_test, y_pred)\n",
    "    conmat = np.array(confusion_matrix(y_test, y_pred, labels=[0,1]))\n",
    "    confusion = pd.DataFrame(conmat, index=['non_covid', 'covid'],\n",
    "                         columns=['predicted_non_covid','predicted_covid'])\n",
    "    print (\"null accuracy: {0:.2f}%\".format(null_accuracy*100))\n",
    "    print (\"accuracy score: {0:.2f}%\".format(accuracy*100))\n",
    "    if accuracy > null_accuracy:\n",
    "        print (\"model is {0:.2f}% more accurate than null accuracy\".format((accuracy-null_accuracy)*100))\n",
    "    elif accuracy == null_accuracy:\n",
    "        print (\"model has the same accuracy with the null accuracy\")\n",
    "    else:\n",
    "        print (\"model is {0:.2f}% less accurate than null accuracy\".format((null_accuracy-accuracy)*100))\n",
    "    print (\"-\"*80)\n",
    "    print (\"Confusion Matrix\\n\")\n",
    "    print (confusion)\n",
    "    print (\"-\"*80)\n",
    "    print (\"Classification Report\\n\")\n",
    "    print (classification_report(y_test, y_pred, target_names=['negative','positive']))"
   ]
  },
  {
   "cell_type": "code",
   "execution_count": null,
   "metadata": {},
   "outputs": [],
   "source": [
    "%%time\n",
    "tg_cvec = CountVectorizer(max_features=80000,ngram_range=(1, 3))\n",
    "tg_pipeline = Pipeline([\n",
    "        ('vectorizer', tg_cvec),\n",
    "        ('classifier', lr)\n",
    "    ])\n",
    "train_test_and_evaluate(tg_pipeline, x_train, y_train, x_validation, y_validation)"
   ]
  },
  {
   "cell_type": "code",
   "execution_count": null,
   "metadata": {},
   "outputs": [],
   "source": [
    "from sklearn.feature_extraction.text import TfidfVectorizer\n",
    "tvec = TfidfVectorizer()"
   ]
  },
  {
   "cell_type": "code",
   "execution_count": null,
   "metadata": {},
   "outputs": [],
   "source": [
    "%%time\n",
    "print (\"RESULT FOR UNIGRAM WITHOUT CUSTOM STOP WORDS (Tfidf)\\n\")\n",
    "feature_result_ugt = nfeature_accuracy_checker(stop_words = my_stop_words,vectorizer=tvec)"
   ]
  },
  {
   "cell_type": "code",
   "execution_count": null,
   "metadata": {},
   "outputs": [],
   "source": [
    "%%time\n",
    "print (\"RESULT FOR UNIGRAM WITHOUT STOP WORDS (Tfidf)\\n\")\n",
    "feature_result_ugt2 = nfeature_accuracy_checker(stop_words = 'english',vectorizer=tvec)"
   ]
  },
  {
   "cell_type": "code",
   "execution_count": null,
   "metadata": {},
   "outputs": [],
   "source": [
    "%%time\n",
    "print (\"RESULT FOR UNIGRAM WITH STOP WORDS (Tfidf)\\n\")\n",
    "feature_result_ugt3 = nfeature_accuracy_checker(vectorizer=tvec)"
   ]
  },
  {
   "cell_type": "code",
   "execution_count": null,
   "metadata": {},
   "outputs": [],
   "source": [
    "%%time\n",
    "print (\"RESULT FOR BIGRAM WITHOUT CUSTOM STOP WORDS (Tfidf)\\n\")\n",
    "feature_result_bgt = nfeature_accuracy_checker(stop_words = my_stop_words,vectorizer=tvec,ngram_range=(1, 2))"
   ]
  },
  {
   "cell_type": "code",
   "execution_count": null,
   "metadata": {},
   "outputs": [],
   "source": [
    "%%time\n",
    "print (\"RESULT FOR BIGRAM WITHOUT STOP WORDS (Tfidf)\\n\")\n",
    "feature_result_bgt2 = nfeature_accuracy_checker(stop_words = 'english',vectorizer=tvec,ngram_range=(1, 2))"
   ]
  },
  {
   "cell_type": "code",
   "execution_count": null,
   "metadata": {},
   "outputs": [],
   "source": [
    "%%time\n",
    "print (\"RESULT FOR BIGRAM WITH STOP WORDS (Tfidf)\\n\")\n",
    "feature_result_bgt3 = nfeature_accuracy_checker(vectorizer=tvec,ngram_range=(1, 2))"
   ]
  },
  {
   "cell_type": "code",
   "execution_count": null,
   "metadata": {},
   "outputs": [],
   "source": [
    "%%time\n",
    "print (\"RESULT FOR TRIGRAM WITHOUT CUSTOM  STOP WORDS (Tfidf)\\n\")\n",
    "feature_result_tgt = nfeature_accuracy_checker(stop_words = my_stop_words,vectorizer=tvec,ngram_range=(1, 3))"
   ]
  },
  {
   "cell_type": "code",
   "execution_count": null,
   "metadata": {},
   "outputs": [],
   "source": [
    "%%time\n",
    "print (\"RESULT FOR TRIGRAM WITHOUT STOP WORDS (Tfidf)\\n\")\n",
    "feature_result_tgt2 = nfeature_accuracy_checker(stop_words = 'english',vectorizer=tvec,ngram_range=(1, 3))"
   ]
  },
  {
   "cell_type": "code",
   "execution_count": null,
   "metadata": {},
   "outputs": [],
   "source": [
    "%%time\n",
    "print (\"RESULT FOR TRIGRAM WITH STOP WORDS (Tfidf)\\n\")\n",
    "feature_result_tgt3 = nfeature_accuracy_checker(vectorizer=tvec,ngram_range=(1, 3))"
   ]
  },
  {
   "cell_type": "code",
   "execution_count": null,
   "metadata": {},
   "outputs": [],
   "source": [
    "nfeatures_plot_ugt = pd.DataFrame(feature_result_ugt,columns=['nfeatures','validation_accuracy'])\n",
    "nfeatures_plot_ugt2 = pd.DataFrame(feature_result_ugt2,columns=['nfeatures','validation_accuracy'])\n",
    "nfeatures_plot_ugt3 = pd.DataFrame(feature_result_ugt3,columns=['nfeatures','validation_accuracy'])\n",
    "plt.figure(figsize=(8,6))\n",
    "plt.plot(nfeatures_plot_ugt.nfeatures, nfeatures_plot_ugt.validation_accuracy, label='without custom stop words')\n",
    "plt.plot(nfeatures_plot_ugt2.nfeatures, nfeatures_plot_ugt2.validation_accuracy,label='without stop words')\n",
    "plt.plot(nfeatures_plot_ugt3.nfeatures, nfeatures_plot_ugt3.validation_accuracy,label='with stop words')\n",
    "plt.title(\" tfidf Without stop words VS With stop words (Unigram): Accuracy\")\n",
    "plt.xlabel(\"Number of features\")\n",
    "plt.ylabel(\"Validation set accuracy\")\n",
    "plt.legend()"
   ]
  },
  {
   "cell_type": "code",
   "execution_count": null,
   "metadata": {},
   "outputs": [],
   "source": [
    "nfeatures_plot_bgt = pd.DataFrame(feature_result_bgt,columns=['nfeatures','validation_accuracy'])\n",
    "nfeatures_plot_bgt2 = pd.DataFrame(feature_result_bgt2,columns=['nfeatures','validation_accuracy'])\n",
    "nfeatures_plot_bgt3 = pd.DataFrame(feature_result_bgt3,columns=['nfeatures','validation_accuracy'])\n",
    "plt.figure(figsize=(8,6))\n",
    "plt.plot(nfeatures_plot_bgt.nfeatures, nfeatures_plot_bgt.validation_accuracy, label='without custom stop words')\n",
    "plt.plot(nfeatures_plot_bgt2.nfeatures, nfeatures_plot_bgt2.validation_accuracy,label='without stop words')\n",
    "plt.plot(nfeatures_plot_bgt3.nfeatures, nfeatures_plot_bgt3.validation_accuracy,label='with stop words')\n",
    "plt.title(\" tfidf Without stop words VS With stop words (Bigram): Accuracy\")\n",
    "plt.xlabel(\"Number of features\")\n",
    "plt.ylabel(\"Validation set accuracy\")\n",
    "plt.legend()"
   ]
  },
  {
   "cell_type": "code",
   "execution_count": null,
   "metadata": {},
   "outputs": [],
   "source": [
    "nfeatures_plot_tgt = pd.DataFrame(feature_result_tgt,columns=['nfeatures','validation_accuracy'])\n",
    "nfeatures_plot_tgt2 = pd.DataFrame(feature_result_tgt2,columns=['nfeatures','validation_accuracy'])\n",
    "nfeatures_plot_tgt3 = pd.DataFrame(feature_result_tgt3,columns=['nfeatures','validation_accuracy'])\n",
    "plt.figure(figsize=(8,6))\n",
    "plt.plot(nfeatures_plot_tgt.nfeatures, nfeatures_plot_tgt.validation_accuracy, label='without custom stop words')\n",
    "plt.plot(nfeatures_plot_tgt2.nfeatures, nfeatures_plot_tgt2.validation_accuracy,label='without stop words')\n",
    "plt.plot(nfeatures_plot_tgt3.nfeatures, nfeatures_plot_tgt3.validation_accuracy,label='with stop words')\n",
    "plt.title(\" tfidf Without stop words VS With stop words (Trigram): Accuracy\")\n",
    "plt.xlabel(\"Number of features\")\n",
    "plt.ylabel(\"Validation set accuracy\")\n",
    "plt.legend()"
   ]
  },
  {
   "cell_type": "code",
   "execution_count": null,
   "metadata": {},
   "outputs": [],
   "source": [
    "nfeatures_plot_tgt2 = pd.DataFrame(feature_result_tgt2,columns=['nfeatures','validation_accuracy'])\n",
    "nfeatures_plot_bgt2 = pd.DataFrame(feature_result_bgt2,columns=['nfeatures','validation_accuracy'])\n",
    "nfeatures_plot_ugt2 = pd.DataFrame(feature_result_ugt2,columns=['nfeatures','validation_accuracy'])\n",
    "\n",
    "plt.figure(figsize=(8,6))\n",
    "plt.plot(nfeatures_plot_tgt2.nfeatures, nfeatures_plot_tgt2.validation_accuracy,label='trigram tfidf vectorizer',color='royalblue')\n",
    "plt.plot(nfeatures_plot_tg2.nfeatures, nfeatures_plot_tg2.validation_accuracy,label='trigram count vectorizer',linestyle=':', color='royalblue')\n",
    "plt.plot(nfeatures_plot_bgt2.nfeatures, nfeatures_plot_bgt2.validation_accuracy,label='bigram tfidf vectorizer',color='orangered')\n",
    "plt.plot(nfeatures_plot_bg2.nfeatures, nfeatures_plot_bg2.validation_accuracy,label='bigram count vectorizer',linestyle=':',color='orangered')\n",
    "plt.plot(nfeatures_plot_ugt2.nfeatures, nfeatures_plot_ugt2.validation_accuracy, label='unigram tfidf vectorizer',color='gold')\n",
    "plt.plot(nfeatures_plot_ug_wosw.nfeatures, nfeatures_plot_ug_wosw.validation_accuracy, label='unigram count vectorizer',linestyle=':',color='gold')\n",
    "plt.title(\" Without using stop words N-gram(1~3) test result : Accuracy\")\n",
    "plt.xlabel(\"Number of features\")\n",
    "plt.ylabel(\"Validation set accuracy\")\n",
    "plt.legend()"
   ]
  },
  {
   "cell_type": "code",
   "execution_count": null,
   "metadata": {},
   "outputs": [],
   "source": [
    "nfeatures_plot_tgt = pd.DataFrame(feature_result_tgt,columns=['nfeatures','validation_accuracy'])\n",
    "nfeatures_plot_bgt = pd.DataFrame(feature_result_bgt,columns=['nfeatures','validation_accuracy'])\n",
    "nfeatures_plot_ugt = pd.DataFrame(feature_result_ugt,columns=['nfeatures','validation_accuracy'])\n",
    "\n",
    "plt.figure(figsize=(8,6))\n",
    "plt.plot(nfeatures_plot_tgt.nfeatures, nfeatures_plot_tgt.validation_accuracy,label='trigram tfidf vectorizer',color='royalblue')\n",
    "plt.plot(nfeatures_plot_tg.nfeatures, nfeatures_plot_tg.validation_accuracy,label='trigram count vectorizer',linestyle=':', color='royalblue')\n",
    "plt.plot(nfeatures_plot_bgt.nfeatures, nfeatures_plot_bgt.validation_accuracy,label='bigram tfidf vectorizer',color='orangered')\n",
    "plt.plot(nfeatures_plot_bg.nfeatures, nfeatures_plot_bg.validation_accuracy,label='bigram count vectorizer',linestyle=':',color='orangered')\n",
    "plt.plot(nfeatures_plot_ugt.nfeatures, nfeatures_plot_ugt.validation_accuracy, label='unigram tfidf vectorizer',color='gold')\n",
    "plt.plot(nfeatures_plot_ug_wocsw.nfeatures, nfeatures_plot_ug_wocsw.validation_accuracy, label='unigram count vectorizer',linestyle=':',color='gold')\n",
    "plt.title(\"Without using custom stop words N-gram(1~3) test result : Accuracy\")\n",
    "plt.xlabel(\"Number of features\")\n",
    "plt.ylabel(\"Validation set accuracy\")\n",
    "plt.legend()"
   ]
  },
  {
   "cell_type": "code",
   "execution_count": null,
   "metadata": {},
   "outputs": [],
   "source": [
    "feature_result_bg3 = nfeature_accuracy_checker(ngram_range=(1, 2))\n",
    "feature_result_tg3 = nfeature_accuracy_checker(ngram_range=(1, 3))"
   ]
  },
  {
   "cell_type": "code",
   "execution_count": null,
   "metadata": {},
   "outputs": [],
   "source": [
    "nfeatures_plot_tgt3 = pd.DataFrame(feature_result_tgt3,columns=['nfeatures','validation_accuracy'])\n",
    "nfeatures_plot_bgt3 = pd.DataFrame(feature_result_bgt3,columns=['nfeatures','validation_accuracy'])\n",
    "nfeatures_plot_ugt3= pd.DataFrame(feature_result_ugt3,columns=['nfeatures','validation_accuracy'])\n",
    "\n",
    "nfeatures_plot_tg3 = pd.DataFrame(feature_result_tg3,columns=['nfeatures','validation_accuracy'])\n",
    "nfeatures_plot_bg3 = pd.DataFrame(feature_result_bg3,columns=['nfeatures','validation_accuracy'])\n",
    "\n",
    "plt.figure(figsize=(8,6))\n",
    "plt.plot(nfeatures_plot_tgt3.nfeatures, nfeatures_plot_tgt3.validation_accuracy,label='trigram tfidf vectorizer',color='royalblue')\n",
    "plt.plot(nfeatures_plot_tg3.nfeatures, nfeatures_plot_tg3.validation_accuracy,label='trigram count vectorizer',linestyle=':', color='royalblue')\n",
    "plt.plot(nfeatures_plot_bgt3.nfeatures, nfeatures_plot_bgt3.validation_accuracy,label='bigram tfidf vectorizer',color='orangered')\n",
    "plt.plot(nfeatures_plot_bg3.nfeatures, nfeatures_plot_bg3.validation_accuracy,label='bigram count vectorizer',linestyle=':',color='orangered')\n",
    "plt.plot(nfeatures_plot_ugt3.nfeatures, nfeatures_plot_ugt3.validation_accuracy, label='unigram tfidf vectorizer',color='gold')\n",
    "plt.plot(nfeatures_plot_ug.nfeatures, nfeatures_plot_ug.validation_accuracy, label='unigram count vectorizer',linestyle=':',color='gold')\n",
    "plt.title(\"Using stop words N-gram(1~3) test result : Accuracy\")\n",
    "plt.xlabel(\"Number of features\")\n",
    "plt.ylabel(\"Validation set accuracy\")\n",
    "plt.legend()"
   ]
  },
  {
   "cell_type": "code",
   "execution_count": null,
   "metadata": {},
   "outputs": [],
   "source": [
    "def accuracy_summary2(pipeline, x_train, y_train, x_test, y_test):\n",
    "    if y_val_len0 / (len(x_test)*1.) > 0.5:\n",
    "        null_accuracy =  y_val_len1/ (len(x_test)*1.)\n",
    "    else:\n",
    "        null_accuracy = 1. - (y_val_len1 / (len(x_test)*1.))\n",
    "    #t0 = time.time()\n",
    "    sentiment_fit = pipeline.fit(x_train, y_train)\n",
    "    y_pred = sentiment_fit.predict(x_test)\n",
    "    #train_test_time = time() - t0\n",
    "    accuracy = accuracy_score(y_test, y_pred)\n",
    "    print (\"null accuracy: {0:.2f}%\".format(null_accuracy*100))\n",
    "    print (\"accuracy score: {0:.2f}%\".format(accuracy*100))\n",
    "    if accuracy > null_accuracy:\n",
    "        print (\"model is {0:.2f}% more accurate than null accuracy\".format((accuracy-null_accuracy)*100))\n",
    "    elif accuracy == null_accuracy:\n",
    "        print (\"model has the same accuracy with the null accuracy\")\n",
    "    else:\n",
    "        print (\"model is {0:.2f}% less accurate than null accuracy\".format((null_accuracy-accuracy)*100))\n",
    "    #print (\"train and test time: {0:.2f}s\".format(train_test_time))\n",
    "    print (\"-\"*80)\n",
    "    return accuracy, sentiment_fit"
   ]
  },
  {
   "cell_type": "code",
   "execution_count": null,
   "metadata": {},
   "outputs": [],
   "source": [
    "from sklearn.ensemble import VotingClassifier\n",
    "from sklearn.svm import LinearSVC\n",
    "from sklearn.naive_bayes import MultinomialNB\n",
    "from sklearn.linear_model import RidgeClassifier\n",
    "from sklearn.linear_model import PassiveAggressiveClassifier\n",
    "from sklearn.linear_model import LogisticRegression\n",
    "\n",
    "clf1 = LogisticRegression()\n",
    "clf2 = LinearSVC()\n",
    "clf3 = MultinomialNB()\n",
    "clf4 = RidgeClassifier()\n",
    "clf5 = PassiveAggressiveClassifier()\n",
    "\n",
    "eclf = VotingClassifier(estimators=[('lr', clf1), ('svc', clf2), ('mnb', clf3), ('rcs', clf4), ('pac', clf5)], voting='hard')\n",
    "\n",
    "for clf, label in zip([clf1, clf2, clf3, clf4, clf5, eclf], ['Logistic Regression', 'Linear SVC', 'Multinomial NB', 'Ridge Classifier', 'Passive Aggresive Classifier', 'Ensemble']):\n",
    "    checker_pipeline = Pipeline([\n",
    "            ('vectorizer', CountVectorizer(stop_words = my_stop_words,max_features=40000,ngram_range=(1, 2))),\n",
    "            ('classifier', clf)\n",
    "        ])\n",
    "    print (\"Validation result for {}\".format(label))\n",
    "    print (clf)\n",
    "    clf_accuracy, model = accuracy_summary2(checker_pipeline, x_train, y_train, x_validation, y_validation)"
   ]
  },
  {
   "cell_type": "code",
   "execution_count": null,
   "metadata": {},
   "outputs": [],
   "source": [
    "from sklearn.ensemble import VotingClassifier\n",
    "from sklearn.svm import LinearSVC\n",
    "from sklearn.naive_bayes import MultinomialNB\n",
    "from sklearn.linear_model import RidgeClassifier\n",
    "from sklearn.linear_model import PassiveAggressiveClassifier\n",
    "from sklearn.linear_model import LogisticRegression\n",
    "\n",
    "clf1 = LogisticRegression()\n",
    "clf2 = LinearSVC()\n",
    "clf3 = MultinomialNB()\n",
    "clf4 = RidgeClassifier()\n",
    "clf5 = PassiveAggressiveClassifier()\n",
    "\n",
    "eclf2 = VotingClassifier(estimators=[('lr', clf1), ('svc', clf2), ('mnb', clf3), ('rcs', clf4), ('pac', clf5)], voting='hard')\n",
    "\n",
    "for clf, label in zip([clf1, clf2, clf3, clf4, clf5, eclf], ['Logistic Regression', 'Linear SVC', 'Multinomial NB', 'Ridge Classifier', 'Passive Aggresive Classifier', 'Ensemble']):\n",
    "    checker_pipeline = Pipeline([\n",
    "            ('vectorizer', TfidfVectorizer(stop_words = 'english',max_features=40000,ngram_range=(1, 2))),\n",
    "            ('classifier', clf)\n",
    "        ])\n",
    "    print (\"Validation result for {}\".format(label))\n",
    "    print (clf)\n",
    "    clf_accuracy, model = accuracy_summary2(checker_pipeline, x_train, y_train, x_validation, y_validation)"
   ]
  },
  {
   "cell_type": "code",
   "execution_count": null,
   "metadata": {},
   "outputs": [],
   "source": [
    "path = r'/Users/Meghna/Desktop/acl2014using/race/'"
   ]
  },
  {
   "cell_type": "code",
   "execution_count": null,
   "metadata": {},
   "outputs": [],
   "source": [
    "test_data = []\n",
    "test_labels = []\n",
    "test_data_raw = []"
   ]
  },
  {
   "cell_type": "code",
   "execution_count": null,
   "metadata": {},
   "outputs": [],
   "source": [
    "for file in os.listdir(path):\n",
    "    file_path= os.path.join(path, file)\n",
    "    with open(file_path,'r') as f:\n",
    "        lines = f.readlines()\n",
    "        for line in lines:\n",
    "            dict_line = json.loads(line)\n",
    "            test_data_raw.append(dict_line['description'])\n",
    "            test_labels.append(0)\n",
    "for data in test_data_raw:\n",
    "    test_data.append(data)"
   ]
  },
  {
   "cell_type": "code",
   "execution_count": null,
   "metadata": {},
   "outputs": [],
   "source": [
    "testing_covid_box_plot = [len(t) for t in test_data]\n",
    "pd.set_option('display.max_colwidth', None)\n",
    "test_df = pd.DataFrame(columns=['text','label'])\n",
    "test_df['text'] = test_data\n",
    "test_df['label'] = test_labels\n",
    "test_df['pre_clean_len'] = [len(t) for t in test_df.text]\n",
    "test_df[test_df.pre_clean_len > 150]"
   ]
  },
  {
   "cell_type": "code",
   "execution_count": null,
   "metadata": {},
   "outputs": [],
   "source": [
    "fig, ax = plt.subplots(figsize=(5, 5))\n",
    "plt.boxplot(testing_covid_box_plot)\n",
    "plt.show()"
   ]
  },
  {
   "cell_type": "code",
   "execution_count": null,
   "metadata": {},
   "outputs": [],
   "source": [
    "test_data = []\n",
    "test_labels = []\n",
    "test_data_raw = []\n",
    "\n",
    "for file in os.listdir(path):\n",
    "    file_path= os.path.join(path, file)\n",
    "    with open(file_path,'r') as f:\n",
    "        lines = f.readlines()\n",
    "        for line in lines:\n",
    "            dict_line = json.loads(line)\n",
    "            test_data_raw.append(dict_line['description'])\n",
    "            test_labels.append(0)\n",
    "for data in test_data_raw:\n",
    "    test_data.append(tweet_cleaner_updated(data))\n",
    "    \n",
    "    \n",
    "testing_covid_box_plot = [len(t) for t in test_data]\n",
    "pd.set_option('display.max_colwidth', None)\n",
    "test_df = pd.DataFrame(columns=['text','label'])\n",
    "test_df['text'] = test_data\n",
    "test_df['label'] = test_labels\n",
    "test_df['pre_clean_len'] = [len(t) for t in test_df.text]\n",
    "\n",
    "fig, ax = plt.subplots(figsize=(5, 5))\n",
    "plt.boxplot(testing_covid_box_plot)\n",
    "plt.show()"
   ]
  },
  {
   "cell_type": "code",
   "execution_count": null,
   "metadata": {},
   "outputs": [],
   "source": [
    "import collections\n",
    "df=pd.read_csv('/Users/Meghna/Desktop/Mental_Model_Generation.csv')\n",
    "responses=df.iloc[2:,12:]\n",
    "\n",
    "reordered_responses=responses[['Q34','Q58','Q12','Q13','Q14','Q16','Q35','Q18','Q19','Q20','Q21','Q30','Q34','Q17','Q15','Q1','Q39','Q28','Q3','Q4','Q5','Q6','Q9','Q29_1','Q29_2','Q29_3','Q29_4','Q29_5','Q29_6','Q29_7']]\n",
    "\n",
    "free_form_responses=reordered_responses.iloc[:,:12]\n",
    "\n",
    "single_choice_responses=reordered_responses.iloc[:,12:]\n",
    "\n",
    "individual_responses=collections.defaultdict(list)\n",
    "free_form_responses_without_race=free_form_responses.iloc[:,1:]\n",
    "race=free_form_responses.iloc[:,0].tolist()\n",
    "r=-1\n",
    "for index, row in free_form_responses_without_race.iterrows():\n",
    "    r+=1\n",
    "    for i in range(len(row)):\n",
    "        try:\n",
    "            if float(row[i])==row[i]:\n",
    "                #print(row[i])\n",
    "                continue\n",
    "        except ValueError:\n",
    "            individual_responses[(index,race[r])].extend(row)"
   ]
  },
  {
   "cell_type": "code",
   "execution_count": 131,
   "metadata": {},
   "outputs": [],
   "source": [
    "survey_data = []\n",
    "survey_labels = []\n",
    "for i in individual_responses:\n",
    "    #print(i[0])\n",
    "    for z in individual_responses[i]:\n",
    "        if type(z) != float:\n",
    "            test_data.append(tweet_cleaner_updated(z))\n",
    "            survey_data.append(tweet_cleaner_updated(z))\n",
    "            test_labels.append(1)\n",
    "            survey_labels.append(1)"
   ]
  },
  {
   "cell_type": "code",
   "execution_count": null,
   "metadata": {},
   "outputs": [],
   "source": [
    "test_corpus, test_labels = test_data, test_labels\n",
    "print(len(test_labels))"
   ]
  },
  {
   "cell_type": "code",
   "execution_count": null,
   "metadata": {},
   "outputs": [],
   "source": [
    "x_train, y_train = train_corpus,train_labels"
   ]
  },
  {
   "cell_type": "code",
   "execution_count": null,
   "metadata": {},
   "outputs": [],
   "source": [
    "vectorizer = 'tfidf'   # set 'count' or 'tfidf'\n",
    "analyzer = 'word'  # set 'word' or 'both' ( word and char)"
   ]
  },
  {
   "cell_type": "code",
   "execution_count": null,
   "metadata": {},
   "outputs": [],
   "source": [
    "if vectorizer == 'count':\n",
    "    if analyzer == 'word':\n",
    "        vectorizer = CountVectorizer(stop_words = my_stop_words,ngram_range=(1, 2),max_features=40000)\n",
    "    else:\n",
    "        vectorizer = CountVectorizer(analyzer='word',ngram_range=(1,3))\n",
    "        char_vectorizer = CountVectorizer(analyzer='char',ngram_range=(2,5))\n",
    "else:\n",
    "    if analyzer == 'word':\n",
    "        vectorizer = TfidfVectorizer(stop_words = 'english',ngram_range=(1, 2),max_features=40000)\n",
    "    else:\n",
    "        vectorizer = TfidfVectorizer(analyzer='word',ngram_range=(1,3))\n",
    "        char_vectorizer = TfidfVectorizer(analyzer='char',ngram_range=(2,5))"
   ]
  },
  {
   "cell_type": "code",
   "execution_count": null,
   "metadata": {},
   "outputs": [],
   "source": [
    "def get_training_data_and_labels(train_corpus, train_labels):    \n",
    "    if analyzer == 'word':\n",
    "        ngram_vectorized_data = vectorizer.fit_transform(train_corpus)\n",
    "        \n",
    "        return ngram_vectorized_data, train_labels\n",
    "    else:\n",
    "        ngram_vectorized_data = vectorizer.fit_transform(train_corpus)\n",
    "        char_vectorized_data = char_vectorizer.fit_transform(train_corpus)\n",
    "        l = np.hstack((ngram_vectorized_data.toarray(), char_vectorized_data.toarray()))\n",
    "        train_vectorized_data = sparse.csr_matrix(l)\n",
    "        \n",
    "        return train_vectorized_data, train_labels "
   ]
  },
  {
   "cell_type": "code",
   "execution_count": null,
   "metadata": {},
   "outputs": [],
   "source": [
    "def get_test_data_and_labels(test_corpus, test_labels):   \n",
    "    if analyzer == 'word':\n",
    "        test_ngram_vectorized_data = vectorizer.transform(test_corpus)\n",
    "        \n",
    "        return test_ngram_vectorized_data, test_labels\n",
    "    else:\n",
    "        test_ngram_vectorized_data = vectorizer.transform(test_corpus)\n",
    "        test_char_vectorized_data = char_vectorizer.transform(test_corpus)\n",
    "        l2 = np.hstack((test_ngram_vectorized_data.toarray(), test_char_vectorized_data.toarray()))\n",
    "        test_vectorized_data = sparse.csr_matrix(l2)\n",
    "        \n",
    "        return test_vectorized_data,test_labels"
   ]
  },
  {
   "cell_type": "code",
   "execution_count": 113,
   "metadata": {},
   "outputs": [],
   "source": [
    "#X_train, y_train =  get_training_data_and_labels(train_corpus, train_labels)\n",
    "#X_test, y_test = get_test_data_and_labels(test_corpus, test_labels)\n",
    "y_test = test_labels\n",
    "x_test = test_data"
   ]
  },
  {
   "cell_type": "code",
   "execution_count": 119,
   "metadata": {},
   "outputs": [],
   "source": [
    "def accuracy_summary2(pipeline, x_train, y_train, x_val,y_val,x_test, y_test):\n",
    "    if y_val_len0 / (len(x_test)*1.) > 0.5:\n",
    "        null_accuracy =  y_val_len1/ (len(x_test)*1.)\n",
    "    else:\n",
    "        null_accuracy = 1. - (y_val_len1 / (len(x_test)*1.))\n",
    "    #t0 = time.time()\n",
    "    sentiment_fit = pipeline.fit(x_train, y_train)\n",
    "    #print(classification_report(y_true, y_pred))\n",
    "    y_pred = sentiment_fit.predict(x_val)\n",
    "    #train_test_time = time() - t0\n",
    "    accuracy = accuracy_score(y_val, y_pred)\n",
    "    \n",
    "    print (\"null accuracy: {0:.2f}%\".format(null_accuracy*100))\n",
    "    print (\"accuracy score: {0:.2f}%\".format(accuracy*100))\n",
    "    if accuracy > null_accuracy:\n",
    "        print (\"model is {0:.2f}% more accurate than null accuracy\".format((accuracy-null_accuracy)*100))\n",
    "    elif accuracy == null_accuracy:\n",
    "        print (\"model has the same accuracy with the null accuracy\")\n",
    "    else:\n",
    "        print (\"model is {0:.2f}% less accurate than null accuracy\".format((null_accuracy-accuracy)*100))\n",
    "    #print (\"train and test time: {0:.2f}s\".format(train_test_time))\n",
    "    \n",
    "    y_true, y_pred_test = y_test, sentiment_fit.predict(x_test)\n",
    "    print(classification_report(y_true, y_pred_test))\n",
    "    print (\"-\"*80)\n",
    "    return accuracy"
   ]
  },
  {
   "cell_type": "code",
   "execution_count": 120,
   "metadata": {},
   "outputs": [
    {
     "name": "stdout",
     "output_type": "stream",
     "text": [
      "Validation result for Logistic Regression\n",
      "LogisticRegression()\n",
      "null accuracy: 292.06%\n",
      "accuracy score: 95.96%\n",
      "model is 196.10% less accurate than null accuracy\n",
      "              precision    recall  f1-score   support\n",
      "\n",
      "           0       0.12      0.02      0.03       770\n",
      "           1       0.66      0.93      0.77      1547\n",
      "\n",
      "    accuracy                           0.63      2317\n",
      "   macro avg       0.39      0.48      0.40      2317\n",
      "weighted avg       0.48      0.63      0.52      2317\n",
      "\n",
      "--------------------------------------------------------------------------------\n",
      "Validation result for Linear SVC\n",
      "LinearSVC()\n",
      "null accuracy: 292.06%\n",
      "accuracy score: 95.92%\n",
      "model is 196.14% less accurate than null accuracy\n",
      "              precision    recall  f1-score   support\n",
      "\n",
      "           0       0.23      0.06      0.09       770\n",
      "           1       0.66      0.90      0.76      1547\n",
      "\n",
      "    accuracy                           0.62      2317\n",
      "   macro avg       0.44      0.48      0.43      2317\n",
      "weighted avg       0.51      0.62      0.54      2317\n",
      "\n",
      "--------------------------------------------------------------------------------\n",
      "Validation result for Multinomial NB\n",
      "MultinomialNB()\n",
      "null accuracy: 292.06%\n",
      "accuracy score: 89.72%\n",
      "model is 202.34% less accurate than null accuracy\n",
      "              precision    recall  f1-score   support\n",
      "\n",
      "           0       0.90      0.42      0.57       770\n",
      "           1       0.77      0.98      0.86      1547\n",
      "\n",
      "    accuracy                           0.79      2317\n",
      "   macro avg       0.83      0.70      0.72      2317\n",
      "weighted avg       0.81      0.79      0.77      2317\n",
      "\n",
      "--------------------------------------------------------------------------------\n",
      "Validation result for Ridge Classifier\n",
      "RidgeClassifier()\n",
      "null accuracy: 292.06%\n",
      "accuracy score: 94.35%\n",
      "model is 197.71% less accurate than null accuracy\n",
      "              precision    recall  f1-score   support\n",
      "\n",
      "           0       0.47      0.17      0.25       770\n",
      "           1       0.69      0.91      0.78      1547\n",
      "\n",
      "    accuracy                           0.66      2317\n",
      "   macro avg       0.58      0.54      0.52      2317\n",
      "weighted avg       0.62      0.66      0.60      2317\n",
      "\n",
      "--------------------------------------------------------------------------------\n",
      "Validation result for Passive Aggresive Classifier\n",
      "PassiveAggressiveClassifier()\n",
      "null accuracy: 292.06%\n",
      "accuracy score: 95.06%\n",
      "model is 197.00% less accurate than null accuracy\n",
      "              precision    recall  f1-score   support\n",
      "\n",
      "           0       0.33      0.12      0.18       770\n",
      "           1       0.67      0.87      0.76      1547\n",
      "\n",
      "    accuracy                           0.62      2317\n",
      "   macro avg       0.50      0.50      0.47      2317\n",
      "weighted avg       0.55      0.62      0.57      2317\n",
      "\n",
      "--------------------------------------------------------------------------------\n",
      "Validation result for Ensemble\n",
      "VotingClassifier(estimators=[('lr', LogisticRegression()), ('svc', LinearSVC()),\n",
      "                             ('mnb', MultinomialNB()),\n",
      "                             ('rcs', RidgeClassifier()),\n",
      "                             ('pac', PassiveAggressiveClassifier())])\n",
      "null accuracy: 292.06%\n",
      "accuracy score: 95.77%\n",
      "model is 196.29% less accurate than null accuracy\n",
      "              precision    recall  f1-score   support\n",
      "\n",
      "           0       0.30      0.08      0.12       770\n",
      "           1       0.67      0.91      0.77      1547\n",
      "\n",
      "    accuracy                           0.63      2317\n",
      "   macro avg       0.48      0.49      0.45      2317\n",
      "weighted avg       0.55      0.63      0.55      2317\n",
      "\n",
      "--------------------------------------------------------------------------------\n"
     ]
    }
   ],
   "source": [
    "from sklearn.ensemble import VotingClassifier\n",
    "from sklearn.svm import LinearSVC\n",
    "from sklearn.naive_bayes import MultinomialNB\n",
    "from sklearn.linear_model import RidgeClassifier\n",
    "from sklearn.linear_model import PassiveAggressiveClassifier\n",
    "from sklearn.linear_model import LogisticRegression\n",
    "\n",
    "clf1 = LogisticRegression()\n",
    "clf2 = LinearSVC()\n",
    "clf3 = MultinomialNB()\n",
    "clf4 = RidgeClassifier()\n",
    "clf5 = PassiveAggressiveClassifier()\n",
    "\n",
    "eclf2 = VotingClassifier(estimators=[('lr', clf1), ('svc', clf2), ('mnb', clf3), ('rcs', clf4), ('pac', clf5)], voting='hard')\n",
    "\n",
    "for clf, label in zip([clf1, clf2, clf3, clf4, clf5, eclf], ['Logistic Regression', 'Linear SVC', 'Multinomial NB', 'Ridge Classifier', 'Passive Aggresive Classifier', 'Ensemble']):\n",
    "    checker_pipeline = Pipeline([\n",
    "            ('vectorizer', TfidfVectorizer(stop_words = 'english',max_features=40000,ngram_range=(1, 2))),\n",
    "            ('classifier', clf)\n",
    "        ])\n",
    "    print (\"Validation result for {}\".format(label))\n",
    "    print (clf)\n",
    "    clf_accuracy = accuracy_summary2(checker_pipeline, x_train, y_train, x_validation, y_validation, x_test, y_test)\n",
    "    model.score"
   ]
  },
  {
   "cell_type": "code",
   "execution_count": 123,
   "metadata": {},
   "outputs": [
    {
     "name": "stdout",
     "output_type": "stream",
     "text": [
      "Validation result for Logistic Regression\n",
      "LogisticRegression()\n",
      "null accuracy: 292.06%\n",
      "accuracy score: 96.24%\n",
      "model is 195.82% less accurate than null accuracy\n",
      "              precision    recall  f1-score   support\n",
      "\n",
      "           0       0.06      0.02      0.02       770\n",
      "           1       0.64      0.87      0.74      1547\n",
      "\n",
      "    accuracy                           0.58      2317\n",
      "   macro avg       0.35      0.44      0.38      2317\n",
      "weighted avg       0.44      0.58      0.50      2317\n",
      "\n",
      "--------------------------------------------------------------------------------\n",
      "Validation result for Linear SVC\n",
      "LinearSVC()\n",
      "null accuracy: 292.06%\n",
      "accuracy score: 95.20%\n",
      "model is 196.86% less accurate than null accuracy\n",
      "              precision    recall  f1-score   support\n",
      "\n",
      "           0       0.13      0.05      0.07       770\n",
      "           1       0.64      0.83      0.72      1547\n",
      "\n",
      "    accuracy                           0.57      2317\n",
      "   macro avg       0.38      0.44      0.40      2317\n",
      "weighted avg       0.47      0.57      0.51      2317\n",
      "\n",
      "--------------------------------------------------------------------------------\n",
      "Validation result for Multinomial NB\n",
      "MultinomialNB()\n",
      "null accuracy: 292.06%\n",
      "accuracy score: 90.07%\n",
      "model is 201.99% less accurate than null accuracy\n",
      "              precision    recall  f1-score   support\n",
      "\n",
      "           0       0.92      0.40      0.55       770\n",
      "           1       0.77      0.98      0.86      1547\n",
      "\n",
      "    accuracy                           0.79      2317\n",
      "   macro avg       0.85      0.69      0.71      2317\n",
      "weighted avg       0.82      0.79      0.76      2317\n",
      "\n",
      "--------------------------------------------------------------------------------\n",
      "Validation result for Ridge Classifier\n",
      "RidgeClassifier()\n",
      "null accuracy: 292.06%\n",
      "accuracy score: 93.31%\n",
      "model is 198.75% less accurate than null accuracy\n",
      "              precision    recall  f1-score   support\n",
      "\n",
      "           0       0.08      0.04      0.05       770\n",
      "           1       0.62      0.77      0.69      1547\n",
      "\n",
      "    accuracy                           0.53      2317\n",
      "   macro avg       0.35      0.41      0.37      2317\n",
      "weighted avg       0.44      0.53      0.48      2317\n",
      "\n",
      "--------------------------------------------------------------------------------\n",
      "Validation result for Passive Aggresive Classifier\n",
      "PassiveAggressiveClassifier()\n",
      "null accuracy: 292.06%\n",
      "accuracy score: 94.25%\n",
      "model is 197.81% less accurate than null accuracy\n",
      "              precision    recall  f1-score   support\n",
      "\n",
      "           0       0.22      0.11      0.15       770\n",
      "           1       0.65      0.81      0.72      1547\n",
      "\n",
      "    accuracy                           0.58      2317\n",
      "   macro avg       0.43      0.46      0.43      2317\n",
      "weighted avg       0.51      0.58      0.53      2317\n",
      "\n",
      "--------------------------------------------------------------------------------\n",
      "Validation result for Ensemble\n",
      "VotingClassifier(estimators=[('lr', LogisticRegression()), ('svc', LinearSVC()),\n",
      "                             ('mnb', MultinomialNB()),\n",
      "                             ('rcs', RidgeClassifier()),\n",
      "                             ('pac', PassiveAggressiveClassifier())])\n",
      "null accuracy: 292.06%\n",
      "accuracy score: 95.94%\n",
      "model is 196.12% less accurate than null accuracy\n",
      "              precision    recall  f1-score   support\n",
      "\n",
      "           0       0.13      0.04      0.06       770\n",
      "           1       0.64      0.86      0.74      1547\n",
      "\n",
      "    accuracy                           0.59      2317\n",
      "   macro avg       0.39      0.45      0.40      2317\n",
      "weighted avg       0.47      0.59      0.51      2317\n",
      "\n",
      "--------------------------------------------------------------------------------\n"
     ]
    }
   ],
   "source": [
    "from sklearn.ensemble import VotingClassifier\n",
    "from sklearn.svm import LinearSVC\n",
    "from sklearn.naive_bayes import MultinomialNB\n",
    "from sklearn.linear_model import RidgeClassifier\n",
    "from sklearn.linear_model import PassiveAggressiveClassifier\n",
    "from sklearn.linear_model import LogisticRegression\n",
    "\n",
    "clf1 = LogisticRegression()\n",
    "clf2 = LinearSVC()\n",
    "clf3 = MultinomialNB()\n",
    "clf4 = RidgeClassifier()\n",
    "clf5 = PassiveAggressiveClassifier()\n",
    "\n",
    "eclf = VotingClassifier(estimators=[('lr', clf1), ('svc', clf2), ('mnb', clf3), ('rcs', clf4), ('pac', clf5)], voting='hard')\n",
    "\n",
    "for clf, label in zip([clf1, clf2, clf3, clf4, clf5, eclf], ['Logistic Regression', 'Linear SVC', 'Multinomial NB', 'Ridge Classifier', 'Passive Aggresive Classifier', 'Ensemble']):\n",
    "    checker_pipeline = Pipeline([\n",
    "            ('vectorizer', CountVectorizer(stop_words = my_stop_words,max_features=40000,ngram_range=(1, 2))),\n",
    "            ('classifier', clf)\n",
    "        ])\n",
    "    print (\"Validation result for {}\".format(label))\n",
    "    print (clf)\n",
    "    clf_accuracy = accuracy_summary2(checker_pipeline, x_train, y_train, x_validation, y_validation, x_test, y_test)"
   ]
  },
  {
   "cell_type": "code",
   "execution_count": 124,
   "metadata": {},
   "outputs": [
    {
     "name": "stdout",
     "output_type": "stream",
     "text": [
      "Validation result for Multinomial NB\n",
      "MultinomialNB()\n",
      "null accuracy: 292.06%\n",
      "accuracy score: 90.07%\n",
      "model is 201.99% less accurate than null accuracy\n",
      "              precision    recall  f1-score   support\n",
      "\n",
      "           0       0.92      0.40      0.55       770\n",
      "           1       0.77      0.98      0.86      1547\n",
      "\n",
      "    accuracy                           0.79      2317\n",
      "   macro avg       0.85      0.69      0.71      2317\n",
      "weighted avg       0.82      0.79      0.76      2317\n",
      "\n",
      "--------------------------------------------------------------------------------\n"
     ]
    }
   ],
   "source": [
    "from sklearn.ensemble import VotingClassifier\n",
    "from sklearn.svm import LinearSVC\n",
    "from sklearn.naive_bayes import MultinomialNB\n",
    "from sklearn.linear_model import RidgeClassifier\n",
    "from sklearn.linear_model import PassiveAggressiveClassifier\n",
    "from sklearn.linear_model import LogisticRegression\n",
    "\n",
    "# clf1 = LogisticRegression()\n",
    "# clf2 = LinearSVC()\n",
    "# clf3 = MultinomialNB()\n",
    "# clf4 = RidgeClassifier()\n",
    "# clf5 = PassiveAggressiveClassifier()\n",
    "\n",
    "eclf3 = MultinomialNB()\n",
    "\n",
    "for clf, label in zip([eclf3], ['Multinomial NB']):\n",
    "    checker_pipeline = Pipeline([\n",
    "            ('vectorizer', CountVectorizer(stop_words = my_stop_words,max_features=40000,ngram_range=(1, 2))),\n",
    "            ('classifier', clf)\n",
    "        ])\n",
    "    print (\"Validation result for {}\".format(label))\n",
    "    print (clf)\n",
    "    clf_accuracy = accuracy_summary2(checker_pipeline, x_train, y_train, x_validation, y_validation, x_test, y_test)"
   ]
  },
  {
   "cell_type": "code",
   "execution_count": 142,
   "metadata": {},
   "outputs": [
    {
     "name": "stdout",
     "output_type": "stream",
     "text": [
      "Validation result for Multinomial NB\n",
      "MultinomialNB()\n",
      "null accuracy: 175.13%\n",
      "accuracy score: 89.72%\n",
      "model is 85.41% less accurate than null accuracy\n",
      "              precision    recall  f1-score   support\n",
      "\n",
      "           0       0.81      0.42      0.55       770\n",
      "           1       0.87      0.98      0.92      3094\n",
      "\n",
      "    accuracy                           0.87      3864\n",
      "   macro avg       0.84      0.70      0.74      3864\n",
      "weighted avg       0.86      0.87      0.85      3864\n",
      "\n",
      "--------------------------------------------------------------------------------\n"
     ]
    }
   ],
   "source": [
    "eclf4 = MultinomialNB()\n",
    "\n",
    "for clf, label in zip([eclf4], ['Multinomial NB']):\n",
    "    checker_pipeline = Pipeline([\n",
    "            ('vectorizer', TfidfVectorizer(stop_words = 'english',max_features=40000,ngram_range=(1, 2))),\n",
    "            ('classifier', clf)\n",
    "        ])\n",
    "    print (\"Validation result for {}\".format(label))\n",
    "    print (clf)\n",
    "    clf_accuracy = accuracy_summary2(checker_pipeline, x_train, y_train, x_validation, y_validation, x_test, y_test)"
   ]
  },
  {
   "cell_type": "code",
   "execution_count": 150,
   "metadata": {},
   "outputs": [],
   "source": [
    "noncovid_files_path2 = r'/Users/Meghna/Desktop/noncovid_tweets_aug.gz'\n",
    "noncovid_data2 = []\n",
    "noncovid_labels2 = []\n",
    "\n",
    "with gzip.open(noncovid_files_path2,'r') as fin:\n",
    "    for line in fin:\n",
    "        tweet = json.loads(line)\n",
    "        noncovid_data2.append(tweet_cleaner_updated(tweet['text']))\n",
    "        noncovid_labels2.append(0)"
   ]
  },
  {
   "cell_type": "code",
   "execution_count": 151,
   "metadata": {},
   "outputs": [],
   "source": [
    "x_test2 = survey_data + noncovid_data2\n",
    "y_test2 = survey_labels + noncovid_labels2"
   ]
  },
  {
   "cell_type": "code",
   "execution_count": 152,
   "metadata": {},
   "outputs": [
    {
     "name": "stdout",
     "output_type": "stream",
     "text": [
      "Validation result for Multinomial NB\n",
      "MultinomialNB()\n",
      "null accuracy: 191.65%\n",
      "accuracy score: 90.07%\n",
      "model is 101.58% less accurate than null accuracy\n",
      "              precision    recall  f1-score   support\n",
      "\n",
      "           0       0.99      0.88      0.93      1984\n",
      "           1       0.86      0.98      0.92      1547\n",
      "\n",
      "    accuracy                           0.93      3531\n",
      "   macro avg       0.93      0.93      0.93      3531\n",
      "weighted avg       0.93      0.93      0.93      3531\n",
      "\n",
      "--------------------------------------------------------------------------------\n"
     ]
    }
   ],
   "source": [
    "eclf5 = MultinomialNB()\n",
    "\n",
    "for clf, label in zip([eclf5], ['Multinomial NB']):\n",
    "    checker_pipeline = Pipeline([\n",
    "            ('vectorizer', CountVectorizer(stop_words = my_stop_words,max_features=40000,ngram_range=(1, 2))),\n",
    "            ('classifier', clf)\n",
    "        ])\n",
    "    print (\"Validation result for {}\".format(label))\n",
    "    print (clf)\n",
    "    clf_accuracy = accuracy_summary2(checker_pipeline, x_train, y_train, x_validation, y_validation, x_test2, y_test2)"
   ]
  },
  {
   "cell_type": "code",
   "execution_count": 153,
   "metadata": {},
   "outputs": [
    {
     "name": "stdout",
     "output_type": "stream",
     "text": [
      "Validation result for Multinomial NB\n",
      "MultinomialNB()\n",
      "null accuracy: 191.65%\n",
      "accuracy score: 89.72%\n",
      "model is 101.92% less accurate than null accuracy\n",
      "              precision    recall  f1-score   support\n",
      "\n",
      "           0       0.98      0.89      0.93      1984\n",
      "           1       0.87      0.98      0.92      1547\n",
      "\n",
      "    accuracy                           0.93      3531\n",
      "   macro avg       0.92      0.93      0.92      3531\n",
      "weighted avg       0.93      0.93      0.93      3531\n",
      "\n",
      "--------------------------------------------------------------------------------\n"
     ]
    }
   ],
   "source": [
    "eclf6 = MultinomialNB()\n",
    "\n",
    "for clf, label in zip([eclf6], ['Multinomial NB']):\n",
    "    checker_pipeline = Pipeline([\n",
    "            ('vectorizer', TfidfVectorizer(stop_words = 'english',max_features=40000,ngram_range=(1, 2))),\n",
    "            ('classifier', clf)\n",
    "        ])\n",
    "    print (\"Validation result for {}\".format(label))\n",
    "    print (clf)\n",
    "    clf_accuracy = accuracy_summary2(checker_pipeline, x_train, y_train, x_validation, y_validation, x_test2, y_test2)"
   ]
  },
  {
   "cell_type": "code",
   "execution_count": 154,
   "metadata": {},
   "outputs": [
    {
     "name": "stdout",
     "output_type": "stream",
     "text": [
      "Validation result for Logistic Regression\n",
      "LogisticRegression()\n",
      "null accuracy: 191.65%\n",
      "accuracy score: 96.24%\n",
      "model is 95.41% less accurate than null accuracy\n",
      "              precision    recall  f1-score   support\n",
      "\n",
      "           0       0.90      0.93      0.91      1984\n",
      "           1       0.90      0.87      0.88      1547\n",
      "\n",
      "    accuracy                           0.90      3531\n",
      "   macro avg       0.90      0.90      0.90      3531\n",
      "weighted avg       0.90      0.90      0.90      3531\n",
      "\n",
      "--------------------------------------------------------------------------------\n",
      "Validation result for Linear SVC\n",
      "LinearSVC()\n",
      "null accuracy: 191.65%\n",
      "accuracy score: 95.20%\n",
      "model is 96.45% less accurate than null accuracy\n",
      "              precision    recall  f1-score   support\n",
      "\n",
      "           0       0.88      0.92      0.90      1984\n",
      "           1       0.89      0.83      0.86      1547\n",
      "\n",
      "    accuracy                           0.88      3531\n",
      "   macro avg       0.89      0.88      0.88      3531\n",
      "weighted avg       0.88      0.88      0.88      3531\n",
      "\n",
      "--------------------------------------------------------------------------------\n",
      "Validation result for Multinomial NB\n",
      "MultinomialNB()\n",
      "null accuracy: 191.65%\n",
      "accuracy score: 90.07%\n",
      "model is 101.58% less accurate than null accuracy\n",
      "              precision    recall  f1-score   support\n",
      "\n",
      "           0       0.99      0.88      0.93      1984\n",
      "           1       0.86      0.98      0.92      1547\n",
      "\n",
      "    accuracy                           0.93      3531\n",
      "   macro avg       0.93      0.93      0.93      3531\n",
      "weighted avg       0.93      0.93      0.93      3531\n",
      "\n",
      "--------------------------------------------------------------------------------\n",
      "Validation result for Ridge Classifier\n",
      "RidgeClassifier()\n",
      "null accuracy: 191.65%\n",
      "accuracy score: 93.31%\n",
      "model is 98.34% less accurate than null accuracy\n",
      "              precision    recall  f1-score   support\n",
      "\n",
      "           0       0.83      0.88      0.85      1984\n",
      "           1       0.83      0.77      0.80      1547\n",
      "\n",
      "    accuracy                           0.83      3531\n",
      "   macro avg       0.83      0.83      0.83      3531\n",
      "weighted avg       0.83      0.83      0.83      3531\n",
      "\n",
      "--------------------------------------------------------------------------------\n",
      "Validation result for Passive Aggresive Classifier\n",
      "PassiveAggressiveClassifier()\n",
      "null accuracy: 191.65%\n",
      "accuracy score: 94.02%\n",
      "model is 97.63% less accurate than null accuracy\n",
      "              precision    recall  f1-score   support\n",
      "\n",
      "           0       0.86      0.91      0.89      1984\n",
      "           1       0.88      0.81      0.85      1547\n",
      "\n",
      "    accuracy                           0.87      3531\n",
      "   macro avg       0.87      0.86      0.87      3531\n",
      "weighted avg       0.87      0.87      0.87      3531\n",
      "\n",
      "--------------------------------------------------------------------------------\n",
      "Validation result for Ensemble\n",
      "VotingClassifier(estimators=[('lr', LogisticRegression()), ('svc', LinearSVC()),\n",
      "                             ('mnb', MultinomialNB()),\n",
      "                             ('rcs', RidgeClassifier()),\n",
      "                             ('pac', PassiveAggressiveClassifier())])\n",
      "null accuracy: 191.65%\n",
      "accuracy score: 95.91%\n",
      "model is 95.73% less accurate than null accuracy\n",
      "              precision    recall  f1-score   support\n",
      "\n",
      "           0       0.90      0.93      0.91      1984\n",
      "           1       0.90      0.87      0.88      1547\n",
      "\n",
      "    accuracy                           0.90      3531\n",
      "   macro avg       0.90      0.90      0.90      3531\n",
      "weighted avg       0.90      0.90      0.90      3531\n",
      "\n",
      "--------------------------------------------------------------------------------\n"
     ]
    }
   ],
   "source": [
    "from sklearn.ensemble import VotingClassifier\n",
    "from sklearn.svm import LinearSVC\n",
    "from sklearn.naive_bayes import MultinomialNB\n",
    "from sklearn.linear_model import RidgeClassifier\n",
    "from sklearn.linear_model import PassiveAggressiveClassifier\n",
    "from sklearn.linear_model import LogisticRegression\n",
    "\n",
    "clf1 = LogisticRegression()\n",
    "clf2 = LinearSVC()\n",
    "clf3 = MultinomialNB()\n",
    "clf4 = RidgeClassifier()\n",
    "clf5 = PassiveAggressiveClassifier()\n",
    "\n",
    "eclf7 = VotingClassifier(estimators=[('lr', clf1), ('svc', clf2), ('mnb', clf3), ('rcs', clf4), ('pac', clf5)], voting='hard')\n",
    "\n",
    "for clf, label in zip([clf1, clf2, clf3, clf4, clf5, eclf7], ['Logistic Regression', 'Linear SVC', 'Multinomial NB', 'Ridge Classifier', 'Passive Aggresive Classifier', 'Ensemble']):\n",
    "    checker_pipeline = Pipeline([\n",
    "            ('vectorizer', CountVectorizer(stop_words = my_stop_words,max_features=40000,ngram_range=(1, 2))),\n",
    "            ('classifier', clf)\n",
    "        ])\n",
    "    print (\"Validation result for {}\".format(label))\n",
    "    print (clf)\n",
    "    clf_accuracy = accuracy_summary2(checker_pipeline, x_train, y_train, x_validation, y_validation, x_test2, y_test2)"
   ]
  },
  {
   "cell_type": "code",
   "execution_count": 155,
   "metadata": {},
   "outputs": [
    {
     "name": "stdout",
     "output_type": "stream",
     "text": [
      "Validation result for Logistic Regression\n",
      "LogisticRegression()\n",
      "null accuracy: 191.65%\n",
      "accuracy score: 95.96%\n",
      "model is 95.69% less accurate than null accuracy\n",
      "              precision    recall  f1-score   support\n",
      "\n",
      "           0       0.95      0.91      0.93      1984\n",
      "           1       0.89      0.93      0.91      1547\n",
      "\n",
      "    accuracy                           0.92      3531\n",
      "   macro avg       0.92      0.92      0.92      3531\n",
      "weighted avg       0.92      0.92      0.92      3531\n",
      "\n",
      "--------------------------------------------------------------------------------\n",
      "Validation result for Linear SVC\n",
      "LinearSVC()\n",
      "null accuracy: 191.65%\n",
      "accuracy score: 95.92%\n",
      "model is 95.72% less accurate than null accuracy\n",
      "              precision    recall  f1-score   support\n",
      "\n",
      "           0       0.92      0.92      0.92      1984\n",
      "           1       0.90      0.90      0.90      1547\n",
      "\n",
      "    accuracy                           0.91      3531\n",
      "   macro avg       0.91      0.91      0.91      3531\n",
      "weighted avg       0.91      0.91      0.91      3531\n",
      "\n",
      "--------------------------------------------------------------------------------\n",
      "Validation result for Multinomial NB\n",
      "MultinomialNB()\n",
      "null accuracy: 191.65%\n",
      "accuracy score: 89.72%\n",
      "model is 101.92% less accurate than null accuracy\n",
      "              precision    recall  f1-score   support\n",
      "\n",
      "           0       0.98      0.89      0.93      1984\n",
      "           1       0.87      0.98      0.92      1547\n",
      "\n",
      "    accuracy                           0.93      3531\n",
      "   macro avg       0.92      0.93      0.92      3531\n",
      "weighted avg       0.93      0.93      0.93      3531\n",
      "\n",
      "--------------------------------------------------------------------------------\n",
      "Validation result for Ridge Classifier\n",
      "RidgeClassifier()\n",
      "null accuracy: 191.65%\n",
      "accuracy score: 94.35%\n",
      "model is 97.30% less accurate than null accuracy\n",
      "              precision    recall  f1-score   support\n",
      "\n",
      "           0       0.93      0.91      0.92      1984\n",
      "           1       0.89      0.91      0.90      1547\n",
      "\n",
      "    accuracy                           0.91      3531\n",
      "   macro avg       0.91      0.91      0.91      3531\n",
      "weighted avg       0.91      0.91      0.91      3531\n",
      "\n",
      "--------------------------------------------------------------------------------\n",
      "Validation result for Passive Aggresive Classifier\n",
      "PassiveAggressiveClassifier()\n",
      "null accuracy: 191.65%\n",
      "accuracy score: 95.07%\n",
      "model is 96.57% less accurate than null accuracy\n",
      "              precision    recall  f1-score   support\n",
      "\n",
      "           0       0.89      0.91      0.90      1984\n",
      "           1       0.88      0.86      0.87      1547\n",
      "\n",
      "    accuracy                           0.88      3531\n",
      "   macro avg       0.88      0.88      0.88      3531\n",
      "weighted avg       0.88      0.88      0.88      3531\n",
      "\n",
      "--------------------------------------------------------------------------------\n",
      "Validation result for Ensemble\n",
      "VotingClassifier(estimators=[('lr', LogisticRegression()), ('svc', LinearSVC()),\n",
      "                             ('mnb', MultinomialNB()),\n",
      "                             ('rcs', RidgeClassifier()),\n",
      "                             ('pac', PassiveAggressiveClassifier())])\n",
      "null accuracy: 191.65%\n",
      "accuracy score: 95.78%\n",
      "model is 95.86% less accurate than null accuracy\n",
      "              precision    recall  f1-score   support\n",
      "\n",
      "           0       0.93      0.92      0.93      1984\n",
      "           1       0.90      0.91      0.91      1547\n",
      "\n",
      "    accuracy                           0.92      3531\n",
      "   macro avg       0.92      0.92      0.92      3531\n",
      "weighted avg       0.92      0.92      0.92      3531\n",
      "\n",
      "--------------------------------------------------------------------------------\n"
     ]
    }
   ],
   "source": [
    "from sklearn.ensemble import VotingClassifier\n",
    "from sklearn.svm import LinearSVC\n",
    "from sklearn.naive_bayes import MultinomialNB\n",
    "from sklearn.linear_model import RidgeClassifier\n",
    "from sklearn.linear_model import PassiveAggressiveClassifier\n",
    "from sklearn.linear_model import LogisticRegression\n",
    "\n",
    "clf1 = LogisticRegression()\n",
    "clf2 = LinearSVC()\n",
    "clf3 = MultinomialNB()\n",
    "clf4 = RidgeClassifier()\n",
    "clf5 = PassiveAggressiveClassifier()\n",
    "\n",
    "eclf8 = VotingClassifier(estimators=[('lr', clf1), ('svc', clf2), ('mnb', clf3), ('rcs', clf4), ('pac', clf5)], voting='hard')\n",
    "\n",
    "for clf, label in zip([clf1, clf2, clf3, clf4, clf5, eclf], ['Logistic Regression', 'Linear SVC', 'Multinomial NB', 'Ridge Classifier', 'Passive Aggresive Classifier', 'Ensemble']):\n",
    "    checker_pipeline = Pipeline([\n",
    "            ('vectorizer', TfidfVectorizer(stop_words = 'english',max_features=40000,ngram_range=(1, 2))),\n",
    "            ('classifier', clf)\n",
    "        ])\n",
    "    print (\"Validation result for {}\".format(label))\n",
    "    print (clf)\n",
    "    clf_accuracy = accuracy_summary2(checker_pipeline, x_train, y_train, x_validation, y_validation, x_test2, y_test2)"
   ]
  },
  {
   "cell_type": "code",
   "execution_count": 178,
   "metadata": {},
   "outputs": [],
   "source": [
    "#x_train_df = pd.DataFrame(columns =['train_text', 'train_label'])\n",
    "x_train_df = pd.DataFrame(columns =['train_text'])\n",
    "x_train_df['train_text'] = x_train\n",
    "#x_train_df['train_label'] = y_train\n",
    "x_val_df = pd.DataFrame(columns =['val_text'])\n",
    "x_val_df['val_text'] = x_validation\n",
    "#x_val_df['val_label'] = y_validation\n",
    "x_test_df = pd.DataFrame(columns =['test_text'])\n",
    "x_test_df['test_text'] = x_test\n",
    "#x_test_df['test_label'] = y_test\n",
    "x_test2_df = pd.DataFrame(columns =['test2_text'])\n",
    "x_test2_df['test2_text'] = x_test2\n",
    "#x_test2_df['test2_label'] = y_test2"
   ]
  },
  {
   "cell_type": "code",
   "execution_count": 210,
   "metadata": {},
   "outputs": [],
   "source": [
    "from tqdm import tqdm\n",
    "tqdm.pandas(desc=\"progress-bar\")\n",
    "from gensim.models import Doc2Vec\n",
    "from gensim.models.doc2vec import TaggedDocument\n",
    "import multiprocessing\n",
    "from sklearn import utils\n",
    "\n",
    "x_train1 = pd.Series(x_train)\n",
    "x_val1 = pd.Series(x_validation)\n",
    "x_test_s1 = pd.Series(x_test)\n",
    "x_test_s2 = pd.Series(x_test2)\n",
    "def labelize_tweets_ug(tweets,label):\n",
    "    result = []\n",
    "    prefix = label\n",
    "    for i, t in zip(tweets.index, tweets):\n",
    "        result.append(TaggedDocument(t.split(), [prefix + '_%s' % i]))\n",
    "    return result\n",
    "all_x = pd.concat([x_train1,x_val1,x_test_s1, x_test_s2])\n",
    "all_x_w2v = labelize_tweets_ug(all_x, 'all')"
   ]
  },
  {
   "cell_type": "code",
   "execution_count": 211,
   "metadata": {},
   "outputs": [
    {
     "data": {
      "text/plain": [
       "61531"
      ]
     },
     "execution_count": 211,
     "metadata": {},
     "output_type": "execute_result"
    }
   ],
   "source": [
    "len(all_x_w2v)"
   ]
  },
  {
   "cell_type": "code",
   "execution_count": 311,
   "metadata": {},
   "outputs": [
    {
     "name": "stderr",
     "output_type": "stream",
     "text": [
      "100%|██████████| 61531/61531 [00:00<00:00, 2258784.83it/s]\n"
     ]
    }
   ],
   "source": [
    "model_ug_dbow = Doc2Vec(dm=0, vector_size=100, negative=5, min_count=2, alpha=0.065, min_alpha=0.065)\n",
    "model_ug_dbow.build_vocab([x for x in tqdm(all_x_w2v)])"
   ]
  },
  {
   "cell_type": "code",
   "execution_count": 312,
   "metadata": {},
   "outputs": [
    {
     "name": "stderr",
     "output_type": "stream",
     "text": [
      "100%|██████████| 61531/61531 [00:00<00:00, 3738443.66it/s]\n",
      "100%|██████████| 61531/61531 [00:00<00:00, 3944484.31it/s]\n",
      "100%|██████████| 61531/61531 [00:00<00:00, 4006453.67it/s]\n",
      "100%|██████████| 61531/61531 [00:00<00:00, 3913916.19it/s]\n",
      "100%|██████████| 61531/61531 [00:00<00:00, 3912670.09it/s]\n",
      "100%|██████████| 61531/61531 [00:00<00:00, 3916173.04it/s]\n",
      "100%|██████████| 61531/61531 [00:00<00:00, 4002352.90it/s]\n",
      "100%|██████████| 61531/61531 [00:00<00:00, 3960039.27it/s]\n",
      "100%|██████████| 61531/61531 [00:00<00:00, 4007200.16it/s]\n",
      "100%|██████████| 61531/61531 [00:00<00:00, 3897837.51it/s]\n",
      "100%|██████████| 61531/61531 [00:00<00:00, 4018743.98it/s]\n",
      "100%|██████████| 61531/61531 [00:00<00:00, 3988867.38it/s]\n",
      "100%|██████████| 61531/61531 [00:00<00:00, 3978475.38it/s]\n",
      "100%|██████████| 61531/61531 [00:00<00:00, 4003097.87it/s]\n",
      "100%|██████████| 61531/61531 [00:00<00:00, 3995536.90it/s]\n",
      "100%|██████████| 61531/61531 [00:00<00:00, 4011872.09it/s]\n",
      "100%|██████████| 61531/61531 [00:00<00:00, 4039059.09it/s]\n",
      "100%|██████████| 61531/61531 [00:00<00:00, 3991643.64it/s]\n",
      "100%|██████████| 61531/61531 [00:00<00:00, 3703359.54it/s]\n",
      "100%|██████████| 61531/61531 [00:00<00:00, 4037668.88it/s]\n",
      "100%|██████████| 61531/61531 [00:00<00:00, 3901078.05it/s]\n",
      "100%|██████████| 61531/61531 [00:00<00:00, 4040829.83it/s]\n",
      "100%|██████████| 61531/61531 [00:00<00:00, 4011435.58it/s]\n",
      "100%|██████████| 61531/61531 [00:00<00:00, 3999189.86it/s]\n",
      "100%|██████████| 61531/61531 [00:00<00:00, 3965089.10it/s]\n",
      "100%|██████████| 61531/61531 [00:00<00:00, 4016617.43it/s]\n",
      "100%|██████████| 61531/61531 [00:00<00:00, 3475165.89it/s]\n",
      "100%|██████████| 61531/61531 [00:00<00:00, 3977433.03it/s]\n",
      "100%|██████████| 61531/61531 [00:00<00:00, 4001298.00it/s]\n",
      "100%|██████████| 61531/61531 [00:00<00:00, 4022376.82it/s]\n"
     ]
    },
    {
     "name": "stdout",
     "output_type": "stream",
     "text": [
      "CPU times: user 1min 26s, sys: 6.65 s, total: 1min 33s\n",
      "Wall time: 53 s\n"
     ]
    }
   ],
   "source": [
    "%%time\n",
    "for epoch in range(30):\n",
    "    model_ug_dbow.train(utils.shuffle([x for x in tqdm(all_x_w2v)]), total_examples=len(all_x_w2v), epochs=1)\n",
    "    model_ug_dbow.alpha -= 0.002\n",
    "    model_ug_dbow.min_alpha = model_ug_dbow.alpha"
   ]
  },
  {
   "cell_type": "code",
   "execution_count": 244,
   "metadata": {},
   "outputs": [],
   "source": [
    "def get_vectors(model, corpus, size):\n",
    "    vecs = np.zeros((len(corpus), size))\n",
    "    n = 0\n",
    "    for i in corpus.index:\n",
    "        prefix = 'all_' + str(i)\n",
    "        vecs[n] = model.dv[prefix]\n",
    "        n += 1\n",
    "    return vecs"
   ]
  },
  {
   "cell_type": "code",
   "execution_count": 246,
   "metadata": {},
   "outputs": [],
   "source": [
    "train_vecs_dbow = get_vectors(model_ug_dbow, x_train1, 100)\n",
    "validation_vecs_dbow = get_vectors(model_ug_dbow, x_val1, 100)"
   ]
  },
  {
   "cell_type": "code",
   "execution_count": 247,
   "metadata": {},
   "outputs": [
    {
     "name": "stderr",
     "output_type": "stream",
     "text": [
      "/opt/anaconda3/lib/python3.7/site-packages/sklearn/linear_model/_logistic.py:765: ConvergenceWarning: lbfgs failed to converge (status=1):\n",
      "STOP: TOTAL NO. of ITERATIONS REACHED LIMIT.\n",
      "\n",
      "Increase the number of iterations (max_iter) or scale the data as shown in:\n",
      "    https://scikit-learn.org/stable/modules/preprocessing.html\n",
      "Please also refer to the documentation for alternative solver options:\n",
      "    https://scikit-learn.org/stable/modules/linear_model.html#logistic-regression\n",
      "  extra_warning_msg=_LOGISTIC_SOLVER_CONVERGENCE_MSG)\n"
     ]
    },
    {
     "data": {
      "text/plain": [
       "LogisticRegression()"
      ]
     },
     "execution_count": 247,
     "metadata": {},
     "output_type": "execute_result"
    }
   ],
   "source": [
    "clf = LogisticRegression()\n",
    "clf.fit(train_vecs_dbow, y_train)"
   ]
  },
  {
   "cell_type": "code",
   "execution_count": 248,
   "metadata": {},
   "outputs": [
    {
     "data": {
      "text/plain": [
       "0.7123540712280183"
      ]
     },
     "execution_count": 248,
     "metadata": {},
     "output_type": "execute_result"
    }
   ],
   "source": [
    "clf.score(validation_vecs_dbow, y_validation)"
   ]
  },
  {
   "cell_type": "code",
   "execution_count": 219,
   "metadata": {},
   "outputs": [
    {
     "name": "stderr",
     "output_type": "stream",
     "text": [
      "100%|██████████| 61531/61531 [00:00<00:00, 3734386.54it/s]\n"
     ]
    }
   ],
   "source": [
    "cores = multiprocessing.cpu_count()\n",
    "model_ug_dmc = Doc2Vec(dm=1, dm_concat=1, vector_size=100, window=2, negative=5, min_count=2, workers=cores, alpha=0.065, min_alpha=0.065)\n",
    "model_ug_dmc.build_vocab([x for x in tqdm(all_x_w2v)])"
   ]
  },
  {
   "cell_type": "code",
   "execution_count": 220,
   "metadata": {},
   "outputs": [
    {
     "name": "stderr",
     "output_type": "stream",
     "text": [
      "100%|██████████| 61531/61531 [00:00<00:00, 3857751.53it/s]\n",
      "100%|██████████| 61531/61531 [00:00<00:00, 3780446.18it/s]\n",
      "100%|██████████| 61531/61531 [00:00<00:00, 3804016.85it/s]\n",
      "100%|██████████| 61531/61531 [00:00<00:00, 3933482.49it/s]\n",
      "100%|██████████| 61531/61531 [00:00<00:00, 3923674.94it/s]\n",
      "100%|██████████| 61531/61531 [00:00<00:00, 3977187.85it/s]\n",
      "100%|██████████| 61531/61531 [00:00<00:00, 3665228.29it/s]\n",
      "100%|██████████| 61531/61531 [00:00<00:00, 3992693.45it/s]\n",
      "100%|██████████| 61531/61531 [00:00<00:00, 3922363.02it/s]\n",
      "100%|██████████| 61531/61531 [00:00<00:00, 3838701.19it/s]\n",
      "100%|██████████| 61531/61531 [00:00<00:00, 3924689.31it/s]\n",
      "100%|██████████| 61531/61531 [00:00<00:00, 3993496.63it/s]\n",
      "100%|██████████| 61531/61531 [00:00<00:00, 3889202.80it/s]\n",
      "100%|██████████| 61531/61531 [00:00<00:00, 3977984.79it/s]\n",
      "100%|██████████| 61531/61531 [00:00<00:00, 3936542.40it/s]\n",
      "100%|██████████| 61531/61531 [00:00<00:00, 3817295.58it/s]\n",
      "100%|██████████| 61531/61531 [00:00<00:00, 3996836.34it/s]\n",
      "100%|██████████| 61531/61531 [00:00<00:00, 3809294.75it/s]\n",
      "100%|██████████| 61531/61531 [00:00<00:00, 3971495.92it/s]\n",
      "100%|██████████| 61531/61531 [00:00<00:00, 3917183.53it/s]\n",
      "100%|██████████| 61531/61531 [00:00<00:00, 3942014.07it/s]\n",
      "100%|██████████| 61531/61531 [00:00<00:00, 3725276.70it/s]\n",
      "100%|██████████| 61531/61531 [00:00<00:00, 3747781.35it/s]\n",
      "100%|██████████| 61531/61531 [00:00<00:00, 3954638.67it/s]\n",
      "100%|██████████| 61531/61531 [00:00<00:00, 4002042.57it/s]\n",
      "100%|██████████| 61531/61531 [00:00<00:00, 3946052.41it/s]\n",
      "100%|██████████| 61531/61531 [00:00<00:00, 4012246.31it/s]\n",
      "100%|██████████| 61531/61531 [00:00<00:00, 3944544.60it/s]\n",
      "100%|██████████| 61531/61531 [00:00<00:00, 3874721.79it/s]\n",
      "100%|██████████| 61531/61531 [00:00<00:00, 3874489.11it/s]\n"
     ]
    },
    {
     "name": "stdout",
     "output_type": "stream",
     "text": [
      "CPU times: user 2min 10s, sys: 7.58 s, total: 2min 18s\n",
      "Wall time: 59 s\n"
     ]
    }
   ],
   "source": [
    "%%time\n",
    "for epoch in range(30):\n",
    "    model_ug_dmc.train(utils.shuffle([x for x in tqdm(all_x_w2v)]), total_examples=len(all_x_w2v), epochs=1)\n",
    "    model_ug_dmc.alpha -= 0.002\n",
    "    model_ug_dmc.min_alpha = model_ug_dmc.alpha"
   ]
  },
  {
   "cell_type": "code",
   "execution_count": 222,
   "metadata": {},
   "outputs": [],
   "source": [
    "train_vecs_dmc = get_vectors(model_ug_dmc, x_train1, 100)\n",
    "validation_vecs_dmc = get_vectors(model_ug_dmc, x_val1, 100)"
   ]
  },
  {
   "cell_type": "code",
   "execution_count": 223,
   "metadata": {},
   "outputs": [
    {
     "data": {
      "text/plain": [
       "LogisticRegression()"
      ]
     },
     "execution_count": 223,
     "metadata": {},
     "output_type": "execute_result"
    }
   ],
   "source": [
    "clf = LogisticRegression()\n",
    "clf.fit(train_vecs_dmc, y_train)"
   ]
  },
  {
   "cell_type": "code",
   "execution_count": 224,
   "metadata": {},
   "outputs": [
    {
     "data": {
      "text/plain": [
       "0.6674301758534062"
      ]
     },
     "execution_count": 224,
     "metadata": {},
     "output_type": "execute_result"
    }
   ],
   "source": [
    "clf.score(validation_vecs_dmc, y_validation)"
   ]
  },
  {
   "cell_type": "code",
   "execution_count": 227,
   "metadata": {},
   "outputs": [
    {
     "name": "stderr",
     "output_type": "stream",
     "text": [
      "100%|██████████| 61531/61531 [00:00<00:00, 3830155.67it/s]\n"
     ]
    }
   ],
   "source": [
    "cores = multiprocessing.cpu_count()\n",
    "model_ug_dmm = Doc2Vec(dm=1, dm_mean=1, vector_size=100, window=4, negative=5, min_count=2, workers=cores, alpha=0.065, min_alpha=0.065)\n",
    "model_ug_dmm.build_vocab([x for x in tqdm(all_x_w2v)])"
   ]
  },
  {
   "cell_type": "code",
   "execution_count": 228,
   "metadata": {},
   "outputs": [
    {
     "name": "stderr",
     "output_type": "stream",
     "text": [
      "100%|██████████| 61531/61531 [00:00<00:00, 3785547.77it/s]\n",
      "100%|██████████| 61531/61531 [00:00<00:00, 3737090.31it/s]\n",
      "100%|██████████| 61531/61531 [00:00<00:00, 3797970.91it/s]\n",
      "100%|██████████| 61531/61531 [00:00<00:00, 3882299.17it/s]\n",
      "100%|██████████| 61531/61531 [00:00<00:00, 3897307.75it/s]\n",
      "100%|██████████| 61531/61531 [00:00<00:00, 3929948.52it/s]\n",
      "100%|██████████| 61531/61531 [00:00<00:00, 3928632.40it/s]\n",
      "100%|██████████| 61531/61531 [00:00<00:00, 3995969.95it/s]\n",
      "100%|██████████| 61531/61531 [00:00<00:00, 4037732.05it/s]\n",
      "100%|██████████| 61531/61531 [00:00<00:00, 3977739.55it/s]\n",
      "100%|██████████| 61531/61531 [00:00<00:00, 3816110.24it/s]\n",
      "100%|██████████| 61531/61531 [00:00<00:00, 3938464.77it/s]\n",
      "100%|██████████| 61531/61531 [00:00<00:00, 3744084.13it/s]\n",
      "100%|██████████| 61531/61531 [00:00<00:00, 3898544.08it/s]\n",
      "100%|██████████| 61531/61531 [00:00<00:00, 3957974.38it/s]\n",
      "100%|██████████| 61531/61531 [00:00<00:00, 3893838.46it/s]\n",
      "100%|██████████| 61531/61531 [00:00<00:00, 3946836.92it/s]\n",
      "100%|██████████| 61531/61531 [00:00<00:00, 3733684.20it/s]\n",
      "100%|██████████| 61531/61531 [00:00<00:00, 4007262.39it/s]\n",
      "100%|██████████| 61531/61531 [00:00<00:00, 3879906.18it/s]\n",
      "100%|██████████| 61531/61531 [00:00<00:00, 3905505.66it/s]\n",
      "100%|██████████| 61531/61531 [00:00<00:00, 3904442.12it/s]\n",
      "100%|██████████| 61531/61531 [00:00<00:00, 3836133.53it/s]\n",
      "100%|██████████| 61531/61531 [00:00<00:00, 3649730.16it/s]\n",
      "100%|██████████| 61531/61531 [00:00<00:00, 3873035.48it/s]\n",
      "100%|██████████| 61531/61531 [00:00<00:00, 3872512.45it/s]\n",
      "100%|██████████| 61531/61531 [00:00<00:00, 3891607.27it/s]\n",
      "100%|██████████| 61531/61531 [00:00<00:00, 3977678.24it/s]\n",
      "100%|██████████| 61531/61531 [00:00<00:00, 3440971.17it/s]\n",
      "100%|██████████| 61531/61531 [00:00<00:00, 3931684.76it/s]\n"
     ]
    },
    {
     "name": "stdout",
     "output_type": "stream",
     "text": [
      "CPU times: user 2min 22s, sys: 21.4 s, total: 2min 44s\n",
      "Wall time: 1min 41s\n"
     ]
    }
   ],
   "source": [
    "%%time\n",
    "for epoch in range(30):\n",
    "    model_ug_dmm.train(utils.shuffle([x for x in tqdm(all_x_w2v)]), total_examples=len(all_x_w2v), epochs=1)\n",
    "    model_ug_dmm.alpha -= 0.002\n",
    "    model_ug_dmm.min_alpha = model_ug_dmm.alpha"
   ]
  },
  {
   "cell_type": "code",
   "execution_count": 231,
   "metadata": {},
   "outputs": [],
   "source": [
    "train_vecs_dmm = get_vectors(model_ug_dmm, x_train1, 100)\n",
    "validation_vecs_dmm = get_vectors(model_ug_dmm, x_val1, 100)"
   ]
  },
  {
   "cell_type": "code",
   "execution_count": 232,
   "metadata": {},
   "outputs": [
    {
     "data": {
      "text/plain": [
       "LogisticRegression()"
      ]
     },
     "execution_count": 232,
     "metadata": {},
     "output_type": "execute_result"
    }
   ],
   "source": [
    "clf = LogisticRegression()\n",
    "clf.fit(train_vecs_dmm, y_train)"
   ]
  },
  {
   "cell_type": "code",
   "execution_count": 233,
   "metadata": {},
   "outputs": [
    {
     "data": {
      "text/plain": [
       "0.686641052164918"
      ]
     },
     "execution_count": 233,
     "metadata": {},
     "output_type": "execute_result"
    }
   ],
   "source": [
    "clf.score(validation_vecs_dmm, y_validation)"
   ]
  },
  {
   "cell_type": "code",
   "execution_count": 234,
   "metadata": {},
   "outputs": [],
   "source": [
    "def get_concat_vectors(model1,model2, corpus, size):\n",
    "    vecs = np.zeros((len(corpus), size))\n",
    "    n = 0\n",
    "    for i in corpus.index:\n",
    "        prefix = 'all_' + str(i)\n",
    "        vecs[n] = np.append(model1.docvecs[prefix],model2.docvecs[prefix])\n",
    "        n += 1\n",
    "    return vecs"
   ]
  },
  {
   "cell_type": "code",
   "execution_count": 235,
   "metadata": {},
   "outputs": [
    {
     "name": "stderr",
     "output_type": "stream",
     "text": [
      "/opt/anaconda3/lib/python3.7/site-packages/ipykernel_launcher.py:6: DeprecationWarning: Call to deprecated `docvecs` (The `docvecs` property has been renamed `dv`.).\n",
      "  \n"
     ]
    }
   ],
   "source": [
    "train_vecs_dbow_dmc = get_concat_vectors(model_ug_dbow,model_ug_dmc, x_train1, 200)\n",
    "validation_vecs_dbow_dmc = get_concat_vectors(model_ug_dbow,model_ug_dmc, x_val1, 200)"
   ]
  },
  {
   "cell_type": "code",
   "execution_count": 236,
   "metadata": {},
   "outputs": [
    {
     "name": "stdout",
     "output_type": "stream",
     "text": [
      "CPU times: user 1.14 s, sys: 115 ms, total: 1.26 s\n",
      "Wall time: 376 ms\n"
     ]
    },
    {
     "data": {
      "text/plain": [
       "LogisticRegression()"
      ]
     },
     "execution_count": 236,
     "metadata": {},
     "output_type": "execute_result"
    }
   ],
   "source": [
    "%%time\n",
    "clf = LogisticRegression()\n",
    "clf.fit(train_vecs_dbow_dmc, y_train)"
   ]
  },
  {
   "cell_type": "code",
   "execution_count": 237,
   "metadata": {},
   "outputs": [
    {
     "data": {
      "text/plain": [
       "0.7003103295404167"
      ]
     },
     "execution_count": 237,
     "metadata": {},
     "output_type": "execute_result"
    }
   ],
   "source": [
    "clf.score(validation_vecs_dbow_dmc, y_validation)"
   ]
  },
  {
   "cell_type": "code",
   "execution_count": 239,
   "metadata": {},
   "outputs": [
    {
     "name": "stderr",
     "output_type": "stream",
     "text": [
      "/opt/anaconda3/lib/python3.7/site-packages/ipykernel_launcher.py:6: DeprecationWarning: Call to deprecated `docvecs` (The `docvecs` property has been renamed `dv`.).\n",
      "  \n"
     ]
    }
   ],
   "source": [
    "train_vecs_dbow_dmm = get_concat_vectors(model_ug_dbow,model_ug_dmm, x_train1, 200)\n",
    "validation_vecs_dbow_dmm = get_concat_vectors(model_ug_dbow,model_ug_dmm, x_val1, 200)"
   ]
  },
  {
   "cell_type": "code",
   "execution_count": 240,
   "metadata": {},
   "outputs": [
    {
     "name": "stdout",
     "output_type": "stream",
     "text": [
      "CPU times: user 1.2 s, sys: 307 ms, total: 1.51 s\n",
      "Wall time: 541 ms\n"
     ]
    },
    {
     "data": {
      "text/plain": [
       "LogisticRegression()"
      ]
     },
     "execution_count": 240,
     "metadata": {},
     "output_type": "execute_result"
    }
   ],
   "source": [
    "%%time\n",
    "clf = LogisticRegression()\n",
    "clf.fit(train_vecs_dbow_dmm, y_train)"
   ]
  },
  {
   "cell_type": "code",
   "execution_count": 241,
   "metadata": {},
   "outputs": [
    {
     "data": {
      "text/plain": [
       "0.7017142012708734"
      ]
     },
     "execution_count": 241,
     "metadata": {},
     "output_type": "execute_result"
    }
   ],
   "source": [
    "clf.score(validation_vecs_dbow_dmm, y_validation)"
   ]
  },
  {
   "cell_type": "code",
   "execution_count": 255,
   "metadata": {},
   "outputs": [],
   "source": [
    "from gensim.models.phrases import Phrases\n",
    "from gensim.models.phrases import Phraser"
   ]
  },
  {
   "cell_type": "code",
   "execution_count": 256,
   "metadata": {},
   "outputs": [],
   "source": [
    "tokenized_train = [t.split() for t in x_train]"
   ]
  },
  {
   "cell_type": "code",
   "execution_count": 257,
   "metadata": {},
   "outputs": [
    {
     "name": "stdout",
     "output_type": "stream",
     "text": [
      "CPU times: user 1.74 s, sys: 52.6 ms, total: 1.79 s\n",
      "Wall time: 1.79 s\n"
     ]
    }
   ],
   "source": [
    "%%time\n",
    "phrases = Phrases(tokenized_train)\n",
    "bigram = Phraser(phrases)"
   ]
  },
  {
   "cell_type": "code",
   "execution_count": 260,
   "metadata": {},
   "outputs": [],
   "source": [
    "def labelize_tweets_bg(tweets,label):\n",
    "    result = []\n",
    "    prefix = label\n",
    "    for i, t in zip(tweets.index, tweets):\n",
    "        result.append(TaggedDocument(bigram[t.split()], [prefix + '_%s' % i]))\n",
    "    return result"
   ]
  },
  {
   "cell_type": "code",
   "execution_count": 261,
   "metadata": {},
   "outputs": [],
   "source": [
    "all_x_w2v_bg = labelize_tweets_bg(all_x, 'all')"
   ]
  },
  {
   "cell_type": "code",
   "execution_count": 262,
   "metadata": {},
   "outputs": [
    {
     "name": "stderr",
     "output_type": "stream",
     "text": [
      "100%|██████████| 61531/61531 [00:00<00:00, 3602905.44it/s]\n"
     ]
    }
   ],
   "source": [
    "cores = multiprocessing.cpu_count()\n",
    "model_bg_dbow = Doc2Vec(dm=0, vector_size=100, negative=5, min_count=2, workers=cores, alpha=0.065, min_alpha=0.065)\n",
    "model_bg_dbow.build_vocab([x for x in tqdm(all_x_w2v_bg)])"
   ]
  },
  {
   "cell_type": "code",
   "execution_count": 263,
   "metadata": {},
   "outputs": [
    {
     "name": "stderr",
     "output_type": "stream",
     "text": [
      "100%|██████████| 61531/61531 [00:00<00:00, 3938945.66it/s]\n",
      "100%|██████████| 61531/61531 [00:00<00:00, 3930247.76it/s]\n",
      "100%|██████████| 61531/61531 [00:00<00:00, 3955002.29it/s]\n",
      "100%|██████████| 61531/61531 [00:00<00:00, 3918670.48it/s]\n",
      "100%|██████████| 61531/61531 [00:00<00:00, 4009565.91it/s]\n",
      "100%|██████████| 61531/61531 [00:00<00:00, 3739093.61it/s]\n",
      "100%|██████████| 61531/61531 [00:00<00:00, 3955426.60it/s]\n",
      "100%|██████████| 61531/61531 [00:00<00:00, 4022627.61it/s]\n",
      "100%|██████████| 61531/61531 [00:00<00:00, 4065463.99it/s]\n",
      "100%|██████████| 61531/61531 [00:00<00:00, 3991890.60it/s]\n",
      "100%|██████████| 61531/61531 [00:00<00:00, 4001235.96it/s]\n",
      "100%|██████████| 61531/61531 [00:00<00:00, 4098259.88it/s]\n",
      "100%|██████████| 61531/61531 [00:00<00:00, 4013556.65it/s]\n",
      "100%|██████████| 61531/61531 [00:00<00:00, 4029284.78it/s]\n",
      "100%|██████████| 61531/61531 [00:00<00:00, 3950340.87it/s]\n",
      "100%|██████████| 61531/61531 [00:00<00:00, 4102885.75it/s]\n",
      "100%|██████████| 61531/61531 [00:00<00:00, 3989545.66it/s]\n",
      "100%|██████████| 61531/61531 [00:00<00:00, 3957488.84it/s]\n",
      "100%|██████████| 61531/61531 [00:00<00:00, 4045707.38it/s]\n",
      "100%|██████████| 61531/61531 [00:00<00:00, 4011123.85it/s]\n",
      "100%|██████████| 61531/61531 [00:00<00:00, 3802839.75it/s]\n",
      "100%|██████████| 61531/61531 [00:00<00:00, 4049643.32it/s]\n",
      "100%|██████████| 61531/61531 [00:00<00:00, 4039881.02it/s]\n",
      "100%|██████████| 61531/61531 [00:00<00:00, 3958035.08it/s]\n",
      "100%|██████████| 61531/61531 [00:00<00:00, 4031676.68it/s]\n",
      "100%|██████████| 61531/61531 [00:00<00:00, 3953669.33it/s]\n",
      "100%|██████████| 61531/61531 [00:00<00:00, 4051041.79it/s]\n",
      "100%|██████████| 61531/61531 [00:00<00:00, 4034008.37it/s]\n",
      "100%|██████████| 61531/61531 [00:00<00:00, 3959735.48it/s]\n",
      "100%|██████████| 61531/61531 [00:00<00:00, 3931145.76it/s]\n"
     ]
    },
    {
     "name": "stdout",
     "output_type": "stream",
     "text": [
      "CPU times: user 1min 28s, sys: 7.19 s, total: 1min 35s\n",
      "Wall time: 55.5 s\n"
     ]
    }
   ],
   "source": [
    "%%time\n",
    "for epoch in range(30):\n",
    "    model_bg_dbow.train(utils.shuffle([x for x in tqdm(all_x_w2v_bg)]), total_examples=len(all_x_w2v_bg), epochs=1)\n",
    "    model_bg_dbow.alpha -= 0.002\n",
    "    model_bg_dbow.min_alpha = model_bg_dbow.alpha"
   ]
  },
  {
   "cell_type": "code",
   "execution_count": 264,
   "metadata": {},
   "outputs": [],
   "source": [
    "train_vecs_dbow_bg = get_vectors(model_bg_dbow, x_train1, 100)\n",
    "validation_vecs_dbow_bg = get_vectors(model_bg_dbow, x_val1, 100)"
   ]
  },
  {
   "cell_type": "code",
   "execution_count": 265,
   "metadata": {},
   "outputs": [
    {
     "name": "stdout",
     "output_type": "stream",
     "text": [
      "CPU times: user 407 ms, sys: 57.5 ms, total: 464 ms\n",
      "Wall time: 157 ms\n"
     ]
    },
    {
     "data": {
      "text/plain": [
       "LogisticRegression()"
      ]
     },
     "execution_count": 265,
     "metadata": {},
     "output_type": "execute_result"
    }
   ],
   "source": [
    "%%time\n",
    "clf = LogisticRegression()\n",
    "clf.fit(train_vecs_dbow_bg, y_train)"
   ]
  },
  {
   "cell_type": "code",
   "execution_count": 266,
   "metadata": {},
   "outputs": [
    {
     "data": {
      "text/plain": [
       "0.6912959952711689"
      ]
     },
     "execution_count": 266,
     "metadata": {},
     "output_type": "execute_result"
    }
   ],
   "source": [
    "clf.score(validation_vecs_dbow_bg, y_validation)"
   ]
  },
  {
   "cell_type": "code",
   "execution_count": 267,
   "metadata": {},
   "outputs": [
    {
     "name": "stderr",
     "output_type": "stream",
     "text": [
      "100%|██████████| 61531/61531 [00:00<00:00, 3852741.16it/s]\n"
     ]
    }
   ],
   "source": [
    "cores = multiprocessing.cpu_count()\n",
    "model_bg_dmc = Doc2Vec(dm=1, dm_concat=1, vector_size=100, window=2, negative=5, min_count=2, workers=cores, alpha=0.065, min_alpha=0.065)\n",
    "model_bg_dmc.build_vocab([x for x in tqdm(all_x_w2v_bg)])"
   ]
  },
  {
   "cell_type": "code",
   "execution_count": 268,
   "metadata": {},
   "outputs": [
    {
     "name": "stderr",
     "output_type": "stream",
     "text": [
      "100%|██████████| 61531/61531 [00:00<00:00, 3984864.04it/s]\n",
      "100%|██████████| 61531/61531 [00:00<00:00, 3858962.88it/s]\n",
      "100%|██████████| 61531/61531 [00:00<00:00, 3527172.98it/s]\n",
      "100%|██████████| 61531/61531 [00:00<00:00, 4012994.97it/s]\n",
      "100%|██████████| 61531/61531 [00:00<00:00, 3917124.07it/s]\n",
      "100%|██████████| 61531/61531 [00:00<00:00, 4041462.61it/s]\n",
      "100%|██████████| 61531/61531 [00:00<00:00, 3994423.76it/s]\n",
      "100%|██████████| 61531/61531 [00:00<00:00, 4036910.99it/s]\n",
      "100%|██████████| 61531/61531 [00:00<00:00, 4007697.98it/s]\n",
      "100%|██████████| 61531/61531 [00:00<00:00, 4054160.03it/s]\n",
      "100%|██████████| 61531/61531 [00:00<00:00, 4080827.92it/s]\n",
      "100%|██████████| 61531/61531 [00:00<00:00, 3521253.61it/s]\n",
      "100%|██████████| 61531/61531 [00:00<00:00, 4009067.63it/s]\n",
      "100%|██████████| 61531/61531 [00:00<00:00, 4000987.84it/s]\n",
      "100%|██████████| 61531/61531 [00:00<00:00, 3873093.61it/s]\n",
      "100%|██████████| 61531/61531 [00:00<00:00, 4054223.72it/s]\n",
      "100%|██████████| 61531/61531 [00:00<00:00, 3951127.09it/s]\n",
      "100%|██████████| 61531/61531 [00:00<00:00, 4030858.08it/s]\n",
      "100%|██████████| 61531/61531 [00:00<00:00, 4041209.47it/s]\n",
      "100%|██████████| 61531/61531 [00:00<00:00, 3756947.03it/s]\n",
      "100%|██████████| 61531/61531 [00:00<00:00, 3923615.29it/s]\n",
      "100%|██████████| 61531/61531 [00:00<00:00, 3990902.92it/s]\n",
      "100%|██████████| 61531/61531 [00:00<00:00, 3993125.89it/s]\n",
      "100%|██████████| 61531/61531 [00:00<00:00, 3744301.42it/s]\n",
      "100%|██████████| 61531/61531 [00:00<00:00, 3996526.87it/s]\n",
      "100%|██████████| 61531/61531 [00:00<00:00, 3790440.46it/s]\n",
      "100%|██████████| 61531/61531 [00:00<00:00, 3722858.49it/s]\n",
      "100%|██████████| 61531/61531 [00:00<00:00, 3865494.19it/s]\n",
      "100%|██████████| 61531/61531 [00:00<00:00, 3694506.04it/s]\n",
      "100%|██████████| 61531/61531 [00:00<00:00, 3867985.36it/s]\n"
     ]
    },
    {
     "name": "stdout",
     "output_type": "stream",
     "text": [
      "CPU times: user 2min 10s, sys: 7.49 s, total: 2min 18s\n",
      "Wall time: 59 s\n"
     ]
    }
   ],
   "source": [
    "%%time\n",
    "for epoch in range(30):\n",
    "    model_bg_dmc.train(utils.shuffle([x for x in tqdm(all_x_w2v_bg)]), total_examples=len(all_x_w2v_bg), epochs=1)\n",
    "    model_bg_dmc.alpha -= 0.002\n",
    "    model_bg_dmc.min_alpha = model_bg_dmc.alpha"
   ]
  },
  {
   "cell_type": "code",
   "execution_count": 269,
   "metadata": {},
   "outputs": [],
   "source": [
    "train_vecs_dmc_bg = get_vectors(model_bg_dmc, x_train1, 100)\n",
    "validation_vecs_dmc_bg = get_vectors(model_bg_dmc, x_val1, 100)"
   ]
  },
  {
   "cell_type": "code",
   "execution_count": 270,
   "metadata": {},
   "outputs": [
    {
     "name": "stdout",
     "output_type": "stream",
     "text": [
      "CPU times: user 278 ms, sys: 73.2 ms, total: 352 ms\n",
      "Wall time: 120 ms\n"
     ]
    },
    {
     "data": {
      "text/plain": [
       "LogisticRegression()"
      ]
     },
     "execution_count": 270,
     "metadata": {},
     "output_type": "execute_result"
    }
   ],
   "source": [
    "%%time\n",
    "clf = LogisticRegression()\n",
    "clf.fit(train_vecs_dmc_bg, y_train)"
   ]
  },
  {
   "cell_type": "code",
   "execution_count": 271,
   "metadata": {},
   "outputs": [
    {
     "data": {
      "text/plain": [
       "0.6696468154278115"
      ]
     },
     "execution_count": 271,
     "metadata": {},
     "output_type": "execute_result"
    }
   ],
   "source": [
    "clf.score(validation_vecs_dmc_bg, y_validation)"
   ]
  },
  {
   "cell_type": "code",
   "execution_count": 272,
   "metadata": {},
   "outputs": [
    {
     "name": "stderr",
     "output_type": "stream",
     "text": [
      "100%|██████████| 61531/61531 [00:00<00:00, 3891900.70it/s]\n"
     ]
    }
   ],
   "source": [
    "cores = multiprocessing.cpu_count()\n",
    "model_bg_dmm = Doc2Vec(dm=1, dm_mean=1, vector_size=100, window=4, negative=5, min_count=2, workers=cores, alpha=0.065, min_alpha=0.065)\n",
    "model_bg_dmm.build_vocab([x for x in tqdm(all_x_w2v_bg)])"
   ]
  },
  {
   "cell_type": "code",
   "execution_count": 274,
   "metadata": {},
   "outputs": [
    {
     "name": "stderr",
     "output_type": "stream",
     "text": [
      "100%|██████████| 61531/61531 [00:00<00:00, 3905978.53it/s]\n",
      "100%|██████████| 61531/61531 [00:00<00:00, 3918968.01it/s]\n",
      "100%|██████████| 61531/61531 [00:00<00:00, 3964601.81it/s]\n",
      "100%|██████████| 61531/61531 [00:00<00:00, 4014555.57it/s]\n",
      "100%|██████████| 61531/61531 [00:00<00:00, 4016429.90it/s]\n",
      "100%|██████████| 61531/61531 [00:00<00:00, 3907989.51it/s]\n",
      "100%|██████████| 61531/61531 [00:00<00:00, 4064695.63it/s]\n",
      "100%|██████████| 61531/61531 [00:00<00:00, 4002290.83it/s]\n",
      "100%|██████████| 61531/61531 [00:00<00:00, 3893838.46it/s]\n",
      "100%|██████████| 61531/61531 [00:00<00:00, 4045897.65it/s]\n",
      "100%|██████████| 61531/61531 [00:00<00:00, 3965150.02it/s]\n",
      "100%|██████████| 61531/61531 [00:00<00:00, 3908226.23it/s]\n",
      "100%|██████████| 61531/61531 [00:00<00:00, 4045961.08it/s]\n",
      "100%|██████████| 61531/61531 [00:00<00:00, 4031361.80it/s]\n",
      "100%|██████████| 61531/61531 [00:00<00:00, 3980807.32it/s]\n",
      "100%|██████████| 61531/61531 [00:00<00:00, 4064759.65it/s]\n",
      "100%|██████████| 61531/61531 [00:00<00:00, 4031109.92it/s]\n",
      "100%|██████████| 61531/61531 [00:00<00:00, 4014305.79it/s]\n",
      "100%|██████████| 61531/61531 [00:00<00:00, 3751213.24it/s]\n",
      "100%|██████████| 61531/61531 [00:00<00:00, 3710761.04it/s]\n",
      "100%|██████████| 61531/61531 [00:00<00:00, 4060410.94it/s]\n",
      "100%|██████████| 61531/61531 [00:00<00:00, 3979456.92it/s]\n",
      "100%|██████████| 61531/61531 [00:00<00:00, 4048690.38it/s]\n",
      "100%|██████████| 61531/61531 [00:00<00:00, 4047103.13it/s]\n",
      "100%|██████████| 61531/61531 [00:00<00:00, 3859944.05it/s]\n",
      "100%|██████████| 61531/61531 [00:00<00:00, 4034260.61it/s]\n",
      "100%|██████████| 61531/61531 [00:00<00:00, 4041462.61it/s]\n",
      "100%|██████████| 61531/61531 [00:00<00:00, 3884052.00it/s]\n",
      "100%|██████████| 61531/61531 [00:00<00:00, 4004837.21it/s]\n",
      "100%|██████████| 61531/61531 [00:00<00:00, 3821534.94it/s]\n"
     ]
    },
    {
     "name": "stdout",
     "output_type": "stream",
     "text": [
      "CPU times: user 2min 21s, sys: 21.6 s, total: 2min 42s\n",
      "Wall time: 1min 41s\n"
     ]
    }
   ],
   "source": [
    "%%time\n",
    "for epoch in range(30):\n",
    "    model_bg_dmm.train(utils.shuffle([x for x in tqdm(all_x_w2v_bg)]), total_examples=len(all_x_w2v_bg), epochs=1)\n",
    "    model_bg_dmm.alpha -= 0.002\n",
    "    model_bg_dmm.min_alpha = model_bg_dmm.alpha"
   ]
  },
  {
   "cell_type": "code",
   "execution_count": 275,
   "metadata": {},
   "outputs": [],
   "source": [
    "train_vecs_dmm_bg = get_vectors(model_bg_dmm, x_train1, 100)\n",
    "validation_vecs_dmm_bg = get_vectors(model_bg_dmm, x_val1, 100)"
   ]
  },
  {
   "cell_type": "code",
   "execution_count": 276,
   "metadata": {},
   "outputs": [
    {
     "name": "stdout",
     "output_type": "stream",
     "text": [
      "CPU times: user 381 ms, sys: 41.7 ms, total: 422 ms\n",
      "Wall time: 127 ms\n"
     ]
    },
    {
     "data": {
      "text/plain": [
       "LogisticRegression()"
      ]
     },
     "execution_count": 276,
     "metadata": {},
     "output_type": "execute_result"
    }
   ],
   "source": [
    "%%time\n",
    "clf = LogisticRegression()\n",
    "clf.fit(train_vecs_dmm_bg, y_train)"
   ]
  },
  {
   "cell_type": "code",
   "execution_count": 277,
   "metadata": {},
   "outputs": [
    {
     "data": {
      "text/plain": [
       "0.6892271316683907"
      ]
     },
     "execution_count": 277,
     "metadata": {},
     "output_type": "execute_result"
    }
   ],
   "source": [
    "clf.score(validation_vecs_dmm_bg, y_validation)"
   ]
  },
  {
   "cell_type": "code",
   "execution_count": 278,
   "metadata": {},
   "outputs": [
    {
     "name": "stderr",
     "output_type": "stream",
     "text": [
      "/opt/anaconda3/lib/python3.7/site-packages/ipykernel_launcher.py:6: DeprecationWarning: Call to deprecated `docvecs` (The `docvecs` property has been renamed `dv`.).\n",
      "  \n"
     ]
    }
   ],
   "source": [
    "train_vecs_dbow_dmc_bg = get_concat_vectors(model_bg_dbow,model_bg_dmc, x_train1, 200)\n",
    "validation_vecs_dbow_dmc_bg = get_concat_vectors(model_bg_dbow,model_bg_dmc, x_val1, 200)"
   ]
  },
  {
   "cell_type": "code",
   "execution_count": 279,
   "metadata": {},
   "outputs": [
    {
     "name": "stdout",
     "output_type": "stream",
     "text": [
      "CPU times: user 1.26 s, sys: 77.2 ms, total: 1.34 s\n",
      "Wall time: 377 ms\n"
     ]
    },
    {
     "data": {
      "text/plain": [
       "LogisticRegression()"
      ]
     },
     "execution_count": 279,
     "metadata": {},
     "output_type": "execute_result"
    }
   ],
   "source": [
    "%%time\n",
    "clf = LogisticRegression()\n",
    "clf.fit(train_vecs_dbow_dmc_bg, y_train)"
   ]
  },
  {
   "cell_type": "code",
   "execution_count": 280,
   "metadata": {},
   "outputs": [
    {
     "data": {
      "text/plain": [
       "0.697133146150436"
      ]
     },
     "execution_count": 280,
     "metadata": {},
     "output_type": "execute_result"
    }
   ],
   "source": [
    "clf.score(validation_vecs_dbow_dmc_bg, y_validation)"
   ]
  },
  {
   "cell_type": "code",
   "execution_count": 283,
   "metadata": {},
   "outputs": [
    {
     "name": "stderr",
     "output_type": "stream",
     "text": [
      "/opt/anaconda3/lib/python3.7/site-packages/ipykernel_launcher.py:6: DeprecationWarning: Call to deprecated `docvecs` (The `docvecs` property has been renamed `dv`.).\n",
      "  \n"
     ]
    }
   ],
   "source": [
    "train_vecs_dbow_dmm_bg = get_concat_vectors(model_bg_dbow,model_bg_dmm, x_train1, 200)\n",
    "validation_vecs_dbow_dmm_bg = get_concat_vectors(model_bg_dbow,model_bg_dmm, x_val1, 200)"
   ]
  },
  {
   "cell_type": "code",
   "execution_count": 284,
   "metadata": {},
   "outputs": [
    {
     "name": "stdout",
     "output_type": "stream",
     "text": [
      "CPU times: user 1.29 s, sys: 176 ms, total: 1.46 s\n",
      "Wall time: 456 ms\n"
     ]
    },
    {
     "data": {
      "text/plain": [
       "LogisticRegression()"
      ]
     },
     "execution_count": 284,
     "metadata": {},
     "output_type": "execute_result"
    }
   ],
   "source": [
    "%%time\n",
    "clf = LogisticRegression()\n",
    "clf.fit(train_vecs_dbow_dmm_bg, y_train)"
   ]
  },
  {
   "cell_type": "code",
   "execution_count": 285,
   "metadata": {},
   "outputs": [
    {
     "data": {
      "text/plain": [
       "0.6979459139943845"
      ]
     },
     "execution_count": 285,
     "metadata": {},
     "output_type": "execute_result"
    }
   ],
   "source": [
    "clf.score(validation_vecs_dbow_dmm_bg, y_validation)"
   ]
  },
  {
   "cell_type": "code",
   "execution_count": 286,
   "metadata": {},
   "outputs": [
    {
     "name": "stdout",
     "output_type": "stream",
     "text": [
      "CPU times: user 2.57 s, sys: 105 ms, total: 2.67 s\n",
      "Wall time: 2.71 s\n"
     ]
    }
   ],
   "source": [
    "%%time\n",
    "tg_phrases = Phrases(bigram[tokenized_train])\n",
    "trigram = Phraser(tg_phrases)"
   ]
  },
  {
   "cell_type": "code",
   "execution_count": 287,
   "metadata": {},
   "outputs": [],
   "source": [
    "def labelize_tweets_tg(tweets,label):\n",
    "    result = []\n",
    "    prefix = label\n",
    "    for i, t in zip(tweets.index, tweets):\n",
    "        result.append(TaggedDocument(trigram[bigram[t.split()]], [prefix + '_%s' % i]))\n",
    "    return result"
   ]
  },
  {
   "cell_type": "code",
   "execution_count": 288,
   "metadata": {},
   "outputs": [],
   "source": [
    "all_x_w2v_tg = labelize_tweets_tg(all_x, 'all')"
   ]
  },
  {
   "cell_type": "code",
   "execution_count": 289,
   "metadata": {},
   "outputs": [
    {
     "name": "stderr",
     "output_type": "stream",
     "text": [
      "100%|██████████| 61531/61531 [00:00<00:00, 3731201.13it/s]\n"
     ]
    }
   ],
   "source": [
    "model_tg_dbow = Doc2Vec(dm=0, vector_size=100, negative=5, min_count=2, workers=cores, alpha=0.065, min_alpha=0.065)\n",
    "model_tg_dbow.build_vocab([x for x in tqdm(all_x_w2v_tg)])\n"
   ]
  },
  {
   "cell_type": "code",
   "execution_count": 290,
   "metadata": {},
   "outputs": [
    {
     "name": "stderr",
     "output_type": "stream",
     "text": [
      "100%|██████████| 61531/61531 [00:00<00:00, 3902552.80it/s]\n",
      "100%|██████████| 61531/61531 [00:00<00:00, 3832999.95it/s]\n",
      "100%|██████████| 61531/61531 [00:00<00:00, 4063607.61it/s]\n",
      "100%|██████████| 61531/61531 [00:00<00:00, 3968930.71it/s]\n",
      "100%|██████████| 61531/61531 [00:00<00:00, 3978475.38it/s]\n",
      "100%|██████████| 61531/61531 [00:00<00:00, 3785825.43it/s]\n",
      "100%|██████████| 61531/61531 [00:00<00:00, 4067322.06it/s]\n",
      "100%|██████████| 61531/61531 [00:00<00:00, 3951308.57it/s]\n",
      "100%|██████████| 61531/61531 [00:00<00:00, 4076831.15it/s]\n",
      "100%|██████████| 61531/61531 [00:00<00:00, 4050533.15it/s]\n",
      "100%|██████████| 61531/61531 [00:00<00:00, 4022502.21it/s]\n",
      "100%|██████████| 61531/61531 [00:00<00:00, 4043362.15it/s]\n",
      "100%|██████████| 61531/61531 [00:00<00:00, 4007262.39it/s]\n",
      "100%|██████████| 61531/61531 [00:00<00:00, 4030606.27it/s]\n",
      "100%|██████████| 61531/61531 [00:00<00:00, 4074835.71it/s]\n",
      "100%|██████████| 61531/61531 [00:00<00:00, 4042982.10it/s]\n",
      "100%|██████████| 61531/61531 [00:00<00:00, 4049135.03it/s]\n",
      "100%|██████████| 61531/61531 [00:00<00:00, 4010375.89it/s]\n",
      "100%|██████████| 61531/61531 [00:00<00:00, 3772433.48it/s]\n",
      "100%|██████████| 61531/61531 [00:00<00:00, 4043615.56it/s]\n",
      "100%|██████████| 61531/61531 [00:00<00:00, 4059325.22it/s]\n",
      "100%|██████████| 61531/61531 [00:00<00:00, 4000739.74it/s]\n",
      "100%|██████████| 61531/61531 [00:00<00:00, 3727105.88it/s]\n",
      "100%|██████████| 61531/61531 [00:00<00:00, 3981482.87it/s]\n",
      "100%|██████████| 61531/61531 [00:00<00:00, 3991149.80it/s]\n",
      "100%|██████████| 61531/61531 [00:00<00:00, 4029599.34it/s]\n",
      "100%|██████████| 61531/61531 [00:00<00:00, 4009628.21it/s]\n",
      "100%|██████████| 61531/61531 [00:00<00:00, 3977126.56it/s]\n",
      "100%|██████████| 61531/61531 [00:00<00:00, 3782773.46it/s]\n",
      "100%|██████████| 61531/61531 [00:00<00:00, 3920873.26it/s]\n"
     ]
    },
    {
     "name": "stdout",
     "output_type": "stream",
     "text": [
      "CPU times: user 1min 26s, sys: 7.04 s, total: 1min 33s\n",
      "Wall time: 53.5 s\n"
     ]
    }
   ],
   "source": [
    "\n",
    "\n",
    "%%time\n",
    "for epoch in range(30):\n",
    "    model_tg_dbow.train(utils.shuffle([x for x in tqdm(all_x_w2v_tg)]), total_examples=len(all_x_w2v_tg), epochs=1)\n",
    "    model_tg_dbow.alpha -= 0.002\n",
    "    model_tg_dbow.min_alpha = model_tg_dbow.alpha\n",
    "\n"
   ]
  },
  {
   "cell_type": "code",
   "execution_count": 291,
   "metadata": {},
   "outputs": [],
   "source": [
    "\n",
    "\n",
    "train_vecs_dbow_tg = get_vectors(model_tg_dbow, x_train1, 100)\n",
    "validation_vecs_dbow_tg = get_vectors(model_tg_dbow, x_val1, 100)\n"
   ]
  },
  {
   "cell_type": "code",
   "execution_count": 292,
   "metadata": {},
   "outputs": [
    {
     "name": "stdout",
     "output_type": "stream",
     "text": [
      "CPU times: user 361 ms, sys: 139 ms, total: 500 ms\n",
      "Wall time: 180 ms\n"
     ]
    },
    {
     "data": {
      "text/plain": [
       "LogisticRegression()"
      ]
     },
     "execution_count": 292,
     "metadata": {},
     "output_type": "execute_result"
    }
   ],
   "source": [
    "%%time\n",
    "clf = LogisticRegression()\n",
    "clf.fit(train_vecs_dbow_tg, y_train)"
   ]
  },
  {
   "cell_type": "code",
   "execution_count": 293,
   "metadata": {},
   "outputs": [
    {
     "data": {
      "text/plain": [
       "0.6976503620511305"
      ]
     },
     "execution_count": 293,
     "metadata": {},
     "output_type": "execute_result"
    }
   ],
   "source": [
    "clf.score(validation_vecs_dbow_tg, y_validation)"
   ]
  },
  {
   "cell_type": "code",
   "execution_count": 294,
   "metadata": {},
   "outputs": [
    {
     "name": "stderr",
     "output_type": "stream",
     "text": [
      "100%|██████████| 61531/61531 [00:00<00:00, 3855388.70it/s]\n"
     ]
    }
   ],
   "source": [
    "cores = multiprocessing.cpu_count()\n",
    "model_tg_dmc = Doc2Vec(dm=1, dm_concat=1, vector_size=100, window=2, negative=5, min_count=2, workers=cores, alpha=0.065, min_alpha=0.065)\n",
    "model_tg_dmc.build_vocab([x for x in tqdm(all_x_w2v_tg)])"
   ]
  },
  {
   "cell_type": "code",
   "execution_count": 295,
   "metadata": {},
   "outputs": [
    {
     "name": "stderr",
     "output_type": "stream",
     "text": [
      "100%|██████████| 61531/61531 [00:00<00:00, 3946836.92it/s]\n",
      "100%|██████████| 61531/61531 [00:00<00:00, 3915163.07it/s]\n",
      "100%|██████████| 61531/61531 [00:00<00:00, 3858616.70it/s]\n",
      "100%|██████████| 61531/61531 [00:00<00:00, 3986464.41it/s]\n",
      "100%|██████████| 61531/61531 [00:00<00:00, 4045707.38it/s]\n",
      "100%|██████████| 61531/61531 [00:00<00:00, 3999189.86it/s]\n",
      "100%|██████████| 61531/61531 [00:00<00:00, 4040133.99it/s]\n",
      "100%|██████████| 61531/61531 [00:00<00:00, 4055051.84it/s]\n",
      "100%|██████████| 61531/61531 [00:00<00:00, 4038806.25it/s]\n",
      "100%|██████████| 61531/61531 [00:00<00:00, 4022878.42it/s]\n",
      "100%|██████████| 61531/61531 [00:00<00:00, 4025325.50it/s]\n",
      "100%|██████████| 61531/61531 [00:00<00:00, 4021311.34it/s]\n",
      "100%|██████████| 61531/61531 [00:00<00:00, 4096893.66it/s]\n",
      "100%|██████████| 61531/61531 [00:00<00:00, 4036974.13it/s]\n",
      "100%|██████████| 61531/61531 [00:00<00:00, 4070272.84it/s]\n",
      "100%|██████████| 61531/61531 [00:00<00:00, 3939967.93it/s]\n",
      "100%|██████████| 61531/61531 [00:00<00:00, 4018994.31it/s]\n",
      "100%|██████████| 61531/61531 [00:00<00:00, 3768192.26it/s]\n",
      "100%|██████████| 61531/61531 [00:00<00:00, 3958763.64it/s]\n",
      "100%|██████████| 61531/61531 [00:00<00:00, 4051868.61it/s]\n",
      "100%|██████████| 61531/61531 [00:00<00:00, 4029473.51it/s]\n",
      "100%|██████████| 61531/61531 [00:00<00:00, 3909528.72it/s]\n",
      "100%|██████████| 61531/61531 [00:00<00:00, 3895895.77it/s]\n",
      "100%|██████████| 61531/61531 [00:00<00:00, 3860867.97it/s]\n",
      "100%|██████████| 61531/61531 [00:00<00:00, 3848547.09it/s]\n",
      "100%|██████████| 61531/61531 [00:00<00:00, 3988744.08it/s]\n",
      "100%|██████████| 61531/61531 [00:00<00:00, 4013494.23it/s]\n",
      "100%|██████████| 61531/61531 [00:00<00:00, 4003532.56it/s]\n",
      "100%|██████████| 61531/61531 [00:00<00:00, 3977187.85it/s]\n",
      "100%|██████████| 61531/61531 [00:00<00:00, 4021060.72it/s]\n"
     ]
    },
    {
     "name": "stdout",
     "output_type": "stream",
     "text": [
      "CPU times: user 2min 10s, sys: 7.51 s, total: 2min 17s\n",
      "Wall time: 59.1 s\n"
     ]
    }
   ],
   "source": [
    "%%time\n",
    "for epoch in range(30):\n",
    "    model_tg_dmc.train(utils.shuffle([x for x in tqdm(all_x_w2v_tg)]), total_examples=len(all_x_w2v_tg), epochs=1)\n",
    "    model_tg_dmc.alpha -= 0.002\n",
    "    model_tg_dmc.min_alpha = model_tg_dmc.alpha"
   ]
  },
  {
   "cell_type": "code",
   "execution_count": 296,
   "metadata": {},
   "outputs": [],
   "source": [
    "train_vecs_dmc_tg = get_vectors(model_tg_dmc, x_train1, 100)\n",
    "validation_vecs_dmc_tg = get_vectors(model_tg_dmc, x_val1, 100)"
   ]
  },
  {
   "cell_type": "code",
   "execution_count": 297,
   "metadata": {},
   "outputs": [
    {
     "name": "stdout",
     "output_type": "stream",
     "text": [
      "CPU times: user 350 ms, sys: 62.5 ms, total: 413 ms\n",
      "Wall time: 147 ms\n"
     ]
    },
    {
     "data": {
      "text/plain": [
       "LogisticRegression()"
      ]
     },
     "execution_count": 297,
     "metadata": {},
     "output_type": "execute_result"
    }
   ],
   "source": [
    "\n",
    "%%time\n",
    "clf = LogisticRegression()\n",
    "clf.fit(train_vecs_dmc_tg, y_train)\n"
   ]
  },
  {
   "cell_type": "code",
   "execution_count": 298,
   "metadata": {},
   "outputs": [
    {
     "data": {
      "text/plain": [
       "0.6676518398108467"
      ]
     },
     "execution_count": 298,
     "metadata": {},
     "output_type": "execute_result"
    }
   ],
   "source": [
    "clf.score(validation_vecs_dmc_tg, y_validation)"
   ]
  },
  {
   "cell_type": "code",
   "execution_count": 299,
   "metadata": {},
   "outputs": [
    {
     "name": "stderr",
     "output_type": "stream",
     "text": [
      "100%|██████████| 61531/61531 [00:00<00:00, 3955426.60it/s]\n"
     ]
    }
   ],
   "source": [
    "cores = multiprocessing.cpu_count()\n",
    "model_tg_dmm = Doc2Vec(dm=1, dm_mean=1, vector_size=100, window=4, negative=5, min_count=2, workers=cores, alpha=0.065, min_alpha=0.065)\n",
    "model_tg_dmm.build_vocab([x for x in tqdm(all_x_w2v_tg)])"
   ]
  },
  {
   "cell_type": "code",
   "execution_count": 300,
   "metadata": {},
   "outputs": [
    {
     "name": "stderr",
     "output_type": "stream",
     "text": [
      "100%|██████████| 61531/61531 [00:00<00:00, 3909410.28it/s]\n",
      "100%|██████████| 61531/61531 [00:00<00:00, 4052823.06it/s]\n",
      "100%|██████████| 61531/61531 [00:00<00:00, 3931385.30it/s]\n",
      "100%|██████████| 61531/61531 [00:00<00:00, 3842873.81it/s]\n",
      "100%|██████████| 61531/61531 [00:00<00:00, 4059836.07it/s]\n",
      "100%|██████████| 61531/61531 [00:00<00:00, 4043805.63it/s]\n",
      "100%|██████████| 61531/61531 [00:00<00:00, 3917421.36it/s]\n",
      "100%|██████████| 61531/61531 [00:00<00:00, 3937503.35it/s]\n",
      "100%|██████████| 61531/61531 [00:00<00:00, 4016930.01it/s]\n",
      "100%|██████████| 61531/61531 [00:00<00:00, 4030858.08it/s]\n",
      "100%|██████████| 61531/61531 [00:00<00:00, 3789828.18it/s]\n",
      "100%|██████████| 61531/61531 [00:00<00:00, 3850269.58it/s]\n",
      "100%|██████████| 61531/61531 [00:00<00:00, 4068668.62it/s]\n",
      "100%|██████████| 61531/61531 [00:00<00:00, 4062264.40it/s]\n",
      "100%|██████████| 61531/61531 [00:00<00:00, 3915163.07it/s]\n",
      "100%|██████████| 61531/61531 [00:00<00:00, 4063607.61it/s]\n",
      "100%|██████████| 61531/61531 [00:00<00:00, 3847342.27it/s]\n",
      "100%|██████████| 61531/61531 [00:00<00:00, 4051296.16it/s]\n",
      "100%|██████████| 61531/61531 [00:00<00:00, 3923138.14it/s]\n",
      "100%|██████████| 61531/61531 [00:00<00:00, 4037226.74it/s]\n",
      "100%|██████████| 61531/61531 [00:00<00:00, 4024195.71it/s]\n",
      "100%|██████████| 61531/61531 [00:00<00:00, 3554033.81it/s]\n",
      "100%|██████████| 61531/61531 [00:00<00:00, 4064439.57it/s]\n",
      "100%|██████████| 61531/61531 [00:00<00:00, 3797523.83it/s]\n",
      "100%|██████████| 61531/61531 [00:00<00:00, 4012932.57it/s]\n",
      "100%|██████████| 61531/61531 [00:00<00:00, 3924629.62it/s]\n",
      "100%|██████████| 61531/61531 [00:00<00:00, 4061241.59it/s]\n",
      "100%|██████████| 61531/61531 [00:00<00:00, 4025890.64it/s]\n",
      "100%|██████████| 61531/61531 [00:00<00:00, 3791609.90it/s]\n",
      "100%|██████████| 61531/61531 [00:00<00:00, 4002539.11it/s]\n"
     ]
    },
    {
     "name": "stdout",
     "output_type": "stream",
     "text": [
      "CPU times: user 2min 20s, sys: 21.9 s, total: 2min 42s\n",
      "Wall time: 1min 41s\n"
     ]
    }
   ],
   "source": [
    "%%time\n",
    "for epoch in range(30):\n",
    "    model_tg_dmm.train(utils.shuffle([x for x in tqdm(all_x_w2v_tg)]), total_examples=len(all_x_w2v_tg), epochs=1)\n",
    "    model_tg_dmm.alpha -= 0.002\n",
    "    model_tg_dmc.min_alpha = model_tg_dmc.alpha\n"
   ]
  },
  {
   "cell_type": "code",
   "execution_count": 301,
   "metadata": {},
   "outputs": [],
   "source": [
    "train_vecs_dmm_tg = get_vectors(model_tg_dmm, x_train1, 100)\n",
    "validation_vecs_dmm_tg = get_vectors(model_tg_dmm, x_val1, 100)"
   ]
  },
  {
   "cell_type": "code",
   "execution_count": 302,
   "metadata": {},
   "outputs": [
    {
     "name": "stdout",
     "output_type": "stream",
     "text": [
      "CPU times: user 374 ms, sys: 50.2 ms, total: 424 ms\n",
      "Wall time: 133 ms\n"
     ]
    },
    {
     "data": {
      "text/plain": [
       "LogisticRegression()"
      ]
     },
     "execution_count": 302,
     "metadata": {},
     "output_type": "execute_result"
    }
   ],
   "source": [
    "%%time\n",
    "clf = LogisticRegression()\n",
    "clf.fit(train_vecs_dmm_tg, y_train)"
   ]
  },
  {
   "cell_type": "code",
   "execution_count": 303,
   "metadata": {},
   "outputs": [
    {
     "data": {
      "text/plain": [
       "0.6898921235407123"
      ]
     },
     "execution_count": 303,
     "metadata": {},
     "output_type": "execute_result"
    }
   ],
   "source": [
    "clf.score(validation_vecs_dmm_tg, y_validation)"
   ]
  },
  {
   "cell_type": "code",
   "execution_count": 304,
   "metadata": {},
   "outputs": [
    {
     "name": "stderr",
     "output_type": "stream",
     "text": [
      "/opt/anaconda3/lib/python3.7/site-packages/ipykernel_launcher.py:6: DeprecationWarning: Call to deprecated `docvecs` (The `docvecs` property has been renamed `dv`.).\n",
      "  \n"
     ]
    }
   ],
   "source": [
    "train_vecs_dbow_dmc_tg = get_concat_vectors(model_tg_dbow,model_tg_dmc, x_train1, 200)\n",
    "validation_vecs_dbow_dmc_tg = get_concat_vectors(model_tg_dbow,model_tg_dmc, x_val1, 200)"
   ]
  },
  {
   "cell_type": "code",
   "execution_count": 305,
   "metadata": {},
   "outputs": [
    {
     "name": "stdout",
     "output_type": "stream",
     "text": [
      "CPU times: user 1.16 s, sys: 92.7 ms, total: 1.26 s\n",
      "Wall time: 415 ms\n"
     ]
    },
    {
     "data": {
      "text/plain": [
       "LogisticRegression()"
      ]
     },
     "execution_count": 305,
     "metadata": {},
     "output_type": "execute_result"
    }
   ],
   "source": [
    "%%time\n",
    "clf = LogisticRegression()\n",
    "clf.fit(train_vecs_dbow_dmc_tg, y_train)"
   ]
  },
  {
   "cell_type": "code",
   "execution_count": 306,
   "metadata": {},
   "outputs": [
    {
     "data": {
      "text/plain": [
       "0.7039308408452786"
      ]
     },
     "execution_count": 306,
     "metadata": {},
     "output_type": "execute_result"
    }
   ],
   "source": [
    "clf.score(validation_vecs_dbow_dmc_tg, y_validation)"
   ]
  },
  {
   "cell_type": "code",
   "execution_count": 307,
   "metadata": {},
   "outputs": [
    {
     "name": "stderr",
     "output_type": "stream",
     "text": [
      "/opt/anaconda3/lib/python3.7/site-packages/ipykernel_launcher.py:6: DeprecationWarning: Call to deprecated `docvecs` (The `docvecs` property has been renamed `dv`.).\n",
      "  \n"
     ]
    }
   ],
   "source": [
    "train_vecs_dbow_dmm_tg = get_concat_vectors(model_tg_dbow,model_tg_dmm, x_train1, 200)\n",
    "validation_vecs_dbow_dmm_tg = get_concat_vectors(model_tg_dbow,model_tg_dmm, x_val1, 200)"
   ]
  },
  {
   "cell_type": "code",
   "execution_count": 308,
   "metadata": {},
   "outputs": [
    {
     "name": "stdout",
     "output_type": "stream",
     "text": [
      "CPU times: user 1.78 s, sys: 138 ms, total: 1.91 s\n",
      "Wall time: 554 ms\n"
     ]
    },
    {
     "data": {
      "text/plain": [
       "LogisticRegression()"
      ]
     },
     "execution_count": 308,
     "metadata": {},
     "output_type": "execute_result"
    }
   ],
   "source": [
    "%%time\n",
    "clf = LogisticRegression()\n",
    "clf.fit(train_vecs_dbow_dmm_tg, y_train)"
   ]
  },
  {
   "cell_type": "code",
   "execution_count": 309,
   "metadata": {},
   "outputs": [
    {
     "data": {
      "text/plain": [
       "0.7002364415546032"
      ]
     },
     "execution_count": 309,
     "metadata": {},
     "output_type": "execute_result"
    }
   ],
   "source": [
    "clf.score(validation_vecs_dbow_dmm_tg, y_validation)"
   ]
  },
  {
   "cell_type": "code",
   "execution_count": 313,
   "metadata": {},
   "outputs": [
    {
     "name": "stderr",
     "output_type": "stream",
     "text": [
      "/opt/anaconda3/lib/python3.7/site-packages/ipykernel_launcher.py:6: DeprecationWarning: Call to deprecated `docvecs` (The `docvecs` property has been renamed `dv`.).\n",
      "  \n"
     ]
    }
   ],
   "source": [
    "train_vecs_ugdbow_tgdmm = get_concat_vectors(model_ug_dbow,model_tg_dmm, x_train1, 200)\n",
    "validation_vecs_ugdbow_tgdmm = get_concat_vectors(model_ug_dbow,model_tg_dmm, x_val1, 200)"
   ]
  },
  {
   "cell_type": "code",
   "execution_count": 314,
   "metadata": {},
   "outputs": [
    {
     "name": "stdout",
     "output_type": "stream",
     "text": [
      "CPU times: user 1.28 s, sys: 391 ms, total: 1.68 s\n",
      "Wall time: 595 ms\n"
     ]
    },
    {
     "data": {
      "text/plain": [
       "LogisticRegression()"
      ]
     },
     "execution_count": 314,
     "metadata": {},
     "output_type": "execute_result"
    }
   ],
   "source": [
    "\n",
    "\n",
    "%%time\n",
    "clf = LogisticRegression()\n",
    "clf.fit(train_vecs_ugdbow_tgdmm, y_train)\n",
    "\n"
   ]
  },
  {
   "cell_type": "code",
   "execution_count": 315,
   "metadata": {},
   "outputs": [
    {
     "data": {
      "text/plain": [
       "0.6996453376680951"
      ]
     },
     "execution_count": 315,
     "metadata": {},
     "output_type": "execute_result"
    }
   ],
   "source": [
    "clf.score(validation_vecs_ugdbow_tgdmm, y_validation)"
   ]
  },
  {
   "cell_type": "code",
   "execution_count": 397,
   "metadata": {},
   "outputs": [
    {
     "data": {
      "text/plain": [
       "Text(0.5, 0, '$\\\\chi^2$')"
      ]
     },
     "execution_count": 397,
     "metadata": {},
     "output_type": "execute_result"
    },
    {
     "data": {
      "image/png": "[encoded data removed]",
      "text/plain": [
       "<Figure size 1080x720 with 1 Axes>"
      ]
     },
     "metadata": {
      "image/png": {
       "height": 591,
       "width": 1025
      },
      "needs_background": "light"
     },
     "output_type": "display_data"
    }
   ],
   "source": [
    "from sklearn.feature_selection import chi2\n",
    "from sklearn.feature_extraction.text import TfidfVectorizer\n",
    "pp =[]\n",
    "qq =[]\n",
    "tvec = TfidfVectorizer(stop_words = 'english',max_features=40000,ngram_range=(1, 2))\n",
    "x_train_tfidf = tvec.fit_transform(x_train)\n",
    "x_validation_tfidf = tvec.transform(x_validation)\n",
    "chi2score = chi2(x_train_tfidf, y_train)[0]\n",
    "\n",
    "plt.figure(figsize=(15,10))\n",
    "wscores = zip(tvec.get_feature_names(), chi2score)\n",
    "wchi2 = sorted(wscores, key=lambda x:x[1])\n",
    "#print(wchi2[-20:])\n",
    "topchi2 = zip(*wchi2[-20:])\n",
    "#print(list(*topchi2))\n",
    "for (p,q) in wchi2[-20:]:\n",
    "    pp.append(p)\n",
    "    qq.append(q)\n",
    "x = range(len(qq))\n",
    "labels = pp\n",
    "plt.barh(x,qq, align='center', alpha=0.2)\n",
    "plt.plot(qq, x, '-o', markersize=5, alpha=0.8)\n",
    "plt.yticks(x, labels)\n",
    "plt.xlabel('$\\chi^2$')"
   ]
  },
  {
   "cell_type": "code",
   "execution_count": 383,
   "metadata": {},
   "outputs": [
    {
     "data": {
      "text/plain": [
       "Text(0.5, 0, '$\\\\chi^2$')"
      ]
     },
     "execution_count": 383,
     "metadata": {},
     "output_type": "execute_result"
    },
    {
     "data": {
      "image/png": "[encoded data removed]",
      "text/plain": [
       "<Figure size 1080x720 with 1 Axes>"
      ]
     },
     "metadata": {
      "image/png": {
       "height": 591,
       "width": 1025
      },
      "needs_background": "light"
     },
     "output_type": "display_data"
    }
   ],
   "source": [
    "from sklearn.feature_selection import chi2\n",
    "\n",
    "pp =[]\n",
    "qq =[]\n",
    "tvec = CountVectorizer(stop_words = my_stop_words,max_features=48000,ngram_range=(1, 2))\n",
    "x_train_tfidf = tvec.fit_transform(x_train)\n",
    "x_validation_tfidf = tvec.transform(x_validation)\n",
    "chi2score = chi2(x_train_tfidf, y_train)[0]\n",
    "\n",
    "plt.figure(figsize=(15,10))\n",
    "wscores = zip(tvec.get_feature_names(), chi2score)\n",
    "wchi2 = sorted(wscores, key=lambda x:x[1])\n",
    "#print(wchi2[-20:])\n",
    "topchi2 = zip(*wchi2[-20:])\n",
    "#print(list(*topchi2))\n",
    "for (p,q) in wchi2[-20:]:\n",
    "    pp.append(p)\n",
    "    qq.append(q)\n",
    "x = range(len(qq))\n",
    "labels = pp\n",
    "plt.barh(x,qq, align='center', alpha=0.2)\n",
    "plt.plot(qq, x, '-o', markersize=5, alpha=0.8)\n",
    "plt.yticks(x, labels)\n",
    "plt.xlabel('$\\chi^2$')"
   ]
  },
  {
   "cell_type": "code",
   "execution_count": 398,
   "metadata": {},
   "outputs": [
    {
     "name": "stdout",
     "output_type": "stream",
     "text": [
      "chi2 feature selection evaluation calculated for 10000 features\n",
      "chi2 feature selection evaluation calculated for 20000 features\n",
      "chi2 feature selection evaluation calculated for 30000 features\n",
      "chi2 feature selection evaluation calculated for 40000 features\n"
     ]
    }
   ],
   "source": [
    "from sklearn.feature_selection import SelectKBest, chi2\n",
    "ch2_result = []\n",
    "for n in np.arange(10000,48000,10000):\n",
    "    ch2 = SelectKBest(chi2, k=n)\n",
    "    x_train_chi2_selected = ch2.fit_transform(x_train_tfidf, y_train)\n",
    "    x_validation_chi2_selected = ch2.transform(x_validation_tfidf)\n",
    "    #clf = LogisticRegression(max_iter = 200)\n",
    "    clf = MultinomialNB()\n",
    "    clf.fit(x_train_chi2_selected, y_train)\n",
    "    score = clf.score(x_validation_chi2_selected, y_validation)\n",
    "    ch2_result.append(score)\n",
    "    print (\"chi2 feature selection evaluation calculated for {} features\".format(n))"
   ]
  },
  {
   "cell_type": "code",
   "execution_count": 399,
   "metadata": {},
   "outputs": [],
   "source": [
    "from sklearn.linear_model import LogisticRegression\n",
    "from sklearn.pipeline import Pipeline\n",
    "#cvec = CountVectorizer()\n",
    "cvec = TfidfVectorizer()\n",
    "#lr = LogisticRegression(max_iter=200)\n",
    "lr = MultinomialNB()\n",
    "n_features = np.arange(10000,48001,10000)\n",
    "\n",
    "def nfeature_accuracy_checker(vectorizer=cvec, n_features=n_features, stop_words=None, ngram_range=(1, 1), classifier=lr):\n",
    "    result = []\n",
    "    print (classifier)\n",
    "    print (\"\\n\")\n",
    "    for n in n_features:\n",
    "        vectorizer.set_params(stop_words=stop_words, max_features=n, ngram_range=ngram_range)\n",
    "        checker_pipeline = Pipeline([\n",
    "            ('vectorizer', vectorizer),\n",
    "            ('classifier', classifier)\n",
    "        ])\n",
    "        print(\"Validation result for {} features\".format(n))\n",
    "        nfeature_accuracy = accuracy_summary(checker_pipeline, x_train, y_train, x_validation, y_validation)\n",
    "        result.append((n,nfeature_accuracy))\n",
    "    return result"
   ]
  },
  {
   "cell_type": "code",
   "execution_count": 400,
   "metadata": {},
   "outputs": [
    {
     "name": "stdout",
     "output_type": "stream",
     "text": [
      "MultinomialNB()\n",
      "\n",
      "\n",
      "Validation result for 10000 features\n",
      "null accuracy: 50.00%\n",
      "accuracy score: 88.83%\n",
      "model is 38.83% more accurate than null accuracy\n",
      "--------------------------------------------------------------------------------\n",
      "Validation result for 20000 features\n",
      "null accuracy: 50.00%\n",
      "accuracy score: 89.35%\n",
      "model is 39.35% more accurate than null accuracy\n",
      "--------------------------------------------------------------------------------\n",
      "Validation result for 30000 features\n",
      "null accuracy: 50.00%\n",
      "accuracy score: 89.59%\n",
      "model is 39.59% more accurate than null accuracy\n",
      "--------------------------------------------------------------------------------\n",
      "Validation result for 40000 features\n",
      "null accuracy: 50.00%\n",
      "accuracy score: 89.72%\n",
      "model is 39.72% more accurate than null accuracy\n",
      "--------------------------------------------------------------------------------\n"
     ]
    }
   ],
   "source": [
    "feature_result_bgtmn = nfeature_accuracy_checker(stop_words = 'english',ngram_range=(1, 2))\n",
    "nfeatures_plot_bgtmn = pd.DataFrame(feature_result_bgtmn,columns=['nfeatures','validation_accuracy'])"
   ]
  },
  {
   "cell_type": "code",
   "execution_count": 401,
   "metadata": {},
   "outputs": [
    {
     "name": "stderr",
     "output_type": "stream",
     "text": [
      "/opt/anaconda3/lib/python3.7/site-packages/matplotlib/cbook/__init__.py:1402: FutureWarning: Support for multi-dimensional indexing (e.g. `obj[:, None]`) is deprecated and will be removed in a future version.  Convert to a numpy array before indexing instead.\n",
      "  x[:, None]\n",
      "/opt/anaconda3/lib/python3.7/site-packages/matplotlib/axes/_base.py:276: FutureWarning: Support for multi-dimensional indexing (e.g. `obj[:, None]`) is deprecated and will be removed in a future version.  Convert to a numpy array before indexing instead.\n",
      "  x = x[:, np.newaxis]\n",
      "/opt/anaconda3/lib/python3.7/site-packages/matplotlib/axes/_base.py:278: FutureWarning: Support for multi-dimensional indexing (e.g. `obj[:, None]`) is deprecated and will be removed in a future version.  Convert to a numpy array before indexing instead.\n",
      "  y = y[:, np.newaxis]\n"
     ]
    },
    {
     "data": {
      "text/plain": [
       "<matplotlib.legend.Legend at 0x7faad3aa3290>"
      ]
     },
     "execution_count": 401,
     "metadata": {},
     "output_type": "execute_result"
    },
    {
     "data": {
      "image/png": "[encoded data removed]",
      "text/plain": [
       "<Figure size 576x432 with 1 Axes>"
      ]
     },
     "metadata": {
      "image/png": {
       "height": 386,
       "width": 658
      },
      "needs_background": "light"
     },
     "output_type": "display_data"
    }
   ],
   "source": [
    "plt.figure(figsize=(8,6))\n",
    "plt.plot(nfeatures_plot_bgtmn.nfeatures, nfeatures_plot_bgtmn.validation_accuracy,label='bigram tfidf vectorizer',color='royalblue')\n",
    "plt.plot(np.arange(10000,48000,10000), ch2_result,label='tfidf dimesions reduced from 40,000 features',linestyle=':', color='orangered')\n",
    "\n",
    "plt.title(\"tfidft vectorizer: features limited within tfidft vectorizer VS reduced dimensions with chi2\")\n",
    "plt.xlabel(\"Number of features\")\n",
    "plt.ylabel(\"Validation set accuracy\")\n",
    "plt.legend()"
   ]
  },
  {
   "cell_type": "code",
   "execution_count": 390,
   "metadata": {},
   "outputs": [],
   "source": [
    "from sklearn.preprocessing import StandardScaler\n",
    "\n",
    "scaler = StandardScaler()\n",
    "d2v_ugdbow_tgdmm_std = scaler.fit_transform(x_train)\n",
    "d2v_ugdbow_tgdmm_std_val = scaler.fit_transform(x_validation)\n",
    "\n",
    "# d2v_ugdbow_tgdmm_std = scaler.fit_transform(train_vecs_ugdbow_tgdmm)\n",
    "# d2v_ugdbow_tgdmm_std_val = scaler.fit_transform(validation_vecs_ugdbow_tgdmm)\n"
   ]
  },
  {
   "cell_type": "code",
   "execution_count": 391,
   "metadata": {},
   "outputs": [],
   "source": [
    "from sklearn.decomposition import PCA\n",
    "\n",
    "d2v_pca = PCA().fit()"
   ]
  },
  {
   "cell_type": "code",
   "execution_count": 392,
   "metadata": {},
   "outputs": [
    {
     "data": {
      "image/png": "[encoded data removed]",
      "text/plain": [
       "<Figure size 576x432 with 1 Axes>"
      ]
     },
     "metadata": {
      "image/png": {
       "height": 386,
       "width": 584
      },
      "needs_background": "light"
     },
     "output_type": "display_data"
    }
   ],
   "source": [
    "fig, ax = plt.subplots(figsize=(8,6))\n",
    "\n",
    "x_values = range(1, d2v_pca.n_components_+1)\n",
    "\n",
    "ax.plot(x_values, d2v_pca.explained_variance_ratio_, lw=2, label='explained variance')\n",
    "ax.plot(x_values, np.cumsum(d2v_pca.explained_variance_ratio_), lw=2, label='cumulative explained variance')\n",
    "ax.set_title('Doc2vec (unigram DBOW + trigram DMM) : explained variance of components')\n",
    "ax.set_xlabel('principal component')\n",
    "ax.set_ylabel('explained variance')\n",
    "plt.show()"
   ]
  },
  {
   "cell_type": "code",
   "execution_count": null,
   "metadata": {},
   "outputs": [],
   "source": []
  }
 ],
 "metadata": {
  "kernelspec": {
   "display_name": "Python 3",
   "language": "python",
   "name": "python3"
  },
  "language_info": {
   "codemirror_mode": {
    "name": "ipython",
    "version": 3
   },
   "file_extension": ".py",
   "mimetype": "text/x-python",
   "name": "python",
   "nbconvert_exporter": "python",
   "pygments_lexer": "ipython3",
   "version": "3.7.4"
  }
 },
 "nbformat": 4,
 "nbformat_minor": 2
}
