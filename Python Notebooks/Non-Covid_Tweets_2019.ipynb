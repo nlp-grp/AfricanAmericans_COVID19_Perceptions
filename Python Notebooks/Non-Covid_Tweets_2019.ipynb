{
 "cells": [
  {
   "cell_type": "code",
   "execution_count": 7,
   "metadata": {},
   "outputs": [
    {
     "name": "stdout",
     "output_type": "stream",
     "text": [
      "Requirement already satisfied: requests-oauthlib==1.3.0 in ./lib/python3.7/site-packages (1.3.0)\n",
      "Requirement already satisfied: requests>=2.0.0 in ./lib/python3.7/site-packages (from requests-oauthlib==1.3.0) (2.24.0)\n",
      "Requirement already satisfied: oauthlib>=3.0.0 in ./lib/python3.7/site-packages (from requests-oauthlib==1.3.0) (3.1.0)\n",
      "Requirement already satisfied: certifi>=2017.4.17 in ./lib/python3.7/site-packages (from requests>=2.0.0->requests-oauthlib==1.3.0) (2019.9.11)\n",
      "Requirement already satisfied: chardet<4,>=3.0.2 in ./lib/python3.7/site-packages (from requests>=2.0.0->requests-oauthlib==1.3.0) (3.0.4)\n",
      "Requirement already satisfied: urllib3!=1.25.0,!=1.25.1,<1.26,>=1.21.1 in ./lib/python3.7/site-packages (from requests>=2.0.0->requests-oauthlib==1.3.0) (1.24.2)\n",
      "Requirement already satisfied: idna<3,>=2.5 in ./lib/python3.7/site-packages (from requests>=2.0.0->requests-oauthlib==1.3.0) (2.8)\n",
      "\u001b[33mWARNING: You are using pip version 21.1.1; however, version 21.1.2 is available.\n",
      "You should consider upgrading via the '/opt/anaconda3/bin/python -m pip install --upgrade pip' command.\u001b[0m\n"
     ]
    }
   ],
   "source": [
    "!pip install requests-oauthlib==1.3.0"
   ]
  },
  {
   "cell_type": "code",
   "execution_count": 8,
   "metadata": {},
   "outputs": [
    {
     "name": "stdout",
     "output_type": "stream",
     "text": [
      "Requirement already satisfied: requests in ./lib/python3.7/site-packages (2.24.0)\n",
      "Requirement already satisfied: urllib3!=1.25.0,!=1.25.1,<1.26,>=1.21.1 in ./lib/python3.7/site-packages (from requests) (1.24.2)\n",
      "Requirement already satisfied: idna<3,>=2.5 in ./lib/python3.7/site-packages (from requests) (2.8)\n",
      "Requirement already satisfied: certifi>=2017.4.17 in ./lib/python3.7/site-packages (from requests) (2019.9.11)\n",
      "Requirement already satisfied: chardet<4,>=3.0.2 in ./lib/python3.7/site-packages (from requests) (3.0.4)\n",
      "\u001b[33mWARNING: You are using pip version 21.1.1; however, version 21.1.2 is available.\n",
      "You should consider upgrading via the '/opt/anaconda3/bin/python -m pip install --upgrade pip' command.\u001b[0m\n",
      "Requirement already satisfied: requests-oauthlib in ./lib/python3.7/site-packages (1.3.0)\n",
      "Requirement already satisfied: requests>=2.0.0 in ./lib/python3.7/site-packages (from requests-oauthlib) (2.24.0)\n",
      "Requirement already satisfied: oauthlib>=3.0.0 in ./lib/python3.7/site-packages (from requests-oauthlib) (3.1.0)\n",
      "Requirement already satisfied: chardet<4,>=3.0.2 in ./lib/python3.7/site-packages (from requests>=2.0.0->requests-oauthlib) (3.0.4)\n",
      "Requirement already satisfied: idna<3,>=2.5 in ./lib/python3.7/site-packages (from requests>=2.0.0->requests-oauthlib) (2.8)\n",
      "Requirement already satisfied: certifi>=2017.4.17 in ./lib/python3.7/site-packages (from requests>=2.0.0->requests-oauthlib) (2019.9.11)\n",
      "Requirement already satisfied: urllib3!=1.25.0,!=1.25.1,<1.26,>=1.21.1 in ./lib/python3.7/site-packages (from requests>=2.0.0->requests-oauthlib) (1.24.2)\n",
      "\u001b[33mWARNING: You are using pip version 21.1.1; however, version 21.1.2 is available.\n",
      "You should consider upgrading via the '/opt/anaconda3/bin/python -m pip install --upgrade pip' command.\u001b[0m\n"
     ]
    }
   ],
   "source": [
    "!pip install requests\n",
    "!pip install requests-oauthlib"
   ]
  },
  {
   "cell_type": "code",
   "execution_count": 346,
   "metadata": {},
   "outputs": [],
   "source": [
    "import requests\n",
    "import os\n",
    "import json\n",
    "import datetime\n",
    "import itertools\n",
    "import gzip\n",
    "os.environ['BEARER_TOKEN'] = 'ADD BEARER TOKEN HERE'"
   ]
  },
  {
   "cell_type": "code",
   "execution_count": 410,
   "metadata": {},
   "outputs": [],
   "source": [
    "# To set your environment variables in your terminal run the following line:\n",
    "# export 'BEARER_TOKEN'='<your_bearer_token>'\n",
    "\n",
    "bearer_token = os.environ.get(\"BEARER_TOKEN\")"
   ]
  },
  {
   "cell_type": "code",
   "execution_count": 411,
   "metadata": {},
   "outputs": [],
   "source": [
    "search_url = \"https://api.twitter.com/2/tweets/search/all\""
   ]
  },
  {
   "cell_type": "code",
   "execution_count": 412,
   "metadata": {},
   "outputs": [],
   "source": [
    "# Optional params: start_time,end_time,since_id,until_id,max_results,next_token,\n",
    "# expansions,tweet.fields,media.fields,poll.fields,place.fields,user.fields\n",
    "\n",
    "\n",
    "query_params = {'query': '(Coronavirus OR Corona OR CDC OR Ncov OR Wuhan OR outbreak OR China OR Koronavirus OR Wuhancoronavirus OR Wuhanlockdown OR N95 OR Kungflu OR Epidemic OR Sinophobia OR covid-19 OR covid OR covid19 OR sars-cov-2 OR COVID–19 OR corona virus OR COVD OR pandemic OR coronapocalypse OR canceleverything OR Coronials OR SocialDistancing OR SocialDistancingNow OR Social Distancing OR panicbuying OR panic buy OR panicbuy OR 14DayQuarantine OR DuringMy14DayQuarantine OR panic shopping OR panic shop OR panicshop OR InMyQuarantineSurvivalKit OR panic-buy OR panic-shop OR coronakindness OR quarantinelife OR chinese virus OR chinesevirus OR stayhomechallenge OR stay home challenge OR sflockdown OR DontBeASpreader OR lockdown OR shelteringinplace OR staysafestayhome OR trumppandemic OR flattenthecurve OR chinavirus OR flatten the curve OR quarantinelife OR PPEshortage OR saferathome OR stayathome OR stayhome OR GetMePPE OR covidiot OR epitwitter OR pandemie OR wear a mask) lang:en -is:retweet place_country:US', \n",
    "                'max_results':'500','start_time': '2019-10-01T00:00:01.000Z',\n",
    "                'end_time': '2019-10-31T23:59:00.000Z'}\n",
    "# query_params = {'query': '(Coronavirus OR Corona OR CDC OR Ncov OR Wuhan OR Outbreak OR China OR Koronavirus OR Wuhancoronavirus OR Wuhanlockdown OR N95 OR Kungflu OR Epidemic OR Sinophobia OR Covid-19 OR Covid OR Covid19 OR Sars-cov-2 OR COVID–19 OR COVD OR Pandemic OR Coronapocalypse OR CancelEverything OR Coronials OR SocialDistancing OR Panic buying OR DuringMy14DayQuarantine OR Panic shopping OR InMyQuarantineSurvivalKit OR chinese virus OR stayhomechallenge OR DontBeASpreader OR lockdown OR shelteringinplace OR staysafestayhome OR trumppandemic OR flatten the curve OR PPEshortage OR saferathome OR stayathome OR GetMePPE OR covidiot OR epitwitter OR Pandemie OR antivaccine OR  betweenmeandmydoctor OR vaccine OR cdcfraud OR cdctruth OR covidvaccineispoison OR forcedvaccines OR mybodymychoice OR noforcedflushots OR NoForcedVaccines OR notomandatoryvaccines OR NoVaccine OR saynotovaccines OR unvaccinated OR vaccinationchoice OR vaccineharm OR VaccinesAreNotTheAnswer OR vaxxed OR yeht) lang:en -is:retweet place_country:US', \n",
    "#                 'max_results':'500','start_time': '2019-11-01T00:00:01.000Z',\n",
    "#                 'end_time': '2019-11-30T23:59:00.000Z'}"
   ]
  },
  {
   "cell_type": "code",
   "execution_count": 413,
   "metadata": {},
   "outputs": [],
   "source": [
    "# AND (place_country: US) AND (start_time:2020-01-01 00:00), (end_time:2020-01-31 23:59)\n",
    "def create_headers(bearer_token):\n",
    "    headers = {\"Authorization\": \"Bearer {}\".format(bearer_token)}\n",
    "    return headers"
   ]
  },
  {
   "cell_type": "code",
   "execution_count": 414,
   "metadata": {},
   "outputs": [],
   "source": [
    "def connect_to_endpoint(url, headers, params):\n",
    "    response = requests.request(\"GET\", search_url, headers=headers, params=params)\n",
    "    #print(response.status_code)\n",
    "    if response.status_code != 200:\n",
    "        raise Exception(response.status_code, response.text)\n",
    "    return response.json()"
   ]
  },
  {
   "cell_type": "code",
   "execution_count": 415,
   "metadata": {},
   "outputs": [],
   "source": [
    "def main():\n",
    "    headers = create_headers(bearer_token)\n",
    "    count = 0\n",
    "    #with gzip.open('/Users/Meghna/Desktop/noncovid_tweets_nov.gz', 'wt', encoding='UTF-8') as zipfile:\n",
    "    with gzip.open('/Users/Meghna/Desktop/noncovid_tweets_oct.gz', 'w') as output:\n",
    "        while count <25000:\n",
    "            time.sleep(1)\n",
    "            json_response = connect_to_endpoint(search_url, headers, query_params)\n",
    "            #print(json.dumps(json_response, indent=4, sort_keys=True))\n",
    "            print()\n",
    "            for val in json_response['data']:\n",
    "                #json.dump(val, zipfile)\n",
    "                output.write(json.dumps(val).encode('utf8') + b\"\\n\")\n",
    "            count += json_response[\"meta\"][\"result_count\"]\n",
    "            print(count)\n",
    "            print(json_response['meta'])\n",
    "            query_params[\"next_token\"] = json_response[\"meta\"][\"next_token\"]"
   ]
  },
  {
   "cell_type": "code",
   "execution_count": 416,
   "metadata": {
    "scrolled": false
   },
   "outputs": [
    {
     "name": "stdout",
     "output_type": "stream",
     "text": [
      "\n",
      "465\n",
      "{'newest_id': '1190054661790797829', 'oldest_id': '1189751581044027394', 'result_count': 465, 'next_token': 'b26v89c19zqg8o3fnm91xdxcsbd3uliawfg99dtxkk9dp'}\n",
      "\n",
      "941\n",
      "{'newest_id': '1189751269390336000', 'oldest_id': '1189414697516310529', 'result_count': 476, 'next_token': 'b26v89c19zqg8o3fnm91x7hzb62anw2ebrvkvzw6tadtp'}\n",
      "\n",
      "1417\n",
      "{'newest_id': '1189413634331430912', 'oldest_id': '1189160463633977344', 'result_count': 476, 'next_token': 'b26v89c19zqg8o3fnm91x15an84vwp0goawb5tzdrbvr1'}\n",
      "\n",
      "1875\n",
      "{'newest_id': '1189159967233847296', 'oldest_id': '1188839091703635968', 'result_count': 458, 'next_token': 'b26v89c19zqg8o3fnm91iafjruhnl48rpetyxkkc201a5'}\n",
      "\n",
      "2349\n",
      "{'newest_id': '1188838765780852736', 'oldest_id': '1188467365475995654', 'result_count': 474, 'next_token': 'b26v89c19zqg8o3fnm91i1xjgs5w6xhh74nc9pzvmfjwd'}\n",
      "\n",
      "2814\n",
      "{'newest_id': '1188467215869206528', 'oldest_id': '1188115681457229825', 'result_count': 465, 'next_token': 'b26v89c19zqg8o3fnm91hvhuzmsx4at86jnaukwpqcf3x'}\n",
      "\n",
      "3278\n",
      "{'newest_id': '1188114639105642496', 'oldest_id': '1187791423912984577', 'result_count': 464, 'next_token': 'b26v89c19zqg8o3fnm9132qo3wn9qpzvzykamcv096hkt'}\n",
      "\n",
      "3737\n",
      "{'newest_id': '1187791138285113349', 'oldest_id': '1187511507753426944', 'result_count': 459, 'next_token': 'b26v89c19zqg8o3fnm912yethtxqypk8qp0k24051ekjh'}\n",
      "\n",
      "4206\n",
      "{'newest_id': '1187511434730541056', 'oldest_id': '1187332372322144256', 'result_count': 469, 'next_token': 'b26v89c19zqg8o3fnm912u5ytiyt5amgspy3p0qirtlrx'}\n",
      "\n",
      "4660\n",
      "{'newest_id': '1187332106562818048', 'oldest_id': '1187069391176978434', 'result_count': 454, 'next_token': 'b26v89c19zqg8o3fnm912nsp1fkgfvf8fc9622mx1yhz1'}\n",
      "\n",
      "5124\n",
      "{'newest_id': '1187069296171724800', 'oldest_id': '1186799975470157824', 'result_count': 464, 'next_token': 'b26v89c19zqg8o3fnm90nx4qj0p5b2r976l1g1ffajtz1'}\n",
      "\n",
      "5595\n",
      "{'newest_id': '1186799774529413120', 'oldest_id': '1186481516471377920', 'result_count': 471, 'next_token': 'b26v89c19zqg8o3fnm90nqq8yflo4ieo9zat4oqf491ml'}\n",
      "\n",
      "6057\n",
      "{'newest_id': '1186481197175713795', 'oldest_id': '1186181425818673155', 'result_count': 462, 'next_token': 'b26v89c19zqg8o3fnm90nkc2ifi8k5450p9tuxs1fh1ml'}\n",
      "\n",
      "6520\n",
      "{'newest_id': '1186180074640269312', 'oldest_id': '1185893376568315907', 'result_count': 463, 'next_token': 'b26v89c19zqg8o3fnm908tnii5n7cqgvej826agbimyrh'}\n",
      "\n",
      "6971\n",
      "{'newest_id': '1185892634310696960', 'oldest_id': '1185580319828783104', 'result_count': 451, 'next_token': 'b26v89c19zqg8o3fnm908n9156iignefl2p01cwqimsn1'}\n",
      "\n",
      "7412\n",
      "{'newest_id': '1185579854206394368', 'oldest_id': '1185293184622051330', 'result_count': 441, 'next_token': 'b26v89c19zqg8o3fnm908gv5m5gb53tga2ohy6ew1vv5p'}\n",
      "\n",
      "7886\n",
      "{'newest_id': '1185292548610412544', 'oldest_id': '1185025383231578112', 'result_count': 474, 'next_token': 'b26v89c19zqg8o3fnm908cjlvjkui2vjjalm25iyemt19'}\n",
      "\n",
      "8345\n",
      "{'newest_id': '1185025331763142656', 'oldest_id': '1184842504895680515', 'result_count': 459, 'next_token': 'b26v89c19zqg8o3fnm8zto02lgkhtyvtmc8kbriqp1cal'}\n",
      "\n",
      "8806\n",
      "{'newest_id': '1184841857169182720', 'oldest_id': '1184601521788461057', 'result_count': 461, 'next_token': 'b26v89c19zqg8o3fnm8ztjpf3kiz6xnnyntuv2r10n0ql'}\n",
      "\n",
      "9254\n",
      "{'newest_id': '1184601512061702149', 'oldest_id': '1184481723503042561', 'result_count': 448, 'next_token': 'b26v89c19zqg8o3fnm8ztfid4c13xftv4t05qxw1z60zh'}\n",
      "\n",
      "9724\n",
      "{'newest_id': '1184481667441926144', 'oldest_id': '1184295085187489794', 'result_count': 470, 'next_token': 'b26v89c19zqg8o3fnm8ztb97s4hh4po075pulps20i5j1'}\n",
      "\n",
      "10196\n",
      "{'newest_id': '1184294765430366208', 'oldest_id': '1184223103573999617', 'result_count': 472, 'next_token': 'b26v89c19zqg8o3fnm8ztb7463tmpzh963ug146tfxh19'}\n",
      "\n",
      "10659\n",
      "{'newest_id': '1184222967477071872', 'oldest_id': '1184153509467439104', 'result_count': 463, 'next_token': 'b26v89c19zqg8o3fnm8zt93ae2u8w00t7ef78hcsl1hml'}\n",
      "\n",
      "11120\n",
      "{'newest_id': '1184153465561501696', 'oldest_id': '1184098834076590085', 'result_count': 461, 'next_token': 'b26v89c19zqg8o3fnm8zt6zrm24tp9245dsbrrlow0wot'}\n",
      "\n",
      "11582\n",
      "{'newest_id': '1184098491276169217', 'oldest_id': '1183964903763148800', 'result_count': 462, 'next_token': 'b26v89c19zqg8o3fnm8zekjghndnf80wi2hefdnml1oql'}\n",
      "\n",
      "12049\n",
      "{'newest_id': '1183964891859709952', 'oldest_id': '1183932790552825858', 'result_count': 467, 'next_token': 'b26v89c19zqg8o3fnm8zekik1bl901sdilb2z9kkms70d'}\n",
      "\n",
      "12519\n",
      "{'newest_id': '1183932658356838401', 'oldest_id': '1183804093396963329', 'result_count': 470, 'next_token': 'b26v89c19zqg8o3fnm8zeicxlp987vuqihrhhanbuk6t9'}\n",
      "\n",
      "12986\n",
      "{'newest_id': '1183804080373862403', 'oldest_id': '1183558040437563392', 'result_count': 467, 'next_token': 'b26v89c19zqg8o3fnm8zec099wqf1imqdg0ow94g2lc3h'}\n",
      "\n",
      "13436\n",
      "{'newest_id': '1183557207625011200', 'oldest_id': '1183391870480764929', 'result_count': 450, 'next_token': 'b26v89c19zqg8o3fnm8ze7rzudnv45vtvqz5ghy4lwf3x'}\n",
      "\n",
      "13893\n",
      "{'newest_id': '1183391782538764293', 'oldest_id': '1183124837017030656', 'result_count': 457, 'next_token': 'b26v89c19zqg8o3fnm8ze3gg59zbyy6vlihzb3tb0dhml'}\n",
      "\n",
      "14351\n",
      "{'newest_id': '1183124703269085184', 'oldest_id': '1182957077859373056', 'result_count': 458, 'next_token': 'b26v89c19zqg8o3fnm8yzex7wnyhszod8r3xvdczdq5bx'}\n",
      "\n",
      "14811\n",
      "{'newest_id': '1182955690182221824', 'oldest_id': '1182776786310062082', 'result_count': 460, 'next_token': 'b26v89c19zqg8o3fnm8yzaod5dnoldrshvbp47dh20ol9'}\n",
      "\n",
      "15274\n",
      "{'newest_id': '1182776667330273280', 'oldest_id': '1182681722921607168', 'result_count': 463, 'next_token': 'b26v89c19zqg8o3fnm8yz8jxkvyccmm1qoye3m1vrt8ql'}\n",
      "\n",
      "15735\n",
      "{'newest_id': '1182681558483898373', 'oldest_id': '1182512421816147968', 'result_count': 461, 'next_token': 'b26v89c19zqg8o3fnm8yz6d3y2cnm433xtzvdkji6yqgt'}\n",
      "\n",
      "16196\n",
      "{'newest_id': '1182512342585823232', 'oldest_id': '1182405377939378178', 'result_count': 461, 'next_token': 'b26v89c19zqg8o3fnm8yz4834uo9ufl0kolotw61d01h9'}\n",
      "\n",
      "16660\n",
      "{'newest_id': '1182405372436516880', 'oldest_id': '1182331639998898176', 'result_count': 464, 'next_token': 'b26v89c19zqg8o3fnm8yz2496qzft2iepbvozsvvux2t9'}\n",
      "\n",
      "17119\n",
      "{'newest_id': '1182331577721917440', 'oldest_id': '1182273465233092610', 'result_count': 459, 'next_token': 'b26v89c19zqg8o3fnm8yz00qa5cdhgtbyx0j3g43s66wt'}\n",
      "\n",
      "17584\n",
      "{'newest_id': '1182273370576052225', 'oldest_id': '1182116743914893313', 'result_count': 465, 'next_token': 'b26v89c19zqg8o3fnm8yyxu7itn17t7ux3g839p64l3zx'}\n",
      "\n",
      "18044\n",
      "{'newest_id': '1182116680761143296', 'oldest_id': '1182047037484863490', 'result_count': 460, 'next_token': 'b26v89c19zqg8o3fnm8yyvqds8xjc4kb0gfi2vcuwiqv1'}\n",
      "\n",
      "18503\n",
      "{'newest_id': '1182046842584010754', 'oldest_id': '1181950486750072840', 'result_count': 459, 'next_token': 'b26v89c19zqg8o3fnm8yk9b9p0gdze8oa61dxvkcnfi4d'}\n",
      "\n",
      "18967\n",
      "{'newest_id': '1181950305912492032', 'oldest_id': '1181779484019773440', 'result_count': 464, 'next_token': 'b26v89c19zqg8o3fnm8yk52fcuvwcofbbmohjuyze8whp'}\n",
      "\n",
      "19424\n",
      "{'newest_id': '1181779365983600640', 'oldest_id': '1181683251351416833', 'result_count': 457, 'next_token': 'b26v89c19zqg8o3fnm8yk2xzqu4vgqu8gkd37szwo90n1'}\n",
      "\n",
      "19885\n",
      "{'newest_id': '1181682996266622977', 'oldest_id': '1181604899768979462', 'result_count': 461, 'next_token': 'b26v89c19zqg8o3fnm8yk2vlgz1jearxoo2g0ocw74z99'}\n",
      "\n",
      "20341\n",
      "{'newest_id': '1181604713868824577', 'oldest_id': '1181530456476573696', 'result_count': 456, 'next_token': 'b26v89c19zqg8o3fnm8yk0rrituxng2q7r6a5y9x2jbel'}\n",
      "\n",
      "20796\n",
      "{'newest_id': '1181529915642073088', 'oldest_id': '1181344767482814465', 'result_count': 455, 'next_token': 'b26v89c19zqg8o3fnm8yjwim6ofypqz6ype0o2khuknel'}\n",
      "\n",
      "21265\n",
      "{'newest_id': '1181344747144638464', 'oldest_id': '1181241312890232832', 'result_count': 469, 'next_token': 'b26v89c19zqg8o3fnm8yjudvwrr9b4v4go8annkww98cd'}\n",
      "\n",
      "21720\n",
      "{'newest_id': '1181241072023818240', 'oldest_id': '1181111058536099846', 'result_count': 455, 'next_token': 'b26v89c19zqg8o3fnm8yjs89e519aon5sw36k2dzp3vct'}\n",
      "\n",
      "22195\n",
      "{'newest_id': '1181110956690042880', 'oldest_id': '1181015205507153920', 'result_count': 475, 'next_token': 'b26v89c19zqg8o3fnm8yjq3jevziwlm6k5aak9zphz6gt'}\n",
      "\n",
      "22676\n",
      "{'newest_id': '1181015068009467905', 'oldest_id': '1180939954425339905', 'result_count': 481, 'next_token': 'b26v89c19zqg8o3fnm8y53oqksdg4ctmz651gekz9hdvh'}\n",
      "\n",
      "23142\n",
      "{'newest_id': '1180939614305030146', 'oldest_id': '1180826855546355712', 'result_count': 466, 'next_token': 'b26v89c19zqg8o3fnm8y51jpigyfx35j4fkl0nqa88yv1'}\n",
      "\n",
      "23607\n",
      "{'newest_id': '1180825992228675585', 'oldest_id': '1180559904018518016', 'result_count': 465, 'next_token': 'b26v89c19zqg8o3fnm8y4v6fkb9wu5kwsowadu7m995rx'}\n",
      "\n",
      "24059\n",
      "{'newest_id': '1180559821055184899', 'oldest_id': '1180372368973164544', 'result_count': 452, 'next_token': 'b26v89c19zqg8o3fnm8y4qxkjugx6utg1gs10dd5x09dp'}\n",
      "\n",
      "24527\n",
      "{'newest_id': '1180372226803154949', 'oldest_id': '1180233896471826432', 'result_count': 468, 'next_token': 'b26v89c19zqg8o3fnm8y4ornacp9b6e7561bcwg3p26il'}\n",
      "\n",
      "24998\n",
      "{'newest_id': '1180233242118516736', 'oldest_id': '1180139293873975297', 'result_count': 471, 'next_token': 'b26v89c19zqg8o3fnm8y4mmxe371ryyi45zc2vexcxksd'}\n",
      "\n",
      "25458\n",
      "{'newest_id': '1180139217487355904', 'oldest_id': '1179989528146259971', 'result_count': 460, 'next_token': 'b26v89c19zqg8o3fnm625m6iq6jvlteyk0t7xroobvtdp'}\n"
     ]
    }
   ],
   "source": [
    "if __name__ == \"__main__\":\n",
    "    main()"
   ]
  },
  {
   "cell_type": "code",
   "execution_count": 382,
   "metadata": {},
   "outputs": [
    {
     "name": "stdout",
     "output_type": "stream",
     "text": [
      "1192441263066374145\n"
     ]
    }
   ],
   "source": [
    "# with gzip.open('/Users/Meghna/Desktop/noncovid_tweets.gz', 'rb') as zipfile:\n",
    "#     for line in zipfile:\n",
    "#         tweet = json.loads(line)\n",
    "#         print(tweet['id'])\n",
    "#         break\n",
    "               "
   ]
  },
  {
   "cell_type": "code",
   "execution_count": 22,
   "metadata": {},
   "outputs": [],
   "source": [
    "# from searchtweets import ResultStream, gen_request_parameters, load_credentials"
   ]
  },
  {
   "cell_type": "code",
   "execution_count": null,
   "metadata": {},
   "outputs": [],
   "source": [
    "# search_args = load_credentials(filename=\"~/.twitter_keys.yaml\",\n",
    "#                  yaml_key=\"search_tweets_v2\",\n",
    "#                  env_overwrite=False)\n",
    "\n",
    "# query = gen_request_parameters(query, start_time=start_time, results_per_call=100, expansions='author_id,geo.place_id', tweet_fields='created_at,geo',user_fields='description,location')\n",
    "\n",
    "# rs = ResultStream(request_parameters=query,\n",
    "#                     max_results=10000,\n",
    "#                     max_pages=10000,\n",
    "#                     max_tweets=10000,\n",
    "#                     **search_args)"
   ]
  },
  {
   "cell_type": "code",
   "execution_count": 167,
   "metadata": {
    "scrolled": false
   },
   "outputs": [
    {
     "name": "stdout",
     "output_type": "stream",
     "text": [
      "{'conversation_id': '1222360090197364737', 'source': 'Twitter for Android', 'created_at': '2020-01-29T03:25:30.000Z', 'text': 'Action supreme Court &amp; Ramnath covid president of India https://t.co/fKyTZOAKwE', 'possibly_sensitive': False, 'context_annotations': [{'domain': {'id': '10', 'name': 'Person', 'description': 'Named people in the world like Nelson Mandela'}, 'entity': {'id': '1160900889739087873', 'name': 'Ram Nath Kovind', 'description': 'President of India since 2017'}}, {'domain': {'id': '35', 'name': 'Politician', 'description': 'Politicians in the world, like Joe Biden'}, 'entity': {'id': '1160900889739087873', 'name': 'Ram Nath Kovind', 'description': 'President of India since 2017'}}], 'entities': {'annotations': [{'start': 50, 'end': 54, 'probability': 0.9766, 'type': 'Place', 'normalized_text': 'India'}], 'urls': [{'start': 60, 'end': 83, 'url': 'https://t.co/fKyTZOAKwE', 'expanded_url': 'https://twitter.com/dabaniwal1973/status/1222360090197364737/photo/1', 'display_url': 'pic.twitter.com/fKyTZOAKwE'}]}, 'public_metrics': {'retweet_count': 0, 'reply_count': 0, 'like_count': 0, 'quote_count': 0}, 'id': '1222360090197364737', 'author_id': '1108008868997550080', 'lang': 'en', 'reply_settings': 'everyone', 'attachments': {'media_keys': ['3_1222360076733730816'], 'media': [{'url': 'https://pbs.twimg.com/media/EPayA3FVUAABO7J.jpg', 'media_key': '3_1222360076733730816', 'type': 'photo', 'height': 720, 'width': 1280}]}, 'author': {'name': 'Dara Singh', 'description': '', 'verified': False, 'username': 'dabaniwal1973', 'url': '', 'protected': False, 'created_at': '2019-03-19T14:14:34.000Z', 'profile_image_url': 'https://pbs.twimg.com/profile_images/1113086001725898753/wob2VBj9_normal.jpg', 'id': '1108008868997550080', 'public_metrics': {'followers_count': 7, 'following_count': 227, 'tweet_count': 106, 'listed_count': 0}}, '__twarc': {'url': 'https://api.twitter.com/2/tweets/search/all?expansions=author_id%2Cin_reply_to_user_id%2Creferenced_tweets.id%2Creferenced_tweets.id.author_id%2Centities.mentions.username%2Cattachments.poll_ids%2Cattachments.media_keys%2Cgeo.place_id&user.fields=created_at%2Cdescription%2Centities%2Cid%2Clocation%2Cname%2Cpinned_tweet_id%2Cprofile_image_url%2Cprotected%2Cpublic_metrics%2Curl%2Cusername%2Cverified%2Cwithheld&tweet.fields=attachments%2Cauthor_id%2Ccontext_annotations%2Cconversation_id%2Ccreated_at%2Centities%2Cgeo%2Cid%2Cin_reply_to_user_id%2Clang%2Cpublic_metrics%2Ctext%2Cpossibly_sensitive%2Creferenced_tweets%2Creply_settings%2Csource%2Cwithheld&media.fields=duration_ms%2Cheight%2Cmedia_key%2Cpreview_image_url%2Ctype%2Curl%2Cwidth%2Cpublic_metrics&poll.fields=duration_minutes%2Cend_datetime%2Cid%2Coptions%2Cvoting_status&place.fields=contained_within%2Ccountry%2Ccountry_code%2Cfull_name%2Cgeo%2Cid%2Cname%2Cplace_type&max_results=500&query=covid+lang%3Aen+-is%3Aretweet&start_time=2020-01-01T00%3A00%3A00%2B00%3A00&end_time=2020-01-31T00%3A00%3A00%2B00%3A00', 'version': '2.0.13', 'retrieved_at': '2021-05-24T22:54:03+00:00'}}\n",
      "{'conversation_id': '1220182865650094081', 'source': 'Facebook', 'created_at': '2020-01-23T03:13:59.000Z', 'text': 'Free Event 2/17-2/22 https://t.co/SEX7utWwcs{{site_source_name}}&amp;s={{placement}}', 'possibly_sensitive': False, 'public_metrics': {'retweet_count': 0, 'reply_count': 0, 'like_count': 0, 'quote_count': 0}, 'id': '1220182865650094081', 'author_id': '22039842', 'lang': 'en', 'entities': {'urls': [{'start': 21, 'end': 44, 'url': 'https://t.co/SEX7utWwcs', 'expanded_url': 'https://www.fortunebuilderspaul.com/Direct/?did=6eee0af6-6c05-e911-93fe-a0369f1303c6&contact0state=NJ&Covid=5cea8618-0e19-e911-93fe-a0369f1303c6&MID=11291754&a=', 'display_url': 'fortunebuilderspaul.com/Direct/?did=6e…'}]}, 'reply_settings': 'everyone', 'author': {'name': 'Sherette Hayes', 'description': 'Serving Northern New Jersey for over 15 Years.Member of the National Association of Realtors. The knowledge of a local expert. The power of a leader.', 'verified': False, 'username': 'Sherette', 'url': 'https://t.co/dBxmIjQiaM', 'protected': False, 'created_at': '2009-02-26T18:08:48.000Z', 'entities': {'url': {'urls': [{'start': 0, 'end': 23, 'url': 'https://t.co/dBxmIjQiaM', 'expanded_url': 'http://www.RealLiving.com/Sherette.Hayes', 'display_url': 'RealLiving.com/Sherette.Hayes'}]}}, 'profile_image_url': 'https://pbs.twimg.com/profile_images/1297213504/Professional_head_shot_normal.jpg', 'id': '22039842', 'public_metrics': {'followers_count': 46, 'following_count': 39, 'tweet_count': 2176, 'listed_count': 0}, 'location': 'Newark, New Jersey'}, '__twarc': {'url': 'https://api.twitter.com/2/tweets/search/all?expansions=author_id%2Cin_reply_to_user_id%2Creferenced_tweets.id%2Creferenced_tweets.id.author_id%2Centities.mentions.username%2Cattachments.poll_ids%2Cattachments.media_keys%2Cgeo.place_id&user.fields=created_at%2Cdescription%2Centities%2Cid%2Clocation%2Cname%2Cpinned_tweet_id%2Cprofile_image_url%2Cprotected%2Cpublic_metrics%2Curl%2Cusername%2Cverified%2Cwithheld&tweet.fields=attachments%2Cauthor_id%2Ccontext_annotations%2Cconversation_id%2Ccreated_at%2Centities%2Cgeo%2Cid%2Cin_reply_to_user_id%2Clang%2Cpublic_metrics%2Ctext%2Cpossibly_sensitive%2Creferenced_tweets%2Creply_settings%2Csource%2Cwithheld&media.fields=duration_ms%2Cheight%2Cmedia_key%2Cpreview_image_url%2Ctype%2Curl%2Cwidth%2Cpublic_metrics&poll.fields=duration_minutes%2Cend_datetime%2Cid%2Coptions%2Cvoting_status&place.fields=contained_within%2Ccountry%2Ccountry_code%2Cfull_name%2Cgeo%2Cid%2Cname%2Cplace_type&max_results=500&query=covid+lang%3Aen+-is%3Aretweet&start_time=2020-01-01T00%3A00%3A00%2B00%3A00&end_time=2020-01-31T00%3A00%3A00%2B00%3A00', 'version': '2.0.13', 'retrieved_at': '2021-05-24T22:54:03+00:00'}}\n",
      "{'conversation_id': '1220069729089609728', 'source': 'Facebook', 'created_at': '2020-01-22T19:44:25.000Z', 'text': 'Incorporate yourself with something https://t.co/aGufHD0Ne7{{site_source_name}}&amp;s={{placement}}', 'possibly_sensitive': False, 'public_metrics': {'retweet_count': 0, 'reply_count': 0, 'like_count': 0, 'quote_count': 0}, 'id': '1220069729089609728', 'author_id': '2476473877', 'lang': 'en', 'entities': {'urls': [{'start': 36, 'end': 59, 'url': 'https://t.co/aGufHD0Ne7', 'expanded_url': 'https://www.fortunebuildersinfo.com/Direct/?did=ee3603b5-8d5f-e411-93f1-a0369f1303c6&contact0state=ca&Covid=7b6f851e-b89d-e411-93f7-a0369f1303c6&MID=11224215&a=', 'display_url': 'fortunebuildersinfo.com/Direct/?did=ee…'}]}, 'reply_settings': 'everyone', 'author': {'name': 'Early Jackson', 'description': '', 'verified': False, 'username': 'daddydubsack', 'url': '', 'protected': False, 'created_at': '2014-05-04T06:14:05.000Z', 'profile_image_url': 'https://pbs.twimg.com/profile_images/704550017676095488/q6-MDjmi_normal.jpg', 'id': '2476473877', 'public_metrics': {'followers_count': 14, 'following_count': 83, 'tweet_count': 1631, 'listed_count': 0}}, '__twarc': {'url': 'https://api.twitter.com/2/tweets/search/all?expansions=author_id%2Cin_reply_to_user_id%2Creferenced_tweets.id%2Creferenced_tweets.id.author_id%2Centities.mentions.username%2Cattachments.poll_ids%2Cattachments.media_keys%2Cgeo.place_id&user.fields=created_at%2Cdescription%2Centities%2Cid%2Clocation%2Cname%2Cpinned_tweet_id%2Cprofile_image_url%2Cprotected%2Cpublic_metrics%2Curl%2Cusername%2Cverified%2Cwithheld&tweet.fields=attachments%2Cauthor_id%2Ccontext_annotations%2Cconversation_id%2Ccreated_at%2Centities%2Cgeo%2Cid%2Cin_reply_to_user_id%2Clang%2Cpublic_metrics%2Ctext%2Cpossibly_sensitive%2Creferenced_tweets%2Creply_settings%2Csource%2Cwithheld&media.fields=duration_ms%2Cheight%2Cmedia_key%2Cpreview_image_url%2Ctype%2Curl%2Cwidth%2Cpublic_metrics&poll.fields=duration_minutes%2Cend_datetime%2Cid%2Coptions%2Cvoting_status&place.fields=contained_within%2Ccountry%2Ccountry_code%2Cfull_name%2Cgeo%2Cid%2Cname%2Cplace_type&max_results=500&query=covid+lang%3Aen+-is%3Aretweet&start_time=2020-01-01T00%3A00%3A00%2B00%3A00&end_time=2020-01-31T00%3A00%3A00%2B00%3A00', 'version': '2.0.13', 'retrieved_at': '2021-05-24T22:54:03+00:00'}}\n",
      "{'conversation_id': '1219682743279390723', 'source': 'Facebook', 'created_at': '2020-01-21T18:06:41.000Z', 'text': 'Free Event 2/12-2/15 https://t.co/AmBuETDvpg{{site_source_name}}&amp;s={{placement}}', 'possibly_sensitive': False, 'public_metrics': {'retweet_count': 0, 'reply_count': 0, 'like_count': 0, 'quote_count': 0}, 'id': '1219682743279390723', 'author_id': '442161578', 'lang': 'en', 'entities': {'urls': [{'start': 21, 'end': 44, 'url': 'https://t.co/AmBuETDvpg', 'expanded_url': 'https://www.fortunebuildersinfo.com/Direct/?did=ee3603b5-8d5f-e411-93f1-a0369f1303c6&contact0state=TX&Covid=7efdc9e7-de2a-e311-93f1-a0369f1303c6&MID=11277709&a=', 'display_url': 'fortunebuildersinfo.com/Direct/?did=ee…'}]}, 'reply_settings': 'everyone', 'author': {'name': 'Tiff Rose', 'description': 'Music my luv, passion, and a sight for some that are blind providing a window to your soul and motivation! Fulfill your dreams because no one can do it for you!', 'verified': False, 'username': 'tiffhasrose', 'url': 'https://t.co/OnEftwK1Fq', 'protected': False, 'created_at': '2011-12-20T20:30:37.000Z', 'entities': {'url': {'urls': [{'start': 0, 'end': 23, 'url': 'https://t.co/OnEftwK1Fq', 'expanded_url': 'http://www.bamfam.org', 'display_url': 'bamfam.org'}]}}, 'profile_image_url': 'https://pbs.twimg.com/profile_images/1328933647810957312/541ODF76_normal.jpg', 'id': '442161578', 'public_metrics': {'followers_count': 193, 'following_count': 1979, 'tweet_count': 7181, 'listed_count': 1}, 'location': 'Austin, TX'}, '__twarc': {'url': 'https://api.twitter.com/2/tweets/search/all?expansions=author_id%2Cin_reply_to_user_id%2Creferenced_tweets.id%2Creferenced_tweets.id.author_id%2Centities.mentions.username%2Cattachments.poll_ids%2Cattachments.media_keys%2Cgeo.place_id&user.fields=created_at%2Cdescription%2Centities%2Cid%2Clocation%2Cname%2Cpinned_tweet_id%2Cprofile_image_url%2Cprotected%2Cpublic_metrics%2Curl%2Cusername%2Cverified%2Cwithheld&tweet.fields=attachments%2Cauthor_id%2Ccontext_annotations%2Cconversation_id%2Ccreated_at%2Centities%2Cgeo%2Cid%2Cin_reply_to_user_id%2Clang%2Cpublic_metrics%2Ctext%2Cpossibly_sensitive%2Creferenced_tweets%2Creply_settings%2Csource%2Cwithheld&media.fields=duration_ms%2Cheight%2Cmedia_key%2Cpreview_image_url%2Ctype%2Curl%2Cwidth%2Cpublic_metrics&poll.fields=duration_minutes%2Cend_datetime%2Cid%2Coptions%2Cvoting_status&place.fields=contained_within%2Ccountry%2Ccountry_code%2Cfull_name%2Cgeo%2Cid%2Cname%2Cplace_type&max_results=500&query=covid+lang%3Aen+-is%3Aretweet&start_time=2020-01-01T00%3A00%3A00%2B00%3A00&end_time=2020-01-31T00%3A00%3A00%2B00%3A00', 'version': '2.0.13', 'retrieved_at': '2021-05-24T22:54:03+00:00'}}\n",
      "{'conversation_id': '1219420609131708417', 'source': 'Facebook', 'created_at': '2020-01-21T00:45:03.000Z', 'text': 'Free Event 2/18-2/22 https://t.co/TXCJzWx637{{site_source_name}}&amp;s={{placement}}', 'possibly_sensitive': False, 'public_metrics': {'retweet_count': 0, 'reply_count': 0, 'like_count': 0, 'quote_count': 0}, 'id': '1219420609131708417', 'author_id': '3219505790', 'lang': 'en', 'entities': {'urls': [{'start': 21, 'end': 44, 'url': 'https://t.co/TXCJzWx637', 'expanded_url': 'https://www.fortunebuilderspaul.com/Direct/?did=6eee0af6-6c05-e911-93fe-a0369f1303c6&contact0state=MI&Covid=b7280b44-fe4b-e911-93fe-a0369f1303c6&MID=11296422&a=', 'display_url': 'fortunebuilderspaul.com/Direct/?did=6e…'}]}, 'reply_settings': 'everyone', 'author': {'name': 'Janette Diamond', 'description': '', 'verified': False, 'username': 'CegielskJanette', 'url': '', 'protected': False, 'created_at': '2015-05-18T15:06:15.000Z', 'profile_image_url': 'https://pbs.twimg.com/profile_images/604006823679545345/d9LdfUC6_normal.jpg', 'id': '3219505790', 'public_metrics': {'followers_count': 16, 'following_count': 66, 'tweet_count': 9580, 'listed_count': 0}}, '__twarc': {'url': 'https://api.twitter.com/2/tweets/search/all?expansions=author_id%2Cin_reply_to_user_id%2Creferenced_tweets.id%2Creferenced_tweets.id.author_id%2Centities.mentions.username%2Cattachments.poll_ids%2Cattachments.media_keys%2Cgeo.place_id&user.fields=created_at%2Cdescription%2Centities%2Cid%2Clocation%2Cname%2Cpinned_tweet_id%2Cprofile_image_url%2Cprotected%2Cpublic_metrics%2Curl%2Cusername%2Cverified%2Cwithheld&tweet.fields=attachments%2Cauthor_id%2Ccontext_annotations%2Cconversation_id%2Ccreated_at%2Centities%2Cgeo%2Cid%2Cin_reply_to_user_id%2Clang%2Cpublic_metrics%2Ctext%2Cpossibly_sensitive%2Creferenced_tweets%2Creply_settings%2Csource%2Cwithheld&media.fields=duration_ms%2Cheight%2Cmedia_key%2Cpreview_image_url%2Ctype%2Curl%2Cwidth%2Cpublic_metrics&poll.fields=duration_minutes%2Cend_datetime%2Cid%2Coptions%2Cvoting_status&place.fields=contained_within%2Ccountry%2Ccountry_code%2Cfull_name%2Cgeo%2Cid%2Cname%2Cplace_type&max_results=500&query=covid+lang%3Aen+-is%3Aretweet&start_time=2020-01-01T00%3A00%3A00%2B00%3A00&end_time=2020-01-31T00%3A00%3A00%2B00%3A00', 'version': '2.0.13', 'retrieved_at': '2021-05-24T22:54:03+00:00'}}\n",
      "{'conversation_id': '1216801229222838273', 'source': 'Facebook', 'created_at': '2020-01-13T19:16:34.000Z', 'text': 'Free Event 2/5-2/8 https://t.co/QuMPSuz4oC{{site_source_name}}&amp;s={{placement}}', 'possibly_sensitive': True, 'public_metrics': {'retweet_count': 0, 'reply_count': 0, 'like_count': 0, 'quote_count': 0}, 'id': '1216801229222838273', 'author_id': '133919376', 'lang': 'en', 'entities': {'urls': [{'start': 19, 'end': 42, 'url': 'https://t.co/QuMPSuz4oC', 'expanded_url': 'https://www.fortunebuildersinfo.com/Direct/?did=ee3603b5-8d5f-e411-93f1-a0369f1303c6&contact0state=PA&Covid=b1ed3a52-c4a0-e411-93f7-a0369f1303c6&MID=11260607&a=', 'display_url': 'fortunebuildersinfo.com/Direct/?did=ee…'}]}, 'reply_settings': 'everyone', 'author': {'name': 'Miguel B Cuevas, PhD', 'description': 'Counseling psychologist in Personal Performance Counseling(private).', 'verified': False, 'username': 'miguelbcuevas', 'url': 'https://t.co/B6e5T7EE75', 'protected': False, 'created_at': '2010-04-17T00:34:52.000Z', 'entities': {'url': {'urls': [{'start': 0, 'end': 23, 'url': 'https://t.co/B6e5T7EE75', 'expanded_url': 'http://www.globalchristianod.org', 'display_url': 'globalchristianod.org'}]}}, 'profile_image_url': 'https://pbs.twimg.com/profile_images/1170691882487287810/JPDaU8j6_normal.jpg', 'id': '133919376', 'public_metrics': {'followers_count': 91, 'following_count': 228, 'tweet_count': 39192, 'listed_count': 0}, 'location': 'Estados Unidos'}, '__twarc': {'url': 'https://api.twitter.com/2/tweets/search/all?expansions=author_id%2Cin_reply_to_user_id%2Creferenced_tweets.id%2Creferenced_tweets.id.author_id%2Centities.mentions.username%2Cattachments.poll_ids%2Cattachments.media_keys%2Cgeo.place_id&user.fields=created_at%2Cdescription%2Centities%2Cid%2Clocation%2Cname%2Cpinned_tweet_id%2Cprofile_image_url%2Cprotected%2Cpublic_metrics%2Curl%2Cusername%2Cverified%2Cwithheld&tweet.fields=attachments%2Cauthor_id%2Ccontext_annotations%2Cconversation_id%2Ccreated_at%2Centities%2Cgeo%2Cid%2Cin_reply_to_user_id%2Clang%2Cpublic_metrics%2Ctext%2Cpossibly_sensitive%2Creferenced_tweets%2Creply_settings%2Csource%2Cwithheld&media.fields=duration_ms%2Cheight%2Cmedia_key%2Cpreview_image_url%2Ctype%2Curl%2Cwidth%2Cpublic_metrics&poll.fields=duration_minutes%2Cend_datetime%2Cid%2Coptions%2Cvoting_status&place.fields=contained_within%2Ccountry%2Ccountry_code%2Cfull_name%2Cgeo%2Cid%2Cname%2Cplace_type&max_results=500&query=covid+lang%3Aen+-is%3Aretweet&start_time=2020-01-01T00%3A00%3A00%2B00%3A00&end_time=2020-01-31T00%3A00%3A00%2B00%3A00', 'version': '2.0.13', 'retrieved_at': '2021-05-24T22:54:03+00:00'}}\n",
      "{'conversation_id': '1216310173414907904', 'source': 'Twitter Web App', 'created_at': '2020-01-12T14:59:56.000Z', 'text': '@chamington1 1. Raven Guy \\n2. Cham\\n3. 4 / 10\\n4. Ye, also I like you funky EPs, EP2 Song 6 got a laugh out of me.\\n5. Covid Pal\\n6. Nope\\n7. 👏', 'referenced_tweets': [{'type': 'replied_to', 'id': '1216365909717196801', 'conversation_id': '1216310173414907904', 'source': 'Twitter for iPhone', 'created_at': '2020-01-12T14:26:46.000Z', 'text': '@Capital_EKS sure', 'referenced_tweets': [{'type': 'replied_to', 'id': '1216310173414907904'}], 'entities': {'mentions': [{'start': 0, 'end': 12, 'username': 'Capital_EKS', 'name': '❄️🐑 Capital 🦎🎄', 'description': '| Hobbyist Game Dev and Artist | ❤️ my loving boyfriend: @Pawfficer_Sndmn ❤️ | ko-fi: https://t.co/RiscCehDb8 | He/They | Black | pfp: @demonsforrei', 'verified': False, 'url': 'https://t.co/J2fKhTtl5u', 'protected': False, 'created_at': '2014-07-11T02:40:34.000Z', 'entities': {'url': {'urls': [{'start': 0, 'end': 23, 'url': 'https://t.co/J2fKhTtl5u', 'expanded_url': 'https://capitalex.itch.io/', 'display_url': 'capitalex.itch.io'}]}, 'description': {'urls': [{'start': 86, 'end': 109, 'url': 'https://t.co/RiscCehDb8', 'expanded_url': 'http://ko-fi.com/capitalex', 'display_url': 'ko-fi.com/capitalex'}], 'mentions': [{'start': 57, 'end': 73, 'username': 'Pawfficer_Sndmn'}, {'start': 135, 'end': 148, 'username': 'demonsforrei'}]}}, 'profile_image_url': 'https://pbs.twimg.com/profile_images/1383209895483297792/6_CCwzAC_normal.jpg', 'id': '2616580153', 'public_metrics': {'followers_count': 283, 'following_count': 430, 'tweet_count': 5470, 'listed_count': 9}, 'location': \"Ba'ti\"}]}, 'possibly_sensitive': False, 'public_metrics': {'retweet_count': 0, 'reply_count': 1, 'like_count': 0, 'quote_count': 0}, 'author_id': '3031064620', 'lang': 'en', 'in_reply_to_user_id': '2616580153', 'reply_settings': 'everyone', 'author': {'name': 'chamington (album in pinned)', 'description': 'Cham|Raven or crow idk|🏳️\\u200d🌈 | PFP by @CrownedVictory_ | part of @keyspiritmusic | AD: @chamingtonAD|💙🖤 @Dordbird / hethem', 'verified': False, 'username': 'chamington1', 'pinned_tweet_id': '1395433557766676486', 'url': 'https://t.co/noWhGu7o4P', 'protected': False, 'created_at': '2015-02-11T19:09:56.000Z', 'entities': {'url': {'urls': [{'start': 0, 'end': 23, 'url': 'https://t.co/noWhGu7o4P', 'expanded_url': 'http://www.com', 'display_url': 'www.com'}]}, 'description': {'mentions': [{'start': 37, 'end': 53, 'username': 'CrownedVictory_'}, {'start': 64, 'end': 79, 'username': 'keyspiritmusic'}, {'start': 86, 'end': 99, 'username': 'chamingtonAD'}, {'start': 103, 'end': 112, 'username': 'Dordbird'}]}}, 'profile_image_url': 'https://pbs.twimg.com/profile_images/1143597342341423104/Pm6y97BE_normal.png', 'id': '3031064620', 'public_metrics': {'followers_count': 452, 'following_count': 1153, 'tweet_count': 5283, 'listed_count': 5}, 'location': 'Location'}, 'in_reply_to_user': {'name': '❄️🐑 Capital 🦎🎄', 'description': '| Hobbyist Game Dev and Artist | ❤️ my loving boyfriend: @Pawfficer_Sndmn ❤️ | ko-fi: https://t.co/RiscCehDb8 | He/They | Black | pfp: @demonsforrei', 'verified': False, 'username': 'Capital_EKS', 'url': 'https://t.co/J2fKhTtl5u', 'protected': False, 'created_at': '2014-07-11T02:40:34.000Z', 'entities': {'url': {'urls': [{'start': 0, 'end': 23, 'url': 'https://t.co/J2fKhTtl5u', 'expanded_url': 'https://capitalex.itch.io/', 'display_url': 'capitalex.itch.io'}]}, 'description': {'urls': [{'start': 86, 'end': 109, 'url': 'https://t.co/RiscCehDb8', 'expanded_url': 'http://ko-fi.com/capitalex', 'display_url': 'ko-fi.com/capitalex'}], 'mentions': [{'start': 57, 'end': 73, 'username': 'Pawfficer_Sndmn'}, {'start': 135, 'end': 148, 'username': 'demonsforrei'}]}}, 'profile_image_url': 'https://pbs.twimg.com/profile_images/1383209895483297792/6_CCwzAC_normal.jpg', 'id': '2616580153', 'public_metrics': {'followers_count': 283, 'following_count': 430, 'tweet_count': 5470, 'listed_count': 9}, 'location': \"Ba'ti\"}}], 'entities': {'mentions': [{'start': 0, 'end': 12, 'username': 'chamington1', 'name': 'chamington (album in pinned)', 'description': 'Cham|Raven or crow idk|🏳️\\u200d🌈 | PFP by @CrownedVictory_ | part of @keyspiritmusic | AD: @chamingtonAD|💙🖤 @Dordbird / hethem', 'verified': False, 'pinned_tweet_id': '1395433557766676486', 'url': 'https://t.co/noWhGu7o4P', 'protected': False, 'created_at': '2015-02-11T19:09:56.000Z', 'entities': {'url': {'urls': [{'start': 0, 'end': 23, 'url': 'https://t.co/noWhGu7o4P', 'expanded_url': 'http://www.com', 'display_url': 'www.com'}]}, 'description': {'mentions': [{'start': 37, 'end': 53, 'username': 'CrownedVictory_'}, {'start': 64, 'end': 79, 'username': 'keyspiritmusic'}, {'start': 86, 'end': 99, 'username': 'chamingtonAD'}, {'start': 103, 'end': 112, 'username': 'Dordbird'}]}}, 'profile_image_url': 'https://pbs.twimg.com/profile_images/1143597342341423104/Pm6y97BE_normal.png', 'id': '3031064620', 'public_metrics': {'followers_count': 452, 'following_count': 1153, 'tweet_count': 5283, 'listed_count': 5}, 'location': 'Location'}]}, 'possibly_sensitive': False, 'public_metrics': {'retweet_count': 0, 'reply_count': 0, 'like_count': 1, 'quote_count': 0}, 'id': '1216374257028161536', 'author_id': '2616580153', 'lang': 'en', 'in_reply_to_user_id': '3031064620', 'reply_settings': 'everyone', 'author': {'name': '❄️🐑 Capital 🦎🎄', 'description': '| Hobbyist Game Dev and Artist | ❤️ my loving boyfriend: @Pawfficer_Sndmn ❤️ | ko-fi: https://t.co/RiscCehDb8 | He/They | Black | pfp: @demonsforrei', 'verified': False, 'username': 'Capital_EKS', 'url': 'https://t.co/J2fKhTtl5u', 'protected': False, 'created_at': '2014-07-11T02:40:34.000Z', 'entities': {'url': {'urls': [{'start': 0, 'end': 23, 'url': 'https://t.co/J2fKhTtl5u', 'expanded_url': 'https://capitalex.itch.io/', 'display_url': 'capitalex.itch.io'}]}, 'description': {'urls': [{'start': 86, 'end': 109, 'url': 'https://t.co/RiscCehDb8', 'expanded_url': 'http://ko-fi.com/capitalex', 'display_url': 'ko-fi.com/capitalex'}], 'mentions': [{'start': 57, 'end': 73, 'username': 'Pawfficer_Sndmn'}, {'start': 135, 'end': 148, 'username': 'demonsforrei'}]}}, 'profile_image_url': 'https://pbs.twimg.com/profile_images/1383209895483297792/6_CCwzAC_normal.jpg', 'id': '2616580153', 'public_metrics': {'followers_count': 283, 'following_count': 430, 'tweet_count': 5470, 'listed_count': 9}, 'location': \"Ba'ti\"}, 'in_reply_to_user': {'name': 'chamington (album in pinned)', 'description': 'Cham|Raven or crow idk|🏳️\\u200d🌈 | PFP by @CrownedVictory_ | part of @keyspiritmusic | AD: @chamingtonAD|💙🖤 @Dordbird / hethem', 'verified': False, 'username': 'chamington1', 'pinned_tweet_id': '1395433557766676486', 'url': 'https://t.co/noWhGu7o4P', 'protected': False, 'created_at': '2015-02-11T19:09:56.000Z', 'entities': {'url': {'urls': [{'start': 0, 'end': 23, 'url': 'https://t.co/noWhGu7o4P', 'expanded_url': 'http://www.com', 'display_url': 'www.com'}]}, 'description': {'mentions': [{'start': 37, 'end': 53, 'username': 'CrownedVictory_'}, {'start': 64, 'end': 79, 'username': 'keyspiritmusic'}, {'start': 86, 'end': 99, 'username': 'chamingtonAD'}, {'start': 103, 'end': 112, 'username': 'Dordbird'}]}}, 'profile_image_url': 'https://pbs.twimg.com/profile_images/1143597342341423104/Pm6y97BE_normal.png', 'id': '3031064620', 'public_metrics': {'followers_count': 452, 'following_count': 1153, 'tweet_count': 5283, 'listed_count': 5}, 'location': 'Location'}, '__twarc': {'url': 'https://api.twitter.com/2/tweets/search/all?expansions=author_id%2Cin_reply_to_user_id%2Creferenced_tweets.id%2Creferenced_tweets.id.author_id%2Centities.mentions.username%2Cattachments.poll_ids%2Cattachments.media_keys%2Cgeo.place_id&user.fields=created_at%2Cdescription%2Centities%2Cid%2Clocation%2Cname%2Cpinned_tweet_id%2Cprofile_image_url%2Cprotected%2Cpublic_metrics%2Curl%2Cusername%2Cverified%2Cwithheld&tweet.fields=attachments%2Cauthor_id%2Ccontext_annotations%2Cconversation_id%2Ccreated_at%2Centities%2Cgeo%2Cid%2Cin_reply_to_user_id%2Clang%2Cpublic_metrics%2Ctext%2Cpossibly_sensitive%2Creferenced_tweets%2Creply_settings%2Csource%2Cwithheld&media.fields=duration_ms%2Cheight%2Cmedia_key%2Cpreview_image_url%2Ctype%2Curl%2Cwidth%2Cpublic_metrics&poll.fields=duration_minutes%2Cend_datetime%2Cid%2Coptions%2Cvoting_status&place.fields=contained_within%2Ccountry%2Ccountry_code%2Cfull_name%2Cgeo%2Cid%2Cname%2Cplace_type&max_results=500&query=covid+lang%3Aen+-is%3Aretweet&start_time=2020-01-01T00%3A00%3A00%2B00%3A00&end_time=2020-01-31T00%3A00%3A00%2B00%3A00', 'version': '2.0.13', 'retrieved_at': '2021-05-24T22:54:03+00:00'}}\n",
      "{'conversation_id': '1215741095264555013', 'source': 'Facebook', 'created_at': '2020-01-10T21:03:59.000Z', 'text': 'Free Event 1/6-1/11 https://t.co/rxhGkGD6JZ{{site_source_name}}&amp;s={{placement}}', 'possibly_sensitive': False, 'public_metrics': {'retweet_count': 0, 'reply_count': 0, 'like_count': 0, 'quote_count': 0}, 'id': '1215741095264555013', 'author_id': '3219505790', 'lang': 'en', 'entities': {'urls': [{'start': 20, 'end': 43, 'url': 'https://t.co/rxhGkGD6JZ', 'expanded_url': 'https://www.fortunebuildersinfo.com/Direct/?did=ee3603b5-8d5f-e411-93f1-a0369f1303c6&contact0state=mi&Covid=35939285-eb8f-4b2d-9052-c4319cbf2780&MID=11193499&a=', 'display_url': 'fortunebuildersinfo.com/Direct/?did=ee…'}]}, 'reply_settings': 'everyone', 'author': {'name': 'Janette Diamond', 'description': '', 'verified': False, 'username': 'CegielskJanette', 'url': '', 'protected': False, 'created_at': '2015-05-18T15:06:15.000Z', 'profile_image_url': 'https://pbs.twimg.com/profile_images/604006823679545345/d9LdfUC6_normal.jpg', 'id': '3219505790', 'public_metrics': {'followers_count': 16, 'following_count': 66, 'tweet_count': 9580, 'listed_count': 0}}, '__twarc': {'url': 'https://api.twitter.com/2/tweets/search/all?expansions=author_id%2Cin_reply_to_user_id%2Creferenced_tweets.id%2Creferenced_tweets.id.author_id%2Centities.mentions.username%2Cattachments.poll_ids%2Cattachments.media_keys%2Cgeo.place_id&user.fields=created_at%2Cdescription%2Centities%2Cid%2Clocation%2Cname%2Cpinned_tweet_id%2Cprofile_image_url%2Cprotected%2Cpublic_metrics%2Curl%2Cusername%2Cverified%2Cwithheld&tweet.fields=attachments%2Cauthor_id%2Ccontext_annotations%2Cconversation_id%2Ccreated_at%2Centities%2Cgeo%2Cid%2Cin_reply_to_user_id%2Clang%2Cpublic_metrics%2Ctext%2Cpossibly_sensitive%2Creferenced_tweets%2Creply_settings%2Csource%2Cwithheld&media.fields=duration_ms%2Cheight%2Cmedia_key%2Cpreview_image_url%2Ctype%2Curl%2Cwidth%2Cpublic_metrics&poll.fields=duration_minutes%2Cend_datetime%2Cid%2Coptions%2Cvoting_status&place.fields=contained_within%2Ccountry%2Ccountry_code%2Cfull_name%2Cgeo%2Cid%2Cname%2Cplace_type&max_results=500&query=covid+lang%3Aen+-is%3Aretweet&start_time=2020-01-01T00%3A00%3A00%2B00%3A00&end_time=2020-01-31T00%3A00%3A00%2B00%3A00', 'version': '2.0.13', 'retrieved_at': '2021-05-24T22:54:03+00:00'}}\n",
      "{'conversation_id': '1215293073007292416', 'source': 'Twitter Web App', 'created_at': '2020-01-10T13:55:06.000Z', 'text': \"@MargieHoffnung @bandmasta @DrewBennellick @DSM888 @LostArtLimited Love these creative  bandstand ideas by #Coventry University Industrial Design students'   https://t.co/6ZiazTEv6m https://t.co/8Je7triO0R\", 'referenced_tweets': [{'type': 'replied_to', 'id': '1215630019386626048', 'conversation_id': '1215293073007292416', 'source': 'Twitter Web App', 'created_at': '2020-01-10T13:42:36.000Z', 'text': '@MargieHoffnung @bandmasta @DrewBennellick @DSM888 @LostArtLimited Have a look at the proms concert https://t.co/wzCDmGeilF', 'referenced_tweets': [{'type': 'replied_to', 'id': '1215362563782979588'}], 'entities': {'mentions': [{'start': 0, 'end': 15, 'username': 'MargieHoffnung', 'name': 'Margie Hoffnung', 'description': 'Conservation Officer the Gardens Trust, love veteran trees, plants, reading and dogs and hens', 'verified': False, 'url': '', 'protected': False, 'created_at': '2018-02-17T10:56:17.000Z', 'profile_image_url': 'https://pbs.twimg.com/profile_images/964824466579775489/87WioOoO_normal.jpg', 'id': '964815760563589122', 'public_metrics': {'followers_count': 156, 'following_count': 55, 'tweet_count': 1072, 'listed_count': 3}, 'location': 'Gloucestershire'}, {'start': 16, 'end': 26, 'username': 'bandmasta', 'name': 'Paul Rabbitts MLA FRSA FLI', 'description': 'A Fellow of the Royal Society of Arts, Chair of the Parks Management Forum, parks & bandstand geek, historian, public speaker & author. My tweets my views.', 'verified': False, 'url': 'https://t.co/IptwJ8vN6c', 'protected': False, 'created_at': '2011-08-20T20:46:18.000Z', 'entities': {'url': {'urls': [{'start': 0, 'end': 23, 'url': 'https://t.co/IptwJ8vN6c', 'expanded_url': 'http://www.paulrabbitts.co.uk', 'display_url': 'paulrabbitts.co.uk'}]}}, 'profile_image_url': 'https://pbs.twimg.com/profile_images/1146544059772743680/ApDfUPQ-_normal.jpg', 'id': '358982976', 'public_metrics': {'followers_count': 1070, 'following_count': 1067, 'tweet_count': 4730, 'listed_count': 20}, 'location': 'Leighton Buzzard,'}, {'start': 27, 'end': 42, 'username': 'DrewBennellick', 'name': 'Drew Bennellick', 'description': 'Head of Land & Nature at National Lottery Heritage Fund. UK lead on landscape, habitats, species, marine, urban green space & #FutureParksAccelerator. Own views', 'verified': False, 'url': 'https://t.co/Jix0SKhyzk', 'protected': False, 'created_at': '2014-07-17T14:27:26.000Z', 'entities': {'url': {'urls': [{'start': 0, 'end': 23, 'url': 'https://t.co/Jix0SKhyzk', 'expanded_url': 'http://heritagefund.org.uk', 'display_url': 'heritagefund.org.uk'}]}, 'description': {'hashtags': [{'start': 126, 'end': 149, 'tag': 'FutureParksAccelerator'}]}}, 'profile_image_url': 'https://pbs.twimg.com/profile_images/1380592778569220097/fsYfvmoc_normal.jpg', 'id': '2653913882', 'public_metrics': {'followers_count': 3604, 'following_count': 1928, 'tweet_count': 10586, 'listed_count': 55}, 'location': 'UK'}, {'start': 43, 'end': 50, 'username': 'DSM888', 'name': 'Dr David Mitchell', 'description': 'Director of Conservation - Historic Environment Scotland, Trustee of @SmithMuseum  - trainee photographer and lover of any old iron...', 'verified': False, 'url': 'https://t.co/YDVjLnD6Is', 'protected': False, 'created_at': '2011-01-31T20:03:36.000Z', 'entities': {'url': {'urls': [{'start': 0, 'end': 23, 'url': 'https://t.co/YDVjLnD6Is', 'expanded_url': 'http://www.theironbloke.com', 'display_url': 'theironbloke.com'}]}, 'description': {'mentions': [{'start': 69, 'end': 81, 'username': 'SmithMuseum'}]}}, 'profile_image_url': 'https://pbs.twimg.com/profile_images/999413212905799680/GSmZ_KGS_normal.jpg', 'id': '245481234', 'public_metrics': {'followers_count': 3491, 'following_count': 1403, 'tweet_count': 20864, 'listed_count': 75}, 'location': 'Stirling, Scotland'}, {'start': 51, 'end': 66, 'username': 'LostArtLimited', 'name': 'Lost Art Limited', 'description': 'Award winning experts in historic landscape furnishings and features, offering, restoration, recreation, reproduction, reinstatement and consultancy.', 'verified': False, 'url': 'https://t.co/kGUtz83jE7', 'protected': False, 'created_at': '2017-07-27T12:10:50.000Z', 'entities': {'url': {'urls': [{'start': 0, 'end': 23, 'url': 'https://t.co/kGUtz83jE7', 'expanded_url': 'http://www.lost-art.co.uk', 'display_url': 'lost-art.co.uk'}]}}, 'profile_image_url': 'https://pbs.twimg.com/profile_images/894914087896920065/9VkcmLlz_normal.jpg', 'id': '890545010445365248', 'public_metrics': {'followers_count': 403, 'following_count': 600, 'tweet_count': 673, 'listed_count': 7}, 'location': 'North West, England'}], 'urls': [{'start': 100, 'end': 123, 'url': 'https://t.co/wzCDmGeilF', 'expanded_url': 'https://www.youtube.com/watch?v=rkzrb5jCupY', 'display_url': 'youtube.com/watch?v=rkzrb5…', 'status': 200, 'unwound_url': 'https://www.youtube.com/watch?v=rkzrb5jCupY'}]}, 'possibly_sensitive': False, 'public_metrics': {'retweet_count': 0, 'reply_count': 1, 'like_count': 2, 'quote_count': 0}, 'author_id': '2284155853', 'lang': 'en', 'in_reply_to_user_id': '964815760563589122', 'reply_settings': 'everyone', 'author': {'name': 'Jenifer White', 'description': \"Historic England's national landscape advisor. All tweets are my own views. Love public parks, historic landscapes, the outdoors, & a @FieldStudiesC trustee.💙\", 'verified': False, 'username': 'JeniferJWhite', 'url': 'http://t.co/5VzLy7MIXR', 'protected': False, 'created_at': '2014-01-09T21:38:28.000Z', 'entities': {'url': {'urls': [{'start': 0, 'end': 22, 'url': 'http://t.co/5VzLy7MIXR', 'expanded_url': 'http://www.HistoricEngland.org.uk', 'display_url': 'HistoricEngland.org.uk'}]}, 'description': {'mentions': [{'start': 134, 'end': 148, 'username': 'FieldStudiesC'}]}}, 'profile_image_url': 'https://pbs.twimg.com/profile_images/701693282217291776/aWpMp6Zp_normal.jpg', 'id': '2284155853', 'public_metrics': {'followers_count': 1321, 'following_count': 477, 'tweet_count': 5721, 'listed_count': 21}}, 'in_reply_to_user': {'name': 'Margie Hoffnung', 'description': 'Conservation Officer the Gardens Trust, love veteran trees, plants, reading and dogs and hens', 'verified': False, 'username': 'MargieHoffnung', 'url': '', 'protected': False, 'created_at': '2018-02-17T10:56:17.000Z', 'profile_image_url': 'https://pbs.twimg.com/profile_images/964824466579775489/87WioOoO_normal.jpg', 'id': '964815760563589122', 'public_metrics': {'followers_count': 156, 'following_count': 55, 'tweet_count': 1072, 'listed_count': 3}, 'location': 'Gloucestershire'}}], 'entities': {'mentions': [{'start': 0, 'end': 15, 'username': 'MargieHoffnung', 'name': 'Margie Hoffnung', 'description': 'Conservation Officer the Gardens Trust, love veteran trees, plants, reading and dogs and hens', 'verified': False, 'url': '', 'protected': False, 'created_at': '2018-02-17T10:56:17.000Z', 'profile_image_url': 'https://pbs.twimg.com/profile_images/964824466579775489/87WioOoO_normal.jpg', 'id': '964815760563589122', 'public_metrics': {'followers_count': 156, 'following_count': 55, 'tweet_count': 1072, 'listed_count': 3}, 'location': 'Gloucestershire'}, {'start': 16, 'end': 26, 'username': 'bandmasta', 'name': 'Paul Rabbitts MLA FRSA FLI', 'description': 'A Fellow of the Royal Society of Arts, Chair of the Parks Management Forum, parks & bandstand geek, historian, public speaker & author. My tweets my views.', 'verified': False, 'url': 'https://t.co/IptwJ8vN6c', 'protected': False, 'created_at': '2011-08-20T20:46:18.000Z', 'entities': {'url': {'urls': [{'start': 0, 'end': 23, 'url': 'https://t.co/IptwJ8vN6c', 'expanded_url': 'http://www.paulrabbitts.co.uk', 'display_url': 'paulrabbitts.co.uk'}]}}, 'profile_image_url': 'https://pbs.twimg.com/profile_images/1146544059772743680/ApDfUPQ-_normal.jpg', 'id': '358982976', 'public_metrics': {'followers_count': 1070, 'following_count': 1067, 'tweet_count': 4730, 'listed_count': 20}, 'location': 'Leighton Buzzard,'}, {'start': 27, 'end': 42, 'username': 'DrewBennellick', 'name': 'Drew Bennellick', 'description': 'Head of Land & Nature at National Lottery Heritage Fund. UK lead on landscape, habitats, species, marine, urban green space & #FutureParksAccelerator. Own views', 'verified': False, 'url': 'https://t.co/Jix0SKhyzk', 'protected': False, 'created_at': '2014-07-17T14:27:26.000Z', 'entities': {'url': {'urls': [{'start': 0, 'end': 23, 'url': 'https://t.co/Jix0SKhyzk', 'expanded_url': 'http://heritagefund.org.uk', 'display_url': 'heritagefund.org.uk'}]}, 'description': {'hashtags': [{'start': 126, 'end': 149, 'tag': 'FutureParksAccelerator'}]}}, 'profile_image_url': 'https://pbs.twimg.com/profile_images/1380592778569220097/fsYfvmoc_normal.jpg', 'id': '2653913882', 'public_metrics': {'followers_count': 3604, 'following_count': 1928, 'tweet_count': 10586, 'listed_count': 55}, 'location': 'UK'}, {'start': 43, 'end': 50, 'username': 'DSM888', 'name': 'Dr David Mitchell', 'description': 'Director of Conservation - Historic Environment Scotland, Trustee of @SmithMuseum  - trainee photographer and lover of any old iron...', 'verified': False, 'url': 'https://t.co/YDVjLnD6Is', 'protected': False, 'created_at': '2011-01-31T20:03:36.000Z', 'entities': {'url': {'urls': [{'start': 0, 'end': 23, 'url': 'https://t.co/YDVjLnD6Is', 'expanded_url': 'http://www.theironbloke.com', 'display_url': 'theironbloke.com'}]}, 'description': {'mentions': [{'start': 69, 'end': 81, 'username': 'SmithMuseum'}]}}, 'profile_image_url': 'https://pbs.twimg.com/profile_images/999413212905799680/GSmZ_KGS_normal.jpg', 'id': '245481234', 'public_metrics': {'followers_count': 3491, 'following_count': 1403, 'tweet_count': 20864, 'listed_count': 75}, 'location': 'Stirling, Scotland'}, {'start': 51, 'end': 66, 'username': 'LostArtLimited', 'name': 'Lost Art Limited', 'description': 'Award winning experts in historic landscape furnishings and features, offering, restoration, recreation, reproduction, reinstatement and consultancy.', 'verified': False, 'url': 'https://t.co/kGUtz83jE7', 'protected': False, 'created_at': '2017-07-27T12:10:50.000Z', 'entities': {'url': {'urls': [{'start': 0, 'end': 23, 'url': 'https://t.co/kGUtz83jE7', 'expanded_url': 'http://www.lost-art.co.uk', 'display_url': 'lost-art.co.uk'}]}}, 'profile_image_url': 'https://pbs.twimg.com/profile_images/894914087896920065/9VkcmLlz_normal.jpg', 'id': '890545010445365248', 'public_metrics': {'followers_count': 403, 'following_count': 600, 'tweet_count': 673, 'listed_count': 7}, 'location': 'North West, England'}], 'annotations': [{'start': 107, 'end': 144, 'probability': 0.3833, 'type': 'Organization', 'normalized_text': '#Coventry University Industrial Design'}], 'hashtags': [{'start': 107, 'end': 116, 'tag': 'Coventry'}], 'urls': [{'start': 158, 'end': 181, 'url': 'https://t.co/6ZiazTEv6m', 'expanded_url': 'http://blogs.coventry.ac.uk/covid/2016/01/13/making-a-stand/', 'display_url': 'blogs.coventry.ac.uk/covid/2016/01/…'}, {'start': 182, 'end': 205, 'url': 'https://t.co/8Je7triO0R', 'expanded_url': 'https://twitter.com/JeniferJWhite/status/1215633166733643779/photo/1', 'display_url': 'pic.twitter.com/8Je7triO0R'}]}, 'possibly_sensitive': False, 'context_annotations': [{'domain': {'id': '65', 'name': 'Interests and Hobbies Vertical', 'description': 'Top level interests and hobbies groupings, like Food or Travel'}, 'entity': {'id': '847546154439000064', 'name': 'Education', 'description': 'Education through the lens of those passionate about resources and news. This topic excludes Education policy and reform.'}}, {'domain': {'id': '65', 'name': 'Interests and Hobbies Vertical', 'description': 'Top level interests and hobbies groupings, like Food or Travel'}, 'entity': {'id': '847868745150119936', 'name': 'Home & family', 'description': 'Hobbies and interests'}}, {'domain': {'id': '66', 'name': 'Interests and Hobbies Category', 'description': 'A grouping of interests and hobbies entities, like Novelty Food or Destinations'}, 'entity': {'id': '847872720331079681', 'name': 'Design', 'description': 'Design'}}, {'domain': {'id': '66', 'name': 'Interests and Hobbies Category', 'description': 'A grouping of interests and hobbies entities, like Novelty Food or Destinations'}, 'entity': {'id': '852219717016141824', 'name': 'College life', 'description': 'College Life'}}], 'public_metrics': {'retweet_count': 1, 'reply_count': 1, 'like_count': 2, 'quote_count': 0}, 'id': '1215633166733643779', 'author_id': '2284155853', 'lang': 'en', 'in_reply_to_user_id': '2284155853', 'reply_settings': 'everyone', 'attachments': {'media_keys': ['3_1215633076883218433'], 'media': [{'url': 'https://pbs.twimg.com/media/EN7L17zW4AE8WN_.jpg', 'media_key': '3_1215633076883218433', 'type': 'photo', 'height': 1300, 'width': 1960}]}, 'author': {'name': 'Jenifer White', 'description': \"Historic England's national landscape advisor. All tweets are my own views. Love public parks, historic landscapes, the outdoors, & a @FieldStudiesC trustee.💙\", 'verified': False, 'username': 'JeniferJWhite', 'url': 'http://t.co/5VzLy7MIXR', 'protected': False, 'created_at': '2014-01-09T21:38:28.000Z', 'entities': {'url': {'urls': [{'start': 0, 'end': 22, 'url': 'http://t.co/5VzLy7MIXR', 'expanded_url': 'http://www.HistoricEngland.org.uk', 'display_url': 'HistoricEngland.org.uk'}]}, 'description': {'mentions': [{'start': 134, 'end': 148, 'username': 'FieldStudiesC'}]}}, 'profile_image_url': 'https://pbs.twimg.com/profile_images/701693282217291776/aWpMp6Zp_normal.jpg', 'id': '2284155853', 'public_metrics': {'followers_count': 1321, 'following_count': 477, 'tweet_count': 5721, 'listed_count': 21}}, 'in_reply_to_user': {'name': 'Jenifer White', 'description': \"Historic England's national landscape advisor. All tweets are my own views. Love public parks, historic landscapes, the outdoors, & a @FieldStudiesC trustee.💙\", 'verified': False, 'username': 'JeniferJWhite', 'url': 'http://t.co/5VzLy7MIXR', 'protected': False, 'created_at': '2014-01-09T21:38:28.000Z', 'entities': {'url': {'urls': [{'start': 0, 'end': 22, 'url': 'http://t.co/5VzLy7MIXR', 'expanded_url': 'http://www.HistoricEngland.org.uk', 'display_url': 'HistoricEngland.org.uk'}]}, 'description': {'mentions': [{'start': 134, 'end': 148, 'username': 'FieldStudiesC'}]}}, 'profile_image_url': 'https://pbs.twimg.com/profile_images/701693282217291776/aWpMp6Zp_normal.jpg', 'id': '2284155853', 'public_metrics': {'followers_count': 1321, 'following_count': 477, 'tweet_count': 5721, 'listed_count': 21}}, '__twarc': {'url': 'https://api.twitter.com/2/tweets/search/all?expansions=author_id%2Cin_reply_to_user_id%2Creferenced_tweets.id%2Creferenced_tweets.id.author_id%2Centities.mentions.username%2Cattachments.poll_ids%2Cattachments.media_keys%2Cgeo.place_id&user.fields=created_at%2Cdescription%2Centities%2Cid%2Clocation%2Cname%2Cpinned_tweet_id%2Cprofile_image_url%2Cprotected%2Cpublic_metrics%2Curl%2Cusername%2Cverified%2Cwithheld&tweet.fields=attachments%2Cauthor_id%2Ccontext_annotations%2Cconversation_id%2Ccreated_at%2Centities%2Cgeo%2Cid%2Cin_reply_to_user_id%2Clang%2Cpublic_metrics%2Ctext%2Cpossibly_sensitive%2Creferenced_tweets%2Creply_settings%2Csource%2Cwithheld&media.fields=duration_ms%2Cheight%2Cmedia_key%2Cpreview_image_url%2Ctype%2Curl%2Cwidth%2Cpublic_metrics&poll.fields=duration_minutes%2Cend_datetime%2Cid%2Coptions%2Cvoting_status&place.fields=contained_within%2Ccountry%2Ccountry_code%2Cfull_name%2Cgeo%2Cid%2Cname%2Cplace_type&max_results=500&query=covid+lang%3Aen+-is%3Aretweet&start_time=2020-01-01T00%3A00%3A00%2B00%3A00&end_time=2020-01-31T00%3A00%3A00%2B00%3A00', 'version': '2.0.13', 'retrieved_at': '2021-05-24T22:54:03+00:00'}}\n",
      "{'conversation_id': '1215622902076379136', 'source': 'Facebook', 'created_at': '2020-01-10T13:14:19.000Z', 'text': 'Free Event 1/14-1/18 https://t.co/lciEf4R57E{{site_source_name}}&amp;s={{placement}}', 'possibly_sensitive': False, 'public_metrics': {'retweet_count': 0, 'reply_count': 0, 'like_count': 0, 'quote_count': 0}, 'id': '1215622902076379136', 'author_id': '384961155', 'lang': 'en', 'entities': {'urls': [{'start': 21, 'end': 44, 'url': 'https://t.co/lciEf4R57E', 'expanded_url': 'https://www.fortunebuildersinfo.com/Direct/?did=ee3603b5-8d5f-e411-93f1-a0369f1303c6&contact0state=nc&Covid=00ff7752-24c3-e211-af13-782bcb6d4d4c&MID=11207523&a=', 'display_url': 'fortunebuildersinfo.com/Direct/?did=ee…'}]}, 'reply_settings': 'everyone', 'author': {'name': 'Lula Sibley', 'description': '', 'verified': False, 'username': 'LulaSibley', 'url': '', 'protected': False, 'created_at': '2011-10-04T16:46:05.000Z', 'profile_image_url': 'https://pbs.twimg.com/profile_images/1242426919917846528/0JlZu6pQ_normal.jpg', 'id': '384961155', 'public_metrics': {'followers_count': 29, 'following_count': 11, 'tweet_count': 7141, 'listed_count': 0}, 'location': 'GREENSBORO, NORTH CAROLINA'}, '__twarc': {'url': 'https://api.twitter.com/2/tweets/search/all?expansions=author_id%2Cin_reply_to_user_id%2Creferenced_tweets.id%2Creferenced_tweets.id.author_id%2Centities.mentions.username%2Cattachments.poll_ids%2Cattachments.media_keys%2Cgeo.place_id&user.fields=created_at%2Cdescription%2Centities%2Cid%2Clocation%2Cname%2Cpinned_tweet_id%2Cprofile_image_url%2Cprotected%2Cpublic_metrics%2Curl%2Cusername%2Cverified%2Cwithheld&tweet.fields=attachments%2Cauthor_id%2Ccontext_annotations%2Cconversation_id%2Ccreated_at%2Centities%2Cgeo%2Cid%2Cin_reply_to_user_id%2Clang%2Cpublic_metrics%2Ctext%2Cpossibly_sensitive%2Creferenced_tweets%2Creply_settings%2Csource%2Cwithheld&media.fields=duration_ms%2Cheight%2Cmedia_key%2Cpreview_image_url%2Ctype%2Curl%2Cwidth%2Cpublic_metrics&poll.fields=duration_minutes%2Cend_datetime%2Cid%2Coptions%2Cvoting_status&place.fields=contained_within%2Ccountry%2Ccountry_code%2Cfull_name%2Cgeo%2Cid%2Cname%2Cplace_type&max_results=500&query=covid+lang%3Aen+-is%3Aretweet&start_time=2020-01-01T00%3A00%3A00%2B00%3A00&end_time=2020-01-31T00%3A00%3A00%2B00%3A00', 'version': '2.0.13', 'retrieved_at': '2021-05-24T22:54:03+00:00'}}\n",
      "{'conversation_id': '1215317577448218625', 'source': 'Facebook', 'created_at': '2020-01-09T17:01:04.000Z', 'text': 'Free Event 1/6-1/11 https://t.co/rxhGkGD6JZ{{site_source_name}}&amp;s={{placement}}', 'possibly_sensitive': False, 'public_metrics': {'retweet_count': 0, 'reply_count': 0, 'like_count': 0, 'quote_count': 0}, 'id': '1215317577448218625', 'author_id': '3219505790', 'lang': 'en', 'entities': {'urls': [{'start': 20, 'end': 43, 'url': 'https://t.co/rxhGkGD6JZ', 'expanded_url': 'https://www.fortunebuildersinfo.com/Direct/?did=ee3603b5-8d5f-e411-93f1-a0369f1303c6&contact0state=mi&Covid=35939285-eb8f-4b2d-9052-c4319cbf2780&MID=11193499&a=', 'display_url': 'fortunebuildersinfo.com/Direct/?did=ee…'}]}, 'reply_settings': 'everyone', 'author': {'name': 'Janette Diamond', 'description': '', 'verified': False, 'username': 'CegielskJanette', 'url': '', 'protected': False, 'created_at': '2015-05-18T15:06:15.000Z', 'profile_image_url': 'https://pbs.twimg.com/profile_images/604006823679545345/d9LdfUC6_normal.jpg', 'id': '3219505790', 'public_metrics': {'followers_count': 16, 'following_count': 66, 'tweet_count': 9580, 'listed_count': 0}}, '__twarc': {'url': 'https://api.twitter.com/2/tweets/search/all?expansions=author_id%2Cin_reply_to_user_id%2Creferenced_tweets.id%2Creferenced_tweets.id.author_id%2Centities.mentions.username%2Cattachments.poll_ids%2Cattachments.media_keys%2Cgeo.place_id&user.fields=created_at%2Cdescription%2Centities%2Cid%2Clocation%2Cname%2Cpinned_tweet_id%2Cprofile_image_url%2Cprotected%2Cpublic_metrics%2Curl%2Cusername%2Cverified%2Cwithheld&tweet.fields=attachments%2Cauthor_id%2Ccontext_annotations%2Cconversation_id%2Ccreated_at%2Centities%2Cgeo%2Cid%2Cin_reply_to_user_id%2Clang%2Cpublic_metrics%2Ctext%2Cpossibly_sensitive%2Creferenced_tweets%2Creply_settings%2Csource%2Cwithheld&media.fields=duration_ms%2Cheight%2Cmedia_key%2Cpreview_image_url%2Ctype%2Curl%2Cwidth%2Cpublic_metrics&poll.fields=duration_minutes%2Cend_datetime%2Cid%2Coptions%2Cvoting_status&place.fields=contained_within%2Ccountry%2Ccountry_code%2Cfull_name%2Cgeo%2Cid%2Cname%2Cplace_type&max_results=500&query=covid+lang%3Aen+-is%3Aretweet&start_time=2020-01-01T00%3A00%3A00%2B00%3A00&end_time=2020-01-31T00%3A00%3A00%2B00%3A00', 'version': '2.0.13', 'retrieved_at': '2021-05-24T22:54:03+00:00'}}\n",
      "{'conversation_id': '1214918506417971201', 'source': 'Facebook', 'created_at': '2020-01-08T14:35:18.000Z', 'text': 'Free Event 2/5-2/8 https://t.co/rsKy6gNYDk{{site_source_name}}&amp;s={{placement}}', 'possibly_sensitive': False, 'public_metrics': {'retweet_count': 0, 'reply_count': 0, 'like_count': 0, 'quote_count': 0}, 'id': '1214918506417971201', 'author_id': '1115183858', 'lang': 'en', 'entities': {'urls': [{'start': 19, 'end': 42, 'url': 'https://t.co/rsKy6gNYDk', 'expanded_url': 'https://www.fortunebuilderspaul.com/Direct/?did=6eee0af6-6c05-e911-93fe-a0369f1303c6&contact0state=CA&Covid=41602b18-1d2b-ea11-8b97-a0369f1303c7&MID=11266063&a=', 'display_url': 'fortunebuilderspaul.com/Direct/?did=6e…', 'status': 200, 'unwound_url': 'https://event.fortunebuilders.com/class-paul/?Contact0State=CA&Contact0Area=Stockton/Modesto/Tracy&utm_term=Stockton/Modesto/Tracy&utm_content=V1&utm_source=DTM-Banner_Paul&utm_medium=DTM-Facebook&utm_campaign=DTM-Facebook&CLICKID=5da62c64-48ba-eb11-8b97-a0369f1303c7'}]}, 'reply_settings': 'everyone', 'author': {'name': 'CHERRY FRANKLIN (theMISSEZ) book me @PhantomHipHop', 'description': 'Fil-Am vocalist/writer/producer/model Owner @Phantomhiphop https://t.co/npyA0gVGYr @TheCherryFranklinShow host @MissezCherry Spotify Tidal iTunes GooglePlay Amazon ++', 'verified': False, 'username': 'MissezCherry', 'pinned_tweet_id': '1033989502086176768', 'url': 'https://t.co/LdXufyrsDP', 'protected': False, 'created_at': '2013-01-23T20:00:55.000Z', 'entities': {'url': {'urls': [{'start': 0, 'end': 23, 'url': 'https://t.co/LdXufyrsDP', 'expanded_url': 'http://facebook.com/MissezFranklin', 'display_url': 'facebook.com/MissezFranklin'}]}, 'description': {'urls': [{'start': 59, 'end': 82, 'url': 'https://t.co/npyA0gVGYr', 'expanded_url': 'http://Phantomhiphop.com', 'display_url': 'Phantomhiphop.com'}], 'mentions': [{'start': 44, 'end': 58, 'username': 'Phantomhiphop'}, {'start': 83, 'end': 104, 'username': 'TheCherryFranklinSho'}, {'start': 111, 'end': 124, 'username': 'MissezCherry'}]}}, 'profile_image_url': 'https://pbs.twimg.com/profile_images/1033964007076450304/jLOAcS-D_normal.jpg', 'id': '1115183858', 'public_metrics': {'followers_count': 960, 'following_count': 2270, 'tweet_count': 43688, 'listed_count': 27}, 'location': 'RIP BRISTOW THA KIDD'}, '__twarc': {'url': 'https://api.twitter.com/2/tweets/search/all?expansions=author_id%2Cin_reply_to_user_id%2Creferenced_tweets.id%2Creferenced_tweets.id.author_id%2Centities.mentions.username%2Cattachments.poll_ids%2Cattachments.media_keys%2Cgeo.place_id&user.fields=created_at%2Cdescription%2Centities%2Cid%2Clocation%2Cname%2Cpinned_tweet_id%2Cprofile_image_url%2Cprotected%2Cpublic_metrics%2Curl%2Cusername%2Cverified%2Cwithheld&tweet.fields=attachments%2Cauthor_id%2Ccontext_annotations%2Cconversation_id%2Ccreated_at%2Centities%2Cgeo%2Cid%2Cin_reply_to_user_id%2Clang%2Cpublic_metrics%2Ctext%2Cpossibly_sensitive%2Creferenced_tweets%2Creply_settings%2Csource%2Cwithheld&media.fields=duration_ms%2Cheight%2Cmedia_key%2Cpreview_image_url%2Ctype%2Curl%2Cwidth%2Cpublic_metrics&poll.fields=duration_minutes%2Cend_datetime%2Cid%2Coptions%2Cvoting_status&place.fields=contained_within%2Ccountry%2Ccountry_code%2Cfull_name%2Cgeo%2Cid%2Cname%2Cplace_type&max_results=500&query=covid+lang%3Aen+-is%3Aretweet&start_time=2020-01-01T00%3A00%3A00%2B00%3A00&end_time=2020-01-31T00%3A00%3A00%2B00%3A00', 'version': '2.0.13', 'retrieved_at': '2021-05-24T22:54:03+00:00'}}\n",
      "{'conversation_id': '1214587850622197761', 'source': 'Facebook', 'created_at': '2020-01-07T16:41:24.000Z', 'text': 'My town https://t.co/0pVSs2ZTsA{{site_source_name}}&amp;s={{placement}}', 'possibly_sensitive': False, 'public_metrics': {'retweet_count': 0, 'reply_count': 0, 'like_count': 0, 'quote_count': 0}, 'id': '1214587850622197761', 'author_id': '725487336', 'lang': 'en', 'entities': {'urls': [{'start': 8, 'end': 31, 'url': 'https://t.co/0pVSs2ZTsA', 'expanded_url': 'https://www.fortunebuilderspaul.com/Direct/?did=6eee0af6-6c05-e911-93fe-a0369f1303c6&contact0state=CA&Covid=5bb72dd2-8b4a-e911-93fe-a0369f1303c6&MID=11246507&a=', 'display_url': 'fortunebuilderspaul.com/Direct/?did=6e…'}]}, 'reply_settings': 'everyone', 'author': {'name': 'Abdi', 'description': '', 'verified': False, 'username': 'cabdidacar', 'url': '', 'protected': False, 'created_at': '2012-07-30T06:54:47.000Z', 'profile_image_url': 'https://pbs.twimg.com/profile_images/378800000130650804/3380dd7be0113c4f9bbbf139f6a55361_normal.jpeg', 'id': '725487336', 'public_metrics': {'followers_count': 1492, 'following_count': 618, 'tweet_count': 7022, 'listed_count': 2}, 'location': 'USA'}, '__twarc': {'url': 'https://api.twitter.com/2/tweets/search/all?expansions=author_id%2Cin_reply_to_user_id%2Creferenced_tweets.id%2Creferenced_tweets.id.author_id%2Centities.mentions.username%2Cattachments.poll_ids%2Cattachments.media_keys%2Cgeo.place_id&user.fields=created_at%2Cdescription%2Centities%2Cid%2Clocation%2Cname%2Cpinned_tweet_id%2Cprofile_image_url%2Cprotected%2Cpublic_metrics%2Curl%2Cusername%2Cverified%2Cwithheld&tweet.fields=attachments%2Cauthor_id%2Ccontext_annotations%2Cconversation_id%2Ccreated_at%2Centities%2Cgeo%2Cid%2Cin_reply_to_user_id%2Clang%2Cpublic_metrics%2Ctext%2Cpossibly_sensitive%2Creferenced_tweets%2Creply_settings%2Csource%2Cwithheld&media.fields=duration_ms%2Cheight%2Cmedia_key%2Cpreview_image_url%2Ctype%2Curl%2Cwidth%2Cpublic_metrics&poll.fields=duration_minutes%2Cend_datetime%2Cid%2Coptions%2Cvoting_status&place.fields=contained_within%2Ccountry%2Ccountry_code%2Cfull_name%2Cgeo%2Cid%2Cname%2Cplace_type&max_results=500&query=covid+lang%3Aen+-is%3Aretweet&start_time=2020-01-01T00%3A00%3A00%2B00%3A00&end_time=2020-01-31T00%3A00%3A00%2B00%3A00', 'version': '2.0.13', 'retrieved_at': '2021-05-24T22:54:03+00:00'}}\n",
      "{'conversation_id': '1214271633369767939', 'source': 'Facebook', 'created_at': '2020-01-06T19:44:52.000Z', 'text': 'Free Event 1/6-1/11 https://t.co/rxhGkGD6JZ{{site_source_name}}&amp;s={{placement}}', 'possibly_sensitive': False, 'public_metrics': {'retweet_count': 0, 'reply_count': 0, 'like_count': 0, 'quote_count': 0}, 'id': '1214271633369767939', 'author_id': '3219505790', 'lang': 'en', 'entities': {'urls': [{'start': 20, 'end': 43, 'url': 'https://t.co/rxhGkGD6JZ', 'expanded_url': 'https://www.fortunebuildersinfo.com/Direct/?did=ee3603b5-8d5f-e411-93f1-a0369f1303c6&contact0state=mi&Covid=35939285-eb8f-4b2d-9052-c4319cbf2780&MID=11193499&a=', 'display_url': 'fortunebuildersinfo.com/Direct/?did=ee…'}]}, 'reply_settings': 'everyone', 'author': {'name': 'Janette Diamond', 'description': '', 'verified': False, 'username': 'CegielskJanette', 'url': '', 'protected': False, 'created_at': '2015-05-18T15:06:15.000Z', 'profile_image_url': 'https://pbs.twimg.com/profile_images/604006823679545345/d9LdfUC6_normal.jpg', 'id': '3219505790', 'public_metrics': {'followers_count': 16, 'following_count': 66, 'tweet_count': 9580, 'listed_count': 0}}, '__twarc': {'url': 'https://api.twitter.com/2/tweets/search/all?expansions=author_id%2Cin_reply_to_user_id%2Creferenced_tweets.id%2Creferenced_tweets.id.author_id%2Centities.mentions.username%2Cattachments.poll_ids%2Cattachments.media_keys%2Cgeo.place_id&user.fields=created_at%2Cdescription%2Centities%2Cid%2Clocation%2Cname%2Cpinned_tweet_id%2Cprofile_image_url%2Cprotected%2Cpublic_metrics%2Curl%2Cusername%2Cverified%2Cwithheld&tweet.fields=attachments%2Cauthor_id%2Ccontext_annotations%2Cconversation_id%2Ccreated_at%2Centities%2Cgeo%2Cid%2Cin_reply_to_user_id%2Clang%2Cpublic_metrics%2Ctext%2Cpossibly_sensitive%2Creferenced_tweets%2Creply_settings%2Csource%2Cwithheld&media.fields=duration_ms%2Cheight%2Cmedia_key%2Cpreview_image_url%2Ctype%2Curl%2Cwidth%2Cpublic_metrics&poll.fields=duration_minutes%2Cend_datetime%2Cid%2Coptions%2Cvoting_status&place.fields=contained_within%2Ccountry%2Ccountry_code%2Cfull_name%2Cgeo%2Cid%2Cname%2Cplace_type&max_results=500&query=covid+lang%3Aen+-is%3Aretweet&start_time=2020-01-01T00%3A00%3A00%2B00%3A00&end_time=2020-01-31T00%3A00%3A00%2B00%3A00', 'version': '2.0.13', 'retrieved_at': '2021-05-24T22:54:03+00:00'}}\n",
      "{'conversation_id': '1213250516374953985', 'source': 'Facebook', 'created_at': '2020-01-04T00:07:18.000Z', 'text': 'Free Event 1/6-1/11 https://t.co/rxhGkGD6JZ{{site_source_name}}&amp;s={{placement}}', 'possibly_sensitive': False, 'public_metrics': {'retweet_count': 0, 'reply_count': 0, 'like_count': 0, 'quote_count': 0}, 'id': '1213250516374953985', 'author_id': '3219505790', 'lang': 'en', 'entities': {'urls': [{'start': 20, 'end': 43, 'url': 'https://t.co/rxhGkGD6JZ', 'expanded_url': 'https://www.fortunebuildersinfo.com/Direct/?did=ee3603b5-8d5f-e411-93f1-a0369f1303c6&contact0state=mi&Covid=35939285-eb8f-4b2d-9052-c4319cbf2780&MID=11193499&a=', 'display_url': 'fortunebuildersinfo.com/Direct/?did=ee…'}]}, 'reply_settings': 'everyone', 'author': {'name': 'Janette Diamond', 'description': '', 'verified': False, 'username': 'CegielskJanette', 'url': '', 'protected': False, 'created_at': '2015-05-18T15:06:15.000Z', 'profile_image_url': 'https://pbs.twimg.com/profile_images/604006823679545345/d9LdfUC6_normal.jpg', 'id': '3219505790', 'public_metrics': {'followers_count': 16, 'following_count': 66, 'tweet_count': 9580, 'listed_count': 0}}, '__twarc': {'url': 'https://api.twitter.com/2/tweets/search/all?expansions=author_id%2Cin_reply_to_user_id%2Creferenced_tweets.id%2Creferenced_tweets.id.author_id%2Centities.mentions.username%2Cattachments.poll_ids%2Cattachments.media_keys%2Cgeo.place_id&user.fields=created_at%2Cdescription%2Centities%2Cid%2Clocation%2Cname%2Cpinned_tweet_id%2Cprofile_image_url%2Cprotected%2Cpublic_metrics%2Curl%2Cusername%2Cverified%2Cwithheld&tweet.fields=attachments%2Cauthor_id%2Ccontext_annotations%2Cconversation_id%2Ccreated_at%2Centities%2Cgeo%2Cid%2Cin_reply_to_user_id%2Clang%2Cpublic_metrics%2Ctext%2Cpossibly_sensitive%2Creferenced_tweets%2Creply_settings%2Csource%2Cwithheld&media.fields=duration_ms%2Cheight%2Cmedia_key%2Cpreview_image_url%2Ctype%2Curl%2Cwidth%2Cpublic_metrics&poll.fields=duration_minutes%2Cend_datetime%2Cid%2Coptions%2Cvoting_status&place.fields=contained_within%2Ccountry%2Ccountry_code%2Cfull_name%2Cgeo%2Cid%2Cname%2Cplace_type&max_results=500&query=covid+lang%3Aen+-is%3Aretweet&start_time=2020-01-01T00%3A00%3A00%2B00%3A00&end_time=2020-01-31T00%3A00%3A00%2B00%3A00', 'version': '2.0.13', 'retrieved_at': '2021-05-24T22:54:03+00:00'}}\n",
      "{'conversation_id': '1212478030234431489', 'source': 'Facebook', 'created_at': '2020-01-01T20:57:43.000Z', 'text': 'Free Event 1/14-1/18 https://t.co/853lekexjS{{site_source_name}}&amp;s={{placement}}', 'possibly_sensitive': False, 'public_metrics': {'retweet_count': 0, 'reply_count': 0, 'like_count': 0, 'quote_count': 0}, 'id': '1212478030234431489', 'author_id': '2745590779', 'lang': 'en', 'entities': {'urls': [{'start': 21, 'end': 44, 'url': 'https://t.co/853lekexjS', 'expanded_url': 'https://www.fortunebuildersinfo.com/Direct/?did=ee3603b5-8d5f-e411-93f1-a0369f1303c6&contact0state=nc&Covid=00ff7752-24c3-e211-af13-782bcb6d4d4c&MID=11207523&a=', 'display_url': 'fortunebuildersinfo.com/Direct/?did=ee…'}]}, 'reply_settings': 'everyone', 'author': {'name': 'Marsha Joyce', 'description': '', 'verified': False, 'username': 'mjoyce17dhc', 'url': '', 'protected': False, 'created_at': '2014-08-19T16:35:09.000Z', 'profile_image_url': 'https://abs.twimg.com/sticky/default_profile_images/default_profile_normal.png', 'id': '2745590779', 'public_metrics': {'followers_count': 3, 'following_count': 1, 'tweet_count': 2332, 'listed_count': 0}}, '__twarc': {'url': 'https://api.twitter.com/2/tweets/search/all?expansions=author_id%2Cin_reply_to_user_id%2Creferenced_tweets.id%2Creferenced_tweets.id.author_id%2Centities.mentions.username%2Cattachments.poll_ids%2Cattachments.media_keys%2Cgeo.place_id&user.fields=created_at%2Cdescription%2Centities%2Cid%2Clocation%2Cname%2Cpinned_tweet_id%2Cprofile_image_url%2Cprotected%2Cpublic_metrics%2Curl%2Cusername%2Cverified%2Cwithheld&tweet.fields=attachments%2Cauthor_id%2Ccontext_annotations%2Cconversation_id%2Ccreated_at%2Centities%2Cgeo%2Cid%2Cin_reply_to_user_id%2Clang%2Cpublic_metrics%2Ctext%2Cpossibly_sensitive%2Creferenced_tweets%2Creply_settings%2Csource%2Cwithheld&media.fields=duration_ms%2Cheight%2Cmedia_key%2Cpreview_image_url%2Ctype%2Curl%2Cwidth%2Cpublic_metrics&poll.fields=duration_minutes%2Cend_datetime%2Cid%2Coptions%2Cvoting_status&place.fields=contained_within%2Ccountry%2Ccountry_code%2Cfull_name%2Cgeo%2Cid%2Cname%2Cplace_type&max_results=500&query=covid+lang%3Aen+-is%3Aretweet&start_time=2020-01-01T00%3A00%3A00%2B00%3A00&end_time=2020-01-31T00%3A00%3A00%2B00%3A00', 'version': '2.0.13', 'retrieved_at': '2021-05-24T22:54:03+00:00'}}\n"
     ]
    }
   ],
   "source": [
    "from twarc.client2 import Twarc2\n",
    "from twarc.expansions import flatten\n",
    "\n",
    "# Your bearer token here\n",
    "t = Twarc2(bearer_token='ADD BEARER TOKEN HERE')\n",
    "\n",
    "# Start and end times must be in UTC\n",
    "start_time = datetime.datetime(2020, 1, 1, 0, 0, 0, 0, datetime.timezone.utc)\n",
    "end_time = datetime.datetime(2020, 1, 31, 0, 0, 0, 0, datetime.timezone.utc)\n",
    "\n",
    "# search_results is a generator, max_results is max tweets per page, 500 max for full archive search.\n",
    "search_results = t.search_all(query=\"covid lang:en -is:retweet\", start_time=start_time, end_time=end_time, max_results=500)\n",
    "\n",
    "# # Get just 1 page of results instead of iterating over everything in search_results:\n",
    "# # To get everything use `for page in search_results:`\n",
    "# for page in itertools.islice(search_results, 1):\n",
    "#     # Do something with the page of results:\n",
    "#     # print(page)\n",
    "#     # or alternatively, \"flatten\" results returning 1 tweet at a time, with expansions inline:\n",
    "#     for tweet in flatten(page)['data']:\n",
    "#         # Do something with the tweet\n",
    "#         print(tweet)\n",
    "\n",
    "# this will get all pages\n",
    "for page in search_results:\n",
    "    # flatten applies to a page of results, \n",
    "    # and modifies the original response to append extra info\n",
    "    expanded = flatten(page) \n",
    "    #for tweet in expanded['data']:\n",
    "    for tweet in expanded['data']:\n",
    "        print(tweet)"
   ]
  },
  {
   "cell_type": "code",
   "execution_count": null,
   "metadata": {},
   "outputs": [],
   "source": []
  }
 ],
 "metadata": {
  "kernelspec": {
   "display_name": "Python 3",
   "language": "python",
   "name": "python3"
  },
  "language_info": {
   "codemirror_mode": {
    "name": "ipython",
    "version": 3
   },
   "file_extension": ".py",
   "mimetype": "text/x-python",
   "name": "python",
   "nbconvert_exporter": "python",
   "pygments_lexer": "ipython3",
   "version": "3.7.4"
  }
 },
 "nbformat": 4,
 "nbformat_minor": 2
}
